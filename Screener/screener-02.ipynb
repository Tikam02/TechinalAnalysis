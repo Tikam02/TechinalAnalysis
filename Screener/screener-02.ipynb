{
 "cells": [
  {
   "cell_type": "markdown",
   "id": "fb4c77e0-f8b7-47fa-b514-35c5161ee7ca",
   "metadata": {},
   "source": [
    "# Screener 02\n",
    "\n",
    "https://readmedium.com/en/https:/wire.insiderfinance.io/identifying-breakout-stocks-with-python-a-data-driven-selection-guide-d8a3d1ba172e\n",
    "https://github.com/shashankvemuri/Finance/blob/master/find_stocks/get_rsi_tickers.py\n",
    "\n",
    "https://medium.com/@redeaddiscolll\n",
    "https://medium.com/@py.chin315\n",
    "https://github.com/peiyingchin/Medium/blob/main/Trading%20strategy%20with%2055%25%20win%20chance/Trading%20strategy%20with%2055%25%20win%20chance.ipynb"
   ]
  },
  {
   "cell_type": "code",
   "execution_count": 2,
   "id": "00beccde-3951-4426-a338-29a19777f853",
   "metadata": {},
   "outputs": [
    {
     "ename": "KeyError",
     "evalue": "['Target Price', 'P/E']",
     "output_type": "error",
     "traceback": [
      "\u001b[0;31m---------------------------------------------------------------------------\u001b[0m",
      "\u001b[0;31mKeyError\u001b[0m                                  Traceback (most recent call last)",
      "\u001b[0;32m/tmp/ipykernel_27437/3637564337.py\u001b[0m in \u001b[0;36m?\u001b[0;34m()\u001b[0m\n\u001b[1;32m     27\u001b[0m     \u001b[0;32mreturn\u001b[0m \u001b[0mtop_candidates\u001b[0m\u001b[0;34m[\u001b[0m\u001b[0;34m[\u001b[0m\u001b[0;34m'Ticker'\u001b[0m\u001b[0;34m,\u001b[0m \u001b[0;34m'Company'\u001b[0m\u001b[0;34m,\u001b[0m \u001b[0;34m'Sector'\u001b[0m\u001b[0;34m,\u001b[0m \u001b[0;34m'Industry'\u001b[0m\u001b[0;34m,\u001b[0m \u001b[0;34m'Price'\u001b[0m\u001b[0;34m,\u001b[0m \u001b[0;34m'Volume'\u001b[0m\u001b[0;34m,\u001b[0m \u001b[0;34m'P/E'\u001b[0m\u001b[0;34m,\u001b[0m \u001b[0;34m'Target Price'\u001b[0m\u001b[0;34m,\u001b[0m \u001b[0;34m'Price to Target %'\u001b[0m\u001b[0;34m,\u001b[0m \u001b[0;34m'Composite Score'\u001b[0m\u001b[0;34m]\u001b[0m\u001b[0;34m]\u001b[0m\u001b[0;34m\u001b[0m\u001b[0;34m\u001b[0m\u001b[0m\n\u001b[1;32m     28\u001b[0m \u001b[0;34m\u001b[0m\u001b[0m\n\u001b[1;32m     29\u001b[0m \u001b[0;31m# Usage of the function with the path to the CSV file\u001b[0m\u001b[0;34m\u001b[0m\u001b[0;34m\u001b[0m\u001b[0m\n\u001b[1;32m     30\u001b[0m \u001b[0mcsv_file_path\u001b[0m \u001b[0;34m=\u001b[0m \u001b[0;34m'nifty50_symbols.txt'\u001b[0m  \u001b[0;31m# Replace with your actual file path\u001b[0m\u001b[0;34m\u001b[0m\u001b[0;34m\u001b[0m\u001b[0m\n\u001b[0;32m---> 31\u001b[0;31m \u001b[0mselected_stocks\u001b[0m \u001b[0;34m=\u001b[0m \u001b[0mselect_breakout_candidates\u001b[0m\u001b[0;34m(\u001b[0m\u001b[0mcsv_file_path\u001b[0m\u001b[0;34m)\u001b[0m\u001b[0;34m\u001b[0m\u001b[0;34m\u001b[0m\u001b[0m\n\u001b[0m\u001b[1;32m     32\u001b[0m \u001b[0;34m\u001b[0m\u001b[0m\n\u001b[1;32m     33\u001b[0m \u001b[0;31m# Display the selected stocks\u001b[0m\u001b[0;34m\u001b[0m\u001b[0;34m\u001b[0m\u001b[0m\n\u001b[1;32m     34\u001b[0m \u001b[0mselected_stocks\u001b[0m\u001b[0;34m\u001b[0m\u001b[0;34m\u001b[0m\u001b[0m\n",
      "\u001b[0;32m/tmp/ipykernel_27437/3637564337.py\u001b[0m in \u001b[0;36m?\u001b[0;34m(csv_path)\u001b[0m\n\u001b[1;32m      5\u001b[0m     \u001b[0;31m# Load the dataset\u001b[0m\u001b[0;34m\u001b[0m\u001b[0;34m\u001b[0m\u001b[0m\n\u001b[1;32m      6\u001b[0m     \u001b[0mstock_data\u001b[0m \u001b[0;34m=\u001b[0m \u001b[0mpd\u001b[0m\u001b[0;34m.\u001b[0m\u001b[0mread_csv\u001b[0m\u001b[0;34m(\u001b[0m\u001b[0mcsv_path\u001b[0m\u001b[0;34m)\u001b[0m\u001b[0;34m\u001b[0m\u001b[0;34m\u001b[0m\u001b[0m\n\u001b[1;32m      7\u001b[0m \u001b[0;34m\u001b[0m\u001b[0m\n\u001b[1;32m      8\u001b[0m     \u001b[0;31m# Preprocessing and filtering based on the provided criteria\u001b[0m\u001b[0;34m\u001b[0m\u001b[0;34m\u001b[0m\u001b[0m\n\u001b[0;32m----> 9\u001b[0;31m     \u001b[0mstock_data_filtered\u001b[0m \u001b[0;34m=\u001b[0m \u001b[0mstock_data\u001b[0m\u001b[0;34m.\u001b[0m\u001b[0mdropna\u001b[0m\u001b[0;34m(\u001b[0m\u001b[0msubset\u001b[0m\u001b[0;34m=\u001b[0m\u001b[0;34m[\u001b[0m\u001b[0;34m'Target Price'\u001b[0m\u001b[0;34m,\u001b[0m \u001b[0;34m'P/E'\u001b[0m\u001b[0;34m]\u001b[0m\u001b[0;34m)\u001b[0m\u001b[0;34m\u001b[0m\u001b[0;34m\u001b[0m\u001b[0m\n\u001b[0m\u001b[1;32m     10\u001b[0m     \u001b[0mstock_data_filtered\u001b[0m \u001b[0;34m=\u001b[0m \u001b[0mstock_data_filtered\u001b[0m\u001b[0;34m[\u001b[0m\u001b[0mstock_data_filtered\u001b[0m\u001b[0;34m[\u001b[0m\u001b[0;34m'Price'\u001b[0m\u001b[0;34m]\u001b[0m \u001b[0;34m<\u001b[0m \u001b[0mstock_data_filtered\u001b[0m\u001b[0;34m[\u001b[0m\u001b[0;34m'Target Price'\u001b[0m\u001b[0;34m]\u001b[0m\u001b[0;34m]\u001b[0m\u001b[0;34m\u001b[0m\u001b[0;34m\u001b[0m\u001b[0m\n\u001b[1;32m     11\u001b[0m \u001b[0;34m\u001b[0m\u001b[0m\n\u001b[1;32m     12\u001b[0m     \u001b[0;31m# Calculate additional metrics\u001b[0m\u001b[0;34m\u001b[0m\u001b[0;34m\u001b[0m\u001b[0m\n",
      "\u001b[0;32m~/stock-market/env3/lib/python3.10/site-packages/pandas/core/frame.py\u001b[0m in \u001b[0;36m?\u001b[0;34m(self, axis, how, thresh, subset, inplace, ignore_index)\u001b[0m\n\u001b[1;32m   6414\u001b[0m             \u001b[0max\u001b[0m \u001b[0;34m=\u001b[0m \u001b[0mself\u001b[0m\u001b[0;34m.\u001b[0m\u001b[0m_get_axis\u001b[0m\u001b[0;34m(\u001b[0m\u001b[0magg_axis\u001b[0m\u001b[0;34m)\u001b[0m\u001b[0;34m\u001b[0m\u001b[0;34m\u001b[0m\u001b[0m\n\u001b[1;32m   6415\u001b[0m             \u001b[0mindices\u001b[0m \u001b[0;34m=\u001b[0m \u001b[0max\u001b[0m\u001b[0;34m.\u001b[0m\u001b[0mget_indexer_for\u001b[0m\u001b[0;34m(\u001b[0m\u001b[0msubset\u001b[0m\u001b[0;34m)\u001b[0m\u001b[0;34m\u001b[0m\u001b[0;34m\u001b[0m\u001b[0m\n\u001b[1;32m   6416\u001b[0m             \u001b[0mcheck\u001b[0m \u001b[0;34m=\u001b[0m \u001b[0mindices\u001b[0m \u001b[0;34m==\u001b[0m \u001b[0;34m-\u001b[0m\u001b[0;36m1\u001b[0m\u001b[0;34m\u001b[0m\u001b[0;34m\u001b[0m\u001b[0m\n\u001b[1;32m   6417\u001b[0m             \u001b[0;32mif\u001b[0m \u001b[0mcheck\u001b[0m\u001b[0;34m.\u001b[0m\u001b[0many\u001b[0m\u001b[0;34m(\u001b[0m\u001b[0;34m)\u001b[0m\u001b[0;34m:\u001b[0m\u001b[0;34m\u001b[0m\u001b[0;34m\u001b[0m\u001b[0m\n\u001b[0;32m-> 6418\u001b[0;31m                 \u001b[0;32mraise\u001b[0m \u001b[0mKeyError\u001b[0m\u001b[0;34m(\u001b[0m\u001b[0mnp\u001b[0m\u001b[0;34m.\u001b[0m\u001b[0marray\u001b[0m\u001b[0;34m(\u001b[0m\u001b[0msubset\u001b[0m\u001b[0;34m)\u001b[0m\u001b[0;34m[\u001b[0m\u001b[0mcheck\u001b[0m\u001b[0;34m]\u001b[0m\u001b[0;34m.\u001b[0m\u001b[0mtolist\u001b[0m\u001b[0;34m(\u001b[0m\u001b[0;34m)\u001b[0m\u001b[0;34m)\u001b[0m\u001b[0;34m\u001b[0m\u001b[0;34m\u001b[0m\u001b[0m\n\u001b[0m\u001b[1;32m   6419\u001b[0m             \u001b[0magg_obj\u001b[0m \u001b[0;34m=\u001b[0m \u001b[0mself\u001b[0m\u001b[0;34m.\u001b[0m\u001b[0mtake\u001b[0m\u001b[0;34m(\u001b[0m\u001b[0mindices\u001b[0m\u001b[0;34m,\u001b[0m \u001b[0maxis\u001b[0m\u001b[0;34m=\u001b[0m\u001b[0magg_axis\u001b[0m\u001b[0;34m)\u001b[0m\u001b[0;34m\u001b[0m\u001b[0;34m\u001b[0m\u001b[0m\n\u001b[1;32m   6420\u001b[0m \u001b[0;34m\u001b[0m\u001b[0m\n\u001b[1;32m   6421\u001b[0m         \u001b[0;32mif\u001b[0m \u001b[0mthresh\u001b[0m \u001b[0;32mis\u001b[0m \u001b[0;32mnot\u001b[0m \u001b[0mlib\u001b[0m\u001b[0;34m.\u001b[0m\u001b[0mno_default\u001b[0m\u001b[0;34m:\u001b[0m\u001b[0;34m\u001b[0m\u001b[0;34m\u001b[0m\u001b[0m\n",
      "\u001b[0;31mKeyError\u001b[0m: ['Target Price', 'P/E']"
     ]
    }
   ],
   "source": [
    "import pandas as pd\n",
    "\n",
    "# Define the function to load data and select breakout stock candidates\n",
    "def select_breakout_candidates(csv_path):\n",
    "    # Load the dataset\n",
    "    stock_data = pd.read_csv(csv_path)\n",
    "    \n",
    "    # Preprocessing and filtering based on the provided criteria\n",
    "    stock_data_filtered = stock_data.dropna(subset=['Target Price', 'P/E'])\n",
    "    stock_data_filtered = stock_data_filtered[stock_data_filtered['Price'] < stock_data_filtered['Target Price']]\n",
    "    \n",
    "    # Calculate additional metrics\n",
    "    stock_data_filtered['Price to Target %'] = ((stock_data_filtered['Target Price'] - stock_data_filtered['Price']) / stock_data_filtered['Price']) * 100\n",
    "    stock_data_filtered['Change Percentile'] = stock_data_filtered['Change'].rank(pct=True)\n",
    "    stock_data_filtered['Volume Percentile'] = stock_data_filtered['Volume'].rank(pct=True)\n",
    "    stock_data_filtered['Price to Target Percentile'] = stock_data_filtered['Price to Target %'].rank(pct=True)\n",
    "    stock_data_filtered['Composite Score'] = stock_data_filtered[['Change Percentile', 'Volume Percentile', 'Price to Target Percentile']].mean(axis=1)\n",
    "    \n",
    "    # Exclude overvalued stocks based on P/E ratio threshold\n",
    "    pe_threshold = stock_data_filtered['P/E'].quantile(0.80)\n",
    "    candidates = stock_data_filtered[stock_data_filtered['P/E'] <= pe_threshold]\n",
    "    \n",
    "    # Select top candidates based on composite score\n",
    "    top_candidates = candidates.sort_values(by='Composite Score', ascending=False).head(8)\n",
    "    \n",
    "    # Return the selection with relevant information for the article\n",
    "    return top_candidates[['Ticker', 'Company', 'Sector', 'Industry', 'Price', 'Volume', 'P/E', 'Target Price', 'Price to Target %', 'Composite Score']]\n",
    "\n",
    "# Usage of the function with the path to the CSV file\n",
    "csv_file_path = 'nifty50_symbols.txt'  # Replace with your actual file path\n",
    "selected_stocks = select_breakout_candidates(csv_file_path)\n",
    "\n",
    "# Display the selected stocks\n",
    "selected_stocks"
   ]
  },
  {
   "cell_type": "markdown",
   "id": "37410db1-243b-4ee7-8b04-e89389d3b0ec",
   "metadata": {},
   "source": [
    "## RSI"
   ]
  },
  {
   "cell_type": "code",
   "execution_count": null,
   "id": "0e7dd783-c120-4588-94bb-3ff8ddc3a575",
   "metadata": {},
   "outputs": [],
   "source": [
    "# Import Dependencies\n",
    "import datetime\n",
    "from pandas_datareader import data as pdr\n",
    "import sys\n",
    "import os\n",
    "parent_dir = os.path.dirname(os.getcwd())\n",
    "sys.path.append(parent_dir)\n",
    "import ta_functions as ta\n",
    "import tickers as ti\n",
    "\n",
    "# Get dates for the past year\n",
    "start_date = datetime.datetime.now() - datetime.timedelta(days=365)\n",
    "end_date = datetime.date.today()\n",
    "\n",
    "# Load list of S&P 500 tickers from tickers module\n",
    "tickers = ti.tickers_sp500()\n",
    "\n",
    "# Initialize lists for overbought and oversold tickers\n",
    "oversold_tickers = []\n",
    "overbought_tickers = []\n",
    "\n",
    "# Retrieve adjusted close prices for the tickers\n",
    "sp500_data = pdr.get_data_yahoo(tickers, start_date, end_date)['Adj Close']\n",
    "\n",
    "# Analyze each ticker for RSI\n",
    "for ticker in tickers:\n",
    "    try:\n",
    "        # Create a new DataFrame for the ticker\n",
    "        data = sp500_data[[ticker]].copy()\n",
    "\n",
    "        # Calculate the RSI for the ticker\n",
    "        data[\"rsi\"] = ta.RSI(data[ticker], timeperiod=14)\n",
    "\n",
    "        # Calculate the mean of the last 14 RSI values\n",
    "        mean_rsi = data[\"rsi\"].tail(14).mean()\n",
    "\n",
    "        # Print the RSI value\n",
    "        print(f'{ticker} has an RSI value of {round(mean_rsi, 2)}')\n",
    "\n",
    "        # Classify the ticker based on its RSI value\n",
    "        if mean_rsi <= 30:\n",
    "            oversold_tickers.append(ticker)\n",
    "        elif mean_rsi >= 70:\n",
    "            overbought_tickers.append(ticker)\n",
    "\n",
    "    except Exception as e:\n",
    "        print(f'Error processing {ticker}: {e}')\n",
    "\n",
    "# Output the lists of oversold and overbought tickers\n",
    "print(f'Oversold tickers: {oversold_tickers}')\n",
    "print(f'Overbought tickers: {overbought_tickers}')"
   ]
  }
 ],
 "metadata": {
  "kernelspec": {
   "display_name": "Python 3 (ipykernel)",
   "language": "python",
   "name": "python3"
  },
  "language_info": {
   "codemirror_mode": {
    "name": "ipython",
    "version": 3
   },
   "file_extension": ".py",
   "mimetype": "text/x-python",
   "name": "python",
   "nbconvert_exporter": "python",
   "pygments_lexer": "ipython3",
   "version": "3.10.12"
  }
 },
 "nbformat": 4,
 "nbformat_minor": 5
}
