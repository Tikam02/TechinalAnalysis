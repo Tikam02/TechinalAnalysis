{
 "cells": [
  {
   "cell_type": "code",
   "execution_count": 1,
   "id": "8253da56-55f5-42a1-bf0e-2257cc56558e",
   "metadata": {},
   "outputs": [],
   "source": [
    "# RSI Scanner"
   ]
  },
  {
   "cell_type": "code",
   "execution_count": 2,
   "id": "b2c282d5-fee2-4c14-9fa9-3271544e43b3",
   "metadata": {},
   "outputs": [
    {
     "name": "stderr",
     "output_type": "stream",
     "text": [
      "[*********************100%%**********************]  1 of 1 completed"
     ]
    },
    {
     "name": "stdout",
     "output_type": "stream",
     "text": [
      "              RSI Return_5d Return_10d Return_20d\n",
      "Date                                             \n",
      "2010-09-15  80.01   2.21892   2.224035   6.363298\n",
      "2014-04-02  80.23  0.649386   0.964082  -1.480922\n",
      "2014-05-19  81.07  1.314784   1.362284   3.717191\n",
      "2014-06-09  80.59 -1.581406  -2.106576   1.731636\n",
      "2018-01-23  82.11 -0.505246   -5.47651  -6.324603\n",
      "2020-12-17  80.77  0.062222    2.02173   5.043411\n",
      "2021-01-12  80.92 -0.290452  -4.092095   3.728854\n",
      "2021-08-31  82.49   1.34192   2.260364   3.380194\n",
      "2022-08-12  80.48 -1.172163  -2.176781   2.101352\n",
      "2023-07-20  80.57 -1.597916  -2.990618  -3.348491\n",
      "2023-12-04  81.84  1.499985   3.537761   4.014873\n",
      "2023-12-14  82.27   0.34156   2.590327   4.318383\n"
     ]
    },
    {
     "name": "stderr",
     "output_type": "stream",
     "text": [
      "\n"
     ]
    }
   ],
   "source": [
    "import yfinance as yf\n",
    "import pandas as pd\n",
    "import pandas_ta as ta\n",
    "\n",
    "# Download historical data for a stock/index (e.g., ^NSEI - NIFTY 50)\n",
    "ticker = '^NSEI'\n",
    "df = yf.download(ticker, start=\"2010-01-01\")\n",
    "\n",
    "# Calculate RSI using 'Adj Close'\n",
    "df['RSI'] = ta.rsi(df['Adj Close'], length=14)\n",
    "\n",
    "# Identify the dates where RSI crosses above 80\n",
    "cross_above_80 = (df['RSI'] > 80) & (df['RSI'].shift(1) <= 80)\n",
    "\n",
    "# Initialize columns for returns\n",
    "df['Return_5d'] = pd.NA\n",
    "df['Return_10d'] = pd.NA\n",
    "df['Return_20d'] = pd.NA\n",
    "\n",
    "skip_days = 0  # Days to skip after finding a cross above 80\n",
    "\n",
    "# Calculate returns for next 5, 10, and 20 days with non-interleaving for 5-day returns\n",
    "for i in range(len(df)):\n",
    "    if skip_days > 0:\n",
    "        # If any crossover happens interleaving then convert it to False\n",
    "        cross_above_80.iloc[i] = False\n",
    "        # Skip this day and decrement skip_days\n",
    "        skip_days -= 1\n",
    "        continue\n",
    "\n",
    "    if (cross_above_80.iloc[i]):\n",
    "        # Found a cross above 80, set skip_days\n",
    "        skip_days = 5\n",
    "\n",
    "        # Calculate returns\n",
    "        if i + 5 < len(df):\n",
    "            df.at[df.index[i], 'Return_5d'] = (df['Adj Close'].iloc[i + 5] / df['Adj Close'].iloc[i] - 1) * 100\n",
    "        if i + 10 < len(df):\n",
    "            df.at[df.index[i], 'Return_10d'] = (df['Adj Close'].iloc[i + 10] / df['Adj Close'].iloc[i] - 1) * 100\n",
    "        if i + 20 < len(df):\n",
    "            df.at[df.index[i], 'Return_20d'] = (df['Adj Close'].iloc[i + 20] / df['Adj Close'].iloc[i] - 1) * 100\n",
    "\n",
    "\n",
    "\n",
    "# Filter rows where RSI crossed above 80\n",
    "cross_above_80_df = df[cross_above_80][['RSI', 'Return_5d', 'Return_10d', 'Return_20d']]\n",
    "\n",
    "# Round the returns to two decimals\n",
    "cross_above_80_df = cross_above_80_df.round(2)\n",
    "\n",
    "# Display the results in table format\n",
    "print(cross_above_80_df)"
   ]
  },
  {
   "cell_type": "code",
   "execution_count": null,
   "id": "3fe91470-471e-4c72-a71a-bce5e0ef5ea0",
   "metadata": {},
   "outputs": [],
   "source": []
  }
 ],
 "metadata": {
  "kernelspec": {
   "display_name": "Python 3 (ipykernel)",
   "language": "python",
   "name": "python3"
  },
  "language_info": {
   "codemirror_mode": {
    "name": "ipython",
    "version": 3
   },
   "file_extension": ".py",
   "mimetype": "text/x-python",
   "name": "python",
   "nbconvert_exporter": "python",
   "pygments_lexer": "ipython3",
   "version": "3.10.12"
  }
 },
 "nbformat": 4,
 "nbformat_minor": 5
}
