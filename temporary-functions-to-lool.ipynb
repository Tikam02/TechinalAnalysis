{
 "cells": [
  {
   "cell_type": "code",
   "execution_count": null,
   "id": "8f7fd404-09c3-450c-a187-90fde125e3da",
   "metadata": {},
   "outputs": [],
   "source": [
    "# Screener"
   ]
  },
  {
   "cell_type": "code",
   "execution_count": 1,
   "id": "0aec6960-329c-4135-a252-3ea8a91a1569",
   "metadata": {},
   "outputs": [],
   "source": [
    "import requests\n",
    "import pandas as pd\n",
    "import numpy as np\n",
    "import yfinance as yf\n",
    "\n",
    "from bs4 import BeautifulSoup\n",
    "from sklearn.preprocessing import StandardScaler"
   ]
  },
  {
   "cell_type": "code",
   "execution_count": 2,
   "id": "b8fde500-df19-4802-9106-e16952f77b39",
   "metadata": {},
   "outputs": [],
   "source": [
    "class Stock:\n",
    "    def __init__(self, ticker, sector):\n",
    "        self.ticker = ticker\n",
    "        self.sector = sector\n",
    "        self.price = 0.0\n",
    "        self.url = f\"https://finance.yahoo.com/quote/{self.ticker}/key-statistics?p={self.ticker}\"\n",
    "        self.data = pd.DataFrame()\n",
    "        # Deep Learning Attributes\n",
    "        self.technical_indicators = pd.DataFrame()\n",
    "        self.today_technical_indicators = pd.DataFrame()\n",
    "        self.labels = pd.DataFrame()\n",
    "        self.prediction = 0.0\n",
    "        # Metrics\n",
    "        self.metrics = {}\n",
    "        self.metric_aliases = {\n",
    "            'Market Cap (intraday)': 'market_cap',\n",
    "            # other key-value pairs\n",
    "        }\n"
   ]
  },
  {
   "cell_type": "code",
   "execution_count": 3,
   "id": "1ad7337f-7ba3-489d-8c67-89323f459701",
   "metadata": {},
   "outputs": [],
   "source": [
    "def get_historical(self):\n",
    "        stock = yf.Ticker(self.ticker)\n",
    "        history = stock.history(start='2010-01-01', end='2023-02-28')\n",
    "        self.data = history"
   ]
  },
  {
   "cell_type": "code",
   "execution_count": 4,
   "id": "e3d71401-1a10-4601-9a8f-4e617a56009d",
   "metadata": {},
   "outputs": [],
   "source": [
    "\n",
    "def add_technical_indicators(self):\n",
    "        # get historical stock prices\n",
    "        prices = self.data\n",
    "        if len(prices) < 20:\n",
    "            return\n",
    "        \n",
    "        # calculate 20-day moving average\n",
    "        prices['MA20'] = prices['Close'].rolling(window=20).mean()\n",
    "        \n",
    "        # calculate 50-day moving average\n",
    "        prices['MA50'] = prices['Close'].rolling(window=50).mean()\n",
    "        \n",
    "        # calculate relative strength index (RSI)\n",
    "        delta = prices['Close'].diff()\n",
    "        gain = delta.where(delta > 0, 0)\n",
    "        loss = -delta.where(delta < 0, 0)\n",
    "        avg_gain = gain.rolling(window=14).mean()\n",
    "        avg_loss = loss.rolling(window=14).mean()\n",
    "        rs = avg_gain / avg_loss\n",
    "        prices['RSI'] = 100 - (100 / (1 + rs))\n",
    "        \n",
    "        # calculate moving average convergence divergence (MACD)\n",
    "        exp1 = prices['Close'].ewm(span=12, adjust=False).mean()\n",
    "        exp2 = prices['Close'].ewm(span=26, adjust=False).mean()\n",
    "        macd = exp1 - exp2\n",
    "        signal = macd.ewm(span=9, adjust=False).mean()\n",
    "        prices['MACD'] = macd - signal\n",
    "        \n",
    "        # calculate Bollinger Bands\n",
    "        prices['20MA'] = prices['Close'].rolling(window=20).mean()\n",
    "        prices['20STD'] = prices['Close'].rolling(window=20).std()\n",
    "        prices['UpperBand'] = prices['20MA'] + (prices['20STD'] * 2)\n",
    "        prices['LowerBand'] = prices['20MA'] - (prices['20STD'] * 2)\n",
    "\n",
    "        # Features for deep learning model\n",
    "        train_data_aux = prices[['Close', 'MA20', 'MA50', 'RSI', 'MACD', 'UpperBand', 'LowerBand']].dropna()\n",
    "        self.technical_indicators = train_data_aux.iloc[:-10, :].drop('Close', axis=1)\n",
    "\n",
    "        # Set label as profit loss of 10 day future price from actual price\n",
    "        labels_aux = (train_data_aux['Close'].shift(-10) > train_data_aux['Close']).astype(int)\n",
    "        self.label =  labels_aux[:-10]\n",
    "\n",
    "        # Today features for prediction\n",
    "        self.today_technical_indicators = prices[['MA20', 'MA50', 'RSI', 'MACD', 'UpperBand', 'LowerBand']].iloc[-1,:] \n",
    "\n",
    "        prices = prices.reset_index()\n",
    "        # store technical indicators in stock data dictionary\n",
    "        self.data.update(prices[['Date', 'MA20', 'MA50', 'RSI', 'MACD', 'UpperBand', 'LowerBand']].to_dict('list'))"
   ]
  },
  {
   "cell_type": "code",
   "execution_count": 6,
   "id": "2e4e70e8-ce15-411e-8338-5d5b9e2d4502",
   "metadata": {},
   "outputs": [],
   "source": [
    "# Train deep learning models on selected stocks\n",
    "def train_models(self):\n",
    "    # Get data for training and testing\n",
    "    filtered_stocks = self.apply_filters()\n",
    "\n",
    "    for stock in filtered_stocks:\n",
    "        train_data = stock.technical_indicators\n",
    "        train_labels = stock.label\n",
    "\n",
    "        # Normalize the data\n",
    "        train_data = self.scaler.fit_transform(train_data)\n",
    "        train_labels = np.array(train_labels)\n",
    "\n",
    "        # Create and train model\n",
    "        model = create_model(train_data)\n",
    "        model.fit(train_data, train_labels, epochs=10)\n",
    "        self.models[stock.ticker] = model"
   ]
  },
  {
   "cell_type": "code",
   "execution_count": 7,
   "id": "eac81806-d438-448b-ab1f-ff4f73f1fbc0",
   "metadata": {},
   "outputs": [],
   "source": [
    "# Predict whether new stocks will pass filters\n",
    "def predict_stocks(self, new_stocks):\n",
    "    # Add technical indicators to new stocks\n",
    "    for stock in new_stocks:\n",
    "        stock.get_historical()\n",
    "        stock.add_technical_indicators()\n",
    "\n",
    "    # Make predictions for each stock using its corresponding model\n",
    "    predicted_stocks = []\n",
    "    for stock in new_stocks:\n",
    "        if stock.ticker in self.models:\n",
    "            model = self.models[stock.ticker]\n",
    "            # Reshape as there is only one sample\n",
    "            new_features_aux = np.array(stock.today_technical_indicators).reshape(1, -1)\n",
    "            new_stock_data = self.scaler.fit_transform(new_features_aux)\n",
    "            prediction = model.predict(new_stock_data)\n",
    "            stock.prediction = prediction\n",
    "            if prediction > 0.5:\n",
    "                predicted_stocks.append(stock)\n",
    "\n",
    "    return predicted_stocks"
   ]
  },
  {
   "cell_type": "code",
   "execution_count": 8,
   "id": "6ccf6241-1f47-4f2b-94af-f17f48a2c35e",
   "metadata": {},
   "outputs": [
    {
     "name": "stderr",
     "output_type": "stream",
     "text": [
      "2024-01-30 19:04:41.702203: I external/local_tsl/tsl/cuda/cudart_stub.cc:31] Could not find cuda drivers on your machine, GPU will not be used.\n",
      "2024-01-30 19:04:41.749483: E external/local_xla/xla/stream_executor/cuda/cuda_dnn.cc:9261] Unable to register cuDNN factory: Attempting to register factory for plugin cuDNN when one has already been registered\n",
      "2024-01-30 19:04:41.749516: E external/local_xla/xla/stream_executor/cuda/cuda_fft.cc:607] Unable to register cuFFT factory: Attempting to register factory for plugin cuFFT when one has already been registered\n",
      "2024-01-30 19:04:41.750917: E external/local_xla/xla/stream_executor/cuda/cuda_blas.cc:1515] Unable to register cuBLAS factory: Attempting to register factory for plugin cuBLAS when one has already been registered\n",
      "2024-01-30 19:04:41.757773: I external/local_tsl/tsl/cuda/cudart_stub.cc:31] Could not find cuda drivers on your machine, GPU will not be used.\n",
      "2024-01-30 19:04:41.758434: I tensorflow/core/platform/cpu_feature_guard.cc:182] This TensorFlow binary is optimized to use available CPU instructions in performance-critical operations.\n",
      "To enable the following instructions: AVX2 FMA, in other operations, rebuild TensorFlow with the appropriate compiler flags.\n",
      "2024-01-30 19:04:42.635067: W tensorflow/compiler/tf2tensorrt/utils/py_utils.cc:38] TF-TRT Warning: Could not find TensorRT\n"
     ]
    }
   ],
   "source": [
    "import tensorflow as tf\n",
    "\n",
    "# Simple Dense model \n",
    "def create_model(train_data):\n",
    "    model = tf.keras.models.Sequential([\n",
    "        tf.keras.layers.Dense(64, input_shape=(train_data.shape[1],), activation='relu'),\n",
    "        tf.keras.layers.Dense(32, activation='relu'),\n",
    "        tf.keras.layers.Dense(1, activation='sigmoid')\n",
    "    ])\n",
    "    model.compile(optimizer='adam', loss='binary_crossentropy', metrics=['accuracy'])\n",
    "    return model"
   ]
  },
  {
   "cell_type": "code",
   "execution_count": 9,
   "id": "a056c6e1-f7b5-4cb1-90f8-a2b715530c8b",
   "metadata": {},
   "outputs": [],
   "source": [
    "def filter_technical_indicator(stock, indicator_name, operator, value):\n",
    "    if indicator_name not in stock.today_technical_indicators:\n",
    "        return False\n",
    "\n",
    "    # Obtain the value of the technical indicator\n",
    "    indicator_value = stock.today_technical_indicators[indicator_name]\n",
    "    \n",
    "    # Check if the value is 'price':\n",
    "    if value == 'price':\n",
    "        value = float(stock.price)\n",
    "    else:\n",
    "        value = float(value)\n",
    "    \n",
    "    # Compare according to operator\n",
    "    if operator == '>':\n",
    "        return float(indicator_value) > value\n",
    "    elif operator == '>=':\n",
    "        return float(indicator_value) >= value\n",
    "    elif operator == '<':\n",
    "        return float(indicator_value) < value\n",
    "    elif operator == '<=':\n",
    "        return float(indicator_value) <= value\n",
    "    elif operator == '==':\n",
    "        return float(indicator_value) == value\n",
    "    else:\n",
    "        return False"
   ]
  },
  {
   "cell_type": "code",
   "execution_count": 12,
   "id": "df2691b6-a8a5-4e1a-9854-751fab5544db",
   "metadata": {},
   "outputs": [
    {
     "ename": "AttributeError",
     "evalue": "'Stock' object has no attribute 'add_data'",
     "output_type": "error",
     "traceback": [
      "\u001b[0;31m---------------------------------------------------------------------------\u001b[0m",
      "\u001b[0;31mAttributeError\u001b[0m                            Traceback (most recent call last)",
      "Cell \u001b[0;32mIn[12], line 16\u001b[0m\n\u001b[1;32m     14\u001b[0m screener \u001b[38;5;241m=\u001b[39m Stock(sp500_stocks, filters)\n\u001b[1;32m     15\u001b[0m \u001b[38;5;66;03m# Add Data\u001b[39;00m\n\u001b[0;32m---> 16\u001b[0m \u001b[43mscreener\u001b[49m\u001b[38;5;241;43m.\u001b[39;49m\u001b[43madd_data\u001b[49m()\n\u001b[1;32m     17\u001b[0m \u001b[38;5;66;03m# Apply Filters\u001b[39;00m\n\u001b[1;32m     18\u001b[0m filtered_stocks \u001b[38;5;241m=\u001b[39m screener\u001b[38;5;241m.\u001b[39mapply_filters()\n",
      "\u001b[0;31mAttributeError\u001b[0m: 'Stock' object has no attribute 'add_data'"
     ]
    }
   ],
   "source": [
    "# Run example with 2 stocks\n",
    "filters = [lambda stock: filter_sector(stock, 'Interactive Media & Services'),\n",
    "           lambda stock: filter_price(stock, 60, 200),\n",
    "           lambda stock: filter_metric(stock, 'profit_margin', '>', 15),\n",
    "           lambda stock: filter_technical_indicator(stock, 'UpperBand', '>', 'price'),\n",
    "           lambda stock: filter_technical_indicator(stock, 'LowerBand', '<', 'price'),\n",
    "]\n",
    "\n",
    "sp500_stocks = [Stock('GOOGL', 'Interactive Media & Services'), \n",
    "                Stock('GOOG', 'Interactive Media & Services')\n",
    "]\n",
    "\n",
    "# Screener\n",
    "screener = Stock(sp500_stocks, filters)\n",
    "# Add Data\n",
    "screener.add_data()\n",
    "# Apply Filters\n",
    "filtered_stocks = screener.apply_filters()\n",
    "# Train model\n",
    "screener.train_models()\n",
    "# Make predictions\n",
    "predicted_stocks = screener.predict_stocks(filtered_stocks)"
   ]
  },
  {
   "cell_type": "code",
   "execution_count": null,
   "id": "bb1a55ee-0ffa-4bde-ab6d-01f37b5b3c67",
   "metadata": {},
   "outputs": [],
   "source": []
  }
 ],
 "metadata": {
  "kernelspec": {
   "display_name": "Python 3 (ipykernel)",
   "language": "python",
   "name": "python3"
  },
  "language_info": {
   "codemirror_mode": {
    "name": "ipython",
    "version": 3
   },
   "file_extension": ".py",
   "mimetype": "text/x-python",
   "name": "python",
   "nbconvert_exporter": "python",
   "pygments_lexer": "ipython3",
   "version": "3.10.12"
  }
 },
 "nbformat": 4,
 "nbformat_minor": 5
}
