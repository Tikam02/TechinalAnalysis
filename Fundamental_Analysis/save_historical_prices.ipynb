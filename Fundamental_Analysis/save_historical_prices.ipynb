{
 "cells": [
  {
   "cell_type": "code",
   "execution_count": null,
   "id": "d23659e5-680f-47b4-a735-dd8f4e367fbd",
   "metadata": {},
   "outputs": [],
   "source": [
    "## Download historical price and save it as csv"
   ]
  },
  {
   "cell_type": "code",
   "execution_count": null,
   "id": "83c89766-9659-4119-8655-24c8bcb953d7",
   "metadata": {},
   "outputs": [],
   "source": [
    "import yfinance as yf\n",
    "\n",
    "# Specify the stock symbol and the date range\n",
    "stock_symbol = 'AAPL'  # Example: Apple Inc.\n",
    "start_date = '2022-01-01'\n",
    "end_date = '2022-12-31'\n",
    "\n",
    "# Download historical stock data\n",
    "stock_data = yf.download(stock_symbol, start=start_date, end=end_date)\n",
    "\n",
    "# Save the data to a CSV file\n",
    "csv_file_path = f'{stock_symbol}_historical_prices.csv'\n",
    "stock_data.to_csv(csv_file_path)\n",
    "\n",
    "print(f'Historical stock prices saved to {csv_file_path}')\n"
   ]
  },
  {
   "cell_type": "code",
   "execution_count": 4,
   "id": "38307a43-f150-46ff-9390-0cb1a9514084",
   "metadata": {},
   "outputs": [
    {
     "name": "stderr",
     "output_type": "stream",
     "text": [
      "[*********************100%%**********************]  1 of 1 completed"
     ]
    },
    {
     "name": "stdout",
     "output_type": "stream",
     "text": [
      "Historical stock prices saved to ./HSCL.NS_historical_prices.csv\n"
     ]
    },
    {
     "name": "stderr",
     "output_type": "stream",
     "text": [
      "\n"
     ]
    }
   ],
   "source": [
    "import yfinance as yf\n",
    "\n",
    "# Specify the stock symbol and the date range\n",
    "stock_symbol = 'HSCL.NS'  # Example: Apple Inc.\n",
    "start_date = '2022-01-01'\n",
    "end_date = '2023-04-30'\n",
    "\n",
    "# Download historical stock data\n",
    "stock_data = yf.download(stock_symbol, start=start_date, end=end_date)\n",
    "\n",
    "# Specify the path where you want to save the CSV file\n",
    "save_path = './'\n",
    "csv_file_path = f'{save_path}{stock_symbol}_historical_prices.csv'\n",
    "\n",
    "# Save the data to a CSV file\n",
    "stock_data.to_csv(csv_file_path)\n",
    "\n",
    "print(f'Historical stock prices saved to {csv_file_path}')\n"
   ]
  },
  {
   "cell_type": "code",
   "execution_count": 6,
   "id": "99adb2d3-6cb7-424e-9204-ea1ecd35a19d",
   "metadata": {},
   "outputs": [
    {
     "name": "stderr",
     "output_type": "stream",
     "text": [
      "[*********************100%%**********************]  1 of 1 completed\n"
     ]
    },
    {
     "ename": "NameError",
     "evalue": "name 'df' is not defined",
     "output_type": "error",
     "traceback": [
      "\u001b[0;31m---------------------------------------------------------------------------\u001b[0m",
      "\u001b[0;31mNameError\u001b[0m                                 Traceback (most recent call last)",
      "Cell \u001b[0;32mIn[6], line 25\u001b[0m\n\u001b[1;32m     22\u001b[0m stock_prices \u001b[38;5;241m=\u001b[39m pd\u001b[38;5;241m.\u001b[39mread_csv(stock_prices_csv, parse_dates\u001b[38;5;241m=\u001b[39m[\u001b[38;5;124m'\u001b[39m\u001b[38;5;124mDate\u001b[39m\u001b[38;5;124m'\u001b[39m])\n\u001b[1;32m     24\u001b[0m \u001b[38;5;66;03m# Assuming 'df' is your DataFrame containing OPM% and EPS data\u001b[39;00m\n\u001b[0;32m---> 25\u001b[0m opm_row \u001b[38;5;241m=\u001b[39m \u001b[43mdf\u001b[49m\u001b[38;5;241m.\u001b[39miloc[\u001b[38;5;241m3\u001b[39m]\n\u001b[1;32m     26\u001b[0m eps_row \u001b[38;5;241m=\u001b[39m df\u001b[38;5;241m.\u001b[39miloc[\u001b[38;5;241m10\u001b[39m]\n\u001b[1;32m     28\u001b[0m \u001b[38;5;66;03m# Convert the 'OPM %' values to numeric\u001b[39;00m\n",
      "\u001b[0;31mNameError\u001b[0m: name 'df' is not defined"
     ]
    }
   ],
   "source": []
  },
  {
   "cell_type": "code",
   "execution_count": null,
   "id": "4ad647f2-bf54-479f-bfae-c2f3cbfe9de8",
   "metadata": {},
   "outputs": [],
   "source": []
  }
 ],
 "metadata": {
  "kernelspec": {
   "display_name": "Python 3 (ipykernel)",
   "language": "python",
   "name": "python3"
  },
  "language_info": {
   "codemirror_mode": {
    "name": "ipython",
    "version": 3
   },
   "file_extension": ".py",
   "mimetype": "text/x-python",
   "name": "python",
   "nbconvert_exporter": "python",
   "pygments_lexer": "ipython3",
   "version": "3.10.12"
  }
 },
 "nbformat": 4,
 "nbformat_minor": 5
}
