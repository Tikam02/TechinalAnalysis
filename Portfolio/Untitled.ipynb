{
 "cells": [
  {
   "cell_type": "code",
   "execution_count": 3,
   "id": "5e36042d-1839-484b-a36b-c7158638ff51",
   "metadata": {},
   "outputs": [
    {
     "name": "stdout",
     "output_type": "stream",
     "text": [
      "\n",
      "pulling MMM\n"
     ]
    },
    {
     "name": "stderr",
     "output_type": "stream",
     "text": [
      "[*********************100%%**********************]  1 of 1 completed\n"
     ]
    },
    {
     "name": "stdout",
     "output_type": "stream",
     "text": [
      "\n",
      "pulling AOS\n"
     ]
    },
    {
     "name": "stderr",
     "output_type": "stream",
     "text": [
      "[*********************100%%**********************]  1 of 1 completed\n"
     ]
    },
    {
     "name": "stdout",
     "output_type": "stream",
     "text": [
      "\n",
      "pulling ABT\n"
     ]
    },
    {
     "name": "stderr",
     "output_type": "stream",
     "text": [
      "[*********************100%%**********************]  1 of 1 completed\n"
     ]
    },
    {
     "name": "stdout",
     "output_type": "stream",
     "text": [
      "\n",
      "pulling ABBV\n"
     ]
    },
    {
     "name": "stderr",
     "output_type": "stream",
     "text": [
      "[*********************100%%**********************]  1 of 1 completed\n"
     ]
    },
    {
     "name": "stdout",
     "output_type": "stream",
     "text": [
      "\n",
      "pulling ACN\n"
     ]
    },
    {
     "name": "stderr",
     "output_type": "stream",
     "text": [
      "[*********************100%%**********************]  1 of 1 completed\n"
     ]
    },
    {
     "name": "stdout",
     "output_type": "stream",
     "text": [
      "Empty DataFrame\n",
      "Columns: [Stock, RSI, 200 Day MA]\n",
      "Index: []\n"
     ]
    },
    {
     "name": "stderr",
     "output_type": "stream",
     "text": [
      "/tmp/ipykernel_34464/4070875231.py:59: FutureWarning: save is not part of the public API, usage can give unexpected results and will be removed in a future version\n",
      "  writer.save()\n"
     ]
    }
   ],
   "source": [
    "import datetime\n",
    "import time\n",
    "import pandas as pd\n",
    "import yfinance as yf\n",
    "from pandas_datareader import data as pdr\n",
    "from pandas import ExcelWriter\n",
    "import sys\n",
    "import os\n",
    "\n",
    "# Adding path for ta_functions and ticker modules\n",
    "parent_dir = os.path.dirname(os.getcwd())\n",
    "sys.path.append(parent_dir)\n",
    "import Utils.ta_functions as ta\n",
    "import Utils.tickers as ti\n",
    "\n",
    "# Override the yfinance module\n",
    "yf.pdr_override()\n",
    "\n",
    "# Define the date range for data retrieval\n",
    "num_of_years = 10\n",
    "start = datetime.datetime.now() - datetime.timedelta(days=365.25 * num_of_years)\n",
    "end = datetime.datetime.now()\n",
    "\n",
    "# Load stock symbols\n",
    "stocklist = ti.tickers_sp500()\n",
    "stocklist = [stock.replace(\".\", \"-\") for stock in stocklist]  # Adjusting ticker format for Yahoo Finance\n",
    "\n",
    "# Initialize the DataFrame for exporting results\n",
    "exportList = pd.DataFrame(columns=['Stock', \"RSI\", \"200 Day MA\"])\n",
    "\n",
    "# Process a limited number of stocks for demonstration\n",
    "for stock in stocklist[:5]:\n",
    "    time.sleep(1.5)  # To avoid hitting API rate limits\n",
    "    print(f\"\\npulling {stock}\")\n",
    "\n",
    "    # Fetch stock data\n",
    "    df = pdr.get_data_yahoo(stock, start=start, end=end)\n",
    "\n",
    "    try:\n",
    "        # Calculate indicators: 200-day MA, RSI\n",
    "        df[\"SMA_200\"] = df.iloc[:, 4].rolling(window=200).mean()\n",
    "        df[\"rsi\"] = ta.RSI(df[\"Close\"])\n",
    "        currentClose, moving_average_200, RSI = df[\"Adj Close\"][-1], df[\"SMA_200\"][-1], df[\"rsi\"].tail(14).mean()\n",
    "        two_day_rsi_avg = (df.rsi[-1] + df.rsi[-2]) / 2\n",
    "\n",
    "        # Define entry criteria\n",
    "        if currentClose > moving_average_200 and two_day_rsi_avg < 33:\n",
    "            exportList = exportList.append({'Stock': stock, \"RSI\": RSI, \"200 Day MA\": moving_average_200}, ignore_index=True)\n",
    "            print(f\"{stock} made the requirements\")\n",
    "\n",
    "    except Exception as e:\n",
    "        print(e)  # Handling exceptions\n",
    "\n",
    "# Exporting the list to an Excel file\n",
    "today = datetime.date.today()\n",
    "print(exportList)\n",
    "writer = ExcelWriter(f'Export-Output_{today}.xlsx')\n",
    "exportList.to_excel(writer, \"Sheet1\")\n",
    "writer.save()"
   ]
  },
  {
   "cell_type": "code",
   "execution_count": null,
   "id": "f829e5d8-28b0-4e81-885c-857f2f7e5938",
   "metadata": {},
   "outputs": [],
   "source": []
  }
 ],
 "metadata": {
  "kernelspec": {
   "display_name": "Python 3 (ipykernel)",
   "language": "python",
   "name": "python3"
  },
  "language_info": {
   "codemirror_mode": {
    "name": "ipython",
    "version": 3
   },
   "file_extension": ".py",
   "mimetype": "text/x-python",
   "name": "python",
   "nbconvert_exporter": "python",
   "pygments_lexer": "ipython3",
   "version": "3.10.12"
  }
 },
 "nbformat": 4,
 "nbformat_minor": 5
}
