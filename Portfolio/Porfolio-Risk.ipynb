{
 "cells": [
  {
   "cell_type": "code",
   "execution_count": 1,
   "id": "b7d889d8-c2a3-44d7-bcfc-a7422381b5df",
   "metadata": {},
   "outputs": [
    {
     "name": "stderr",
     "output_type": "stream",
     "text": [
      "[*********************100%%**********************]  1 of 1 completed\n",
      "[*********************100%%**********************]  1 of 1 completed"
     ]
    },
    {
     "name": "stdout",
     "output_type": "stream",
     "text": [
      "The portfolio risk (PAYTM 30%, KRBL 70%) is: 2.3615 % \n"
     ]
    },
    {
     "name": "stderr",
     "output_type": "stream",
     "text": [
      "\n"
     ]
    }
   ],
   "source": [
    "import yfinance as yf\n",
    "import pandas as pd\n",
    "import numpy as np\n",
    "\n",
    "# Downloading historical data for two stocks\n",
    "stock1 = yf.download(\"PAYTM.NS\", start=\"2022-01-01\", end=\"2024-02-29\")  \n",
    "stock2 = yf.download(\"KRBL.NS\", start=\"2022-01-01\", end=\"2024-02-29\") \n",
    "\n",
    "close_stock1 = stock1['Adj Close']\n",
    "close_stock2 = stock2['Adj Close']\n",
    "\n",
    "# Calculate returns\n",
    "returns_stock1 = close_stock1.pct_change().dropna()\n",
    "returns_stock2 = close_stock2.pct_change().dropna()\n",
    "\n",
    "# Define weights for the portfolio\n",
    "weight_stock1 = 0.1\n",
    "weight_stock2 = 0.9\n",
    "\n",
    "# Calculate individual standard deviations\n",
    "std_dev_stock1 = np.std(returns_stock1)\n",
    "std_dev_stock2 = np.std(returns_stock2)\n",
    "\n",
    "# Calculate covariance between the two stocks\n",
    "covariance = np.cov(returns_stock1, returns_stock2)[0][1]\n",
    "\n",
    "# Calculate risk based on formula\n",
    "portfolio_std_dev = np.sqrt( (weight_stock1**2 * std_dev_stock1**2) \n",
    "                   + (weight_stock2**2 * std_dev_stock2**2) \n",
    "                   + (2 * weight_stock1 * weight_stock2 * covariance))\n",
    "# Change to percentage\n",
    "portfolio_std_dev_percent = portfolio_std_dev * 100\n",
    "\n",
    "#Print it out\n",
    "print(f\"The portfolio risk (PAYTM 30%, KRBL 70%) is: {portfolio_std_dev_percent:.4f} % \")"
   ]
  },
  {
   "cell_type": "code",
   "execution_count": null,
   "id": "590bc3a2-c5d6-471b-84d6-578b1f57b6cf",
   "metadata": {},
   "outputs": [],
   "source": [
    "https://medium.com/@ethan.duong1120/applied-python-to-calculate-2-assets-portfolio-risk-49d3f9fb7837\n"
   ]
  },
  {
   "cell_type": "code",
   "execution_count": null,
   "id": "6f97f55f-2548-4911-99e8-1cef3042841c",
   "metadata": {},
   "outputs": [],
   "source": []
  }
 ],
 "metadata": {
  "kernelspec": {
   "display_name": "Python 3 (ipykernel)",
   "language": "python",
   "name": "python3"
  },
  "language_info": {
   "codemirror_mode": {
    "name": "ipython",
    "version": 3
   },
   "file_extension": ".py",
   "mimetype": "text/x-python",
   "name": "python",
   "nbconvert_exporter": "python",
   "pygments_lexer": "ipython3",
   "version": "3.10.12"
  }
 },
 "nbformat": 4,
 "nbformat_minor": 5
}
