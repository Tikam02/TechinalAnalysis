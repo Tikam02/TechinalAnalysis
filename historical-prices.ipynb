{
 "cells": [
  {
   "cell_type": "markdown",
   "id": "9d439a6c-38b0-4247-b6c2-a4689cf7fad8",
   "metadata": {},
   "source": [
    "# Historical Data"
   ]
  },
  {
   "cell_type": "code",
   "execution_count": 1,
   "id": "1d39400f-2154-4e9c-8a86-5cfe0218ee5d",
   "metadata": {},
   "outputs": [],
   "source": [
    "import numpy as np\n",
    "%matplotlib inline\n",
    "import pandas as pd\n",
    "import matplotlib.pyplot as plt\n",
    "import pandas_datareader as pdr\n",
    "import datetime\n",
    "import pandas_datareader.data as web\n",
    "import ffn\n",
    "import plotly.express as px\n",
    "import yfinance as yf\n"
   ]
  },
  {
   "cell_type": "code",
   "execution_count": null,
   "id": "fefb4a8c-f99c-4218-bed3-5b49a6eb62c6",
   "metadata": {},
   "outputs": [],
   "source": [
    "Microsoft = yf.Ticker(\"MSFT\").history(period='5y')\n",
    "Apple= yf.Ticker(\"AAPL\").history(period='5y')\n",
    "JPMorgan= yf.Ticker(\"JPM\").history(period='5y')"
   ]
  }
 ],
 "metadata": {
  "kernelspec": {
   "display_name": "Python 3 (ipykernel)",
   "language": "python",
   "name": "python3"
  },
  "language_info": {
   "codemirror_mode": {
    "name": "ipython",
    "version": 3
   },
   "file_extension": ".py",
   "mimetype": "text/x-python",
   "name": "python",
   "nbconvert_exporter": "python",
   "pygments_lexer": "ipython3",
   "version": "3.10.12"
  }
 },
 "nbformat": 4,
 "nbformat_minor": 5
}
