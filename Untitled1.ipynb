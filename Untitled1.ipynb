{
 "cells": [
  {
   "cell_type": "code",
   "execution_count": null,
   "id": "bc53328a-bb00-49b6-8fe8-d7910b3ca2d6",
   "metadata": {},
   "outputs": [],
   "source": []
  },
  {
   "cell_type": "code",
   "execution_count": 13,
   "id": "f382a523-1f7d-44d4-a072-8a1b641d4c41",
   "metadata": {},
   "outputs": [],
   "source": [
    "# Import necessary packages\n",
    "import numpy as np\n",
    "import pandas as pd\n",
    "import matplotlib.pyplot as plt\n",
    "from scipy.stats import norm\n",
    "import datetime \n",
    "from pandas_datareader import data as pdr\n",
    "import pandas_ta as ta\n",
    "# Import the libraries\n",
    "import matplotlib.pyplot as plt\n",
    "import seaborn as sns"
   ]
  },
  {
   "cell_type": "code",
   "execution_count": 23,
   "id": "700cbaec-cb4a-4e76-bf9b-90b9eda90d3e",
   "metadata": {},
   "outputs": [],
   "source": [
    "# data = dataframe in pandas format to calculate sma\n",
    "# sma_value = is an array to calcuate the lenth of sma \n",
    "# variable = variable used to calculate sma, it can be a \"Close\", or \"Adj Close\" in string format\n",
    "import yfinance as yf\n",
    "def sma(data,sma_value,variable):\n",
    "     # auto assign a variable name based on length of sma \n",
    "    variable_name = 'SMA'+ str(sma_value)\n",
    "    # calculate sma \n",
    "    data[variable_name] =ta.sma(data[variable], length=sma_value)\n",
    "    # return sma variable calculated \n",
    "    return data[variable_name]\n",
    "# sym =  string format, ticker name\n",
    "# ema value = is an array to calcuate the lenth of ema \n",
    "# sma_value = is an array to calcuate the lenth of sma \n",
    "# close = variable use for calcuate sma and ema, either \"Close\"or \"Adj Close\" in string format\n",
    "def getdata(sym,sma_value,ema_value,close):\n",
    "    yf.pdr_override()\n",
    "    today = datetime.datetime.now()\n",
    "    df = pdr.get_data_yahoo(sym, start=datetime.datetime(today.year-5,today.month, 1),\n",
    "                                    end=datetime.datetime(today.year, today.month, today.day)).reset_index()\n",
    "    df['ticker'] =sym\n",
    "        \n",
    "    for i in sma_value:\n",
    "        variable_name = 'SMA'+ str(i)\n",
    "        df[variable_name] = sma(df,i,close)\n",
    "    \n",
    "    for i in ema_value:\n",
    "        variable_name = 'EMA'+ str(i)\n",
    "        df[variable_name] = ema(df,i,close)\n",
    "        \n",
    "    df['Bearish_engulfing'] = np.nan\n",
    "    df['Bearish swing'] = np.nan\n",
    "    df['Bearish pinbar'] = np.nan\n",
    "    for i in range(2,df.shape[0]):\n",
    "        current = df.iloc[i,:]\n",
    "        prev = df.iloc[i-1,:]\n",
    "        prev_2 = df.iloc[i-2,:]\n",
    "        realbody = abs(current['Open'] - current['Close'])\n",
    "        candle_range = current['High'] - current['Low']\n",
    "        idx = df.index[i]\n",
    "        # df.loc[idx,'Bearish_engulfing'] = current['High'] > prev['High'] and current['Low'] < prev['Low'] and realbody >= 0.8 * candle_range and current['Close'] < current['Open']\n",
    "        # df.loc[idx,'Bearish swing'] = current['High'] < prev['High'] and prev['High'] > prev_2['High']\n",
    "        # df.loc[idx,'Bearish pinbar'] = realbody <= candle_range/3 and max(current['Open'] , current['Close']) < (current['High'] + current['Low'])/2 and current['High'] > prev['High']\n",
    "    # Assuming 'df' is a pandas DataFrame\n",
    "        df['Bearish_engulfing'] = (current['High'] > prev['High']) and (current['Low'] < prev['Low']) and (realbody >= 0.8 * candle_range) and (current['Close'] < current['Open'])\n",
    "        df['Bearish swing'] = (current['High'] < prev['High']) and (prev['High'] > prev_2['High'])\n",
    "        df['Bearish pinbar'] = (realbody <= candle_range/3) and (max(current['Open'], current['Close']) < (current['High'] + current['Low'])/2) and (current['High'] > prev['High'])\n",
    "\n",
    "# Explicitly cast values to a compatible dtype\n",
    "        df['Bearish_engulfing'] = df['Bearish_engulfing'].astype(bool)\n",
    "        df['Bearish swing'] = df['Bearish swing'].astype(bool)\n",
    "        df['Bearish pinbar'] = df['Bearish pinbar'].astype(bool)\n",
    "    return df\n",
    "# data = dataframe in pandas format to calculate ema\n",
    "# ema_value = is an array to calcuate the lenth of ema \n",
    "# variable = variable used to calculate sma, it can be a \"Close\", or \"Adj Close\" in string format\n",
    "def ema(data,ema_value,variable):\n",
    "    # auto assign a variable name based on length of ema \n",
    "    variable_name = 'EMA'+ str(ema_value)\n",
    "    # calculate ema \n",
    "    data[variable_name] = data[variable].ewm(span=ema_value, adjust=False).mean()\n",
    "     # return ema variable calculated \n",
    "    return data[variable_name]\n",
    "\n"
   ]
  },
  {
   "cell_type": "code",
   "execution_count": 24,
   "id": "f17513d1-01cc-4f1b-bccd-751181a0f852",
   "metadata": {},
   "outputs": [],
   "source": [
    "# data = dataframe with price,sma and ema value\n",
    "# sma_selected = SMA period used to trigger signal\n",
    "# ema_selected = EMA period used to trigger signal\n",
    "def Generate_signal(data, sma_selected,ema_selected):    \n",
    "    #table start\n",
    "    df_init =  data.copy()\n",
    "    \n",
    "    '''To make sure row arrange in an ascending order'''\n",
    "    df_init.sort_values(by = 'Date',inplace=True)\n",
    "    \n",
    "    '''Process data by remove Null value in moving average varaible that your want to used for triggered''' \n",
    "    df_init.dropna(subset=[ema_selected,sma_selected],inplace=True)\n",
    "    '''generate as 1 if Adj close is higher than variable you want to test, generate as -1 if Adj close is less than the\n",
    "    variable you want to test in a signal variable  \n",
    "    '''\n",
    "    # create a signal variable\n",
    "    df_init['signal'] = np.nan \n",
    "    # trigger a buy only if sma selected > ema selected\n",
    "    #df_init.loc[(df_init['Adj Close']>=df_init[sma_selected]) &(df_init[sma_selected]>=df_init[ema_selected]) ,'signal'] = 1\n",
    "    df_init.loc[(df_init[sma_selected]>=df_init[ema_selected])&((df_init['RSI']<30)|((df_init['RSI']<70)&(df_init['RSI']>50))),'signal'] = 1\n",
    "    #df_init.loc[(df_init[sma_selected]>=df_init[ema_selected]) |((df_init['RSI']>=50)&(df_init['RSI']<70)),'signal'] = 1\n",
    "    # triggered a sell if sma < ema selected\n",
    "    #Bearish swing,Bearish pinbar\n",
    "    #df_init.loc[((df_init[sma_selected]<df_init[ema_selected]) |(df_init['RSI']>=70))|((df_init['RSI']<50))| (data['Bearish_engulfing']==True)| (data['Bearish swing']==True)| (data['Bearish pinbar']==True),'signal'] = -1\n",
    "    #0.55\n",
    "    #df_init.loc[((df_init[sma_selected]<df_init[ema_selected]) |(df_init['RSI']>=70))|((df_init['RSI']<50))| (df_init['Bearish_engulfing']==True),'signal'] = -1\n",
    "    df_init.loc[((df_init[sma_selected]<df_init[ema_selected]) |(df_init['RSI']>=70))| (df_init['Bearish_engulfing']==True),'signal'] = -1\n",
    "\n",
    "    #df_init.loc[(df_init['Adj Close']<df_init[sma_selected]),'signal'] = -1\n",
    "    \n",
    "    # let it be do nothing if not meet any condition\n",
    "    df_init['signal'].fillna(0,inplace=True) \n",
    "    \n",
    "    ''' move the signal of today to tmr, thus, we need to define a shift(1), as the signal buy is based on yesterday'''\n",
    "    df_init['signal'] = df_init['signal'].shift(1)\n",
    "    \n",
    "    '''after we have a buy and sell signal, lets create a hold signal which is equal to 2 after a buy signal and\n",
    "    a do nothing signal which is equal to 0 after a sell signal'''\n",
    "    \n",
    "    # In order to make a decision on a hold or do nothing signal based on yesterday signal we need to create a for loop \n",
    "    # a calendar date should be created to used for a a for loop \n",
    "    date_list = df_init.Date.unique()\n",
    "    \n",
    "    # declare a first day, the first date is a null in signal as there is no yesterday data for first data\n",
    "    first_date = date_list[0]\n",
    "    \n",
    "    # declare a previous day \n",
    "    prev = first_date \n",
    "    \n",
    "    for i in date_list:\n",
    "        if i == first_date:\n",
    "            df_init.loc[df_init.Date == i,'signal'] = 0 \n",
    "        else:\n",
    "            # if you have a sell signal yesterday, you should have a do nothing signal today\n",
    "            if (df_init.loc[df_init.Date == prev,'signal'].values[0]==-1):\n",
    "                df_init.loc[df_init.Date == i,'signal']=0 \n",
    "            # if you have a buy signal yesterday, you should have a hold signal today\n",
    "            elif (df_init.loc[df_init.Date == prev,'signal'].values[0]==1):\n",
    "                df_init.loc[df_init.Date == i,'signal'] = 2\n",
    "              \n",
    "            # if you have a hold signal yesterday and you do not have a sell signal today, you should have a hold signal today\n",
    "            elif ((df_init.loc[df_init.Date == prev,'signal'].values[0]==2)&(df_init.loc[df_init.Date == i,'signal'].values[0]!=-1) ):\n",
    "                df_init.loc[df_init.Date == i,'signal'] = 2\n",
    "                \n",
    "            # if you have a do nothing signal yesterday and today is a sell signal, you should equal to have a do nothing signal\n",
    "            elif ((df_init.loc[df_init.Date == prev,'signal'].values[0]==0)&(df_init.loc[df_init.Date == i,'signal'].values[0]==-1) ):\n",
    "                df_init.loc[df_init.Date == i,'signal'] = 0\n",
    "                \n",
    "        # redeclare your previous date before to next day in for loop\n",
    "        prev = i\n",
    "    \n",
    "    return df_init"
   ]
  },
  {
   "cell_type": "code",
   "execution_count": 25,
   "id": "2e878af7-3a6f-443b-8002-28397c0a8d99",
   "metadata": {},
   "outputs": [],
   "source": [
    "# data = dataframe with signal to trigger\n",
    "# capital = assume starting capital\n",
    "# result data = to store win chance, average lost and other statistic data\n",
    "from statistics import mean\n",
    "def backtest_strategy(data,capital, result_data):   \n",
    "    \n",
    "    #table start\n",
    "    df_init =  data.copy()\n",
    "    df_init.set_index('Date',inplace=True) \n",
    "    \n",
    "    #assign dummy row - day before the trade\n",
    "    start_date = pd.DataFrame(columns=data.columns,index=[df_init.index.min()- datetime.timedelta(days=1)])\n",
    "    df_init = df_init.append(start_date)\n",
    "    \n",
    "    #initiat 2 variable: cash and units which represent each status of cash and units of apple holding for each day\n",
    "    df_init = df_init.assign(cash=np.nan,units = 0)\n",
    "    \n",
    "    #assign capital for first dummy day assigned to be capital defined in function\n",
    "    df_init.loc[pd.Series(df_init.index.min()), 'cash'] = capital\n",
    "    \n",
    "    # obtain list of calendar \n",
    "    calendar = pd.Series(df_init.index.sort_values().unique()).iloc[1:]\n",
    "    \n",
    "    ''' assign a variable which is trade, earn trade and lost trade to calculate total number of trade, total earn trade \n",
    "    and total lost trade'''\n",
    "    trade = 0\n",
    "    earn_trade = 0\n",
    "    loss_trade = 0\n",
    "    \n",
    "    ''' create an array to keep all earn value and lost value for each trade'''\n",
    "    earn_value =[]\n",
    "    lost_value =[]\n",
    "\n",
    "    for date in calendar:\n",
    "        \n",
    "        #get yesterday data\n",
    "        prev_date = df_init.index[df_init.index<date].unique().sort_values()[-1]\n",
    "        \n",
    "        # calculate total stock value of yesterday \n",
    "        stock_holding = df_init.loc[(df_init.index==prev_date), 'units'].values[0]*df_init.loc[(df_init.index==date),'Price'].values[0]\n",
    "        \n",
    "        # total portfolio value by add cash and stock value of yesterday \n",
    "        port_value = stock_holding + df_init.loc[prev_date, 'cash'].sum()\n",
    "        \n",
    "        \n",
    "        # if signal is do nothing, mean our cash = portfolio value and units=0\n",
    "        if df_init.loc[(df_init.index==date), 'signal'].values[0] == 0:          \n",
    "            df_init.loc[(df_init.index==date), 'units'] = 0\n",
    "            df_init.loc[(df_init.index==date), 'cash'] =port_value        \n",
    "        #if we have a buy signal \n",
    "        #start to calculate the trade\n",
    "        #we start to calculate start_cap which represent the starting capital for each trade\n",
    "        #unit_buy is total unit buy based on port_value available\n",
    "        elif df_init.loc[(df_init.index==date), 'signal'].values[0] == 1:\n",
    "            trade+=1\n",
    "            start_cap = port_value \n",
    "            unit_buy = port_value/df_init.loc[(df_init.index==date), 'Price'].values[0]\n",
    "            df_init.loc[(df_init.index==date), 'units'] = unit_buy\n",
    "            df_init.loc[(df_init.index==date), 'cash'] = port_value - unit_buy*df_init.loc[(df_init.index==date), 'Price'].values[0]        \n",
    "#             df_init.loc[(df_init.index==date), 'CL_price'] = df_init.loc[(df_init.index==date), 'Price'].values[0] * 0.95\n",
    "#             df_init.loc[(df_init.index==date), 'CL_based_price'] = df_init.loc[(df_init.index==date), 'Price'].values[0]\n",
    "        #if we have a hold signal or do nothing signal,\n",
    "        #mean today units hold and cash are same as yesterday units hold and yesterday cash\n",
    "        elif ((df_init.loc[(df_init.index==date), 'signal'].values[0] == 2) | (df_init.loc[(df_init.index==date), 'signal'].values[0] == 0)): \n",
    "            df_init.loc[(df_init.index==date), 'units'] = df_init.loc[(df_init.index==prev_date), 'units'].values[0]\n",
    "            df_init.loc[(df_init.index==date), 'cash'] =df_init.loc[(df_init.index==prev_date), 'cash'].values[0]\n",
    "#             if  df_init.loc[(df_init.index==date), 'Price'].values[0] > df_init.loc[(df_init.index==prev_date), 'CL_based_price'].values[0]:\n",
    "#                 df_init.loc[(df_init.index==date), 'CL_price'] = df_init.loc[(df_init.index==date), 'Price'].values[0] * 0.95\n",
    "#                 df_init.loc[(df_init.index==date), 'CL_based_price'] = df_init.loc[(df_init.index==date), 'Price'].values[0]\n",
    "#             else:\n",
    "#                 df_init.loc[(df_init.index==date), 'CL_price'] = df_init.loc[(df_init.index==prev_date), 'CL_price'].values[0]\n",
    "#                 df_init.loc[(df_init.index==date), 'CL_based_price'] =  df_init.loc[(df_init.index==prev_date), 'CL_based_price'].values[0]\n",
    "        #if we have a sell signal,\n",
    "        #1. we sell all the units at the today open price and thus units =0 and cash = port_value\n",
    "        #2. we calculate the total earn/lost of this trade by using port_value - start cap of the trade and store as v variable\n",
    "        #3. if v> 0, we store as earn_value array\n",
    "        #4. if v<0, we store as lost trade\n",
    "        elif (df_init.loc[(df_init.index==date), 'signal'].values[0] == -1) :\n",
    "            df_init.loc[(df_init.index==date), 'units'] = 0\n",
    "            df_init.loc[(df_init.index==date), 'cash'] =port_value \n",
    "            if (start_cap is None):\n",
    "                0\n",
    "            else:\n",
    "                v = port_value  - start_cap \n",
    "                if v>= 0: \n",
    "                    earn_value.append(v)\n",
    "                    earn_trade +=1\n",
    "                elif v<0: \n",
    "                    lost_value.append(v)\n",
    "                    loss_trade+=1\n",
    "\n",
    "    # calculate current value of the strategy, the formula = unit holding * Price + cash available\n",
    "    df_init['Total_value_todate'] = df_init['units']*df_init['Price'] + df_init['cash'] \n",
    "    \n",
    "    # append 0 to earn value array to prevent later calculation fail if there is no any earn trade\n",
    "    earn_value.append(0)\n",
    "    #remove dummy rows\n",
    "    df_init.drop(df_init[df_init.index == df_init.index.min()].index,axis=0,inplace=True)\n",
    "  \n",
    "    # get summarize of total portfolio value, return by date, benchmark_index\n",
    "    total_port_value = pd.DataFrame(df_init.groupby([df_init.index])['Total_value_todate'].sum())\n",
    "    total_port_value['Return_without_trailing'] = total_port_value['Total_value_todate']/total_port_value['Total_value_todate'].iloc[0] *100\n",
    "    total_port_value['Return_trailing_12m'] = total_port_value['Total_value_todate']/total_port_value['Total_value_todate'].shift(12)*100\n",
    "\n",
    "    # to print out statistic to know how your strategy perform and the win change of this strategy\n",
    "    print('total_trade:',trade)\n",
    "    print('earn_trade:',earn_trade)\n",
    "    print('lost_trade:',loss_trade)\n",
    "    print('win_chance:',earn_trade/trade)\n",
    "    print('Max earning:',max(earn_value))\n",
    "    print('Max lost:',min(lost_value))\n",
    "    print('Average lost:',mean(lost_value))\n",
    "    print('Average Win:',mean(earn_value))\n",
    "    # Create a dictionary with the data for the new data frame\n",
    "    data = {\n",
    "        'ticket': [data.ticker.values[0]],\n",
    "        'total_trade' : [trade],\n",
    "        'Average Win': [mean(earn_value)],\n",
    "        'Average lost' :  [mean(lost_value)],\n",
    "        'win_chance': [earn_trade/trade]\n",
    "    }\n",
    "\n",
    "    # Create the new data frame\n",
    "    df = pd.DataFrame(data)\n",
    "    result_data =  pd.concat([df , result_data])\n",
    "    return total_port_value, df_init,result_data"
   ]
  },
  {
   "cell_type": "code",
   "execution_count": 26,
   "id": "3e83fbb2-810d-4737-896a-8dc5ac9e495b",
   "metadata": {},
   "outputs": [],
   "source": [
    "# annualized return \n",
    "# df =data with return \n",
    "# variable = variable name of return\n",
    "def annualized(df,variable):\n",
    "    days_held =df.shape[0]\n",
    "    Return = (df.iloc[-1][variable] - df.iloc[0][variable])/df.iloc[0][variable]\n",
    "    ar = ((1+Return) ** (365/days_held))-1\n",
    "    # get annualized in %\n",
    "    return ar*100\n",
    "# maximum drawdown \n",
    "# df =data with return \n",
    "# variable = variable name of return\n",
    "def MDD(df,variable):\n",
    "    window = 252\n",
    "    Roll_Max = df[variable].rolling(window, min_periods=1).max()\n",
    "    Drawdown = df[variable]/Roll_Max - 1.0\n",
    "    mdd = Drawdown.min()\n",
    "    # get drawdown in %\n",
    "    return mdd*100"
   ]
  },
  {
   "cell_type": "code",
   "execution_count": 27,
   "id": "291ad534-b4e1-42c9-bf44-d42957b87d84",
   "metadata": {},
   "outputs": [],
   "source": [
    "# Function to calculate RSI\n",
    "def RSI(prices, n=14):\n",
    "  # Get the difference in price from previous step\n",
    "    delta = prices.diff()\n",
    "\n",
    "  # Get rid of the first row, which is NaN since it did not have a previous\n",
    "  # row to calculate the differences\n",
    "    delta = delta[1:]\n",
    "\n",
    "  # Make the positive gains (up) and negative gains (down) Series\n",
    "    up, down = delta.copy(), delta.copy()\n",
    "    up[up < 0] = 0\n",
    "    down[down > 0] = 0\n",
    "\n",
    "  # Calculate the SMA\n",
    "    roll_up = up.rolling(n).mean()\n",
    "    roll_down = down.abs().rolling(n).mean()\n",
    "\n",
    "  # Calculate the RSI based on SMA\n",
    "    RS = roll_up / roll_down\n",
    "    RSI = 100.0 - (100.0 / (1.0 + RS))\n",
    "\n",
    "    return RSI"
   ]
  },
  {
   "cell_type": "code",
   "execution_count": null,
   "id": "e54171e3-e82b-4218-929b-9b9c32822b8e",
   "metadata": {},
   "outputs": [],
   "source": [
    "\n",
    "\n"
   ]
  },
  {
   "cell_type": "code",
   "execution_count": 36,
   "id": "0dbee49e-b39b-4703-b39f-37ac744d06ab",
   "metadata": {},
   "outputs": [
    {
     "name": "stdout",
     "output_type": "stream",
     "text": [
      "['MMM' 'AOS' 'ABT' 'ABBV' 'ACN' 'ADBE' 'AMD' 'AES' 'AFL' 'A' 'APD' 'ABNB'\n",
      " 'AKAM' 'ALB' 'ARE' 'ALGN' 'ALLE' 'LNT' 'ALL' 'GOOGL' 'GOOG' 'MO' 'AMZN'\n",
      " 'AMCR' 'AEE' 'AAL' 'AEP' 'AXP' 'AIG' 'AMT' 'AWK' 'AMP' 'AME' 'AMGN' 'APH'\n",
      " 'ADI' 'ANSS' 'AON' 'APA' 'AAPL' 'AMAT' 'APTV' 'ACGL' 'ADM' 'ANET' 'AJG'\n",
      " 'AIZ' 'T' 'ATO' 'ADSK' 'ADP' 'AZO' 'AVB' 'AVY' 'AXON' 'BKR' 'BALL' 'BAC'\n",
      " 'BK' 'BBWI' 'BAX' 'BDX' 'BRK.B' 'BBY' 'BIO' 'TECH' 'BIIB' 'BLK' 'BX' 'BA'\n",
      " 'BKNG' 'BWA' 'BXP' 'BSX' 'BMY' 'AVGO' 'BR' 'BRO' 'BF.B' 'BLDR' 'BG'\n",
      " 'CDNS' 'CZR' 'CPT' 'CPB' 'COF' 'CAH' 'KMX' 'CCL' 'CARR' 'CTLT' 'CAT'\n",
      " 'CBOE' 'CBRE' 'CDW' 'CE' 'COR' 'CNC' 'CNP' 'CDAY' 'CF' 'CHRW' 'CRL'\n",
      " 'SCHW' 'CHTR' 'CVX' 'CMG' 'CB' 'CHD' 'CI' 'CINF' 'CTAS' 'CSCO' 'C' 'CFG'\n",
      " 'CLX' 'CME' 'CMS' 'KO' 'CTSH' 'CL' 'CMCSA' 'CMA' 'CAG' 'COP' 'ED' 'STZ'\n",
      " 'CEG' 'COO' 'CPRT' 'GLW' 'CTVA' 'CSGP' 'COST' 'CTRA' 'CCI' 'CSX' 'CMI'\n",
      " 'CVS' 'DHR' 'DRI' 'DVA' 'DE' 'DAL' 'XRAY' 'DVN' 'DXCM' 'FANG' 'DLR' 'DFS'\n",
      " 'DG' 'DLTR' 'D' 'DPZ' 'DOV' 'DOW' 'DHI' 'DTE' 'DUK' 'DD' 'EMN' 'ETN'\n",
      " 'EBAY' 'ECL' 'EIX' 'EW' 'EA' 'ELV' 'LLY' 'EMR' 'ENPH' 'ETR' 'EOG' 'EPAM'\n",
      " 'EQT' 'EFX' 'EQIX' 'EQR' 'ESS' 'EL' 'ETSY' 'EG' 'EVRG' 'ES' 'EXC' 'EXPE'\n",
      " 'EXPD' 'EXR' 'XOM' 'FFIV' 'FDS' 'FICO' 'FAST' 'FRT' 'FDX' 'FIS' 'FITB'\n",
      " 'FSLR' 'FE' 'FI' 'FLT' 'FMC' 'F' 'FTNT' 'FTV' 'FOXA' 'FOX' 'BEN' 'FCX'\n",
      " 'GRMN' 'IT' 'GEHC' 'GEN' 'GNRC' 'GD' 'GE' 'GIS' 'GM' 'GPC' 'GILD' 'GPN'\n",
      " 'GL' 'GS' 'HAL' 'HIG' 'HAS' 'HCA' 'PEAK' 'HSIC' 'HSY' 'HES' 'HPE' 'HLT'\n",
      " 'HOLX' 'HD' 'HON' 'HRL' 'HST' 'HWM' 'HPQ' 'HUBB' 'HUM' 'HBAN' 'HII' 'IBM'\n",
      " 'IEX' 'IDXX' 'ITW' 'ILMN' 'INCY' 'IR' 'PODD' 'INTC' 'ICE' 'IFF' 'IP'\n",
      " 'IPG' 'INTU' 'ISRG' 'IVZ' 'INVH' 'IQV' 'IRM' 'JBHT' 'JBL' 'JKHY' 'J'\n",
      " 'JNJ' 'JCI' 'JPM' 'JNPR' 'K' 'KVUE' 'KDP' 'KEY' 'KEYS' 'KMB' 'KIM' 'KMI'\n",
      " 'KLAC' 'KHC' 'KR' 'LHX' 'LH' 'LRCX' 'LW' 'LVS' 'LDOS' 'LEN' 'LIN' 'LYV'\n",
      " 'LKQ' 'LMT' 'L' 'LOW' 'LULU' 'LYB' 'MTB' 'MRO' 'MPC' 'MKTX' 'MAR' 'MMC'\n",
      " 'MLM' 'MAS' 'MA' 'MTCH' 'MKC' 'MCD' 'MCK' 'MDT' 'MRK' 'META' 'MET' 'MTD'\n",
      " 'MGM' 'MCHP' 'MU' 'MSFT' 'MAA' 'MRNA' 'MHK' 'MOH' 'TAP' 'MDLZ' 'MPWR'\n",
      " 'MNST' 'MCO' 'MS' 'MOS' 'MSI' 'MSCI' 'NDAQ' 'NTAP' 'NFLX' 'NEM' 'NWSA'\n",
      " 'NWS' 'NEE' 'NKE' 'NI' 'NDSN' 'NSC' 'NTRS' 'NOC' 'NCLH' 'NRG' 'NUE'\n",
      " 'NVDA' 'NVR' 'NXPI' 'ORLY' 'OXY' 'ODFL' 'OMC' 'ON' 'OKE' 'ORCL' 'OTIS'\n",
      " 'PCAR' 'PKG' 'PANW' 'PARA' 'PH' 'PAYX' 'PAYC' 'PYPL' 'PNR' 'PEP' 'PFE'\n",
      " 'PCG' 'PM' 'PSX' 'PNW' 'PXD' 'PNC' 'POOL' 'PPG' 'PPL' 'PFG' 'PG' 'PGR'\n",
      " 'PLD' 'PRU' 'PEG' 'PTC' 'PSA' 'PHM' 'QRVO' 'PWR' 'QCOM' 'DGX' 'RL' 'RJF'\n",
      " 'RTX' 'O' 'REG' 'REGN' 'RF' 'RSG' 'RMD' 'RVTY' 'RHI' 'ROK' 'ROL' 'ROP'\n",
      " 'ROST' 'RCL' 'SPGI' 'CRM' 'SBAC' 'SLB' 'STX' 'SRE' 'NOW' 'SHW' 'SPG'\n",
      " 'SWKS' 'SJM' 'SNA' 'SO' 'LUV' 'SWK' 'SBUX' 'STT' 'STLD' 'STE' 'SYK' 'SYF'\n",
      " 'SNPS' 'SYY' 'TMUS' 'TROW' 'TTWO' 'TPR' 'TRGP' 'TGT' 'TEL' 'TDY' 'TFX'\n",
      " 'TER' 'TSLA' 'TXN' 'TXT' 'TMO' 'TJX' 'TSCO' 'TT' 'TDG' 'TRV' 'TRMB' 'TFC'\n",
      " 'TYL' 'TSN' 'USB' 'UBER' 'UDR' 'ULTA' 'UNP' 'UAL' 'UPS' 'URI' 'UNH' 'UHS'\n",
      " 'VLO' 'VTR' 'VLTO' 'VRSN' 'VRSK' 'VZ' 'VRTX' 'VFC' 'VTRS' 'VICI' 'V'\n",
      " 'VMC' 'WRB' 'WAB' 'WBA' 'WMT' 'DIS' 'WBD' 'WM' 'WAT' 'WEC' 'WFC' 'WELL'\n",
      " 'WST' 'WDC' 'WRK' 'WY' 'WHR' 'WMB' 'WTW' 'GWW' 'WYNN' 'XEL' 'XYL' 'YUM'\n",
      " 'ZBRA' 'ZBH' 'ZION' 'ZTS']\n"
     ]
    }
   ],
   "source": [
    "table=pd.read_html('https://en.wikipedia.org/wiki/List_of_S%26P_500_companies')\n",
    "df = table[0]\n",
    "ticker = df['Symbol'].values\n",
    "result_data = pd.DataFrame()\n",
    "print(ticker)"
   ]
  },
  {
   "cell_type": "code",
   "execution_count": 37,
   "id": "e4b1e9b7-058c-485f-94b2-4dea21faf3c1",
   "metadata": {},
   "outputs": [],
   "source": [
    "# # Read tickers from the file\n",
    "# with open('us-data.txt', 'r') as file:\n",
    "#     tickers = [line.strip() for line in file]\n",
    "\n",
    "# ticker = tickers\n",
    "# result_data = pd.DataFrame()\n",
    "# print(ticker)"
   ]
  },
  {
   "cell_type": "code",
   "execution_count": null,
   "id": "3bb1ed91-7ac0-4aea-8941-c6901cb0432c",
   "metadata": {},
   "outputs": [
    {
     "name": "stdout",
     "output_type": "stream",
     "text": [
      "MMM\n"
     ]
    },
    {
     "name": "stderr",
     "output_type": "stream",
     "text": [
      "[*********************100%%**********************]  1 of 1 completed\n"
     ]
    },
    {
     "name": "stdout",
     "output_type": "stream",
     "text": [
      "AOS\n"
     ]
    },
    {
     "name": "stderr",
     "output_type": "stream",
     "text": [
      "[*********************100%%**********************]  1 of 1 completed\n"
     ]
    },
    {
     "name": "stdout",
     "output_type": "stream",
     "text": [
      "ABT\n"
     ]
    },
    {
     "name": "stderr",
     "output_type": "stream",
     "text": [
      "[*********************100%%**********************]  1 of 1 completed\n"
     ]
    },
    {
     "name": "stdout",
     "output_type": "stream",
     "text": [
      "ABBV\n"
     ]
    },
    {
     "name": "stderr",
     "output_type": "stream",
     "text": [
      "[*********************100%%**********************]  1 of 1 completed\n"
     ]
    },
    {
     "name": "stdout",
     "output_type": "stream",
     "text": [
      "ACN\n"
     ]
    },
    {
     "name": "stderr",
     "output_type": "stream",
     "text": [
      "[*********************100%%**********************]  1 of 1 completed\n"
     ]
    },
    {
     "name": "stdout",
     "output_type": "stream",
     "text": [
      "ADBE\n"
     ]
    },
    {
     "name": "stderr",
     "output_type": "stream",
     "text": [
      "[*********************100%%**********************]  1 of 1 completed\n"
     ]
    },
    {
     "name": "stdout",
     "output_type": "stream",
     "text": [
      "AMD\n"
     ]
    },
    {
     "name": "stderr",
     "output_type": "stream",
     "text": [
      "[*********************100%%**********************]  1 of 1 completed\n"
     ]
    },
    {
     "name": "stdout",
     "output_type": "stream",
     "text": [
      "AES\n"
     ]
    },
    {
     "name": "stderr",
     "output_type": "stream",
     "text": [
      "[*********************100%%**********************]  1 of 1 completed\n"
     ]
    },
    {
     "name": "stdout",
     "output_type": "stream",
     "text": [
      "AFL\n"
     ]
    },
    {
     "name": "stderr",
     "output_type": "stream",
     "text": [
      "[*********************100%%**********************]  1 of 1 completed\n"
     ]
    },
    {
     "name": "stdout",
     "output_type": "stream",
     "text": [
      "A\n"
     ]
    },
    {
     "name": "stderr",
     "output_type": "stream",
     "text": [
      "[*********************100%%**********************]  1 of 1 completed\n"
     ]
    },
    {
     "name": "stdout",
     "output_type": "stream",
     "text": [
      "APD\n"
     ]
    },
    {
     "name": "stderr",
     "output_type": "stream",
     "text": [
      "[*********************100%%**********************]  1 of 1 completed"
     ]
    },
    {
     "name": "stdout",
     "output_type": "stream",
     "text": [
      "ABNB\n",
      "AKAM\n",
      "ALB\n"
     ]
    },
    {
     "name": "stderr",
     "output_type": "stream",
     "text": [
      "\n",
      "[*********************100%%**********************]  1 of 1 completed\n",
      "[*********************100%%**********************]  1 of 1 completed\n"
     ]
    },
    {
     "name": "stdout",
     "output_type": "stream",
     "text": [
      "ARE\n",
      "ALGN\n"
     ]
    },
    {
     "name": "stderr",
     "output_type": "stream",
     "text": [
      "[*********************100%%**********************]  1 of 1 completed\n",
      "[*********************100%%**********************]  1 of 1 completed"
     ]
    },
    {
     "name": "stdout",
     "output_type": "stream",
     "text": [
      "ALLE\n",
      "LNT\n",
      "ALL\n"
     ]
    },
    {
     "name": "stderr",
     "output_type": "stream",
     "text": [
      "\n",
      "[*********************100%%**********************]  1 of 1 completed\n"
     ]
    },
    {
     "name": "stdout",
     "output_type": "stream",
     "text": [
      "GOOGL\n",
      "GOOG\n"
     ]
    },
    {
     "name": "stderr",
     "output_type": "stream",
     "text": [
      "[*********************100%%**********************]  1 of 1 completed\n",
      "[*********************100%%**********************]  1 of 1 completed\n",
      "[*********************100%%**********************]  1 of 1 completed\n",
      "[*********************100%%**********************]  1 of 1 completed\n"
     ]
    },
    {
     "name": "stdout",
     "output_type": "stream",
     "text": [
      "MO\n",
      "AMZN\n",
      "AMCR\n",
      "AEE\n"
     ]
    },
    {
     "name": "stderr",
     "output_type": "stream",
     "text": [
      "[*********************100%%**********************]  1 of 1 completed\n",
      "[*********************100%%**********************]  1 of 1 completed\n",
      "[*********************100%%**********************]  1 of 1 completed\n",
      "[*********************100%%**********************]  1 of 1 completed\n",
      "[*********************100%%**********************]  1 of 1 completed\n"
     ]
    },
    {
     "name": "stdout",
     "output_type": "stream",
     "text": [
      "AAL\n",
      "AEP\n",
      "AXP\n",
      "AIG\n",
      "AMT\n"
     ]
    },
    {
     "name": "stderr",
     "output_type": "stream",
     "text": [
      "[*********************100%%**********************]  1 of 1 completed\n",
      "[*********************100%%**********************]  1 of 1 completed\n"
     ]
    },
    {
     "name": "stdout",
     "output_type": "stream",
     "text": [
      "AWK\n",
      "AMP\n"
     ]
    },
    {
     "name": "stderr",
     "output_type": "stream",
     "text": [
      "[*********************100%%**********************]  1 of 1 completed\n",
      "[*********************100%%**********************]  1 of 1 completed\n",
      "[*********************100%%**********************]  1 of 1 completed\n",
      "[*********************100%%**********************]  1 of 1 completed\n"
     ]
    },
    {
     "name": "stdout",
     "output_type": "stream",
     "text": [
      "AME\n",
      "AMGN\n",
      "APH\n",
      "ADI\n"
     ]
    },
    {
     "name": "stderr",
     "output_type": "stream",
     "text": [
      "[*********************100%%**********************]  1 of 1 completed\n",
      "[*********************100%%**********************]  1 of 1 completed"
     ]
    },
    {
     "name": "stdout",
     "output_type": "stream",
     "text": [
      "ANSS\n"
     ]
    },
    {
     "name": "stderr",
     "output_type": "stream",
     "text": [
      "\n",
      "[*********************100%%**********************]  1 of 1 completed\n",
      "[*********************100%%**********************]  1 of 1 completed\n",
      "[*********************100%%**********************]  1 of 1 completed\n"
     ]
    },
    {
     "name": "stdout",
     "output_type": "stream",
     "text": [
      "AON\n",
      "APA\n",
      "AAPL\n",
      "AMAT\n"
     ]
    },
    {
     "name": "stderr",
     "output_type": "stream",
     "text": [
      "[*********************100%%**********************]  1 of 1 completed\n",
      "[*********************100%%**********************]  1 of 1 completed\n",
      "[*********************100%%**********************]  1 of 1 completed\n",
      "[*********************100%%**********************]  1 of 1 completed\n"
     ]
    },
    {
     "name": "stdout",
     "output_type": "stream",
     "text": [
      "APTV\n",
      "ACGL\n",
      "ADM\n",
      "ANET\n"
     ]
    },
    {
     "name": "stderr",
     "output_type": "stream",
     "text": [
      "[*********************100%%**********************]  1 of 1 completed\n",
      "[*********************100%%**********************]  1 of 1 completed\n",
      "[*********************100%%**********************]  1 of 1 completed\n"
     ]
    },
    {
     "name": "stdout",
     "output_type": "stream",
     "text": [
      "AJG\n",
      "AIZ\n",
      "T\n"
     ]
    },
    {
     "name": "stderr",
     "output_type": "stream",
     "text": [
      "[*********************100%%**********************]  1 of 1 completed\n",
      "[*********************100%%**********************]  1 of 1 completed\n",
      "[*********************100%%**********************]  1 of 1 completed\n"
     ]
    },
    {
     "name": "stdout",
     "output_type": "stream",
     "text": [
      "ATO\n",
      "ADSK\n",
      "ADP\n"
     ]
    },
    {
     "name": "stderr",
     "output_type": "stream",
     "text": [
      "[*********************100%%**********************]  1 of 1 completed\n",
      "[*********************100%%**********************]  1 of 1 completed\n",
      "[*********************100%%**********************]  1 of 1 completed\n"
     ]
    },
    {
     "name": "stdout",
     "output_type": "stream",
     "text": [
      "AZO\n",
      "AVB\n",
      "AVY\n"
     ]
    },
    {
     "name": "stderr",
     "output_type": "stream",
     "text": [
      "[*********************100%%**********************]  1 of 1 completed\n",
      "[*********************100%%**********************]  1 of 1 completed\n"
     ]
    },
    {
     "name": "stdout",
     "output_type": "stream",
     "text": [
      "AXON\n",
      "BKR\n"
     ]
    },
    {
     "name": "stderr",
     "output_type": "stream",
     "text": [
      "[*********************100%%**********************]  1 of 1 completed\n",
      "[*********************100%%**********************]  1 of 1 completed\n",
      "[*********************100%%**********************]  1 of 1 completed\n"
     ]
    },
    {
     "name": "stdout",
     "output_type": "stream",
     "text": [
      "BALL\n",
      "BAC\n",
      "BK\n"
     ]
    },
    {
     "name": "stderr",
     "output_type": "stream",
     "text": [
      "[*********************100%%**********************]  1 of 1 completed\n",
      "[*********************100%%**********************]  1 of 1 completed\n"
     ]
    },
    {
     "name": "stdout",
     "output_type": "stream",
     "text": [
      "BBWI\n",
      "BAX\n"
     ]
    },
    {
     "name": "stderr",
     "output_type": "stream",
     "text": [
      "[*********************100%%**********************]  1 of 1 completed\n",
      "[*********************100%%**********************]  1 of 1 completed\n",
      "[*********************100%%**********************]  1 of 1 completed\n"
     ]
    },
    {
     "name": "stdout",
     "output_type": "stream",
     "text": [
      "BDX\n",
      "BRK.B\n",
      "BBY\n"
     ]
    },
    {
     "name": "stderr",
     "output_type": "stream",
     "text": [
      "[*********************100%%**********************]  1 of 1 completed\n",
      "[*********************100%%**********************]  1 of 1 completed\n",
      "[*********************100%%**********************]  1 of 1 completed\n"
     ]
    },
    {
     "name": "stdout",
     "output_type": "stream",
     "text": [
      "BIO\n",
      "TECH\n",
      "BIIB\n"
     ]
    },
    {
     "name": "stderr",
     "output_type": "stream",
     "text": [
      "[*********************100%%**********************]  1 of 1 completed\n",
      "\n",
      "1 Failed download:\n",
      "['BRK.B']: Exception('%ticker%: No timezone found, symbol may be delisted')\n"
     ]
    },
    {
     "name": "stdout",
     "output_type": "stream",
     "text": [
      "BLK\n"
     ]
    },
    {
     "name": "stderr",
     "output_type": "stream",
     "text": [
      "[*********************100%%**********************]  1 of 1 completed\n",
      "[*********************100%%**********************]  1 of 1 completed\n",
      "[*********************100%%**********************]  1 of 1 completed\n"
     ]
    },
    {
     "name": "stdout",
     "output_type": "stream",
     "text": [
      "BX\n",
      "BA\n",
      "BKNG\n"
     ]
    },
    {
     "name": "stderr",
     "output_type": "stream",
     "text": [
      "[*********************100%%**********************]  1 of 1 completed\n",
      "[*********************100%%**********************]  1 of 1 completed\n",
      "[*********************100%%**********************]  1 of 1 completed\n"
     ]
    },
    {
     "name": "stdout",
     "output_type": "stream",
     "text": [
      "BWA\n",
      "BXP\n",
      "BSX\n"
     ]
    },
    {
     "name": "stderr",
     "output_type": "stream",
     "text": [
      "[*********************100%%**********************]  1 of 1 completed\n",
      "[*********************100%%**********************]  1 of 1 completed\n",
      "[*********************100%%**********************]  1 of 1 completed\n"
     ]
    },
    {
     "name": "stdout",
     "output_type": "stream",
     "text": [
      "BMY\n",
      "AVGO\n",
      "BR\n"
     ]
    },
    {
     "name": "stderr",
     "output_type": "stream",
     "text": [
      "[*********************100%%**********************]  1 of 1 completed\n",
      "[*********************100%%**********************]  1 of 1 completed\n",
      "[*********************100%%**********************]  1 of 1 completed\n"
     ]
    },
    {
     "name": "stdout",
     "output_type": "stream",
     "text": [
      "BRO\n",
      "BF.B\n",
      "BLDR\n"
     ]
    },
    {
     "name": "stderr",
     "output_type": "stream",
     "text": [
      "[*********************100%%**********************]  1 of 1 completed\n",
      "\n",
      "1 Failed download:\n",
      "['BF.B']: Exception('%ticker%: No price data found, symbol may be delisted (1d 2019-01-01 00:00:00 -> 2024-01-26 00:00:00)')\n",
      "[*********************100%%**********************]  1 of 1 completed\n"
     ]
    },
    {
     "name": "stdout",
     "output_type": "stream",
     "text": [
      "BG\n",
      "CDNS\n"
     ]
    },
    {
     "name": "stderr",
     "output_type": "stream",
     "text": [
      "[*********************100%%**********************]  1 of 1 completed\n",
      "[*********************100%%**********************]  1 of 1 completed\n"
     ]
    },
    {
     "name": "stdout",
     "output_type": "stream",
     "text": [
      "CZR\n",
      "CPT\n"
     ]
    },
    {
     "name": "stderr",
     "output_type": "stream",
     "text": [
      "[*********************100%%**********************]  1 of 1 completed\n"
     ]
    },
    {
     "name": "stdout",
     "output_type": "stream",
     "text": [
      "CPB\n"
     ]
    },
    {
     "name": "stderr",
     "output_type": "stream",
     "text": [
      "[*********************100%%**********************]  1 of 1 completed\n",
      "[*********************100%%**********************]  1 of 1 completed\n"
     ]
    },
    {
     "name": "stdout",
     "output_type": "stream",
     "text": [
      "COF\n",
      "CAH\n"
     ]
    },
    {
     "name": "stderr",
     "output_type": "stream",
     "text": [
      "[*********************100%%**********************]  1 of 1 completed\n",
      "[*********************100%%**********************]  1 of 1 completed\n"
     ]
    },
    {
     "name": "stdout",
     "output_type": "stream",
     "text": [
      "KMX\n",
      "CCL\n"
     ]
    },
    {
     "name": "stderr",
     "output_type": "stream",
     "text": [
      "[*********************100%%**********************]  1 of 1 completed\n"
     ]
    },
    {
     "name": "stdout",
     "output_type": "stream",
     "text": [
      "CARR\n"
     ]
    },
    {
     "name": "stderr",
     "output_type": "stream",
     "text": [
      "[*********************100%%**********************]  1 of 1 completed\n",
      "[*********************100%%**********************]  1 of 1 completed\n"
     ]
    },
    {
     "name": "stdout",
     "output_type": "stream",
     "text": [
      "CTLT\n",
      "CAT\n"
     ]
    },
    {
     "name": "stderr",
     "output_type": "stream",
     "text": [
      "[*********************100%%**********************]  1 of 1 completed\n"
     ]
    },
    {
     "name": "stdout",
     "output_type": "stream",
     "text": [
      "CBOE\n"
     ]
    },
    {
     "name": "stderr",
     "output_type": "stream",
     "text": [
      "[*********************100%%**********************]  1 of 1 completed\n",
      "[*********************100%%**********************]  1 of 1 completed\n"
     ]
    },
    {
     "name": "stdout",
     "output_type": "stream",
     "text": [
      "CBRE\n",
      "CDW\n"
     ]
    },
    {
     "name": "stderr",
     "output_type": "stream",
     "text": [
      "[*********************100%%**********************]  1 of 1 completed\n",
      "[*********************100%%**********************]  1 of 1 completed\n"
     ]
    },
    {
     "name": "stdout",
     "output_type": "stream",
     "text": [
      "CE\n",
      "COR\n"
     ]
    },
    {
     "name": "stderr",
     "output_type": "stream",
     "text": [
      "[*********************100%%**********************]  1 of 1 completed\n",
      "[*********************100%%**********************]  1 of 1 completed\n"
     ]
    },
    {
     "name": "stdout",
     "output_type": "stream",
     "text": [
      "CNC\n",
      "CNP\n"
     ]
    },
    {
     "name": "stderr",
     "output_type": "stream",
     "text": [
      "[*********************100%%**********************]  1 of 1 completed\n"
     ]
    },
    {
     "name": "stdout",
     "output_type": "stream",
     "text": [
      "CDAY\n"
     ]
    },
    {
     "name": "stderr",
     "output_type": "stream",
     "text": [
      "[*********************100%%**********************]  1 of 1 completed\n",
      "[*********************100%%**********************]  1 of 1 completed\n"
     ]
    },
    {
     "name": "stdout",
     "output_type": "stream",
     "text": [
      "CF\n",
      "CHRW\n"
     ]
    },
    {
     "name": "stderr",
     "output_type": "stream",
     "text": [
      "[*********************100%%**********************]  1 of 1 completed\n",
      "[*********************100%%**********************]  1 of 1 completed\n"
     ]
    },
    {
     "name": "stdout",
     "output_type": "stream",
     "text": [
      "CRL\n",
      "SCHW\n"
     ]
    },
    {
     "name": "stderr",
     "output_type": "stream",
     "text": [
      "[*********************100%%**********************]  1 of 1 completed\n",
      "[*********************100%%**********************]  1 of 1 completed\n"
     ]
    },
    {
     "name": "stdout",
     "output_type": "stream",
     "text": [
      "CHTR\n",
      "CVX\n"
     ]
    },
    {
     "name": "stderr",
     "output_type": "stream",
     "text": [
      "[*********************100%%**********************]  1 of 1 completed\n"
     ]
    },
    {
     "name": "stdout",
     "output_type": "stream",
     "text": [
      "CMG\n"
     ]
    },
    {
     "name": "stderr",
     "output_type": "stream",
     "text": [
      "[*********************100%%**********************]  1 of 1 completed\n",
      "[*********************100%%**********************]  1 of 1 completed\n"
     ]
    },
    {
     "name": "stdout",
     "output_type": "stream",
     "text": [
      "CB\n",
      "CHD\n"
     ]
    },
    {
     "name": "stderr",
     "output_type": "stream",
     "text": [
      "[*********************100%%**********************]  1 of 1 completed\n",
      "[*********************100%%**********************]  1 of 1 completed\n"
     ]
    },
    {
     "name": "stdout",
     "output_type": "stream",
     "text": [
      "CI\n",
      "CINF\n"
     ]
    },
    {
     "name": "stderr",
     "output_type": "stream",
     "text": [
      "[*********************100%%**********************]  1 of 1 completed\n",
      "[*********************100%%**********************]  1 of 1 completed\n"
     ]
    },
    {
     "name": "stdout",
     "output_type": "stream",
     "text": [
      "CTAS\n",
      "CSCO\n"
     ]
    },
    {
     "name": "stderr",
     "output_type": "stream",
     "text": [
      "[*********************100%%**********************]  1 of 1 completed\n",
      "[*********************100%%**********************]  1 of 1 completed\n"
     ]
    },
    {
     "name": "stdout",
     "output_type": "stream",
     "text": [
      "C\n",
      "CFG\n"
     ]
    },
    {
     "name": "stderr",
     "output_type": "stream",
     "text": [
      "[*********************100%%**********************]  1 of 1 completed\n",
      "[*********************100%%**********************]  1 of 1 completed\n"
     ]
    },
    {
     "name": "stdout",
     "output_type": "stream",
     "text": [
      "CLX\n",
      "CME\n"
     ]
    },
    {
     "name": "stderr",
     "output_type": "stream",
     "text": [
      "[*********************100%%**********************]  1 of 1 completed\n"
     ]
    },
    {
     "name": "stdout",
     "output_type": "stream",
     "text": [
      "CMS\n"
     ]
    },
    {
     "name": "stderr",
     "output_type": "stream",
     "text": [
      "[*********************100%%**********************]  1 of 1 completed\n"
     ]
    },
    {
     "name": "stdout",
     "output_type": "stream",
     "text": [
      "KO\n"
     ]
    },
    {
     "name": "stderr",
     "output_type": "stream",
     "text": [
      "[*********************100%%**********************]  1 of 1 completed\n"
     ]
    },
    {
     "name": "stdout",
     "output_type": "stream",
     "text": [
      "CTSH\n"
     ]
    },
    {
     "name": "stderr",
     "output_type": "stream",
     "text": [
      "[*********************100%%**********************]  1 of 1 completed\n"
     ]
    },
    {
     "name": "stdout",
     "output_type": "stream",
     "text": [
      "CL\n"
     ]
    },
    {
     "name": "stderr",
     "output_type": "stream",
     "text": [
      "[*********************100%%**********************]  1 of 1 completed\n"
     ]
    },
    {
     "name": "stdout",
     "output_type": "stream",
     "text": [
      "CMCSA\n"
     ]
    },
    {
     "name": "stderr",
     "output_type": "stream",
     "text": [
      "[*********************100%%**********************]  1 of 1 completed\n"
     ]
    },
    {
     "name": "stdout",
     "output_type": "stream",
     "text": [
      "CMA\n"
     ]
    },
    {
     "name": "stderr",
     "output_type": "stream",
     "text": [
      "[*********************100%%**********************]  1 of 1 completed\n"
     ]
    },
    {
     "name": "stdout",
     "output_type": "stream",
     "text": [
      "CAG\n"
     ]
    },
    {
     "name": "stderr",
     "output_type": "stream",
     "text": [
      "[*********************100%%**********************]  1 of 1 completed\n"
     ]
    },
    {
     "name": "stdout",
     "output_type": "stream",
     "text": [
      "COP\n"
     ]
    },
    {
     "name": "stderr",
     "output_type": "stream",
     "text": [
      "[*********************100%%**********************]  1 of 1 completed\n"
     ]
    },
    {
     "name": "stdout",
     "output_type": "stream",
     "text": [
      "ED\n"
     ]
    },
    {
     "name": "stderr",
     "output_type": "stream",
     "text": [
      "[*********************100%%**********************]  1 of 1 completed\n"
     ]
    },
    {
     "name": "stdout",
     "output_type": "stream",
     "text": [
      "STZ\n"
     ]
    },
    {
     "name": "stderr",
     "output_type": "stream",
     "text": [
      "[*********************100%%**********************]  1 of 1 completed\n"
     ]
    },
    {
     "name": "stdout",
     "output_type": "stream",
     "text": [
      "CEG\n"
     ]
    },
    {
     "name": "stderr",
     "output_type": "stream",
     "text": [
      "[*********************100%%**********************]  1 of 1 completed\n"
     ]
    },
    {
     "name": "stdout",
     "output_type": "stream",
     "text": [
      "COO\n"
     ]
    },
    {
     "name": "stderr",
     "output_type": "stream",
     "text": [
      "[*********************100%%**********************]  1 of 1 completed\n"
     ]
    },
    {
     "name": "stdout",
     "output_type": "stream",
     "text": [
      "CPRT\n"
     ]
    },
    {
     "name": "stderr",
     "output_type": "stream",
     "text": [
      "[*********************100%%**********************]  1 of 1 completed\n"
     ]
    },
    {
     "name": "stdout",
     "output_type": "stream",
     "text": [
      "GLW\n"
     ]
    },
    {
     "name": "stderr",
     "output_type": "stream",
     "text": [
      "[*********************100%%**********************]  1 of 1 completed\n"
     ]
    },
    {
     "name": "stdout",
     "output_type": "stream",
     "text": [
      "CTVA\n"
     ]
    },
    {
     "name": "stderr",
     "output_type": "stream",
     "text": [
      "[*********************100%%**********************]  1 of 1 completed\n"
     ]
    },
    {
     "name": "stdout",
     "output_type": "stream",
     "text": [
      "CSGP\n"
     ]
    },
    {
     "name": "stderr",
     "output_type": "stream",
     "text": [
      "[*********************100%%**********************]  1 of 1 completed\n"
     ]
    },
    {
     "name": "stdout",
     "output_type": "stream",
     "text": [
      "COST\n",
      "CTRA\n",
      "CCI\n"
     ]
    },
    {
     "name": "stderr",
     "output_type": "stream",
     "text": [
      "[*********************100%%**********************]  1 of 1 completed\n",
      "\n",
      "1 Failed download:\n",
      "['COST']: ConnectionError(ReadTimeoutError(\"HTTPSConnectionPool(host='query2.finance.yahoo.com', port=443): Read timed out.\"))\n"
     ]
    },
    {
     "name": "stdout",
     "output_type": "stream",
     "text": [
      "CSX\n"
     ]
    },
    {
     "name": "stderr",
     "output_type": "stream",
     "text": [
      "[*********************100%%**********************]  1 of 1 completed\n",
      "\n",
      "1 Failed download:\n",
      "['CCI']: ReadTimeout(ReadTimeoutError(\"HTTPSConnectionPool(host='query2.finance.yahoo.com', port=443): Read timed out. (read timeout=10)\"))\n"
     ]
    },
    {
     "name": "stdout",
     "output_type": "stream",
     "text": [
      "CMI\n"
     ]
    },
    {
     "name": "stderr",
     "output_type": "stream",
     "text": [
      "[*********************100%%**********************]  1 of 1 completed\n",
      "\n",
      "1 Failed download:\n",
      "['CSX']: ReadTimeout(ReadTimeoutError(\"HTTPSConnectionPool(host='query2.finance.yahoo.com', port=443): Read timed out. (read timeout=10)\"))\n"
     ]
    },
    {
     "name": "stdout",
     "output_type": "stream",
     "text": [
      "CVS\n"
     ]
    },
    {
     "name": "stderr",
     "output_type": "stream",
     "text": [
      "[*********************100%%**********************]  1 of 1 completed\n"
     ]
    },
    {
     "name": "stdout",
     "output_type": "stream",
     "text": [
      "DHR\n"
     ]
    },
    {
     "name": "stderr",
     "output_type": "stream",
     "text": [
      "[*********************100%%**********************]  1 of 1 completed\n"
     ]
    },
    {
     "name": "stdout",
     "output_type": "stream",
     "text": [
      "DRI\n"
     ]
    },
    {
     "name": "stderr",
     "output_type": "stream",
     "text": [
      "[*********************100%%**********************]  1 of 1 completed\n"
     ]
    },
    {
     "name": "stdout",
     "output_type": "stream",
     "text": [
      "DVA\n"
     ]
    },
    {
     "name": "stderr",
     "output_type": "stream",
     "text": [
      "[*********************100%%**********************]  1 of 1 completed\n"
     ]
    },
    {
     "name": "stdout",
     "output_type": "stream",
     "text": [
      "DE\n"
     ]
    },
    {
     "name": "stderr",
     "output_type": "stream",
     "text": [
      "[*********************100%%**********************]  1 of 1 completed\n"
     ]
    },
    {
     "name": "stdout",
     "output_type": "stream",
     "text": [
      "DAL\n"
     ]
    },
    {
     "name": "stderr",
     "output_type": "stream",
     "text": [
      "[*********************100%%**********************]  1 of 1 completed\n"
     ]
    },
    {
     "name": "stdout",
     "output_type": "stream",
     "text": [
      "XRAY\n"
     ]
    },
    {
     "name": "stderr",
     "output_type": "stream",
     "text": [
      "[*********************100%%**********************]  1 of 1 completed\n"
     ]
    },
    {
     "name": "stdout",
     "output_type": "stream",
     "text": [
      "DVN\n"
     ]
    },
    {
     "name": "stderr",
     "output_type": "stream",
     "text": [
      "[*********************100%%**********************]  1 of 1 completed\n"
     ]
    },
    {
     "name": "stdout",
     "output_type": "stream",
     "text": [
      "DXCM\n"
     ]
    },
    {
     "name": "stderr",
     "output_type": "stream",
     "text": [
      "[*********************100%%**********************]  1 of 1 completed\n"
     ]
    },
    {
     "name": "stdout",
     "output_type": "stream",
     "text": [
      "FANG\n"
     ]
    },
    {
     "name": "stderr",
     "output_type": "stream",
     "text": [
      "[*********************100%%**********************]  1 of 1 completed\n"
     ]
    },
    {
     "name": "stdout",
     "output_type": "stream",
     "text": [
      "DLR\n"
     ]
    },
    {
     "name": "stderr",
     "output_type": "stream",
     "text": [
      "[*********************100%%**********************]  1 of 1 completed\n"
     ]
    },
    {
     "name": "stdout",
     "output_type": "stream",
     "text": [
      "DFS\n"
     ]
    },
    {
     "name": "stderr",
     "output_type": "stream",
     "text": [
      "[*********************100%%**********************]  1 of 1 completed\n"
     ]
    },
    {
     "name": "stdout",
     "output_type": "stream",
     "text": [
      "DG\n"
     ]
    },
    {
     "name": "stderr",
     "output_type": "stream",
     "text": [
      "[*********************100%%**********************]  1 of 1 completed\n"
     ]
    },
    {
     "name": "stdout",
     "output_type": "stream",
     "text": [
      "DLTR\n",
      "D\n",
      "DPZ\n"
     ]
    },
    {
     "name": "stderr",
     "output_type": "stream",
     "text": [
      "[*********************100%%**********************]  1 of 1 completed\n"
     ]
    },
    {
     "name": "stdout",
     "output_type": "stream",
     "text": [
      "DOV\n"
     ]
    },
    {
     "name": "stderr",
     "output_type": "stream",
     "text": [
      "[*********************100%%**********************]  1 of 1 completed\n"
     ]
    },
    {
     "name": "stdout",
     "output_type": "stream",
     "text": [
      "DOW\n"
     ]
    },
    {
     "name": "stderr",
     "output_type": "stream",
     "text": [
      "[*********************100%%**********************]  1 of 1 completed\n"
     ]
    },
    {
     "name": "stdout",
     "output_type": "stream",
     "text": [
      "DHI\n"
     ]
    },
    {
     "name": "stderr",
     "output_type": "stream",
     "text": [
      "[*********************100%%**********************]  1 of 1 completed\n"
     ]
    },
    {
     "name": "stdout",
     "output_type": "stream",
     "text": [
      "DTE\n"
     ]
    },
    {
     "name": "stderr",
     "output_type": "stream",
     "text": [
      "[*********************100%%**********************]  1 of 1 completed\n"
     ]
    },
    {
     "name": "stdout",
     "output_type": "stream",
     "text": [
      "DUK\n"
     ]
    },
    {
     "name": "stderr",
     "output_type": "stream",
     "text": [
      "[*********************100%%**********************]  1 of 1 completed\n"
     ]
    },
    {
     "name": "stdout",
     "output_type": "stream",
     "text": [
      "DD\n"
     ]
    },
    {
     "name": "stderr",
     "output_type": "stream",
     "text": [
      "[*********************100%%**********************]  1 of 1 completed\n"
     ]
    },
    {
     "name": "stdout",
     "output_type": "stream",
     "text": [
      "EMN\n"
     ]
    },
    {
     "name": "stderr",
     "output_type": "stream",
     "text": [
      "[*********************100%%**********************]  1 of 1 completed\n"
     ]
    },
    {
     "name": "stdout",
     "output_type": "stream",
     "text": [
      "ETN\n"
     ]
    },
    {
     "name": "stderr",
     "output_type": "stream",
     "text": [
      "[*********************100%%**********************]  1 of 1 completed\n"
     ]
    },
    {
     "name": "stdout",
     "output_type": "stream",
     "text": [
      "EBAY\n"
     ]
    },
    {
     "name": "stderr",
     "output_type": "stream",
     "text": [
      "[*********************100%%**********************]  1 of 1 completed\n"
     ]
    },
    {
     "name": "stdout",
     "output_type": "stream",
     "text": [
      "ECL\n"
     ]
    },
    {
     "name": "stderr",
     "output_type": "stream",
     "text": [
      "[*********************100%%**********************]  1 of 1 completed\n"
     ]
    },
    {
     "name": "stdout",
     "output_type": "stream",
     "text": [
      "EIX\n"
     ]
    },
    {
     "name": "stderr",
     "output_type": "stream",
     "text": [
      "[*********************100%%**********************]  1 of 1 completed\n"
     ]
    },
    {
     "name": "stdout",
     "output_type": "stream",
     "text": [
      "EW\n"
     ]
    },
    {
     "name": "stderr",
     "output_type": "stream",
     "text": [
      "[*********************100%%**********************]  1 of 1 completed\n"
     ]
    },
    {
     "name": "stdout",
     "output_type": "stream",
     "text": [
      "EA\n"
     ]
    },
    {
     "name": "stderr",
     "output_type": "stream",
     "text": [
      "[*********************100%%**********************]  1 of 1 completed\n"
     ]
    },
    {
     "name": "stdout",
     "output_type": "stream",
     "text": [
      "ELV\n"
     ]
    },
    {
     "name": "stderr",
     "output_type": "stream",
     "text": [
      "[*********************100%%**********************]  1 of 1 completed\n"
     ]
    },
    {
     "name": "stdout",
     "output_type": "stream",
     "text": [
      "LLY\n"
     ]
    },
    {
     "name": "stderr",
     "output_type": "stream",
     "text": [
      "[*********************100%%**********************]  1 of 1 completed\n"
     ]
    },
    {
     "name": "stdout",
     "output_type": "stream",
     "text": [
      "EMR\n"
     ]
    },
    {
     "name": "stderr",
     "output_type": "stream",
     "text": [
      "[*********************100%%**********************]  1 of 1 completed\n"
     ]
    },
    {
     "name": "stdout",
     "output_type": "stream",
     "text": [
      "ENPH\n"
     ]
    },
    {
     "name": "stderr",
     "output_type": "stream",
     "text": [
      "[*********************100%%**********************]  1 of 1 completed\n",
      "\n",
      "1 Failed download:\n",
      "['ENPH']: ConnectionError(ReadTimeoutError(\"HTTPSConnectionPool(host='query2.finance.yahoo.com', port=443): Read timed out.\"))\n"
     ]
    },
    {
     "name": "stdout",
     "output_type": "stream",
     "text": [
      "ETR\n"
     ]
    },
    {
     "name": "stderr",
     "output_type": "stream",
     "text": [
      "[*********************100%%**********************]  1 of 1 completed\n"
     ]
    },
    {
     "name": "stdout",
     "output_type": "stream",
     "text": [
      "EOG\n"
     ]
    },
    {
     "name": "stderr",
     "output_type": "stream",
     "text": [
      "[*********************100%%**********************]  1 of 1 completed\n"
     ]
    },
    {
     "name": "stdout",
     "output_type": "stream",
     "text": [
      "EPAM\n"
     ]
    },
    {
     "name": "stderr",
     "output_type": "stream",
     "text": [
      "[*********************100%%**********************]  1 of 1 completed\n"
     ]
    },
    {
     "name": "stdout",
     "output_type": "stream",
     "text": [
      "EQT\n"
     ]
    },
    {
     "name": "stderr",
     "output_type": "stream",
     "text": [
      "[*********************100%%**********************]  1 of 1 completed\n"
     ]
    },
    {
     "name": "stdout",
     "output_type": "stream",
     "text": [
      "EFX\n"
     ]
    },
    {
     "name": "stderr",
     "output_type": "stream",
     "text": [
      "[*********************100%%**********************]  1 of 1 completed\n",
      "\n",
      "1 Failed download:\n",
      "['EFX']: ReadTimeout(ReadTimeoutError(\"HTTPSConnectionPool(host='query2.finance.yahoo.com', port=443): Read timed out. (read timeout=10)\"))\n"
     ]
    },
    {
     "name": "stdout",
     "output_type": "stream",
     "text": [
      "EQIX\n"
     ]
    },
    {
     "name": "stderr",
     "output_type": "stream",
     "text": [
      "[*********************100%%**********************]  1 of 1 completed\n",
      "\n",
      "1 Failed download:\n",
      "['EQIX']: ReadTimeout(ReadTimeoutError(\"HTTPSConnectionPool(host='query2.finance.yahoo.com', port=443): Read timed out. (read timeout=10)\"))\n"
     ]
    },
    {
     "name": "stdout",
     "output_type": "stream",
     "text": [
      "EQR\n"
     ]
    },
    {
     "name": "stderr",
     "output_type": "stream",
     "text": [
      "[*********************100%%**********************]  1 of 1 completed\n",
      "\n",
      "1 Failed download:\n",
      "['EQR']: ReadTimeout(ReadTimeoutError(\"HTTPSConnectionPool(host='query2.finance.yahoo.com', port=443): Read timed out. (read timeout=10)\"))\n"
     ]
    },
    {
     "name": "stdout",
     "output_type": "stream",
     "text": [
      "ESS\n",
      "EL\n",
      "ETSY\n",
      "EG\n",
      "EVRG\n",
      "ES\n",
      "EXC\n",
      "EXPE\n",
      "EXPD\n",
      "EXR\n",
      "XOM\n",
      "FFIV\n",
      "FDS\n",
      "FICO\n",
      "FAST\n",
      "FRT\n",
      "FDX\n",
      "FIS\n",
      "FITB\n",
      "FSLR\n",
      "FE\n",
      "FI\n",
      "FLT\n",
      "FMC\n",
      "F\n",
      "FTNT\n",
      "FTV\n",
      "FOXA\n",
      "FOX\n",
      "BEN\n",
      "FCX\n",
      "GRMN\n",
      "IT\n",
      "GEHC\n",
      "GEN\n",
      "GNRC\n",
      "GD\n",
      "GE\n",
      "GIS\n",
      "GM\n",
      "GPC\n",
      "GILD\n",
      "GPN\n",
      "GL\n",
      "GS\n",
      "HAL\n",
      "HIG\n",
      "HAS\n",
      "HCA\n",
      "PEAK\n",
      "HSIC\n",
      "HSY\n",
      "HES\n",
      "HPE\n"
     ]
    },
    {
     "name": "stderr",
     "output_type": "stream",
     "text": [
      "[*********************100%%**********************]  1 of 1 completed\n",
      "\n",
      "1 Failed download:\n",
      "['EG']: ReadTimeout(ReadTimeoutError(\"HTTPSConnectionPool(host='query2.finance.yahoo.com', port=443): Read timed out. (read timeout=10)\"))\n",
      "[*********************100%%**********************]  1 of 1 completed\n",
      "\n",
      "1 Failed download:\n",
      "['ETSY']: ReadTimeout(ReadTimeoutError(\"HTTPSConnectionPool(host='query2.finance.yahoo.com', port=443): Read timed out. (read timeout=10)\"))\n",
      "[*********************100%%**********************]  1 of 1 completed\n",
      "\n",
      "1 Failed download:\n",
      "['EXC']: ReadTimeout(ReadTimeoutError(\"HTTPSConnectionPool(host='query2.finance.yahoo.com', port=443): Read timed out. (read timeout=10)\"))\n"
     ]
    },
    {
     "name": "stdout",
     "output_type": "stream",
     "text": [
      "HLT\n",
      "HOLX\n",
      "HD\n"
     ]
    },
    {
     "name": "stderr",
     "output_type": "stream",
     "text": [
      "[*********************100%%**********************]  1 of 1 completed\n",
      "\n",
      "1 Failed download:\n",
      "['EXPE']: ReadTimeout(ReadTimeoutError(\"HTTPSConnectionPool(host='query2.finance.yahoo.com', port=443): Read timed out. (read timeout=10)\"))\n"
     ]
    },
    {
     "name": "stdout",
     "output_type": "stream",
     "text": [
      "HON\n"
     ]
    },
    {
     "name": "stderr",
     "output_type": "stream",
     "text": [
      "[*********************100%%**********************]  1 of 1 completed\n",
      "\n",
      "1 Failed download:\n",
      "['EVRG']: ReadTimeout(ReadTimeoutError(\"HTTPSConnectionPool(host='query2.finance.yahoo.com', port=443): Read timed out. (read timeout=10)\"))\n"
     ]
    },
    {
     "name": "stdout",
     "output_type": "stream",
     "text": [
      "HRL\n"
     ]
    },
    {
     "name": "stderr",
     "output_type": "stream",
     "text": [
      "[*********************100%%**********************]  1 of 1 completed\n"
     ]
    },
    {
     "name": "stdout",
     "output_type": "stream",
     "text": [
      "HST\n"
     ]
    },
    {
     "name": "stderr",
     "output_type": "stream",
     "text": [
      "[*********************100%%**********************]  1 of 1 completed\n",
      "\n",
      "1 Failed download:\n",
      "['ES']: ReadTimeout(ReadTimeoutError(\"HTTPSConnectionPool(host='query2.finance.yahoo.com', port=443): Read timed out. (read timeout=10)\"))\n"
     ]
    },
    {
     "name": "stdout",
     "output_type": "stream",
     "text": [
      "HWM\n"
     ]
    },
    {
     "name": "stderr",
     "output_type": "stream",
     "text": [
      "[*********************100%%**********************]  1 of 1 completed\n",
      "\n",
      "1 Failed download:\n",
      "['ESS']: ConnectionError(ProtocolError('Connection aborted.', RemoteDisconnected('Remote end closed connection without response')))\n"
     ]
    },
    {
     "name": "stdout",
     "output_type": "stream",
     "text": [
      "HPQ\n"
     ]
    },
    {
     "name": "stderr",
     "output_type": "stream",
     "text": [
      "[*********************100%%**********************]  1 of 1 completed\n",
      "\n",
      "1 Failed download:\n",
      "['XOM']: ReadTimeout(ReadTimeoutError(\"HTTPSConnectionPool(host='query2.finance.yahoo.com', port=443): Read timed out. (read timeout=10)\"))\n",
      "[*********************100%%**********************]  1 of 1 completed\n",
      "\n",
      "1 Failed download:\n",
      "['EXPD']: ReadTimeout(ReadTimeoutError(\"HTTPSConnectionPool(host='query2.finance.yahoo.com', port=443): Read timed out. (read timeout=10)\"))\n"
     ]
    },
    {
     "name": "stdout",
     "output_type": "stream",
     "text": [
      "HUBB\n",
      "HUM\n"
     ]
    },
    {
     "name": "stderr",
     "output_type": "stream",
     "text": [
      "[*********************100%%**********************]  1 of 1 completed\n",
      "\n",
      "1 Failed download:\n",
      "['EXR']: ReadTimeout(ReadTimeoutError(\"HTTPSConnectionPool(host='query2.finance.yahoo.com', port=443): Read timed out. (read timeout=10)\"))\n"
     ]
    },
    {
     "name": "stdout",
     "output_type": "stream",
     "text": [
      "HBAN\n"
     ]
    },
    {
     "name": "stderr",
     "output_type": "stream",
     "text": [
      "[*********************100%%**********************]  1 of 1 completed\n",
      "\n",
      "1 Failed download:\n",
      "['FICO']: ReadTimeout(ReadTimeoutError(\"HTTPSConnectionPool(host='query2.finance.yahoo.com', port=443): Read timed out. (read timeout=10)\"))\n"
     ]
    },
    {
     "name": "stdout",
     "output_type": "stream",
     "text": [
      "HII\n"
     ]
    },
    {
     "name": "stderr",
     "output_type": "stream",
     "text": [
      "[*********************100%%**********************]  1 of 1 completed\n",
      "\n",
      "1 Failed download:\n",
      "['FFIV']: ReadTimeout(ReadTimeoutError(\"HTTPSConnectionPool(host='query2.finance.yahoo.com', port=443): Read timed out. (read timeout=10)\"))\n"
     ]
    },
    {
     "name": "stdout",
     "output_type": "stream",
     "text": [
      "IBM\n"
     ]
    }
   ],
   "source": [
    "result_data = pd.DataFrame()\n",
    "for i in ticker:\n",
    "    # Read in the data\n",
    "    try:\n",
    "        print(i)\n",
    "        sma_ = [5,10,15,20,50,60,120,150,200]\n",
    "        ema_ = [5,10,15,20,50,60,120,150,200]\n",
    "        data = getdata(i,sma_value = [5,10,15,20,50,60,120,150,200],ema_value = [5,10,15,20,50,60,120,150,200],close = \"Close\")\n",
    "        data['RSI'] = RSI(data['Close'])\n",
    "        #data  = macd(data)\n",
    "        # Get signal\n",
    "        df_signal = Generate_signal(data,'SMA10','EMA10')\n",
    "        # back test your strategy using Open price as price action to buy sell on particular day\n",
    "        df_signal['Price']=df_signal['Open']\n",
    "        df_backtest = df_signal[['Date','Price','signal','Open','ticker']].copy()\n",
    "        result, hold_detail,result_data = backtest_strategy(df_backtest,1000,result_data)\n",
    "    except:\n",
    "        pass # doing nothing on exception"
   ]
  },
  {
   "cell_type": "code",
   "execution_count": 31,
   "id": "78056e1c-cf5d-4082-b82c-4483445e55b9",
   "metadata": {},
   "outputs": [
    {
     "ename": "KeyError",
     "evalue": "'Average Win'",
     "output_type": "error",
     "traceback": [
      "\u001b[0;31m---------------------------------------------------------------------------\u001b[0m",
      "\u001b[0;31mKeyError\u001b[0m                                  Traceback (most recent call last)",
      "Cell \u001b[0;32mIn[31], line 2\u001b[0m\n\u001b[1;32m      1\u001b[0m \u001b[38;5;66;03m# calculated risk reward ratio\u001b[39;00m\n\u001b[0;32m----> 2\u001b[0m result_data[\u001b[38;5;124m'\u001b[39m\u001b[38;5;124mRisk Reward ratio\u001b[39m\u001b[38;5;124m'\u001b[39m] \u001b[38;5;241m=\u001b[39m \u001b[43mresult_data\u001b[49m\u001b[43m[\u001b[49m\u001b[38;5;124;43m'\u001b[39;49m\u001b[38;5;124;43mAverage Win\u001b[39;49m\u001b[38;5;124;43m'\u001b[39;49m\u001b[43m]\u001b[49m\u001b[38;5;241m/\u001b[39m\u001b[38;5;28mabs\u001b[39m(result_data[\u001b[38;5;124m'\u001b[39m\u001b[38;5;124mAverage lost\u001b[39m\u001b[38;5;124m'\u001b[39m])\n",
      "File \u001b[0;32m~/stock-market/env3/lib/python3.10/site-packages/pandas/core/frame.py:3893\u001b[0m, in \u001b[0;36mDataFrame.__getitem__\u001b[0;34m(self, key)\u001b[0m\n\u001b[1;32m   3891\u001b[0m \u001b[38;5;28;01mif\u001b[39;00m \u001b[38;5;28mself\u001b[39m\u001b[38;5;241m.\u001b[39mcolumns\u001b[38;5;241m.\u001b[39mnlevels \u001b[38;5;241m>\u001b[39m \u001b[38;5;241m1\u001b[39m:\n\u001b[1;32m   3892\u001b[0m     \u001b[38;5;28;01mreturn\u001b[39;00m \u001b[38;5;28mself\u001b[39m\u001b[38;5;241m.\u001b[39m_getitem_multilevel(key)\n\u001b[0;32m-> 3893\u001b[0m indexer \u001b[38;5;241m=\u001b[39m \u001b[38;5;28;43mself\u001b[39;49m\u001b[38;5;241;43m.\u001b[39;49m\u001b[43mcolumns\u001b[49m\u001b[38;5;241;43m.\u001b[39;49m\u001b[43mget_loc\u001b[49m\u001b[43m(\u001b[49m\u001b[43mkey\u001b[49m\u001b[43m)\u001b[49m\n\u001b[1;32m   3894\u001b[0m \u001b[38;5;28;01mif\u001b[39;00m is_integer(indexer):\n\u001b[1;32m   3895\u001b[0m     indexer \u001b[38;5;241m=\u001b[39m [indexer]\n",
      "File \u001b[0;32m~/stock-market/env3/lib/python3.10/site-packages/pandas/core/indexes/range.py:418\u001b[0m, in \u001b[0;36mRangeIndex.get_loc\u001b[0;34m(self, key)\u001b[0m\n\u001b[1;32m    416\u001b[0m         \u001b[38;5;28;01mraise\u001b[39;00m \u001b[38;5;167;01mKeyError\u001b[39;00m(key) \u001b[38;5;28;01mfrom\u001b[39;00m \u001b[38;5;21;01merr\u001b[39;00m\n\u001b[1;32m    417\u001b[0m \u001b[38;5;28;01mif\u001b[39;00m \u001b[38;5;28misinstance\u001b[39m(key, Hashable):\n\u001b[0;32m--> 418\u001b[0m     \u001b[38;5;28;01mraise\u001b[39;00m \u001b[38;5;167;01mKeyError\u001b[39;00m(key)\n\u001b[1;32m    419\u001b[0m \u001b[38;5;28mself\u001b[39m\u001b[38;5;241m.\u001b[39m_check_indexing_error(key)\n\u001b[1;32m    420\u001b[0m \u001b[38;5;28;01mraise\u001b[39;00m \u001b[38;5;167;01mKeyError\u001b[39;00m(key)\n",
      "\u001b[0;31mKeyError\u001b[0m: 'Average Win'"
     ]
    }
   ],
   "source": [
    "# calculated risk reward ratio\n",
    "result_data['Risk Reward ratio'] = result_data['Average Win']/abs(result_data['Average lost'])"
   ]
  },
  {
   "cell_type": "code",
   "execution_count": null,
   "id": "c2fd9cf1-8ef0-40cf-bb65-7443d75626c4",
   "metadata": {},
   "outputs": [],
   "source": []
  }
 ],
 "metadata": {
  "kernelspec": {
   "display_name": "Python 3 (ipykernel)",
   "language": "python",
   "name": "python3"
  },
  "language_info": {
   "codemirror_mode": {
    "name": "ipython",
    "version": 3
   },
   "file_extension": ".py",
   "mimetype": "text/x-python",
   "name": "python",
   "nbconvert_exporter": "python",
   "pygments_lexer": "ipython3",
   "version": "3.10.12"
  }
 },
 "nbformat": 4,
 "nbformat_minor": 5
}
