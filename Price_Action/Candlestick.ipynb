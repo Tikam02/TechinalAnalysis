{
 "cells": [
  {
   "cell_type": "markdown",
   "id": "4e13de00-97d1-4dce-b554-41683fd57d87",
   "metadata": {},
   "source": [
    "# Candlestick"
   ]
  },
  {
   "cell_type": "code",
   "execution_count": 3,
   "id": "6912b173-31c1-4748-8a16-3d7459ac8929",
   "metadata": {},
   "outputs": [
    {
     "ename": "ImportError",
     "evalue": "cannot import name 'abstract' from 'ta' (/home/tikam/stock-market/env3/lib/python3.10/site-packages/ta/__init__.py)",
     "output_type": "error",
     "traceback": [
      "\u001b[0;31m---------------------------------------------------------------------------\u001b[0m",
      "\u001b[0;31mImportError\u001b[0m                               Traceback (most recent call last)",
      "Cell \u001b[0;32mIn[3], line 2\u001b[0m\n\u001b[1;32m      1\u001b[0m \u001b[38;5;28;01mimport\u001b[39;00m \u001b[38;5;21;01mta\u001b[39;00m\n\u001b[0;32m----> 2\u001b[0m \u001b[38;5;28;01mfrom\u001b[39;00m \u001b[38;5;21;01mta\u001b[39;00m \u001b[38;5;28;01mimport\u001b[39;00m abstract\n",
      "\u001b[0;31mImportError\u001b[0m: cannot import name 'abstract' from 'ta' (/home/tikam/stock-market/env3/lib/python3.10/site-packages/ta/__init__.py)"
     ]
    }
   ],
   "source": [
    "import ta\n",
    "from ta import abstract"
   ]
  },
  {
   "cell_type": "code",
   "execution_count": 1,
   "id": "3a2d2f40-7179-473e-b562-d766f3eef59c",
   "metadata": {},
   "outputs": [
    {
     "ename": "ImportError",
     "evalue": "cannot import name 'abstract' from 'ta' (/home/tikam/stock-market/env3/lib/python3.10/site-packages/ta/__init__.py)",
     "output_type": "error",
     "traceback": [
      "\u001b[0;31m---------------------------------------------------------------------------\u001b[0m",
      "\u001b[0;31mImportError\u001b[0m                               Traceback (most recent call last)",
      "Cell \u001b[0;32mIn[1], line 2\u001b[0m\n\u001b[1;32m      1\u001b[0m \u001b[38;5;28;01mimport\u001b[39;00m \u001b[38;5;21;01mta\u001b[39;00m \u001b[38;5;28;01mas\u001b[39;00m \u001b[38;5;21;01mabstract\u001b[39;00m\n\u001b[0;32m----> 2\u001b[0m \u001b[38;5;28;01mfrom\u001b[39;00m \u001b[38;5;21;01mta\u001b[39;00m \u001b[38;5;28;01mimport\u001b[39;00m abstract\n",
      "\u001b[0;31mImportError\u001b[0m: cannot import name 'abstract' from 'ta' (/home/tikam/stock-market/env3/lib/python3.10/site-packages/ta/__init__.py)"
     ]
    }
   ],
   "source": [
    "import ta as abstract\n",
    "from ta import abstract\n"
   ]
  },
  {
   "cell_type": "code",
   "execution_count": null,
   "id": "83e4dca8-14cb-4c8f-a2b3-2faee96b6166",
   "metadata": {},
   "outputs": [],
   "source": [
    "import plotly.graph_objects as go\n",
    "import pandas as pd\n",
    "from plotly.subplots import make_subplots\n",
    "import ta as ta\n",
    "from ta import abstract\n",
    "import os\n",
    "\n",
    "def plot_chart(symbol, df, pattern_list):\n",
    "    light_palette = {}\n",
    "    light_palette[\"bg_color\"] = \"#ffffff\"\n",
    "    light_palette[\"plot_bg_color\"] = \"#ffffff\"\n",
    "    light_palette[\"grid_color\"] = \"#e6e6e6\"\n",
    "    light_palette[\"text_color\"] = \"#2e2e2e\"\n",
    "    light_palette[\"dark_candle\"] = \"#4d98c4\"\n",
    "    light_palette[\"light_candle\"] = \"#cccccc\"\n",
    "    light_palette[\"volume_color\"] = \"#f5f5f5\"\n",
    "    light_palette[\"border_color\"] = \"#2e2e2e\"\n",
    "    light_palette[\"color_1\"] = \"#5c285b\"\n",
    "    light_palette[\"color_2\"] = \"#802c62\"\n",
    "    light_palette[\"color_3\"] = \"#a33262\"\n",
    "    light_palette[\"color_4\"] = \"#c43d5c\"\n",
    "    light_palette[\"color_5\"] = \"#de4f51\"\n",
    "    light_palette[\"color_6\"] = \"#f26841\"\n",
    "    light_palette[\"color_7\"] = \"#fd862b\"\n",
    "    light_palette[\"color_8\"] = \"#ffa600\"\n",
    "    light_palette[\"color_9\"] = \"#3366d6\"\n",
    "\n",
    "palette = light_palette\n",
    "    #  Create sub plots\n",
    "fig = make_subplots(rows=1, cols=1, subplot_titles=[f\"{symbol} Chart\" ],specs=[[{ \"secondary_y\": True}]],vertical_spacing=0.04, shared_xaxes=True)\n",
    "    #  Plot close price\n",
    "fig.add_trace(go.Candlestick(x=df.index,\n",
    "                                 open=df['Open'],\n",
    "                                 close=df['Close'],\n",
    "                                 low=df['Low'],\n",
    "                                 high=df['High'],\n",
    "                                 increasing_line_color=palette['light_candle'], decreasing_line_color=palette['dark_candle'], name='Price'), row=1, col=1)\n",
    "    #  Add candlestick pattern annotations\n",
    "periods_with_candles = []\n",
    "for pattern_name in pattern_list:\n",
    "    for i, value in enumerate(df[pattern_name]):\n",
    "        #  Skip this period in case it already has a pattern annotation\n",
    "        if i in periods_with_candles:\n",
    "            continue\n",
    "            #  Skip periods where pattern is not identified\n",
    "            if value == 0:\n",
    "                continue\n",
    "            x = i\n",
    "            y = df['High'].iloc[i] + 8\n",
    "            text_color = '#5c285b'\n",
    "            if value > 0:\n",
    "                text_color = 'LightSeaGreen'\n",
    "            fig.add_annotation(x=x, y=y, textangle=-90, text=pattern_name, showarrow=False,\n",
    "                               font=dict(size=9, color=text_color))\n",
    "            periods_with_candles.append(i)\n",
    "    fig.update_layout(\n",
    "            title={'text': '', 'x': 0.5},\n",
    "            font=dict(family=\"Verdana\", size=12, color=palette[\"text_color\"]),\n",
    "            autosize=True,\n",
    "            width=1280, height=720,\n",
    "            xaxis={\"rangeslider\": {\"visible\": False}},\n",
    "            plot_bgcolor=palette[\"plot_bg_color\"],\n",
    "            paper_bgcolor=palette[\"bg_color\"])\n",
    "    fig.update_yaxes(visible=False, secondary_y=True)\n",
    "    #  Change grid color\n",
    "    fig.update_xaxes(showline=True, linewidth=1, linecolor=palette[\"grid_color\"],gridcolor=palette[\"grid_color\"])\n",
    "    fig.update_yaxes(showline=True, linewidth=1, linecolor=palette[\"grid_color\"],gridcolor=palette[\"grid_color\"])\n",
    "    #  Create output file\n",
    "    file_name = f\"{symbol}_candle_pattern_chart.png\"\n",
    "    fig.write_image(os.path.join(RESULTS_PATH, file_name), format=\"png\")\n",
    "    return fi"
   ]
  },
  {
   "cell_type": "code",
   "execution_count": null,
   "id": "40f8d0a5-1135-44ff-b72b-5b97a614e853",
   "metadata": {},
   "outputs": [],
   "source": []
  }
 ],
 "metadata": {
  "kernelspec": {
   "display_name": "Python 3 (ipykernel)",
   "language": "python",
   "name": "python3"
  },
  "language_info": {
   "codemirror_mode": {
    "name": "ipython",
    "version": 3
   },
   "file_extension": ".py",
   "mimetype": "text/x-python",
   "name": "python",
   "nbconvert_exporter": "python",
   "pygments_lexer": "ipython3",
   "version": "3.10.12"
  }
 },
 "nbformat": 4,
 "nbformat_minor": 5
}
