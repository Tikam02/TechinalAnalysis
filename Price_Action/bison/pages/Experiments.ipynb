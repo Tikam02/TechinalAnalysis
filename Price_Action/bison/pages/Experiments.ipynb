{
 "cells": [
  {
   "cell_type": "code",
   "execution_count": 1,
   "id": "9419c578-cb35-4632-bd97-cc4b8ed4c4bd",
   "metadata": {},
   "outputs": [],
   "source": [
    "## Experiments"
   ]
  },
  {
   "cell_type": "code",
   "execution_count": null,
   "id": "0da38f92-a9a2-4ec9-9972-8201e4a0d2a9",
   "metadata": {},
   "outputs": [],
   "source": []
  },
  {
   "cell_type": "code",
   "execution_count": 2,
   "id": "22d3bea5-7839-4016-aaed-20605dd67f9e",
   "metadata": {},
   "outputs": [
    {
     "name": "stderr",
     "output_type": "stream",
     "text": [
      "[*********************100%%**********************]  1 of 1 completed"
     ]
    },
    {
     "name": "stdout",
     "output_type": "stream",
     "text": [
      "                  Open        High         Low       Close   Adj Close  \\\n",
      "Date                                                                     \n",
      "2023-01-03  130.279999  130.899994  124.169998  125.070000  124.216301   \n",
      "2023-01-04  126.889999  128.660004  125.080002  126.360001  125.497498   \n",
      "2023-01-05  127.129997  127.769997  124.760002  125.019997  124.166641   \n",
      "2023-01-06  126.010002  130.289993  124.889999  129.619995  128.735229   \n",
      "2023-01-09  130.470001  133.410004  129.889999  130.149994  129.261597   \n",
      "...                ...         ...         ...         ...         ...   \n",
      "2023-12-22  195.179993  195.410004  192.970001  193.600006  193.353287   \n",
      "2023-12-26  193.610001  193.889999  192.830002  193.050003  192.803986   \n",
      "2023-12-27  192.490005  193.500000  191.089996  193.149994  192.903839   \n",
      "2023-12-28  194.139999  194.660004  193.169998  193.580002  193.333298   \n",
      "2023-12-29  193.899994  194.399994  191.729996  192.529999  192.284637   \n",
      "\n",
      "               Volume  high_low_pc       ADR        rADR  \n",
      "Date                                                      \n",
      "2023-01-03  112117500     1.054200       NaN         NaN  \n",
      "2023-01-04   89113600     1.028622       NaN         NaN  \n",
      "2023-01-05   80962700     1.024126       NaN         NaN  \n",
      "2023-01-06   87754700     1.043238       NaN         NaN  \n",
      "2023-01-09   70790800     1.027100       NaN         NaN  \n",
      "...               ...          ...       ...         ...  \n",
      "2023-12-22   37122800     1.012644  1.012879  101.287902  \n",
      "2023-12-26   28919300     1.005497  1.012685  101.268537  \n",
      "2023-12-27   48087700     1.012612  1.012872  101.287246  \n",
      "2023-12-28   34049900     1.007713  1.012433  101.243260  \n",
      "2023-12-29   42628800     1.013926  1.012563  101.256297  \n",
      "\n",
      "[250 rows x 9 columns]\n"
     ]
    },
    {
     "name": "stderr",
     "output_type": "stream",
     "text": [
      "\n"
     ]
    }
   ],
   "source": [
    "import yfinance as yf\n",
    "\n",
    "def relativeAverageDailyRange(pricesDf, period):\n",
    "    pricesDf['high_low_pc'] = pricesDf['High'] / pricesDf['Low']\n",
    "    pricesDf[\"ADR\"] = pricesDf['high_low_pc'].rolling(window=period).mean()\n",
    "    pricesDf[\"rADR\"] = 100 * pricesDf['ADR']\n",
    "    return pricesDf\n",
    "\n",
    "# Function to fetch historical stock prices and calculate ADR\n",
    "def calculate_ADR(ticker, start_date, end_date, period):\n",
    "    # Fetch historical data using yfinance\n",
    "    data = yf.download(ticker, start=start_date, end=end_date)\n",
    "    \n",
    "    # Calculate ADR using the provided function\n",
    "    data = relativeAverageDailyRange(data, period)\n",
    "    \n",
    "    # Return the DataFrame with ADR and rADR columns added\n",
    "    return data\n",
    "\n",
    "# Example usage\n",
    "start_date = '2023-01-01'\n",
    "end_date = '2023-12-31'\n",
    "period = 20  # Adjust as needed\n",
    "\n",
    "# Replace 'AAPL' with your desired ticker symbol\n",
    "ticker = 'AAPL'\n",
    "\n",
    "# Calculate ADR for the specified ticker and period\n",
    "adr_data = calculate_ADR(ticker, start_date, end_date, period)\n",
    "\n",
    "# Print the resulting DataFrame with ADR and rADR columns added\n",
    "print(adr_data)\n"
   ]
  },
  {
   "cell_type": "code",
   "execution_count": 22,
   "id": "6586b705-54d6-4d22-9476-99ac2eda04f7",
   "metadata": {},
   "outputs": [
    {
     "name": "stderr",
     "output_type": "stream",
     "text": [
      "[*********************100%%**********************]  1 of 1 completed\n",
      "[*********************100%%**********************]  1 of 1 completed"
     ]
    },
    {
     "name": "stdout",
     "output_type": "stream",
     "text": [
      "P1 Date\n",
      "2024-04-05    21.0925\n",
      "Name: ADR, dtype: float64\n",
      "ADR Percentage Date\n",
      "2024-04-05    5.230024\n",
      "dtype: float64\n",
      "ADR MOD Date\n",
      "2024-04-05    6.834477\n",
      "Name: mod_adr, dtype: float64\n",
      "P2 Date\n",
      "2024-04-05    21.0925\n",
      "Name: adr, dtype: float64\n"
     ]
    },
    {
     "name": "stderr",
     "output_type": "stream",
     "text": [
      "\n"
     ]
    }
   ],
   "source": [
    "import yfinance as yf\n",
    "\n",
    "# ADR Values\n",
    "def calculate_ADR(ticker, start_date, end_date, period):\n",
    "    # Get historical pricing data\n",
    "    data = yf.download(ticker, start=start_date, end=end_date)\n",
    "\n",
    "    # Calculate Daily Range for each period\n",
    "    data['Daily_Range'] = data[\"High\"] - data[\"Low\"]\n",
    "\n",
    "    # Calculate the average daily range over the specified period\n",
    "    data[\"ADR\"] = data['Daily_Range'].rolling(window=period).mean()\n",
    "\n",
    "    return data[\"ADR\"]\n",
    "\n",
    "# ADR Percentage\n",
    "def calculate_ADRP(data):\n",
    "    data['DailyHigh'] = data['High']\n",
    "    data['DailyLow'] = data['Low']\n",
    "    ADR_highlow = (data['DailyHigh'] / data['DailyLow']).rolling(window=14).mean()\n",
    "    ADR_perc = 100 * (ADR_highlow - 1)\n",
    "    return ADR_perc\n",
    "\n",
    "def calculate_ADRP2(data):\n",
    "    # Calculate the daily range (High - Low) using a lambda function\n",
    "    data['dr'] = data.apply(lambda x: x[\"High\"] - x[\"Low\"], axis=1)\n",
    "    \n",
    "    # Calculate the average daily range (ADR) over a 20-period interval\n",
    "    data[\"adr\"] = data['dr'].rolling(window=20).mean()\n",
    "    \n",
    "    return data[\"adr\"]\n",
    "\n",
    "# MOD ADR\n",
    "def calculate_modified_ADR(data):\n",
    "    data['dr_pct'] = data.apply(lambda x: 100 * (x[\"High\"] / x[\"Low\"] - 1), axis=1)\n",
    "    data[\"mod_adr\"] = data['dr_pct'].rolling(window=20).mean()\n",
    "    return data[\"mod_adr\"]\n",
    "\n",
    "# Example usage\n",
    "ticker = 'BLS.NS'\n",
    "start_date = '2024-01-01'\n",
    "end_date = '2024-04-06'\n",
    "period = 20  # Adjust as needed\n",
    "data = yf.download(ticker, start=start_date, end=end_date)\n",
    "\n",
    "\n",
    "# Calculate ADR for the specified ticker and period\n",
    "adr_data = calculate_ADR(ticker, start_date, end_date, period)\n",
    "adr_perce = calculate_ADRP(data)\n",
    "adr_mod = calculate_modified_ADR(data)\n",
    "adr_p2 = calculate_ADRP2(data)\n",
    "\n",
    "# View Result\n",
    "print(\"P1\", adr_data.tail(1))\n",
    "print(\"ADR Percentage\",adr_perce.tail(1))\n",
    "print(\"ADR MOD\",adr_mod.tail(1))\n",
    "print(\"P2\",adr_p2.tail(1))\n",
    "\n",
    "\n"
   ]
  },
  {
   "cell_type": "code",
   "execution_count": null,
   "id": "535be0c2-4e85-46ae-bcbb-e67bdeb398be",
   "metadata": {},
   "outputs": [],
   "source": []
  },
  {
   "cell_type": "markdown",
   "id": "6ad4f448-9aed-44e5-9906-49d9ad5c2ee1",
   "metadata": {},
   "source": [
    "Periods:\n",
    "\n",
    "In general:\n",
    "\n",
    "- Short-term intraday traders (day trading) often use lower settings with periods in the range of 9-11.\n",
    "- Medium-term swing traders frequently use the default period setting of 14.\n",
    "- Longer-term position traders often set it at a higher period, in the range of 20-30."
   ]
  },
  {
   "cell_type": "code",
   "execution_count": 1,
   "id": "be626e16-ef85-43c2-b08e-8bc3b63e32d4",
   "metadata": {},
   "outputs": [
    {
     "name": "stdout",
     "output_type": "stream",
     "text": [
      "         Date  Symbol  Security Name  Client Name  Buy/Sell  Quantity Traded  \\\n",
      "0  NO RECORDS     NaN            NaN          NaN       NaN              NaN   \n",
      "\n",
      "   Trade Price / Wght. Avg. Price  \n",
      "0                             NaN  \n"
     ]
    }
   ],
   "source": [
    "from nsepython import *\n",
    "\n",
    "print(get_blockdeals())\n"
   ]
  },
  {
   "cell_type": "code",
   "execution_count": 2,
   "id": "8dd0706f-134b-4aa2-bed8-77820e645f64",
   "metadata": {},
   "outputs": [
    {
     "name": "stdout",
     "output_type": "stream",
     "text": [
      "{'resCmpData': [{'re_to_dt': '31-DEC-2023', 're_from_dt': '01-OCT-2023', 're_create_dt': '12-JAN-2024', 're_res_type': 'U', 're_excepn_items_new': '0', 're_desc_note_seg': '-', 're_staff_cost': '17851', 're_tot_exp_exc_pro_cont': None, 're_grs_npa': None, 're_int_expd': None, 're_con_pro_loss': '9201', 're_net_sale': '26505', 're_oth_exp': '2617', 're_rawmat_consump': '0', 're_diluted_eps': None, 're_inc_dre_sttr': '0', 're_pur_trd_goods': '0', 're_face_val': '10', 're_income_inv': None, 're_deff_tax': '1736', 're_share_associate': '0', 're_ret_asset': None, 're_proloss_ord_act': '9201', 're_notes_to_ac': '', 're_grs_npa_per': None, 're_excepn_items': None, 're_int_new': '217', 're_pro_los_frm_dis_opr': '0', 're_goi_per_shhd': None, 're_basic_eps_for_cont_dic_opr': '10.82', 're_oth_oper_exp': None, 're_remarks': None, 're_oth_pro_cont': None, 're_seg_remarks': None, 're_face_value_debt': None, 're_dilut_eps_for_cont_dic_opr': '10.82', 're_desc_note_fin': \"Notes:          1. The above financial results have been reviewed by the Audit Committee and approved by the Board of Directors in their respective meetings held on January 12, 2024. These results have been subjected to limited review carried out by the Statutory Auditors.          2. The above financial results have been prepared in accordance with the recognition and measurement principles provided in Indian Accounting Standard (Ind AS), the provisions of the Companies Act, 2013 (the Act), as applicable and guidelines issued by the Securities and Exchange Board of India (SEBI) under SEBI (Listing Obligations and Disclosure Requirements) Regulations 2015, as amended.      3. The Company operates in a single reporting segment namely, ￢ﾀﾘSearch and search related services￢ﾀﾙ hence there is no reportable segment as per requirements of Indian Accounting Standards 108 on 'Operating Segments'.      4. During the nine months ended December 31, 2023, the Company has issued and allotted 707,805 Equity shares upon conversion of Stock Options granted under the Company￢ﾀﾙs various ESOP schemes. Consequent to this allotment the paid-up Equity share capital of the Company stands increased to 85,028,407 Equity shares of Rs. 10/- each i.e. Rs. 850.3 million.      5. ￢ﾀﾘRevenue from operations' is a derived value arrived at by applying the applicable GST rate to the 'Net revenue from operations'.      6. Other Income includes fair value gain/(loss) on financial instruments measured at fair value through profit and loss aggregating to Rs. 675.5 million and Rs. 639.7 million for the quarter ended December 31, 2023 and December 31, 2022, respectively and (Rs. 718.6) million for the year ended March 31, 2023. Other Income also includes profit on sale of investments aggregating to Rs. 13.4 million and Rs. 12.5 million for the quarter ended December 31, 2023 and December 31, 2022 respectively and Rs. 1,893.5 million for the year ended March 31, 2023.      7.  The writ petition filed by the Company on October 18, 2023 before single judge with the Hon￢ﾀﾙble High Court of Karnataka, challenging Karnataka Industrial Area Development Board￢ﾀﾙs (￢ﾀﾜKIADB￢ﾀﾝ) order for cancellation of lease for 15 acres of land (written down value of  Rs.377.9 million as at December 31, 2023) allotment in Bengaluru Urban District, has been dismissed on January 8, 2024. The Company has filed a writ appeal against the aforesaid Order before division judge with the Karnataka High Court on January 11, 2024. Based on the Management's assessment and pending legal matter, no provision has been considered necessary at this stage.      8. The figures for the corresponding previous periods/year have been regrouped/reclassified wherever necessary, to make them comparable.\", 're_per_grs_npa': None, 're_pro_loss_bef_tax': '12093', 're_pro_loss_bef_tax_sum': None, 're_res_reval': None, 're_int_ser_cov': None, 're_cap_ade_rat': None, 're_paid_debt': None, 're_int_dis_adv_bills': None, 're_prolos_dis_opr_aftr_tax': '0', 're_debt_eqt_rat': None, 're_oth': None, 're_pdup': '8503', 're_curr_tax': '1156', 're_debt_ser_cov': None, 're_oth_inc': None, 're_tax': '2892', 're_net_profit': '9201', 're_basic_eps': None, 're_tax_expens_of_dis_opr': '0', 're_dil_eps_bfr_exi': None, 're_int_earned': None, 're_depr_und_exp': '1212', 're_amt_grs_np_asst': None, 're_prov_emp_pay': None, 're_total_inc': '33990', 're_oth_inc_new': '7485', 're_oper_exp': None, 're_minority_int': None, 're_bal_rbi_oth_bnk_funds': None, 're_cet_1_ret': None, 're_oper_exp_bef_pro_cont': None, 're_debt_rdmption': None, 're_extraord_items': None, 're_oth_tot_exp': '21897', 're_seq_num': '1162098', 're_pro_aft_int_bef_excep': None, 're_bsc_eps_bfr_exi': None, 're_tot_inc': None}, {'re_to_dt': '30-SEP-2023', 're_from_dt': '01-JUL-2023', 're_create_dt': '21-OCT-2023', 're_res_type': 'U', 're_excepn_items_new': '0', 're_desc_note_seg': '-', 're_staff_cost': '18538', 're_tot_exp_exc_pro_cont': None, 're_grs_npa': None, 're_int_expd': None, 're_con_pro_loss': '7179', 're_net_sale': '26061', 're_oth_exp': '2645', 're_rawmat_consump': '0', 're_diluted_eps': None, 're_inc_dre_sttr': '0', 're_pur_trd_goods': '0', 're_face_val': '10', 're_income_inv': None, 're_deff_tax': '1373', 're_share_associate': '0', 're_ret_asset': None, 're_proloss_ord_act': '7179', 're_notes_to_ac': '', 're_grs_npa_per': None, 're_excepn_items': None, 're_int_new': '239', 're_pro_los_frm_dis_opr': '0', 're_goi_per_shhd': None, 're_basic_eps_for_cont_dic_opr': '8.44', 're_oth_oper_exp': None, 're_remarks': None, 're_oth_pro_cont': None, 're_seg_remarks': None, 're_face_value_debt': None, 're_dilut_eps_for_cont_dic_opr': '8.44', 're_desc_note_fin': 'Notes pertaining to financial results are not being separately provided on account of restriction of 4000 words.', 're_per_grs_npa': None, 're_pro_loss_bef_tax': '9210', 're_pro_loss_bef_tax_sum': None, 're_res_reval': None, 're_int_ser_cov': None, 're_cap_ade_rat': None, 're_paid_debt': None, 're_int_dis_adv_bills': None, 're_prolos_dis_opr_aftr_tax': '0', 're_debt_eqt_rat': None, 're_oth': None, 're_pdup': '8503', 're_curr_tax': '658', 're_debt_ser_cov': None, 're_oth_inc': None, 're_tax': '2031', 're_net_profit': '7179', 're_basic_eps': None, 're_tax_expens_of_dis_opr': '0', 're_dil_eps_bfr_exi': None, 're_int_earned': None, 're_depr_und_exp': '1221', 're_amt_grs_np_asst': None, 're_prov_emp_pay': None, 're_total_inc': '31853', 're_oth_inc_new': '5792', 're_oper_exp': None, 're_minority_int': None, 're_bal_rbi_oth_bnk_funds': None, 're_cet_1_ret': None, 're_oper_exp_bef_pro_cont': None, 're_debt_rdmption': None, 're_extraord_items': None, 're_oth_tot_exp': '22643', 're_seq_num': '1155725', 're_pro_aft_int_bef_excep': None, 're_bsc_eps_bfr_exi': None, 're_tot_inc': None}, {'re_to_dt': '30-JUN-2023', 're_from_dt': '01-APR-2023', 're_create_dt': '14-JUL-2023', 're_res_type': 'U', 're_excepn_items_new': '0', 're_desc_note_seg': '-', 're_staff_cost': '18255', 're_tot_exp_exc_pro_cont': None, 're_grs_npa': None, 're_int_expd': None, 're_con_pro_loss': '8340', 're_net_sale': '24698', 're_oth_exp': '2774', 're_rawmat_consump': '0', 're_diluted_eps': None, 're_inc_dre_sttr': '0', 're_pur_trd_goods': '0', 're_face_val': '10', 're_income_inv': None, 're_deff_tax': '1825', 're_share_associate': '0', 're_ret_asset': None, 're_proloss_ord_act': '8340', 're_notes_to_ac': '', 're_grs_npa_per': None, 're_excepn_items': None, 're_int_new': '194', 're_pro_los_frm_dis_opr': '0', 're_goi_per_shhd': None, 're_basic_eps_for_cont_dic_opr': '9.84', 're_oth_oper_exp': None, 're_remarks': None, 're_oth_pro_cont': None, 're_seg_remarks': None, 're_face_value_debt': None, 're_dilut_eps_for_cont_dic_opr': '9.8', 're_desc_note_fin': \"Notes:   1.The above financial results have been reviewed by the Audit Committee and approved by the Board of Directors in their respective meetings held on July 14, 2023. These results have been subjected to limited review carried out by the Statutory Auditors.    2.The above financial results have been prepared in accordance with the recognition and measurement principles provided in Indian Accounting Standard (Ind AS), the provisions of the Companies Act, 2013 (the Act), as applicable and guidelines issued by the Securities and Exchange Board of India (SEBI) under SEBI (Listing Obligations and Disclosure Requirements) Regulations 2015, as amended.   3.The Company operates in a single reporting segment namely, ￢ﾀﾘSearch and search related services￢ﾀﾙ hence there is no reportable segment as per requirements of Indian Accounting Standards 108 on 'Operating Segments'.   4.During the quarter ended June 30, 2023, the Company has issued and allotted 707,805 Equity shares upon conversion of Stock Options granted under the Company￢ﾀﾙs various ESOP schemes. Consequent to this allotment the paid-up Equity share capital of the Company stands increased to 85,028,407 Equity shares of Rs. 10/- each i.e. Rs. 850.3 million.   5.'￢ﾀﾘRevenue from operations' is a derived value arrived at by applying the applicable GST rate to the 'Net revenue from operations'.   6.Other Income includes fair value gain/(loss) on financial instruments measured at fair value through profit and loss aggregating to Rs. 720.1 million and (Rs. 894.5) million for the quarter ended June 30, 2023 and June 30, 2022, respectively and (Rs. 718.6) million for the year ended March 31, 2023. Other Income also includes profit on sale of investments aggregating to                Rs. 34.7 million and Rs. 234.6 million for the quarter ended June 30, 2023 and June 30, 2022 respectively and Rs. 1,893.5 million for the year ended March 31, 2023.   7.The figures for the corresponding previous periods/year have been regrouped/reclassified wherever necessary, to make them comparable.\", 're_per_grs_npa': None, 're_pro_loss_bef_tax': '10611', 're_pro_loss_bef_tax_sum': None, 're_res_reval': None, 're_int_ser_cov': None, 're_cap_ade_rat': None, 're_paid_debt': None, 're_int_dis_adv_bills': None, 're_prolos_dis_opr_aftr_tax': '0', 're_debt_eqt_rat': None, 're_oth': None, 're_pdup': '8503', 're_curr_tax': '446', 're_debt_ser_cov': None, 're_oth_inc': None, 're_tax': '2271', 're_net_profit': '8340', 're_basic_eps': None, 're_tax_expens_of_dis_opr': '0', 're_dil_eps_bfr_exi': None, 're_int_earned': None, 're_depr_und_exp': '1004', 're_amt_grs_np_asst': None, 're_prov_emp_pay': None, 're_total_inc': '32838', 're_oth_inc_new': '8140', 're_oper_exp': None, 're_minority_int': None, 're_bal_rbi_oth_bnk_funds': None, 're_cet_1_ret': None, 're_oper_exp_bef_pro_cont': None, 're_debt_rdmption': None, 're_extraord_items': None, 're_oth_tot_exp': '22227', 're_seq_num': '1151846', 're_pro_aft_int_bef_excep': None, 're_bsc_eps_bfr_exi': None, 're_tot_inc': None}, {'re_to_dt': '31-MAR-2023', 're_from_dt': '01-JAN-2023', 're_create_dt': '18-APR-2023', 're_res_type': 'U', 're_excepn_items_new': '0', 're_desc_note_seg': '-', 're_staff_cost': '17226', 're_tot_exp_exc_pro_cont': None, 're_grs_npa': None, 're_int_expd': None, 're_con_pro_loss': '8379', 're_net_sale': '23253', 're_oth_exp': '2688', 're_rawmat_consump': '0', 're_diluted_eps': None, 're_inc_dre_sttr': '0', 're_pur_trd_goods': '0', 're_face_val': '10', 're_income_inv': None, 're_deff_tax': '933', 're_share_associate': '0', 're_ret_asset': None, 're_proloss_ord_act': '8379', 're_notes_to_ac': '', 're_grs_npa_per': None, 're_excepn_items': None, 're_int_new': '261', 're_pro_los_frm_dis_opr': '0', 're_goi_per_shhd': None, 're_basic_eps_for_cont_dic_opr': '9.94', 're_oth_oper_exp': None, 're_remarks': None, 're_oth_pro_cont': None, 're_seg_remarks': None, 're_face_value_debt': None, 're_dilut_eps_for_cont_dic_opr': '9.85', 're_desc_note_fin': 'Notes pertaining to financial results and Cash Flow are not being separately provided on account of restriction of 4000 words.      Further kindly take note that in sheet - Cash flow statement, Indirect, C- whether results results are Audited or unaudited - Results are audited but to some technically glitch we were not able to select audited tab.', 're_per_grs_npa': None, 're_pro_loss_bef_tax': '9594', 're_pro_loss_bef_tax_sum': None, 're_res_reval': None, 're_int_ser_cov': None, 're_cap_ade_rat': None, 're_paid_debt': None, 're_int_dis_adv_bills': None, 're_prolos_dis_opr_aftr_tax': '0', 're_debt_eqt_rat': None, 're_oth': None, 're_pdup': '8432', 're_curr_tax': '282', 're_debt_ser_cov': None, 're_oth_inc': None, 're_tax': '1215', 're_net_profit': '8379', 're_basic_eps': None, 're_tax_expens_of_dis_opr': '0', 're_dil_eps_bfr_exi': None, 're_int_earned': None, 're_depr_und_exp': '900', 're_amt_grs_np_asst': None, 're_prov_emp_pay': None, 're_total_inc': '30669', 're_oth_inc_new': '7416', 're_oper_exp': None, 're_minority_int': None, 're_bal_rbi_oth_bnk_funds': None, 're_cet_1_ret': None, 're_oper_exp_bef_pro_cont': None, 're_debt_rdmption': None, 're_extraord_items': None, 're_oth_tot_exp': '21075', 're_seq_num': '1145118', 're_pro_aft_int_bef_excep': None, 're_bsc_eps_bfr_exi': None, 're_tot_inc': None}, {'re_to_dt': '31-DEC-2022', 're_from_dt': '01-OCT-2022', 're_create_dt': '14-JAN-2023', 're_res_type': 'U', 're_excepn_items_new': '0', 're_desc_note_seg': '-', 're_staff_cost': '16732', 're_tot_exp_exc_pro_cont': None, 're_grs_npa': None, 're_int_expd': None, 're_con_pro_loss': '7527', 're_net_sale': '22137', 're_oth_exp': '2693', 're_rawmat_consump': '0', 're_diluted_eps': None, 're_inc_dre_sttr': '0', 're_pur_trd_goods': '0', 're_face_val': '10', 're_income_inv': None, 're_deff_tax': '1172', 're_share_associate': '0', 're_ret_asset': None, 're_proloss_ord_act': '7527', 're_notes_to_ac': '', 're_grs_npa_per': None, 're_excepn_items': None, 're_int_new': '225', 're_pro_los_frm_dis_opr': '0', 're_goi_per_shhd': None, 're_basic_eps_for_cont_dic_opr': '8.93', 're_oth_oper_exp': None, 're_remarks': None, 're_oth_pro_cont': None, 're_seg_remarks': None, 're_face_value_debt': None, 're_dilut_eps_for_cont_dic_opr': '8.86', 're_desc_note_fin': \"Notes:      1. The Audit Committee has reviewed and the Board of Directors has approved the above results and its release at their respective meetings held on January 13, 2023. These results have been subjected to limited review carried out by the Statutory Auditors.      2. The unaudited standalone and consolidated financial results for the quarter and nine months ended December 31, 2022 have been prepared in accordance with the recognition and measurement principles provided in Indian Accounting Standards 34 on ￢ﾀﾘInterim Financial Reporting￢ﾀﾙ, the provisions of the Companies Act, 2013 (the Act), as applicable and guidelines issued by the Securities and Exchange Board of India (SEBI) under SEBI (Listing Obligations and Disclosure Requirements) Regulations 2015, as amended.      3. The Company operates in a single reporting segment namely, ￢ﾀﾘSearch and search related services￢ﾀﾙ hence there is no reportable segment as per requirements of Indian Accounting Standards 108 on 'Operating Segments'.      4. During the quarter and nine months ended December 31, 2022, the Company has issued and allotted 704,860 Equity shares upon conversion of Stock Options granted under the Company￢ﾀﾙs various ESOP schemes. Consequent to this allotment the paid-up Equity share capital of the Company stands increased to 84,305,952 Equity shares of Rs. 10/- each i.e. Rs. 843.1 million.      5. '￢ﾀﾘRevenue from operations' is a derived value arrived at by applying the applicable GST rate to the 'Net revenue from operations'.      6. Other expenses include Rs. 505.2 million on account of advertisement and sales promotion expenses incurred during the nine months ended December 31, 2021 and year ended March 31, 2022 respectively primarily towards promoting B2B market place at the time of the first phase of Indian Premier League (IPL) 2021.      7. Other Income includes fair value gain/(loss) on financial instruments measured at fair value through profit and loss aggregating to Rs. 639.7 million and (Rs. 1,153.0) million for the quarter and nine months ended December 31,2022, respectively. Rs. 197.4 million and Rs. 688.0 million for the quarter and nine months ended December 31, 2021, respectively and Rs. 17.7 million for the year ended March 31, 2022. Other Income also includes profit/(loss) on sale of investments aggregating to Rs. 12.5 million and                   Rs. 1,650.8 million for the quarter and nine months ended December 31, 2022, respectively, Rs. 25.0 million and (Rs. 42.6) million for the quarter and nine months ended December 31, 2021 respectively and Rs. 898 million for the year ended March 31, 2022.      8. The figures for the corresponding previous periods/year have been regrouped/reclassified wherever necessary, to make them comparable.\", 're_per_grs_npa': None, 're_pro_loss_bef_tax': '8764', 're_pro_loss_bef_tax_sum': None, 're_res_reval': None, 're_int_ser_cov': None, 're_cap_ade_rat': None, 're_paid_debt': None, 're_int_dis_adv_bills': None, 're_prolos_dis_opr_aftr_tax': '0', 're_debt_eqt_rat': None, 're_oth': None, 're_pdup': '8431', 're_curr_tax': '65', 're_debt_ser_cov': None, 're_oth_inc': None, 're_tax': '1237', 're_net_profit': '7527', 're_basic_eps': None, 're_tax_expens_of_dis_opr': '0', 're_dil_eps_bfr_exi': None, 're_int_earned': None, 're_depr_und_exp': '847', 're_amt_grs_np_asst': None, 're_prov_emp_pay': None, 're_total_inc': '29261', 're_oth_inc_new': '7124', 're_oper_exp': None, 're_minority_int': None, 're_bal_rbi_oth_bnk_funds': None, 're_cet_1_ret': None, 're_oper_exp_bef_pro_cont': None, 're_debt_rdmption': None, 're_extraord_items': None, 're_oth_tot_exp': '20497', 're_seq_num': '1138614', 're_pro_aft_int_bef_excep': None, 're_bsc_eps_bfr_exi': None, 're_tot_inc': None}], 'bankNonBnking': 'N'}\n"
     ]
    }
   ],
   "source": [
    "print(nse_past_results('JUSTDIAL'))\n"
   ]
  },
  {
   "cell_type": "code",
   "execution_count": 3,
   "id": "47ebf54e-917e-46de-b796-b9ff747f79d6",
   "metadata": {},
   "outputs": [
    {
     "data": {
      "text/html": [
       "<div>\n",
       "<style scoped>\n",
       "    .dataframe tbody tr th:only-of-type {\n",
       "        vertical-align: middle;\n",
       "    }\n",
       "\n",
       "    .dataframe tbody tr th {\n",
       "        vertical-align: top;\n",
       "    }\n",
       "\n",
       "    .dataframe thead th {\n",
       "        text-align: right;\n",
       "    }\n",
       "</style>\n",
       "<table border=\"1\" class=\"dataframe\">\n",
       "  <thead>\n",
       "    <tr style=\"text-align: right;\">\n",
       "      <th></th>\n",
       "      <th>symbol</th>\n",
       "      <th>company</th>\n",
       "      <th>purpose</th>\n",
       "      <th>bm_desc</th>\n",
       "      <th>date</th>\n",
       "    </tr>\n",
       "  </thead>\n",
       "  <tbody>\n",
       "    <tr>\n",
       "      <th>0</th>\n",
       "      <td>AURIONPRO</td>\n",
       "      <td>Aurionpro Solutions Limited</td>\n",
       "      <td>Fund Raising</td>\n",
       "      <td>To consider and approve the Issue price, inclu...</td>\n",
       "      <td>08-Apr-2024</td>\n",
       "    </tr>\n",
       "    <tr>\n",
       "      <th>1</th>\n",
       "      <td>CUPID</td>\n",
       "      <td>Cupid Limited</td>\n",
       "      <td>Financial Results/Other business matters</td>\n",
       "      <td>To consider and approve the financial results ...</td>\n",
       "      <td>08-Apr-2024</td>\n",
       "    </tr>\n",
       "    <tr>\n",
       "      <th>2</th>\n",
       "      <td>DPWIRES</td>\n",
       "      <td>D P Wires Limited</td>\n",
       "      <td>Other business matters</td>\n",
       "      <td>To consider other business matters</td>\n",
       "      <td>08-Apr-2024</td>\n",
       "    </tr>\n",
       "    <tr>\n",
       "      <th>3</th>\n",
       "      <td>GSPL</td>\n",
       "      <td>Gujarat State Petronet Limited</td>\n",
       "      <td>Dividend</td>\n",
       "      <td>To consider dividend</td>\n",
       "      <td>08-Apr-2024</td>\n",
       "    </tr>\n",
       "    <tr>\n",
       "      <th>4</th>\n",
       "      <td>PVSL</td>\n",
       "      <td>Popular Vehicles and Services Limited</td>\n",
       "      <td>Financial Results</td>\n",
       "      <td>To consider and approve the financial results ...</td>\n",
       "      <td>08-Apr-2024</td>\n",
       "    </tr>\n",
       "    <tr>\n",
       "      <th>...</th>\n",
       "      <td>...</td>\n",
       "      <td>...</td>\n",
       "      <td>...</td>\n",
       "      <td>...</td>\n",
       "      <td>...</td>\n",
       "    </tr>\n",
       "    <tr>\n",
       "      <th>124</th>\n",
       "      <td>ARE&amp;M</td>\n",
       "      <td>Amara Raja Energy &amp; Mobility Limited</td>\n",
       "      <td>Financial Results/Dividend</td>\n",
       "      <td>To consider and approve the audited financial ...</td>\n",
       "      <td>28-May-2024</td>\n",
       "    </tr>\n",
       "    <tr>\n",
       "      <th>125</th>\n",
       "      <td>MEDPLUS</td>\n",
       "      <td>Medplus Health Services Limited</td>\n",
       "      <td>Financial Results</td>\n",
       "      <td>To consider and approve the financial results ...</td>\n",
       "      <td>28-May-2024</td>\n",
       "    </tr>\n",
       "    <tr>\n",
       "      <th>126</th>\n",
       "      <td>MOTOGENFIN</td>\n",
       "      <td>The Motor &amp; General Finance Limited</td>\n",
       "      <td>Financial Results</td>\n",
       "      <td>To consider and approve the financial results ...</td>\n",
       "      <td>28-May-2024</td>\n",
       "    </tr>\n",
       "    <tr>\n",
       "      <th>127</th>\n",
       "      <td>TTKPRESTIG</td>\n",
       "      <td>TTK Prestige Limited</td>\n",
       "      <td>Financial Results/Dividend/Other business matters</td>\n",
       "      <td>To consider and approve the financial results ...</td>\n",
       "      <td>28-May-2024</td>\n",
       "    </tr>\n",
       "    <tr>\n",
       "      <th>128</th>\n",
       "      <td>JAIPURKURT</td>\n",
       "      <td>Nandani Creation Limited</td>\n",
       "      <td>Other business matters</td>\n",
       "      <td>To consider other business matters</td>\n",
       "      <td>01-Sep-2024</td>\n",
       "    </tr>\n",
       "  </tbody>\n",
       "</table>\n",
       "<p>129 rows × 5 columns</p>\n",
       "</div>"
      ],
      "text/plain": [
       "         symbol                                company  \\\n",
       "0     AURIONPRO            Aurionpro Solutions Limited   \n",
       "1         CUPID                          Cupid Limited   \n",
       "2       DPWIRES                      D P Wires Limited   \n",
       "3          GSPL         Gujarat State Petronet Limited   \n",
       "4          PVSL  Popular Vehicles and Services Limited   \n",
       "..          ...                                    ...   \n",
       "124       ARE&M   Amara Raja Energy & Mobility Limited   \n",
       "125     MEDPLUS        Medplus Health Services Limited   \n",
       "126  MOTOGENFIN    The Motor & General Finance Limited   \n",
       "127  TTKPRESTIG                   TTK Prestige Limited   \n",
       "128  JAIPURKURT               Nandani Creation Limited   \n",
       "\n",
       "                                               purpose  \\\n",
       "0                                         Fund Raising   \n",
       "1             Financial Results/Other business matters   \n",
       "2                               Other business matters   \n",
       "3                                             Dividend   \n",
       "4                                    Financial Results   \n",
       "..                                                 ...   \n",
       "124                         Financial Results/Dividend   \n",
       "125                                  Financial Results   \n",
       "126                                  Financial Results   \n",
       "127  Financial Results/Dividend/Other business matters   \n",
       "128                             Other business matters   \n",
       "\n",
       "                                               bm_desc         date  \n",
       "0    To consider and approve the Issue price, inclu...  08-Apr-2024  \n",
       "1    To consider and approve the financial results ...  08-Apr-2024  \n",
       "2                   To consider other business matters  08-Apr-2024  \n",
       "3                                 To consider dividend  08-Apr-2024  \n",
       "4    To consider and approve the financial results ...  08-Apr-2024  \n",
       "..                                                 ...          ...  \n",
       "124  To consider and approve the audited financial ...  28-May-2024  \n",
       "125  To consider and approve the financial results ...  28-May-2024  \n",
       "126  To consider and approve the financial results ...  28-May-2024  \n",
       "127  To consider and approve the financial results ...  28-May-2024  \n",
       "128                 To consider other business matters  01-Sep-2024  \n",
       "\n",
       "[129 rows x 5 columns]"
      ]
     },
     "execution_count": 3,
     "metadata": {},
     "output_type": "execute_result"
    }
   ],
   "source": [
    "nse_events()\n"
   ]
  },
  {
   "cell_type": "code",
   "execution_count": 4,
   "id": "f3bba666-f0a2-4c9b-84ad-df60999b73c8",
   "metadata": {},
   "outputs": [
    {
     "name": "stdout",
     "output_type": "stream",
     "text": [
      "{'noBlockDeals': True, 'bulkBlockDeals': [{'name': 'Session I'}, {'name': 'Session II'}], 'marketDeptOrderBook': {'totalBuyQuantity': 1059, 'totalSellQuantity': 0, 'bid': [{'price': 1479.1, 'quantity': 1059}, {'price': 0, 'quantity': 0}, {'price': 0, 'quantity': 0}, {'price': 0, 'quantity': 0}, {'price': 0, 'quantity': 0}], 'ask': [{'price': 0, 'quantity': 0}, {'price': 0, 'quantity': 0}, {'price': 0, 'quantity': 0}, {'price': 0, 'quantity': 0}, {'price': 0, 'quantity': 0}], 'tradeInfo': {'totalTradedVolume': 50.72, 'totalTradedValue': 750.84, 'totalMarketCap': 614494.42, 'ffmc': 528465.200658682, 'impactCost': 0.02, 'cmDailyVolatility': '1.52', 'cmAnnualVolatility': '29.04', 'marketLot': '', 'activeSeries': 'EQ'}, 'valueAtRisk': {'securityVar': 9.53, 'indexVar': 0, 'varMargin': 9.53, 'extremeLossMargin': 3.5, 'adhocMargin': 0, 'applicableMargin': 13.03}}, 'securityWiseDP': {'quantityTraded': 5072482, 'deliveryQuantity': 2939200, 'deliveryToTradedQuantity': 57.94, 'seriesRemarks': None, 'secWiseDelPosDate': '05-APR-2024 EOD'}}\n"
     ]
    }
   ],
   "source": [
    "print(nse_quote(\"INFY\",\"trade_info\"))\n"
   ]
  },
  {
   "cell_type": "code",
   "execution_count": 7,
   "id": "daa90be9-f11d-4839-bc80-6a1fcdc6572f",
   "metadata": {},
   "outputs": [
    {
     "data": {
      "text/html": [
       "<div>\n",
       "<style scoped>\n",
       "    .dataframe tbody tr th:only-of-type {\n",
       "        vertical-align: middle;\n",
       "    }\n",
       "\n",
       "    .dataframe tbody tr th {\n",
       "        vertical-align: top;\n",
       "    }\n",
       "\n",
       "    .dataframe thead th {\n",
       "        text-align: right;\n",
       "    }\n",
       "</style>\n",
       "<table border=\"1\" class=\"dataframe\">\n",
       "  <thead>\n",
       "    <tr style=\"text-align: right;\">\n",
       "      <th></th>\n",
       "      <th>symbol</th>\n",
       "      <th>companyName</th>\n",
       "      <th>industry</th>\n",
       "      <th>audited</th>\n",
       "      <th>cumulative</th>\n",
       "      <th>indAs</th>\n",
       "      <th>reInd</th>\n",
       "      <th>period</th>\n",
       "      <th>relatingTo</th>\n",
       "      <th>financialYear</th>\n",
       "      <th>...</th>\n",
       "      <th>xbrl</th>\n",
       "      <th>format</th>\n",
       "      <th>params</th>\n",
       "      <th>resultDescription</th>\n",
       "      <th>resultDetailedDataLink</th>\n",
       "      <th>exchdisstime</th>\n",
       "      <th>difference</th>\n",
       "      <th>isin</th>\n",
       "      <th>broadCastDate</th>\n",
       "      <th>consolidated</th>\n",
       "    </tr>\n",
       "  </thead>\n",
       "  <tbody>\n",
       "    <tr>\n",
       "      <th>0</th>\n",
       "      <td>GMBREW</td>\n",
       "      <td>GM Breweries Limited</td>\n",
       "      <td>-</td>\n",
       "      <td>Audited</td>\n",
       "      <td>Non-cumulative</td>\n",
       "      <td>Ind-AS New</td>\n",
       "      <td>N</td>\n",
       "      <td>Quarterly</td>\n",
       "      <td>Fourth Quarter</td>\n",
       "      <td>01-Apr-2023 To 31-Mar-2024</td>\n",
       "      <td>...</td>\n",
       "      <td>https://nsearchives.nseindia.com/corporate/xbr...</td>\n",
       "      <td>New</td>\n",
       "      <td>01-Jan-202431-Mar-2024Q4ANNNNEGMBREW</td>\n",
       "      <td>None</td>\n",
       "      <td>None</td>\n",
       "      <td>04-Apr-2024 15:40:06</td>\n",
       "      <td>00:02:26</td>\n",
       "      <td>INE075D01018</td>\n",
       "      <td>04-Apr-2024 15:37:40</td>\n",
       "      <td>Non-Consolidated</td>\n",
       "    </tr>\n",
       "  </tbody>\n",
       "</table>\n",
       "<p>1 rows × 26 columns</p>\n",
       "</div>"
      ],
      "text/plain": [
       "   symbol           companyName industry  audited      cumulative       indAs  \\\n",
       "0  GMBREW  GM Breweries Limited        -  Audited  Non-cumulative  Ind-AS New   \n",
       "\n",
       "  reInd     period      relatingTo               financialYear  ...  \\\n",
       "0     N  Quarterly  Fourth Quarter  01-Apr-2023 To 31-Mar-2024  ...   \n",
       "\n",
       "                                                xbrl format  \\\n",
       "0  https://nsearchives.nseindia.com/corporate/xbr...    New   \n",
       "\n",
       "                                 params resultDescription  \\\n",
       "0  01-Jan-202431-Mar-2024Q4ANNNNEGMBREW              None   \n",
       "\n",
       "  resultDetailedDataLink          exchdisstime difference          isin  \\\n",
       "0                   None  04-Apr-2024 15:40:06   00:02:26  INE075D01018   \n",
       "\n",
       "          broadCastDate      consolidated  \n",
       "0  04-Apr-2024 15:37:40  Non-Consolidated  \n",
       "\n",
       "[1 rows x 26 columns]"
      ]
     },
     "execution_count": 7,
     "metadata": {},
     "output_type": "execute_result"
    }
   ],
   "source": [
    "nse_results(\"equities\",\"Quarterly\")\n"
   ]
  },
  {
   "cell_type": "code",
   "execution_count": 8,
   "id": "6e59ca22-1f48-4ffa-822d-de92bab9b753",
   "metadata": {},
   "outputs": [
    {
     "name": "stdout",
     "output_type": "stream",
     "text": [
      "{'marketState': [{'market': 'Capital Market', 'marketStatus': 'Close', 'tradeDate': '05-Apr-2024 15:30', 'index': 'NIFTY 50', 'last': 22513.7, 'variation': -0.9500000000007276, 'percentChange': 0, 'marketStatusMessage': 'Market is Closed'}, {'market': 'Currency', 'marketStatus': 'Close', 'tradeDate': 'Invalid date', 'index': '', 'last': '', 'variation': '', 'percentChange': '', 'marketStatusMessage': 'Market is Closed'}, {'market': 'Commodity', 'marketStatus': 'Close', 'tradeDate': 'Invalid date', 'index': '', 'last': '', 'variation': '', 'percentChange': '', 'marketStatusMessage': 'Market is Closed'}, {'market': 'Debt', 'marketStatus': 'Close', 'tradeDate': 'Invalid date', 'index': '', 'last': '', 'variation': '', 'percentChange': '', 'marketStatusMessage': 'Market is Closed'}, {'market': 'currencyfuture', 'marketStatus': 'Close', 'tradeDate': 'Invalid date', 'index': '', 'last': '83.3400', 'variation': '', 'percentChange': '', 'marketStatusMessage': 'Market is Closed', 'expiryDate': '12-Apr-2024', 'underlying': 'USDINR', 'updated_time': '05-Apr-2024 17:00', 'tradeDateFormatted': '05-Apr-2024 17:00', 'slickclass': 'slick-item'}], 'marketcap': {'timeStamp': '05-Apr-2024', 'marketCapinTRDollars': 4.75, 'marketCapinLACCRRupees': 396.2571391652615, 'marketCapinCRRupees': 39625713.92, 'marketCapinCRRupeesFormatted': '39,625,713.92', 'marketCapinLACCRRupeesFormatted': '396.26', 'underlying': 'Market Cap'}, 'indicativenifty50': {'dateTime': '05-Apr-2024 15:30', 'indexName': 'Nifty 50', 'closingValue': 22513.7, 'finalClosingValue': 22513.7, 'change': -0.96, 'perChange': 0, 'status': 'CLOSE'}}\n",
      "{'marketState': [{'market': 'Capital Market', 'marketStatus': 'Close', 'tradeDate': '05-Apr-2024 15:30', 'index': 'NIFTY 50', 'last': 22513.7, 'variation': -0.9500000000007276, 'percentChange': 0, 'marketStatusMessage': 'Market is Closed'}, {'market': 'Currency', 'marketStatus': 'Close', 'tradeDate': 'Invalid date', 'index': '', 'last': '', 'variation': '', 'percentChange': '', 'marketStatusMessage': 'Market is Closed'}, {'market': 'Commodity', 'marketStatus': 'Close', 'tradeDate': 'Invalid date', 'index': '', 'last': '', 'variation': '', 'percentChange': '', 'marketStatusMessage': 'Market is Closed'}, {'market': 'Debt', 'marketStatus': 'Close', 'tradeDate': 'Invalid date', 'index': '', 'last': '', 'variation': '', 'percentChange': '', 'marketStatusMessage': 'Market is Closed'}, {'market': 'currencyfuture', 'marketStatus': 'Close', 'tradeDate': 'Invalid date', 'index': '', 'last': '83.3400', 'variation': '', 'percentChange': '', 'marketStatusMessage': 'Market is Closed', 'expiryDate': '12-Apr-2024', 'underlying': 'USDINR', 'updated_time': '05-Apr-2024 17:00', 'tradeDateFormatted': '05-Apr-2024 17:00', 'slickclass': 'slick-item'}], 'marketcap': {'timeStamp': '05-Apr-2024', 'marketCapinTRDollars': 4.75, 'marketCapinLACCRRupees': 396.2571391652615, 'marketCapinCRRupees': 39625713.92, 'marketCapinCRRupeesFormatted': '39,625,713.92', 'marketCapinLACCRRupeesFormatted': '396.26', 'underlying': 'Market Cap'}, 'indicativenifty50': {'dateTime': '05-Apr-2024 15:30', 'indexName': 'Nifty 50', 'closingValue': 22513.7, 'finalClosingValue': 22513.7, 'change': -0.96, 'perChange': 0, 'status': 'CLOSE'}}\n"
     ]
    }
   ],
   "source": [
    "print(nse_marketStatus())\n"
   ]
  },
  {
   "cell_type": "code",
   "execution_count": null,
   "id": "82e9652a-3688-41d6-9404-6078408fcbc6",
   "metadata": {},
   "outputs": [],
   "source": [
    "!pip uninstall numpy\n",
    "!pip uninstall numba\n",
    "python3 -m pip install numba\n"
   ]
  },
  {
   "cell_type": "markdown",
   "id": "fd673643-62ce-4a48-bd3b-948dab66aecd",
   "metadata": {},
   "source": [
    "## Portfolio Analysis"
   ]
  },
  {
   "cell_type": "code",
   "execution_count": 2,
   "id": "b971f59f-a5d0-4ac3-92b3-4e3c91c3a35e",
   "metadata": {},
   "outputs": [
    {
     "ename": "SystemError",
     "evalue": "initialization of _internal failed without raising an exception",
     "output_type": "error",
     "traceback": [
      "\u001b[0;31m---------------------------------------------------------------------------\u001b[0m",
      "\u001b[0;31mSystemError\u001b[0m                               Traceback (most recent call last)",
      "Cell \u001b[0;32mIn[2], line 1\u001b[0m\n\u001b[0;32m----> 1\u001b[0m \u001b[38;5;28;01mimport\u001b[39;00m \u001b[38;5;21;01mriskfolio\u001b[39;00m \u001b[38;5;28;01mas\u001b[39;00m \u001b[38;5;21;01mrp\u001b[39;00m\n\u001b[1;32m      2\u001b[0m \u001b[38;5;28;01mimport\u001b[39;00m \u001b[38;5;21;01mpandas\u001b[39;00m \u001b[38;5;28;01mas\u001b[39;00m \u001b[38;5;21;01mpd\u001b[39;00m\n\u001b[1;32m      3\u001b[0m \u001b[38;5;28;01mimport\u001b[39;00m \u001b[38;5;21;01myfinance\u001b[39;00m \u001b[38;5;28;01mas\u001b[39;00m \u001b[38;5;21;01myf\u001b[39;00m\n",
      "File \u001b[0;32m~/stock-market/env3/lib/python3.10/site-packages/riskfolio/__init__.py:9\u001b[0m\n\u001b[1;32m      1\u001b[0m \u001b[38;5;124;03m\"\"\"\"\"\"\u001b[39;00m  \u001b[38;5;66;03m#\u001b[39;00m\n\u001b[1;32m      2\u001b[0m \u001b[38;5;124;03m\"\"\"\u001b[39;00m\n\u001b[1;32m      3\u001b[0m \u001b[38;5;124;03mCopyright (c) 2020-2024, Dany Cajas\u001b[39;00m\n\u001b[1;32m      4\u001b[0m \u001b[38;5;124;03mAll rights reserved.\u001b[39;00m\n\u001b[1;32m      5\u001b[0m \u001b[38;5;124;03mThis work is licensed under BSD 3-Clause \"New\" or \"Revised\" License.\u001b[39;00m\n\u001b[1;32m      6\u001b[0m \u001b[38;5;124;03mLicense available at https://github.com/dcajasn/Riskfolio-Lib/blob/master/LICENSE.txt\u001b[39;00m\n\u001b[1;32m      7\u001b[0m \u001b[38;5;124;03m\"\"\"\u001b[39;00m\n\u001b[0;32m----> 9\u001b[0m \u001b[38;5;28;01mfrom\u001b[39;00m \u001b[38;5;21;01mriskfolio\u001b[39;00m\u001b[38;5;21;01m.\u001b[39;00m\u001b[38;5;21;01msrc\u001b[39;00m \u001b[38;5;28;01mimport\u001b[39;00m \u001b[38;5;241m*\u001b[39m\n\u001b[1;32m     10\u001b[0m \u001b[38;5;28;01mfrom\u001b[39;00m \u001b[38;5;21;01mriskfolio\u001b[39;00m\u001b[38;5;21;01m.\u001b[39;00m\u001b[38;5;21;01mexternal\u001b[39;00m \u001b[38;5;28;01mimport\u001b[39;00m \u001b[38;5;241m*\u001b[39m\n\u001b[1;32m     11\u001b[0m \u001b[38;5;28;01mfrom\u001b[39;00m \u001b[38;5;21;01mriskfolio\u001b[39;00m\u001b[38;5;21;01m.\u001b[39;00m\u001b[38;5;21;01mversion\u001b[39;00m \u001b[38;5;28;01mimport\u001b[39;00m (\n\u001b[1;32m     12\u001b[0m     version \u001b[38;5;28;01mas\u001b[39;00m __version__,\n\u001b[1;32m     13\u001b[0m )  \u001b[38;5;66;03m# riskfolio/version.py is auto-generated\u001b[39;00m\n",
      "File \u001b[0;32m~/stock-market/env3/lib/python3.10/site-packages/riskfolio/src/__init__.py:9\u001b[0m\n\u001b[1;32m      1\u001b[0m \u001b[38;5;124;03m\"\"\"\"\"\"\u001b[39;00m  \u001b[38;5;66;03m#\u001b[39;00m\n\u001b[1;32m      2\u001b[0m \u001b[38;5;124;03m\"\"\"\u001b[39;00m\n\u001b[1;32m      3\u001b[0m \u001b[38;5;124;03mCopyright (c) 2020-2024, Dany Cajas\u001b[39;00m\n\u001b[1;32m      4\u001b[0m \u001b[38;5;124;03mAll rights reserved.\u001b[39;00m\n\u001b[1;32m      5\u001b[0m \u001b[38;5;124;03mThis work is licensed under BSD 3-Clause \"New\" or \"Revised\" License.\u001b[39;00m\n\u001b[1;32m      6\u001b[0m \u001b[38;5;124;03mLicense available at https://github.com/dcajasn/Riskfolio-Lib/blob/master/LICENSE.txt\u001b[39;00m\n\u001b[1;32m      7\u001b[0m \u001b[38;5;124;03m\"\"\"\u001b[39;00m\n\u001b[0;32m----> 9\u001b[0m \u001b[38;5;28;01mfrom\u001b[39;00m \u001b[38;5;21;01m.\u001b[39;00m\u001b[38;5;21;01mPortfolio\u001b[39;00m \u001b[38;5;28;01mimport\u001b[39;00m \u001b[38;5;241m*\u001b[39m\n\u001b[1;32m     10\u001b[0m \u001b[38;5;28;01mfrom\u001b[39;00m \u001b[38;5;21;01m.\u001b[39;00m\u001b[38;5;21;01mHCPortfolio\u001b[39;00m \u001b[38;5;28;01mimport\u001b[39;00m \u001b[38;5;241m*\u001b[39m\n\u001b[1;32m     11\u001b[0m \u001b[38;5;28;01mfrom\u001b[39;00m \u001b[38;5;21;01m.\u001b[39;00m\u001b[38;5;21;01mPlotFunctions\u001b[39;00m \u001b[38;5;28;01mimport\u001b[39;00m \u001b[38;5;241m*\u001b[39m\n",
      "File \u001b[0;32m~/stock-market/env3/lib/python3.10/site-packages/riskfolio/src/Portfolio.py:17\u001b[0m\n\u001b[1;32m     15\u001b[0m \u001b[38;5;28;01mfrom\u001b[39;00m \u001b[38;5;21;01msklearn\u001b[39;00m\u001b[38;5;21;01m.\u001b[39;00m\u001b[38;5;21;01mdecomposition\u001b[39;00m \u001b[38;5;28;01mimport\u001b[39;00m PCA\n\u001b[1;32m     16\u001b[0m \u001b[38;5;28;01mfrom\u001b[39;00m \u001b[38;5;21;01msklearn\u001b[39;00m\u001b[38;5;21;01m.\u001b[39;00m\u001b[38;5;21;01mpreprocessing\u001b[39;00m \u001b[38;5;28;01mimport\u001b[39;00m StandardScaler\n\u001b[0;32m---> 17\u001b[0m \u001b[38;5;28;01mimport\u001b[39;00m \u001b[38;5;21;01mriskfolio\u001b[39;00m\u001b[38;5;21;01m.\u001b[39;00m\u001b[38;5;21;01msrc\u001b[39;00m\u001b[38;5;21;01m.\u001b[39;00m\u001b[38;5;21;01mRiskFunctions\u001b[39;00m \u001b[38;5;28;01mas\u001b[39;00m \u001b[38;5;21;01mrk\u001b[39;00m\n\u001b[1;32m     18\u001b[0m \u001b[38;5;28;01mimport\u001b[39;00m \u001b[38;5;21;01mriskfolio\u001b[39;00m\u001b[38;5;21;01m.\u001b[39;00m\u001b[38;5;21;01msrc\u001b[39;00m\u001b[38;5;21;01m.\u001b[39;00m\u001b[38;5;21;01mParamsEstimation\u001b[39;00m \u001b[38;5;28;01mas\u001b[39;00m \u001b[38;5;21;01mpe\u001b[39;00m\n\u001b[1;32m     19\u001b[0m \u001b[38;5;28;01mimport\u001b[39;00m \u001b[38;5;21;01mriskfolio\u001b[39;00m\u001b[38;5;21;01m.\u001b[39;00m\u001b[38;5;21;01msrc\u001b[39;00m\u001b[38;5;21;01m.\u001b[39;00m\u001b[38;5;21;01mAuxFunctions\u001b[39;00m \u001b[38;5;28;01mas\u001b[39;00m \u001b[38;5;21;01maf\u001b[39;00m\n",
      "File \u001b[0;32m~/stock-market/env3/lib/python3.10/site-packages/riskfolio/src/RiskFunctions.py:13\u001b[0m\n\u001b[1;32m     11\u001b[0m \u001b[38;5;28;01mimport\u001b[39;00m \u001b[38;5;21;01mcvxpy\u001b[39;00m \u001b[38;5;28;01mas\u001b[39;00m \u001b[38;5;21;01mcp\u001b[39;00m\n\u001b[1;32m     12\u001b[0m \u001b[38;5;28;01mimport\u001b[39;00m \u001b[38;5;21;01mriskfolio\u001b[39;00m\u001b[38;5;21;01m.\u001b[39;00m\u001b[38;5;21;01msrc\u001b[39;00m\u001b[38;5;21;01m.\u001b[39;00m\u001b[38;5;21;01mOwaWeights\u001b[39;00m \u001b[38;5;28;01mas\u001b[39;00m \u001b[38;5;21;01mowa\u001b[39;00m\n\u001b[0;32m---> 13\u001b[0m \u001b[38;5;28;01mimport\u001b[39;00m \u001b[38;5;21;01mriskfolio\u001b[39;00m\u001b[38;5;21;01m.\u001b[39;00m\u001b[38;5;21;01msrc\u001b[39;00m\u001b[38;5;21;01m.\u001b[39;00m\u001b[38;5;21;01mParamsEstimation\u001b[39;00m \u001b[38;5;28;01mas\u001b[39;00m \u001b[38;5;21;01mpe\u001b[39;00m\n\u001b[1;32m     14\u001b[0m \u001b[38;5;28;01mfrom\u001b[39;00m \u001b[38;5;21;01mscipy\u001b[39;00m\u001b[38;5;21;01m.\u001b[39;00m\u001b[38;5;21;01moptimize\u001b[39;00m \u001b[38;5;28;01mimport\u001b[39;00m minimize\n\u001b[1;32m     15\u001b[0m \u001b[38;5;28;01mfrom\u001b[39;00m \u001b[38;5;21;01mscipy\u001b[39;00m\u001b[38;5;21;01m.\u001b[39;00m\u001b[38;5;21;01moptimize\u001b[39;00m \u001b[38;5;28;01mimport\u001b[39;00m Bounds\n",
      "File \u001b[0;32m~/stock-market/env3/lib/python3.10/site-packages/riskfolio/src/ParamsEstimation.py:14\u001b[0m\n\u001b[1;32m     12\u001b[0m \u001b[38;5;28;01mimport\u001b[39;00m \u001b[38;5;21;01mscipy\u001b[39;00m\u001b[38;5;21;01m.\u001b[39;00m\u001b[38;5;21;01mstats\u001b[39;00m \u001b[38;5;28;01mas\u001b[39;00m \u001b[38;5;21;01mst\u001b[39;00m\n\u001b[1;32m     13\u001b[0m \u001b[38;5;28;01mimport\u001b[39;00m \u001b[38;5;21;01msklearn\u001b[39;00m\u001b[38;5;21;01m.\u001b[39;00m\u001b[38;5;21;01mcovariance\u001b[39;00m \u001b[38;5;28;01mas\u001b[39;00m \u001b[38;5;21;01mskcov\u001b[39;00m\n\u001b[0;32m---> 14\u001b[0m \u001b[38;5;28;01mimport\u001b[39;00m \u001b[38;5;21;01march\u001b[39;00m\u001b[38;5;21;01m.\u001b[39;00m\u001b[38;5;21;01mbootstrap\u001b[39;00m \u001b[38;5;28;01mas\u001b[39;00m \u001b[38;5;21;01mbs\u001b[39;00m\n\u001b[1;32m     16\u001b[0m \u001b[38;5;28;01mfrom\u001b[39;00m \u001b[38;5;21;01msklearn\u001b[39;00m\u001b[38;5;21;01m.\u001b[39;00m\u001b[38;5;21;01mpreprocessing\u001b[39;00m \u001b[38;5;28;01mimport\u001b[39;00m StandardScaler\n\u001b[1;32m     17\u001b[0m \u001b[38;5;28;01mfrom\u001b[39;00m \u001b[38;5;21;01msklearn\u001b[39;00m\u001b[38;5;21;01m.\u001b[39;00m\u001b[38;5;21;01mdecomposition\u001b[39;00m \u001b[38;5;28;01mimport\u001b[39;00m PCA\n",
      "File \u001b[0;32m~/stock-market/env3/lib/python3.10/site-packages/arch/__init__.py:2\u001b[0m\n\u001b[1;32m      1\u001b[0m \u001b[38;5;28;01mfrom\u001b[39;00m \u001b[38;5;21;01m.\u001b[39;00m\u001b[38;5;21;01m_version\u001b[39;00m \u001b[38;5;28;01mimport\u001b[39;00m version \u001b[38;5;28;01mas\u001b[39;00m __version__, version_tuple\n\u001b[0;32m----> 2\u001b[0m \u001b[38;5;28;01mfrom\u001b[39;00m \u001b[38;5;21;01m.\u001b[39;00m\u001b[38;5;21;01munivariate\u001b[39;00m\u001b[38;5;21;01m.\u001b[39;00m\u001b[38;5;21;01mmean\u001b[39;00m \u001b[38;5;28;01mimport\u001b[39;00m arch_model\n\u001b[1;32m      3\u001b[0m \u001b[38;5;28;01mfrom\u001b[39;00m \u001b[38;5;21;01m.\u001b[39;00m\u001b[38;5;21;01mutility\u001b[39;00m \u001b[38;5;28;01mimport\u001b[39;00m test\n\u001b[1;32m      6\u001b[0m \u001b[38;5;28;01mdef\u001b[39;00m \u001b[38;5;21mdoc\u001b[39m() \u001b[38;5;241m-\u001b[39m\u001b[38;5;241m>\u001b[39m \u001b[38;5;28;01mNone\u001b[39;00m:\n",
      "File \u001b[0;32m~/stock-market/env3/lib/python3.10/site-packages/arch/univariate/__init__.py:5\u001b[0m\n\u001b[1;32m      1\u001b[0m \u001b[38;5;28;01mfrom\u001b[39;00m \u001b[38;5;21;01m__future__\u001b[39;00m \u001b[38;5;28;01mimport\u001b[39;00m annotations\n\u001b[1;32m      3\u001b[0m \u001b[38;5;28;01mimport\u001b[39;00m \u001b[38;5;21;01mtypes\u001b[39;00m\n\u001b[0;32m----> 5\u001b[0m \u001b[38;5;28;01mfrom\u001b[39;00m \u001b[38;5;21;01march\u001b[39;00m\u001b[38;5;21;01m.\u001b[39;00m\u001b[38;5;21;01munivariate\u001b[39;00m \u001b[38;5;28;01mimport\u001b[39;00m recursions_python\n\u001b[1;32m      6\u001b[0m \u001b[38;5;28;01mfrom\u001b[39;00m \u001b[38;5;21;01march\u001b[39;00m\u001b[38;5;21;01m.\u001b[39;00m\u001b[38;5;21;01munivariate\u001b[39;00m\u001b[38;5;21;01m.\u001b[39;00m\u001b[38;5;21;01mdistribution\u001b[39;00m \u001b[38;5;28;01mimport\u001b[39;00m (\n\u001b[1;32m      7\u001b[0m     Distribution,\n\u001b[1;32m      8\u001b[0m     GeneralizedError,\n\u001b[0;32m   (...)\u001b[0m\n\u001b[1;32m     11\u001b[0m     StudentsT,\n\u001b[1;32m     12\u001b[0m )\n\u001b[1;32m     13\u001b[0m \u001b[38;5;28;01mfrom\u001b[39;00m \u001b[38;5;21;01march\u001b[39;00m\u001b[38;5;21;01m.\u001b[39;00m\u001b[38;5;21;01munivariate\u001b[39;00m\u001b[38;5;21;01m.\u001b[39;00m\u001b[38;5;21;01mmean\u001b[39;00m \u001b[38;5;28;01mimport\u001b[39;00m (\n\u001b[1;32m     14\u001b[0m     ARX,\n\u001b[1;32m     15\u001b[0m     HARX,\n\u001b[0;32m   (...)\u001b[0m\n\u001b[1;32m     20\u001b[0m     arch_model,\n\u001b[1;32m     21\u001b[0m )\n",
      "File \u001b[0;32m~/stock-market/env3/lib/python3.10/site-packages/arch/univariate/recursions_python.py:10\u001b[0m\n\u001b[1;32m      1\u001b[0m \u001b[38;5;124;03m\"\"\"\u001b[39;00m\n\u001b[1;32m      2\u001b[0m \u001b[38;5;124;03mPure Python implementations of the core recursions in the models. Only used for\u001b[39;00m\n\u001b[1;32m      3\u001b[0m \u001b[38;5;124;03mtesting and if it is not possible to install the Cython version using\u001b[39;00m\n\u001b[1;32m      4\u001b[0m \u001b[38;5;124;03mexport ARCH_NO_BINARY=1\u001b[39;00m\n\u001b[1;32m      5\u001b[0m \u001b[38;5;124;03mpython -m pip install .\u001b[39;00m\n\u001b[1;32m      6\u001b[0m \u001b[38;5;124;03m\"\"\"\u001b[39;00m\n\u001b[1;32m      8\u001b[0m \u001b[38;5;28;01mfrom\u001b[39;00m \u001b[38;5;21;01m__future__\u001b[39;00m \u001b[38;5;28;01mimport\u001b[39;00m annotations\n\u001b[0;32m---> 10\u001b[0m \u001b[38;5;28;01mfrom\u001b[39;00m \u001b[38;5;21;01march\u001b[39;00m\u001b[38;5;21;01m.\u001b[39;00m\u001b[38;5;21;01mcompat\u001b[39;00m\u001b[38;5;21;01m.\u001b[39;00m\u001b[38;5;21;01mnumba\u001b[39;00m \u001b[38;5;28;01mimport\u001b[39;00m jit\n\u001b[1;32m     12\u001b[0m \u001b[38;5;28;01mfrom\u001b[39;00m \u001b[38;5;21;01mabc\u001b[39;00m \u001b[38;5;28;01mimport\u001b[39;00m ABCMeta, abstractmethod\n\u001b[1;32m     13\u001b[0m \u001b[38;5;28;01mfrom\u001b[39;00m \u001b[38;5;21;01mtyping\u001b[39;00m \u001b[38;5;28;01mimport\u001b[39;00m cast\n",
      "File \u001b[0;32m~/stock-market/env3/lib/python3.10/site-packages/arch/compat/numba.py:18\u001b[0m\n\u001b[1;32m     15\u001b[0m     \u001b[38;5;28;01mif\u001b[39;00m DISABLE_NUMBA:\n\u001b[1;32m     16\u001b[0m         \u001b[38;5;28;01mraise\u001b[39;00m \u001b[38;5;167;01mImportError\u001b[39;00m\n\u001b[0;32m---> 18\u001b[0m     \u001b[38;5;28;01mfrom\u001b[39;00m \u001b[38;5;21;01mnumba\u001b[39;00m \u001b[38;5;28;01mimport\u001b[39;00m jit\n\u001b[1;32m     20\u001b[0m     jit \u001b[38;5;241m=\u001b[39m functools\u001b[38;5;241m.\u001b[39mpartial(jit, nopython\u001b[38;5;241m=\u001b[39m\u001b[38;5;28;01mTrue\u001b[39;00m)\n\u001b[1;32m     22\u001b[0m \u001b[38;5;28;01mexcept\u001b[39;00m \u001b[38;5;167;01mImportError\u001b[39;00m:\n",
      "File \u001b[0;32m~/stock-market/env3/lib/python3.10/site-packages/numba/__init__.py:93\u001b[0m\n\u001b[1;32m     89\u001b[0m \u001b[38;5;28;01mfrom\u001b[39;00m \u001b[38;5;21;01mnumba\u001b[39;00m\u001b[38;5;21;01m.\u001b[39;00m\u001b[38;5;21;01mcore\u001b[39;00m\u001b[38;5;21;01m.\u001b[39;00m\u001b[38;5;21;01mdecorators\u001b[39;00m \u001b[38;5;28;01mimport\u001b[39;00m (cfunc, jit, njit, stencil,\n\u001b[1;32m     90\u001b[0m                                    jit_module)\n\u001b[1;32m     92\u001b[0m \u001b[38;5;66;03m# Re-export vectorize decorators and the thread layer querying function\u001b[39;00m\n\u001b[0;32m---> 93\u001b[0m \u001b[38;5;28;01mfrom\u001b[39;00m \u001b[38;5;21;01mnumba\u001b[39;00m\u001b[38;5;21;01m.\u001b[39;00m\u001b[38;5;21;01mnp\u001b[39;00m\u001b[38;5;21;01m.\u001b[39;00m\u001b[38;5;21;01mufunc\u001b[39;00m \u001b[38;5;28;01mimport\u001b[39;00m (vectorize, guvectorize, threading_layer,\n\u001b[1;32m     94\u001b[0m                             get_num_threads, set_num_threads,\n\u001b[1;32m     95\u001b[0m                             set_parallel_chunksize, get_parallel_chunksize,\n\u001b[1;32m     96\u001b[0m                             get_thread_id)\n\u001b[1;32m     98\u001b[0m \u001b[38;5;66;03m# Re-export Numpy helpers\u001b[39;00m\n\u001b[1;32m     99\u001b[0m \u001b[38;5;28;01mfrom\u001b[39;00m \u001b[38;5;21;01mnumba\u001b[39;00m\u001b[38;5;21;01m.\u001b[39;00m\u001b[38;5;21;01mnp\u001b[39;00m\u001b[38;5;21;01m.\u001b[39;00m\u001b[38;5;21;01mnumpy_support\u001b[39;00m \u001b[38;5;28;01mimport\u001b[39;00m carray, farray, from_dtype\n",
      "File \u001b[0;32m~/stock-market/env3/lib/python3.10/site-packages/numba/np/ufunc/__init__.py:3\u001b[0m\n\u001b[1;32m      1\u001b[0m \u001b[38;5;66;03m# -*- coding: utf-8 -*-\u001b[39;00m\n\u001b[0;32m----> 3\u001b[0m \u001b[38;5;28;01mfrom\u001b[39;00m \u001b[38;5;21;01mnumba\u001b[39;00m\u001b[38;5;21;01m.\u001b[39;00m\u001b[38;5;21;01mnp\u001b[39;00m\u001b[38;5;21;01m.\u001b[39;00m\u001b[38;5;21;01mufunc\u001b[39;00m\u001b[38;5;21;01m.\u001b[39;00m\u001b[38;5;21;01mdecorators\u001b[39;00m \u001b[38;5;28;01mimport\u001b[39;00m Vectorize, GUVectorize, vectorize, guvectorize\n\u001b[1;32m      4\u001b[0m \u001b[38;5;28;01mfrom\u001b[39;00m \u001b[38;5;21;01mnumba\u001b[39;00m\u001b[38;5;21;01m.\u001b[39;00m\u001b[38;5;21;01mnp\u001b[39;00m\u001b[38;5;21;01m.\u001b[39;00m\u001b[38;5;21;01mufunc\u001b[39;00m\u001b[38;5;21;01m.\u001b[39;00m\u001b[38;5;21;01m_internal\u001b[39;00m \u001b[38;5;28;01mimport\u001b[39;00m PyUFunc_None, PyUFunc_Zero, PyUFunc_One\n\u001b[1;32m      5\u001b[0m \u001b[38;5;28;01mfrom\u001b[39;00m \u001b[38;5;21;01mnumba\u001b[39;00m\u001b[38;5;21;01m.\u001b[39;00m\u001b[38;5;21;01mnp\u001b[39;00m\u001b[38;5;21;01m.\u001b[39;00m\u001b[38;5;21;01mufunc\u001b[39;00m \u001b[38;5;28;01mimport\u001b[39;00m _internal, array_exprs\n",
      "File \u001b[0;32m~/stock-market/env3/lib/python3.10/site-packages/numba/np/ufunc/decorators.py:3\u001b[0m\n\u001b[1;32m      1\u001b[0m \u001b[38;5;28;01mimport\u001b[39;00m \u001b[38;5;21;01minspect\u001b[39;00m\n\u001b[0;32m----> 3\u001b[0m \u001b[38;5;28;01mfrom\u001b[39;00m \u001b[38;5;21;01mnumba\u001b[39;00m\u001b[38;5;21;01m.\u001b[39;00m\u001b[38;5;21;01mnp\u001b[39;00m\u001b[38;5;21;01m.\u001b[39;00m\u001b[38;5;21;01mufunc\u001b[39;00m \u001b[38;5;28;01mimport\u001b[39;00m _internal\n\u001b[1;32m      4\u001b[0m \u001b[38;5;28;01mfrom\u001b[39;00m \u001b[38;5;21;01mnumba\u001b[39;00m\u001b[38;5;21;01m.\u001b[39;00m\u001b[38;5;21;01mnp\u001b[39;00m\u001b[38;5;21;01m.\u001b[39;00m\u001b[38;5;21;01mufunc\u001b[39;00m\u001b[38;5;21;01m.\u001b[39;00m\u001b[38;5;21;01mparallel\u001b[39;00m \u001b[38;5;28;01mimport\u001b[39;00m ParallelUFuncBuilder, ParallelGUFuncBuilder\n\u001b[1;32m      6\u001b[0m \u001b[38;5;28;01mfrom\u001b[39;00m \u001b[38;5;21;01mnumba\u001b[39;00m\u001b[38;5;21;01m.\u001b[39;00m\u001b[38;5;21;01mcore\u001b[39;00m\u001b[38;5;21;01m.\u001b[39;00m\u001b[38;5;21;01mregistry\u001b[39;00m \u001b[38;5;28;01mimport\u001b[39;00m DelayedRegistry\n",
      "\u001b[0;31mSystemError\u001b[0m: initialization of _internal failed without raising an exception"
     ]
    }
   ],
   "source": [
    "import riskfolio as rp\n",
    "import pandas as pd\n",
    "import yfinance as yf\n",
    "import warnings\n",
    "warnings.filterwarnings(\"ignore\")"
   ]
  },
  {
   "cell_type": "code",
   "execution_count": null,
   "id": "3b201388-652e-4e79-91ea-786ef0d1686d",
   "metadata": {},
   "outputs": [],
   "source": [
    "assets = [\n",
    "    \"JCI\",\n",
    "    \"TGT\",\n",
    "    \"CMCSA\",\n",
    "    \"CPB\",\n",
    "    \"MO\",\n",
    "    \"APA\",\n",
    "    \"MMC\",\n",
    "    \"JPM\",\n",
    "    \"ZION\",\n",
    "    \"PSA\",\n",
    "    \"BAX\",\n",
    "    \"BMY\",\n",
    "    \"LUV\",\n",
    "    \"PCAR\",\n",
    "    \"TXT\",\n",
    "    \"TMO\",\n",
    "    \"DE\",\n",
    "    \"MSFT\",\n",
    "    \"HPQ\",\n",
    "    \"SEE\",\n",
    "    \"VZ\",\n",
    "    \"CNP\",\n",
    "    \"NI\",\n",
    "    \"T\",\n",
    "    \"BA\",\n",
    "    \"^GSPC\",\n",
    "]\n",
    "\n",
    "data = yf.download(assets, start=\"2016-01-01\", end=\"2019-12-30\")\n",
    "data = data.loc[:, (\"Adj Close\", slice(None))]\n",
    "data.columns = assets"
   ]
  },
  {
   "cell_type": "code",
   "execution_count": 3,
   "id": "e2aa12b4-9dd9-4209-a54f-fc1d7751e110",
   "metadata": {},
   "outputs": [],
   "source": [
    "import numpy as np"
   ]
  },
  {
   "cell_type": "code",
   "execution_count": 5,
   "id": "0611dc68-9d4a-4816-a304-0e3a3d56dacd",
   "metadata": {},
   "outputs": [],
   "source": [
    "import pandas as pd\n",
    "\n",
    "def xlsx_to_csv(input_file, output_file):\n",
    "    # Read Excel file\n",
    "    df = pd.read_excel(input_file)\n",
    "    \n",
    "    # Write to CSV\n",
    "    df.to_csv(output_file, index=False)\n",
    "\n",
    "# Example usage\n",
    "input_file = \"../Data/pnl-OB3975.xlsx\"\n",
    "output_file = \"../Data/output.csv\"\n",
    "xlsx_to_csv(input_file, output_file)\n"
   ]
  },
  {
   "cell_type": "code",
   "execution_count": 6,
   "id": "40e55347-3886-419d-b3f5-856451fddf0c",
   "metadata": {},
   "outputs": [
    {
     "name": "stdout",
     "output_type": "stream",
     "text": [
      "     Unnamed: 0   Unnamed: 1    Unnamed: 2 Unnamed: 3 Unnamed: 4 Unnamed: 5  \\\n",
      "0           NaN          NaN           NaN        NaN        NaN        NaN   \n",
      "1           NaN          NaN           NaN        NaN        NaN        NaN   \n",
      "2           NaN          NaN           NaN        NaN        NaN        NaN   \n",
      "3           NaN          NaN           NaN        NaN        NaN        NaN   \n",
      "4           NaN          NaN           NaN        NaN        NaN        NaN   \n",
      "..          ...          ...           ...        ...        ...        ...   \n",
      "105         NaN          VBL  INE200M01021          0          0          0   \n",
      "106         NaN         VEDL  INE205A01025          9     2568.2    2277.45   \n",
      "107         NaN  VIKASLIFE-T  INE161L01027          0          0          0   \n",
      "108         NaN   WELSPUNLIV  INE192B01031         65    7593.75    10289.5   \n",
      "109         NaN        WIPRO  INE075A01022          0          0          0   \n",
      "\n",
      "    Unnamed: 6 Unnamed: 7 Unnamed: 8 Unnamed: 9 Unnamed: 10 Unnamed: 11  \\\n",
      "0          NaN        NaN        NaN        NaN         NaN         NaN   \n",
      "1          NaN        NaN        NaN        NaN         NaN         NaN   \n",
      "2          NaN        NaN        NaN        NaN         NaN         NaN   \n",
      "3          NaN        NaN        NaN        NaN         NaN         NaN   \n",
      "4          NaN        NaN        NaN        NaN         NaN         NaN   \n",
      "..         ...        ...        ...        ...         ...         ...   \n",
      "105          0          0       1405         26         NaN     12743.2   \n",
      "106    -290.75   -11.3212          0          0         NaN           0   \n",
      "107          0          0       5.08        250         NaN      1637.5   \n",
      "108    2695.75    35.4996          0          0         NaN           0   \n",
      "109          0          0      448.6         30         NaN     17114.2   \n",
      "\n",
      "    Unnamed: 12 Unnamed: 13  \n",
      "0           NaN         NaN  \n",
      "1           NaN         NaN  \n",
      "2           NaN         NaN  \n",
      "3           NaN         NaN  \n",
      "4           NaN         NaN  \n",
      "..          ...         ...  \n",
      "105     23786.8    186.6627  \n",
      "106           0           0  \n",
      "107      -367.5    -22.4427  \n",
      "108           0           0  \n",
      "109     -3656.2    -21.3635  \n",
      "\n",
      "[110 rows x 14 columns]\n"
     ]
    }
   ],
   "source": [
    "import pandas as pd\n",
    "\n",
    "# Read Excel file\n",
    "df = pd.read_excel('../Data/pnl-OB3975.xlsx')\n",
    "input_file = \"../Data/pnl-OB3975.xlsx\"\n",
    "\n",
    "\n",
    "# Display the DataFrame\n",
    "print(df)\n"
   ]
  },
  {
   "cell_type": "code",
   "execution_count": 5,
   "id": "6028a31e-0a69-4904-8d39-f3659753f29e",
   "metadata": {},
   "outputs": [
    {
     "name": "stdout",
     "output_type": "stream",
     "text": [
      "Total Realized P&L: 56402.8829\n",
      "Total Realized P&L Pct.: 1442.4121\n"
     ]
    }
   ],
   "source": [
    "import pandas as pd\n",
    "import plotly.graph_objects as go\n",
    "\n",
    "# Read the CSV file\n",
    "df = pd.read_csv(\"../Data/pnl-march-1-23-to-march-28-24.csv\")\n",
    "\n",
    "\n",
    "# Calculate total Realized P&L and Realized P&L Pct.\n",
    "total_realized_pl = df[\"Realized P&L\"].sum()\n",
    "total_realized_pl_pct = df[\"Realized P&L Pct.\"].sum()\n",
    "\n",
    "print(\"Total Realized P&L:\", total_realized_pl)\n",
    "print(\"Total Realized P&L Pct.:\", total_realized_pl_pct)\n",
    "\n",
    "\n"
   ]
  },
  {
   "cell_type": "code",
   "execution_count": 6,
   "id": "1abf3a6a-4ca6-4456-abbf-3ad17c745146",
   "metadata": {},
   "outputs": [
    {
     "name": "stdout",
     "output_type": "stream",
     "text": [
      "Total Realized P&L: 56402.88290000001\n"
     ]
    }
   ],
   "source": [
    "# Define the data as a list\n",
    "realized_pl_data = [\n",
    "    0, 6934.7, -39.25, 0, 1928.5, 0, 1607.4, 0, -49.2, -83.6,\n",
    "    1384, 0, 156.63, -529.65, -736, 1545.75, 0, 638.5, 257.5, 595.5,\n",
    "    23.64, 0, 0, 78, 120.75, 6.05, 13185.5, 4308.25, -4108.1, 0,\n",
    "    0, 0, 9.95, 0, 3150, 0, -63.75, 1618.5, 74.5, -830.5, 1778.59,\n",
    "    34.56, 112.2, 597.87, -668.5, 0, 592.5, 2681.4829, 0, 1719.75,\n",
    "    14908, 1727.3, 62.5, -591.45, 1566.85, -1078.4, 18.86, -401.7, 0,\n",
    "    1497.3, 0, 100.3, -1018.7, -833.4, 0, 66, -57.6, 0, 0, -290.75, 0, 2695.75, 0\n",
    "]\n",
    "\n",
    "# Calculate the sum of Realized P&L\n",
    "total_realized_pl = sum(realized_pl_data)\n",
    "\n",
    "print(\"Total Realized P&L:\", total_realized_pl)\n"
   ]
  },
  {
   "cell_type": "markdown",
   "id": "b85972a1-a502-4f69-a5b6-c5e00b32cb58",
   "metadata": {},
   "source": [
    "## CAGR"
   ]
  },
  {
   "cell_type": "code",
   "execution_count": 7,
   "id": "aca37c58-b591-4201-9f31-9a2735439099",
   "metadata": {},
   "outputs": [
    {
     "name": "stdout",
     "output_type": "stream",
     "text": [
      "CAGR: 19.76%\n"
     ]
    }
   ],
   "source": []
  },
  {
   "cell_type": "code",
   "execution_count": 33,
   "id": "672a9e42-12ee-43c7-9a0d-9ab13f4ff3bd",
   "metadata": {},
   "outputs": [
    {
     "name": "stdout",
     "output_type": "stream",
     "text": [
      "Financial Year 23-24\n",
      "CAGR: 19.76%\n",
      "Total Realized P&L: 56402.88290000001\n",
      "Total Profits: 67783.4329\n",
      "Total Losses: -11380.55\n",
      "Total Returns Percentage: 1442.41%\n",
      "One-year return: 19.76%\n"
     ]
    },
    {
     "data": {
      "application/vnd.plotly.v1+json": {
       "config": {
        "plotlyServerURL": "https://plot.ly"
       },
       "data": [
        {
         "marker": {
          "color": "green"
         },
         "name": "Positive",
         "type": "bar",
         "x": [
          "3IINFOTECH-T",
          "AGI",
          "BANKBARODA",
          "BCG",
          "BCLIND",
          "BEL",
          "BHARATWIRE-T",
          "CHENNPETRO",
          "COCHINSHIP",
          "CPSEETF",
          "FCL",
          "FILATEX6",
          "FINPIPE",
          "GAEL",
          "GLENMARK",
          "GOLDBEES-E",
          "GPPL",
          "HDFCBANK",
          "HDFCSML250",
          "HFCL",
          "HNDFDS",
          "HSCL",
          "IDFCFIRSTB",
          "INDHOTEL",
          "INE0FS801015",
          "INF959L01HK9",
          "IOC",
          "IRB",
          "IRFC",
          "JPPOWER-T",
          "KALYANKJIL",
          "LXCHEM",
          "MARKSANS",
          "MASPTOP50",
          "MCDOWELL-N",
          "MON100-E",
          "MOTHERSON#",
          "MRPL",
          "MSUMI",
          "NATIONALUM",
          "NHPC",
          "ONGC",
          "PCBL",
          "PHARMABEES",
          "PRICOLLTD6",
          "QGOLDLFINV-E",
          "RICOAUTO",
          "RVNL",
          "SAIL",
          "SIGACHI",
          "TATAPOWER",
          "TATASTEEL",
          "TRIDENT",
          "VBL",
          "VIKASLIFE-T",
          "WELSPUNLIV",
          "WIPRO"
         ],
         "y": [
          0,
          59.4608,
          0,
          406.8565,
          0,
          36.1502,
          0,
          27.9822,
          0,
          7.4718,
          16.4138,
          0,
          28.3639,
          7.5347,
          8.1861,
          3.2947,
          0,
          0,
          12.9235,
          8.5321,
          1.0289,
          401.2141,
          59.0839,
          0,
          0,
          0,
          0.5573,
          0,
          44.9102,
          0,
          19.6539,
          15.0444,
          29.5938,
          11.8845,
          12.6415,
          21.2658,
          0,
          7.2278,
          70.7437,
          0,
          26.7011,
          231.4907,
          14.3005,
          8.9413,
          19.9582,
          3.0728,
          0,
          35.0754,
          0,
          35.713,
          0,
          1.6641,
          0,
          0,
          0,
          35.4996,
          0
         ]
        },
        {
         "marker": {
          "color": "red"
         },
         "name": "Negative",
         "type": "bar",
         "x": [
          "ASAHIINDIA",
          "BIOCON",
          "BLACKROSE-X",
          "DEEPAKFERT",
          "DWARKESH",
          "IEX",
          "JUBLINGREA",
          "MANALIPETC",
          "MOSCHIP",
          "PLASTIBLEN",
          "PRITI",
          "RENUKA",
          "SONACOMS",
          "SWISSMLTRY-X",
          "TBZ",
          "VEDL"
         ],
         "y": [
          -3.3666,
          -16.0574,
          -22.1457,
          -8.7825,
          -17.0292,
          -45.5843,
          -12.9679,
          -25.6367,
          -17.9656,
          -4.581,
          -16.1196,
          -6.9098,
          -28.5095,
          -49.7849,
          -1.2628,
          -11.3212
         ]
        }
       ],
       "layout": {
        "autosize": true,
        "template": {
         "data": {
          "bar": [
           {
            "error_x": {
             "color": "#2a3f5f"
            },
            "error_y": {
             "color": "#2a3f5f"
            },
            "marker": {
             "line": {
              "color": "#E5ECF6",
              "width": 0.5
             },
             "pattern": {
              "fillmode": "overlay",
              "size": 10,
              "solidity": 0.2
             }
            },
            "type": "bar"
           }
          ],
          "barpolar": [
           {
            "marker": {
             "line": {
              "color": "#E5ECF6",
              "width": 0.5
             },
             "pattern": {
              "fillmode": "overlay",
              "size": 10,
              "solidity": 0.2
             }
            },
            "type": "barpolar"
           }
          ],
          "carpet": [
           {
            "aaxis": {
             "endlinecolor": "#2a3f5f",
             "gridcolor": "white",
             "linecolor": "white",
             "minorgridcolor": "white",
             "startlinecolor": "#2a3f5f"
            },
            "baxis": {
             "endlinecolor": "#2a3f5f",
             "gridcolor": "white",
             "linecolor": "white",
             "minorgridcolor": "white",
             "startlinecolor": "#2a3f5f"
            },
            "type": "carpet"
           }
          ],
          "choropleth": [
           {
            "colorbar": {
             "outlinewidth": 0,
             "ticks": ""
            },
            "type": "choropleth"
           }
          ],
          "contour": [
           {
            "colorbar": {
             "outlinewidth": 0,
             "ticks": ""
            },
            "colorscale": [
             [
              0,
              "#0d0887"
             ],
             [
              0.1111111111111111,
              "#46039f"
             ],
             [
              0.2222222222222222,
              "#7201a8"
             ],
             [
              0.3333333333333333,
              "#9c179e"
             ],
             [
              0.4444444444444444,
              "#bd3786"
             ],
             [
              0.5555555555555556,
              "#d8576b"
             ],
             [
              0.6666666666666666,
              "#ed7953"
             ],
             [
              0.7777777777777778,
              "#fb9f3a"
             ],
             [
              0.8888888888888888,
              "#fdca26"
             ],
             [
              1,
              "#f0f921"
             ]
            ],
            "type": "contour"
           }
          ],
          "contourcarpet": [
           {
            "colorbar": {
             "outlinewidth": 0,
             "ticks": ""
            },
            "type": "contourcarpet"
           }
          ],
          "heatmap": [
           {
            "colorbar": {
             "outlinewidth": 0,
             "ticks": ""
            },
            "colorscale": [
             [
              0,
              "#0d0887"
             ],
             [
              0.1111111111111111,
              "#46039f"
             ],
             [
              0.2222222222222222,
              "#7201a8"
             ],
             [
              0.3333333333333333,
              "#9c179e"
             ],
             [
              0.4444444444444444,
              "#bd3786"
             ],
             [
              0.5555555555555556,
              "#d8576b"
             ],
             [
              0.6666666666666666,
              "#ed7953"
             ],
             [
              0.7777777777777778,
              "#fb9f3a"
             ],
             [
              0.8888888888888888,
              "#fdca26"
             ],
             [
              1,
              "#f0f921"
             ]
            ],
            "type": "heatmap"
           }
          ],
          "heatmapgl": [
           {
            "colorbar": {
             "outlinewidth": 0,
             "ticks": ""
            },
            "colorscale": [
             [
              0,
              "#0d0887"
             ],
             [
              0.1111111111111111,
              "#46039f"
             ],
             [
              0.2222222222222222,
              "#7201a8"
             ],
             [
              0.3333333333333333,
              "#9c179e"
             ],
             [
              0.4444444444444444,
              "#bd3786"
             ],
             [
              0.5555555555555556,
              "#d8576b"
             ],
             [
              0.6666666666666666,
              "#ed7953"
             ],
             [
              0.7777777777777778,
              "#fb9f3a"
             ],
             [
              0.8888888888888888,
              "#fdca26"
             ],
             [
              1,
              "#f0f921"
             ]
            ],
            "type": "heatmapgl"
           }
          ],
          "histogram": [
           {
            "marker": {
             "pattern": {
              "fillmode": "overlay",
              "size": 10,
              "solidity": 0.2
             }
            },
            "type": "histogram"
           }
          ],
          "histogram2d": [
           {
            "colorbar": {
             "outlinewidth": 0,
             "ticks": ""
            },
            "colorscale": [
             [
              0,
              "#0d0887"
             ],
             [
              0.1111111111111111,
              "#46039f"
             ],
             [
              0.2222222222222222,
              "#7201a8"
             ],
             [
              0.3333333333333333,
              "#9c179e"
             ],
             [
              0.4444444444444444,
              "#bd3786"
             ],
             [
              0.5555555555555556,
              "#d8576b"
             ],
             [
              0.6666666666666666,
              "#ed7953"
             ],
             [
              0.7777777777777778,
              "#fb9f3a"
             ],
             [
              0.8888888888888888,
              "#fdca26"
             ],
             [
              1,
              "#f0f921"
             ]
            ],
            "type": "histogram2d"
           }
          ],
          "histogram2dcontour": [
           {
            "colorbar": {
             "outlinewidth": 0,
             "ticks": ""
            },
            "colorscale": [
             [
              0,
              "#0d0887"
             ],
             [
              0.1111111111111111,
              "#46039f"
             ],
             [
              0.2222222222222222,
              "#7201a8"
             ],
             [
              0.3333333333333333,
              "#9c179e"
             ],
             [
              0.4444444444444444,
              "#bd3786"
             ],
             [
              0.5555555555555556,
              "#d8576b"
             ],
             [
              0.6666666666666666,
              "#ed7953"
             ],
             [
              0.7777777777777778,
              "#fb9f3a"
             ],
             [
              0.8888888888888888,
              "#fdca26"
             ],
             [
              1,
              "#f0f921"
             ]
            ],
            "type": "histogram2dcontour"
           }
          ],
          "mesh3d": [
           {
            "colorbar": {
             "outlinewidth": 0,
             "ticks": ""
            },
            "type": "mesh3d"
           }
          ],
          "parcoords": [
           {
            "line": {
             "colorbar": {
              "outlinewidth": 0,
              "ticks": ""
             }
            },
            "type": "parcoords"
           }
          ],
          "pie": [
           {
            "automargin": true,
            "type": "pie"
           }
          ],
          "scatter": [
           {
            "marker": {
             "colorbar": {
              "outlinewidth": 0,
              "ticks": ""
             }
            },
            "type": "scatter"
           }
          ],
          "scatter3d": [
           {
            "line": {
             "colorbar": {
              "outlinewidth": 0,
              "ticks": ""
             }
            },
            "marker": {
             "colorbar": {
              "outlinewidth": 0,
              "ticks": ""
             }
            },
            "type": "scatter3d"
           }
          ],
          "scattercarpet": [
           {
            "marker": {
             "colorbar": {
              "outlinewidth": 0,
              "ticks": ""
             }
            },
            "type": "scattercarpet"
           }
          ],
          "scattergeo": [
           {
            "marker": {
             "colorbar": {
              "outlinewidth": 0,
              "ticks": ""
             }
            },
            "type": "scattergeo"
           }
          ],
          "scattergl": [
           {
            "marker": {
             "colorbar": {
              "outlinewidth": 0,
              "ticks": ""
             }
            },
            "type": "scattergl"
           }
          ],
          "scattermapbox": [
           {
            "marker": {
             "colorbar": {
              "outlinewidth": 0,
              "ticks": ""
             }
            },
            "type": "scattermapbox"
           }
          ],
          "scatterpolar": [
           {
            "marker": {
             "colorbar": {
              "outlinewidth": 0,
              "ticks": ""
             }
            },
            "type": "scatterpolar"
           }
          ],
          "scatterpolargl": [
           {
            "marker": {
             "colorbar": {
              "outlinewidth": 0,
              "ticks": ""
             }
            },
            "type": "scatterpolargl"
           }
          ],
          "scatterternary": [
           {
            "marker": {
             "colorbar": {
              "outlinewidth": 0,
              "ticks": ""
             }
            },
            "type": "scatterternary"
           }
          ],
          "surface": [
           {
            "colorbar": {
             "outlinewidth": 0,
             "ticks": ""
            },
            "colorscale": [
             [
              0,
              "#0d0887"
             ],
             [
              0.1111111111111111,
              "#46039f"
             ],
             [
              0.2222222222222222,
              "#7201a8"
             ],
             [
              0.3333333333333333,
              "#9c179e"
             ],
             [
              0.4444444444444444,
              "#bd3786"
             ],
             [
              0.5555555555555556,
              "#d8576b"
             ],
             [
              0.6666666666666666,
              "#ed7953"
             ],
             [
              0.7777777777777778,
              "#fb9f3a"
             ],
             [
              0.8888888888888888,
              "#fdca26"
             ],
             [
              1,
              "#f0f921"
             ]
            ],
            "type": "surface"
           }
          ],
          "table": [
           {
            "cells": {
             "fill": {
              "color": "#EBF0F8"
             },
             "line": {
              "color": "white"
             }
            },
            "header": {
             "fill": {
              "color": "#C8D4E3"
             },
             "line": {
              "color": "white"
             }
            },
            "type": "table"
           }
          ]
         },
         "layout": {
          "annotationdefaults": {
           "arrowcolor": "#2a3f5f",
           "arrowhead": 0,
           "arrowwidth": 1
          },
          "autotypenumbers": "strict",
          "coloraxis": {
           "colorbar": {
            "outlinewidth": 0,
            "ticks": ""
           }
          },
          "colorscale": {
           "diverging": [
            [
             0,
             "#8e0152"
            ],
            [
             0.1,
             "#c51b7d"
            ],
            [
             0.2,
             "#de77ae"
            ],
            [
             0.3,
             "#f1b6da"
            ],
            [
             0.4,
             "#fde0ef"
            ],
            [
             0.5,
             "#f7f7f7"
            ],
            [
             0.6,
             "#e6f5d0"
            ],
            [
             0.7,
             "#b8e186"
            ],
            [
             0.8,
             "#7fbc41"
            ],
            [
             0.9,
             "#4d9221"
            ],
            [
             1,
             "#276419"
            ]
           ],
           "sequential": [
            [
             0,
             "#0d0887"
            ],
            [
             0.1111111111111111,
             "#46039f"
            ],
            [
             0.2222222222222222,
             "#7201a8"
            ],
            [
             0.3333333333333333,
             "#9c179e"
            ],
            [
             0.4444444444444444,
             "#bd3786"
            ],
            [
             0.5555555555555556,
             "#d8576b"
            ],
            [
             0.6666666666666666,
             "#ed7953"
            ],
            [
             0.7777777777777778,
             "#fb9f3a"
            ],
            [
             0.8888888888888888,
             "#fdca26"
            ],
            [
             1,
             "#f0f921"
            ]
           ],
           "sequentialminus": [
            [
             0,
             "#0d0887"
            ],
            [
             0.1111111111111111,
             "#46039f"
            ],
            [
             0.2222222222222222,
             "#7201a8"
            ],
            [
             0.3333333333333333,
             "#9c179e"
            ],
            [
             0.4444444444444444,
             "#bd3786"
            ],
            [
             0.5555555555555556,
             "#d8576b"
            ],
            [
             0.6666666666666666,
             "#ed7953"
            ],
            [
             0.7777777777777778,
             "#fb9f3a"
            ],
            [
             0.8888888888888888,
             "#fdca26"
            ],
            [
             1,
             "#f0f921"
            ]
           ]
          },
          "colorway": [
           "#636efa",
           "#EF553B",
           "#00cc96",
           "#ab63fa",
           "#FFA15A",
           "#19d3f3",
           "#FF6692",
           "#B6E880",
           "#FF97FF",
           "#FECB52"
          ],
          "font": {
           "color": "#2a3f5f"
          },
          "geo": {
           "bgcolor": "white",
           "lakecolor": "white",
           "landcolor": "#E5ECF6",
           "showlakes": true,
           "showland": true,
           "subunitcolor": "white"
          },
          "hoverlabel": {
           "align": "left"
          },
          "hovermode": "closest",
          "mapbox": {
           "style": "light"
          },
          "paper_bgcolor": "white",
          "plot_bgcolor": "#E5ECF6",
          "polar": {
           "angularaxis": {
            "gridcolor": "white",
            "linecolor": "white",
            "ticks": ""
           },
           "bgcolor": "#E5ECF6",
           "radialaxis": {
            "gridcolor": "white",
            "linecolor": "white",
            "ticks": ""
           }
          },
          "scene": {
           "xaxis": {
            "backgroundcolor": "#E5ECF6",
            "gridcolor": "white",
            "gridwidth": 2,
            "linecolor": "white",
            "showbackground": true,
            "ticks": "",
            "zerolinecolor": "white"
           },
           "yaxis": {
            "backgroundcolor": "#E5ECF6",
            "gridcolor": "white",
            "gridwidth": 2,
            "linecolor": "white",
            "showbackground": true,
            "ticks": "",
            "zerolinecolor": "white"
           },
           "zaxis": {
            "backgroundcolor": "#E5ECF6",
            "gridcolor": "white",
            "gridwidth": 2,
            "linecolor": "white",
            "showbackground": true,
            "ticks": "",
            "zerolinecolor": "white"
           }
          },
          "shapedefaults": {
           "line": {
            "color": "#2a3f5f"
           }
          },
          "ternary": {
           "aaxis": {
            "gridcolor": "white",
            "linecolor": "white",
            "ticks": ""
           },
           "baxis": {
            "gridcolor": "white",
            "linecolor": "white",
            "ticks": ""
           },
           "bgcolor": "#E5ECF6",
           "caxis": {
            "gridcolor": "white",
            "linecolor": "white",
            "ticks": ""
           }
          },
          "title": {
           "x": 0.05
          },
          "xaxis": {
           "automargin": true,
           "gridcolor": "white",
           "linecolor": "white",
           "ticks": "",
           "title": {
            "standoff": 15
           },
           "zerolinecolor": "white",
           "zerolinewidth": 2
          },
          "yaxis": {
           "automargin": true,
           "gridcolor": "white",
           "linecolor": "white",
           "ticks": "",
           "title": {
            "standoff": 15
           },
           "zerolinecolor": "white",
           "zerolinewidth": 2
          }
         }
        },
        "title": {
         "text": "Symbol vs Realized P&L Pct."
        },
        "xaxis": {
         "autorange": true,
         "range": [
          -0.5,
          72.5
         ],
         "title": {
          "text": "Symbol"
         },
         "type": "category"
        },
        "yaxis": {
         "autorange": true,
         "range": [
          -75.15386666666666,
          432.22546666666665
         ],
         "title": {
          "text": "Realized P&L Pct."
         },
         "type": "linear"
        }
       }
      },
      "image/png": "[encoded data removed]",
      "text/html": [
       "<div>                            <div id=\"482789b0-f155-4ac7-b016-da719ff5e6a3\" class=\"plotly-graph-div\" style=\"height:600px; width:100%;\"></div>            <script type=\"text/javascript\">                require([\"plotly\"], function(Plotly) {                    window.PLOTLYENV=window.PLOTLYENV || {};                                    if (document.getElementById(\"482789b0-f155-4ac7-b016-da719ff5e6a3\")) {                    Plotly.newPlot(                        \"482789b0-f155-4ac7-b016-da719ff5e6a3\",                        [{\"marker\":{\"color\":\"green\"},\"name\":\"Positive\",\"type\":\"bar\",\"x\":[\"3IINFOTECH-T\",\"AGI\",\"BANKBARODA\",\"BCG\",\"BCLIND\",\"BEL\",\"BHARATWIRE-T\",\"CHENNPETRO\",\"COCHINSHIP\",\"CPSEETF\",\"FCL\",\"FILATEX6\",\"FINPIPE\",\"GAEL\",\"GLENMARK\",\"GOLDBEES-E\",\"GPPL\",\"HDFCBANK\",\"HDFCSML250\",\"HFCL\",\"HNDFDS\",\"HSCL\",\"IDFCFIRSTB\",\"INDHOTEL\",\"INE0FS801015\",\"INF959L01HK9\",\"IOC\",\"IRB\",\"IRFC\",\"JPPOWER-T\",\"KALYANKJIL\",\"LXCHEM\",\"MARKSANS\",\"MASPTOP50\",\"MCDOWELL-N\",\"MON100-E\",\"MOTHERSON#\",\"MRPL\",\"MSUMI\",\"NATIONALUM\",\"NHPC\",\"ONGC\",\"PCBL\",\"PHARMABEES\",\"PRICOLLTD6\",\"QGOLDLFINV-E\",\"RICOAUTO\",\"RVNL\",\"SAIL\",\"SIGACHI\",\"TATAPOWER\",\"TATASTEEL\",\"TRIDENT\",\"VBL\",\"VIKASLIFE-T\",\"WELSPUNLIV\",\"WIPRO\"],\"y\":[0.0,59.4608,0.0,406.8565,0.0,36.1502,0.0,27.9822,0.0,7.4718,16.4138,0.0,28.3639,7.5347,8.1861,3.2947,0.0,0.0,12.9235,8.5321,1.0289,401.2141,59.0839,0.0,0.0,0.0,0.5573,0.0,44.9102,0.0,19.6539,15.0444,29.5938,11.8845,12.6415,21.2658,0.0,7.2278,70.7437,0.0,26.7011,231.4907,14.3005,8.9413,19.9582,3.0728,0.0,35.0754,0.0,35.713,0.0,1.6641,0.0,0.0,0.0,35.4996,0.0]},{\"marker\":{\"color\":\"red\"},\"name\":\"Negative\",\"type\":\"bar\",\"x\":[\"ASAHIINDIA\",\"BIOCON\",\"BLACKROSE-X\",\"DEEPAKFERT\",\"DWARKESH\",\"IEX\",\"JUBLINGREA\",\"MANALIPETC\",\"MOSCHIP\",\"PLASTIBLEN\",\"PRITI\",\"RENUKA\",\"SONACOMS\",\"SWISSMLTRY-X\",\"TBZ\",\"VEDL\"],\"y\":[-3.3666,-16.0574,-22.1457,-8.7825,-17.0292,-45.5843,-12.9679,-25.6367,-17.9656,-4.581,-16.1196,-6.9098,-28.5095,-49.7849,-1.2628,-11.3212]}],                        {\"height\":600,\"template\":{\"data\":{\"bar\":[{\"error_x\":{\"color\":\"#2a3f5f\"},\"error_y\":{\"color\":\"#2a3f5f\"},\"marker\":{\"line\":{\"color\":\"#E5ECF6\",\"width\":0.5},\"pattern\":{\"fillmode\":\"overlay\",\"size\":10,\"solidity\":0.2}},\"type\":\"bar\"}],\"barpolar\":[{\"marker\":{\"line\":{\"color\":\"#E5ECF6\",\"width\":0.5},\"pattern\":{\"fillmode\":\"overlay\",\"size\":10,\"solidity\":0.2}},\"type\":\"barpolar\"}],\"carpet\":[{\"aaxis\":{\"endlinecolor\":\"#2a3f5f\",\"gridcolor\":\"white\",\"linecolor\":\"white\",\"minorgridcolor\":\"white\",\"startlinecolor\":\"#2a3f5f\"},\"baxis\":{\"endlinecolor\":\"#2a3f5f\",\"gridcolor\":\"white\",\"linecolor\":\"white\",\"minorgridcolor\":\"white\",\"startlinecolor\":\"#2a3f5f\"},\"type\":\"carpet\"}],\"choropleth\":[{\"colorbar\":{\"outlinewidth\":0,\"ticks\":\"\"},\"type\":\"choropleth\"}],\"contour\":[{\"colorbar\":{\"outlinewidth\":0,\"ticks\":\"\"},\"colorscale\":[[0.0,\"#0d0887\"],[0.1111111111111111,\"#46039f\"],[0.2222222222222222,\"#7201a8\"],[0.3333333333333333,\"#9c179e\"],[0.4444444444444444,\"#bd3786\"],[0.5555555555555556,\"#d8576b\"],[0.6666666666666666,\"#ed7953\"],[0.7777777777777778,\"#fb9f3a\"],[0.8888888888888888,\"#fdca26\"],[1.0,\"#f0f921\"]],\"type\":\"contour\"}],\"contourcarpet\":[{\"colorbar\":{\"outlinewidth\":0,\"ticks\":\"\"},\"type\":\"contourcarpet\"}],\"heatmap\":[{\"colorbar\":{\"outlinewidth\":0,\"ticks\":\"\"},\"colorscale\":[[0.0,\"#0d0887\"],[0.1111111111111111,\"#46039f\"],[0.2222222222222222,\"#7201a8\"],[0.3333333333333333,\"#9c179e\"],[0.4444444444444444,\"#bd3786\"],[0.5555555555555556,\"#d8576b\"],[0.6666666666666666,\"#ed7953\"],[0.7777777777777778,\"#fb9f3a\"],[0.8888888888888888,\"#fdca26\"],[1.0,\"#f0f921\"]],\"type\":\"heatmap\"}],\"heatmapgl\":[{\"colorbar\":{\"outlinewidth\":0,\"ticks\":\"\"},\"colorscale\":[[0.0,\"#0d0887\"],[0.1111111111111111,\"#46039f\"],[0.2222222222222222,\"#7201a8\"],[0.3333333333333333,\"#9c179e\"],[0.4444444444444444,\"#bd3786\"],[0.5555555555555556,\"#d8576b\"],[0.6666666666666666,\"#ed7953\"],[0.7777777777777778,\"#fb9f3a\"],[0.8888888888888888,\"#fdca26\"],[1.0,\"#f0f921\"]],\"type\":\"heatmapgl\"}],\"histogram\":[{\"marker\":{\"pattern\":{\"fillmode\":\"overlay\",\"size\":10,\"solidity\":0.2}},\"type\":\"histogram\"}],\"histogram2d\":[{\"colorbar\":{\"outlinewidth\":0,\"ticks\":\"\"},\"colorscale\":[[0.0,\"#0d0887\"],[0.1111111111111111,\"#46039f\"],[0.2222222222222222,\"#7201a8\"],[0.3333333333333333,\"#9c179e\"],[0.4444444444444444,\"#bd3786\"],[0.5555555555555556,\"#d8576b\"],[0.6666666666666666,\"#ed7953\"],[0.7777777777777778,\"#fb9f3a\"],[0.8888888888888888,\"#fdca26\"],[1.0,\"#f0f921\"]],\"type\":\"histogram2d\"}],\"histogram2dcontour\":[{\"colorbar\":{\"outlinewidth\":0,\"ticks\":\"\"},\"colorscale\":[[0.0,\"#0d0887\"],[0.1111111111111111,\"#46039f\"],[0.2222222222222222,\"#7201a8\"],[0.3333333333333333,\"#9c179e\"],[0.4444444444444444,\"#bd3786\"],[0.5555555555555556,\"#d8576b\"],[0.6666666666666666,\"#ed7953\"],[0.7777777777777778,\"#fb9f3a\"],[0.8888888888888888,\"#fdca26\"],[1.0,\"#f0f921\"]],\"type\":\"histogram2dcontour\"}],\"mesh3d\":[{\"colorbar\":{\"outlinewidth\":0,\"ticks\":\"\"},\"type\":\"mesh3d\"}],\"parcoords\":[{\"line\":{\"colorbar\":{\"outlinewidth\":0,\"ticks\":\"\"}},\"type\":\"parcoords\"}],\"pie\":[{\"automargin\":true,\"type\":\"pie\"}],\"scatter\":[{\"marker\":{\"colorbar\":{\"outlinewidth\":0,\"ticks\":\"\"}},\"type\":\"scatter\"}],\"scatter3d\":[{\"line\":{\"colorbar\":{\"outlinewidth\":0,\"ticks\":\"\"}},\"marker\":{\"colorbar\":{\"outlinewidth\":0,\"ticks\":\"\"}},\"type\":\"scatter3d\"}],\"scattercarpet\":[{\"marker\":{\"colorbar\":{\"outlinewidth\":0,\"ticks\":\"\"}},\"type\":\"scattercarpet\"}],\"scattergeo\":[{\"marker\":{\"colorbar\":{\"outlinewidth\":0,\"ticks\":\"\"}},\"type\":\"scattergeo\"}],\"scattergl\":[{\"marker\":{\"colorbar\":{\"outlinewidth\":0,\"ticks\":\"\"}},\"type\":\"scattergl\"}],\"scattermapbox\":[{\"marker\":{\"colorbar\":{\"outlinewidth\":0,\"ticks\":\"\"}},\"type\":\"scattermapbox\"}],\"scatterpolar\":[{\"marker\":{\"colorbar\":{\"outlinewidth\":0,\"ticks\":\"\"}},\"type\":\"scatterpolar\"}],\"scatterpolargl\":[{\"marker\":{\"colorbar\":{\"outlinewidth\":0,\"ticks\":\"\"}},\"type\":\"scatterpolargl\"}],\"scatterternary\":[{\"marker\":{\"colorbar\":{\"outlinewidth\":0,\"ticks\":\"\"}},\"type\":\"scatterternary\"}],\"surface\":[{\"colorbar\":{\"outlinewidth\":0,\"ticks\":\"\"},\"colorscale\":[[0.0,\"#0d0887\"],[0.1111111111111111,\"#46039f\"],[0.2222222222222222,\"#7201a8\"],[0.3333333333333333,\"#9c179e\"],[0.4444444444444444,\"#bd3786\"],[0.5555555555555556,\"#d8576b\"],[0.6666666666666666,\"#ed7953\"],[0.7777777777777778,\"#fb9f3a\"],[0.8888888888888888,\"#fdca26\"],[1.0,\"#f0f921\"]],\"type\":\"surface\"}],\"table\":[{\"cells\":{\"fill\":{\"color\":\"#EBF0F8\"},\"line\":{\"color\":\"white\"}},\"header\":{\"fill\":{\"color\":\"#C8D4E3\"},\"line\":{\"color\":\"white\"}},\"type\":\"table\"}]},\"layout\":{\"annotationdefaults\":{\"arrowcolor\":\"#2a3f5f\",\"arrowhead\":0,\"arrowwidth\":1},\"autotypenumbers\":\"strict\",\"coloraxis\":{\"colorbar\":{\"outlinewidth\":0,\"ticks\":\"\"}},\"colorscale\":{\"diverging\":[[0,\"#8e0152\"],[0.1,\"#c51b7d\"],[0.2,\"#de77ae\"],[0.3,\"#f1b6da\"],[0.4,\"#fde0ef\"],[0.5,\"#f7f7f7\"],[0.6,\"#e6f5d0\"],[0.7,\"#b8e186\"],[0.8,\"#7fbc41\"],[0.9,\"#4d9221\"],[1,\"#276419\"]],\"sequential\":[[0.0,\"#0d0887\"],[0.1111111111111111,\"#46039f\"],[0.2222222222222222,\"#7201a8\"],[0.3333333333333333,\"#9c179e\"],[0.4444444444444444,\"#bd3786\"],[0.5555555555555556,\"#d8576b\"],[0.6666666666666666,\"#ed7953\"],[0.7777777777777778,\"#fb9f3a\"],[0.8888888888888888,\"#fdca26\"],[1.0,\"#f0f921\"]],\"sequentialminus\":[[0.0,\"#0d0887\"],[0.1111111111111111,\"#46039f\"],[0.2222222222222222,\"#7201a8\"],[0.3333333333333333,\"#9c179e\"],[0.4444444444444444,\"#bd3786\"],[0.5555555555555556,\"#d8576b\"],[0.6666666666666666,\"#ed7953\"],[0.7777777777777778,\"#fb9f3a\"],[0.8888888888888888,\"#fdca26\"],[1.0,\"#f0f921\"]]},\"colorway\":[\"#636efa\",\"#EF553B\",\"#00cc96\",\"#ab63fa\",\"#FFA15A\",\"#19d3f3\",\"#FF6692\",\"#B6E880\",\"#FF97FF\",\"#FECB52\"],\"font\":{\"color\":\"#2a3f5f\"},\"geo\":{\"bgcolor\":\"white\",\"lakecolor\":\"white\",\"landcolor\":\"#E5ECF6\",\"showlakes\":true,\"showland\":true,\"subunitcolor\":\"white\"},\"hoverlabel\":{\"align\":\"left\"},\"hovermode\":\"closest\",\"mapbox\":{\"style\":\"light\"},\"paper_bgcolor\":\"white\",\"plot_bgcolor\":\"#E5ECF6\",\"polar\":{\"angularaxis\":{\"gridcolor\":\"white\",\"linecolor\":\"white\",\"ticks\":\"\"},\"bgcolor\":\"#E5ECF6\",\"radialaxis\":{\"gridcolor\":\"white\",\"linecolor\":\"white\",\"ticks\":\"\"}},\"scene\":{\"xaxis\":{\"backgroundcolor\":\"#E5ECF6\",\"gridcolor\":\"white\",\"gridwidth\":2,\"linecolor\":\"white\",\"showbackground\":true,\"ticks\":\"\",\"zerolinecolor\":\"white\"},\"yaxis\":{\"backgroundcolor\":\"#E5ECF6\",\"gridcolor\":\"white\",\"gridwidth\":2,\"linecolor\":\"white\",\"showbackground\":true,\"ticks\":\"\",\"zerolinecolor\":\"white\"},\"zaxis\":{\"backgroundcolor\":\"#E5ECF6\",\"gridcolor\":\"white\",\"gridwidth\":2,\"linecolor\":\"white\",\"showbackground\":true,\"ticks\":\"\",\"zerolinecolor\":\"white\"}},\"shapedefaults\":{\"line\":{\"color\":\"#2a3f5f\"}},\"ternary\":{\"aaxis\":{\"gridcolor\":\"white\",\"linecolor\":\"white\",\"ticks\":\"\"},\"baxis\":{\"gridcolor\":\"white\",\"linecolor\":\"white\",\"ticks\":\"\"},\"bgcolor\":\"#E5ECF6\",\"caxis\":{\"gridcolor\":\"white\",\"linecolor\":\"white\",\"ticks\":\"\"}},\"title\":{\"x\":0.05},\"xaxis\":{\"automargin\":true,\"gridcolor\":\"white\",\"linecolor\":\"white\",\"ticks\":\"\",\"title\":{\"standoff\":15},\"zerolinecolor\":\"white\",\"zerolinewidth\":2},\"yaxis\":{\"automargin\":true,\"gridcolor\":\"white\",\"linecolor\":\"white\",\"ticks\":\"\",\"title\":{\"standoff\":15},\"zerolinecolor\":\"white\",\"zerolinewidth\":2}}},\"title\":{\"text\":\"Symbol vs Realized P&L Pct.\"},\"xaxis\":{\"title\":{\"text\":\"Symbol\"}},\"yaxis\":{\"title\":{\"text\":\"Realized P&L Pct.\"}}},                        {\"responsive\": true}                    ).then(function(){\n",
       "                            \n",
       "var gd = document.getElementById('482789b0-f155-4ac7-b016-da719ff5e6a3');\n",
       "var x = new MutationObserver(function (mutations, observer) {{\n",
       "        var display = window.getComputedStyle(gd).display;\n",
       "        if (!display || display === 'none') {{\n",
       "            console.log([gd, 'removed!']);\n",
       "            Plotly.purge(gd);\n",
       "            observer.disconnect();\n",
       "        }}\n",
       "}});\n",
       "\n",
       "// Listen for the removal of the full notebook cells\n",
       "var notebookContainer = gd.closest('#notebook-container');\n",
       "if (notebookContainer) {{\n",
       "    x.observe(notebookContainer, {childList: true});\n",
       "}}\n",
       "\n",
       "// Listen for the clearing of the current output cell\n",
       "var outputEl = gd.closest('.output');\n",
       "if (outputEl) {{\n",
       "    x.observe(outputEl, {childList: true});\n",
       "}}\n",
       "\n",
       "                        })                };                });            </script>        </div>"
      ]
     },
     "metadata": {},
     "output_type": "display_data"
    }
   ],
   "source": [
    "import pandas as pd\n",
    "import plotly.graph_objects as go\n",
    "import matplotlib.pyplot as plt\n",
    "\n",
    "\n",
    "\n",
    "# Read the CSV file and extract the desired column\n",
    "df = pd.read_csv(\"../Data/pnl-march-1-23-to-march-28-24.csv\")\n",
    "realized_pl_data = df[\"Realized P&L\"].tolist()\n",
    "realized_pl_pct_data = df[\"Realized P&L Pct.\"].tolist()\n",
    "unrealized_pl_data = df[\"Unrealized P&L\"].tolist()\n",
    "unrealized_pl_data_pct = df[\"Unrealized P&L Pct.\"].tolist()\n",
    "\n",
    "#print(realized_pl_pct_data)\n",
    "print(\"Financial Year 23-24\")\n",
    "\n",
    "# Calculate the CAGR\n",
    "num_data_points = len(realized_pl_pct_data)\n",
    "total_pct_change = sum(realized_pl_pct_data)\n",
    "cagr = total_pct_change / num_data_points\n",
    "print(\"CAGR:\", '{:.2%}'.format(cagr / 100))\n",
    "\n",
    "# Calculate the sum of Realized P&L\n",
    "total_realized_pl = sum(realized_pl_data)\n",
    "print(\"Total Realized P&L:\", total_realized_pl)\n",
    "\n",
    "# # Calculate unrealized PnL\n",
    "# total_unrealized_pl = sum(unrealized_pl_data)\n",
    "# print(\"Total Unrealized P&L:\", total_unrealized_pl)\n",
    "\n",
    "# Calculate Unrealzied PnL Pct.\n",
    "# Calculate the total percentage from the \"Realized P&L Pct.\" column\n",
    "total_pct = df[\"Realized P&L Pct.\"].sum()\n",
    "\n",
    "\n",
    "# Separate profits (positive values) and losses (negative values)\n",
    "profits = df[df[\"Realized P&L\"] > 0][\"Realized P&L\"].sum()\n",
    "losses = df[df[\"Realized P&L\"] < 0][\"Realized P&L\"].sum()\n",
    "\n",
    "print(\"Total Profits:\", profits)\n",
    "print(\"Total Losses:\", losses)\n",
    "print(\"Total Returns Percentage:\", '{:.2%}'.format(total_pct/100))\n",
    "\n",
    "\n",
    "# Calculate the weighted average return\n",
    "total_invested = len(realized_pl_pct_data)  # Assuming equal investment in each stock\n",
    "one_year_return = sum(realized_pl_pct_data) / total_invested\n",
    "\n",
    "print(\"One-year return:\", '{:.2%}'.format(one_year_return/100))\n",
    "\n",
    "##-------------------------------\n",
    "\n",
    "# Separate positive and negative values\n",
    "positive_values = df[df[\"Realized P&L Pct.\"] >= 0]\n",
    "negative_values = df[df[\"Realized P&L Pct.\"] < 0]\n",
    "\n",
    "# Create trace for positive values\n",
    "trace_positive = go.Bar(\n",
    "    x=positive_values[\"Symbol\"],\n",
    "    y=positive_values[\"Realized P&L Pct.\"],\n",
    "    marker=dict(color='green'),\n",
    "    name='Positive'\n",
    ")\n",
    "\n",
    "# Create trace for negative values\n",
    "trace_negative = go.Bar(\n",
    "    x=negative_values[\"Symbol\"],\n",
    "    y=negative_values[\"Realized P&L Pct.\"],\n",
    "    marker=dict(color='red'),\n",
    "    name='Negative'\n",
    ")\n",
    "\n",
    "# Combine traces\n",
    "data = [trace_positive, trace_negative]\n",
    "\n",
    "# Create layout\n",
    "layout = go.Layout(\n",
    "    title=\"Symbol vs Realized P&L Pct.\",\n",
    "    xaxis=dict(title=\"Symbol\"),\n",
    "    yaxis=dict(title=\"Realized P&L Pct.\"),\n",
    "    height=600\n",
    ")\n",
    "\n",
    "# Create figure\n",
    "fig = go.Figure(data=data, layout=layout)\n",
    "\n",
    "# Show plot\n",
    "fig.show()\n"
   ]
  },
  {
   "cell_type": "markdown",
   "id": "604e1bf1-3287-434a-b892-47a6771db28f",
   "metadata": {},
   "source": [
    "## CAGR \n",
    "\n",
    "$\n",
    "CAGR = \\left( \\frac{{\\text{Final Value}}}{{\\text{Initial Value}}} \\right)^{\\frac{1}{{\\text{Number of Years}}}} - 1\n",
    "$\n",
    "\n",
    "```\n",
    "# Define the initial and final values\n",
    "initial_value = realized_pl_pct_data[0]\n",
    "final_value = realized_pl_pct_data[-1]\n",
    "\n",
    "# Number of years (assuming one year)\n",
    "num_years = 1\n",
    "\n",
    "# Calculate CAGR\n",
    "cagr = (final_value / initial_value) ** (1 / num_years) - 1\n",
    "\n",
    "print(\"CAGR:\", '{:.2%}'.format(cagr))\n",
    "\n",
    "```"
   ]
  },
  {
   "cell_type": "code",
   "execution_count": null,
   "id": "242764bd-d47c-4388-9280-23564e3de5be",
   "metadata": {},
   "outputs": [],
   "source": []
  }
 ],
 "metadata": {
  "kernelspec": {
   "display_name": "Python 3 (ipykernel)",
   "language": "python",
   "name": "python3"
  },
  "language_info": {
   "codemirror_mode": {
    "name": "ipython",
    "version": 3
   },
   "file_extension": ".py",
   "mimetype": "text/x-python",
   "name": "python",
   "nbconvert_exporter": "python",
   "pygments_lexer": "ipython3",
   "version": "3.10.12"
  }
 },
 "nbformat": 4,
 "nbformat_minor": 5
}
