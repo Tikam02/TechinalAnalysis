{
 "cells": [
  {
   "cell_type": "code",
   "execution_count": 1,
   "id": "9419c578-cb35-4632-bd97-cc4b8ed4c4bd",
   "metadata": {},
   "outputs": [],
   "source": [
    "## Experiments"
   ]
  },
  {
   "cell_type": "code",
   "execution_count": null,
   "id": "0da38f92-a9a2-4ec9-9972-8201e4a0d2a9",
   "metadata": {},
   "outputs": [],
   "source": []
  },
  {
   "cell_type": "code",
   "execution_count": 2,
   "id": "22d3bea5-7839-4016-aaed-20605dd67f9e",
   "metadata": {},
   "outputs": [
    {
     "name": "stderr",
     "output_type": "stream",
     "text": [
      "[*********************100%%**********************]  1 of 1 completed"
     ]
    },
    {
     "name": "stdout",
     "output_type": "stream",
     "text": [
      "                  Open        High         Low       Close   Adj Close  \\\n",
      "Date                                                                     \n",
      "2023-01-03  130.279999  130.899994  124.169998  125.070000  124.216301   \n",
      "2023-01-04  126.889999  128.660004  125.080002  126.360001  125.497498   \n",
      "2023-01-05  127.129997  127.769997  124.760002  125.019997  124.166641   \n",
      "2023-01-06  126.010002  130.289993  124.889999  129.619995  128.735229   \n",
      "2023-01-09  130.470001  133.410004  129.889999  130.149994  129.261597   \n",
      "...                ...         ...         ...         ...         ...   \n",
      "2023-12-22  195.179993  195.410004  192.970001  193.600006  193.353287   \n",
      "2023-12-26  193.610001  193.889999  192.830002  193.050003  192.803986   \n",
      "2023-12-27  192.490005  193.500000  191.089996  193.149994  192.903839   \n",
      "2023-12-28  194.139999  194.660004  193.169998  193.580002  193.333298   \n",
      "2023-12-29  193.899994  194.399994  191.729996  192.529999  192.284637   \n",
      "\n",
      "               Volume  high_low_pc       ADR        rADR  \n",
      "Date                                                      \n",
      "2023-01-03  112117500     1.054200       NaN         NaN  \n",
      "2023-01-04   89113600     1.028622       NaN         NaN  \n",
      "2023-01-05   80962700     1.024126       NaN         NaN  \n",
      "2023-01-06   87754700     1.043238       NaN         NaN  \n",
      "2023-01-09   70790800     1.027100       NaN         NaN  \n",
      "...               ...          ...       ...         ...  \n",
      "2023-12-22   37122800     1.012644  1.012879  101.287902  \n",
      "2023-12-26   28919300     1.005497  1.012685  101.268537  \n",
      "2023-12-27   48087700     1.012612  1.012872  101.287246  \n",
      "2023-12-28   34049900     1.007713  1.012433  101.243260  \n",
      "2023-12-29   42628800     1.013926  1.012563  101.256297  \n",
      "\n",
      "[250 rows x 9 columns]\n"
     ]
    },
    {
     "name": "stderr",
     "output_type": "stream",
     "text": [
      "\n"
     ]
    }
   ],
   "source": [
    "import yfinance as yf\n",
    "\n",
    "def relativeAverageDailyRange(pricesDf, period):\n",
    "    pricesDf['high_low_pc'] = pricesDf['High'] / pricesDf['Low']\n",
    "    pricesDf[\"ADR\"] = pricesDf['high_low_pc'].rolling(window=period).mean()\n",
    "    pricesDf[\"rADR\"] = 100 * pricesDf['ADR']\n",
    "    return pricesDf\n",
    "\n",
    "# Function to fetch historical stock prices and calculate ADR\n",
    "def calculate_ADR(ticker, start_date, end_date, period):\n",
    "    # Fetch historical data using yfinance\n",
    "    data = yf.download(ticker, start=start_date, end=end_date)\n",
    "    \n",
    "    # Calculate ADR using the provided function\n",
    "    data = relativeAverageDailyRange(data, period)\n",
    "    \n",
    "    # Return the DataFrame with ADR and rADR columns added\n",
    "    return data\n",
    "\n",
    "# Example usage\n",
    "start_date = '2023-01-01'\n",
    "end_date = '2023-12-31'\n",
    "period = 20  # Adjust as needed\n",
    "\n",
    "# Replace 'AAPL' with your desired ticker symbol\n",
    "ticker = 'AAPL'\n",
    "\n",
    "# Calculate ADR for the specified ticker and period\n",
    "adr_data = calculate_ADR(ticker, start_date, end_date, period)\n",
    "\n",
    "# Print the resulting DataFrame with ADR and rADR columns added\n",
    "print(adr_data)\n"
   ]
  },
  {
   "cell_type": "code",
   "execution_count": 22,
   "id": "6586b705-54d6-4d22-9476-99ac2eda04f7",
   "metadata": {},
   "outputs": [
    {
     "name": "stderr",
     "output_type": "stream",
     "text": [
      "[*********************100%%**********************]  1 of 1 completed\n",
      "[*********************100%%**********************]  1 of 1 completed"
     ]
    },
    {
     "name": "stdout",
     "output_type": "stream",
     "text": [
      "P1 Date\n",
      "2024-04-05    21.0925\n",
      "Name: ADR, dtype: float64\n",
      "ADR Percentage Date\n",
      "2024-04-05    5.230024\n",
      "dtype: float64\n",
      "ADR MOD Date\n",
      "2024-04-05    6.834477\n",
      "Name: mod_adr, dtype: float64\n",
      "P2 Date\n",
      "2024-04-05    21.0925\n",
      "Name: adr, dtype: float64\n"
     ]
    },
    {
     "name": "stderr",
     "output_type": "stream",
     "text": [
      "\n"
     ]
    }
   ],
   "source": [
    "import yfinance as yf\n",
    "\n",
    "# ADR Values\n",
    "def calculate_ADR(ticker, start_date, end_date, period):\n",
    "    # Get historical pricing data\n",
    "    data = yf.download(ticker, start=start_date, end=end_date)\n",
    "\n",
    "    # Calculate Daily Range for each period\n",
    "    data['Daily_Range'] = data[\"High\"] - data[\"Low\"]\n",
    "\n",
    "    # Calculate the average daily range over the specified period\n",
    "    data[\"ADR\"] = data['Daily_Range'].rolling(window=period).mean()\n",
    "\n",
    "    return data[\"ADR\"]\n",
    "\n",
    "# ADR Percentage\n",
    "def calculate_ADRP(data):\n",
    "    data['DailyHigh'] = data['High']\n",
    "    data['DailyLow'] = data['Low']\n",
    "    ADR_highlow = (data['DailyHigh'] / data['DailyLow']).rolling(window=14).mean()\n",
    "    ADR_perc = 100 * (ADR_highlow - 1)\n",
    "    return ADR_perc\n",
    "\n",
    "def calculate_ADRP2(data):\n",
    "    # Calculate the daily range (High - Low) using a lambda function\n",
    "    data['dr'] = data.apply(lambda x: x[\"High\"] - x[\"Low\"], axis=1)\n",
    "    \n",
    "    # Calculate the average daily range (ADR) over a 20-period interval\n",
    "    data[\"adr\"] = data['dr'].rolling(window=20).mean()\n",
    "    \n",
    "    return data[\"adr\"]\n",
    "\n",
    "# MOD ADR\n",
    "def calculate_modified_ADR(data):\n",
    "    data['dr_pct'] = data.apply(lambda x: 100 * (x[\"High\"] / x[\"Low\"] - 1), axis=1)\n",
    "    data[\"mod_adr\"] = data['dr_pct'].rolling(window=20).mean()\n",
    "    return data[\"mod_adr\"]\n",
    "\n",
    "# Example usage\n",
    "ticker = 'BLS.NS'\n",
    "start_date = '2024-01-01'\n",
    "end_date = '2024-04-06'\n",
    "period = 20  # Adjust as needed\n",
    "data = yf.download(ticker, start=start_date, end=end_date)\n",
    "\n",
    "\n",
    "# Calculate ADR for the specified ticker and period\n",
    "adr_data = calculate_ADR(ticker, start_date, end_date, period)\n",
    "adr_perce = calculate_ADRP(data)\n",
    "adr_mod = calculate_modified_ADR(data)\n",
    "adr_p2 = calculate_ADRP2(data)\n",
    "\n",
    "# View Result\n",
    "print(\"P1\", adr_data.tail(1))\n",
    "print(\"ADR Percentage\",adr_perce.tail(1))\n",
    "print(\"ADR MOD\",adr_mod.tail(1))\n",
    "print(\"P2\",adr_p2.tail(1))\n",
    "\n",
    "\n"
   ]
  },
  {
   "cell_type": "code",
   "execution_count": null,
   "id": "535be0c2-4e85-46ae-bcbb-e67bdeb398be",
   "metadata": {},
   "outputs": [],
   "source": []
  },
  {
   "cell_type": "markdown",
   "id": "6ad4f448-9aed-44e5-9906-49d9ad5c2ee1",
   "metadata": {},
   "source": [
    "Periods:\n",
    "\n",
    "In general:\n",
    "\n",
    "- Short-term intraday traders (day trading) often use lower settings with periods in the range of 9-11.\n",
    "- Medium-term swing traders frequently use the default period setting of 14.\n",
    "- Longer-term position traders often set it at a higher period, in the range of 20-30."
   ]
  },
  {
   "cell_type": "code",
   "execution_count": null,
   "id": "be626e16-ef85-43c2-b08e-8bc3b63e32d4",
   "metadata": {},
   "outputs": [],
   "source": []
  },
  {
   "cell_type": "code",
   "execution_count": null,
   "id": "8dd0706f-134b-4aa2-bed8-77820e645f64",
   "metadata": {},
   "outputs": [],
   "source": []
  }
 ],
 "metadata": {
  "kernelspec": {
   "display_name": "Python 3 (ipykernel)",
   "language": "python",
   "name": "python3"
  },
  "language_info": {
   "codemirror_mode": {
    "name": "ipython",
    "version": 3
   },
   "file_extension": ".py",
   "mimetype": "text/x-python",
   "name": "python",
   "nbconvert_exporter": "python",
   "pygments_lexer": "ipython3",
   "version": "3.10.12"
  }
 },
 "nbformat": 4,
 "nbformat_minor": 5
}
