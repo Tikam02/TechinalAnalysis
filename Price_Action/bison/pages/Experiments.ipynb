{
 "cells": [
  {
   "cell_type": "code",
   "execution_count": 1,
   "id": "9419c578-cb35-4632-bd97-cc4b8ed4c4bd",
   "metadata": {},
   "outputs": [],
   "source": [
    "## Experiments"
   ]
  },
  {
   "cell_type": "code",
   "execution_count": null,
   "id": "0da38f92-a9a2-4ec9-9972-8201e4a0d2a9",
   "metadata": {},
   "outputs": [],
   "source": []
  },
  {
   "cell_type": "code",
   "execution_count": 2,
   "id": "22d3bea5-7839-4016-aaed-20605dd67f9e",
   "metadata": {},
   "outputs": [
    {
     "name": "stderr",
     "output_type": "stream",
     "text": [
      "[*********************100%%**********************]  1 of 1 completed"
     ]
    },
    {
     "name": "stdout",
     "output_type": "stream",
     "text": [
      "                  Open        High         Low       Close   Adj Close  \\\n",
      "Date                                                                     \n",
      "2023-01-03  130.279999  130.899994  124.169998  125.070000  124.216301   \n",
      "2023-01-04  126.889999  128.660004  125.080002  126.360001  125.497498   \n",
      "2023-01-05  127.129997  127.769997  124.760002  125.019997  124.166641   \n",
      "2023-01-06  126.010002  130.289993  124.889999  129.619995  128.735229   \n",
      "2023-01-09  130.470001  133.410004  129.889999  130.149994  129.261597   \n",
      "...                ...         ...         ...         ...         ...   \n",
      "2023-12-22  195.179993  195.410004  192.970001  193.600006  193.353287   \n",
      "2023-12-26  193.610001  193.889999  192.830002  193.050003  192.803986   \n",
      "2023-12-27  192.490005  193.500000  191.089996  193.149994  192.903839   \n",
      "2023-12-28  194.139999  194.660004  193.169998  193.580002  193.333298   \n",
      "2023-12-29  193.899994  194.399994  191.729996  192.529999  192.284637   \n",
      "\n",
      "               Volume  high_low_pc       ADR        rADR  \n",
      "Date                                                      \n",
      "2023-01-03  112117500     1.054200       NaN         NaN  \n",
      "2023-01-04   89113600     1.028622       NaN         NaN  \n",
      "2023-01-05   80962700     1.024126       NaN         NaN  \n",
      "2023-01-06   87754700     1.043238       NaN         NaN  \n",
      "2023-01-09   70790800     1.027100       NaN         NaN  \n",
      "...               ...          ...       ...         ...  \n",
      "2023-12-22   37122800     1.012644  1.012879  101.287902  \n",
      "2023-12-26   28919300     1.005497  1.012685  101.268537  \n",
      "2023-12-27   48087700     1.012612  1.012872  101.287246  \n",
      "2023-12-28   34049900     1.007713  1.012433  101.243260  \n",
      "2023-12-29   42628800     1.013926  1.012563  101.256297  \n",
      "\n",
      "[250 rows x 9 columns]\n"
     ]
    },
    {
     "name": "stderr",
     "output_type": "stream",
     "text": [
      "\n"
     ]
    }
   ],
   "source": [
    "import yfinance as yf\n",
    "\n",
    "def relativeAverageDailyRange(pricesDf, period):\n",
    "    pricesDf['high_low_pc'] = pricesDf['High'] / pricesDf['Low']\n",
    "    pricesDf[\"ADR\"] = pricesDf['high_low_pc'].rolling(window=period).mean()\n",
    "    pricesDf[\"rADR\"] = 100 * pricesDf['ADR']\n",
    "    return pricesDf\n",
    "\n",
    "# Function to fetch historical stock prices and calculate ADR\n",
    "def calculate_ADR(ticker, start_date, end_date, period):\n",
    "    # Fetch historical data using yfinance\n",
    "    data = yf.download(ticker, start=start_date, end=end_date)\n",
    "    \n",
    "    # Calculate ADR using the provided function\n",
    "    data = relativeAverageDailyRange(data, period)\n",
    "    \n",
    "    # Return the DataFrame with ADR and rADR columns added\n",
    "    return data\n",
    "\n",
    "# Example usage\n",
    "start_date = '2023-01-01'\n",
    "end_date = '2023-12-31'\n",
    "period = 20  # Adjust as needed\n",
    "\n",
    "# Replace 'AAPL' with your desired ticker symbol\n",
    "ticker = 'AAPL'\n",
    "\n",
    "# Calculate ADR for the specified ticker and period\n",
    "adr_data = calculate_ADR(ticker, start_date, end_date, period)\n",
    "\n",
    "# Print the resulting DataFrame with ADR and rADR columns added\n",
    "print(adr_data)\n"
   ]
  },
  {
   "cell_type": "code",
   "execution_count": 22,
   "id": "6586b705-54d6-4d22-9476-99ac2eda04f7",
   "metadata": {},
   "outputs": [
    {
     "name": "stderr",
     "output_type": "stream",
     "text": [
      "[*********************100%%**********************]  1 of 1 completed\n",
      "[*********************100%%**********************]  1 of 1 completed"
     ]
    },
    {
     "name": "stdout",
     "output_type": "stream",
     "text": [
      "P1 Date\n",
      "2024-04-05    21.0925\n",
      "Name: ADR, dtype: float64\n",
      "ADR Percentage Date\n",
      "2024-04-05    5.230024\n",
      "dtype: float64\n",
      "ADR MOD Date\n",
      "2024-04-05    6.834477\n",
      "Name: mod_adr, dtype: float64\n",
      "P2 Date\n",
      "2024-04-05    21.0925\n",
      "Name: adr, dtype: float64\n"
     ]
    },
    {
     "name": "stderr",
     "output_type": "stream",
     "text": [
      "\n"
     ]
    }
   ],
   "source": [
    "import yfinance as yf\n",
    "\n",
    "# ADR Values\n",
    "def calculate_ADR(ticker, start_date, end_date, period):\n",
    "    # Get historical pricing data\n",
    "    data = yf.download(ticker, start=start_date, end=end_date)\n",
    "\n",
    "    # Calculate Daily Range for each period\n",
    "    data['Daily_Range'] = data[\"High\"] - data[\"Low\"]\n",
    "\n",
    "    # Calculate the average daily range over the specified period\n",
    "    data[\"ADR\"] = data['Daily_Range'].rolling(window=period).mean()\n",
    "\n",
    "    return data[\"ADR\"]\n",
    "\n",
    "# ADR Percentage\n",
    "def calculate_ADRP(data):\n",
    "    data['DailyHigh'] = data['High']\n",
    "    data['DailyLow'] = data['Low']\n",
    "    ADR_highlow = (data['DailyHigh'] / data['DailyLow']).rolling(window=14).mean()\n",
    "    ADR_perc = 100 * (ADR_highlow - 1)\n",
    "    return ADR_perc\n",
    "\n",
    "def calculate_ADRP2(data):\n",
    "    # Calculate the daily range (High - Low) using a lambda function\n",
    "    data['dr'] = data.apply(lambda x: x[\"High\"] - x[\"Low\"], axis=1)\n",
    "    \n",
    "    # Calculate the average daily range (ADR) over a 20-period interval\n",
    "    data[\"adr\"] = data['dr'].rolling(window=20).mean()\n",
    "    \n",
    "    return data[\"adr\"]\n",
    "\n",
    "# MOD ADR\n",
    "def calculate_modified_ADR(data):\n",
    "    data['dr_pct'] = data.apply(lambda x: 100 * (x[\"High\"] / x[\"Low\"] - 1), axis=1)\n",
    "    data[\"mod_adr\"] = data['dr_pct'].rolling(window=20).mean()\n",
    "    return data[\"mod_adr\"]\n",
    "\n",
    "# Example usage\n",
    "ticker = 'BLS.NS'\n",
    "start_date = '2024-01-01'\n",
    "end_date = '2024-04-06'\n",
    "period = 20  # Adjust as needed\n",
    "data = yf.download(ticker, start=start_date, end=end_date)\n",
    "\n",
    "\n",
    "# Calculate ADR for the specified ticker and period\n",
    "adr_data = calculate_ADR(ticker, start_date, end_date, period)\n",
    "adr_perce = calculate_ADRP(data)\n",
    "adr_mod = calculate_modified_ADR(data)\n",
    "adr_p2 = calculate_ADRP2(data)\n",
    "\n",
    "# View Result\n",
    "print(\"P1\", adr_data.tail(1))\n",
    "print(\"ADR Percentage\",adr_perce.tail(1))\n",
    "print(\"ADR MOD\",adr_mod.tail(1))\n",
    "print(\"P2\",adr_p2.tail(1))\n",
    "\n",
    "\n"
   ]
  },
  {
   "cell_type": "code",
   "execution_count": null,
   "id": "535be0c2-4e85-46ae-bcbb-e67bdeb398be",
   "metadata": {},
   "outputs": [],
   "source": []
  },
  {
   "cell_type": "markdown",
   "id": "6ad4f448-9aed-44e5-9906-49d9ad5c2ee1",
   "metadata": {},
   "source": [
    "Periods:\n",
    "\n",
    "In general:\n",
    "\n",
    "- Short-term intraday traders (day trading) often use lower settings with periods in the range of 9-11.\n",
    "- Medium-term swing traders frequently use the default period setting of 14.\n",
    "- Longer-term position traders often set it at a higher period, in the range of 20-30."
   ]
  },
  {
   "cell_type": "code",
   "execution_count": 1,
   "id": "be626e16-ef85-43c2-b08e-8bc3b63e32d4",
   "metadata": {},
   "outputs": [
    {
     "name": "stdout",
     "output_type": "stream",
     "text": [
      "         Date  Symbol  Security Name  Client Name  Buy/Sell  Quantity Traded  \\\n",
      "0  NO RECORDS     NaN            NaN          NaN       NaN              NaN   \n",
      "\n",
      "   Trade Price / Wght. Avg. Price  \n",
      "0                             NaN  \n"
     ]
    }
   ],
   "source": [
    "from nsepython import *\n",
    "\n",
    "print(get_blockdeals())\n"
   ]
  },
  {
   "cell_type": "code",
   "execution_count": 2,
   "id": "8dd0706f-134b-4aa2-bed8-77820e645f64",
   "metadata": {},
   "outputs": [
    {
     "name": "stdout",
     "output_type": "stream",
     "text": [
      "{'resCmpData': [{'re_to_dt': '31-DEC-2023', 're_from_dt': '01-OCT-2023', 're_create_dt': '12-JAN-2024', 're_res_type': 'U', 're_excepn_items_new': '0', 're_desc_note_seg': '-', 're_staff_cost': '17851', 're_tot_exp_exc_pro_cont': None, 're_grs_npa': None, 're_int_expd': None, 're_con_pro_loss': '9201', 're_net_sale': '26505', 're_oth_exp': '2617', 're_rawmat_consump': '0', 're_diluted_eps': None, 're_inc_dre_sttr': '0', 're_pur_trd_goods': '0', 're_face_val': '10', 're_income_inv': None, 're_deff_tax': '1736', 're_share_associate': '0', 're_ret_asset': None, 're_proloss_ord_act': '9201', 're_notes_to_ac': '', 're_grs_npa_per': None, 're_excepn_items': None, 're_int_new': '217', 're_pro_los_frm_dis_opr': '0', 're_goi_per_shhd': None, 're_basic_eps_for_cont_dic_opr': '10.82', 're_oth_oper_exp': None, 're_remarks': None, 're_oth_pro_cont': None, 're_seg_remarks': None, 're_face_value_debt': None, 're_dilut_eps_for_cont_dic_opr': '10.82', 're_desc_note_fin': \"Notes:          1. The above financial results have been reviewed by the Audit Committee and approved by the Board of Directors in their respective meetings held on January 12, 2024. These results have been subjected to limited review carried out by the Statutory Auditors.          2. The above financial results have been prepared in accordance with the recognition and measurement principles provided in Indian Accounting Standard (Ind AS), the provisions of the Companies Act, 2013 (the Act), as applicable and guidelines issued by the Securities and Exchange Board of India (SEBI) under SEBI (Listing Obligations and Disclosure Requirements) Regulations 2015, as amended.      3. The Company operates in a single reporting segment namely, ￢ﾀﾘSearch and search related services￢ﾀﾙ hence there is no reportable segment as per requirements of Indian Accounting Standards 108 on 'Operating Segments'.      4. During the nine months ended December 31, 2023, the Company has issued and allotted 707,805 Equity shares upon conversion of Stock Options granted under the Company￢ﾀﾙs various ESOP schemes. Consequent to this allotment the paid-up Equity share capital of the Company stands increased to 85,028,407 Equity shares of Rs. 10/- each i.e. Rs. 850.3 million.      5. ￢ﾀﾘRevenue from operations' is a derived value arrived at by applying the applicable GST rate to the 'Net revenue from operations'.      6. Other Income includes fair value gain/(loss) on financial instruments measured at fair value through profit and loss aggregating to Rs. 675.5 million and Rs. 639.7 million for the quarter ended December 31, 2023 and December 31, 2022, respectively and (Rs. 718.6) million for the year ended March 31, 2023. Other Income also includes profit on sale of investments aggregating to Rs. 13.4 million and Rs. 12.5 million for the quarter ended December 31, 2023 and December 31, 2022 respectively and Rs. 1,893.5 million for the year ended March 31, 2023.      7.  The writ petition filed by the Company on October 18, 2023 before single judge with the Hon￢ﾀﾙble High Court of Karnataka, challenging Karnataka Industrial Area Development Board￢ﾀﾙs (￢ﾀﾜKIADB￢ﾀﾝ) order for cancellation of lease for 15 acres of land (written down value of  Rs.377.9 million as at December 31, 2023) allotment in Bengaluru Urban District, has been dismissed on January 8, 2024. The Company has filed a writ appeal against the aforesaid Order before division judge with the Karnataka High Court on January 11, 2024. Based on the Management's assessment and pending legal matter, no provision has been considered necessary at this stage.      8. The figures for the corresponding previous periods/year have been regrouped/reclassified wherever necessary, to make them comparable.\", 're_per_grs_npa': None, 're_pro_loss_bef_tax': '12093', 're_pro_loss_bef_tax_sum': None, 're_res_reval': None, 're_int_ser_cov': None, 're_cap_ade_rat': None, 're_paid_debt': None, 're_int_dis_adv_bills': None, 're_prolos_dis_opr_aftr_tax': '0', 're_debt_eqt_rat': None, 're_oth': None, 're_pdup': '8503', 're_curr_tax': '1156', 're_debt_ser_cov': None, 're_oth_inc': None, 're_tax': '2892', 're_net_profit': '9201', 're_basic_eps': None, 're_tax_expens_of_dis_opr': '0', 're_dil_eps_bfr_exi': None, 're_int_earned': None, 're_depr_und_exp': '1212', 're_amt_grs_np_asst': None, 're_prov_emp_pay': None, 're_total_inc': '33990', 're_oth_inc_new': '7485', 're_oper_exp': None, 're_minority_int': None, 're_bal_rbi_oth_bnk_funds': None, 're_cet_1_ret': None, 're_oper_exp_bef_pro_cont': None, 're_debt_rdmption': None, 're_extraord_items': None, 're_oth_tot_exp': '21897', 're_seq_num': '1162098', 're_pro_aft_int_bef_excep': None, 're_bsc_eps_bfr_exi': None, 're_tot_inc': None}, {'re_to_dt': '30-SEP-2023', 're_from_dt': '01-JUL-2023', 're_create_dt': '21-OCT-2023', 're_res_type': 'U', 're_excepn_items_new': '0', 're_desc_note_seg': '-', 're_staff_cost': '18538', 're_tot_exp_exc_pro_cont': None, 're_grs_npa': None, 're_int_expd': None, 're_con_pro_loss': '7179', 're_net_sale': '26061', 're_oth_exp': '2645', 're_rawmat_consump': '0', 're_diluted_eps': None, 're_inc_dre_sttr': '0', 're_pur_trd_goods': '0', 're_face_val': '10', 're_income_inv': None, 're_deff_tax': '1373', 're_share_associate': '0', 're_ret_asset': None, 're_proloss_ord_act': '7179', 're_notes_to_ac': '', 're_grs_npa_per': None, 're_excepn_items': None, 're_int_new': '239', 're_pro_los_frm_dis_opr': '0', 're_goi_per_shhd': None, 're_basic_eps_for_cont_dic_opr': '8.44', 're_oth_oper_exp': None, 're_remarks': None, 're_oth_pro_cont': None, 're_seg_remarks': None, 're_face_value_debt': None, 're_dilut_eps_for_cont_dic_opr': '8.44', 're_desc_note_fin': 'Notes pertaining to financial results are not being separately provided on account of restriction of 4000 words.', 're_per_grs_npa': None, 're_pro_loss_bef_tax': '9210', 're_pro_loss_bef_tax_sum': None, 're_res_reval': None, 're_int_ser_cov': None, 're_cap_ade_rat': None, 're_paid_debt': None, 're_int_dis_adv_bills': None, 're_prolos_dis_opr_aftr_tax': '0', 're_debt_eqt_rat': None, 're_oth': None, 're_pdup': '8503', 're_curr_tax': '658', 're_debt_ser_cov': None, 're_oth_inc': None, 're_tax': '2031', 're_net_profit': '7179', 're_basic_eps': None, 're_tax_expens_of_dis_opr': '0', 're_dil_eps_bfr_exi': None, 're_int_earned': None, 're_depr_und_exp': '1221', 're_amt_grs_np_asst': None, 're_prov_emp_pay': None, 're_total_inc': '31853', 're_oth_inc_new': '5792', 're_oper_exp': None, 're_minority_int': None, 're_bal_rbi_oth_bnk_funds': None, 're_cet_1_ret': None, 're_oper_exp_bef_pro_cont': None, 're_debt_rdmption': None, 're_extraord_items': None, 're_oth_tot_exp': '22643', 're_seq_num': '1155725', 're_pro_aft_int_bef_excep': None, 're_bsc_eps_bfr_exi': None, 're_tot_inc': None}, {'re_to_dt': '30-JUN-2023', 're_from_dt': '01-APR-2023', 're_create_dt': '14-JUL-2023', 're_res_type': 'U', 're_excepn_items_new': '0', 're_desc_note_seg': '-', 're_staff_cost': '18255', 're_tot_exp_exc_pro_cont': None, 're_grs_npa': None, 're_int_expd': None, 're_con_pro_loss': '8340', 're_net_sale': '24698', 're_oth_exp': '2774', 're_rawmat_consump': '0', 're_diluted_eps': None, 're_inc_dre_sttr': '0', 're_pur_trd_goods': '0', 're_face_val': '10', 're_income_inv': None, 're_deff_tax': '1825', 're_share_associate': '0', 're_ret_asset': None, 're_proloss_ord_act': '8340', 're_notes_to_ac': '', 're_grs_npa_per': None, 're_excepn_items': None, 're_int_new': '194', 're_pro_los_frm_dis_opr': '0', 're_goi_per_shhd': None, 're_basic_eps_for_cont_dic_opr': '9.84', 're_oth_oper_exp': None, 're_remarks': None, 're_oth_pro_cont': None, 're_seg_remarks': None, 're_face_value_debt': None, 're_dilut_eps_for_cont_dic_opr': '9.8', 're_desc_note_fin': \"Notes:   1.The above financial results have been reviewed by the Audit Committee and approved by the Board of Directors in their respective meetings held on July 14, 2023. These results have been subjected to limited review carried out by the Statutory Auditors.    2.The above financial results have been prepared in accordance with the recognition and measurement principles provided in Indian Accounting Standard (Ind AS), the provisions of the Companies Act, 2013 (the Act), as applicable and guidelines issued by the Securities and Exchange Board of India (SEBI) under SEBI (Listing Obligations and Disclosure Requirements) Regulations 2015, as amended.   3.The Company operates in a single reporting segment namely, ￢ﾀﾘSearch and search related services￢ﾀﾙ hence there is no reportable segment as per requirements of Indian Accounting Standards 108 on 'Operating Segments'.   4.During the quarter ended June 30, 2023, the Company has issued and allotted 707,805 Equity shares upon conversion of Stock Options granted under the Company￢ﾀﾙs various ESOP schemes. Consequent to this allotment the paid-up Equity share capital of the Company stands increased to 85,028,407 Equity shares of Rs. 10/- each i.e. Rs. 850.3 million.   5.'￢ﾀﾘRevenue from operations' is a derived value arrived at by applying the applicable GST rate to the 'Net revenue from operations'.   6.Other Income includes fair value gain/(loss) on financial instruments measured at fair value through profit and loss aggregating to Rs. 720.1 million and (Rs. 894.5) million for the quarter ended June 30, 2023 and June 30, 2022, respectively and (Rs. 718.6) million for the year ended March 31, 2023. Other Income also includes profit on sale of investments aggregating to                Rs. 34.7 million and Rs. 234.6 million for the quarter ended June 30, 2023 and June 30, 2022 respectively and Rs. 1,893.5 million for the year ended March 31, 2023.   7.The figures for the corresponding previous periods/year have been regrouped/reclassified wherever necessary, to make them comparable.\", 're_per_grs_npa': None, 're_pro_loss_bef_tax': '10611', 're_pro_loss_bef_tax_sum': None, 're_res_reval': None, 're_int_ser_cov': None, 're_cap_ade_rat': None, 're_paid_debt': None, 're_int_dis_adv_bills': None, 're_prolos_dis_opr_aftr_tax': '0', 're_debt_eqt_rat': None, 're_oth': None, 're_pdup': '8503', 're_curr_tax': '446', 're_debt_ser_cov': None, 're_oth_inc': None, 're_tax': '2271', 're_net_profit': '8340', 're_basic_eps': None, 're_tax_expens_of_dis_opr': '0', 're_dil_eps_bfr_exi': None, 're_int_earned': None, 're_depr_und_exp': '1004', 're_amt_grs_np_asst': None, 're_prov_emp_pay': None, 're_total_inc': '32838', 're_oth_inc_new': '8140', 're_oper_exp': None, 're_minority_int': None, 're_bal_rbi_oth_bnk_funds': None, 're_cet_1_ret': None, 're_oper_exp_bef_pro_cont': None, 're_debt_rdmption': None, 're_extraord_items': None, 're_oth_tot_exp': '22227', 're_seq_num': '1151846', 're_pro_aft_int_bef_excep': None, 're_bsc_eps_bfr_exi': None, 're_tot_inc': None}, {'re_to_dt': '31-MAR-2023', 're_from_dt': '01-JAN-2023', 're_create_dt': '18-APR-2023', 're_res_type': 'U', 're_excepn_items_new': '0', 're_desc_note_seg': '-', 're_staff_cost': '17226', 're_tot_exp_exc_pro_cont': None, 're_grs_npa': None, 're_int_expd': None, 're_con_pro_loss': '8379', 're_net_sale': '23253', 're_oth_exp': '2688', 're_rawmat_consump': '0', 're_diluted_eps': None, 're_inc_dre_sttr': '0', 're_pur_trd_goods': '0', 're_face_val': '10', 're_income_inv': None, 're_deff_tax': '933', 're_share_associate': '0', 're_ret_asset': None, 're_proloss_ord_act': '8379', 're_notes_to_ac': '', 're_grs_npa_per': None, 're_excepn_items': None, 're_int_new': '261', 're_pro_los_frm_dis_opr': '0', 're_goi_per_shhd': None, 're_basic_eps_for_cont_dic_opr': '9.94', 're_oth_oper_exp': None, 're_remarks': None, 're_oth_pro_cont': None, 're_seg_remarks': None, 're_face_value_debt': None, 're_dilut_eps_for_cont_dic_opr': '9.85', 're_desc_note_fin': 'Notes pertaining to financial results and Cash Flow are not being separately provided on account of restriction of 4000 words.      Further kindly take note that in sheet - Cash flow statement, Indirect, C- whether results results are Audited or unaudited - Results are audited but to some technically glitch we were not able to select audited tab.', 're_per_grs_npa': None, 're_pro_loss_bef_tax': '9594', 're_pro_loss_bef_tax_sum': None, 're_res_reval': None, 're_int_ser_cov': None, 're_cap_ade_rat': None, 're_paid_debt': None, 're_int_dis_adv_bills': None, 're_prolos_dis_opr_aftr_tax': '0', 're_debt_eqt_rat': None, 're_oth': None, 're_pdup': '8432', 're_curr_tax': '282', 're_debt_ser_cov': None, 're_oth_inc': None, 're_tax': '1215', 're_net_profit': '8379', 're_basic_eps': None, 're_tax_expens_of_dis_opr': '0', 're_dil_eps_bfr_exi': None, 're_int_earned': None, 're_depr_und_exp': '900', 're_amt_grs_np_asst': None, 're_prov_emp_pay': None, 're_total_inc': '30669', 're_oth_inc_new': '7416', 're_oper_exp': None, 're_minority_int': None, 're_bal_rbi_oth_bnk_funds': None, 're_cet_1_ret': None, 're_oper_exp_bef_pro_cont': None, 're_debt_rdmption': None, 're_extraord_items': None, 're_oth_tot_exp': '21075', 're_seq_num': '1145118', 're_pro_aft_int_bef_excep': None, 're_bsc_eps_bfr_exi': None, 're_tot_inc': None}, {'re_to_dt': '31-DEC-2022', 're_from_dt': '01-OCT-2022', 're_create_dt': '14-JAN-2023', 're_res_type': 'U', 're_excepn_items_new': '0', 're_desc_note_seg': '-', 're_staff_cost': '16732', 're_tot_exp_exc_pro_cont': None, 're_grs_npa': None, 're_int_expd': None, 're_con_pro_loss': '7527', 're_net_sale': '22137', 're_oth_exp': '2693', 're_rawmat_consump': '0', 're_diluted_eps': None, 're_inc_dre_sttr': '0', 're_pur_trd_goods': '0', 're_face_val': '10', 're_income_inv': None, 're_deff_tax': '1172', 're_share_associate': '0', 're_ret_asset': None, 're_proloss_ord_act': '7527', 're_notes_to_ac': '', 're_grs_npa_per': None, 're_excepn_items': None, 're_int_new': '225', 're_pro_los_frm_dis_opr': '0', 're_goi_per_shhd': None, 're_basic_eps_for_cont_dic_opr': '8.93', 're_oth_oper_exp': None, 're_remarks': None, 're_oth_pro_cont': None, 're_seg_remarks': None, 're_face_value_debt': None, 're_dilut_eps_for_cont_dic_opr': '8.86', 're_desc_note_fin': \"Notes:      1. The Audit Committee has reviewed and the Board of Directors has approved the above results and its release at their respective meetings held on January 13, 2023. These results have been subjected to limited review carried out by the Statutory Auditors.      2. The unaudited standalone and consolidated financial results for the quarter and nine months ended December 31, 2022 have been prepared in accordance with the recognition and measurement principles provided in Indian Accounting Standards 34 on ￢ﾀﾘInterim Financial Reporting￢ﾀﾙ, the provisions of the Companies Act, 2013 (the Act), as applicable and guidelines issued by the Securities and Exchange Board of India (SEBI) under SEBI (Listing Obligations and Disclosure Requirements) Regulations 2015, as amended.      3. The Company operates in a single reporting segment namely, ￢ﾀﾘSearch and search related services￢ﾀﾙ hence there is no reportable segment as per requirements of Indian Accounting Standards 108 on 'Operating Segments'.      4. During the quarter and nine months ended December 31, 2022, the Company has issued and allotted 704,860 Equity shares upon conversion of Stock Options granted under the Company￢ﾀﾙs various ESOP schemes. Consequent to this allotment the paid-up Equity share capital of the Company stands increased to 84,305,952 Equity shares of Rs. 10/- each i.e. Rs. 843.1 million.      5. '￢ﾀﾘRevenue from operations' is a derived value arrived at by applying the applicable GST rate to the 'Net revenue from operations'.      6. Other expenses include Rs. 505.2 million on account of advertisement and sales promotion expenses incurred during the nine months ended December 31, 2021 and year ended March 31, 2022 respectively primarily towards promoting B2B market place at the time of the first phase of Indian Premier League (IPL) 2021.      7. Other Income includes fair value gain/(loss) on financial instruments measured at fair value through profit and loss aggregating to Rs. 639.7 million and (Rs. 1,153.0) million for the quarter and nine months ended December 31,2022, respectively. Rs. 197.4 million and Rs. 688.0 million for the quarter and nine months ended December 31, 2021, respectively and Rs. 17.7 million for the year ended March 31, 2022. Other Income also includes profit/(loss) on sale of investments aggregating to Rs. 12.5 million and                   Rs. 1,650.8 million for the quarter and nine months ended December 31, 2022, respectively, Rs. 25.0 million and (Rs. 42.6) million for the quarter and nine months ended December 31, 2021 respectively and Rs. 898 million for the year ended March 31, 2022.      8. The figures for the corresponding previous periods/year have been regrouped/reclassified wherever necessary, to make them comparable.\", 're_per_grs_npa': None, 're_pro_loss_bef_tax': '8764', 're_pro_loss_bef_tax_sum': None, 're_res_reval': None, 're_int_ser_cov': None, 're_cap_ade_rat': None, 're_paid_debt': None, 're_int_dis_adv_bills': None, 're_prolos_dis_opr_aftr_tax': '0', 're_debt_eqt_rat': None, 're_oth': None, 're_pdup': '8431', 're_curr_tax': '65', 're_debt_ser_cov': None, 're_oth_inc': None, 're_tax': '1237', 're_net_profit': '7527', 're_basic_eps': None, 're_tax_expens_of_dis_opr': '0', 're_dil_eps_bfr_exi': None, 're_int_earned': None, 're_depr_und_exp': '847', 're_amt_grs_np_asst': None, 're_prov_emp_pay': None, 're_total_inc': '29261', 're_oth_inc_new': '7124', 're_oper_exp': None, 're_minority_int': None, 're_bal_rbi_oth_bnk_funds': None, 're_cet_1_ret': None, 're_oper_exp_bef_pro_cont': None, 're_debt_rdmption': None, 're_extraord_items': None, 're_oth_tot_exp': '20497', 're_seq_num': '1138614', 're_pro_aft_int_bef_excep': None, 're_bsc_eps_bfr_exi': None, 're_tot_inc': None}], 'bankNonBnking': 'N'}\n"
     ]
    }
   ],
   "source": [
    "print(nse_past_results('JUSTDIAL'))\n"
   ]
  },
  {
   "cell_type": "code",
   "execution_count": 3,
   "id": "47ebf54e-917e-46de-b796-b9ff747f79d6",
   "metadata": {},
   "outputs": [
    {
     "data": {
      "text/html": [
       "<div>\n",
       "<style scoped>\n",
       "    .dataframe tbody tr th:only-of-type {\n",
       "        vertical-align: middle;\n",
       "    }\n",
       "\n",
       "    .dataframe tbody tr th {\n",
       "        vertical-align: top;\n",
       "    }\n",
       "\n",
       "    .dataframe thead th {\n",
       "        text-align: right;\n",
       "    }\n",
       "</style>\n",
       "<table border=\"1\" class=\"dataframe\">\n",
       "  <thead>\n",
       "    <tr style=\"text-align: right;\">\n",
       "      <th></th>\n",
       "      <th>symbol</th>\n",
       "      <th>company</th>\n",
       "      <th>purpose</th>\n",
       "      <th>bm_desc</th>\n",
       "      <th>date</th>\n",
       "    </tr>\n",
       "  </thead>\n",
       "  <tbody>\n",
       "    <tr>\n",
       "      <th>0</th>\n",
       "      <td>AURIONPRO</td>\n",
       "      <td>Aurionpro Solutions Limited</td>\n",
       "      <td>Fund Raising</td>\n",
       "      <td>To consider and approve the Issue price, inclu...</td>\n",
       "      <td>08-Apr-2024</td>\n",
       "    </tr>\n",
       "    <tr>\n",
       "      <th>1</th>\n",
       "      <td>CUPID</td>\n",
       "      <td>Cupid Limited</td>\n",
       "      <td>Financial Results/Other business matters</td>\n",
       "      <td>To consider and approve the financial results ...</td>\n",
       "      <td>08-Apr-2024</td>\n",
       "    </tr>\n",
       "    <tr>\n",
       "      <th>2</th>\n",
       "      <td>DPWIRES</td>\n",
       "      <td>D P Wires Limited</td>\n",
       "      <td>Other business matters</td>\n",
       "      <td>To consider other business matters</td>\n",
       "      <td>08-Apr-2024</td>\n",
       "    </tr>\n",
       "    <tr>\n",
       "      <th>3</th>\n",
       "      <td>GSPL</td>\n",
       "      <td>Gujarat State Petronet Limited</td>\n",
       "      <td>Dividend</td>\n",
       "      <td>To consider dividend</td>\n",
       "      <td>08-Apr-2024</td>\n",
       "    </tr>\n",
       "    <tr>\n",
       "      <th>4</th>\n",
       "      <td>PVSL</td>\n",
       "      <td>Popular Vehicles and Services Limited</td>\n",
       "      <td>Financial Results</td>\n",
       "      <td>To consider and approve the financial results ...</td>\n",
       "      <td>08-Apr-2024</td>\n",
       "    </tr>\n",
       "    <tr>\n",
       "      <th>...</th>\n",
       "      <td>...</td>\n",
       "      <td>...</td>\n",
       "      <td>...</td>\n",
       "      <td>...</td>\n",
       "      <td>...</td>\n",
       "    </tr>\n",
       "    <tr>\n",
       "      <th>124</th>\n",
       "      <td>ARE&amp;M</td>\n",
       "      <td>Amara Raja Energy &amp; Mobility Limited</td>\n",
       "      <td>Financial Results/Dividend</td>\n",
       "      <td>To consider and approve the audited financial ...</td>\n",
       "      <td>28-May-2024</td>\n",
       "    </tr>\n",
       "    <tr>\n",
       "      <th>125</th>\n",
       "      <td>MEDPLUS</td>\n",
       "      <td>Medplus Health Services Limited</td>\n",
       "      <td>Financial Results</td>\n",
       "      <td>To consider and approve the financial results ...</td>\n",
       "      <td>28-May-2024</td>\n",
       "    </tr>\n",
       "    <tr>\n",
       "      <th>126</th>\n",
       "      <td>MOTOGENFIN</td>\n",
       "      <td>The Motor &amp; General Finance Limited</td>\n",
       "      <td>Financial Results</td>\n",
       "      <td>To consider and approve the financial results ...</td>\n",
       "      <td>28-May-2024</td>\n",
       "    </tr>\n",
       "    <tr>\n",
       "      <th>127</th>\n",
       "      <td>TTKPRESTIG</td>\n",
       "      <td>TTK Prestige Limited</td>\n",
       "      <td>Financial Results/Dividend/Other business matters</td>\n",
       "      <td>To consider and approve the financial results ...</td>\n",
       "      <td>28-May-2024</td>\n",
       "    </tr>\n",
       "    <tr>\n",
       "      <th>128</th>\n",
       "      <td>JAIPURKURT</td>\n",
       "      <td>Nandani Creation Limited</td>\n",
       "      <td>Other business matters</td>\n",
       "      <td>To consider other business matters</td>\n",
       "      <td>01-Sep-2024</td>\n",
       "    </tr>\n",
       "  </tbody>\n",
       "</table>\n",
       "<p>129 rows × 5 columns</p>\n",
       "</div>"
      ],
      "text/plain": [
       "         symbol                                company  \\\n",
       "0     AURIONPRO            Aurionpro Solutions Limited   \n",
       "1         CUPID                          Cupid Limited   \n",
       "2       DPWIRES                      D P Wires Limited   \n",
       "3          GSPL         Gujarat State Petronet Limited   \n",
       "4          PVSL  Popular Vehicles and Services Limited   \n",
       "..          ...                                    ...   \n",
       "124       ARE&M   Amara Raja Energy & Mobility Limited   \n",
       "125     MEDPLUS        Medplus Health Services Limited   \n",
       "126  MOTOGENFIN    The Motor & General Finance Limited   \n",
       "127  TTKPRESTIG                   TTK Prestige Limited   \n",
       "128  JAIPURKURT               Nandani Creation Limited   \n",
       "\n",
       "                                               purpose  \\\n",
       "0                                         Fund Raising   \n",
       "1             Financial Results/Other business matters   \n",
       "2                               Other business matters   \n",
       "3                                             Dividend   \n",
       "4                                    Financial Results   \n",
       "..                                                 ...   \n",
       "124                         Financial Results/Dividend   \n",
       "125                                  Financial Results   \n",
       "126                                  Financial Results   \n",
       "127  Financial Results/Dividend/Other business matters   \n",
       "128                             Other business matters   \n",
       "\n",
       "                                               bm_desc         date  \n",
       "0    To consider and approve the Issue price, inclu...  08-Apr-2024  \n",
       "1    To consider and approve the financial results ...  08-Apr-2024  \n",
       "2                   To consider other business matters  08-Apr-2024  \n",
       "3                                 To consider dividend  08-Apr-2024  \n",
       "4    To consider and approve the financial results ...  08-Apr-2024  \n",
       "..                                                 ...          ...  \n",
       "124  To consider and approve the audited financial ...  28-May-2024  \n",
       "125  To consider and approve the financial results ...  28-May-2024  \n",
       "126  To consider and approve the financial results ...  28-May-2024  \n",
       "127  To consider and approve the financial results ...  28-May-2024  \n",
       "128                 To consider other business matters  01-Sep-2024  \n",
       "\n",
       "[129 rows x 5 columns]"
      ]
     },
     "execution_count": 3,
     "metadata": {},
     "output_type": "execute_result"
    }
   ],
   "source": [
    "nse_events()\n"
   ]
  },
  {
   "cell_type": "code",
   "execution_count": 4,
   "id": "f3bba666-f0a2-4c9b-84ad-df60999b73c8",
   "metadata": {},
   "outputs": [
    {
     "name": "stdout",
     "output_type": "stream",
     "text": [
      "{'noBlockDeals': True, 'bulkBlockDeals': [{'name': 'Session I'}, {'name': 'Session II'}], 'marketDeptOrderBook': {'totalBuyQuantity': 1059, 'totalSellQuantity': 0, 'bid': [{'price': 1479.1, 'quantity': 1059}, {'price': 0, 'quantity': 0}, {'price': 0, 'quantity': 0}, {'price': 0, 'quantity': 0}, {'price': 0, 'quantity': 0}], 'ask': [{'price': 0, 'quantity': 0}, {'price': 0, 'quantity': 0}, {'price': 0, 'quantity': 0}, {'price': 0, 'quantity': 0}, {'price': 0, 'quantity': 0}], 'tradeInfo': {'totalTradedVolume': 50.72, 'totalTradedValue': 750.84, 'totalMarketCap': 614494.42, 'ffmc': 528465.200658682, 'impactCost': 0.02, 'cmDailyVolatility': '1.52', 'cmAnnualVolatility': '29.04', 'marketLot': '', 'activeSeries': 'EQ'}, 'valueAtRisk': {'securityVar': 9.53, 'indexVar': 0, 'varMargin': 9.53, 'extremeLossMargin': 3.5, 'adhocMargin': 0, 'applicableMargin': 13.03}}, 'securityWiseDP': {'quantityTraded': 5072482, 'deliveryQuantity': 2939200, 'deliveryToTradedQuantity': 57.94, 'seriesRemarks': None, 'secWiseDelPosDate': '05-APR-2024 EOD'}}\n"
     ]
    }
   ],
   "source": [
    "print(nse_quote(\"INFY\",\"trade_info\"))\n"
   ]
  },
  {
   "cell_type": "code",
   "execution_count": 7,
   "id": "daa90be9-f11d-4839-bc80-6a1fcdc6572f",
   "metadata": {},
   "outputs": [
    {
     "data": {
      "text/html": [
       "<div>\n",
       "<style scoped>\n",
       "    .dataframe tbody tr th:only-of-type {\n",
       "        vertical-align: middle;\n",
       "    }\n",
       "\n",
       "    .dataframe tbody tr th {\n",
       "        vertical-align: top;\n",
       "    }\n",
       "\n",
       "    .dataframe thead th {\n",
       "        text-align: right;\n",
       "    }\n",
       "</style>\n",
       "<table border=\"1\" class=\"dataframe\">\n",
       "  <thead>\n",
       "    <tr style=\"text-align: right;\">\n",
       "      <th></th>\n",
       "      <th>symbol</th>\n",
       "      <th>companyName</th>\n",
       "      <th>industry</th>\n",
       "      <th>audited</th>\n",
       "      <th>cumulative</th>\n",
       "      <th>indAs</th>\n",
       "      <th>reInd</th>\n",
       "      <th>period</th>\n",
       "      <th>relatingTo</th>\n",
       "      <th>financialYear</th>\n",
       "      <th>...</th>\n",
       "      <th>xbrl</th>\n",
       "      <th>format</th>\n",
       "      <th>params</th>\n",
       "      <th>resultDescription</th>\n",
       "      <th>resultDetailedDataLink</th>\n",
       "      <th>exchdisstime</th>\n",
       "      <th>difference</th>\n",
       "      <th>isin</th>\n",
       "      <th>broadCastDate</th>\n",
       "      <th>consolidated</th>\n",
       "    </tr>\n",
       "  </thead>\n",
       "  <tbody>\n",
       "    <tr>\n",
       "      <th>0</th>\n",
       "      <td>GMBREW</td>\n",
       "      <td>GM Breweries Limited</td>\n",
       "      <td>-</td>\n",
       "      <td>Audited</td>\n",
       "      <td>Non-cumulative</td>\n",
       "      <td>Ind-AS New</td>\n",
       "      <td>N</td>\n",
       "      <td>Quarterly</td>\n",
       "      <td>Fourth Quarter</td>\n",
       "      <td>01-Apr-2023 To 31-Mar-2024</td>\n",
       "      <td>...</td>\n",
       "      <td>https://nsearchives.nseindia.com/corporate/xbr...</td>\n",
       "      <td>New</td>\n",
       "      <td>01-Jan-202431-Mar-2024Q4ANNNNEGMBREW</td>\n",
       "      <td>None</td>\n",
       "      <td>None</td>\n",
       "      <td>04-Apr-2024 15:40:06</td>\n",
       "      <td>00:02:26</td>\n",
       "      <td>INE075D01018</td>\n",
       "      <td>04-Apr-2024 15:37:40</td>\n",
       "      <td>Non-Consolidated</td>\n",
       "    </tr>\n",
       "  </tbody>\n",
       "</table>\n",
       "<p>1 rows × 26 columns</p>\n",
       "</div>"
      ],
      "text/plain": [
       "   symbol           companyName industry  audited      cumulative       indAs  \\\n",
       "0  GMBREW  GM Breweries Limited        -  Audited  Non-cumulative  Ind-AS New   \n",
       "\n",
       "  reInd     period      relatingTo               financialYear  ...  \\\n",
       "0     N  Quarterly  Fourth Quarter  01-Apr-2023 To 31-Mar-2024  ...   \n",
       "\n",
       "                                                xbrl format  \\\n",
       "0  https://nsearchives.nseindia.com/corporate/xbr...    New   \n",
       "\n",
       "                                 params resultDescription  \\\n",
       "0  01-Jan-202431-Mar-2024Q4ANNNNEGMBREW              None   \n",
       "\n",
       "  resultDetailedDataLink          exchdisstime difference          isin  \\\n",
       "0                   None  04-Apr-2024 15:40:06   00:02:26  INE075D01018   \n",
       "\n",
       "          broadCastDate      consolidated  \n",
       "0  04-Apr-2024 15:37:40  Non-Consolidated  \n",
       "\n",
       "[1 rows x 26 columns]"
      ]
     },
     "execution_count": 7,
     "metadata": {},
     "output_type": "execute_result"
    }
   ],
   "source": [
    "nse_results(\"equities\",\"Quarterly\")\n"
   ]
  },
  {
   "cell_type": "code",
   "execution_count": 8,
   "id": "6e59ca22-1f48-4ffa-822d-de92bab9b753",
   "metadata": {},
   "outputs": [
    {
     "name": "stdout",
     "output_type": "stream",
     "text": [
      "{'marketState': [{'market': 'Capital Market', 'marketStatus': 'Close', 'tradeDate': '05-Apr-2024 15:30', 'index': 'NIFTY 50', 'last': 22513.7, 'variation': -0.9500000000007276, 'percentChange': 0, 'marketStatusMessage': 'Market is Closed'}, {'market': 'Currency', 'marketStatus': 'Close', 'tradeDate': 'Invalid date', 'index': '', 'last': '', 'variation': '', 'percentChange': '', 'marketStatusMessage': 'Market is Closed'}, {'market': 'Commodity', 'marketStatus': 'Close', 'tradeDate': 'Invalid date', 'index': '', 'last': '', 'variation': '', 'percentChange': '', 'marketStatusMessage': 'Market is Closed'}, {'market': 'Debt', 'marketStatus': 'Close', 'tradeDate': 'Invalid date', 'index': '', 'last': '', 'variation': '', 'percentChange': '', 'marketStatusMessage': 'Market is Closed'}, {'market': 'currencyfuture', 'marketStatus': 'Close', 'tradeDate': 'Invalid date', 'index': '', 'last': '83.3400', 'variation': '', 'percentChange': '', 'marketStatusMessage': 'Market is Closed', 'expiryDate': '12-Apr-2024', 'underlying': 'USDINR', 'updated_time': '05-Apr-2024 17:00', 'tradeDateFormatted': '05-Apr-2024 17:00', 'slickclass': 'slick-item'}], 'marketcap': {'timeStamp': '05-Apr-2024', 'marketCapinTRDollars': 4.75, 'marketCapinLACCRRupees': 396.2571391652615, 'marketCapinCRRupees': 39625713.92, 'marketCapinCRRupeesFormatted': '39,625,713.92', 'marketCapinLACCRRupeesFormatted': '396.26', 'underlying': 'Market Cap'}, 'indicativenifty50': {'dateTime': '05-Apr-2024 15:30', 'indexName': 'Nifty 50', 'closingValue': 22513.7, 'finalClosingValue': 22513.7, 'change': -0.96, 'perChange': 0, 'status': 'CLOSE'}}\n",
      "{'marketState': [{'market': 'Capital Market', 'marketStatus': 'Close', 'tradeDate': '05-Apr-2024 15:30', 'index': 'NIFTY 50', 'last': 22513.7, 'variation': -0.9500000000007276, 'percentChange': 0, 'marketStatusMessage': 'Market is Closed'}, {'market': 'Currency', 'marketStatus': 'Close', 'tradeDate': 'Invalid date', 'index': '', 'last': '', 'variation': '', 'percentChange': '', 'marketStatusMessage': 'Market is Closed'}, {'market': 'Commodity', 'marketStatus': 'Close', 'tradeDate': 'Invalid date', 'index': '', 'last': '', 'variation': '', 'percentChange': '', 'marketStatusMessage': 'Market is Closed'}, {'market': 'Debt', 'marketStatus': 'Close', 'tradeDate': 'Invalid date', 'index': '', 'last': '', 'variation': '', 'percentChange': '', 'marketStatusMessage': 'Market is Closed'}, {'market': 'currencyfuture', 'marketStatus': 'Close', 'tradeDate': 'Invalid date', 'index': '', 'last': '83.3400', 'variation': '', 'percentChange': '', 'marketStatusMessage': 'Market is Closed', 'expiryDate': '12-Apr-2024', 'underlying': 'USDINR', 'updated_time': '05-Apr-2024 17:00', 'tradeDateFormatted': '05-Apr-2024 17:00', 'slickclass': 'slick-item'}], 'marketcap': {'timeStamp': '05-Apr-2024', 'marketCapinTRDollars': 4.75, 'marketCapinLACCRRupees': 396.2571391652615, 'marketCapinCRRupees': 39625713.92, 'marketCapinCRRupeesFormatted': '39,625,713.92', 'marketCapinLACCRRupeesFormatted': '396.26', 'underlying': 'Market Cap'}, 'indicativenifty50': {'dateTime': '05-Apr-2024 15:30', 'indexName': 'Nifty 50', 'closingValue': 22513.7, 'finalClosingValue': 22513.7, 'change': -0.96, 'perChange': 0, 'status': 'CLOSE'}}\n"
     ]
    }
   ],
   "source": [
    "print(nse_marketStatus())\n"
   ]
  },
  {
   "cell_type": "code",
   "execution_count": null,
   "id": "82e9652a-3688-41d6-9404-6078408fcbc6",
   "metadata": {},
   "outputs": [],
   "source": []
  }
 ],
 "metadata": {
  "kernelspec": {
   "display_name": "Python 3 (ipykernel)",
   "language": "python",
   "name": "python3"
  },
  "language_info": {
   "codemirror_mode": {
    "name": "ipython",
    "version": 3
   },
   "file_extension": ".py",
   "mimetype": "text/x-python",
   "name": "python",
   "nbconvert_exporter": "python",
   "pygments_lexer": "ipython3",
   "version": "3.10.12"
  }
 },
 "nbformat": 4,
 "nbformat_minor": 5
}
