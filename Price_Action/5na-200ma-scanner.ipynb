{
 "cells": [
  {
   "cell_type": "code",
   "execution_count": 2,
   "id": "c6d8e187-3e94-4a99-8a17-15c5055a8dda",
   "metadata": {},
   "outputs": [
    {
     "name": "stderr",
     "output_type": "stream",
     "text": [
      "[*********************100%%**********************]  1 of 1 completed\n",
      "[*********************100%%**********************]  1 of 1 completed"
     ]
    },
    {
     "name": "stdout",
     "output_type": "stream",
     "text": [
      "Error processing ADANIPORTS.NS: 'numpy.ndarray' object has no attribute 'shift'\n"
     ]
    },
    {
     "name": "stderr",
     "output_type": "stream",
     "text": [
      "\n"
     ]
    },
    {
     "name": "stdout",
     "output_type": "stream",
     "text": [
      "Error processing ASIANPAINT.NS: 'numpy.ndarray' object has no attribute 'shift'\n"
     ]
    },
    {
     "name": "stderr",
     "output_type": "stream",
     "text": [
      "[*********************100%%**********************]  1 of 1 completed\n"
     ]
    },
    {
     "name": "stdout",
     "output_type": "stream",
     "text": [
      "Error processing AXISBANK.NS: 'numpy.ndarray' object has no attribute 'shift'\n"
     ]
    },
    {
     "name": "stderr",
     "output_type": "stream",
     "text": [
      "[*********************100%%**********************]  1 of 1 completed\n"
     ]
    },
    {
     "name": "stdout",
     "output_type": "stream",
     "text": [
      "Error processing BAJAJ-AUTO.NS: 'numpy.ndarray' object has no attribute 'shift'\n"
     ]
    },
    {
     "name": "stderr",
     "output_type": "stream",
     "text": [
      "[*********************100%%**********************]  1 of 1 completed\n"
     ]
    },
    {
     "name": "stdout",
     "output_type": "stream",
     "text": [
      "Error processing BAJFINANCE.NS: 'numpy.ndarray' object has no attribute 'shift'\n"
     ]
    },
    {
     "name": "stderr",
     "output_type": "stream",
     "text": [
      "[*********************100%%**********************]  1 of 1 completed\n"
     ]
    },
    {
     "name": "stdout",
     "output_type": "stream",
     "text": [
      "Error processing BAJAJFINSV.NS: 'numpy.ndarray' object has no attribute 'shift'\n"
     ]
    },
    {
     "name": "stderr",
     "output_type": "stream",
     "text": [
      "[*********************100%%**********************]  1 of 1 completed\n"
     ]
    },
    {
     "name": "stdout",
     "output_type": "stream",
     "text": [
      "Error processing BHARTIARTL.NS: 'numpy.ndarray' object has no attribute 'shift'\n"
     ]
    },
    {
     "name": "stderr",
     "output_type": "stream",
     "text": [
      "[*********************100%%**********************]  1 of 1 completed\n"
     ]
    },
    {
     "name": "stdout",
     "output_type": "stream",
     "text": [
      "Error processing BRITANNIA.NS: 'numpy.ndarray' object has no attribute 'shift'\n"
     ]
    },
    {
     "name": "stderr",
     "output_type": "stream",
     "text": [
      "[*********************100%%**********************]  1 of 1 completed\n"
     ]
    },
    {
     "name": "stdout",
     "output_type": "stream",
     "text": [
      "Error processing CIPLA.NS: 'numpy.ndarray' object has no attribute 'shift'\n"
     ]
    },
    {
     "name": "stderr",
     "output_type": "stream",
     "text": [
      "[*********************100%%**********************]  1 of 1 completed\n"
     ]
    },
    {
     "name": "stdout",
     "output_type": "stream",
     "text": [
      "Error processing COALINDIA.NS: 'numpy.ndarray' object has no attribute 'shift'\n"
     ]
    },
    {
     "name": "stderr",
     "output_type": "stream",
     "text": [
      "[*********************100%%**********************]  1 of 1 completed\n"
     ]
    },
    {
     "name": "stdout",
     "output_type": "stream",
     "text": [
      "Error processing DIVISLAB.NS: 'numpy.ndarray' object has no attribute 'shift'\n"
     ]
    },
    {
     "name": "stderr",
     "output_type": "stream",
     "text": [
      "[*********************100%%**********************]  1 of 1 completed\n"
     ]
    },
    {
     "name": "stdout",
     "output_type": "stream",
     "text": [
      "Error processing DRREDDY.NS: 'numpy.ndarray' object has no attribute 'shift'\n"
     ]
    },
    {
     "name": "stderr",
     "output_type": "stream",
     "text": [
      "[*********************100%%**********************]  1 of 1 completed\n"
     ]
    },
    {
     "name": "stdout",
     "output_type": "stream",
     "text": [
      "Error processing EICHERMOT.NS: 'numpy.ndarray' object has no attribute 'shift'\n"
     ]
    },
    {
     "name": "stderr",
     "output_type": "stream",
     "text": [
      "[*********************100%%**********************]  1 of 1 completed\n"
     ]
    },
    {
     "name": "stdout",
     "output_type": "stream",
     "text": [
      "Error processing GRASIM.NS: 'numpy.ndarray' object has no attribute 'shift'\n"
     ]
    },
    {
     "name": "stderr",
     "output_type": "stream",
     "text": [
      "[*********************100%%**********************]  1 of 1 completed\n"
     ]
    },
    {
     "name": "stdout",
     "output_type": "stream",
     "text": [
      "Error processing HCLTECH.NS: 'numpy.ndarray' object has no attribute 'shift'\n"
     ]
    },
    {
     "name": "stderr",
     "output_type": "stream",
     "text": [
      "[*********************100%%**********************]  1 of 1 completed\n",
      "\n",
      "1 Failed download:\n",
      "['HDFC.NS']: Exception('%ticker%: No price data found, symbol may be delisted (1d 2023-01-01 -> 2024-01-01)')\n"
     ]
    },
    {
     "name": "stdout",
     "output_type": "stream",
     "text": [
      "Error processing HDFC.NS: 'numpy.ndarray' object has no attribute 'shift'\n"
     ]
    },
    {
     "name": "stderr",
     "output_type": "stream",
     "text": [
      "[*********************100%%**********************]  1 of 1 completed\n"
     ]
    },
    {
     "name": "stdout",
     "output_type": "stream",
     "text": [
      "Error processing HDFCBANK.NS: 'numpy.ndarray' object has no attribute 'shift'\n"
     ]
    },
    {
     "name": "stderr",
     "output_type": "stream",
     "text": [
      "[*********************100%%**********************]  1 of 1 completed\n"
     ]
    },
    {
     "name": "stdout",
     "output_type": "stream",
     "text": [
      "Error processing HEROMOTOCO.NS: 'numpy.ndarray' object has no attribute 'shift'\n"
     ]
    },
    {
     "name": "stderr",
     "output_type": "stream",
     "text": [
      "[*********************100%%**********************]  1 of 1 completed\n"
     ]
    },
    {
     "name": "stdout",
     "output_type": "stream",
     "text": [
      "Error processing HINDALCO.NS: 'numpy.ndarray' object has no attribute 'shift'\n"
     ]
    },
    {
     "name": "stderr",
     "output_type": "stream",
     "text": [
      "[*********************100%%**********************]  1 of 1 completed\n"
     ]
    },
    {
     "name": "stdout",
     "output_type": "stream",
     "text": [
      "Error processing HINDUNILVR.NS: 'numpy.ndarray' object has no attribute 'shift'\n"
     ]
    },
    {
     "name": "stderr",
     "output_type": "stream",
     "text": [
      "[*********************100%%**********************]  1 of 1 completed\n"
     ]
    },
    {
     "name": "stdout",
     "output_type": "stream",
     "text": [
      "Error processing ICICIBANK.NS: 'numpy.ndarray' object has no attribute 'shift'\n"
     ]
    },
    {
     "name": "stderr",
     "output_type": "stream",
     "text": [
      "[*********************100%%**********************]  1 of 1 completed\n"
     ]
    },
    {
     "name": "stdout",
     "output_type": "stream",
     "text": [
      "Error processing IOC.NS: 'numpy.ndarray' object has no attribute 'shift'\n"
     ]
    },
    {
     "name": "stderr",
     "output_type": "stream",
     "text": [
      "[*********************100%%**********************]  1 of 1 completed\n"
     ]
    },
    {
     "name": "stdout",
     "output_type": "stream",
     "text": [
      "Error processing INDUSINDBK.NS: 'numpy.ndarray' object has no attribute 'shift'\n"
     ]
    },
    {
     "name": "stderr",
     "output_type": "stream",
     "text": [
      "[*********************100%%**********************]  1 of 1 completed\n"
     ]
    },
    {
     "name": "stdout",
     "output_type": "stream",
     "text": [
      "Error processing INFY.NS: 'numpy.ndarray' object has no attribute 'shift'\n"
     ]
    },
    {
     "name": "stderr",
     "output_type": "stream",
     "text": [
      "[*********************100%%**********************]  1 of 1 completed\n"
     ]
    },
    {
     "name": "stdout",
     "output_type": "stream",
     "text": [
      "Error processing ITC.NS: 'numpy.ndarray' object has no attribute 'shift'\n"
     ]
    },
    {
     "name": "stderr",
     "output_type": "stream",
     "text": [
      "[*********************100%%**********************]  1 of 1 completed\n"
     ]
    },
    {
     "name": "stdout",
     "output_type": "stream",
     "text": [
      "Error processing JSWSTEEL.NS: 'numpy.ndarray' object has no attribute 'shift'\n"
     ]
    },
    {
     "name": "stderr",
     "output_type": "stream",
     "text": [
      "[*********************100%%**********************]  1 of 1 completed\n"
     ]
    },
    {
     "name": "stdout",
     "output_type": "stream",
     "text": [
      "Error processing KOTAKBANK.NS: 'numpy.ndarray' object has no attribute 'shift'\n"
     ]
    },
    {
     "name": "stderr",
     "output_type": "stream",
     "text": [
      "[*********************100%%**********************]  1 of 1 completed\n"
     ]
    },
    {
     "name": "stdout",
     "output_type": "stream",
     "text": [
      "Error processing LT.NS: 'numpy.ndarray' object has no attribute 'shift'\n"
     ]
    },
    {
     "name": "stderr",
     "output_type": "stream",
     "text": [
      "[*********************100%%**********************]  1 of 1 completed\n"
     ]
    },
    {
     "name": "stdout",
     "output_type": "stream",
     "text": [
      "Error processing M&M.NS: 'numpy.ndarray' object has no attribute 'shift'\n"
     ]
    },
    {
     "name": "stderr",
     "output_type": "stream",
     "text": [
      "[*********************100%%**********************]  1 of 1 completed\n"
     ]
    },
    {
     "name": "stdout",
     "output_type": "stream",
     "text": [
      "Error processing MARUTI.NS: 'numpy.ndarray' object has no attribute 'shift'\n"
     ]
    },
    {
     "name": "stderr",
     "output_type": "stream",
     "text": [
      "[*********************100%%**********************]  1 of 1 completed\n"
     ]
    },
    {
     "name": "stdout",
     "output_type": "stream",
     "text": [
      "Error processing NESTLEIND.NS: 'numpy.ndarray' object has no attribute 'shift'\n"
     ]
    },
    {
     "name": "stderr",
     "output_type": "stream",
     "text": [
      "[*********************100%%**********************]  1 of 1 completed\n"
     ]
    },
    {
     "name": "stdout",
     "output_type": "stream",
     "text": [
      "Error processing NTPC.NS: 'numpy.ndarray' object has no attribute 'shift'\n"
     ]
    },
    {
     "name": "stderr",
     "output_type": "stream",
     "text": [
      "[*********************100%%**********************]  1 of 1 completed\n"
     ]
    },
    {
     "name": "stdout",
     "output_type": "stream",
     "text": [
      "Error processing ONGC.NS: 'numpy.ndarray' object has no attribute 'shift'\n"
     ]
    },
    {
     "name": "stderr",
     "output_type": "stream",
     "text": [
      "[*********************100%%**********************]  1 of 1 completed\n"
     ]
    },
    {
     "name": "stdout",
     "output_type": "stream",
     "text": [
      "Error processing POWERGRID.NS: 'numpy.ndarray' object has no attribute 'shift'\n"
     ]
    },
    {
     "name": "stderr",
     "output_type": "stream",
     "text": [
      "[*********************100%%**********************]  1 of 1 completed\n"
     ]
    },
    {
     "name": "stdout",
     "output_type": "stream",
     "text": [
      "Error processing RELIANCE.NS: 'numpy.ndarray' object has no attribute 'shift'\n"
     ]
    },
    {
     "name": "stderr",
     "output_type": "stream",
     "text": [
      "[*********************100%%**********************]  1 of 1 completed\n"
     ]
    },
    {
     "name": "stdout",
     "output_type": "stream",
     "text": [
      "Error processing SHREECEM.NS: 'numpy.ndarray' object has no attribute 'shift'\n"
     ]
    },
    {
     "name": "stderr",
     "output_type": "stream",
     "text": [
      "[*********************100%%**********************]  1 of 1 completed\n"
     ]
    },
    {
     "name": "stdout",
     "output_type": "stream",
     "text": [
      "Error processing SBIN.NS: 'numpy.ndarray' object has no attribute 'shift'\n"
     ]
    },
    {
     "name": "stderr",
     "output_type": "stream",
     "text": [
      "[*********************100%%**********************]  1 of 1 completed\n"
     ]
    },
    {
     "name": "stdout",
     "output_type": "stream",
     "text": [
      "Error processing SBILIFE.NS: 'numpy.ndarray' object has no attribute 'shift'\n"
     ]
    },
    {
     "name": "stderr",
     "output_type": "stream",
     "text": [
      "[*********************100%%**********************]  1 of 1 completed\n"
     ]
    },
    {
     "name": "stdout",
     "output_type": "stream",
     "text": [
      "Error processing SUNPHARMA.NS: 'numpy.ndarray' object has no attribute 'shift'\n"
     ]
    },
    {
     "name": "stderr",
     "output_type": "stream",
     "text": [
      "[*********************100%%**********************]  1 of 1 completed\n"
     ]
    },
    {
     "name": "stdout",
     "output_type": "stream",
     "text": [
      "Error processing TCS.NS: 'numpy.ndarray' object has no attribute 'shift'\n"
     ]
    },
    {
     "name": "stderr",
     "output_type": "stream",
     "text": [
      "[*********************100%%**********************]  1 of 1 completed\n"
     ]
    },
    {
     "name": "stdout",
     "output_type": "stream",
     "text": [
      "Error processing TATACONSUM.NS: 'numpy.ndarray' object has no attribute 'shift'\n"
     ]
    },
    {
     "name": "stderr",
     "output_type": "stream",
     "text": [
      "[*********************100%%**********************]  1 of 1 completed\n"
     ]
    },
    {
     "name": "stdout",
     "output_type": "stream",
     "text": [
      "Error processing TATAMOTORS.NS: 'numpy.ndarray' object has no attribute 'shift'\n"
     ]
    },
    {
     "name": "stderr",
     "output_type": "stream",
     "text": [
      "[*********************100%%**********************]  1 of 1 completed\n"
     ]
    },
    {
     "name": "stdout",
     "output_type": "stream",
     "text": [
      "Error processing TATASTEEL.NS: 'numpy.ndarray' object has no attribute 'shift'\n"
     ]
    },
    {
     "name": "stderr",
     "output_type": "stream",
     "text": [
      "[*********************100%%**********************]  1 of 1 completed\n"
     ]
    },
    {
     "name": "stdout",
     "output_type": "stream",
     "text": [
      "Error processing TECHM.NS: 'numpy.ndarray' object has no attribute 'shift'\n"
     ]
    },
    {
     "name": "stderr",
     "output_type": "stream",
     "text": [
      "[*********************100%%**********************]  1 of 1 completed\n"
     ]
    },
    {
     "name": "stdout",
     "output_type": "stream",
     "text": [
      "Error processing TITAN.NS: 'numpy.ndarray' object has no attribute 'shift'\n"
     ]
    },
    {
     "name": "stderr",
     "output_type": "stream",
     "text": [
      "[*********************100%%**********************]  1 of 1 completed\n"
     ]
    },
    {
     "name": "stdout",
     "output_type": "stream",
     "text": [
      "Error processing ULTRACEMCO.NS: 'numpy.ndarray' object has no attribute 'shift'\n"
     ]
    },
    {
     "name": "stderr",
     "output_type": "stream",
     "text": [
      "[*********************100%%**********************]  1 of 1 completed\n"
     ]
    },
    {
     "name": "stdout",
     "output_type": "stream",
     "text": [
      "Error processing UBL.NS: 'numpy.ndarray' object has no attribute 'shift'\n"
     ]
    },
    {
     "name": "stderr",
     "output_type": "stream",
     "text": [
      "[*********************100%%**********************]  1 of 1 completed"
     ]
    },
    {
     "name": "stdout",
     "output_type": "stream",
     "text": [
      "Error processing WIPRO.NS: 'numpy.ndarray' object has no attribute 'shift'\n"
     ]
    },
    {
     "name": "stderr",
     "output_type": "stream",
     "text": [
      "\n"
     ]
    }
   ],
   "source": [
    "import numpy as np\n",
    "import pandas as pd\n",
    "import yfinance as yf\n",
    "import talib\n",
    "from pathlib import Path\n",
    "\n",
    "# Function to load symbols from ticker.txt\n",
    "def load_symbols(file_path):\n",
    "    with open(file_path, 'r') as file:\n",
    "        symbols = [line.strip() for line in file if line.strip()]\n",
    "    return symbols\n",
    "\n",
    "# Function to get historical stock data using yfinance\n",
    "def get_historical_data(symbol, start_date, end_date):\n",
    "    stock_data = yf.download(symbol, start=start_date, end=end_date)\n",
    "    return stock_data\n",
    "\n",
    "# Function to scan for golden crossover\n",
    "def scan_golden_crossover(data):\n",
    "    data['MA50'] = data['Close'].rolling(window=50).mean()\n",
    "    data['MA200'] = data['Close'].rolling(window=200).mean()\n",
    "\n",
    "    golden_crossover = np.where(data['MA50'] > data['MA200'], 1, 0)\n",
    "    data['Golden_Crossover'] = np.where(golden_crossover > golden_crossover.shift(1), 1, 0)\n",
    "\n",
    "    return data[data['Golden_Crossover'] == 1]\n",
    "\n",
    "def main():\n",
    "    # Load symbols from ticker.txt\n",
    "    ticker_file_path = 'nifty50_symbols.txt'\n",
    "    symbols = load_symbols(ticker_file_path)\n",
    "\n",
    "    # Set date range for historical data\n",
    "    start_date = '2023-01-01'\n",
    "    end_date = '2024-01-01'\n",
    "\n",
    "    # Scan for golden crossover for each symbol\n",
    "    for symbol in symbols:\n",
    "        try:\n",
    "            # Get historical data\n",
    "            stock_data = get_historical_data(symbol, start_date, end_date)\n",
    "\n",
    "            # Scan for golden crossover\n",
    "            golden_crossover_data = scan_golden_crossover(stock_data)\n",
    "\n",
    "            # Print results\n",
    "            if not golden_crossover_data.empty:\n",
    "                print(f\"Golden Crossover Detected for {symbol}:\\n\", golden_crossover_data[['Close', 'MA50', 'MA200']])\n",
    "        except Exception as e:\n",
    "            print(f\"Error processing {symbol}: {str(e)}\")\n",
    "\n",
    "if __name__ == \"__main__\":\n",
    "    main()\n"
   ]
  },
  {
   "cell_type": "code",
   "execution_count": 4,
   "id": "4818e2ff-445a-49e8-a0c7-510a9cc93deb",
   "metadata": {},
   "outputs": [
    {
     "name": "stderr",
     "output_type": "stream",
     "text": [
      "[*********************100%%**********************]  1 of 1 completed\n",
      "[*********************100%%**********************]  1 of 1 completed\n",
      "[*********************100%%**********************]  1 of 1 completed\n",
      "[*********************100%%**********************]  1 of 1 completed\n",
      "[*********************100%%**********************]  1 of 1 completed\n",
      "[*********************100%%**********************]  1 of 1 completed\n",
      "[*********************100%%**********************]  1 of 1 completed\n",
      "[*********************100%%**********************]  1 of 1 completed\n"
     ]
    },
    {
     "name": "stdout",
     "output_type": "stream",
     "text": [
      "Golden Crossover Detected for ADANIPORTS.NS:\n",
      "                  Close     MA50       MA200\n",
      "Date                                       \n",
      "2023-10-23  771.450012  818.428  724.823501\n",
      "Golden Crossover Detected for ASIANPAINT.NS:\n",
      "                   Close         MA50        MA200\n",
      "Date                                             \n",
      "2023-10-23  3072.000000  3204.862026  3078.946754\n",
      "2023-12-27  3404.449951  3148.794009  3147.078507\n",
      "Golden Crossover Detected for AXISBANK.NS:\n",
      "                  Close     MA50     MA200\n",
      "Date                                     \n",
      "2023-10-23  964.299988  991.723  929.1925\n",
      "Golden Crossover Detected for BAJAJ-AUTO.NS:\n",
      "                   Close         MA50        MA200\n",
      "Date                                             \n",
      "2023-10-23  5405.399902  4891.153008  4415.096755\n",
      "Golden Crossover Detected for BAJFINANCE.NS:\n",
      "                   Close         MA50        MA200\n",
      "Date                                             \n",
      "2023-10-23  7798.899902  7531.248008  6777.619014\n",
      "Golden Crossover Detected for BAJAJFINSV.NS:\n",
      "                   Close         MA50        MA200\n",
      "Date                                             \n",
      "2023-10-23  1613.150024  1547.420002  1454.204251\n",
      "Golden Crossover Detected for BHARTIARTL.NS:\n",
      "                  Close        MA50       MA200\n",
      "Date                                          \n",
      "2023-10-23  939.299988  902.848003  830.261503\n"
     ]
    },
    {
     "name": "stderr",
     "output_type": "stream",
     "text": [
      "[*********************100%%**********************]  1 of 1 completed\n",
      "[*********************100%%**********************]  1 of 1 completed\n",
      "[*********************100%%**********************]  1 of 1 completed\n",
      "[*********************100%%**********************]  1 of 1 completed\n",
      "[*********************100%%**********************]  1 of 1 completed\n",
      "[*********************100%%**********************]  1 of 1 completed\n"
     ]
    },
    {
     "name": "stdout",
     "output_type": "stream",
     "text": [
      "Golden Crossover Detected for BRITANNIA.NS:\n",
      "                   Close         MA50        MA200\n",
      "Date                                             \n",
      "2023-12-05  4948.399902  4620.687002  4615.182502\n",
      "Golden Crossover Detected for CIPLA.NS:\n",
      "                   Close         MA50        MA200\n",
      "Date                                             \n",
      "2023-10-23  1183.800049  1211.607007  1043.565504\n",
      "Golden Crossover Detected for COALINDIA.NS:\n",
      "                  Close     MA50      MA200\n",
      "Date                                      \n",
      "2023-10-23  306.100006  270.547  237.27325\n",
      "Golden Crossover Detected for DIVISLAB.NS:\n",
      "                   Close         MA50        MA200\n",
      "Date                                             \n",
      "2023-10-23  3500.949951  3694.562012  3382.327253\n",
      "Golden Crossover Detected for DRREDDY.NS:\n",
      "                   Close         MA50        MA200\n",
      "Date                                             \n",
      "2023-10-23  5551.950195  5643.823984  4952.101997\n",
      "Golden Crossover Detected for EICHERMOT.NS:\n",
      "                   Close         MA50        MA200\n",
      "Date                                             \n",
      "2023-10-23  3446.350098  3409.094985  3331.297496\n",
      "Golden Crossover Detected for GRASIM.NS:\n",
      "               Close         MA50        MA200\n",
      "Date                                         \n",
      "2023-10-23  1902.75  1883.129998  1742.695499\n"
     ]
    },
    {
     "name": "stderr",
     "output_type": "stream",
     "text": [
      "[*********************100%%**********************]  1 of 1 completed\n",
      "[*********************100%%**********************]  1 of 1 completed\n",
      "\n",
      "1 Failed download:\n",
      "['HDFC.NS']: Exception('%ticker%: No price data found, symbol may be delisted (1d 2023-01-01 -> 2024-01-01)')\n",
      "[*********************100%%**********************]  1 of 1 completed\n",
      "[*********************100%%**********************]  1 of 1 completed\n",
      "[*********************100%%**********************]  1 of 1 completed\n",
      "[*********************100%%**********************]  1 of 1 completed\n",
      "[*********************100%%**********************]  1 of 1 completed\n",
      "[*********************100%%**********************]  1 of 1 completed\n"
     ]
    },
    {
     "name": "stdout",
     "output_type": "stream",
     "text": [
      "Golden Crossover Detected for HCLTECH.NS:\n",
      "                   Close         MA50        MA200\n",
      "Date                                             \n",
      "2023-10-23  1236.650024  1230.624998  1139.746497\n",
      "Golden Crossover Detected for HEROMOTOCO.NS:\n",
      "                   Close         MA50      MA200\n",
      "Date                                           \n",
      "2023-10-23  3149.850098  3017.837002  2784.4465\n",
      "Golden Crossover Detected for HINDALCO.NS:\n",
      "                  Close     MA50     MA200\n",
      "Date                                     \n",
      "2023-10-23  456.700012  471.391  442.1535\n",
      "Golden Crossover Detected for ICICIBANK.NS:\n",
      "                  Close     MA50       MA200\n",
      "Date                                       \n",
      "2023-10-23  929.950012  958.469  919.194502\n",
      "Golden Crossover Detected for IOC.NS:\n",
      "                 Close    MA50     MA200\n",
      "Date                                   \n",
      "2023-10-23  87.949997  91.316  86.66275\n"
     ]
    },
    {
     "name": "stderr",
     "output_type": "stream",
     "text": [
      "[*********************100%%**********************]  1 of 1 completed\n",
      "[*********************100%%**********************]  1 of 1 completed\n",
      "[*********************100%%**********************]  1 of 1 completed\n",
      "[*********************100%%**********************]  1 of 1 completed\n",
      "[*********************100%%**********************]  1 of 1 completed\n",
      "[*********************100%%**********************]  1 of 1 completed\n",
      "[*********************100%%**********************]  1 of 1 completed\n",
      "[*********************100%%**********************]  1 of 1 completed\n",
      "[*********************100%%**********************]  1 of 1 completed"
     ]
    },
    {
     "name": "stdout",
     "output_type": "stream",
     "text": [
      "Golden Crossover Detected for INDUSINDBK.NS:\n",
      "              Close         MA50        MA200\n",
      "Date                                        \n",
      "2023-10-23  1435.0  1422.916003  1265.745998\n",
      "Golden Crossover Detected for INFY.NS:\n",
      "                   Close         MA50      MA200\n",
      "Date                                           \n",
      "2023-10-23  1408.650024  1449.181995  1408.1425\n",
      "Golden Crossover Detected for ITC.NS:\n",
      "                  Close        MA50       MA200\n",
      "Date                                          \n",
      "2023-10-23  435.899994  445.619001  418.331251\n",
      "Golden Crossover Detected for JSWSTEEL.NS:\n",
      "                  Close        MA50       MA200\n",
      "Date                                          \n",
      "2023-10-23  748.950012  789.307004  747.064251\n",
      "Golden Crossover Detected for LT.NS:\n",
      "                   Close         MA50        MA200\n",
      "Date                                             \n",
      "2023-10-23  2958.300049  2874.342012  2433.284003\n",
      "Golden Crossover Detected for M&M.NS:\n",
      "                   Close         MA50        MA200\n",
      "Date                                             \n",
      "2023-10-23  1565.150024  1564.909993  1387.892247\n",
      "Golden Crossover Detected for MARUTI.NS:\n",
      "                    Close       MA50        MA200\n",
      "Date                                            \n",
      "2023-10-23  10553.650391  10190.855  9297.024746\n"
     ]
    },
    {
     "name": "stderr",
     "output_type": "stream",
     "text": [
      "\n",
      "[*********************100%%**********************]  1 of 1 completed\n",
      "[*********************100%%**********************]  1 of 1 completed\n",
      "[*********************100%%**********************]  1 of 1 completed\n",
      "[*********************100%%**********************]  1 of 1 completed\n",
      "[*********************100%%**********************]  1 of 1 completed\n",
      "[*********************100%%**********************]  1 of 1 completed\n",
      "[*********************100%%**********************]  1 of 1 completed\n",
      "[*********************100%%**********************]  1 of 1 completed"
     ]
    },
    {
     "name": "stdout",
     "output_type": "stream",
     "text": [
      "Golden Crossover Detected for NESTLEIND.NS:\n",
      "                Close          MA50        MA200\n",
      "Date                                           \n",
      "2023-10-23  24197.75  22530.028008  21210.98126\n",
      "Golden Crossover Detected for NTPC.NS:\n",
      "                  Close        MA50      MA200\n",
      "Date                                         \n",
      "2023-10-23  236.550003  232.375999  192.41625\n",
      "Golden Crossover Detected for ONGC.NS:\n",
      "                  Close        MA50      MA200\n",
      "Date                                         \n",
      "2023-10-23  184.850006  182.289999  163.85975\n",
      "Golden Crossover Detected for POWERGRID.NS:\n",
      "              Close        MA50       MA200\n",
      "Date                                      \n",
      "2023-10-23  199.75  194.039501  179.264688\n",
      "Golden Crossover Detected for SHREECEM.NS:\n",
      "                    Close          MA50         MA200\n",
      "Date                                                \n",
      "2023-10-25  25707.300781  25414.602969  24878.466279\n",
      "Golden Crossover Detected for SBIN.NS:\n",
      "                  Close        MA50      MA200\n",
      "Date                                         \n",
      "2023-10-23  552.950012  581.123003  570.13675\n",
      "Golden Crossover Detected for SBILIFE.NS:\n",
      "                   Close         MA50        MA200\n",
      "Date                                             \n",
      "2023-10-23  1338.400024  1314.804995  1231.838749\n"
     ]
    },
    {
     "name": "stderr",
     "output_type": "stream",
     "text": [
      "\n",
      "[*********************100%%**********************]  1 of 1 completed\n",
      "[*********************100%%**********************]  1 of 1 completed\n",
      "[*********************100%%**********************]  1 of 1 completed\n",
      "[*********************100%%**********************]  1 of 1 completed\n",
      "[*********************100%%**********************]  1 of 1 completed\n",
      "[*********************100%%**********************]  1 of 1 completed\n",
      "[*********************100%%**********************]  1 of 1 completed\n"
     ]
    },
    {
     "name": "stdout",
     "output_type": "stream",
     "text": [
      "Golden Crossover Detected for SUNPHARMA.NS:\n",
      "                   Close         MA50        MA200\n",
      "Date                                             \n",
      "2023-10-23  1122.449951  1133.123013  1039.971753\n",
      "Golden Crossover Detected for TCS.NS:\n",
      "                   Close         MA50        MA200\n",
      "Date                                             \n",
      "2023-10-23  3410.149902  3494.891001  3355.683499\n",
      "Golden Crossover Detected for TATACONSUM.NS:\n",
      "                  Close        MA50      MA200\n",
      "Date                                         \n",
      "2023-10-23  883.099976  868.148999  796.48825\n",
      "Golden Crossover Detected for TATAMOTORS.NS:\n",
      "                  Close    MA50       MA200\n",
      "Date                                      \n",
      "2023-10-23  647.349976  625.16  529.161501\n",
      "Golden Crossover Detected for TATASTEEL.NS:\n",
      "             Close     MA50     MA200\n",
      "Date                                \n",
      "2023-10-23  120.0  124.872  114.9975\n",
      "Golden Crossover Detected for TECHM.NS:\n",
      "                   Close         MA50        MA200\n",
      "Date                                             \n",
      "2023-10-23  1155.949951  1230.121995  1123.780748\n",
      "Golden Crossover Detected for TITAN.NS:\n",
      "               Close         MA50        MA200\n",
      "Date                                         \n",
      "2023-10-23  3219.75  3182.413999  2803.357001\n",
      "Golden Crossover Detected for ULTRACEMCO.NS:\n",
      "               Close         MA50        MA200\n",
      "Date                                         \n",
      "2023-10-23  8325.25  8311.248047  7809.220779\n"
     ]
    },
    {
     "name": "stderr",
     "output_type": "stream",
     "text": [
      "[*********************100%%**********************]  1 of 1 completed\n",
      "[*********************100%%**********************]  1 of 1 completed"
     ]
    },
    {
     "name": "stdout",
     "output_type": "stream",
     "text": [
      "Golden Crossover Detected for UBL.NS:\n",
      "                   Close         MA50     MA200\n",
      "Date                                          \n",
      "2023-10-23  1629.050049  1569.838005  1511.333\n",
      "Golden Crossover Detected for WIPRO.NS:\n",
      "                  Close        MA50      MA200\n",
      "Date                                         \n",
      "2023-10-23  383.149994  416.161001  397.28575\n"
     ]
    },
    {
     "name": "stderr",
     "output_type": "stream",
     "text": [
      "\n"
     ]
    }
   ],
   "source": [
    "import numpy as np\n",
    "import pandas as pd\n",
    "import yfinance as yf\n",
    "import talib\n",
    "from pathlib import Path\n",
    "\n",
    "# Function to load symbols from ticker.txt\n",
    "def load_symbols(file_path):\n",
    "    with open(file_path, 'r') as file:\n",
    "        symbols = [line.strip() for line in file if line.strip()]\n",
    "    return symbols\n",
    "\n",
    "# Function to get historical stock data using yfinance\n",
    "def get_historical_data(symbol, start_date, end_date):\n",
    "    stock_data = yf.download(symbol, start=start_date, end=end_date)\n",
    "    return stock_data\n",
    "\n",
    "# Function to scan for golden crossover\n",
    "def scan_golden_crossover(data):\n",
    "    data['MA50'] = data['Close'].rolling(window=50).mean()\n",
    "    data['MA200'] = data['Close'].rolling(window=200).mean()\n",
    "\n",
    "    golden_crossover = np.where(data['MA50'] > data['MA200'], 1, 0)\n",
    "    data['Golden_Crossover'] = np.where(golden_crossover > np.roll(golden_crossover, 1), 1, 0)\n",
    "\n",
    "    return data[data['Golden_Crossover'] == 1]\n",
    "\n",
    "def main():\n",
    "    # Load symbols from ticker.txt\n",
    "    ticker_file_path = 'nifty50_symbols.txt'\n",
    "    symbols = load_symbols(ticker_file_path)\n",
    "\n",
    "    # Set date range for historical data\n",
    "    start_date = '2023-01-01'\n",
    "    end_date = '2024-01-01'\n",
    "\n",
    "    # Scan for golden crossover for each symbol\n",
    "    for symbol in symbols:\n",
    "        try:\n",
    "            # Get historical data\n",
    "            stock_data = get_historical_data(symbol, start_date, end_date)\n",
    "\n",
    "            # Scan for golden crossover\n",
    "            golden_crossover_data = scan_golden_crossover(stock_data)\n",
    "\n",
    "            # Print results\n",
    "            if not golden_crossover_data.empty:\n",
    "                print(f\"Golden Crossover Detected for {symbol}:\\n\", golden_crossover_data[['Close', 'MA50', 'MA200']])\n",
    "        except Exception as e:\n",
    "            print(f\"Error processing {symbol}: {str(e)}\")\n",
    "\n",
    "if __name__ == \"__main__\":\n",
    "    main()\n"
   ]
  },
  {
   "cell_type": "code",
   "execution_count": 13,
   "id": "d4076880-d86c-499e-a18f-173714498c4a",
   "metadata": {},
   "outputs": [
    {
     "name": "stderr",
     "output_type": "stream",
     "text": [
      "[*********************100%%**********************]  1 of 1 completed\n",
      "[*********************100%%**********************]  1 of 1 completed\n",
      "[*********************100%%**********************]  1 of 1 completed\n",
      "[*********************100%%**********************]  1 of 1 completed\n",
      "[*********************100%%**********************]  1 of 1 completed\n",
      "[*********************100%%**********************]  1 of 1 completed\n",
      "[*********************100%%**********************]  1 of 1 completed\n",
      "[*********************100%%**********************]  1 of 1 completed\n",
      "[*********************100%%**********************]  1 of 1 completed\n"
     ]
    },
    {
     "name": "stdout",
     "output_type": "stream",
     "text": [
      "Golden Crossover Detected for ASIANPAINT.NS:\n",
      "                   Close         MA50        MA200\n",
      "Date                                             \n",
      "2023-12-27  3404.449951  3148.794009  3147.078507\n",
      "Golden Crossover Detected for BRITANNIA.NS:\n",
      "                   Close         MA50        MA200\n",
      "Date                                             \n",
      "2023-12-05  4948.399902  4620.687002  4615.182502\n"
     ]
    },
    {
     "name": "stderr",
     "output_type": "stream",
     "text": [
      "[*********************100%%**********************]  1 of 1 completed\n",
      "[*********************100%%**********************]  1 of 1 completed\n",
      "[*********************100%%**********************]  1 of 1 completed\n",
      "[*********************100%%**********************]  1 of 1 completed\n",
      "[*********************100%%**********************]  1 of 1 completed\n",
      "[*********************100%%**********************]  1 of 1 completed\n",
      "[*********************100%%**********************]  1 of 1 completed\n",
      "[*********************100%%**********************]  1 of 1 completed\n",
      "[*********************100%%**********************]  1 of 1 completed\n",
      "[*********************100%%**********************]  1 of 1 completed\n",
      "[*********************100%%**********************]  1 of 1 completed\n",
      "[*********************100%%**********************]  1 of 1 completed\n",
      "[*********************100%%**********************]  1 of 1 completed\n",
      "[*********************100%%**********************]  1 of 1 completed\n",
      "[*********************100%%**********************]  1 of 1 completed\n",
      "[*********************100%%**********************]  1 of 1 completed\n",
      "[*********************100%%**********************]  1 of 1 completed\n",
      "[*********************100%%**********************]  1 of 1 completed\n",
      "[*********************100%%**********************]  1 of 1 completed\n",
      "[*********************100%%**********************]  1 of 1 completed\n",
      "[*********************100%%**********************]  1 of 1 completed\n",
      "[*********************100%%**********************]  1 of 1 completed\n",
      "[*********************100%%**********************]  1 of 1 completed\n",
      "[*********************100%%**********************]  1 of 1 completed\n",
      "[*********************100%%**********************]  1 of 1 completed\n",
      "[*********************100%%**********************]  1 of 1 completed\n",
      "[*********************100%%**********************]  1 of 1 completed\n",
      "[*********************100%%**********************]  1 of 1 completed\n",
      "[*********************100%%**********************]  1 of 1 completed\n",
      "[*********************100%%**********************]  1 of 1 completed\n",
      "[*********************100%%**********************]  1 of 1 completed\n",
      "[*********************100%%**********************]  1 of 1 completed\n",
      "[*********************100%%**********************]  1 of 1 completed\n",
      "[*********************100%%**********************]  1 of 1 completed\n",
      "[*********************100%%**********************]  1 of 1 completed\n",
      "[*********************100%%**********************]  1 of 1 completed\n",
      "[*********************100%%**********************]  1 of 1 completed\n",
      "[*********************100%%**********************]  1 of 1 completed\n"
     ]
    }
   ],
   "source": [
    "import numpy as np\n",
    "import pandas as pd\n",
    "import yfinance as yf\n",
    "from pathlib import Path\n",
    "\n",
    "# Function to load symbols from ticker.txt\n",
    "def load_symbols(file_path):\n",
    "    with open(file_path, 'r') as file:\n",
    "        symbols = [line.strip() for line in file if line.strip()]\n",
    "    return symbols\n",
    "\n",
    "# Function to get historical stock data using yfinance\n",
    "def get_historical_data(symbol, start_date, end_date):\n",
    "    stock_data = yf.download(symbol, start=start_date, end=end_date)\n",
    "    return stock_data\n",
    "\n",
    "# Function to scan for golden crossover\n",
    "def scan_golden_crossover(data):\n",
    "    data['MA50'] = data['Close'].rolling(window=50).mean()\n",
    "    data['MA200'] = data['Close'].rolling(window=200).mean()\n",
    "\n",
    "    golden_crossover = np.where((data['MA50'].shift(1) < data['MA200'].shift(1)) & (data['MA50'] > data['MA200']), 1, 0)\n",
    "    \n",
    "    data['Golden_Crossover'] = golden_crossover\n",
    "\n",
    "    crossover_dates = data[data['Golden_Crossover'] == 1].index\n",
    "    return data.loc[crossover_dates, ['Close', 'MA50', 'MA200']]\n",
    "\n",
    "def main():\n",
    "    # Load symbols from ticker.txt\n",
    "    ticker_file_path = 'nifty50_symbols.txt'\n",
    "    symbols = load_symbols(ticker_file_path)\n",
    "\n",
    "    # Set date range for historical data\n",
    "    start_date = '2023-01-01'\n",
    "    end_date = '2024-01-01'\n",
    "\n",
    "    # Scan for golden crossover for each symbol\n",
    "    for symbol in symbols:\n",
    "        try:\n",
    "            # Get historical data\n",
    "            stock_data = get_historical_data(symbol, start_date, end_date)\n",
    "\n",
    "            # Scan for golden crossover\n",
    "            golden_crossover_data = scan_golden_crossover(stock_data)\n",
    "\n",
    "            # Print results\n",
    "            if not golden_crossover_data.empty:\n",
    "                print(f\"Golden Crossover Detected for {symbol}:\\n\", golden_crossover_data)\n",
    "        except Exception as e:\n",
    "            print(f\"Error processing {symbol}: {str(e)}\")\n",
    "\n",
    "if __name__ == \"__main__\":\n",
    "    main()\n"
   ]
  },
  {
   "cell_type": "code",
   "execution_count": null,
   "id": "2e169e77-8769-4b9a-82bc-48618d45de16",
   "metadata": {},
   "outputs": [],
   "source": []
  }
 ],
 "metadata": {
  "kernelspec": {
   "display_name": "Python 3 (ipykernel)",
   "language": "python",
   "name": "python3"
  },
  "language_info": {
   "codemirror_mode": {
    "name": "ipython",
    "version": 3
   },
   "file_extension": ".py",
   "mimetype": "text/x-python",
   "name": "python",
   "nbconvert_exporter": "python",
   "pygments_lexer": "ipython3",
   "version": "3.10.12"
  }
 },
 "nbformat": 4,
 "nbformat_minor": 5
}
