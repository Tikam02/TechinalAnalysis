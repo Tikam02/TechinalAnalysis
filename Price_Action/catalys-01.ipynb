{
 "cells": [
  {
   "cell_type": "code",
   "execution_count": null,
   "id": "4c66c1ba-b088-412c-869a-907686b9af5f",
   "metadata": {},
   "outputs": [],
   "source": []
  },
  {
   "cell_type": "code",
   "execution_count": 4,
   "id": "5f182057-b45c-4e05-ac9b-5c3b5e85c3d3",
   "metadata": {},
   "outputs": [
    {
     "name": "stderr",
     "output_type": "stream",
     "text": [
      "[*********************100%%**********************]  1 of 1 completed\n",
      "[*********************100%%**********************]  1 of 1 completed\n",
      "[*********************100%%**********************]  1 of 1 completed\n",
      "[*********************100%%**********************]  1 of 1 completed\n",
      "[*********************100%%**********************]  1 of 1 completed\n",
      "[*********************100%%**********************]  1 of 1 completed\n",
      "[*********************100%%**********************]  1 of 1 completed\n",
      "[*********************100%%**********************]  1 of 1 completed\n",
      "[*********************100%%**********************]  1 of 1 completed\n",
      "[*********************100%%**********************]  1 of 1 completed\n",
      "[*********************100%%**********************]  1 of 1 completed\n",
      "[*********************100%%**********************]  1 of 1 completed\n",
      "[*********************100%%**********************]  1 of 1 completed\n",
      "[*********************100%%**********************]  1 of 1 completed\n",
      "[*********************100%%**********************]  1 of 1 completed\n",
      "[*********************100%%**********************]  1 of 1 completed\n",
      "[*********************100%%**********************]  1 of 1 completed\n",
      "[*********************100%%**********************]  1 of 1 completed\n",
      "[*********************100%%**********************]  1 of 1 completed\n",
      "[*********************100%%**********************]  1 of 1 completed\n",
      "[*********************100%%**********************]  1 of 1 completed\n",
      "[*********************100%%**********************]  1 of 1 completed\n",
      "[*********************100%%**********************]  1 of 1 completed\n",
      "[*********************100%%**********************]  1 of 1 completed\n",
      "[*********************100%%**********************]  1 of 1 completed\n",
      "[*********************100%%**********************]  1 of 1 completed\n",
      "[*********************100%%**********************]  1 of 1 completed\n",
      "[*********************100%%**********************]  1 of 1 completed\n",
      "[*********************100%%**********************]  1 of 1 completed\n",
      "[*********************100%%**********************]  1 of 1 completed\n",
      "[*********************100%%**********************]  1 of 1 completed\n",
      "[*********************100%%**********************]  1 of 1 completed\n",
      "[*********************100%%**********************]  1 of 1 completed\n",
      "[*********************100%%**********************]  1 of 1 completed\n",
      "[*********************100%%**********************]  1 of 1 completed\n",
      "[*********************100%%**********************]  1 of 1 completed\n",
      "[*********************100%%**********************]  1 of 1 completed\n",
      "[*********************100%%**********************]  1 of 1 completed\n",
      "[*********************100%%**********************]  1 of 1 completed\n",
      "[*********************100%%**********************]  1 of 1 completed\n",
      "[*********************100%%**********************]  1 of 1 completed\n",
      "[*********************100%%**********************]  1 of 1 completed\n",
      "[*********************100%%**********************]  1 of 1 completed\n",
      "[*********************100%%**********************]  1 of 1 completed\n",
      "[*********************100%%**********************]  1 of 1 completed\n",
      "[*********************100%%**********************]  1 of 1 completed\n",
      "[*********************100%%**********************]  1 of 1 completed\n",
      "[*********************100%%**********************]  1 of 1 completed\n",
      "[*********************100%%**********************]  1 of 1 completed\n",
      "[*********************100%%**********************]  1 of 1 completed"
     ]
    },
    {
     "name": "stdout",
     "output_type": "stream",
     "text": [
      "Empty DataFrame\n",
      "Columns: []\n",
      "Index: []\n"
     ]
    },
    {
     "name": "stderr",
     "output_type": "stream",
     "text": [
      "\n"
     ]
    }
   ],
   "source": [
    "import pandas as pd\n",
    "import yfinance as yf\n",
    "\n",
    "def find_eps(input_file):\n",
    "    # Read the input CSV file\n",
    "    df = pd.read_csv(input_file)\n",
    "    \n",
    "    # Initialize list to store EPs\n",
    "    eps = []\n",
    "    \n",
    "    # Iterate through each stock symbol\n",
    "    for symbol in df['Symbol']:\n",
    "        try:\n",
    "            # Get historical data for the stock symbol from yfinance\n",
    "            data = yf.download(symbol, period=\"1d\")\n",
    "            \n",
    "            # Calculate gap-up percentage\n",
    "            gap_up_percentage = ((data['Open'] - data['Close'].shift(1)) / data['Close'].shift(1)) * 100\n",
    "            gap_up_percentage = gap_up_percentage.iloc[-1]\n",
    "            \n",
    "            # Check if gap-up percentage is greater than or equal to 10%\n",
    "            if gap_up_percentage >= 10:\n",
    "                # Get the date of the gap-up\n",
    "                gap_up_date = data.index[-1].strftime(\"%Y-%m-%d\")\n",
    "                \n",
    "                # Check if earnings announcement date is available\n",
    "                earnings_announcement_date = \"Not available\"  # Placeholder value\n",
    "                # You can implement logic to retrieve earnings announcement date if needed\n",
    "                \n",
    "                # Append EP details to the list\n",
    "                eps.append({\n",
    "                    'Stocks': symbol,\n",
    "                    'Gap-up percentage': gap_up_percentage,\n",
    "                    'Gap-up date': gap_up_date,\n",
    "                    'Earnings Announcement Date': earnings_announcement_date\n",
    "                })\n",
    "        except Exception as e:\n",
    "            print(f\"Error processing {symbol}: {e}\")\n",
    "    \n",
    "    # Create DataFrame from EPs list\n",
    "    eps_df = pd.DataFrame(eps)\n",
    "    \n",
    "    return eps_df\n",
    "\n",
    "# Example usage:\n",
    "input_file = \"../data/N1/ind_niftynext50list.csv\"  # Replace with your actual input file name\n",
    "ep_results = find_eps(input_file)\n",
    "print(ep_results)\n"
   ]
  },
  {
   "cell_type": "code",
   "execution_count": 13,
   "id": "ce8ed7a4-329d-4fa6-8692-d957f983a679",
   "metadata": {},
   "outputs": [
    {
     "name": "stderr",
     "output_type": "stream",
     "text": [
      "[*********************100%%**********************]  1 of 1 completed\n",
      "[*********************100%%**********************]  1 of 1 completed\n",
      "ADANIENSOL.NS: No price data found, symbol may be delisted (1d 2023-12-04 -> 2023-12-04)\n"
     ]
    },
    {
     "name": "stdout",
     "output_type": "stream",
     "text": [
      "Error processing ADANIENSOL.NS: Have not implemented fetching 'earnings' from Yahoo API\n"
     ]
    },
    {
     "name": "stderr",
     "output_type": "stream",
     "text": [
      "[*********************100%%**********************]  1 of 1 completed\n",
      "ADANIGREEN.NS: No price data found, symbol may be delisted (1d 2023-12-04 -> 2023-12-04)\n"
     ]
    },
    {
     "name": "stdout",
     "output_type": "stream",
     "text": [
      "Error processing ADANIGREEN.NS: Have not implemented fetching 'earnings' from Yahoo API\n"
     ]
    },
    {
     "name": "stderr",
     "output_type": "stream",
     "text": [
      "[*********************100%%**********************]  1 of 1 completed\n",
      "ADANIPOWER.NS: No price data found, symbol may be delisted (1d 2023-12-04 -> 2023-12-04)\n"
     ]
    },
    {
     "name": "stdout",
     "output_type": "stream",
     "text": [
      "Error processing ADANIPOWER.NS: Have not implemented fetching 'earnings' from Yahoo API\n"
     ]
    },
    {
     "name": "stderr",
     "output_type": "stream",
     "text": [
      "[*********************100%%**********************]  1 of 1 completed\n",
      "[*********************100%%**********************]  1 of 1 completed\n",
      "[*********************100%%**********************]  1 of 1 completed\n",
      "[*********************100%%**********************]  1 of 1 completed\n",
      "[*********************100%%**********************]  1 of 1 completed\n",
      "[*********************100%%**********************]  1 of 1 completed\n",
      "[*********************100%%**********************]  1 of 1 completed\n",
      "[*********************100%%**********************]  1 of 1 completed\n",
      "[*********************100%%**********************]  1 of 1 completed\n",
      "[*********************100%%**********************]  1 of 1 completed\n",
      "[*********************100%%**********************]  1 of 1 completed\n",
      "[*********************100%%**********************]  1 of 1 completed\n",
      "[*********************100%%**********************]  1 of 1 completed\n",
      "[*********************100%%**********************]  1 of 1 completed\n",
      "[*********************100%%**********************]  1 of 1 completed\n",
      "[*********************100%%**********************]  1 of 1 completed\n",
      "[*********************100%%**********************]  1 of 1 completed\n",
      "[*********************100%%**********************]  1 of 1 completed\n",
      "[*********************100%%**********************]  1 of 1 completed\n",
      "[*********************100%%**********************]  1 of 1 completed\n",
      "[*********************100%%**********************]  1 of 1 completed\n",
      "[*********************100%%**********************]  1 of 1 completed\n",
      "IRFC.NS: No price data found, symbol may be delisted (1d 2024-01-16 -> 2024-01-16)\n"
     ]
    },
    {
     "name": "stdout",
     "output_type": "stream",
     "text": [
      "Error processing IRFC.NS: Have not implemented fetching 'earnings' from Yahoo API\n"
     ]
    },
    {
     "name": "stderr",
     "output_type": "stream",
     "text": [
      "[*********************100%%**********************]  1 of 1 completed\n",
      "[*********************100%%**********************]  1 of 1 completed\n",
      "[*********************100%%**********************]  1 of 1 completed\n",
      "[*********************100%%**********************]  1 of 1 completed\n",
      "[*********************100%%**********************]  1 of 1 completed\n",
      "[*********************100%%**********************]  1 of 1 completed\n",
      "[*********************100%%**********************]  1 of 1 completed\n",
      "[*********************100%%**********************]  1 of 1 completed\n",
      "[*********************100%%**********************]  1 of 1 completed\n",
      "[*********************100%%**********************]  1 of 1 completed\n",
      "[*********************100%%**********************]  1 of 1 completed\n",
      "[*********************100%%**********************]  1 of 1 completed\n",
      "[*********************100%%**********************]  1 of 1 completed\n",
      "[*********************100%%**********************]  1 of 1 completed\n",
      "[*********************100%%**********************]  1 of 1 completed\n",
      "[*********************100%%**********************]  1 of 1 completed\n",
      "[*********************100%%**********************]  1 of 1 completed\n",
      "[*********************100%%**********************]  1 of 1 completed\n",
      "[*********************100%%**********************]  1 of 1 completed\n",
      "[*********************100%%**********************]  1 of 1 completed\n",
      "[*********************100%%**********************]  1 of 1 completed\n",
      "VBL.NS: No price data found, symbol may be delisted (1d 2023-12-20 -> 2023-12-20)\n"
     ]
    },
    {
     "name": "stdout",
     "output_type": "stream",
     "text": [
      "Error processing VBL.NS: Have not implemented fetching 'earnings' from Yahoo API\n"
     ]
    },
    {
     "name": "stderr",
     "output_type": "stream",
     "text": [
      "[*********************100%%**********************]  1 of 1 completed\n",
      "[*********************100%%**********************]  1 of 1 completed\n",
      "[*********************100%%**********************]  1 of 1 completed\n"
     ]
    }
   ],
   "source": [
    "import pandas as pd\n",
    "import yfinance as yf\n",
    "from datetime import datetime, timedelta\n",
    "\n",
    "# Read symbols from CSV file\n",
    "data = pd.read_csv('../data/N1/ind_niftynext50list.csv')\n",
    "# Replace with your actual input file name\n",
    "\n",
    "symbols = data['Symbol'].tolist()\n",
    "\n",
    "# Function to check for events\n",
    "def check_events(symbol, date):\n",
    "    stock = yf.Ticker(symbol)\n",
    "    \n",
    "    # Check for news on the given date\n",
    "    news = stock.history(start=date, end=date)\n",
    "    if len(news) > 0:\n",
    "        event = 'News'\n",
    "    else:\n",
    "        event = None\n",
    "    \n",
    "    # Check for earnings announcements within the week\n",
    "    earnings = stock.earnings\n",
    "    if not earnings.empty:\n",
    "        earnings_dates = earnings.index\n",
    "        for earnings_date in earnings_dates:\n",
    "            if date <= earnings_date <= date + timedelta(days=7):\n",
    "                event = 'Earnings Announcement'\n",
    "                break\n",
    "    \n",
    "    return event\n",
    "\n",
    "# Analyze historical data for gap-up events\n",
    "gap_up_events = []\n",
    "for symbol in symbols:\n",
    "    try:\n",
    "        stock_data = yf.download(symbol, start='2023-01-01', end='2024-03-31')\n",
    "        stock_data['Prev Close'] = stock_data['Close'].shift(1)\n",
    "        stock_data['Gap'] = (stock_data['Open'] - stock_data['Prev Close']) / stock_data['Prev Close'] * 100\n",
    "        gap_ups = stock_data[stock_data['Gap'] >= 10]\n",
    "        \n",
    "        for index, row in gap_ups.iterrows():\n",
    "            event = check_events(symbol, index.date())\n",
    "            gap_up_events.append({'Stock': symbol, 'Date of Gap Up': index.date(), 'Event': event})\n",
    "    except Exception as e:\n",
    "        print(f\"Error processing {symbol}: {e}\")\n",
    "\n",
    "# Convert to DataFrame and save to CSV\n",
    "gap_up_events_df = pd.DataFrame(gap_up_events)\n",
    "gap_up_events_df.to_csv('gap_up_events.csv', index=False)\n"
   ]
  },
  {
   "cell_type": "code",
   "execution_count": 24,
   "id": "8ffba03a-e4f9-4567-9348-27e573e682e7",
   "metadata": {},
   "outputs": [
    {
     "data": {
      "application/vnd.plotly.v1+json": {
       "config": {
        "plotlyServerURL": "https://plot.ly"
       },
       "data": [
        {
         "alignmentgroup": "True",
         "bingroup": "x",
         "histfunc": "avg",
         "hovertemplate": "Stock=ABB.NS<br>Date=%{x}<br>avg of Gap Up Percentage=%{y}<extra></extra>",
         "legendgroup": "ABB.NS",
         "marker": {
          "color": "#636efa",
          "pattern": {
           "shape": ""
          }
         },
         "name": "ABB.NS",
         "nbinsx": 10,
         "offsetgroup": "ABB.NS",
         "orientation": "v",
         "showlegend": true,
         "type": "histogram",
         "x": [
          "2020-06-01T00:00:00",
          "2022-05-05T00:00:00",
          "2024-02-21T00:00:00"
         ],
         "xaxis": "x",
         "y": [
          10.366143690166275,
          10.258390701846896,
          10.171293962040004
         ],
         "yaxis": "y"
        },
        {
         "alignmentgroup": "True",
         "bingroup": "x",
         "histfunc": "avg",
         "hovertemplate": "Stock=ADANIENSOL.NS<br>Date=%{x}<br>avg of Gap Up Percentage=%{y}<extra></extra>",
         "legendgroup": "ADANIENSOL.NS",
         "marker": {
          "color": "#EF553B",
          "pattern": {
           "shape": ""
          }
         },
         "name": "ADANIENSOL.NS",
         "nbinsx": 10,
         "offsetgroup": "ADANIENSOL.NS",
         "orientation": "v",
         "showlegend": true,
         "type": "histogram",
         "x": [
          "2023-11-28T00:00:00",
          "2023-12-05T00:00:00",
          "2024-01-03T00:00:00",
          "2024-03-14T00:00:00"
         ],
         "xaxis": "x",
         "y": [
          18.65313462542696,
          19.995574833038084,
          11.365241239534493,
          11.24532256430969
         ],
         "yaxis": "y"
        },
        {
         "alignmentgroup": "True",
         "bingroup": "x",
         "histfunc": "avg",
         "hovertemplate": "Stock=ADANIGREEN.NS<br>Date=%{x}<br>avg of Gap Up Percentage=%{y}<extra></extra>",
         "legendgroup": "ADANIGREEN.NS",
         "marker": {
          "color": "#00cc96",
          "pattern": {
           "shape": ""
          }
         },
         "name": "ADANIGREEN.NS",
         "nbinsx": 10,
         "offsetgroup": "ADANIGREEN.NS",
         "orientation": "v",
         "showlegend": true,
         "type": "histogram",
         "x": [
          "2022-04-11T00:00:00",
          "2022-07-11T00:00:00",
          "2022-09-30T00:00:00",
          "2023-11-28T00:00:00",
          "2023-12-05T00:00:00",
          "2023-12-06T00:00:00"
         ],
         "xaxis": "x",
         "y": [
          14.785614499146082,
          14.906303886322227,
          12.811556285739242,
          12.250775287679984,
          20,
          15.939929638255467
         ],
         "yaxis": "y"
        },
        {
         "alignmentgroup": "True",
         "bingroup": "x",
         "histfunc": "avg",
         "hovertemplate": "Stock=ADANIPOWER.NS<br>Date=%{x}<br>avg of Gap Up Percentage=%{y}<extra></extra>",
         "legendgroup": "ADANIPOWER.NS",
         "marker": {
          "color": "#ab63fa",
          "pattern": {
           "shape": ""
          }
         },
         "name": "ADANIPOWER.NS",
         "nbinsx": 10,
         "offsetgroup": "ADANIPOWER.NS",
         "orientation": "v",
         "showlegend": true,
         "type": "histogram",
         "x": [
          "2020-04-20T00:00:00",
          "2020-05-19T00:00:00",
          "2020-05-26T00:00:00",
          "2020-12-03T00:00:00",
          "2020-12-04T00:00:00",
          "2021-06-07T00:00:00",
          "2021-06-08T00:00:00",
          "2022-02-10T00:00:00",
          "2022-02-25T00:00:00",
          "2022-03-29T00:00:00",
          "2023-11-28T00:00:00",
          "2023-12-05T00:00:00"
         ],
         "xaxis": "x",
         "y": [
          12.459548313913048,
          14.239481141908035,
          11.21212352405895,
          19.933554143605985,
          10.064629353034409,
          20.000001442911493,
          19.58234686786304,
          14.079927268328571,
          11.605939135210372,
          13.99014978768986,
          12.33635410224003,
          15.805898488831566
         ],
         "yaxis": "y"
        },
        {
         "alignmentgroup": "True",
         "bingroup": "x",
         "histfunc": "avg",
         "hovertemplate": "Stock=ATGL.NS<br>Date=%{x}<br>avg of Gap Up Percentage=%{y}<extra></extra>",
         "legendgroup": "ATGL.NS",
         "marker": {
          "color": "#FFA15A",
          "pattern": {
           "shape": ""
          }
         },
         "name": "ATGL.NS",
         "nbinsx": 10,
         "offsetgroup": "ATGL.NS",
         "orientation": "v",
         "showlegend": true,
         "type": "histogram",
         "x": [
          "2020-02-20T00:00:00",
          "2020-11-17T00:00:00",
          "2020-11-18T00:00:00",
          "2021-02-15T00:00:00",
          "2021-02-16T00:00:00",
          "2021-03-03T00:00:00",
          "2021-03-22T00:00:00",
          "2021-04-01T00:00:00",
          "2022-06-21T00:00:00",
          "2023-11-28T00:00:00",
          "2023-11-29T00:00:00",
          "2023-12-05T00:00:00",
          "2023-12-06T00:00:00",
          "2024-03-14T00:00:00"
         ],
         "xaxis": "x",
         "y": [
          12.473379518518607,
          19.452387183639686,
          18.06364027217964,
          11.60633272274243,
          16.40707009957901,
          15.40136062808291,
          10.808977551332656,
          10.340704750487646,
          19.791874162270062,
          19.973926354740023,
          13.714680830764069,
          19.88391609230966,
          19.98633913785553,
          11.489116585677978
         ],
         "yaxis": "y"
        },
        {
         "alignmentgroup": "True",
         "bingroup": "x",
         "histfunc": "avg",
         "hovertemplate": "Stock=DMART.NS<br>Date=%{x}<br>avg of Gap Up Percentage=%{y}<extra></extra>",
         "legendgroup": "DMART.NS",
         "marker": {
          "color": "#19d3f3",
          "pattern": {
           "shape": ""
          }
         },
         "name": "DMART.NS",
         "nbinsx": 10,
         "offsetgroup": "DMART.NS",
         "orientation": "v",
         "showlegend": true,
         "type": "histogram",
         "x": [
          "2022-05-16T00:00:00"
         ],
         "xaxis": "x",
         "y": [
          10.2302974682559
         ],
         "yaxis": "y"
        },
        {
         "alignmentgroup": "True",
         "bingroup": "x",
         "histfunc": "avg",
         "hovertemplate": "Stock=BAJAJHLDNG.NS<br>Date=%{x}<br>avg of Gap Up Percentage=%{y}<extra></extra>",
         "legendgroup": "BAJAJHLDNG.NS",
         "marker": {
          "color": "#FF6692",
          "pattern": {
           "shape": ""
          }
         },
         "name": "BAJAJHLDNG.NS",
         "nbinsx": 10,
         "offsetgroup": "BAJAJHLDNG.NS",
         "orientation": "v",
         "showlegend": true,
         "type": "histogram",
         "x": [
          "2022-09-08T00:00:00"
         ],
         "xaxis": "x",
         "y": [
          10.31918942490898
         ],
         "yaxis": "y"
        },
        {
         "alignmentgroup": "True",
         "bingroup": "x",
         "histfunc": "avg",
         "hovertemplate": "Stock=BANKBARODA.NS<br>Date=%{x}<br>avg of Gap Up Percentage=%{y}<extra></extra>",
         "legendgroup": "BANKBARODA.NS",
         "marker": {
          "color": "#B6E880",
          "pattern": {
           "shape": ""
          }
         },
         "name": "BANKBARODA.NS",
         "nbinsx": 10,
         "offsetgroup": "BANKBARODA.NS",
         "orientation": "v",
         "showlegend": true,
         "type": "histogram",
         "x": [
          "2020-03-13T00:00:00",
          "2021-01-12T00:00:00",
          "2021-02-18T00:00:00"
         ],
         "xaxis": "x",
         "y": [
          15.35745227520929,
          10.116731517509727,
          13.598580751344974
         ],
         "yaxis": "y"
        },
        {
         "alignmentgroup": "True",
         "bingroup": "x",
         "histfunc": "avg",
         "hovertemplate": "Stock=BERGEPAINT.NS<br>Date=%{x}<br>avg of Gap Up Percentage=%{y}<extra></extra>",
         "legendgroup": "BERGEPAINT.NS",
         "marker": {
          "color": "#FF97FF",
          "pattern": {
           "shape": ""
          }
         },
         "name": "BERGEPAINT.NS",
         "nbinsx": 10,
         "offsetgroup": "BERGEPAINT.NS",
         "orientation": "v",
         "showlegend": true,
         "type": "histogram",
         "x": [
          "2020-03-20T00:00:00"
         ],
         "xaxis": "x",
         "y": [
          11.533219695105496
         ],
         "yaxis": "y"
        },
        {
         "alignmentgroup": "True",
         "bingroup": "x",
         "histfunc": "avg",
         "hovertemplate": "Stock=BEL.NS<br>Date=%{x}<br>avg of Gap Up Percentage=%{y}<extra></extra>",
         "legendgroup": "BEL.NS",
         "marker": {
          "color": "#FECB52",
          "pattern": {
           "shape": ""
          }
         },
         "name": "BEL.NS",
         "nbinsx": 10,
         "offsetgroup": "BEL.NS",
         "orientation": "v",
         "showlegend": true,
         "type": "histogram",
         "x": [
          "2020-03-20T00:00:00",
          "2021-06-23T00:00:00"
         ],
         "xaxis": "x",
         "y": [
          10.45701019330853,
          11.294577722843451
         ],
         "yaxis": "y"
        },
        {
         "alignmentgroup": "True",
         "bingroup": "x",
         "histfunc": "avg",
         "hovertemplate": "Stock=BOSCHLTD.NS<br>Date=%{x}<br>avg of Gap Up Percentage=%{y}<extra></extra>",
         "legendgroup": "BOSCHLTD.NS",
         "marker": {
          "color": "#636efa",
          "pattern": {
           "shape": ""
          }
         },
         "name": "BOSCHLTD.NS",
         "nbinsx": 10,
         "offsetgroup": "BOSCHLTD.NS",
         "orientation": "v",
         "showlegend": true,
         "type": "histogram",
         "x": [
          "2020-03-25T00:00:00",
          "2020-07-07T00:00:00",
          "2021-10-06T00:00:00"
         ],
         "xaxis": "x",
         "y": [
          10.226198111738112,
          11.994804560531454,
          11.65838906258106
         ],
         "yaxis": "y"
        },
        {
         "alignmentgroup": "True",
         "bingroup": "x",
         "histfunc": "avg",
         "hovertemplate": "Stock=CANBK.NS<br>Date=%{x}<br>avg of Gap Up Percentage=%{y}<extra></extra>",
         "legendgroup": "CANBK.NS",
         "marker": {
          "color": "#EF553B",
          "pattern": {
           "shape": ""
          }
         },
         "name": "CANBK.NS",
         "nbinsx": 10,
         "offsetgroup": "CANBK.NS",
         "orientation": "v",
         "showlegend": true,
         "type": "histogram",
         "x": [
          "2020-05-13T00:00:00",
          "2020-12-08T00:00:00"
         ],
         "xaxis": "x",
         "y": [
          11.59147825345383,
          16.695058108496358
         ],
         "yaxis": "y"
        },
        {
         "alignmentgroup": "True",
         "bingroup": "x",
         "histfunc": "avg",
         "hovertemplate": "Stock=CHOLAFIN.NS<br>Date=%{x}<br>avg of Gap Up Percentage=%{y}<extra></extra>",
         "legendgroup": "CHOLAFIN.NS",
         "marker": {
          "color": "#00cc96",
          "pattern": {
           "shape": ""
          }
         },
         "name": "CHOLAFIN.NS",
         "nbinsx": 10,
         "offsetgroup": "CHOLAFIN.NS",
         "orientation": "v",
         "showlegend": true,
         "type": "histogram",
         "x": [
          "2020-03-25T00:00:00",
          "2020-04-08T00:00:00",
          "2020-04-09T00:00:00",
          "2020-04-17T00:00:00",
          "2020-05-27T00:00:00",
          "2020-06-19T00:00:00",
          "2021-02-01T00:00:00",
          "2021-02-15T00:00:00",
          "2021-08-02T00:00:00"
         ],
         "xaxis": "x",
         "y": [
          10.230453538744486,
          15.517241379310343,
          13.930348258706468,
          10.790472312189092,
          10.81081469500136,
          10.56179946727967,
          11.335931987338254,
          13.70184908326118,
          10.656860159123752
         ],
         "yaxis": "y"
        },
        {
         "alignmentgroup": "True",
         "bingroup": "x",
         "histfunc": "avg",
         "hovertemplate": "Stock=DLF.NS<br>Date=%{x}<br>avg of Gap Up Percentage=%{y}<extra></extra>",
         "legendgroup": "DLF.NS",
         "marker": {
          "color": "#ab63fa",
          "pattern": {
           "shape": ""
          }
         },
         "name": "DLF.NS",
         "nbinsx": 10,
         "offsetgroup": "DLF.NS",
         "orientation": "v",
         "showlegend": true,
         "type": "histogram",
         "x": [
          "2020-03-26T00:00:00",
          "2021-02-01T00:00:00",
          "2021-09-22T00:00:00"
         ],
         "xaxis": "x",
         "y": [
          11.591268571073602,
          10.256409184279882,
          11.59660543402971
         ],
         "yaxis": "y"
        },
        {
         "alignmentgroup": "True",
         "bingroup": "x",
         "histfunc": "avg",
         "hovertemplate": "Stock=DABUR.NS<br>Date=%{x}<br>avg of Gap Up Percentage=%{y}<extra></extra>",
         "legendgroup": "DABUR.NS",
         "marker": {
          "color": "#FFA15A",
          "pattern": {
           "shape": ""
          }
         },
         "name": "DABUR.NS",
         "nbinsx": 10,
         "offsetgroup": "DABUR.NS",
         "orientation": "v",
         "showlegend": true,
         "type": "histogram",
         "x": [
          "2020-04-07T00:00:00"
         ],
         "xaxis": "x",
         "y": [
          11.629266343989755
         ],
         "yaxis": "y"
        },
        {
         "alignmentgroup": "True",
         "bingroup": "x",
         "histfunc": "avg",
         "hovertemplate": "Stock=GAIL.NS<br>Date=%{x}<br>avg of Gap Up Percentage=%{y}<extra></extra>",
         "legendgroup": "GAIL.NS",
         "marker": {
          "color": "#19d3f3",
          "pattern": {
           "shape": ""
          }
         },
         "name": "GAIL.NS",
         "nbinsx": 10,
         "offsetgroup": "GAIL.NS",
         "orientation": "v",
         "showlegend": true,
         "type": "histogram",
         "x": [
          "2020-03-20T00:00:00"
         ],
         "xaxis": "x",
         "y": [
          16.426509760581848
         ],
         "yaxis": "y"
        },
        {
         "alignmentgroup": "True",
         "bingroup": "x",
         "histfunc": "avg",
         "hovertemplate": "Stock=GODREJCP.NS<br>Date=%{x}<br>avg of Gap Up Percentage=%{y}<extra></extra>",
         "legendgroup": "GODREJCP.NS",
         "marker": {
          "color": "#FF6692",
          "pattern": {
           "shape": ""
          }
         },
         "name": "GODREJCP.NS",
         "nbinsx": 10,
         "offsetgroup": "GODREJCP.NS",
         "orientation": "v",
         "showlegend": true,
         "type": "histogram",
         "x": [
          "2021-05-12T00:00:00"
         ],
         "xaxis": "x",
         "y": [
          21.87237653015057
         ],
         "yaxis": "y"
        },
        {
         "alignmentgroup": "True",
         "bingroup": "x",
         "histfunc": "avg",
         "hovertemplate": "Stock=HAVELLS.NS<br>Date=%{x}<br>avg of Gap Up Percentage=%{y}<extra></extra>",
         "legendgroup": "HAVELLS.NS",
         "marker": {
          "color": "#B6E880",
          "pattern": {
           "shape": ""
          }
         },
         "name": "HAVELLS.NS",
         "nbinsx": 10,
         "offsetgroup": "HAVELLS.NS",
         "orientation": "v",
         "showlegend": true,
         "type": "histogram",
         "x": [
          "2021-01-21T00:00:00"
         ],
         "xaxis": "x",
         "y": [
          10.959165228861938
         ],
         "yaxis": "y"
        },
        {
         "alignmentgroup": "True",
         "bingroup": "x",
         "histfunc": "avg",
         "hovertemplate": "Stock=HAL.NS<br>Date=%{x}<br>avg of Gap Up Percentage=%{y}<extra></extra>",
         "legendgroup": "HAL.NS",
         "marker": {
          "color": "#FF97FF",
          "pattern": {
           "shape": ""
          }
         },
         "name": "HAL.NS",
         "nbinsx": 10,
         "offsetgroup": "HAL.NS",
         "orientation": "v",
         "showlegend": true,
         "type": "histogram",
         "x": [
          "2020-06-25T00:00:00",
          "2020-07-06T00:00:00",
          "2020-07-17T00:00:00",
          "2020-08-13T00:00:00"
         ],
         "xaxis": "x",
         "y": [
          13.382952369953143,
          11.907554797381762,
          11.186901527656469,
          17.27854910212988
         ],
         "yaxis": "y"
        },
        {
         "alignmentgroup": "True",
         "bingroup": "x",
         "histfunc": "avg",
         "hovertemplate": "Stock=ICICIGI.NS<br>Date=%{x}<br>avg of Gap Up Percentage=%{y}<extra></extra>",
         "legendgroup": "ICICIGI.NS",
         "marker": {
          "color": "#FECB52",
          "pattern": {
           "shape": ""
          }
         },
         "name": "ICICIGI.NS",
         "nbinsx": 10,
         "offsetgroup": "ICICIGI.NS",
         "orientation": "v",
         "showlegend": true,
         "type": "histogram",
         "x": [
          "2020-03-25T00:00:00",
          "2020-03-26T00:00:00",
          "2020-04-07T00:00:00"
         ],
         "xaxis": "x",
         "y": [
          15.747105949555891,
          11.355909968513556,
          10.468388807447685
         ],
         "yaxis": "y"
        },
        {
         "alignmentgroup": "True",
         "bingroup": "x",
         "histfunc": "avg",
         "hovertemplate": "Stock=ICICIPRULI.NS<br>Date=%{x}<br>avg of Gap Up Percentage=%{y}<extra></extra>",
         "legendgroup": "ICICIPRULI.NS",
         "marker": {
          "color": "#636efa",
          "pattern": {
           "shape": ""
          }
         },
         "name": "ICICIPRULI.NS",
         "nbinsx": 10,
         "offsetgroup": "ICICIPRULI.NS",
         "orientation": "v",
         "showlegend": true,
         "type": "histogram",
         "x": [
          "2020-03-25T00:00:00",
          "2020-04-17T00:00:00",
          "2020-04-27T00:00:00"
         ],
         "xaxis": "x",
         "y": [
          25.93830459829566,
          10.482307141623524,
          12.167586894170968
         ],
         "yaxis": "y"
        },
        {
         "alignmentgroup": "True",
         "bingroup": "x",
         "histfunc": "avg",
         "hovertemplate": "Stock=IRCTC.NS<br>Date=%{x}<br>avg of Gap Up Percentage=%{y}<extra></extra>",
         "legendgroup": "IRCTC.NS",
         "marker": {
          "color": "#EF553B",
          "pattern": {
           "shape": ""
          }
         },
         "name": "IRCTC.NS",
         "nbinsx": 10,
         "offsetgroup": "IRCTC.NS",
         "orientation": "v",
         "showlegend": true,
         "type": "histogram",
         "x": [
          "2020-02-04T00:00:00",
          "2020-02-13T00:00:00",
          "2020-02-19T00:00:00",
          "2020-12-04T00:00:00",
          "2021-03-01T00:00:00",
          "2021-10-14T00:00:00",
          "2021-10-28T00:00:00",
          "2023-12-18T00:00:00"
         ],
         "xaxis": "x",
         "y": [
          12.935204399888969,
          11.665790833879786,
          11.796656755189558,
          13.972646787997324,
          10.161114571036077,
          10.849491774098595,
          10.58919985966858,
          12.588852135695106
         ],
         "yaxis": "y"
        },
        {
         "alignmentgroup": "True",
         "bingroup": "x",
         "histfunc": "avg",
         "hovertemplate": "Stock=IRFC.NS<br>Date=%{x}<br>avg of Gap Up Percentage=%{y}<extra></extra>",
         "legendgroup": "IRFC.NS",
         "marker": {
          "color": "#00cc96",
          "pattern": {
           "shape": ""
          }
         },
         "name": "IRFC.NS",
         "nbinsx": 10,
         "offsetgroup": "IRFC.NS",
         "orientation": "v",
         "showlegend": true,
         "type": "histogram",
         "x": [
          "2023-08-03T00:00:00",
          "2023-08-07T00:00:00",
          "2023-09-01T00:00:00",
          "2023-09-04T00:00:00",
          "2023-12-14T00:00:00",
          "2024-01-16T00:00:00",
          "2024-02-13T00:00:00",
          "2024-03-14T00:00:00"
         ],
         "xaxis": "x",
         "y": [
          12.594458196251662,
          10.432854256461296,
          11.055775204604933,
          19.64125013137612,
          10.958085659735218,
          25.08818712065376,
          15.419330929342337,
          12.877263581488934
         ],
         "yaxis": "y"
        },
        {
         "alignmentgroup": "True",
         "bingroup": "x",
         "histfunc": "avg",
         "hovertemplate": "Stock=NAUKRI.NS<br>Date=%{x}<br>avg of Gap Up Percentage=%{y}<extra></extra>",
         "legendgroup": "NAUKRI.NS",
         "marker": {
          "color": "#ab63fa",
          "pattern": {
           "shape": ""
          }
         },
         "name": "NAUKRI.NS",
         "nbinsx": 10,
         "offsetgroup": "NAUKRI.NS",
         "orientation": "v",
         "showlegend": true,
         "type": "histogram",
         "x": [
          "2020-03-26T00:00:00",
          "2020-04-07T00:00:00",
          "2021-01-05T00:00:00",
          "2022-01-31T00:00:00"
         ],
         "xaxis": "x",
         "y": [
          10.93912348403605,
          17.514268505531263,
          13.693315538521896,
          11.227609361267056
         ],
         "yaxis": "y"
        },
        {
         "alignmentgroup": "True",
         "bingroup": "x",
         "histfunc": "avg",
         "hovertemplate": "Stock=INDIGO.NS<br>Date=%{x}<br>avg of Gap Up Percentage=%{y}<extra></extra>",
         "legendgroup": "INDIGO.NS",
         "marker": {
          "color": "#FFA15A",
          "pattern": {
           "shape": ""
          }
         },
         "name": "INDIGO.NS",
         "nbinsx": 10,
         "offsetgroup": "INDIGO.NS",
         "orientation": "v",
         "showlegend": true,
         "type": "histogram",
         "x": [
          "2020-03-25T00:00:00",
          "2020-08-12T00:00:00",
          "2020-08-13T00:00:00",
          "2021-09-17T00:00:00",
          "2022-05-26T00:00:00"
         ],
         "xaxis": "x",
         "y": [
          10.339935889605329,
          10.099507470692538,
          12.222700227515311,
          10.92002302741161,
          10.363681477083029
         ],
         "yaxis": "y"
        },
        {
         "alignmentgroup": "True",
         "bingroup": "x",
         "histfunc": "avg",
         "hovertemplate": "Stock=JINDALSTEL.NS<br>Date=%{x}<br>avg of Gap Up Percentage=%{y}<extra></extra>",
         "legendgroup": "JINDALSTEL.NS",
         "marker": {
          "color": "#19d3f3",
          "pattern": {
           "shape": ""
          }
         },
         "name": "JINDALSTEL.NS",
         "nbinsx": 10,
         "offsetgroup": "JINDALSTEL.NS",
         "orientation": "v",
         "showlegend": true,
         "type": "histogram",
         "x": [
          "2020-03-20T00:00:00",
          "2020-04-07T00:00:00",
          "2020-05-26T00:00:00"
         ],
         "xaxis": "x",
         "y": [
          12.41935812016969,
          28.899445065763206,
          12.991721790885874
         ],
         "yaxis": "y"
        },
        {
         "alignmentgroup": "True",
         "bingroup": "x",
         "histfunc": "avg",
         "hovertemplate": "Stock=JIOFIN.NS<br>Date=%{x}<br>avg of Gap Up Percentage=%{y}<extra></extra>",
         "legendgroup": "JIOFIN.NS",
         "marker": {
          "color": "#FF6692",
          "pattern": {
           "shape": ""
          }
         },
         "name": "JIOFIN.NS",
         "nbinsx": 10,
         "offsetgroup": "JIOFIN.NS",
         "orientation": "v",
         "showlegend": true,
         "type": "histogram",
         "x": [
          "2024-02-05T00:00:00",
          "2024-02-23T00:00:00"
         ],
         "xaxis": "x",
         "y": [
          13.90859047569004,
          10.269111928921504
         ],
         "yaxis": "y"
        },
        {
         "alignmentgroup": "True",
         "bingroup": "x",
         "histfunc": "avg",
         "hovertemplate": "Stock=PFC.NS<br>Date=%{x}<br>avg of Gap Up Percentage=%{y}<extra></extra>",
         "legendgroup": "PFC.NS",
         "marker": {
          "color": "#B6E880",
          "pattern": {
           "shape": ""
          }
         },
         "name": "PFC.NS",
         "nbinsx": 10,
         "offsetgroup": "PFC.NS",
         "orientation": "v",
         "showlegend": true,
         "type": "histogram",
         "x": [
          "2020-03-13T00:00:00",
          "2023-09-08T00:00:00"
         ],
         "xaxis": "x",
         "y": [
          13.329645229987952,
          12.231012794776932
         ],
         "yaxis": "y"
        },
        {
         "alignmentgroup": "True",
         "bingroup": "x",
         "histfunc": "avg",
         "hovertemplate": "Stock=PNB.NS<br>Date=%{x}<br>avg of Gap Up Percentage=%{y}<extra></extra>",
         "legendgroup": "PNB.NS",
         "marker": {
          "color": "#FF97FF",
          "pattern": {
           "shape": ""
          }
         },
         "name": "PNB.NS",
         "nbinsx": 10,
         "offsetgroup": "PNB.NS",
         "orientation": "v",
         "showlegend": true,
         "type": "histogram",
         "x": [
          "2020-03-13T00:00:00",
          "2020-12-08T00:00:00"
         ],
         "xaxis": "x",
         "y": [
          10.8148193359375,
          13.566429298240823
         ],
         "yaxis": "y"
        },
        {
         "alignmentgroup": "True",
         "bingroup": "x",
         "histfunc": "avg",
         "hovertemplate": "Stock=RECLTD.NS<br>Date=%{x}<br>avg of Gap Up Percentage=%{y}<extra></extra>",
         "legendgroup": "RECLTD.NS",
         "marker": {
          "color": "#FECB52",
          "pattern": {
           "shape": ""
          }
         },
         "name": "RECLTD.NS",
         "nbinsx": 10,
         "offsetgroup": "RECLTD.NS",
         "orientation": "v",
         "showlegend": true,
         "type": "histogram",
         "x": [
          "2020-05-13T00:00:00",
          "2023-09-08T00:00:00"
         ],
         "xaxis": "x",
         "y": [
          12.465057174826311,
          10.01832235348875
         ],
         "yaxis": "y"
        },
        {
         "alignmentgroup": "True",
         "bingroup": "x",
         "histfunc": "avg",
         "hovertemplate": "Stock=MOTHERSON.NS<br>Date=%{x}<br>avg of Gap Up Percentage=%{y}<extra></extra>",
         "legendgroup": "MOTHERSON.NS",
         "marker": {
          "color": "#636efa",
          "pattern": {
           "shape": ""
          }
         },
         "name": "MOTHERSON.NS",
         "nbinsx": 10,
         "offsetgroup": "MOTHERSON.NS",
         "orientation": "v",
         "showlegend": true,
         "type": "histogram",
         "x": [
          "2020-04-09T00:00:00",
          "2020-04-15T00:00:00",
          "2020-04-16T00:00:00",
          "2021-02-12T00:00:00",
          "2021-06-02T00:00:00",
          "2022-01-14T00:00:00"
         ],
         "xaxis": "x",
         "y": [
          17.526689595753115,
          12.668247939724134,
          14.546730076934171,
          10.039042144189615,
          13.40075861284464,
          28.55027068838305
         ],
         "yaxis": "y"
        },
        {
         "alignmentgroup": "True",
         "bingroup": "x",
         "histfunc": "avg",
         "hovertemplate": "Stock=SIEMENS.NS<br>Date=%{x}<br>avg of Gap Up Percentage=%{y}<extra></extra>",
         "legendgroup": "SIEMENS.NS",
         "marker": {
          "color": "#EF553B",
          "pattern": {
           "shape": ""
          }
         },
         "name": "SIEMENS.NS",
         "nbinsx": 10,
         "offsetgroup": "SIEMENS.NS",
         "orientation": "v",
         "showlegend": true,
         "type": "histogram",
         "x": [
          "2020-11-26T00:00:00"
         ],
         "xaxis": "x",
         "y": [
          11.174634500412314
         ],
         "yaxis": "y"
        },
        {
         "alignmentgroup": "True",
         "bingroup": "x",
         "histfunc": "avg",
         "hovertemplate": "Stock=TVSMOTOR.NS<br>Date=%{x}<br>avg of Gap Up Percentage=%{y}<extra></extra>",
         "legendgroup": "TVSMOTOR.NS",
         "marker": {
          "color": "#00cc96",
          "pattern": {
           "shape": ""
          }
         },
         "name": "TVSMOTOR.NS",
         "nbinsx": 10,
         "offsetgroup": "TVSMOTOR.NS",
         "orientation": "v",
         "showlegend": true,
         "type": "histogram",
         "x": [
          "2021-04-28T00:00:00"
         ],
         "xaxis": "x",
         "y": [
          14.038495799696904
         ],
         "yaxis": "y"
        },
        {
         "alignmentgroup": "True",
         "bingroup": "x",
         "histfunc": "avg",
         "hovertemplate": "Stock=TATAPOWER.NS<br>Date=%{x}<br>avg of Gap Up Percentage=%{y}<extra></extra>",
         "legendgroup": "TATAPOWER.NS",
         "marker": {
          "color": "#ab63fa",
          "pattern": {
           "shape": ""
          }
         },
         "name": "TATAPOWER.NS",
         "nbinsx": 10,
         "offsetgroup": "TATAPOWER.NS",
         "orientation": "v",
         "showlegend": true,
         "type": "histogram",
         "x": [
          "2020-04-07T00:00:00",
          "2021-10-13T00:00:00",
          "2021-10-18T00:00:00",
          "2023-12-07T00:00:00"
         ],
         "xaxis": "x",
         "y": [
          11.608630021996822,
          14.50459318377902,
          15.588490897577334,
          10.759814568489322
         ],
         "yaxis": "y"
        },
        {
         "alignmentgroup": "True",
         "bingroup": "x",
         "histfunc": "avg",
         "hovertemplate": "Stock=TORNTPHARM.NS<br>Date=%{x}<br>avg of Gap Up Percentage=%{y}<extra></extra>",
         "legendgroup": "TORNTPHARM.NS",
         "marker": {
          "color": "#FFA15A",
          "pattern": {
           "shape": ""
          }
         },
         "name": "TORNTPHARM.NS",
         "nbinsx": 10,
         "offsetgroup": "TORNTPHARM.NS",
         "orientation": "v",
         "showlegend": true,
         "type": "histogram",
         "x": [
          "2020-04-07T00:00:00",
          "2022-05-26T00:00:00"
         ],
         "xaxis": "x",
         "y": [
          13.353399020522389,
          10.101332071180314
         ],
         "yaxis": "y"
        },
        {
         "alignmentgroup": "True",
         "bingroup": "x",
         "histfunc": "avg",
         "hovertemplate": "Stock=TRENT.NS<br>Date=%{x}<br>avg of Gap Up Percentage=%{y}<extra></extra>",
         "legendgroup": "TRENT.NS",
         "marker": {
          "color": "#19d3f3",
          "pattern": {
           "shape": ""
          }
         },
         "name": "TRENT.NS",
         "nbinsx": 10,
         "offsetgroup": "TRENT.NS",
         "orientation": "v",
         "showlegend": true,
         "type": "histogram",
         "x": [
          "2020-02-07T00:00:00",
          "2020-03-25T00:00:00",
          "2020-03-26T00:00:00",
          "2020-06-23T00:00:00",
          "2024-02-07T00:00:00"
         ],
         "xaxis": "x",
         "y": [
          11.709663642865596,
          10.435215836781968,
          11.005372419339396,
          12.108809236164792,
          18.86326194398682
         ],
         "yaxis": "y"
        },
        {
         "alignmentgroup": "True",
         "bingroup": "x",
         "histfunc": "avg",
         "hovertemplate": "Stock=MCDOWELL-N.NS<br>Date=%{x}<br>avg of Gap Up Percentage=%{y}<extra></extra>",
         "legendgroup": "MCDOWELL-N.NS",
         "marker": {
          "color": "#FF6692",
          "pattern": {
           "shape": ""
          }
         },
         "name": "MCDOWELL-N.NS",
         "nbinsx": 10,
         "offsetgroup": "MCDOWELL-N.NS",
         "orientation": "v",
         "showlegend": true,
         "type": "histogram",
         "x": [
          "2020-01-28T00:00:00"
         ],
         "xaxis": "x",
         "y": [
          13.9308685958808
         ],
         "yaxis": "y"
        },
        {
         "alignmentgroup": "True",
         "bingroup": "x",
         "histfunc": "avg",
         "hovertemplate": "Stock=VBL.NS<br>Date=%{x}<br>avg of Gap Up Percentage=%{y}<extra></extra>",
         "legendgroup": "VBL.NS",
         "marker": {
          "color": "#B6E880",
          "pattern": {
           "shape": ""
          }
         },
         "name": "VBL.NS",
         "nbinsx": 10,
         "offsetgroup": "VBL.NS",
         "orientation": "v",
         "showlegend": true,
         "type": "histogram",
         "x": [
          "2020-11-27T00:00:00"
         ],
         "xaxis": "x",
         "y": [
          12.06995686024232
         ],
         "yaxis": "y"
        },
        {
         "alignmentgroup": "True",
         "bingroup": "x",
         "histfunc": "avg",
         "hovertemplate": "Stock=VEDL.NS<br>Date=%{x}<br>avg of Gap Up Percentage=%{y}<extra></extra>",
         "legendgroup": "VEDL.NS",
         "marker": {
          "color": "#FF97FF",
          "pattern": {
           "shape": ""
          }
         },
         "name": "VEDL.NS",
         "nbinsx": 10,
         "offsetgroup": "VEDL.NS",
         "orientation": "v",
         "showlegend": true,
         "type": "histogram",
         "x": [
          "2020-04-30T00:00:00",
          "2020-05-12T00:00:00",
          "2021-10-18T00:00:00",
          "2022-05-17T00:00:00",
          "2022-09-14T00:00:00"
         ],
         "xaxis": "x",
         "y": [
          13.13961001311986,
          11.871865274858049,
          12.910517291808093,
          11.788266349648024,
          10.106294197162804
         ],
         "yaxis": "y"
        },
        {
         "alignmentgroup": "True",
         "bingroup": "x",
         "histfunc": "avg",
         "hovertemplate": "Stock=ZOMATO.NS<br>Date=%{x}<br>avg of Gap Up Percentage=%{y}<extra></extra>",
         "legendgroup": "ZOMATO.NS",
         "marker": {
          "color": "#FECB52",
          "pattern": {
           "shape": ""
          }
         },
         "name": "ZOMATO.NS",
         "nbinsx": 10,
         "offsetgroup": "ZOMATO.NS",
         "orientation": "v",
         "showlegend": true,
         "type": "histogram",
         "x": [
          "2021-07-26T00:00:00",
          "2022-05-24T00:00:00",
          "2022-05-30T00:00:00",
          "2022-08-02T00:00:00",
          "2022-11-11T00:00:00",
          "2023-02-08T00:00:00",
          "2023-08-04T00:00:00"
         ],
         "xaxis": "x",
         "y": [
          11.626979282924108,
          13.847498364293898,
          14.50443823587002,
          19.97840205706936,
          13.8389400832457,
          10.0303969928899,
          10.225301169346812
         ],
         "yaxis": "y"
        },
        {
         "alignmentgroup": "True",
         "bingroup": "x",
         "histfunc": "avg",
         "hovertemplate": "Stock=ZYDUSLIFE.NS<br>Date=%{x}<br>avg of Gap Up Percentage=%{y}<extra></extra>",
         "legendgroup": "ZYDUSLIFE.NS",
         "marker": {
          "color": "#636efa",
          "pattern": {
           "shape": ""
          }
         },
         "name": "ZYDUSLIFE.NS",
         "nbinsx": 10,
         "offsetgroup": "ZYDUSLIFE.NS",
         "orientation": "v",
         "showlegend": true,
         "type": "histogram",
         "x": [
          "2020-03-20T00:00:00",
          "2020-04-07T00:00:00",
          "2020-04-08T00:00:00"
         ],
         "xaxis": "x",
         "y": [
          16.249737928675138,
          13.74726844899247,
          12.005762531527584
         ],
         "yaxis": "y"
        }
       ],
       "layout": {
        "autosize": true,
        "barmode": "relative",
        "legend": {
         "title": {
          "text": "Stock"
         },
         "tracegroupgap": 0
        },
        "template": {
         "data": {
          "bar": [
           {
            "error_x": {
             "color": "#2a3f5f"
            },
            "error_y": {
             "color": "#2a3f5f"
            },
            "marker": {
             "line": {
              "color": "#E5ECF6",
              "width": 0.5
             },
             "pattern": {
              "fillmode": "overlay",
              "size": 10,
              "solidity": 0.2
             }
            },
            "type": "bar"
           }
          ],
          "barpolar": [
           {
            "marker": {
             "line": {
              "color": "#E5ECF6",
              "width": 0.5
             },
             "pattern": {
              "fillmode": "overlay",
              "size": 10,
              "solidity": 0.2
             }
            },
            "type": "barpolar"
           }
          ],
          "carpet": [
           {
            "aaxis": {
             "endlinecolor": "#2a3f5f",
             "gridcolor": "white",
             "linecolor": "white",
             "minorgridcolor": "white",
             "startlinecolor": "#2a3f5f"
            },
            "baxis": {
             "endlinecolor": "#2a3f5f",
             "gridcolor": "white",
             "linecolor": "white",
             "minorgridcolor": "white",
             "startlinecolor": "#2a3f5f"
            },
            "type": "carpet"
           }
          ],
          "choropleth": [
           {
            "colorbar": {
             "outlinewidth": 0,
             "ticks": ""
            },
            "type": "choropleth"
           }
          ],
          "contour": [
           {
            "colorbar": {
             "outlinewidth": 0,
             "ticks": ""
            },
            "colorscale": [
             [
              0,
              "#0d0887"
             ],
             [
              0.1111111111111111,
              "#46039f"
             ],
             [
              0.2222222222222222,
              "#7201a8"
             ],
             [
              0.3333333333333333,
              "#9c179e"
             ],
             [
              0.4444444444444444,
              "#bd3786"
             ],
             [
              0.5555555555555556,
              "#d8576b"
             ],
             [
              0.6666666666666666,
              "#ed7953"
             ],
             [
              0.7777777777777778,
              "#fb9f3a"
             ],
             [
              0.8888888888888888,
              "#fdca26"
             ],
             [
              1,
              "#f0f921"
             ]
            ],
            "type": "contour"
           }
          ],
          "contourcarpet": [
           {
            "colorbar": {
             "outlinewidth": 0,
             "ticks": ""
            },
            "type": "contourcarpet"
           }
          ],
          "heatmap": [
           {
            "colorbar": {
             "outlinewidth": 0,
             "ticks": ""
            },
            "colorscale": [
             [
              0,
              "#0d0887"
             ],
             [
              0.1111111111111111,
              "#46039f"
             ],
             [
              0.2222222222222222,
              "#7201a8"
             ],
             [
              0.3333333333333333,
              "#9c179e"
             ],
             [
              0.4444444444444444,
              "#bd3786"
             ],
             [
              0.5555555555555556,
              "#d8576b"
             ],
             [
              0.6666666666666666,
              "#ed7953"
             ],
             [
              0.7777777777777778,
              "#fb9f3a"
             ],
             [
              0.8888888888888888,
              "#fdca26"
             ],
             [
              1,
              "#f0f921"
             ]
            ],
            "type": "heatmap"
           }
          ],
          "heatmapgl": [
           {
            "colorbar": {
             "outlinewidth": 0,
             "ticks": ""
            },
            "colorscale": [
             [
              0,
              "#0d0887"
             ],
             [
              0.1111111111111111,
              "#46039f"
             ],
             [
              0.2222222222222222,
              "#7201a8"
             ],
             [
              0.3333333333333333,
              "#9c179e"
             ],
             [
              0.4444444444444444,
              "#bd3786"
             ],
             [
              0.5555555555555556,
              "#d8576b"
             ],
             [
              0.6666666666666666,
              "#ed7953"
             ],
             [
              0.7777777777777778,
              "#fb9f3a"
             ],
             [
              0.8888888888888888,
              "#fdca26"
             ],
             [
              1,
              "#f0f921"
             ]
            ],
            "type": "heatmapgl"
           }
          ],
          "histogram": [
           {
            "marker": {
             "pattern": {
              "fillmode": "overlay",
              "size": 10,
              "solidity": 0.2
             }
            },
            "type": "histogram"
           }
          ],
          "histogram2d": [
           {
            "colorbar": {
             "outlinewidth": 0,
             "ticks": ""
            },
            "colorscale": [
             [
              0,
              "#0d0887"
             ],
             [
              0.1111111111111111,
              "#46039f"
             ],
             [
              0.2222222222222222,
              "#7201a8"
             ],
             [
              0.3333333333333333,
              "#9c179e"
             ],
             [
              0.4444444444444444,
              "#bd3786"
             ],
             [
              0.5555555555555556,
              "#d8576b"
             ],
             [
              0.6666666666666666,
              "#ed7953"
             ],
             [
              0.7777777777777778,
              "#fb9f3a"
             ],
             [
              0.8888888888888888,
              "#fdca26"
             ],
             [
              1,
              "#f0f921"
             ]
            ],
            "type": "histogram2d"
           }
          ],
          "histogram2dcontour": [
           {
            "colorbar": {
             "outlinewidth": 0,
             "ticks": ""
            },
            "colorscale": [
             [
              0,
              "#0d0887"
             ],
             [
              0.1111111111111111,
              "#46039f"
             ],
             [
              0.2222222222222222,
              "#7201a8"
             ],
             [
              0.3333333333333333,
              "#9c179e"
             ],
             [
              0.4444444444444444,
              "#bd3786"
             ],
             [
              0.5555555555555556,
              "#d8576b"
             ],
             [
              0.6666666666666666,
              "#ed7953"
             ],
             [
              0.7777777777777778,
              "#fb9f3a"
             ],
             [
              0.8888888888888888,
              "#fdca26"
             ],
             [
              1,
              "#f0f921"
             ]
            ],
            "type": "histogram2dcontour"
           }
          ],
          "mesh3d": [
           {
            "colorbar": {
             "outlinewidth": 0,
             "ticks": ""
            },
            "type": "mesh3d"
           }
          ],
          "parcoords": [
           {
            "line": {
             "colorbar": {
              "outlinewidth": 0,
              "ticks": ""
             }
            },
            "type": "parcoords"
           }
          ],
          "pie": [
           {
            "automargin": true,
            "type": "pie"
           }
          ],
          "scatter": [
           {
            "marker": {
             "colorbar": {
              "outlinewidth": 0,
              "ticks": ""
             }
            },
            "type": "scatter"
           }
          ],
          "scatter3d": [
           {
            "line": {
             "colorbar": {
              "outlinewidth": 0,
              "ticks": ""
             }
            },
            "marker": {
             "colorbar": {
              "outlinewidth": 0,
              "ticks": ""
             }
            },
            "type": "scatter3d"
           }
          ],
          "scattercarpet": [
           {
            "marker": {
             "colorbar": {
              "outlinewidth": 0,
              "ticks": ""
             }
            },
            "type": "scattercarpet"
           }
          ],
          "scattergeo": [
           {
            "marker": {
             "colorbar": {
              "outlinewidth": 0,
              "ticks": ""
             }
            },
            "type": "scattergeo"
           }
          ],
          "scattergl": [
           {
            "marker": {
             "colorbar": {
              "outlinewidth": 0,
              "ticks": ""
             }
            },
            "type": "scattergl"
           }
          ],
          "scattermapbox": [
           {
            "marker": {
             "colorbar": {
              "outlinewidth": 0,
              "ticks": ""
             }
            },
            "type": "scattermapbox"
           }
          ],
          "scatterpolar": [
           {
            "marker": {
             "colorbar": {
              "outlinewidth": 0,
              "ticks": ""
             }
            },
            "type": "scatterpolar"
           }
          ],
          "scatterpolargl": [
           {
            "marker": {
             "colorbar": {
              "outlinewidth": 0,
              "ticks": ""
             }
            },
            "type": "scatterpolargl"
           }
          ],
          "scatterternary": [
           {
            "marker": {
             "colorbar": {
              "outlinewidth": 0,
              "ticks": ""
             }
            },
            "type": "scatterternary"
           }
          ],
          "surface": [
           {
            "colorbar": {
             "outlinewidth": 0,
             "ticks": ""
            },
            "colorscale": [
             [
              0,
              "#0d0887"
             ],
             [
              0.1111111111111111,
              "#46039f"
             ],
             [
              0.2222222222222222,
              "#7201a8"
             ],
             [
              0.3333333333333333,
              "#9c179e"
             ],
             [
              0.4444444444444444,
              "#bd3786"
             ],
             [
              0.5555555555555556,
              "#d8576b"
             ],
             [
              0.6666666666666666,
              "#ed7953"
             ],
             [
              0.7777777777777778,
              "#fb9f3a"
             ],
             [
              0.8888888888888888,
              "#fdca26"
             ],
             [
              1,
              "#f0f921"
             ]
            ],
            "type": "surface"
           }
          ],
          "table": [
           {
            "cells": {
             "fill": {
              "color": "#EBF0F8"
             },
             "line": {
              "color": "white"
             }
            },
            "header": {
             "fill": {
              "color": "#C8D4E3"
             },
             "line": {
              "color": "white"
             }
            },
            "type": "table"
           }
          ]
         },
         "layout": {
          "annotationdefaults": {
           "arrowcolor": "#2a3f5f",
           "arrowhead": 0,
           "arrowwidth": 1
          },
          "autotypenumbers": "strict",
          "coloraxis": {
           "colorbar": {
            "outlinewidth": 0,
            "ticks": ""
           }
          },
          "colorscale": {
           "diverging": [
            [
             0,
             "#8e0152"
            ],
            [
             0.1,
             "#c51b7d"
            ],
            [
             0.2,
             "#de77ae"
            ],
            [
             0.3,
             "#f1b6da"
            ],
            [
             0.4,
             "#fde0ef"
            ],
            [
             0.5,
             "#f7f7f7"
            ],
            [
             0.6,
             "#e6f5d0"
            ],
            [
             0.7,
             "#b8e186"
            ],
            [
             0.8,
             "#7fbc41"
            ],
            [
             0.9,
             "#4d9221"
            ],
            [
             1,
             "#276419"
            ]
           ],
           "sequential": [
            [
             0,
             "#0d0887"
            ],
            [
             0.1111111111111111,
             "#46039f"
            ],
            [
             0.2222222222222222,
             "#7201a8"
            ],
            [
             0.3333333333333333,
             "#9c179e"
            ],
            [
             0.4444444444444444,
             "#bd3786"
            ],
            [
             0.5555555555555556,
             "#d8576b"
            ],
            [
             0.6666666666666666,
             "#ed7953"
            ],
            [
             0.7777777777777778,
             "#fb9f3a"
            ],
            [
             0.8888888888888888,
             "#fdca26"
            ],
            [
             1,
             "#f0f921"
            ]
           ],
           "sequentialminus": [
            [
             0,
             "#0d0887"
            ],
            [
             0.1111111111111111,
             "#46039f"
            ],
            [
             0.2222222222222222,
             "#7201a8"
            ],
            [
             0.3333333333333333,
             "#9c179e"
            ],
            [
             0.4444444444444444,
             "#bd3786"
            ],
            [
             0.5555555555555556,
             "#d8576b"
            ],
            [
             0.6666666666666666,
             "#ed7953"
            ],
            [
             0.7777777777777778,
             "#fb9f3a"
            ],
            [
             0.8888888888888888,
             "#fdca26"
            ],
            [
             1,
             "#f0f921"
            ]
           ]
          },
          "colorway": [
           "#636efa",
           "#EF553B",
           "#00cc96",
           "#ab63fa",
           "#FFA15A",
           "#19d3f3",
           "#FF6692",
           "#B6E880",
           "#FF97FF",
           "#FECB52"
          ],
          "font": {
           "color": "#2a3f5f"
          },
          "geo": {
           "bgcolor": "white",
           "lakecolor": "white",
           "landcolor": "#E5ECF6",
           "showlakes": true,
           "showland": true,
           "subunitcolor": "white"
          },
          "hoverlabel": {
           "align": "left"
          },
          "hovermode": "closest",
          "mapbox": {
           "style": "light"
          },
          "paper_bgcolor": "white",
          "plot_bgcolor": "#E5ECF6",
          "polar": {
           "angularaxis": {
            "gridcolor": "white",
            "linecolor": "white",
            "ticks": ""
           },
           "bgcolor": "#E5ECF6",
           "radialaxis": {
            "gridcolor": "white",
            "linecolor": "white",
            "ticks": ""
           }
          },
          "scene": {
           "xaxis": {
            "backgroundcolor": "#E5ECF6",
            "gridcolor": "white",
            "gridwidth": 2,
            "linecolor": "white",
            "showbackground": true,
            "ticks": "",
            "zerolinecolor": "white"
           },
           "yaxis": {
            "backgroundcolor": "#E5ECF6",
            "gridcolor": "white",
            "gridwidth": 2,
            "linecolor": "white",
            "showbackground": true,
            "ticks": "",
            "zerolinecolor": "white"
           },
           "zaxis": {
            "backgroundcolor": "#E5ECF6",
            "gridcolor": "white",
            "gridwidth": 2,
            "linecolor": "white",
            "showbackground": true,
            "ticks": "",
            "zerolinecolor": "white"
           }
          },
          "shapedefaults": {
           "line": {
            "color": "#2a3f5f"
           }
          },
          "ternary": {
           "aaxis": {
            "gridcolor": "white",
            "linecolor": "white",
            "ticks": ""
           },
           "baxis": {
            "gridcolor": "white",
            "linecolor": "white",
            "ticks": ""
           },
           "bgcolor": "#E5ECF6",
           "caxis": {
            "gridcolor": "white",
            "linecolor": "white",
            "ticks": ""
           }
          },
          "title": {
           "x": 0.05
          },
          "xaxis": {
           "automargin": true,
           "gridcolor": "white",
           "linecolor": "white",
           "ticks": "",
           "title": {
            "standoff": 15
           },
           "zerolinecolor": "white",
           "zerolinewidth": 2
          },
          "yaxis": {
           "automargin": true,
           "gridcolor": "white",
           "linecolor": "white",
           "ticks": "",
           "title": {
            "standoff": 15
           },
           "zerolinecolor": "white",
           "zerolinewidth": 2
          }
         }
        },
        "title": {
         "text": "Gap Up Percentage by Date and Stock"
        },
        "xaxis": {
         "anchor": "y",
         "autorange": true,
         "domain": [
          0,
          1
         ],
         "range": [
          "2019-12-31 12:00",
          "2024-06-30 12:00"
         ],
         "title": {
          "text": "Date"
         },
         "type": "date"
        },
        "yaxis": {
         "anchor": "x",
         "autorange": true,
         "domain": [
          0,
          1
         ],
         "range": [
          0,
          390.95341528973154
         ],
         "title": {
          "text": "avg of Gap Up Percentage"
         },
         "type": "linear"
        }
       }
      },
      "image/png": "[encoded data removed]",
      "text/html": [
       "<div>                            <div id=\"f941ffab-cbda-4e9a-ae6c-105eecab9af7\" class=\"plotly-graph-div\" style=\"height:525px; width:100%;\"></div>            <script type=\"text/javascript\">                require([\"plotly\"], function(Plotly) {                    window.PLOTLYENV=window.PLOTLYENV || {};                                    if (document.getElementById(\"f941ffab-cbda-4e9a-ae6c-105eecab9af7\")) {                    Plotly.newPlot(                        \"f941ffab-cbda-4e9a-ae6c-105eecab9af7\",                        [{\"alignmentgroup\":\"True\",\"bingroup\":\"x\",\"histfunc\":\"avg\",\"hovertemplate\":\"Stock=ABB.NS<br>Date=%{x}<br>avg of Gap Up Percentage=%{y}<extra></extra>\",\"legendgroup\":\"ABB.NS\",\"marker\":{\"color\":\"#636efa\",\"pattern\":{\"shape\":\"\"}},\"name\":\"ABB.NS\",\"nbinsx\":10,\"offsetgroup\":\"ABB.NS\",\"orientation\":\"v\",\"showlegend\":true,\"type\":\"histogram\",\"x\":[\"2020-06-01T00:00:00\",\"2022-05-05T00:00:00\",\"2024-02-21T00:00:00\"],\"xaxis\":\"x\",\"y\":[10.366143690166275,10.258390701846896,10.171293962040004],\"yaxis\":\"y\"},{\"alignmentgroup\":\"True\",\"bingroup\":\"x\",\"histfunc\":\"avg\",\"hovertemplate\":\"Stock=ADANIENSOL.NS<br>Date=%{x}<br>avg of Gap Up Percentage=%{y}<extra></extra>\",\"legendgroup\":\"ADANIENSOL.NS\",\"marker\":{\"color\":\"#EF553B\",\"pattern\":{\"shape\":\"\"}},\"name\":\"ADANIENSOL.NS\",\"nbinsx\":10,\"offsetgroup\":\"ADANIENSOL.NS\",\"orientation\":\"v\",\"showlegend\":true,\"type\":\"histogram\",\"x\":[\"2023-11-28T00:00:00\",\"2023-12-05T00:00:00\",\"2024-01-03T00:00:00\",\"2024-03-14T00:00:00\"],\"xaxis\":\"x\",\"y\":[18.65313462542696,19.995574833038084,11.365241239534493,11.24532256430969],\"yaxis\":\"y\"},{\"alignmentgroup\":\"True\",\"bingroup\":\"x\",\"histfunc\":\"avg\",\"hovertemplate\":\"Stock=ADANIGREEN.NS<br>Date=%{x}<br>avg of Gap Up Percentage=%{y}<extra></extra>\",\"legendgroup\":\"ADANIGREEN.NS\",\"marker\":{\"color\":\"#00cc96\",\"pattern\":{\"shape\":\"\"}},\"name\":\"ADANIGREEN.NS\",\"nbinsx\":10,\"offsetgroup\":\"ADANIGREEN.NS\",\"orientation\":\"v\",\"showlegend\":true,\"type\":\"histogram\",\"x\":[\"2022-04-11T00:00:00\",\"2022-07-11T00:00:00\",\"2022-09-30T00:00:00\",\"2023-11-28T00:00:00\",\"2023-12-05T00:00:00\",\"2023-12-06T00:00:00\"],\"xaxis\":\"x\",\"y\":[14.785614499146082,14.906303886322227,12.811556285739242,12.250775287679984,20.0,15.939929638255467],\"yaxis\":\"y\"},{\"alignmentgroup\":\"True\",\"bingroup\":\"x\",\"histfunc\":\"avg\",\"hovertemplate\":\"Stock=ADANIPOWER.NS<br>Date=%{x}<br>avg of Gap Up Percentage=%{y}<extra></extra>\",\"legendgroup\":\"ADANIPOWER.NS\",\"marker\":{\"color\":\"#ab63fa\",\"pattern\":{\"shape\":\"\"}},\"name\":\"ADANIPOWER.NS\",\"nbinsx\":10,\"offsetgroup\":\"ADANIPOWER.NS\",\"orientation\":\"v\",\"showlegend\":true,\"type\":\"histogram\",\"x\":[\"2020-04-20T00:00:00\",\"2020-05-19T00:00:00\",\"2020-05-26T00:00:00\",\"2020-12-03T00:00:00\",\"2020-12-04T00:00:00\",\"2021-06-07T00:00:00\",\"2021-06-08T00:00:00\",\"2022-02-10T00:00:00\",\"2022-02-25T00:00:00\",\"2022-03-29T00:00:00\",\"2023-11-28T00:00:00\",\"2023-12-05T00:00:00\"],\"xaxis\":\"x\",\"y\":[12.459548313913048,14.239481141908035,11.21212352405895,19.933554143605985,10.064629353034409,20.000001442911493,19.58234686786304,14.079927268328571,11.605939135210372,13.99014978768986,12.33635410224003,15.805898488831566],\"yaxis\":\"y\"},{\"alignmentgroup\":\"True\",\"bingroup\":\"x\",\"histfunc\":\"avg\",\"hovertemplate\":\"Stock=ATGL.NS<br>Date=%{x}<br>avg of Gap Up Percentage=%{y}<extra></extra>\",\"legendgroup\":\"ATGL.NS\",\"marker\":{\"color\":\"#FFA15A\",\"pattern\":{\"shape\":\"\"}},\"name\":\"ATGL.NS\",\"nbinsx\":10,\"offsetgroup\":\"ATGL.NS\",\"orientation\":\"v\",\"showlegend\":true,\"type\":\"histogram\",\"x\":[\"2020-02-20T00:00:00\",\"2020-11-17T00:00:00\",\"2020-11-18T00:00:00\",\"2021-02-15T00:00:00\",\"2021-02-16T00:00:00\",\"2021-03-03T00:00:00\",\"2021-03-22T00:00:00\",\"2021-04-01T00:00:00\",\"2022-06-21T00:00:00\",\"2023-11-28T00:00:00\",\"2023-11-29T00:00:00\",\"2023-12-05T00:00:00\",\"2023-12-06T00:00:00\",\"2024-03-14T00:00:00\"],\"xaxis\":\"x\",\"y\":[12.473379518518607,19.452387183639686,18.06364027217964,11.60633272274243,16.40707009957901,15.40136062808291,10.808977551332656,10.340704750487646,19.791874162270062,19.973926354740023,13.714680830764069,19.88391609230966,19.98633913785553,11.489116585677978],\"yaxis\":\"y\"},{\"alignmentgroup\":\"True\",\"bingroup\":\"x\",\"histfunc\":\"avg\",\"hovertemplate\":\"Stock=DMART.NS<br>Date=%{x}<br>avg of Gap Up Percentage=%{y}<extra></extra>\",\"legendgroup\":\"DMART.NS\",\"marker\":{\"color\":\"#19d3f3\",\"pattern\":{\"shape\":\"\"}},\"name\":\"DMART.NS\",\"nbinsx\":10,\"offsetgroup\":\"DMART.NS\",\"orientation\":\"v\",\"showlegend\":true,\"type\":\"histogram\",\"x\":[\"2022-05-16T00:00:00\"],\"xaxis\":\"x\",\"y\":[10.2302974682559],\"yaxis\":\"y\"},{\"alignmentgroup\":\"True\",\"bingroup\":\"x\",\"histfunc\":\"avg\",\"hovertemplate\":\"Stock=BAJAJHLDNG.NS<br>Date=%{x}<br>avg of Gap Up Percentage=%{y}<extra></extra>\",\"legendgroup\":\"BAJAJHLDNG.NS\",\"marker\":{\"color\":\"#FF6692\",\"pattern\":{\"shape\":\"\"}},\"name\":\"BAJAJHLDNG.NS\",\"nbinsx\":10,\"offsetgroup\":\"BAJAJHLDNG.NS\",\"orientation\":\"v\",\"showlegend\":true,\"type\":\"histogram\",\"x\":[\"2022-09-08T00:00:00\"],\"xaxis\":\"x\",\"y\":[10.31918942490898],\"yaxis\":\"y\"},{\"alignmentgroup\":\"True\",\"bingroup\":\"x\",\"histfunc\":\"avg\",\"hovertemplate\":\"Stock=BANKBARODA.NS<br>Date=%{x}<br>avg of Gap Up Percentage=%{y}<extra></extra>\",\"legendgroup\":\"BANKBARODA.NS\",\"marker\":{\"color\":\"#B6E880\",\"pattern\":{\"shape\":\"\"}},\"name\":\"BANKBARODA.NS\",\"nbinsx\":10,\"offsetgroup\":\"BANKBARODA.NS\",\"orientation\":\"v\",\"showlegend\":true,\"type\":\"histogram\",\"x\":[\"2020-03-13T00:00:00\",\"2021-01-12T00:00:00\",\"2021-02-18T00:00:00\"],\"xaxis\":\"x\",\"y\":[15.35745227520929,10.116731517509727,13.598580751344974],\"yaxis\":\"y\"},{\"alignmentgroup\":\"True\",\"bingroup\":\"x\",\"histfunc\":\"avg\",\"hovertemplate\":\"Stock=BERGEPAINT.NS<br>Date=%{x}<br>avg of Gap Up Percentage=%{y}<extra></extra>\",\"legendgroup\":\"BERGEPAINT.NS\",\"marker\":{\"color\":\"#FF97FF\",\"pattern\":{\"shape\":\"\"}},\"name\":\"BERGEPAINT.NS\",\"nbinsx\":10,\"offsetgroup\":\"BERGEPAINT.NS\",\"orientation\":\"v\",\"showlegend\":true,\"type\":\"histogram\",\"x\":[\"2020-03-20T00:00:00\"],\"xaxis\":\"x\",\"y\":[11.533219695105496],\"yaxis\":\"y\"},{\"alignmentgroup\":\"True\",\"bingroup\":\"x\",\"histfunc\":\"avg\",\"hovertemplate\":\"Stock=BEL.NS<br>Date=%{x}<br>avg of Gap Up Percentage=%{y}<extra></extra>\",\"legendgroup\":\"BEL.NS\",\"marker\":{\"color\":\"#FECB52\",\"pattern\":{\"shape\":\"\"}},\"name\":\"BEL.NS\",\"nbinsx\":10,\"offsetgroup\":\"BEL.NS\",\"orientation\":\"v\",\"showlegend\":true,\"type\":\"histogram\",\"x\":[\"2020-03-20T00:00:00\",\"2021-06-23T00:00:00\"],\"xaxis\":\"x\",\"y\":[10.45701019330853,11.294577722843451],\"yaxis\":\"y\"},{\"alignmentgroup\":\"True\",\"bingroup\":\"x\",\"histfunc\":\"avg\",\"hovertemplate\":\"Stock=BOSCHLTD.NS<br>Date=%{x}<br>avg of Gap Up Percentage=%{y}<extra></extra>\",\"legendgroup\":\"BOSCHLTD.NS\",\"marker\":{\"color\":\"#636efa\",\"pattern\":{\"shape\":\"\"}},\"name\":\"BOSCHLTD.NS\",\"nbinsx\":10,\"offsetgroup\":\"BOSCHLTD.NS\",\"orientation\":\"v\",\"showlegend\":true,\"type\":\"histogram\",\"x\":[\"2020-03-25T00:00:00\",\"2020-07-07T00:00:00\",\"2021-10-06T00:00:00\"],\"xaxis\":\"x\",\"y\":[10.226198111738112,11.994804560531454,11.65838906258106],\"yaxis\":\"y\"},{\"alignmentgroup\":\"True\",\"bingroup\":\"x\",\"histfunc\":\"avg\",\"hovertemplate\":\"Stock=CANBK.NS<br>Date=%{x}<br>avg of Gap Up Percentage=%{y}<extra></extra>\",\"legendgroup\":\"CANBK.NS\",\"marker\":{\"color\":\"#EF553B\",\"pattern\":{\"shape\":\"\"}},\"name\":\"CANBK.NS\",\"nbinsx\":10,\"offsetgroup\":\"CANBK.NS\",\"orientation\":\"v\",\"showlegend\":true,\"type\":\"histogram\",\"x\":[\"2020-05-13T00:00:00\",\"2020-12-08T00:00:00\"],\"xaxis\":\"x\",\"y\":[11.59147825345383,16.695058108496358],\"yaxis\":\"y\"},{\"alignmentgroup\":\"True\",\"bingroup\":\"x\",\"histfunc\":\"avg\",\"hovertemplate\":\"Stock=CHOLAFIN.NS<br>Date=%{x}<br>avg of Gap Up Percentage=%{y}<extra></extra>\",\"legendgroup\":\"CHOLAFIN.NS\",\"marker\":{\"color\":\"#00cc96\",\"pattern\":{\"shape\":\"\"}},\"name\":\"CHOLAFIN.NS\",\"nbinsx\":10,\"offsetgroup\":\"CHOLAFIN.NS\",\"orientation\":\"v\",\"showlegend\":true,\"type\":\"histogram\",\"x\":[\"2020-03-25T00:00:00\",\"2020-04-08T00:00:00\",\"2020-04-09T00:00:00\",\"2020-04-17T00:00:00\",\"2020-05-27T00:00:00\",\"2020-06-19T00:00:00\",\"2021-02-01T00:00:00\",\"2021-02-15T00:00:00\",\"2021-08-02T00:00:00\"],\"xaxis\":\"x\",\"y\":[10.230453538744486,15.517241379310343,13.930348258706468,10.790472312189092,10.81081469500136,10.56179946727967,11.335931987338254,13.70184908326118,10.656860159123752],\"yaxis\":\"y\"},{\"alignmentgroup\":\"True\",\"bingroup\":\"x\",\"histfunc\":\"avg\",\"hovertemplate\":\"Stock=DLF.NS<br>Date=%{x}<br>avg of Gap Up Percentage=%{y}<extra></extra>\",\"legendgroup\":\"DLF.NS\",\"marker\":{\"color\":\"#ab63fa\",\"pattern\":{\"shape\":\"\"}},\"name\":\"DLF.NS\",\"nbinsx\":10,\"offsetgroup\":\"DLF.NS\",\"orientation\":\"v\",\"showlegend\":true,\"type\":\"histogram\",\"x\":[\"2020-03-26T00:00:00\",\"2021-02-01T00:00:00\",\"2021-09-22T00:00:00\"],\"xaxis\":\"x\",\"y\":[11.591268571073602,10.256409184279882,11.59660543402971],\"yaxis\":\"y\"},{\"alignmentgroup\":\"True\",\"bingroup\":\"x\",\"histfunc\":\"avg\",\"hovertemplate\":\"Stock=DABUR.NS<br>Date=%{x}<br>avg of Gap Up Percentage=%{y}<extra></extra>\",\"legendgroup\":\"DABUR.NS\",\"marker\":{\"color\":\"#FFA15A\",\"pattern\":{\"shape\":\"\"}},\"name\":\"DABUR.NS\",\"nbinsx\":10,\"offsetgroup\":\"DABUR.NS\",\"orientation\":\"v\",\"showlegend\":true,\"type\":\"histogram\",\"x\":[\"2020-04-07T00:00:00\"],\"xaxis\":\"x\",\"y\":[11.629266343989755],\"yaxis\":\"y\"},{\"alignmentgroup\":\"True\",\"bingroup\":\"x\",\"histfunc\":\"avg\",\"hovertemplate\":\"Stock=GAIL.NS<br>Date=%{x}<br>avg of Gap Up Percentage=%{y}<extra></extra>\",\"legendgroup\":\"GAIL.NS\",\"marker\":{\"color\":\"#19d3f3\",\"pattern\":{\"shape\":\"\"}},\"name\":\"GAIL.NS\",\"nbinsx\":10,\"offsetgroup\":\"GAIL.NS\",\"orientation\":\"v\",\"showlegend\":true,\"type\":\"histogram\",\"x\":[\"2020-03-20T00:00:00\"],\"xaxis\":\"x\",\"y\":[16.426509760581848],\"yaxis\":\"y\"},{\"alignmentgroup\":\"True\",\"bingroup\":\"x\",\"histfunc\":\"avg\",\"hovertemplate\":\"Stock=GODREJCP.NS<br>Date=%{x}<br>avg of Gap Up Percentage=%{y}<extra></extra>\",\"legendgroup\":\"GODREJCP.NS\",\"marker\":{\"color\":\"#FF6692\",\"pattern\":{\"shape\":\"\"}},\"name\":\"GODREJCP.NS\",\"nbinsx\":10,\"offsetgroup\":\"GODREJCP.NS\",\"orientation\":\"v\",\"showlegend\":true,\"type\":\"histogram\",\"x\":[\"2021-05-12T00:00:00\"],\"xaxis\":\"x\",\"y\":[21.87237653015057],\"yaxis\":\"y\"},{\"alignmentgroup\":\"True\",\"bingroup\":\"x\",\"histfunc\":\"avg\",\"hovertemplate\":\"Stock=HAVELLS.NS<br>Date=%{x}<br>avg of Gap Up Percentage=%{y}<extra></extra>\",\"legendgroup\":\"HAVELLS.NS\",\"marker\":{\"color\":\"#B6E880\",\"pattern\":{\"shape\":\"\"}},\"name\":\"HAVELLS.NS\",\"nbinsx\":10,\"offsetgroup\":\"HAVELLS.NS\",\"orientation\":\"v\",\"showlegend\":true,\"type\":\"histogram\",\"x\":[\"2021-01-21T00:00:00\"],\"xaxis\":\"x\",\"y\":[10.959165228861938],\"yaxis\":\"y\"},{\"alignmentgroup\":\"True\",\"bingroup\":\"x\",\"histfunc\":\"avg\",\"hovertemplate\":\"Stock=HAL.NS<br>Date=%{x}<br>avg of Gap Up Percentage=%{y}<extra></extra>\",\"legendgroup\":\"HAL.NS\",\"marker\":{\"color\":\"#FF97FF\",\"pattern\":{\"shape\":\"\"}},\"name\":\"HAL.NS\",\"nbinsx\":10,\"offsetgroup\":\"HAL.NS\",\"orientation\":\"v\",\"showlegend\":true,\"type\":\"histogram\",\"x\":[\"2020-06-25T00:00:00\",\"2020-07-06T00:00:00\",\"2020-07-17T00:00:00\",\"2020-08-13T00:00:00\"],\"xaxis\":\"x\",\"y\":[13.382952369953143,11.907554797381762,11.186901527656469,17.27854910212988],\"yaxis\":\"y\"},{\"alignmentgroup\":\"True\",\"bingroup\":\"x\",\"histfunc\":\"avg\",\"hovertemplate\":\"Stock=ICICIGI.NS<br>Date=%{x}<br>avg of Gap Up Percentage=%{y}<extra></extra>\",\"legendgroup\":\"ICICIGI.NS\",\"marker\":{\"color\":\"#FECB52\",\"pattern\":{\"shape\":\"\"}},\"name\":\"ICICIGI.NS\",\"nbinsx\":10,\"offsetgroup\":\"ICICIGI.NS\",\"orientation\":\"v\",\"showlegend\":true,\"type\":\"histogram\",\"x\":[\"2020-03-25T00:00:00\",\"2020-03-26T00:00:00\",\"2020-04-07T00:00:00\"],\"xaxis\":\"x\",\"y\":[15.747105949555891,11.355909968513556,10.468388807447685],\"yaxis\":\"y\"},{\"alignmentgroup\":\"True\",\"bingroup\":\"x\",\"histfunc\":\"avg\",\"hovertemplate\":\"Stock=ICICIPRULI.NS<br>Date=%{x}<br>avg of Gap Up Percentage=%{y}<extra></extra>\",\"legendgroup\":\"ICICIPRULI.NS\",\"marker\":{\"color\":\"#636efa\",\"pattern\":{\"shape\":\"\"}},\"name\":\"ICICIPRULI.NS\",\"nbinsx\":10,\"offsetgroup\":\"ICICIPRULI.NS\",\"orientation\":\"v\",\"showlegend\":true,\"type\":\"histogram\",\"x\":[\"2020-03-25T00:00:00\",\"2020-04-17T00:00:00\",\"2020-04-27T00:00:00\"],\"xaxis\":\"x\",\"y\":[25.93830459829566,10.482307141623524,12.167586894170968],\"yaxis\":\"y\"},{\"alignmentgroup\":\"True\",\"bingroup\":\"x\",\"histfunc\":\"avg\",\"hovertemplate\":\"Stock=IRCTC.NS<br>Date=%{x}<br>avg of Gap Up Percentage=%{y}<extra></extra>\",\"legendgroup\":\"IRCTC.NS\",\"marker\":{\"color\":\"#EF553B\",\"pattern\":{\"shape\":\"\"}},\"name\":\"IRCTC.NS\",\"nbinsx\":10,\"offsetgroup\":\"IRCTC.NS\",\"orientation\":\"v\",\"showlegend\":true,\"type\":\"histogram\",\"x\":[\"2020-02-04T00:00:00\",\"2020-02-13T00:00:00\",\"2020-02-19T00:00:00\",\"2020-12-04T00:00:00\",\"2021-03-01T00:00:00\",\"2021-10-14T00:00:00\",\"2021-10-28T00:00:00\",\"2023-12-18T00:00:00\"],\"xaxis\":\"x\",\"y\":[12.935204399888969,11.665790833879786,11.796656755189558,13.972646787997324,10.161114571036077,10.849491774098595,10.58919985966858,12.588852135695106],\"yaxis\":\"y\"},{\"alignmentgroup\":\"True\",\"bingroup\":\"x\",\"histfunc\":\"avg\",\"hovertemplate\":\"Stock=IRFC.NS<br>Date=%{x}<br>avg of Gap Up Percentage=%{y}<extra></extra>\",\"legendgroup\":\"IRFC.NS\",\"marker\":{\"color\":\"#00cc96\",\"pattern\":{\"shape\":\"\"}},\"name\":\"IRFC.NS\",\"nbinsx\":10,\"offsetgroup\":\"IRFC.NS\",\"orientation\":\"v\",\"showlegend\":true,\"type\":\"histogram\",\"x\":[\"2023-08-03T00:00:00\",\"2023-08-07T00:00:00\",\"2023-09-01T00:00:00\",\"2023-09-04T00:00:00\",\"2023-12-14T00:00:00\",\"2024-01-16T00:00:00\",\"2024-02-13T00:00:00\",\"2024-03-14T00:00:00\"],\"xaxis\":\"x\",\"y\":[12.594458196251662,10.432854256461296,11.055775204604933,19.64125013137612,10.958085659735218,25.08818712065376,15.419330929342337,12.877263581488934],\"yaxis\":\"y\"},{\"alignmentgroup\":\"True\",\"bingroup\":\"x\",\"histfunc\":\"avg\",\"hovertemplate\":\"Stock=NAUKRI.NS<br>Date=%{x}<br>avg of Gap Up Percentage=%{y}<extra></extra>\",\"legendgroup\":\"NAUKRI.NS\",\"marker\":{\"color\":\"#ab63fa\",\"pattern\":{\"shape\":\"\"}},\"name\":\"NAUKRI.NS\",\"nbinsx\":10,\"offsetgroup\":\"NAUKRI.NS\",\"orientation\":\"v\",\"showlegend\":true,\"type\":\"histogram\",\"x\":[\"2020-03-26T00:00:00\",\"2020-04-07T00:00:00\",\"2021-01-05T00:00:00\",\"2022-01-31T00:00:00\"],\"xaxis\":\"x\",\"y\":[10.93912348403605,17.514268505531263,13.693315538521896,11.227609361267056],\"yaxis\":\"y\"},{\"alignmentgroup\":\"True\",\"bingroup\":\"x\",\"histfunc\":\"avg\",\"hovertemplate\":\"Stock=INDIGO.NS<br>Date=%{x}<br>avg of Gap Up Percentage=%{y}<extra></extra>\",\"legendgroup\":\"INDIGO.NS\",\"marker\":{\"color\":\"#FFA15A\",\"pattern\":{\"shape\":\"\"}},\"name\":\"INDIGO.NS\",\"nbinsx\":10,\"offsetgroup\":\"INDIGO.NS\",\"orientation\":\"v\",\"showlegend\":true,\"type\":\"histogram\",\"x\":[\"2020-03-25T00:00:00\",\"2020-08-12T00:00:00\",\"2020-08-13T00:00:00\",\"2021-09-17T00:00:00\",\"2022-05-26T00:00:00\"],\"xaxis\":\"x\",\"y\":[10.339935889605329,10.099507470692538,12.222700227515311,10.92002302741161,10.363681477083029],\"yaxis\":\"y\"},{\"alignmentgroup\":\"True\",\"bingroup\":\"x\",\"histfunc\":\"avg\",\"hovertemplate\":\"Stock=JINDALSTEL.NS<br>Date=%{x}<br>avg of Gap Up Percentage=%{y}<extra></extra>\",\"legendgroup\":\"JINDALSTEL.NS\",\"marker\":{\"color\":\"#19d3f3\",\"pattern\":{\"shape\":\"\"}},\"name\":\"JINDALSTEL.NS\",\"nbinsx\":10,\"offsetgroup\":\"JINDALSTEL.NS\",\"orientation\":\"v\",\"showlegend\":true,\"type\":\"histogram\",\"x\":[\"2020-03-20T00:00:00\",\"2020-04-07T00:00:00\",\"2020-05-26T00:00:00\"],\"xaxis\":\"x\",\"y\":[12.41935812016969,28.899445065763206,12.991721790885874],\"yaxis\":\"y\"},{\"alignmentgroup\":\"True\",\"bingroup\":\"x\",\"histfunc\":\"avg\",\"hovertemplate\":\"Stock=JIOFIN.NS<br>Date=%{x}<br>avg of Gap Up Percentage=%{y}<extra></extra>\",\"legendgroup\":\"JIOFIN.NS\",\"marker\":{\"color\":\"#FF6692\",\"pattern\":{\"shape\":\"\"}},\"name\":\"JIOFIN.NS\",\"nbinsx\":10,\"offsetgroup\":\"JIOFIN.NS\",\"orientation\":\"v\",\"showlegend\":true,\"type\":\"histogram\",\"x\":[\"2024-02-05T00:00:00\",\"2024-02-23T00:00:00\"],\"xaxis\":\"x\",\"y\":[13.90859047569004,10.269111928921504],\"yaxis\":\"y\"},{\"alignmentgroup\":\"True\",\"bingroup\":\"x\",\"histfunc\":\"avg\",\"hovertemplate\":\"Stock=PFC.NS<br>Date=%{x}<br>avg of Gap Up Percentage=%{y}<extra></extra>\",\"legendgroup\":\"PFC.NS\",\"marker\":{\"color\":\"#B6E880\",\"pattern\":{\"shape\":\"\"}},\"name\":\"PFC.NS\",\"nbinsx\":10,\"offsetgroup\":\"PFC.NS\",\"orientation\":\"v\",\"showlegend\":true,\"type\":\"histogram\",\"x\":[\"2020-03-13T00:00:00\",\"2023-09-08T00:00:00\"],\"xaxis\":\"x\",\"y\":[13.329645229987952,12.231012794776932],\"yaxis\":\"y\"},{\"alignmentgroup\":\"True\",\"bingroup\":\"x\",\"histfunc\":\"avg\",\"hovertemplate\":\"Stock=PNB.NS<br>Date=%{x}<br>avg of Gap Up Percentage=%{y}<extra></extra>\",\"legendgroup\":\"PNB.NS\",\"marker\":{\"color\":\"#FF97FF\",\"pattern\":{\"shape\":\"\"}},\"name\":\"PNB.NS\",\"nbinsx\":10,\"offsetgroup\":\"PNB.NS\",\"orientation\":\"v\",\"showlegend\":true,\"type\":\"histogram\",\"x\":[\"2020-03-13T00:00:00\",\"2020-12-08T00:00:00\"],\"xaxis\":\"x\",\"y\":[10.8148193359375,13.566429298240823],\"yaxis\":\"y\"},{\"alignmentgroup\":\"True\",\"bingroup\":\"x\",\"histfunc\":\"avg\",\"hovertemplate\":\"Stock=RECLTD.NS<br>Date=%{x}<br>avg of Gap Up Percentage=%{y}<extra></extra>\",\"legendgroup\":\"RECLTD.NS\",\"marker\":{\"color\":\"#FECB52\",\"pattern\":{\"shape\":\"\"}},\"name\":\"RECLTD.NS\",\"nbinsx\":10,\"offsetgroup\":\"RECLTD.NS\",\"orientation\":\"v\",\"showlegend\":true,\"type\":\"histogram\",\"x\":[\"2020-05-13T00:00:00\",\"2023-09-08T00:00:00\"],\"xaxis\":\"x\",\"y\":[12.465057174826311,10.01832235348875],\"yaxis\":\"y\"},{\"alignmentgroup\":\"True\",\"bingroup\":\"x\",\"histfunc\":\"avg\",\"hovertemplate\":\"Stock=MOTHERSON.NS<br>Date=%{x}<br>avg of Gap Up Percentage=%{y}<extra></extra>\",\"legendgroup\":\"MOTHERSON.NS\",\"marker\":{\"color\":\"#636efa\",\"pattern\":{\"shape\":\"\"}},\"name\":\"MOTHERSON.NS\",\"nbinsx\":10,\"offsetgroup\":\"MOTHERSON.NS\",\"orientation\":\"v\",\"showlegend\":true,\"type\":\"histogram\",\"x\":[\"2020-04-09T00:00:00\",\"2020-04-15T00:00:00\",\"2020-04-16T00:00:00\",\"2021-02-12T00:00:00\",\"2021-06-02T00:00:00\",\"2022-01-14T00:00:00\"],\"xaxis\":\"x\",\"y\":[17.526689595753115,12.668247939724134,14.546730076934171,10.039042144189615,13.40075861284464,28.55027068838305],\"yaxis\":\"y\"},{\"alignmentgroup\":\"True\",\"bingroup\":\"x\",\"histfunc\":\"avg\",\"hovertemplate\":\"Stock=SIEMENS.NS<br>Date=%{x}<br>avg of Gap Up Percentage=%{y}<extra></extra>\",\"legendgroup\":\"SIEMENS.NS\",\"marker\":{\"color\":\"#EF553B\",\"pattern\":{\"shape\":\"\"}},\"name\":\"SIEMENS.NS\",\"nbinsx\":10,\"offsetgroup\":\"SIEMENS.NS\",\"orientation\":\"v\",\"showlegend\":true,\"type\":\"histogram\",\"x\":[\"2020-11-26T00:00:00\"],\"xaxis\":\"x\",\"y\":[11.174634500412314],\"yaxis\":\"y\"},{\"alignmentgroup\":\"True\",\"bingroup\":\"x\",\"histfunc\":\"avg\",\"hovertemplate\":\"Stock=TVSMOTOR.NS<br>Date=%{x}<br>avg of Gap Up Percentage=%{y}<extra></extra>\",\"legendgroup\":\"TVSMOTOR.NS\",\"marker\":{\"color\":\"#00cc96\",\"pattern\":{\"shape\":\"\"}},\"name\":\"TVSMOTOR.NS\",\"nbinsx\":10,\"offsetgroup\":\"TVSMOTOR.NS\",\"orientation\":\"v\",\"showlegend\":true,\"type\":\"histogram\",\"x\":[\"2021-04-28T00:00:00\"],\"xaxis\":\"x\",\"y\":[14.038495799696904],\"yaxis\":\"y\"},{\"alignmentgroup\":\"True\",\"bingroup\":\"x\",\"histfunc\":\"avg\",\"hovertemplate\":\"Stock=TATAPOWER.NS<br>Date=%{x}<br>avg of Gap Up Percentage=%{y}<extra></extra>\",\"legendgroup\":\"TATAPOWER.NS\",\"marker\":{\"color\":\"#ab63fa\",\"pattern\":{\"shape\":\"\"}},\"name\":\"TATAPOWER.NS\",\"nbinsx\":10,\"offsetgroup\":\"TATAPOWER.NS\",\"orientation\":\"v\",\"showlegend\":true,\"type\":\"histogram\",\"x\":[\"2020-04-07T00:00:00\",\"2021-10-13T00:00:00\",\"2021-10-18T00:00:00\",\"2023-12-07T00:00:00\"],\"xaxis\":\"x\",\"y\":[11.608630021996822,14.50459318377902,15.588490897577334,10.759814568489322],\"yaxis\":\"y\"},{\"alignmentgroup\":\"True\",\"bingroup\":\"x\",\"histfunc\":\"avg\",\"hovertemplate\":\"Stock=TORNTPHARM.NS<br>Date=%{x}<br>avg of Gap Up Percentage=%{y}<extra></extra>\",\"legendgroup\":\"TORNTPHARM.NS\",\"marker\":{\"color\":\"#FFA15A\",\"pattern\":{\"shape\":\"\"}},\"name\":\"TORNTPHARM.NS\",\"nbinsx\":10,\"offsetgroup\":\"TORNTPHARM.NS\",\"orientation\":\"v\",\"showlegend\":true,\"type\":\"histogram\",\"x\":[\"2020-04-07T00:00:00\",\"2022-05-26T00:00:00\"],\"xaxis\":\"x\",\"y\":[13.353399020522389,10.101332071180314],\"yaxis\":\"y\"},{\"alignmentgroup\":\"True\",\"bingroup\":\"x\",\"histfunc\":\"avg\",\"hovertemplate\":\"Stock=TRENT.NS<br>Date=%{x}<br>avg of Gap Up Percentage=%{y}<extra></extra>\",\"legendgroup\":\"TRENT.NS\",\"marker\":{\"color\":\"#19d3f3\",\"pattern\":{\"shape\":\"\"}},\"name\":\"TRENT.NS\",\"nbinsx\":10,\"offsetgroup\":\"TRENT.NS\",\"orientation\":\"v\",\"showlegend\":true,\"type\":\"histogram\",\"x\":[\"2020-02-07T00:00:00\",\"2020-03-25T00:00:00\",\"2020-03-26T00:00:00\",\"2020-06-23T00:00:00\",\"2024-02-07T00:00:00\"],\"xaxis\":\"x\",\"y\":[11.709663642865596,10.435215836781968,11.005372419339396,12.108809236164792,18.86326194398682],\"yaxis\":\"y\"},{\"alignmentgroup\":\"True\",\"bingroup\":\"x\",\"histfunc\":\"avg\",\"hovertemplate\":\"Stock=MCDOWELL-N.NS<br>Date=%{x}<br>avg of Gap Up Percentage=%{y}<extra></extra>\",\"legendgroup\":\"MCDOWELL-N.NS\",\"marker\":{\"color\":\"#FF6692\",\"pattern\":{\"shape\":\"\"}},\"name\":\"MCDOWELL-N.NS\",\"nbinsx\":10,\"offsetgroup\":\"MCDOWELL-N.NS\",\"orientation\":\"v\",\"showlegend\":true,\"type\":\"histogram\",\"x\":[\"2020-01-28T00:00:00\"],\"xaxis\":\"x\",\"y\":[13.9308685958808],\"yaxis\":\"y\"},{\"alignmentgroup\":\"True\",\"bingroup\":\"x\",\"histfunc\":\"avg\",\"hovertemplate\":\"Stock=VBL.NS<br>Date=%{x}<br>avg of Gap Up Percentage=%{y}<extra></extra>\",\"legendgroup\":\"VBL.NS\",\"marker\":{\"color\":\"#B6E880\",\"pattern\":{\"shape\":\"\"}},\"name\":\"VBL.NS\",\"nbinsx\":10,\"offsetgroup\":\"VBL.NS\",\"orientation\":\"v\",\"showlegend\":true,\"type\":\"histogram\",\"x\":[\"2020-11-27T00:00:00\"],\"xaxis\":\"x\",\"y\":[12.06995686024232],\"yaxis\":\"y\"},{\"alignmentgroup\":\"True\",\"bingroup\":\"x\",\"histfunc\":\"avg\",\"hovertemplate\":\"Stock=VEDL.NS<br>Date=%{x}<br>avg of Gap Up Percentage=%{y}<extra></extra>\",\"legendgroup\":\"VEDL.NS\",\"marker\":{\"color\":\"#FF97FF\",\"pattern\":{\"shape\":\"\"}},\"name\":\"VEDL.NS\",\"nbinsx\":10,\"offsetgroup\":\"VEDL.NS\",\"orientation\":\"v\",\"showlegend\":true,\"type\":\"histogram\",\"x\":[\"2020-04-30T00:00:00\",\"2020-05-12T00:00:00\",\"2021-10-18T00:00:00\",\"2022-05-17T00:00:00\",\"2022-09-14T00:00:00\"],\"xaxis\":\"x\",\"y\":[13.13961001311986,11.871865274858049,12.910517291808093,11.788266349648024,10.106294197162804],\"yaxis\":\"y\"},{\"alignmentgroup\":\"True\",\"bingroup\":\"x\",\"histfunc\":\"avg\",\"hovertemplate\":\"Stock=ZOMATO.NS<br>Date=%{x}<br>avg of Gap Up Percentage=%{y}<extra></extra>\",\"legendgroup\":\"ZOMATO.NS\",\"marker\":{\"color\":\"#FECB52\",\"pattern\":{\"shape\":\"\"}},\"name\":\"ZOMATO.NS\",\"nbinsx\":10,\"offsetgroup\":\"ZOMATO.NS\",\"orientation\":\"v\",\"showlegend\":true,\"type\":\"histogram\",\"x\":[\"2021-07-26T00:00:00\",\"2022-05-24T00:00:00\",\"2022-05-30T00:00:00\",\"2022-08-02T00:00:00\",\"2022-11-11T00:00:00\",\"2023-02-08T00:00:00\",\"2023-08-04T00:00:00\"],\"xaxis\":\"x\",\"y\":[11.626979282924108,13.847498364293898,14.50443823587002,19.97840205706936,13.8389400832457,10.0303969928899,10.225301169346812],\"yaxis\":\"y\"},{\"alignmentgroup\":\"True\",\"bingroup\":\"x\",\"histfunc\":\"avg\",\"hovertemplate\":\"Stock=ZYDUSLIFE.NS<br>Date=%{x}<br>avg of Gap Up Percentage=%{y}<extra></extra>\",\"legendgroup\":\"ZYDUSLIFE.NS\",\"marker\":{\"color\":\"#636efa\",\"pattern\":{\"shape\":\"\"}},\"name\":\"ZYDUSLIFE.NS\",\"nbinsx\":10,\"offsetgroup\":\"ZYDUSLIFE.NS\",\"orientation\":\"v\",\"showlegend\":true,\"type\":\"histogram\",\"x\":[\"2020-03-20T00:00:00\",\"2020-04-07T00:00:00\",\"2020-04-08T00:00:00\"],\"xaxis\":\"x\",\"y\":[16.249737928675138,13.74726844899247,12.005762531527584],\"yaxis\":\"y\"}],                        {\"barmode\":\"relative\",\"legend\":{\"title\":{\"text\":\"Stock\"},\"tracegroupgap\":0},\"template\":{\"data\":{\"bar\":[{\"error_x\":{\"color\":\"#2a3f5f\"},\"error_y\":{\"color\":\"#2a3f5f\"},\"marker\":{\"line\":{\"color\":\"#E5ECF6\",\"width\":0.5},\"pattern\":{\"fillmode\":\"overlay\",\"size\":10,\"solidity\":0.2}},\"type\":\"bar\"}],\"barpolar\":[{\"marker\":{\"line\":{\"color\":\"#E5ECF6\",\"width\":0.5},\"pattern\":{\"fillmode\":\"overlay\",\"size\":10,\"solidity\":0.2}},\"type\":\"barpolar\"}],\"carpet\":[{\"aaxis\":{\"endlinecolor\":\"#2a3f5f\",\"gridcolor\":\"white\",\"linecolor\":\"white\",\"minorgridcolor\":\"white\",\"startlinecolor\":\"#2a3f5f\"},\"baxis\":{\"endlinecolor\":\"#2a3f5f\",\"gridcolor\":\"white\",\"linecolor\":\"white\",\"minorgridcolor\":\"white\",\"startlinecolor\":\"#2a3f5f\"},\"type\":\"carpet\"}],\"choropleth\":[{\"colorbar\":{\"outlinewidth\":0,\"ticks\":\"\"},\"type\":\"choropleth\"}],\"contour\":[{\"colorbar\":{\"outlinewidth\":0,\"ticks\":\"\"},\"colorscale\":[[0.0,\"#0d0887\"],[0.1111111111111111,\"#46039f\"],[0.2222222222222222,\"#7201a8\"],[0.3333333333333333,\"#9c179e\"],[0.4444444444444444,\"#bd3786\"],[0.5555555555555556,\"#d8576b\"],[0.6666666666666666,\"#ed7953\"],[0.7777777777777778,\"#fb9f3a\"],[0.8888888888888888,\"#fdca26\"],[1.0,\"#f0f921\"]],\"type\":\"contour\"}],\"contourcarpet\":[{\"colorbar\":{\"outlinewidth\":0,\"ticks\":\"\"},\"type\":\"contourcarpet\"}],\"heatmap\":[{\"colorbar\":{\"outlinewidth\":0,\"ticks\":\"\"},\"colorscale\":[[0.0,\"#0d0887\"],[0.1111111111111111,\"#46039f\"],[0.2222222222222222,\"#7201a8\"],[0.3333333333333333,\"#9c179e\"],[0.4444444444444444,\"#bd3786\"],[0.5555555555555556,\"#d8576b\"],[0.6666666666666666,\"#ed7953\"],[0.7777777777777778,\"#fb9f3a\"],[0.8888888888888888,\"#fdca26\"],[1.0,\"#f0f921\"]],\"type\":\"heatmap\"}],\"heatmapgl\":[{\"colorbar\":{\"outlinewidth\":0,\"ticks\":\"\"},\"colorscale\":[[0.0,\"#0d0887\"],[0.1111111111111111,\"#46039f\"],[0.2222222222222222,\"#7201a8\"],[0.3333333333333333,\"#9c179e\"],[0.4444444444444444,\"#bd3786\"],[0.5555555555555556,\"#d8576b\"],[0.6666666666666666,\"#ed7953\"],[0.7777777777777778,\"#fb9f3a\"],[0.8888888888888888,\"#fdca26\"],[1.0,\"#f0f921\"]],\"type\":\"heatmapgl\"}],\"histogram\":[{\"marker\":{\"pattern\":{\"fillmode\":\"overlay\",\"size\":10,\"solidity\":0.2}},\"type\":\"histogram\"}],\"histogram2d\":[{\"colorbar\":{\"outlinewidth\":0,\"ticks\":\"\"},\"colorscale\":[[0.0,\"#0d0887\"],[0.1111111111111111,\"#46039f\"],[0.2222222222222222,\"#7201a8\"],[0.3333333333333333,\"#9c179e\"],[0.4444444444444444,\"#bd3786\"],[0.5555555555555556,\"#d8576b\"],[0.6666666666666666,\"#ed7953\"],[0.7777777777777778,\"#fb9f3a\"],[0.8888888888888888,\"#fdca26\"],[1.0,\"#f0f921\"]],\"type\":\"histogram2d\"}],\"histogram2dcontour\":[{\"colorbar\":{\"outlinewidth\":0,\"ticks\":\"\"},\"colorscale\":[[0.0,\"#0d0887\"],[0.1111111111111111,\"#46039f\"],[0.2222222222222222,\"#7201a8\"],[0.3333333333333333,\"#9c179e\"],[0.4444444444444444,\"#bd3786\"],[0.5555555555555556,\"#d8576b\"],[0.6666666666666666,\"#ed7953\"],[0.7777777777777778,\"#fb9f3a\"],[0.8888888888888888,\"#fdca26\"],[1.0,\"#f0f921\"]],\"type\":\"histogram2dcontour\"}],\"mesh3d\":[{\"colorbar\":{\"outlinewidth\":0,\"ticks\":\"\"},\"type\":\"mesh3d\"}],\"parcoords\":[{\"line\":{\"colorbar\":{\"outlinewidth\":0,\"ticks\":\"\"}},\"type\":\"parcoords\"}],\"pie\":[{\"automargin\":true,\"type\":\"pie\"}],\"scatter\":[{\"marker\":{\"colorbar\":{\"outlinewidth\":0,\"ticks\":\"\"}},\"type\":\"scatter\"}],\"scatter3d\":[{\"line\":{\"colorbar\":{\"outlinewidth\":0,\"ticks\":\"\"}},\"marker\":{\"colorbar\":{\"outlinewidth\":0,\"ticks\":\"\"}},\"type\":\"scatter3d\"}],\"scattercarpet\":[{\"marker\":{\"colorbar\":{\"outlinewidth\":0,\"ticks\":\"\"}},\"type\":\"scattercarpet\"}],\"scattergeo\":[{\"marker\":{\"colorbar\":{\"outlinewidth\":0,\"ticks\":\"\"}},\"type\":\"scattergeo\"}],\"scattergl\":[{\"marker\":{\"colorbar\":{\"outlinewidth\":0,\"ticks\":\"\"}},\"type\":\"scattergl\"}],\"scattermapbox\":[{\"marker\":{\"colorbar\":{\"outlinewidth\":0,\"ticks\":\"\"}},\"type\":\"scattermapbox\"}],\"scatterpolar\":[{\"marker\":{\"colorbar\":{\"outlinewidth\":0,\"ticks\":\"\"}},\"type\":\"scatterpolar\"}],\"scatterpolargl\":[{\"marker\":{\"colorbar\":{\"outlinewidth\":0,\"ticks\":\"\"}},\"type\":\"scatterpolargl\"}],\"scatterternary\":[{\"marker\":{\"colorbar\":{\"outlinewidth\":0,\"ticks\":\"\"}},\"type\":\"scatterternary\"}],\"surface\":[{\"colorbar\":{\"outlinewidth\":0,\"ticks\":\"\"},\"colorscale\":[[0.0,\"#0d0887\"],[0.1111111111111111,\"#46039f\"],[0.2222222222222222,\"#7201a8\"],[0.3333333333333333,\"#9c179e\"],[0.4444444444444444,\"#bd3786\"],[0.5555555555555556,\"#d8576b\"],[0.6666666666666666,\"#ed7953\"],[0.7777777777777778,\"#fb9f3a\"],[0.8888888888888888,\"#fdca26\"],[1.0,\"#f0f921\"]],\"type\":\"surface\"}],\"table\":[{\"cells\":{\"fill\":{\"color\":\"#EBF0F8\"},\"line\":{\"color\":\"white\"}},\"header\":{\"fill\":{\"color\":\"#C8D4E3\"},\"line\":{\"color\":\"white\"}},\"type\":\"table\"}]},\"layout\":{\"annotationdefaults\":{\"arrowcolor\":\"#2a3f5f\",\"arrowhead\":0,\"arrowwidth\":1},\"autotypenumbers\":\"strict\",\"coloraxis\":{\"colorbar\":{\"outlinewidth\":0,\"ticks\":\"\"}},\"colorscale\":{\"diverging\":[[0,\"#8e0152\"],[0.1,\"#c51b7d\"],[0.2,\"#de77ae\"],[0.3,\"#f1b6da\"],[0.4,\"#fde0ef\"],[0.5,\"#f7f7f7\"],[0.6,\"#e6f5d0\"],[0.7,\"#b8e186\"],[0.8,\"#7fbc41\"],[0.9,\"#4d9221\"],[1,\"#276419\"]],\"sequential\":[[0.0,\"#0d0887\"],[0.1111111111111111,\"#46039f\"],[0.2222222222222222,\"#7201a8\"],[0.3333333333333333,\"#9c179e\"],[0.4444444444444444,\"#bd3786\"],[0.5555555555555556,\"#d8576b\"],[0.6666666666666666,\"#ed7953\"],[0.7777777777777778,\"#fb9f3a\"],[0.8888888888888888,\"#fdca26\"],[1.0,\"#f0f921\"]],\"sequentialminus\":[[0.0,\"#0d0887\"],[0.1111111111111111,\"#46039f\"],[0.2222222222222222,\"#7201a8\"],[0.3333333333333333,\"#9c179e\"],[0.4444444444444444,\"#bd3786\"],[0.5555555555555556,\"#d8576b\"],[0.6666666666666666,\"#ed7953\"],[0.7777777777777778,\"#fb9f3a\"],[0.8888888888888888,\"#fdca26\"],[1.0,\"#f0f921\"]]},\"colorway\":[\"#636efa\",\"#EF553B\",\"#00cc96\",\"#ab63fa\",\"#FFA15A\",\"#19d3f3\",\"#FF6692\",\"#B6E880\",\"#FF97FF\",\"#FECB52\"],\"font\":{\"color\":\"#2a3f5f\"},\"geo\":{\"bgcolor\":\"white\",\"lakecolor\":\"white\",\"landcolor\":\"#E5ECF6\",\"showlakes\":true,\"showland\":true,\"subunitcolor\":\"white\"},\"hoverlabel\":{\"align\":\"left\"},\"hovermode\":\"closest\",\"mapbox\":{\"style\":\"light\"},\"paper_bgcolor\":\"white\",\"plot_bgcolor\":\"#E5ECF6\",\"polar\":{\"angularaxis\":{\"gridcolor\":\"white\",\"linecolor\":\"white\",\"ticks\":\"\"},\"bgcolor\":\"#E5ECF6\",\"radialaxis\":{\"gridcolor\":\"white\",\"linecolor\":\"white\",\"ticks\":\"\"}},\"scene\":{\"xaxis\":{\"backgroundcolor\":\"#E5ECF6\",\"gridcolor\":\"white\",\"gridwidth\":2,\"linecolor\":\"white\",\"showbackground\":true,\"ticks\":\"\",\"zerolinecolor\":\"white\"},\"yaxis\":{\"backgroundcolor\":\"#E5ECF6\",\"gridcolor\":\"white\",\"gridwidth\":2,\"linecolor\":\"white\",\"showbackground\":true,\"ticks\":\"\",\"zerolinecolor\":\"white\"},\"zaxis\":{\"backgroundcolor\":\"#E5ECF6\",\"gridcolor\":\"white\",\"gridwidth\":2,\"linecolor\":\"white\",\"showbackground\":true,\"ticks\":\"\",\"zerolinecolor\":\"white\"}},\"shapedefaults\":{\"line\":{\"color\":\"#2a3f5f\"}},\"ternary\":{\"aaxis\":{\"gridcolor\":\"white\",\"linecolor\":\"white\",\"ticks\":\"\"},\"baxis\":{\"gridcolor\":\"white\",\"linecolor\":\"white\",\"ticks\":\"\"},\"bgcolor\":\"#E5ECF6\",\"caxis\":{\"gridcolor\":\"white\",\"linecolor\":\"white\",\"ticks\":\"\"}},\"title\":{\"x\":0.05},\"xaxis\":{\"automargin\":true,\"gridcolor\":\"white\",\"linecolor\":\"white\",\"ticks\":\"\",\"title\":{\"standoff\":15},\"zerolinecolor\":\"white\",\"zerolinewidth\":2},\"yaxis\":{\"automargin\":true,\"gridcolor\":\"white\",\"linecolor\":\"white\",\"ticks\":\"\",\"title\":{\"standoff\":15},\"zerolinecolor\":\"white\",\"zerolinewidth\":2}}},\"title\":{\"text\":\"Gap Up Percentage by Date and Stock\"},\"xaxis\":{\"anchor\":\"y\",\"domain\":[0.0,1.0],\"title\":{\"text\":\"Date\"}},\"yaxis\":{\"anchor\":\"x\",\"domain\":[0.0,1.0],\"title\":{\"text\":\"avg of Gap Up Percentage\"}}},                        {\"responsive\": true}                    ).then(function(){\n",
       "                            \n",
       "var gd = document.getElementById('f941ffab-cbda-4e9a-ae6c-105eecab9af7');\n",
       "var x = new MutationObserver(function (mutations, observer) {{\n",
       "        var display = window.getComputedStyle(gd).display;\n",
       "        if (!display || display === 'none') {{\n",
       "            console.log([gd, 'removed!']);\n",
       "            Plotly.purge(gd);\n",
       "            observer.disconnect();\n",
       "        }}\n",
       "}});\n",
       "\n",
       "// Listen for the removal of the full notebook cells\n",
       "var notebookContainer = gd.closest('#notebook-container');\n",
       "if (notebookContainer) {{\n",
       "    x.observe(notebookContainer, {childList: true});\n",
       "}}\n",
       "\n",
       "// Listen for the clearing of the current output cell\n",
       "var outputEl = gd.closest('.output');\n",
       "if (outputEl) {{\n",
       "    x.observe(outputEl, {childList: true});\n",
       "}}\n",
       "\n",
       "                        })                };                });            </script>        </div>"
      ]
     },
     "metadata": {},
     "output_type": "display_data"
    }
   ],
   "source": [
    "\n",
    "import pandas as pd\n",
    "import plotly.express as px\n",
    "\n",
    "# Read the CSV file\n",
    "data = pd.read_csv('./gap_up_results.csv')\n",
    "\n",
    "# Convert 'Date of gap up' column to datetime\n",
    "data['Date of gap up'] = pd.to_datetime(data['Date of gap up'])\n",
    "\n",
    "# Plot histogram\n",
    "fig = px.histogram(data, x='Date of gap up', y='Gap up percentage', color='Stock',\n",
    "                   title='Gap Up Percentage by Date and Stock', \n",
    "                   labels={'Date of gap up': 'Date', 'Gap up percentage': 'Gap Up Percentage'},\n",
    "                   nbins=10, histfunc='avg')\n",
    "\n",
    "# Show the plot\n",
    "fig.show()\n",
    "\n"
   ]
  },
  {
   "cell_type": "code",
   "execution_count": null,
   "id": "f1c22361-dc72-45db-ac79-7451af9eadc5",
   "metadata": {},
   "outputs": [],
   "source": [
    "# import pandas as pd\n",
    "# import matplotlib.pyplot as plt\n",
    "\n",
    "# # Read the CSV file\n",
    "# data = pd.read_csv('./gap_up_results.csv')\n",
    "\n",
    "# # Convert 'Date of gap up' column to datetime\n",
    "# data['Date of gap up'] = pd.to_datetime(data['Date of gap up'])\n",
    "\n",
    "# # Group data by stock\n",
    "# grouped_data = data.groupby('Stock')\n",
    "\n",
    "# # Plot histograms for each stock\n",
    "# fig, axs = plt.subplots(len(grouped_data), figsize=(10, 6 * len(grouped_data)))\n",
    "\n",
    "# for i, (stock, stock_data) in enumerate(grouped_data):\n",
    "#     axs[i].hist(stock_data['Date of gap up'], weights=stock_data['Gap up percentage'], bins=10, alpha=0.7)\n",
    "#     axs[i].set_title(f'{stock} Gap Up Percentage by Date')\n",
    "#     axs[i].set_xlabel('Date')\n",
    "#     axs[i].set_ylabel('Gap Up Percentage')\n",
    "#     axs[i].tick_params(axis='x', rotation=45)\n",
    "\n",
    "# plt.tight_layout()\n",
    "# plt.show()\n"
   ]
  },
  {
   "cell_type": "code",
   "execution_count": null,
   "id": "7e2e7153-420c-40bc-a56f-74a8e1a00623",
   "metadata": {},
   "outputs": [],
   "source": []
  }
 ],
 "metadata": {
  "kernelspec": {
   "display_name": "Python 3 (ipykernel)",
   "language": "python",
   "name": "python3"
  },
  "language_info": {
   "codemirror_mode": {
    "name": "ipython",
    "version": 3
   },
   "file_extension": ".py",
   "mimetype": "text/x-python",
   "name": "python",
   "nbconvert_exporter": "python",
   "pygments_lexer": "ipython3",
   "version": "3.10.12"
  }
 },
 "nbformat": 4,
 "nbformat_minor": 5
}
