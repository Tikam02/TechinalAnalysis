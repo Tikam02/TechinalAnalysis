{
 "cells": [
  {
   "cell_type": "markdown",
   "id": "696c10a4",
   "metadata": {},
   "source": [
    "# Channel Break Out Detection"
   ]
  },
  {
   "cell_type": "markdown",
   "id": "3362e727",
   "metadata": {},
   "source": [
    "## Import Data"
   ]
  },
  {
   "cell_type": "code",
   "execution_count": 1,
   "id": "e0c512aa",
   "metadata": {},
   "outputs": [],
   "source": [
    "import pandas as pd\n",
    "import numpy as np\n",
    "import plotly.graph_objects as go\n",
    "from scipy import stats"
   ]
  },
  {
   "cell_type": "code",
   "execution_count": 2,
   "id": "f3ef14db",
   "metadata": {},
   "outputs": [],
   "source": [
    "df = pd.read_csv(\"EURUSD_Candlestick_1_D_BID_04.05.2003-21.01.2023.csv\")"
   ]
  },
  {
   "cell_type": "markdown",
   "id": "34d9cf7d",
   "metadata": {},
   "source": [
    "## Detect Pivots/Fractals"
   ]
  },
  {
   "cell_type": "code",
   "execution_count": 3,
   "id": "540f55e6",
   "metadata": {},
   "outputs": [],
   "source": [
    "def isPivot(candle, window):\n",
    "    \"\"\"\n",
    "    function that detects if a candle is a pivot/fractal point\n",
    "    args: candle index, window before and after candle to test if pivot\n",
    "    returns: 1 if pivot high, 2 if pivot low, 3 if both and 0 default\n",
    "    \"\"\"\n",
    "    if candle-window < 0 or candle+window >= len(df):\n",
    "        return 0\n",
    "    \n",
    "    pivotHigh = 1\n",
    "    pivotLow = 2\n",
    "    for i in range(candle-window, candle+window+1):\n",
    "        if df.iloc[candle].Low > df.iloc[i].Low:\n",
    "            pivotLow=0\n",
    "        if df.iloc[candle].High < df.iloc[i].High:\n",
    "            pivotHigh=0\n",
    "    if (pivotHigh and pivotLow):\n",
    "        return 3\n",
    "    elif pivotHigh:\n",
    "        return pivotHigh\n",
    "    elif pivotLow:\n",
    "        return pivotLow\n",
    "    else:\n",
    "        return 0\n",
    "    "
   ]
  },
  {
   "cell_type": "code",
   "execution_count": 4,
   "id": "a2dfb53b",
   "metadata": {},
   "outputs": [],
   "source": [
    "window=3\n",
    "df['isPivot'] = df.apply(lambda x: isPivot(x.name,window), axis=1)"
   ]
  },
  {
   "cell_type": "code",
   "execution_count": 5,
   "id": "c8c29fe7",
   "metadata": {},
   "outputs": [],
   "source": [
    "def pointpos(x):\n",
    "    if x['isPivot']==2:\n",
    "        return x['Low']-1e-3\n",
    "    elif x['isPivot']==1:\n",
    "        return x['High']+1e-3\n",
    "    else:\n",
    "        return np.nan\n",
    "df['pointpos'] = df.apply(lambda row: pointpos(row), axis=1)"
   ]
  },
  {
   "cell_type": "code",
   "execution_count": 26,
   "id": "ee61bcd1",
   "metadata": {},
   "outputs": [
    {
     "data": {
      "application/vnd.plotly.v1+json": {
       "config": {
        "plotlyServerURL": "https://plot.ly"
       },
       "data": [
        {
         "close": [
          1.12169,
          1.12924,
          1.14234,
          1.13494,
          1.1482,
          1.14867,
          1.14867,
          1.15605,
          1.15559,
          1.15277,
          1.1477,
          1.13838,
          1.15936,
          1.15936,
          1.16576,
          1.1641,
          1.17321,
          1.16404,
          1.16908,
          1.18378,
          1.18378,
          1.18177,
          1.18567,
          1.18102,
          1.17516,
          1.18922,
          1.17815,
          1.17815,
          1.17203,
          1.17441,
          1.17337,
          1.16444,
          1.18397,
          1.16973,
          1.16973,
          1.16989,
          1.17094,
          1.16773,
          1.17571,
          1.17693,
          1.18651,
          1.18651,
          1.18759,
          1.18178,
          1.17831,
          1.16817,
          1.17041,
          1.16021,
          1.16021,
          1.1585,
          1.1549,
          1.14959,
          1.15365,
          1.1423,
          1.14291,
          1.14291,
          1.14234,
          1.15196,
          1.15613,
          1.153,
          1.14915,
          1.14912,
          1.14912,
          1.14663,
          1.13213,
          1.13135,
          1.13362,
          1.13593,
          1.12773,
          1.12773,
          1.12788,
          1.12702,
          1.11762,
          1.12269,
          1.12323,
          1.1267,
          1.1267,
          1.12452,
          1.13349,
          1.1325,
          1.1483,
          1.14695,
          1.15094,
          1.15094,
          1.14959,
          1.14842,
          1.14413,
          1.13476,
          1.12363,
          1.12709,
          1.12709,
          1.12678,
          1.13523,
          1.13908,
          1.13364,
          1.1364,
          1.13053,
          1.13053,
          1.13053,
          1.13544
         ],
         "high": [
          1.12338,
          1.13009,
          1.14506,
          1.14323,
          1.15077,
          1.15366,
          1.14867,
          1.15645,
          1.16229,
          1.15591,
          1.15352,
          1.1487,
          1.15936,
          1.15936,
          1.16841,
          1.17353,
          1.17364,
          1.17437,
          1.17266,
          1.18411,
          1.18378,
          1.18402,
          1.18744,
          1.19286,
          1.18439,
          1.19144,
          1.18963,
          1.17815,
          1.17813,
          1.17671,
          1.17773,
          1.17463,
          1.1885,
          1.18772,
          1.16973,
          1.17102,
          1.17846,
          1.174,
          1.17805,
          1.18038,
          1.18758,
          1.18651,
          1.18759,
          1.19263,
          1.18652,
          1.18016,
          1.17372,
          1.17333,
          1.16021,
          1.15997,
          1.16028,
          1.15801,
          1.16205,
          1.15425,
          1.14665,
          1.14291,
          1.1436,
          1.1532,
          1.16069,
          1.15668,
          1.15387,
          1.14933,
          1.14912,
          1.14902,
          1.14693,
          1.13498,
          1.1365,
          1.13914,
          1.13601,
          1.12773,
          1.1297,
          1.1307,
          1.13358,
          1.12305,
          1.12477,
          1.13022,
          1.1267,
          1.12711,
          1.1356,
          1.13713,
          1.1491,
          1.15091,
          1.15477,
          1.15094,
          1.15601,
          1.15172,
          1.15365,
          1.14509,
          1.13611,
          1.1281,
          1.12709,
          1.12883,
          1.13734,
          1.13969,
          1.1425,
          1.14138,
          1.13774,
          1.13053,
          1.13053,
          1.13788
         ],
         "low": [
          1.1216,
          1.12014,
          1.12723,
          1.13265,
          1.13006,
          1.14346,
          1.14867,
          1.14867,
          1.15225,
          1.1462,
          1.14661,
          1.13702,
          1.13675,
          1.15936,
          1.1583,
          1.16205,
          1.15998,
          1.16226,
          1.16181,
          1.16635,
          1.18378,
          1.18144,
          1.17955,
          1.1807,
          1.17037,
          1.16909,
          1.17419,
          1.17815,
          1.17058,
          1.16504,
          1.16858,
          1.16321,
          1.16273,
          1.16829,
          1.16973,
          1.16839,
          1.16548,
          1.1662,
          1.16571,
          1.1702,
          1.17338,
          1.18651,
          1.18573,
          1.18125,
          1.1767,
          1.16604,
          1.15826,
          1.15501,
          1.16021,
          1.15707,
          1.15069,
          1.1475,
          1.14937,
          1.14105,
          1.13984,
          1.14291,
          1.1419,
          1.13964,
          1.15045,
          1.15035,
          1.14316,
          1.14462,
          1.14912,
          1.14526,
          1.1308,
          1.12577,
          1.13029,
          1.13085,
          1.12735,
          1.12773,
          1.1266,
          1.1241,
          1.1155,
          1.11113,
          1.11556,
          1.11701,
          1.1267,
          1.12434,
          1.12401,
          1.13044,
          1.13119,
          1.1422,
          1.14425,
          1.15094,
          1.14716,
          1.14511,
          1.14268,
          1.13338,
          1.12222,
          1.11338,
          1.12709,
          1.1263,
          1.12564,
          1.13054,
          1.13238,
          1.13173,
          1.12861,
          1.13053,
          1.13053,
          1.12615
         ],
         "open": [
          1.12273,
          1.12161,
          1.12921,
          1.14218,
          1.13507,
          1.14831,
          1.14867,
          1.1487,
          1.15632,
          1.15544,
          1.15265,
          1.14767,
          1.13825,
          1.15936,
          1.15938,
          1.16546,
          1.16404,
          1.17312,
          1.16424,
          1.16892,
          1.18378,
          1.18387,
          1.18158,
          1.18548,
          1.18107,
          1.17522,
          1.18908,
          1.17815,
          1.178,
          1.172,
          1.17411,
          1.17324,
          1.16448,
          1.18391,
          1.16973,
          1.16977,
          1.16983,
          1.17087,
          1.16755,
          1.1755,
          1.17674,
          1.18651,
          1.18663,
          1.18763,
          1.18178,
          1.1781,
          1.16816,
          1.17026,
          1.16021,
          1.15922,
          1.15839,
          1.15488,
          1.14968,
          1.15352,
          1.14231,
          1.14291,
          1.1428,
          1.14228,
          1.15201,
          1.15593,
          1.15282,
          1.14888,
          1.14912,
          1.14902,
          1.14641,
          1.13219,
          1.13165,
          1.13356,
          1.13552,
          1.12773,
          1.12773,
          1.12776,
          1.12701,
          1.11763,
          1.12243,
          1.12336,
          1.1267,
          1.12673,
          1.12439,
          1.13309,
          1.13224,
          1.14842,
          1.14668,
          1.15094,
          1.15583,
          1.14939,
          1.14852,
          1.1441,
          1.13501,
          1.1235,
          1.12709,
          1.1277,
          1.12672,
          1.13518,
          1.13868,
          1.13375,
          1.13632,
          1.13053,
          1.13053,
          1.12882
         ],
         "type": "candlestick",
         "x": [
          0,
          1,
          2,
          3,
          4,
          5,
          6,
          7,
          8,
          9,
          10,
          11,
          12,
          13,
          14,
          15,
          16,
          17,
          18,
          19,
          20,
          21,
          22,
          23,
          24,
          25,
          26,
          27,
          28,
          29,
          30,
          31,
          32,
          33,
          34,
          35,
          36,
          37,
          38,
          39,
          40,
          41,
          42,
          43,
          44,
          45,
          46,
          47,
          48,
          49,
          50,
          51,
          52,
          53,
          54,
          55,
          56,
          57,
          58,
          59,
          60,
          61,
          62,
          63,
          64,
          65,
          66,
          67,
          68,
          69,
          70,
          71,
          72,
          73,
          74,
          75,
          76,
          77,
          78,
          79,
          80,
          81,
          82,
          83,
          84,
          85,
          86,
          87,
          88,
          89,
          90,
          91,
          92,
          93,
          94,
          95,
          96,
          97,
          98,
          99
         ]
        },
        {
         "marker": {
          "color": "MediumPurple",
          "size": 5
         },
         "mode": "markers",
         "name": "pivot",
         "type": "scatter",
         "x": [
          0,
          1,
          2,
          3,
          4,
          5,
          6,
          7,
          8,
          9,
          10,
          11,
          12,
          13,
          14,
          15,
          16,
          17,
          18,
          19,
          20,
          21,
          22,
          23,
          24,
          25,
          26,
          27,
          28,
          29,
          30,
          31,
          32,
          33,
          34,
          35,
          36,
          37,
          38,
          39,
          40,
          41,
          42,
          43,
          44,
          45,
          46,
          47,
          48,
          49,
          50,
          51,
          52,
          53,
          54,
          55,
          56,
          57,
          58,
          59,
          60,
          61,
          62,
          63,
          64,
          65,
          66,
          67,
          68,
          69,
          70,
          71,
          72,
          73,
          74,
          75,
          76,
          77,
          78,
          79,
          80,
          81,
          82,
          83,
          84,
          85,
          86,
          87,
          88,
          89,
          90,
          91,
          92,
          93,
          94,
          95,
          96,
          97,
          98,
          99
         ],
         "y": [
          null,
          null,
          null,
          null,
          null,
          null,
          null,
          null,
          1.16329,
          null,
          null,
          null,
          1.13575,
          null,
          null,
          null,
          null,
          null,
          null,
          null,
          null,
          null,
          null,
          1.19386,
          null,
          1.16809,
          null,
          null,
          null,
          null,
          null,
          null,
          null,
          null,
          null,
          null,
          1.1644800000000002,
          null,
          null,
          null,
          null,
          null,
          null,
          1.19363,
          null,
          null,
          null,
          null,
          null,
          null,
          null,
          null,
          1.16305,
          null,
          null,
          null,
          null,
          1.13864,
          1.16169,
          null,
          null,
          null,
          null,
          null,
          null,
          1.12477,
          null,
          null,
          null,
          null,
          null,
          null,
          1.13458,
          1.11013,
          null,
          null,
          null,
          null,
          null,
          null,
          null,
          null,
          null,
          null,
          1.1570099999999999,
          null,
          null,
          null,
          null,
          1.1123800000000001,
          null,
          null,
          null,
          null,
          1.1435,
          null,
          null,
          null,
          null,
          1.13888
         ]
        }
       ],
       "layout": {
        "autosize": true,
        "template": {
         "data": {
          "bar": [
           {
            "error_x": {
             "color": "#2a3f5f"
            },
            "error_y": {
             "color": "#2a3f5f"
            },
            "marker": {
             "line": {
              "color": "#E5ECF6",
              "width": 0.5
             },
             "pattern": {
              "fillmode": "overlay",
              "size": 10,
              "solidity": 0.2
             }
            },
            "type": "bar"
           }
          ],
          "barpolar": [
           {
            "marker": {
             "line": {
              "color": "#E5ECF6",
              "width": 0.5
             },
             "pattern": {
              "fillmode": "overlay",
              "size": 10,
              "solidity": 0.2
             }
            },
            "type": "barpolar"
           }
          ],
          "carpet": [
           {
            "aaxis": {
             "endlinecolor": "#2a3f5f",
             "gridcolor": "white",
             "linecolor": "white",
             "minorgridcolor": "white",
             "startlinecolor": "#2a3f5f"
            },
            "baxis": {
             "endlinecolor": "#2a3f5f",
             "gridcolor": "white",
             "linecolor": "white",
             "minorgridcolor": "white",
             "startlinecolor": "#2a3f5f"
            },
            "type": "carpet"
           }
          ],
          "choropleth": [
           {
            "colorbar": {
             "outlinewidth": 0,
             "ticks": ""
            },
            "type": "choropleth"
           }
          ],
          "contour": [
           {
            "colorbar": {
             "outlinewidth": 0,
             "ticks": ""
            },
            "colorscale": [
             [
              0,
              "#0d0887"
             ],
             [
              0.1111111111111111,
              "#46039f"
             ],
             [
              0.2222222222222222,
              "#7201a8"
             ],
             [
              0.3333333333333333,
              "#9c179e"
             ],
             [
              0.4444444444444444,
              "#bd3786"
             ],
             [
              0.5555555555555556,
              "#d8576b"
             ],
             [
              0.6666666666666666,
              "#ed7953"
             ],
             [
              0.7777777777777778,
              "#fb9f3a"
             ],
             [
              0.8888888888888888,
              "#fdca26"
             ],
             [
              1,
              "#f0f921"
             ]
            ],
            "type": "contour"
           }
          ],
          "contourcarpet": [
           {
            "colorbar": {
             "outlinewidth": 0,
             "ticks": ""
            },
            "type": "contourcarpet"
           }
          ],
          "heatmap": [
           {
            "colorbar": {
             "outlinewidth": 0,
             "ticks": ""
            },
            "colorscale": [
             [
              0,
              "#0d0887"
             ],
             [
              0.1111111111111111,
              "#46039f"
             ],
             [
              0.2222222222222222,
              "#7201a8"
             ],
             [
              0.3333333333333333,
              "#9c179e"
             ],
             [
              0.4444444444444444,
              "#bd3786"
             ],
             [
              0.5555555555555556,
              "#d8576b"
             ],
             [
              0.6666666666666666,
              "#ed7953"
             ],
             [
              0.7777777777777778,
              "#fb9f3a"
             ],
             [
              0.8888888888888888,
              "#fdca26"
             ],
             [
              1,
              "#f0f921"
             ]
            ],
            "type": "heatmap"
           }
          ],
          "heatmapgl": [
           {
            "colorbar": {
             "outlinewidth": 0,
             "ticks": ""
            },
            "colorscale": [
             [
              0,
              "#0d0887"
             ],
             [
              0.1111111111111111,
              "#46039f"
             ],
             [
              0.2222222222222222,
              "#7201a8"
             ],
             [
              0.3333333333333333,
              "#9c179e"
             ],
             [
              0.4444444444444444,
              "#bd3786"
             ],
             [
              0.5555555555555556,
              "#d8576b"
             ],
             [
              0.6666666666666666,
              "#ed7953"
             ],
             [
              0.7777777777777778,
              "#fb9f3a"
             ],
             [
              0.8888888888888888,
              "#fdca26"
             ],
             [
              1,
              "#f0f921"
             ]
            ],
            "type": "heatmapgl"
           }
          ],
          "histogram": [
           {
            "marker": {
             "pattern": {
              "fillmode": "overlay",
              "size": 10,
              "solidity": 0.2
             }
            },
            "type": "histogram"
           }
          ],
          "histogram2d": [
           {
            "colorbar": {
             "outlinewidth": 0,
             "ticks": ""
            },
            "colorscale": [
             [
              0,
              "#0d0887"
             ],
             [
              0.1111111111111111,
              "#46039f"
             ],
             [
              0.2222222222222222,
              "#7201a8"
             ],
             [
              0.3333333333333333,
              "#9c179e"
             ],
             [
              0.4444444444444444,
              "#bd3786"
             ],
             [
              0.5555555555555556,
              "#d8576b"
             ],
             [
              0.6666666666666666,
              "#ed7953"
             ],
             [
              0.7777777777777778,
              "#fb9f3a"
             ],
             [
              0.8888888888888888,
              "#fdca26"
             ],
             [
              1,
              "#f0f921"
             ]
            ],
            "type": "histogram2d"
           }
          ],
          "histogram2dcontour": [
           {
            "colorbar": {
             "outlinewidth": 0,
             "ticks": ""
            },
            "colorscale": [
             [
              0,
              "#0d0887"
             ],
             [
              0.1111111111111111,
              "#46039f"
             ],
             [
              0.2222222222222222,
              "#7201a8"
             ],
             [
              0.3333333333333333,
              "#9c179e"
             ],
             [
              0.4444444444444444,
              "#bd3786"
             ],
             [
              0.5555555555555556,
              "#d8576b"
             ],
             [
              0.6666666666666666,
              "#ed7953"
             ],
             [
              0.7777777777777778,
              "#fb9f3a"
             ],
             [
              0.8888888888888888,
              "#fdca26"
             ],
             [
              1,
              "#f0f921"
             ]
            ],
            "type": "histogram2dcontour"
           }
          ],
          "mesh3d": [
           {
            "colorbar": {
             "outlinewidth": 0,
             "ticks": ""
            },
            "type": "mesh3d"
           }
          ],
          "parcoords": [
           {
            "line": {
             "colorbar": {
              "outlinewidth": 0,
              "ticks": ""
             }
            },
            "type": "parcoords"
           }
          ],
          "pie": [
           {
            "automargin": true,
            "type": "pie"
           }
          ],
          "scatter": [
           {
            "marker": {
             "colorbar": {
              "outlinewidth": 0,
              "ticks": ""
             }
            },
            "type": "scatter"
           }
          ],
          "scatter3d": [
           {
            "line": {
             "colorbar": {
              "outlinewidth": 0,
              "ticks": ""
             }
            },
            "marker": {
             "colorbar": {
              "outlinewidth": 0,
              "ticks": ""
             }
            },
            "type": "scatter3d"
           }
          ],
          "scattercarpet": [
           {
            "marker": {
             "colorbar": {
              "outlinewidth": 0,
              "ticks": ""
             }
            },
            "type": "scattercarpet"
           }
          ],
          "scattergeo": [
           {
            "marker": {
             "colorbar": {
              "outlinewidth": 0,
              "ticks": ""
             }
            },
            "type": "scattergeo"
           }
          ],
          "scattergl": [
           {
            "marker": {
             "colorbar": {
              "outlinewidth": 0,
              "ticks": ""
             }
            },
            "type": "scattergl"
           }
          ],
          "scattermapbox": [
           {
            "marker": {
             "colorbar": {
              "outlinewidth": 0,
              "ticks": ""
             }
            },
            "type": "scattermapbox"
           }
          ],
          "scatterpolar": [
           {
            "marker": {
             "colorbar": {
              "outlinewidth": 0,
              "ticks": ""
             }
            },
            "type": "scatterpolar"
           }
          ],
          "scatterpolargl": [
           {
            "marker": {
             "colorbar": {
              "outlinewidth": 0,
              "ticks": ""
             }
            },
            "type": "scatterpolargl"
           }
          ],
          "scatterternary": [
           {
            "marker": {
             "colorbar": {
              "outlinewidth": 0,
              "ticks": ""
             }
            },
            "type": "scatterternary"
           }
          ],
          "surface": [
           {
            "colorbar": {
             "outlinewidth": 0,
             "ticks": ""
            },
            "colorscale": [
             [
              0,
              "#0d0887"
             ],
             [
              0.1111111111111111,
              "#46039f"
             ],
             [
              0.2222222222222222,
              "#7201a8"
             ],
             [
              0.3333333333333333,
              "#9c179e"
             ],
             [
              0.4444444444444444,
              "#bd3786"
             ],
             [
              0.5555555555555556,
              "#d8576b"
             ],
             [
              0.6666666666666666,
              "#ed7953"
             ],
             [
              0.7777777777777778,
              "#fb9f3a"
             ],
             [
              0.8888888888888888,
              "#fdca26"
             ],
             [
              1,
              "#f0f921"
             ]
            ],
            "type": "surface"
           }
          ],
          "table": [
           {
            "cells": {
             "fill": {
              "color": "#EBF0F8"
             },
             "line": {
              "color": "white"
             }
            },
            "header": {
             "fill": {
              "color": "#C8D4E3"
             },
             "line": {
              "color": "white"
             }
            },
            "type": "table"
           }
          ]
         },
         "layout": {
          "annotationdefaults": {
           "arrowcolor": "#2a3f5f",
           "arrowhead": 0,
           "arrowwidth": 1
          },
          "autotypenumbers": "strict",
          "coloraxis": {
           "colorbar": {
            "outlinewidth": 0,
            "ticks": ""
           }
          },
          "colorscale": {
           "diverging": [
            [
             0,
             "#8e0152"
            ],
            [
             0.1,
             "#c51b7d"
            ],
            [
             0.2,
             "#de77ae"
            ],
            [
             0.3,
             "#f1b6da"
            ],
            [
             0.4,
             "#fde0ef"
            ],
            [
             0.5,
             "#f7f7f7"
            ],
            [
             0.6,
             "#e6f5d0"
            ],
            [
             0.7,
             "#b8e186"
            ],
            [
             0.8,
             "#7fbc41"
            ],
            [
             0.9,
             "#4d9221"
            ],
            [
             1,
             "#276419"
            ]
           ],
           "sequential": [
            [
             0,
             "#0d0887"
            ],
            [
             0.1111111111111111,
             "#46039f"
            ],
            [
             0.2222222222222222,
             "#7201a8"
            ],
            [
             0.3333333333333333,
             "#9c179e"
            ],
            [
             0.4444444444444444,
             "#bd3786"
            ],
            [
             0.5555555555555556,
             "#d8576b"
            ],
            [
             0.6666666666666666,
             "#ed7953"
            ],
            [
             0.7777777777777778,
             "#fb9f3a"
            ],
            [
             0.8888888888888888,
             "#fdca26"
            ],
            [
             1,
             "#f0f921"
            ]
           ],
           "sequentialminus": [
            [
             0,
             "#0d0887"
            ],
            [
             0.1111111111111111,
             "#46039f"
            ],
            [
             0.2222222222222222,
             "#7201a8"
            ],
            [
             0.3333333333333333,
             "#9c179e"
            ],
            [
             0.4444444444444444,
             "#bd3786"
            ],
            [
             0.5555555555555556,
             "#d8576b"
            ],
            [
             0.6666666666666666,
             "#ed7953"
            ],
            [
             0.7777777777777778,
             "#fb9f3a"
            ],
            [
             0.8888888888888888,
             "#fdca26"
            ],
            [
             1,
             "#f0f921"
            ]
           ]
          },
          "colorway": [
           "#636efa",
           "#EF553B",
           "#00cc96",
           "#ab63fa",
           "#FFA15A",
           "#19d3f3",
           "#FF6692",
           "#B6E880",
           "#FF97FF",
           "#FECB52"
          ],
          "font": {
           "color": "#2a3f5f"
          },
          "geo": {
           "bgcolor": "white",
           "lakecolor": "white",
           "landcolor": "#E5ECF6",
           "showlakes": true,
           "showland": true,
           "subunitcolor": "white"
          },
          "hoverlabel": {
           "align": "left"
          },
          "hovermode": "closest",
          "mapbox": {
           "style": "light"
          },
          "paper_bgcolor": "white",
          "plot_bgcolor": "#E5ECF6",
          "polar": {
           "angularaxis": {
            "gridcolor": "white",
            "linecolor": "white",
            "ticks": ""
           },
           "bgcolor": "#E5ECF6",
           "radialaxis": {
            "gridcolor": "white",
            "linecolor": "white",
            "ticks": ""
           }
          },
          "scene": {
           "xaxis": {
            "backgroundcolor": "#E5ECF6",
            "gridcolor": "white",
            "gridwidth": 2,
            "linecolor": "white",
            "showbackground": true,
            "ticks": "",
            "zerolinecolor": "white"
           },
           "yaxis": {
            "backgroundcolor": "#E5ECF6",
            "gridcolor": "white",
            "gridwidth": 2,
            "linecolor": "white",
            "showbackground": true,
            "ticks": "",
            "zerolinecolor": "white"
           },
           "zaxis": {
            "backgroundcolor": "#E5ECF6",
            "gridcolor": "white",
            "gridwidth": 2,
            "linecolor": "white",
            "showbackground": true,
            "ticks": "",
            "zerolinecolor": "white"
           }
          },
          "shapedefaults": {
           "line": {
            "color": "#2a3f5f"
           }
          },
          "ternary": {
           "aaxis": {
            "gridcolor": "white",
            "linecolor": "white",
            "ticks": ""
           },
           "baxis": {
            "gridcolor": "white",
            "linecolor": "white",
            "ticks": ""
           },
           "bgcolor": "#E5ECF6",
           "caxis": {
            "gridcolor": "white",
            "linecolor": "white",
            "ticks": ""
           }
          },
          "title": {
           "x": 0.05
          },
          "xaxis": {
           "automargin": true,
           "gridcolor": "white",
           "linecolor": "white",
           "ticks": "",
           "title": {
            "standoff": 15
           },
           "zerolinecolor": "white",
           "zerolinewidth": 2
          },
          "yaxis": {
           "automargin": true,
           "gridcolor": "white",
           "linecolor": "white",
           "ticks": "",
           "title": {
            "standoff": 15
           },
           "zerolinecolor": "white",
           "zerolinewidth": 2
          }
         }
        },
        "xaxis": {
         "autorange": true,
         "range": [
          -5.801680635394271,
          104.80168063539428
         ],
         "rangeslider": {
          "autorange": true,
          "range": [
           -5.801680635394271,
           104.80168063539428
          ],
          "yaxis": {
           "_template": null,
           "rangemode": "match"
          }
         },
         "type": "linear"
        },
        "yaxis": {
         "autorange": true,
         "range": [
          1.1026707122163206,
          1.2013192877836794
         ],
         "type": "linear"
        }
       }
      },
      "image/png": "[encoded data removed]",
      "text/html": [
       "<div>                            <div id=\"31f64922-099b-4de3-b802-0f38e7d38b71\" class=\"plotly-graph-div\" style=\"height:525px; width:100%;\"></div>            <script type=\"text/javascript\">                require([\"plotly\"], function(Plotly) {                    window.PLOTLYENV=window.PLOTLYENV || {};                                    if (document.getElementById(\"31f64922-099b-4de3-b802-0f38e7d38b71\")) {                    Plotly.newPlot(                        \"31f64922-099b-4de3-b802-0f38e7d38b71\",                        [{\"close\":[1.12169,1.12924,1.14234,1.13494,1.1482,1.14867,1.14867,1.15605,1.15559,1.15277,1.1477,1.13838,1.15936,1.15936,1.16576,1.1641,1.17321,1.16404,1.16908,1.18378,1.18378,1.18177,1.18567,1.18102,1.17516,1.18922,1.17815,1.17815,1.17203,1.17441,1.17337,1.16444,1.18397,1.16973,1.16973,1.16989,1.17094,1.16773,1.17571,1.17693,1.18651,1.18651,1.18759,1.18178,1.17831,1.16817,1.17041,1.16021,1.16021,1.1585,1.1549,1.14959,1.15365,1.1423,1.14291,1.14291,1.14234,1.15196,1.15613,1.153,1.14915,1.14912,1.14912,1.14663,1.13213,1.13135,1.13362,1.13593,1.12773,1.12773,1.12788,1.12702,1.11762,1.12269,1.12323,1.1267,1.1267,1.12452,1.13349,1.1325,1.1483,1.14695,1.15094,1.15094,1.14959,1.14842,1.14413,1.13476,1.12363,1.12709,1.12709,1.12678,1.13523,1.13908,1.13364,1.1364,1.13053,1.13053,1.13053,1.13544],\"high\":[1.12338,1.13009,1.14506,1.14323,1.15077,1.15366,1.14867,1.15645,1.16229,1.15591,1.15352,1.1487,1.15936,1.15936,1.16841,1.17353,1.17364,1.17437,1.17266,1.18411,1.18378,1.18402,1.18744,1.19286,1.18439,1.19144,1.18963,1.17815,1.17813,1.17671,1.17773,1.17463,1.1885,1.18772,1.16973,1.17102,1.17846,1.174,1.17805,1.18038,1.18758,1.18651,1.18759,1.19263,1.18652,1.18016,1.17372,1.17333,1.16021,1.15997,1.16028,1.15801,1.16205,1.15425,1.14665,1.14291,1.1436,1.1532,1.16069,1.15668,1.15387,1.14933,1.14912,1.14902,1.14693,1.13498,1.1365,1.13914,1.13601,1.12773,1.1297,1.1307,1.13358,1.12305,1.12477,1.13022,1.1267,1.12711,1.1356,1.13713,1.1491,1.15091,1.15477,1.15094,1.15601,1.15172,1.15365,1.14509,1.13611,1.1281,1.12709,1.12883,1.13734,1.13969,1.1425,1.14138,1.13774,1.13053,1.13053,1.13788],\"low\":[1.1216,1.12014,1.12723,1.13265,1.13006,1.14346,1.14867,1.14867,1.15225,1.1462,1.14661,1.13702,1.13675,1.15936,1.1583,1.16205,1.15998,1.16226,1.16181,1.16635,1.18378,1.18144,1.17955,1.1807,1.17037,1.16909,1.17419,1.17815,1.17058,1.16504,1.16858,1.16321,1.16273,1.16829,1.16973,1.16839,1.16548,1.1662,1.16571,1.1702,1.17338,1.18651,1.18573,1.18125,1.1767,1.16604,1.15826,1.15501,1.16021,1.15707,1.15069,1.1475,1.14937,1.14105,1.13984,1.14291,1.1419,1.13964,1.15045,1.15035,1.14316,1.14462,1.14912,1.14526,1.1308,1.12577,1.13029,1.13085,1.12735,1.12773,1.1266,1.1241,1.1155,1.11113,1.11556,1.11701,1.1267,1.12434,1.12401,1.13044,1.13119,1.1422,1.14425,1.15094,1.14716,1.14511,1.14268,1.13338,1.12222,1.11338,1.12709,1.1263,1.12564,1.13054,1.13238,1.13173,1.12861,1.13053,1.13053,1.12615],\"open\":[1.12273,1.12161,1.12921,1.14218,1.13507,1.14831,1.14867,1.1487,1.15632,1.15544,1.15265,1.14767,1.13825,1.15936,1.15938,1.16546,1.16404,1.17312,1.16424,1.16892,1.18378,1.18387,1.18158,1.18548,1.18107,1.17522,1.18908,1.17815,1.178,1.172,1.17411,1.17324,1.16448,1.18391,1.16973,1.16977,1.16983,1.17087,1.16755,1.1755,1.17674,1.18651,1.18663,1.18763,1.18178,1.1781,1.16816,1.17026,1.16021,1.15922,1.15839,1.15488,1.14968,1.15352,1.14231,1.14291,1.1428,1.14228,1.15201,1.15593,1.15282,1.14888,1.14912,1.14902,1.14641,1.13219,1.13165,1.13356,1.13552,1.12773,1.12773,1.12776,1.12701,1.11763,1.12243,1.12336,1.1267,1.12673,1.12439,1.13309,1.13224,1.14842,1.14668,1.15094,1.15583,1.14939,1.14852,1.1441,1.13501,1.1235,1.12709,1.1277,1.12672,1.13518,1.13868,1.13375,1.13632,1.13053,1.13053,1.12882],\"type\":\"candlestick\",\"x\":[0,1,2,3,4,5,6,7,8,9,10,11,12,13,14,15,16,17,18,19,20,21,22,23,24,25,26,27,28,29,30,31,32,33,34,35,36,37,38,39,40,41,42,43,44,45,46,47,48,49,50,51,52,53,54,55,56,57,58,59,60,61,62,63,64,65,66,67,68,69,70,71,72,73,74,75,76,77,78,79,80,81,82,83,84,85,86,87,88,89,90,91,92,93,94,95,96,97,98,99]},{\"marker\":{\"color\":\"MediumPurple\",\"size\":5},\"mode\":\"markers\",\"name\":\"pivot\",\"type\":\"scatter\",\"x\":[0,1,2,3,4,5,6,7,8,9,10,11,12,13,14,15,16,17,18,19,20,21,22,23,24,25,26,27,28,29,30,31,32,33,34,35,36,37,38,39,40,41,42,43,44,45,46,47,48,49,50,51,52,53,54,55,56,57,58,59,60,61,62,63,64,65,66,67,68,69,70,71,72,73,74,75,76,77,78,79,80,81,82,83,84,85,86,87,88,89,90,91,92,93,94,95,96,97,98,99],\"y\":[null,null,null,null,null,null,null,null,1.16329,null,null,null,1.13575,null,null,null,null,null,null,null,null,null,null,1.19386,null,1.16809,null,null,null,null,null,null,null,null,null,null,1.1644800000000002,null,null,null,null,null,null,1.19363,null,null,null,null,null,null,null,null,1.16305,null,null,null,null,1.13864,1.16169,null,null,null,null,null,null,1.12477,null,null,null,null,null,null,1.13458,1.11013,null,null,null,null,null,null,null,null,null,null,1.1570099999999999,null,null,null,null,1.1123800000000001,null,null,null,null,1.1435,null,null,null,null,1.13888]}],                        {\"template\":{\"data\":{\"bar\":[{\"error_x\":{\"color\":\"#2a3f5f\"},\"error_y\":{\"color\":\"#2a3f5f\"},\"marker\":{\"line\":{\"color\":\"#E5ECF6\",\"width\":0.5},\"pattern\":{\"fillmode\":\"overlay\",\"size\":10,\"solidity\":0.2}},\"type\":\"bar\"}],\"barpolar\":[{\"marker\":{\"line\":{\"color\":\"#E5ECF6\",\"width\":0.5},\"pattern\":{\"fillmode\":\"overlay\",\"size\":10,\"solidity\":0.2}},\"type\":\"barpolar\"}],\"carpet\":[{\"aaxis\":{\"endlinecolor\":\"#2a3f5f\",\"gridcolor\":\"white\",\"linecolor\":\"white\",\"minorgridcolor\":\"white\",\"startlinecolor\":\"#2a3f5f\"},\"baxis\":{\"endlinecolor\":\"#2a3f5f\",\"gridcolor\":\"white\",\"linecolor\":\"white\",\"minorgridcolor\":\"white\",\"startlinecolor\":\"#2a3f5f\"},\"type\":\"carpet\"}],\"choropleth\":[{\"colorbar\":{\"outlinewidth\":0,\"ticks\":\"\"},\"type\":\"choropleth\"}],\"contour\":[{\"colorbar\":{\"outlinewidth\":0,\"ticks\":\"\"},\"colorscale\":[[0.0,\"#0d0887\"],[0.1111111111111111,\"#46039f\"],[0.2222222222222222,\"#7201a8\"],[0.3333333333333333,\"#9c179e\"],[0.4444444444444444,\"#bd3786\"],[0.5555555555555556,\"#d8576b\"],[0.6666666666666666,\"#ed7953\"],[0.7777777777777778,\"#fb9f3a\"],[0.8888888888888888,\"#fdca26\"],[1.0,\"#f0f921\"]],\"type\":\"contour\"}],\"contourcarpet\":[{\"colorbar\":{\"outlinewidth\":0,\"ticks\":\"\"},\"type\":\"contourcarpet\"}],\"heatmap\":[{\"colorbar\":{\"outlinewidth\":0,\"ticks\":\"\"},\"colorscale\":[[0.0,\"#0d0887\"],[0.1111111111111111,\"#46039f\"],[0.2222222222222222,\"#7201a8\"],[0.3333333333333333,\"#9c179e\"],[0.4444444444444444,\"#bd3786\"],[0.5555555555555556,\"#d8576b\"],[0.6666666666666666,\"#ed7953\"],[0.7777777777777778,\"#fb9f3a\"],[0.8888888888888888,\"#fdca26\"],[1.0,\"#f0f921\"]],\"type\":\"heatmap\"}],\"heatmapgl\":[{\"colorbar\":{\"outlinewidth\":0,\"ticks\":\"\"},\"colorscale\":[[0.0,\"#0d0887\"],[0.1111111111111111,\"#46039f\"],[0.2222222222222222,\"#7201a8\"],[0.3333333333333333,\"#9c179e\"],[0.4444444444444444,\"#bd3786\"],[0.5555555555555556,\"#d8576b\"],[0.6666666666666666,\"#ed7953\"],[0.7777777777777778,\"#fb9f3a\"],[0.8888888888888888,\"#fdca26\"],[1.0,\"#f0f921\"]],\"type\":\"heatmapgl\"}],\"histogram\":[{\"marker\":{\"pattern\":{\"fillmode\":\"overlay\",\"size\":10,\"solidity\":0.2}},\"type\":\"histogram\"}],\"histogram2d\":[{\"colorbar\":{\"outlinewidth\":0,\"ticks\":\"\"},\"colorscale\":[[0.0,\"#0d0887\"],[0.1111111111111111,\"#46039f\"],[0.2222222222222222,\"#7201a8\"],[0.3333333333333333,\"#9c179e\"],[0.4444444444444444,\"#bd3786\"],[0.5555555555555556,\"#d8576b\"],[0.6666666666666666,\"#ed7953\"],[0.7777777777777778,\"#fb9f3a\"],[0.8888888888888888,\"#fdca26\"],[1.0,\"#f0f921\"]],\"type\":\"histogram2d\"}],\"histogram2dcontour\":[{\"colorbar\":{\"outlinewidth\":0,\"ticks\":\"\"},\"colorscale\":[[0.0,\"#0d0887\"],[0.1111111111111111,\"#46039f\"],[0.2222222222222222,\"#7201a8\"],[0.3333333333333333,\"#9c179e\"],[0.4444444444444444,\"#bd3786\"],[0.5555555555555556,\"#d8576b\"],[0.6666666666666666,\"#ed7953\"],[0.7777777777777778,\"#fb9f3a\"],[0.8888888888888888,\"#fdca26\"],[1.0,\"#f0f921\"]],\"type\":\"histogram2dcontour\"}],\"mesh3d\":[{\"colorbar\":{\"outlinewidth\":0,\"ticks\":\"\"},\"type\":\"mesh3d\"}],\"parcoords\":[{\"line\":{\"colorbar\":{\"outlinewidth\":0,\"ticks\":\"\"}},\"type\":\"parcoords\"}],\"pie\":[{\"automargin\":true,\"type\":\"pie\"}],\"scatter\":[{\"marker\":{\"colorbar\":{\"outlinewidth\":0,\"ticks\":\"\"}},\"type\":\"scatter\"}],\"scatter3d\":[{\"line\":{\"colorbar\":{\"outlinewidth\":0,\"ticks\":\"\"}},\"marker\":{\"colorbar\":{\"outlinewidth\":0,\"ticks\":\"\"}},\"type\":\"scatter3d\"}],\"scattercarpet\":[{\"marker\":{\"colorbar\":{\"outlinewidth\":0,\"ticks\":\"\"}},\"type\":\"scattercarpet\"}],\"scattergeo\":[{\"marker\":{\"colorbar\":{\"outlinewidth\":0,\"ticks\":\"\"}},\"type\":\"scattergeo\"}],\"scattergl\":[{\"marker\":{\"colorbar\":{\"outlinewidth\":0,\"ticks\":\"\"}},\"type\":\"scattergl\"}],\"scattermapbox\":[{\"marker\":{\"colorbar\":{\"outlinewidth\":0,\"ticks\":\"\"}},\"type\":\"scattermapbox\"}],\"scatterpolar\":[{\"marker\":{\"colorbar\":{\"outlinewidth\":0,\"ticks\":\"\"}},\"type\":\"scatterpolar\"}],\"scatterpolargl\":[{\"marker\":{\"colorbar\":{\"outlinewidth\":0,\"ticks\":\"\"}},\"type\":\"scatterpolargl\"}],\"scatterternary\":[{\"marker\":{\"colorbar\":{\"outlinewidth\":0,\"ticks\":\"\"}},\"type\":\"scatterternary\"}],\"surface\":[{\"colorbar\":{\"outlinewidth\":0,\"ticks\":\"\"},\"colorscale\":[[0.0,\"#0d0887\"],[0.1111111111111111,\"#46039f\"],[0.2222222222222222,\"#7201a8\"],[0.3333333333333333,\"#9c179e\"],[0.4444444444444444,\"#bd3786\"],[0.5555555555555556,\"#d8576b\"],[0.6666666666666666,\"#ed7953\"],[0.7777777777777778,\"#fb9f3a\"],[0.8888888888888888,\"#fdca26\"],[1.0,\"#f0f921\"]],\"type\":\"surface\"}],\"table\":[{\"cells\":{\"fill\":{\"color\":\"#EBF0F8\"},\"line\":{\"color\":\"white\"}},\"header\":{\"fill\":{\"color\":\"#C8D4E3\"},\"line\":{\"color\":\"white\"}},\"type\":\"table\"}]},\"layout\":{\"annotationdefaults\":{\"arrowcolor\":\"#2a3f5f\",\"arrowhead\":0,\"arrowwidth\":1},\"autotypenumbers\":\"strict\",\"coloraxis\":{\"colorbar\":{\"outlinewidth\":0,\"ticks\":\"\"}},\"colorscale\":{\"diverging\":[[0,\"#8e0152\"],[0.1,\"#c51b7d\"],[0.2,\"#de77ae\"],[0.3,\"#f1b6da\"],[0.4,\"#fde0ef\"],[0.5,\"#f7f7f7\"],[0.6,\"#e6f5d0\"],[0.7,\"#b8e186\"],[0.8,\"#7fbc41\"],[0.9,\"#4d9221\"],[1,\"#276419\"]],\"sequential\":[[0.0,\"#0d0887\"],[0.1111111111111111,\"#46039f\"],[0.2222222222222222,\"#7201a8\"],[0.3333333333333333,\"#9c179e\"],[0.4444444444444444,\"#bd3786\"],[0.5555555555555556,\"#d8576b\"],[0.6666666666666666,\"#ed7953\"],[0.7777777777777778,\"#fb9f3a\"],[0.8888888888888888,\"#fdca26\"],[1.0,\"#f0f921\"]],\"sequentialminus\":[[0.0,\"#0d0887\"],[0.1111111111111111,\"#46039f\"],[0.2222222222222222,\"#7201a8\"],[0.3333333333333333,\"#9c179e\"],[0.4444444444444444,\"#bd3786\"],[0.5555555555555556,\"#d8576b\"],[0.6666666666666666,\"#ed7953\"],[0.7777777777777778,\"#fb9f3a\"],[0.8888888888888888,\"#fdca26\"],[1.0,\"#f0f921\"]]},\"colorway\":[\"#636efa\",\"#EF553B\",\"#00cc96\",\"#ab63fa\",\"#FFA15A\",\"#19d3f3\",\"#FF6692\",\"#B6E880\",\"#FF97FF\",\"#FECB52\"],\"font\":{\"color\":\"#2a3f5f\"},\"geo\":{\"bgcolor\":\"white\",\"lakecolor\":\"white\",\"landcolor\":\"#E5ECF6\",\"showlakes\":true,\"showland\":true,\"subunitcolor\":\"white\"},\"hoverlabel\":{\"align\":\"left\"},\"hovermode\":\"closest\",\"mapbox\":{\"style\":\"light\"},\"paper_bgcolor\":\"white\",\"plot_bgcolor\":\"#E5ECF6\",\"polar\":{\"angularaxis\":{\"gridcolor\":\"white\",\"linecolor\":\"white\",\"ticks\":\"\"},\"bgcolor\":\"#E5ECF6\",\"radialaxis\":{\"gridcolor\":\"white\",\"linecolor\":\"white\",\"ticks\":\"\"}},\"scene\":{\"xaxis\":{\"backgroundcolor\":\"#E5ECF6\",\"gridcolor\":\"white\",\"gridwidth\":2,\"linecolor\":\"white\",\"showbackground\":true,\"ticks\":\"\",\"zerolinecolor\":\"white\"},\"yaxis\":{\"backgroundcolor\":\"#E5ECF6\",\"gridcolor\":\"white\",\"gridwidth\":2,\"linecolor\":\"white\",\"showbackground\":true,\"ticks\":\"\",\"zerolinecolor\":\"white\"},\"zaxis\":{\"backgroundcolor\":\"#E5ECF6\",\"gridcolor\":\"white\",\"gridwidth\":2,\"linecolor\":\"white\",\"showbackground\":true,\"ticks\":\"\",\"zerolinecolor\":\"white\"}},\"shapedefaults\":{\"line\":{\"color\":\"#2a3f5f\"}},\"ternary\":{\"aaxis\":{\"gridcolor\":\"white\",\"linecolor\":\"white\",\"ticks\":\"\"},\"baxis\":{\"gridcolor\":\"white\",\"linecolor\":\"white\",\"ticks\":\"\"},\"bgcolor\":\"#E5ECF6\",\"caxis\":{\"gridcolor\":\"white\",\"linecolor\":\"white\",\"ticks\":\"\"}},\"title\":{\"x\":0.05},\"xaxis\":{\"automargin\":true,\"gridcolor\":\"white\",\"linecolor\":\"white\",\"ticks\":\"\",\"title\":{\"standoff\":15},\"zerolinecolor\":\"white\",\"zerolinewidth\":2},\"yaxis\":{\"automargin\":true,\"gridcolor\":\"white\",\"linecolor\":\"white\",\"ticks\":\"\",\"title\":{\"standoff\":15},\"zerolinecolor\":\"white\",\"zerolinewidth\":2}}}},                        {\"responsive\": true}                    ).then(function(){\n",
       "                            \n",
       "var gd = document.getElementById('31f64922-099b-4de3-b802-0f38e7d38b71');\n",
       "var x = new MutationObserver(function (mutations, observer) {{\n",
       "        var display = window.getComputedStyle(gd).display;\n",
       "        if (!display || display === 'none') {{\n",
       "            console.log([gd, 'removed!']);\n",
       "            Plotly.purge(gd);\n",
       "            observer.disconnect();\n",
       "        }}\n",
       "}});\n",
       "\n",
       "// Listen for the removal of the full notebook cells\n",
       "var notebookContainer = gd.closest('#notebook-container');\n",
       "if (notebookContainer) {{\n",
       "    x.observe(notebookContainer, {childList: true});\n",
       "}}\n",
       "\n",
       "// Listen for the clearing of the current output cell\n",
       "var outputEl = gd.closest('.output');\n",
       "if (outputEl) {{\n",
       "    x.observe(outputEl, {childList: true});\n",
       "}}\n",
       "\n",
       "                        })                };                });            </script>        </div>"
      ]
     },
     "metadata": {},
     "output_type": "display_data"
    }
   ],
   "source": [
    "dfpl = df[0:100]\n",
    "fig = go.Figure(data=[go.Candlestick(x=dfpl.index,\n",
    "                open=dfpl['Open'],\n",
    "                high=dfpl['High'],\n",
    "                low=dfpl['Low'],\n",
    "                close=dfpl['Close'])])\n",
    "\n",
    "fig.add_scatter(x=dfpl.index, y=dfpl['pointpos'], mode=\"markers\",\n",
    "                marker=dict(size=5, color=\"MediumPurple\"),\n",
    "                name=\"pivot\")\n",
    "#fig.update_layout(xaxis_rangeslider_visible=False)\n",
    "fig.show()"
   ]
  },
  {
   "cell_type": "markdown",
   "id": "d1079664",
   "metadata": {},
   "source": [
    "## Detect Price Channel"
   ]
  },
  {
   "cell_type": "code",
   "execution_count": 27,
   "id": "e2a6e303",
   "metadata": {},
   "outputs": [],
   "source": [
    "def collect_channel(candle, backcandles, window):\n",
    "    localdf = df[candle-backcandles-window:candle-window]\n",
    "    localdf['isPivot'] = localdf.apply(lambda x: isPivot(x.name,window), axis=1)\n",
    "    highs = localdf[localdf['isPivot']==1].High.values\n",
    "    idxhighs = localdf[localdf['isPivot']==1].High.index\n",
    "    lows = localdf[localdf['isPivot']==2].Low.values\n",
    "    idxlows = localdf[localdf['isPivot']==2].Low.index\n",
    "    \n",
    "    if len(lows)>=2 and len(highs)>=2:\n",
    "        sl_lows, interc_lows, r_value_l, _, _ = stats.linregress(idxlows,lows)\n",
    "        sl_highs, interc_highs, r_value_h, _, _ = stats.linregress(idxhighs,highs)\n",
    "    \n",
    "        return(sl_lows, interc_lows, sl_highs, interc_highs, r_value_l**2, r_value_h**2)\n",
    "    else:\n",
    "        return(0,0,0,0,0,0)\n",
    "    "
   ]
  },
  {
   "cell_type": "code",
   "execution_count": 28,
   "id": "22c06cb2",
   "metadata": {},
   "outputs": [
    {
     "name": "stdout",
     "output_type": "stream",
     "text": [
      "0.9934618656317556 0.8685739172605113\n"
     ]
    },
    {
     "name": "stderr",
     "output_type": "stream",
     "text": [
      "D:\\ProgramFiles\\Anaconda3\\lib\\site-packages\\ipykernel_launcher.py:3: SettingWithCopyWarning:\n",
      "\n",
      "\n",
      "A value is trying to be set on a copy of a slice from a DataFrame.\n",
      "Try using .loc[row_indexer,col_indexer] = value instead\n",
      "\n",
      "See the caveats in the documentation: https://pandas.pydata.org/pandas-docs/stable/user_guide/indexing.html#returning-a-view-versus-a-copy\n",
      "\n"
     ]
    },
    {
     "data": {
      "application/vnd.plotly.v1+json": {
       "config": {
        "plotlyServerURL": "https://plot.ly"
       },
       "data": [
        {
         "close": [
          1.12169,
          1.12924,
          1.14234,
          1.13494,
          1.1482,
          1.14867,
          1.14867,
          1.15605,
          1.15559,
          1.15277,
          1.1477,
          1.13838,
          1.15936,
          1.15936,
          1.16576,
          1.1641,
          1.17321,
          1.16404,
          1.16908,
          1.18378,
          1.18378,
          1.18177,
          1.18567,
          1.18102,
          1.17516,
          1.18922,
          1.17815,
          1.17815,
          1.17203,
          1.17441,
          1.17337,
          1.16444,
          1.18397,
          1.16973,
          1.16973,
          1.16989,
          1.17094,
          1.16773,
          1.17571,
          1.17693,
          1.18651,
          1.18651,
          1.18759,
          1.18178,
          1.17831,
          1.16817,
          1.17041,
          1.16021,
          1.16021,
          1.1585,
          1.1549,
          1.14959,
          1.15365,
          1.1423,
          1.14291,
          1.14291,
          1.14234,
          1.15196,
          1.15613,
          1.153,
          1.14915,
          1.14912,
          1.14912,
          1.14663,
          1.13213,
          1.13135,
          1.13362,
          1.13593,
          1.12773,
          1.12773,
          1.12788,
          1.12702,
          1.11762,
          1.12269,
          1.12323,
          1.1267,
          1.1267,
          1.12452,
          1.13349,
          1.1325,
          1.1483,
          1.14695,
          1.15094,
          1.15094,
          1.14959,
          1.14842,
          1.14413,
          1.13476,
          1.12363,
          1.12709,
          1.12709,
          1.12678,
          1.13523,
          1.13908,
          1.13364,
          1.1364,
          1.13053,
          1.13053,
          1.13053,
          1.13544
         ],
         "high": [
          1.12338,
          1.13009,
          1.14506,
          1.14323,
          1.15077,
          1.15366,
          1.14867,
          1.15645,
          1.16229,
          1.15591,
          1.15352,
          1.1487,
          1.15936,
          1.15936,
          1.16841,
          1.17353,
          1.17364,
          1.17437,
          1.17266,
          1.18411,
          1.18378,
          1.18402,
          1.18744,
          1.19286,
          1.18439,
          1.19144,
          1.18963,
          1.17815,
          1.17813,
          1.17671,
          1.17773,
          1.17463,
          1.1885,
          1.18772,
          1.16973,
          1.17102,
          1.17846,
          1.174,
          1.17805,
          1.18038,
          1.18758,
          1.18651,
          1.18759,
          1.19263,
          1.18652,
          1.18016,
          1.17372,
          1.17333,
          1.16021,
          1.15997,
          1.16028,
          1.15801,
          1.16205,
          1.15425,
          1.14665,
          1.14291,
          1.1436,
          1.1532,
          1.16069,
          1.15668,
          1.15387,
          1.14933,
          1.14912,
          1.14902,
          1.14693,
          1.13498,
          1.1365,
          1.13914,
          1.13601,
          1.12773,
          1.1297,
          1.1307,
          1.13358,
          1.12305,
          1.12477,
          1.13022,
          1.1267,
          1.12711,
          1.1356,
          1.13713,
          1.1491,
          1.15091,
          1.15477,
          1.15094,
          1.15601,
          1.15172,
          1.15365,
          1.14509,
          1.13611,
          1.1281,
          1.12709,
          1.12883,
          1.13734,
          1.13969,
          1.1425,
          1.14138,
          1.13774,
          1.13053,
          1.13053,
          1.13788
         ],
         "low": [
          1.1216,
          1.12014,
          1.12723,
          1.13265,
          1.13006,
          1.14346,
          1.14867,
          1.14867,
          1.15225,
          1.1462,
          1.14661,
          1.13702,
          1.13675,
          1.15936,
          1.1583,
          1.16205,
          1.15998,
          1.16226,
          1.16181,
          1.16635,
          1.18378,
          1.18144,
          1.17955,
          1.1807,
          1.17037,
          1.16909,
          1.17419,
          1.17815,
          1.17058,
          1.16504,
          1.16858,
          1.16321,
          1.16273,
          1.16829,
          1.16973,
          1.16839,
          1.16548,
          1.1662,
          1.16571,
          1.1702,
          1.17338,
          1.18651,
          1.18573,
          1.18125,
          1.1767,
          1.16604,
          1.15826,
          1.15501,
          1.16021,
          1.15707,
          1.15069,
          1.1475,
          1.14937,
          1.14105,
          1.13984,
          1.14291,
          1.1419,
          1.13964,
          1.15045,
          1.15035,
          1.14316,
          1.14462,
          1.14912,
          1.14526,
          1.1308,
          1.12577,
          1.13029,
          1.13085,
          1.12735,
          1.12773,
          1.1266,
          1.1241,
          1.1155,
          1.11113,
          1.11556,
          1.11701,
          1.1267,
          1.12434,
          1.12401,
          1.13044,
          1.13119,
          1.1422,
          1.14425,
          1.15094,
          1.14716,
          1.14511,
          1.14268,
          1.13338,
          1.12222,
          1.11338,
          1.12709,
          1.1263,
          1.12564,
          1.13054,
          1.13238,
          1.13173,
          1.12861,
          1.13053,
          1.13053,
          1.12615
         ],
         "open": [
          1.12273,
          1.12161,
          1.12921,
          1.14218,
          1.13507,
          1.14831,
          1.14867,
          1.1487,
          1.15632,
          1.15544,
          1.15265,
          1.14767,
          1.13825,
          1.15936,
          1.15938,
          1.16546,
          1.16404,
          1.17312,
          1.16424,
          1.16892,
          1.18378,
          1.18387,
          1.18158,
          1.18548,
          1.18107,
          1.17522,
          1.18908,
          1.17815,
          1.178,
          1.172,
          1.17411,
          1.17324,
          1.16448,
          1.18391,
          1.16973,
          1.16977,
          1.16983,
          1.17087,
          1.16755,
          1.1755,
          1.17674,
          1.18651,
          1.18663,
          1.18763,
          1.18178,
          1.1781,
          1.16816,
          1.17026,
          1.16021,
          1.15922,
          1.15839,
          1.15488,
          1.14968,
          1.15352,
          1.14231,
          1.14291,
          1.1428,
          1.14228,
          1.15201,
          1.15593,
          1.15282,
          1.14888,
          1.14912,
          1.14902,
          1.14641,
          1.13219,
          1.13165,
          1.13356,
          1.13552,
          1.12773,
          1.12773,
          1.12776,
          1.12701,
          1.11763,
          1.12243,
          1.12336,
          1.1267,
          1.12673,
          1.12439,
          1.13309,
          1.13224,
          1.14842,
          1.14668,
          1.15094,
          1.15583,
          1.14939,
          1.14852,
          1.1441,
          1.13501,
          1.1235,
          1.12709,
          1.1277,
          1.12672,
          1.13518,
          1.13868,
          1.13375,
          1.13632,
          1.13053,
          1.13053,
          1.12882
         ],
         "type": "candlestick",
         "x": [
          0,
          1,
          2,
          3,
          4,
          5,
          6,
          7,
          8,
          9,
          10,
          11,
          12,
          13,
          14,
          15,
          16,
          17,
          18,
          19,
          20,
          21,
          22,
          23,
          24,
          25,
          26,
          27,
          28,
          29,
          30,
          31,
          32,
          33,
          34,
          35,
          36,
          37,
          38,
          39,
          40,
          41,
          42,
          43,
          44,
          45,
          46,
          47,
          48,
          49,
          50,
          51,
          52,
          53,
          54,
          55,
          56,
          57,
          58,
          59,
          60,
          61,
          62,
          63,
          64,
          65,
          66,
          67,
          68,
          69,
          70,
          71,
          72,
          73,
          74,
          75,
          76,
          77,
          78,
          79,
          80,
          81,
          82,
          83,
          84,
          85,
          86,
          87,
          88,
          89,
          90,
          91,
          92,
          93,
          94,
          95,
          96,
          97,
          98,
          99
         ]
        },
        {
         "marker": {
          "color": "MediumPurple",
          "size": 5
         },
         "mode": "markers",
         "name": "pivot",
         "type": "scatter",
         "x": [
          0,
          1,
          2,
          3,
          4,
          5,
          6,
          7,
          8,
          9,
          10,
          11,
          12,
          13,
          14,
          15,
          16,
          17,
          18,
          19,
          20,
          21,
          22,
          23,
          24,
          25,
          26,
          27,
          28,
          29,
          30,
          31,
          32,
          33,
          34,
          35,
          36,
          37,
          38,
          39,
          40,
          41,
          42,
          43,
          44,
          45,
          46,
          47,
          48,
          49,
          50,
          51,
          52,
          53,
          54,
          55,
          56,
          57,
          58,
          59,
          60,
          61,
          62,
          63,
          64,
          65,
          66,
          67,
          68,
          69,
          70,
          71,
          72,
          73,
          74,
          75,
          76,
          77,
          78,
          79,
          80,
          81,
          82,
          83,
          84,
          85,
          86,
          87,
          88,
          89,
          90,
          91,
          92,
          93,
          94,
          95,
          96,
          97,
          98,
          99
         ],
         "y": [
          null,
          null,
          null,
          null,
          null,
          null,
          null,
          null,
          1.16329,
          null,
          null,
          null,
          1.13575,
          null,
          null,
          null,
          null,
          null,
          null,
          null,
          null,
          null,
          null,
          1.19386,
          null,
          1.16809,
          null,
          null,
          null,
          null,
          null,
          null,
          null,
          null,
          null,
          null,
          1.1644800000000002,
          null,
          null,
          null,
          null,
          null,
          null,
          1.19363,
          null,
          null,
          null,
          null,
          null,
          null,
          null,
          null,
          1.16305,
          null,
          null,
          null,
          null,
          1.13864,
          1.16169,
          null,
          null,
          null,
          null,
          null,
          null,
          1.12477,
          null,
          null,
          null,
          null,
          null,
          null,
          1.13458,
          1.11013,
          null,
          null,
          null,
          null,
          null,
          null,
          null,
          null,
          null,
          null,
          1.1570099999999999,
          null,
          null,
          null,
          null,
          1.1123800000000001,
          null,
          null,
          null,
          null,
          1.1435,
          null,
          null,
          null,
          null,
          1.13888
         ]
        },
        {
         "mode": "lines",
         "name": "lower slope",
         "type": "scatter",
         "x": [
          32,
          33,
          34,
          35,
          36,
          37,
          38,
          39,
          40,
          41,
          42,
          43,
          44,
          45,
          46,
          47,
          48,
          49,
          50,
          51,
          52,
          53,
          54,
          55,
          56,
          57,
          58,
          59,
          60,
          61,
          62,
          63,
          64,
          65,
          66,
          67,
          68,
          69,
          70,
          71,
          72,
          73,
          74,
          75
         ],
         "y": [
          1.171347132243685,
          1.1700059806835068,
          1.1686648291233284,
          1.1673236775631501,
          1.165982526002972,
          1.1646413744427935,
          1.1633002228826153,
          1.1619590713224368,
          1.1606179197622586,
          1.1592767682020804,
          1.157935616641902,
          1.1565944650817237,
          1.1552533135215453,
          1.153912161961367,
          1.1525710104011888,
          1.1512298588410104,
          1.1498887072808321,
          1.1485475557206537,
          1.1472064041604755,
          1.1458652526002973,
          1.1445241010401188,
          1.1431829494799406,
          1.1418417979197621,
          1.140500646359584,
          1.1391594947994057,
          1.1378183432392273,
          1.136477191679049,
          1.1351360401188706,
          1.1337948885586924,
          1.1324537369985141,
          1.1311125854383357,
          1.1297714338781575,
          1.128430282317979,
          1.1270891307578008,
          1.1257479791976226,
          1.1244068276374442,
          1.123065676077266,
          1.1217245245170875,
          1.1203833729569093,
          1.119042221396731,
          1.1177010698365526,
          1.1163599182763744,
          1.115018766716196,
          1.1136776151560177
         ]
        },
        {
         "mode": "lines",
         "name": "max slope",
         "type": "scatter",
         "x": [
          32,
          33,
          34,
          35,
          36,
          37,
          38,
          39,
          40,
          41,
          42,
          43,
          44,
          45,
          46,
          47,
          48,
          49,
          50,
          51,
          52,
          53,
          54,
          55,
          56,
          57,
          58,
          59,
          60,
          61,
          62,
          63,
          64,
          65,
          66,
          67,
          68,
          69,
          70,
          71,
          72,
          73,
          74,
          75
         ],
         "y": [
          1.21415,
          1.2119205263157895,
          1.209691052631579,
          1.2074615789473684,
          1.2052321052631578,
          1.2030026315789475,
          1.200773157894737,
          1.1985436842105264,
          1.1963142105263158,
          1.1940847368421053,
          1.1918552631578947,
          1.1896257894736841,
          1.1873963157894736,
          1.1851668421052632,
          1.1829373684210527,
          1.1807078947368421,
          1.1784784210526316,
          1.176248947368421,
          1.1740194736842104,
          1.1717899999999999,
          1.1695605263157893,
          1.167331052631579,
          1.1651015789473684,
          1.1628721052631579,
          1.1606426315789473,
          1.1584131578947368,
          1.1561836842105262,
          1.1539542105263156,
          1.151724736842105,
          1.1494952631578945,
          1.1472657894736842,
          1.1450363157894736,
          1.142806842105263,
          1.1405773684210525,
          1.138347894736842,
          1.1361184210526314,
          1.1338889473684208,
          1.1316594736842105,
          1.12943,
          1.1272005263157894,
          1.1249710526315788,
          1.1227415789473683,
          1.1205121052631577,
          1.1182826315789471
         ]
        }
       ],
       "layout": {
        "template": {
         "data": {
          "bar": [
           {
            "error_x": {
             "color": "#2a3f5f"
            },
            "error_y": {
             "color": "#2a3f5f"
            },
            "marker": {
             "line": {
              "color": "#E5ECF6",
              "width": 0.5
             },
             "pattern": {
              "fillmode": "overlay",
              "size": 10,
              "solidity": 0.2
             }
            },
            "type": "bar"
           }
          ],
          "barpolar": [
           {
            "marker": {
             "line": {
              "color": "#E5ECF6",
              "width": 0.5
             },
             "pattern": {
              "fillmode": "overlay",
              "size": 10,
              "solidity": 0.2
             }
            },
            "type": "barpolar"
           }
          ],
          "carpet": [
           {
            "aaxis": {
             "endlinecolor": "#2a3f5f",
             "gridcolor": "white",
             "linecolor": "white",
             "minorgridcolor": "white",
             "startlinecolor": "#2a3f5f"
            },
            "baxis": {
             "endlinecolor": "#2a3f5f",
             "gridcolor": "white",
             "linecolor": "white",
             "minorgridcolor": "white",
             "startlinecolor": "#2a3f5f"
            },
            "type": "carpet"
           }
          ],
          "choropleth": [
           {
            "colorbar": {
             "outlinewidth": 0,
             "ticks": ""
            },
            "type": "choropleth"
           }
          ],
          "contour": [
           {
            "colorbar": {
             "outlinewidth": 0,
             "ticks": ""
            },
            "colorscale": [
             [
              0,
              "#0d0887"
             ],
             [
              0.1111111111111111,
              "#46039f"
             ],
             [
              0.2222222222222222,
              "#7201a8"
             ],
             [
              0.3333333333333333,
              "#9c179e"
             ],
             [
              0.4444444444444444,
              "#bd3786"
             ],
             [
              0.5555555555555556,
              "#d8576b"
             ],
             [
              0.6666666666666666,
              "#ed7953"
             ],
             [
              0.7777777777777778,
              "#fb9f3a"
             ],
             [
              0.8888888888888888,
              "#fdca26"
             ],
             [
              1,
              "#f0f921"
             ]
            ],
            "type": "contour"
           }
          ],
          "contourcarpet": [
           {
            "colorbar": {
             "outlinewidth": 0,
             "ticks": ""
            },
            "type": "contourcarpet"
           }
          ],
          "heatmap": [
           {
            "colorbar": {
             "outlinewidth": 0,
             "ticks": ""
            },
            "colorscale": [
             [
              0,
              "#0d0887"
             ],
             [
              0.1111111111111111,
              "#46039f"
             ],
             [
              0.2222222222222222,
              "#7201a8"
             ],
             [
              0.3333333333333333,
              "#9c179e"
             ],
             [
              0.4444444444444444,
              "#bd3786"
             ],
             [
              0.5555555555555556,
              "#d8576b"
             ],
             [
              0.6666666666666666,
              "#ed7953"
             ],
             [
              0.7777777777777778,
              "#fb9f3a"
             ],
             [
              0.8888888888888888,
              "#fdca26"
             ],
             [
              1,
              "#f0f921"
             ]
            ],
            "type": "heatmap"
           }
          ],
          "heatmapgl": [
           {
            "colorbar": {
             "outlinewidth": 0,
             "ticks": ""
            },
            "colorscale": [
             [
              0,
              "#0d0887"
             ],
             [
              0.1111111111111111,
              "#46039f"
             ],
             [
              0.2222222222222222,
              "#7201a8"
             ],
             [
              0.3333333333333333,
              "#9c179e"
             ],
             [
              0.4444444444444444,
              "#bd3786"
             ],
             [
              0.5555555555555556,
              "#d8576b"
             ],
             [
              0.6666666666666666,
              "#ed7953"
             ],
             [
              0.7777777777777778,
              "#fb9f3a"
             ],
             [
              0.8888888888888888,
              "#fdca26"
             ],
             [
              1,
              "#f0f921"
             ]
            ],
            "type": "heatmapgl"
           }
          ],
          "histogram": [
           {
            "marker": {
             "pattern": {
              "fillmode": "overlay",
              "size": 10,
              "solidity": 0.2
             }
            },
            "type": "histogram"
           }
          ],
          "histogram2d": [
           {
            "colorbar": {
             "outlinewidth": 0,
             "ticks": ""
            },
            "colorscale": [
             [
              0,
              "#0d0887"
             ],
             [
              0.1111111111111111,
              "#46039f"
             ],
             [
              0.2222222222222222,
              "#7201a8"
             ],
             [
              0.3333333333333333,
              "#9c179e"
             ],
             [
              0.4444444444444444,
              "#bd3786"
             ],
             [
              0.5555555555555556,
              "#d8576b"
             ],
             [
              0.6666666666666666,
              "#ed7953"
             ],
             [
              0.7777777777777778,
              "#fb9f3a"
             ],
             [
              0.8888888888888888,
              "#fdca26"
             ],
             [
              1,
              "#f0f921"
             ]
            ],
            "type": "histogram2d"
           }
          ],
          "histogram2dcontour": [
           {
            "colorbar": {
             "outlinewidth": 0,
             "ticks": ""
            },
            "colorscale": [
             [
              0,
              "#0d0887"
             ],
             [
              0.1111111111111111,
              "#46039f"
             ],
             [
              0.2222222222222222,
              "#7201a8"
             ],
             [
              0.3333333333333333,
              "#9c179e"
             ],
             [
              0.4444444444444444,
              "#bd3786"
             ],
             [
              0.5555555555555556,
              "#d8576b"
             ],
             [
              0.6666666666666666,
              "#ed7953"
             ],
             [
              0.7777777777777778,
              "#fb9f3a"
             ],
             [
              0.8888888888888888,
              "#fdca26"
             ],
             [
              1,
              "#f0f921"
             ]
            ],
            "type": "histogram2dcontour"
           }
          ],
          "mesh3d": [
           {
            "colorbar": {
             "outlinewidth": 0,
             "ticks": ""
            },
            "type": "mesh3d"
           }
          ],
          "parcoords": [
           {
            "line": {
             "colorbar": {
              "outlinewidth": 0,
              "ticks": ""
             }
            },
            "type": "parcoords"
           }
          ],
          "pie": [
           {
            "automargin": true,
            "type": "pie"
           }
          ],
          "scatter": [
           {
            "marker": {
             "colorbar": {
              "outlinewidth": 0,
              "ticks": ""
             }
            },
            "type": "scatter"
           }
          ],
          "scatter3d": [
           {
            "line": {
             "colorbar": {
              "outlinewidth": 0,
              "ticks": ""
             }
            },
            "marker": {
             "colorbar": {
              "outlinewidth": 0,
              "ticks": ""
             }
            },
            "type": "scatter3d"
           }
          ],
          "scattercarpet": [
           {
            "marker": {
             "colorbar": {
              "outlinewidth": 0,
              "ticks": ""
             }
            },
            "type": "scattercarpet"
           }
          ],
          "scattergeo": [
           {
            "marker": {
             "colorbar": {
              "outlinewidth": 0,
              "ticks": ""
             }
            },
            "type": "scattergeo"
           }
          ],
          "scattergl": [
           {
            "marker": {
             "colorbar": {
              "outlinewidth": 0,
              "ticks": ""
             }
            },
            "type": "scattergl"
           }
          ],
          "scattermapbox": [
           {
            "marker": {
             "colorbar": {
              "outlinewidth": 0,
              "ticks": ""
             }
            },
            "type": "scattermapbox"
           }
          ],
          "scatterpolar": [
           {
            "marker": {
             "colorbar": {
              "outlinewidth": 0,
              "ticks": ""
             }
            },
            "type": "scatterpolar"
           }
          ],
          "scatterpolargl": [
           {
            "marker": {
             "colorbar": {
              "outlinewidth": 0,
              "ticks": ""
             }
            },
            "type": "scatterpolargl"
           }
          ],
          "scatterternary": [
           {
            "marker": {
             "colorbar": {
              "outlinewidth": 0,
              "ticks": ""
             }
            },
            "type": "scatterternary"
           }
          ],
          "surface": [
           {
            "colorbar": {
             "outlinewidth": 0,
             "ticks": ""
            },
            "colorscale": [
             [
              0,
              "#0d0887"
             ],
             [
              0.1111111111111111,
              "#46039f"
             ],
             [
              0.2222222222222222,
              "#7201a8"
             ],
             [
              0.3333333333333333,
              "#9c179e"
             ],
             [
              0.4444444444444444,
              "#bd3786"
             ],
             [
              0.5555555555555556,
              "#d8576b"
             ],
             [
              0.6666666666666666,
              "#ed7953"
             ],
             [
              0.7777777777777778,
              "#fb9f3a"
             ],
             [
              0.8888888888888888,
              "#fdca26"
             ],
             [
              1,
              "#f0f921"
             ]
            ],
            "type": "surface"
           }
          ],
          "table": [
           {
            "cells": {
             "fill": {
              "color": "#EBF0F8"
             },
             "line": {
              "color": "white"
             }
            },
            "header": {
             "fill": {
              "color": "#C8D4E3"
             },
             "line": {
              "color": "white"
             }
            },
            "type": "table"
           }
          ]
         },
         "layout": {
          "annotationdefaults": {
           "arrowcolor": "#2a3f5f",
           "arrowhead": 0,
           "arrowwidth": 1
          },
          "autotypenumbers": "strict",
          "coloraxis": {
           "colorbar": {
            "outlinewidth": 0,
            "ticks": ""
           }
          },
          "colorscale": {
           "diverging": [
            [
             0,
             "#8e0152"
            ],
            [
             0.1,
             "#c51b7d"
            ],
            [
             0.2,
             "#de77ae"
            ],
            [
             0.3,
             "#f1b6da"
            ],
            [
             0.4,
             "#fde0ef"
            ],
            [
             0.5,
             "#f7f7f7"
            ],
            [
             0.6,
             "#e6f5d0"
            ],
            [
             0.7,
             "#b8e186"
            ],
            [
             0.8,
             "#7fbc41"
            ],
            [
             0.9,
             "#4d9221"
            ],
            [
             1,
             "#276419"
            ]
           ],
           "sequential": [
            [
             0,
             "#0d0887"
            ],
            [
             0.1111111111111111,
             "#46039f"
            ],
            [
             0.2222222222222222,
             "#7201a8"
            ],
            [
             0.3333333333333333,
             "#9c179e"
            ],
            [
             0.4444444444444444,
             "#bd3786"
            ],
            [
             0.5555555555555556,
             "#d8576b"
            ],
            [
             0.6666666666666666,
             "#ed7953"
            ],
            [
             0.7777777777777778,
             "#fb9f3a"
            ],
            [
             0.8888888888888888,
             "#fdca26"
            ],
            [
             1,
             "#f0f921"
            ]
           ],
           "sequentialminus": [
            [
             0,
             "#0d0887"
            ],
            [
             0.1111111111111111,
             "#46039f"
            ],
            [
             0.2222222222222222,
             "#7201a8"
            ],
            [
             0.3333333333333333,
             "#9c179e"
            ],
            [
             0.4444444444444444,
             "#bd3786"
            ],
            [
             0.5555555555555556,
             "#d8576b"
            ],
            [
             0.6666666666666666,
             "#ed7953"
            ],
            [
             0.7777777777777778,
             "#fb9f3a"
            ],
            [
             0.8888888888888888,
             "#fdca26"
            ],
            [
             1,
             "#f0f921"
            ]
           ]
          },
          "colorway": [
           "#636efa",
           "#EF553B",
           "#00cc96",
           "#ab63fa",
           "#FFA15A",
           "#19d3f3",
           "#FF6692",
           "#B6E880",
           "#FF97FF",
           "#FECB52"
          ],
          "font": {
           "color": "#2a3f5f"
          },
          "geo": {
           "bgcolor": "white",
           "lakecolor": "white",
           "landcolor": "#E5ECF6",
           "showlakes": true,
           "showland": true,
           "subunitcolor": "white"
          },
          "hoverlabel": {
           "align": "left"
          },
          "hovermode": "closest",
          "mapbox": {
           "style": "light"
          },
          "paper_bgcolor": "white",
          "plot_bgcolor": "#E5ECF6",
          "polar": {
           "angularaxis": {
            "gridcolor": "white",
            "linecolor": "white",
            "ticks": ""
           },
           "bgcolor": "#E5ECF6",
           "radialaxis": {
            "gridcolor": "white",
            "linecolor": "white",
            "ticks": ""
           }
          },
          "scene": {
           "xaxis": {
            "backgroundcolor": "#E5ECF6",
            "gridcolor": "white",
            "gridwidth": 2,
            "linecolor": "white",
            "showbackground": true,
            "ticks": "",
            "zerolinecolor": "white"
           },
           "yaxis": {
            "backgroundcolor": "#E5ECF6",
            "gridcolor": "white",
            "gridwidth": 2,
            "linecolor": "white",
            "showbackground": true,
            "ticks": "",
            "zerolinecolor": "white"
           },
           "zaxis": {
            "backgroundcolor": "#E5ECF6",
            "gridcolor": "white",
            "gridwidth": 2,
            "linecolor": "white",
            "showbackground": true,
            "ticks": "",
            "zerolinecolor": "white"
           }
          },
          "shapedefaults": {
           "line": {
            "color": "#2a3f5f"
           }
          },
          "ternary": {
           "aaxis": {
            "gridcolor": "white",
            "linecolor": "white",
            "ticks": ""
           },
           "baxis": {
            "gridcolor": "white",
            "linecolor": "white",
            "ticks": ""
           },
           "bgcolor": "#E5ECF6",
           "caxis": {
            "gridcolor": "white",
            "linecolor": "white",
            "ticks": ""
           }
          },
          "title": {
           "x": 0.05
          },
          "xaxis": {
           "automargin": true,
           "gridcolor": "white",
           "linecolor": "white",
           "ticks": "",
           "title": {
            "standoff": 15
           },
           "zerolinecolor": "white",
           "zerolinewidth": 2
          },
          "yaxis": {
           "automargin": true,
           "gridcolor": "white",
           "linecolor": "white",
           "ticks": "",
           "title": {
            "standoff": 15
           },
           "zerolinecolor": "white",
           "zerolinewidth": 2
          }
         }
        }
       }
      },
      "text/html": [
       "<div>                            <div id=\"66291a5a-9f22-482e-a50e-a78557ffe511\" class=\"plotly-graph-div\" style=\"height:525px; width:100%;\"></div>            <script type=\"text/javascript\">                require([\"plotly\"], function(Plotly) {                    window.PLOTLYENV=window.PLOTLYENV || {};                                    if (document.getElementById(\"66291a5a-9f22-482e-a50e-a78557ffe511\")) {                    Plotly.newPlot(                        \"66291a5a-9f22-482e-a50e-a78557ffe511\",                        [{\"close\":[1.12169,1.12924,1.14234,1.13494,1.1482,1.14867,1.14867,1.15605,1.15559,1.15277,1.1477,1.13838,1.15936,1.15936,1.16576,1.1641,1.17321,1.16404,1.16908,1.18378,1.18378,1.18177,1.18567,1.18102,1.17516,1.18922,1.17815,1.17815,1.17203,1.17441,1.17337,1.16444,1.18397,1.16973,1.16973,1.16989,1.17094,1.16773,1.17571,1.17693,1.18651,1.18651,1.18759,1.18178,1.17831,1.16817,1.17041,1.16021,1.16021,1.1585,1.1549,1.14959,1.15365,1.1423,1.14291,1.14291,1.14234,1.15196,1.15613,1.153,1.14915,1.14912,1.14912,1.14663,1.13213,1.13135,1.13362,1.13593,1.12773,1.12773,1.12788,1.12702,1.11762,1.12269,1.12323,1.1267,1.1267,1.12452,1.13349,1.1325,1.1483,1.14695,1.15094,1.15094,1.14959,1.14842,1.14413,1.13476,1.12363,1.12709,1.12709,1.12678,1.13523,1.13908,1.13364,1.1364,1.13053,1.13053,1.13053,1.13544],\"high\":[1.12338,1.13009,1.14506,1.14323,1.15077,1.15366,1.14867,1.15645,1.16229,1.15591,1.15352,1.1487,1.15936,1.15936,1.16841,1.17353,1.17364,1.17437,1.17266,1.18411,1.18378,1.18402,1.18744,1.19286,1.18439,1.19144,1.18963,1.17815,1.17813,1.17671,1.17773,1.17463,1.1885,1.18772,1.16973,1.17102,1.17846,1.174,1.17805,1.18038,1.18758,1.18651,1.18759,1.19263,1.18652,1.18016,1.17372,1.17333,1.16021,1.15997,1.16028,1.15801,1.16205,1.15425,1.14665,1.14291,1.1436,1.1532,1.16069,1.15668,1.15387,1.14933,1.14912,1.14902,1.14693,1.13498,1.1365,1.13914,1.13601,1.12773,1.1297,1.1307,1.13358,1.12305,1.12477,1.13022,1.1267,1.12711,1.1356,1.13713,1.1491,1.15091,1.15477,1.15094,1.15601,1.15172,1.15365,1.14509,1.13611,1.1281,1.12709,1.12883,1.13734,1.13969,1.1425,1.14138,1.13774,1.13053,1.13053,1.13788],\"low\":[1.1216,1.12014,1.12723,1.13265,1.13006,1.14346,1.14867,1.14867,1.15225,1.1462,1.14661,1.13702,1.13675,1.15936,1.1583,1.16205,1.15998,1.16226,1.16181,1.16635,1.18378,1.18144,1.17955,1.1807,1.17037,1.16909,1.17419,1.17815,1.17058,1.16504,1.16858,1.16321,1.16273,1.16829,1.16973,1.16839,1.16548,1.1662,1.16571,1.1702,1.17338,1.18651,1.18573,1.18125,1.1767,1.16604,1.15826,1.15501,1.16021,1.15707,1.15069,1.1475,1.14937,1.14105,1.13984,1.14291,1.1419,1.13964,1.15045,1.15035,1.14316,1.14462,1.14912,1.14526,1.1308,1.12577,1.13029,1.13085,1.12735,1.12773,1.1266,1.1241,1.1155,1.11113,1.11556,1.11701,1.1267,1.12434,1.12401,1.13044,1.13119,1.1422,1.14425,1.15094,1.14716,1.14511,1.14268,1.13338,1.12222,1.11338,1.12709,1.1263,1.12564,1.13054,1.13238,1.13173,1.12861,1.13053,1.13053,1.12615],\"open\":[1.12273,1.12161,1.12921,1.14218,1.13507,1.14831,1.14867,1.1487,1.15632,1.15544,1.15265,1.14767,1.13825,1.15936,1.15938,1.16546,1.16404,1.17312,1.16424,1.16892,1.18378,1.18387,1.18158,1.18548,1.18107,1.17522,1.18908,1.17815,1.178,1.172,1.17411,1.17324,1.16448,1.18391,1.16973,1.16977,1.16983,1.17087,1.16755,1.1755,1.17674,1.18651,1.18663,1.18763,1.18178,1.1781,1.16816,1.17026,1.16021,1.15922,1.15839,1.15488,1.14968,1.15352,1.14231,1.14291,1.1428,1.14228,1.15201,1.15593,1.15282,1.14888,1.14912,1.14902,1.14641,1.13219,1.13165,1.13356,1.13552,1.12773,1.12773,1.12776,1.12701,1.11763,1.12243,1.12336,1.1267,1.12673,1.12439,1.13309,1.13224,1.14842,1.14668,1.15094,1.15583,1.14939,1.14852,1.1441,1.13501,1.1235,1.12709,1.1277,1.12672,1.13518,1.13868,1.13375,1.13632,1.13053,1.13053,1.12882],\"type\":\"candlestick\",\"x\":[0,1,2,3,4,5,6,7,8,9,10,11,12,13,14,15,16,17,18,19,20,21,22,23,24,25,26,27,28,29,30,31,32,33,34,35,36,37,38,39,40,41,42,43,44,45,46,47,48,49,50,51,52,53,54,55,56,57,58,59,60,61,62,63,64,65,66,67,68,69,70,71,72,73,74,75,76,77,78,79,80,81,82,83,84,85,86,87,88,89,90,91,92,93,94,95,96,97,98,99]},{\"marker\":{\"color\":\"MediumPurple\",\"size\":5},\"mode\":\"markers\",\"name\":\"pivot\",\"type\":\"scatter\",\"x\":[0,1,2,3,4,5,6,7,8,9,10,11,12,13,14,15,16,17,18,19,20,21,22,23,24,25,26,27,28,29,30,31,32,33,34,35,36,37,38,39,40,41,42,43,44,45,46,47,48,49,50,51,52,53,54,55,56,57,58,59,60,61,62,63,64,65,66,67,68,69,70,71,72,73,74,75,76,77,78,79,80,81,82,83,84,85,86,87,88,89,90,91,92,93,94,95,96,97,98,99],\"y\":[null,null,null,null,null,null,null,null,1.16329,null,null,null,1.13575,null,null,null,null,null,null,null,null,null,null,1.19386,null,1.16809,null,null,null,null,null,null,null,null,null,null,1.1644800000000002,null,null,null,null,null,null,1.19363,null,null,null,null,null,null,null,null,1.16305,null,null,null,null,1.13864,1.16169,null,null,null,null,null,null,1.12477,null,null,null,null,null,null,1.13458,1.11013,null,null,null,null,null,null,null,null,null,null,1.1570099999999999,null,null,null,null,1.1123800000000001,null,null,null,null,1.1435,null,null,null,null,1.13888]},{\"mode\":\"lines\",\"name\":\"lower slope\",\"type\":\"scatter\",\"x\":[32,33,34,35,36,37,38,39,40,41,42,43,44,45,46,47,48,49,50,51,52,53,54,55,56,57,58,59,60,61,62,63,64,65,66,67,68,69,70,71,72,73,74,75],\"y\":[1.171347132243685,1.1700059806835068,1.1686648291233284,1.1673236775631501,1.165982526002972,1.1646413744427935,1.1633002228826153,1.1619590713224368,1.1606179197622586,1.1592767682020804,1.157935616641902,1.1565944650817237,1.1552533135215453,1.153912161961367,1.1525710104011888,1.1512298588410104,1.1498887072808321,1.1485475557206537,1.1472064041604755,1.1458652526002973,1.1445241010401188,1.1431829494799406,1.1418417979197621,1.140500646359584,1.1391594947994057,1.1378183432392273,1.136477191679049,1.1351360401188706,1.1337948885586924,1.1324537369985141,1.1311125854383357,1.1297714338781575,1.128430282317979,1.1270891307578008,1.1257479791976226,1.1244068276374442,1.123065676077266,1.1217245245170875,1.1203833729569093,1.119042221396731,1.1177010698365526,1.1163599182763744,1.115018766716196,1.1136776151560177]},{\"mode\":\"lines\",\"name\":\"max slope\",\"type\":\"scatter\",\"x\":[32,33,34,35,36,37,38,39,40,41,42,43,44,45,46,47,48,49,50,51,52,53,54,55,56,57,58,59,60,61,62,63,64,65,66,67,68,69,70,71,72,73,74,75],\"y\":[1.21415,1.2119205263157895,1.209691052631579,1.2074615789473684,1.2052321052631578,1.2030026315789475,1.200773157894737,1.1985436842105264,1.1963142105263158,1.1940847368421053,1.1918552631578947,1.1896257894736841,1.1873963157894736,1.1851668421052632,1.1829373684210527,1.1807078947368421,1.1784784210526316,1.176248947368421,1.1740194736842104,1.1717899999999999,1.1695605263157893,1.167331052631579,1.1651015789473684,1.1628721052631579,1.1606426315789473,1.1584131578947368,1.1561836842105262,1.1539542105263156,1.151724736842105,1.1494952631578945,1.1472657894736842,1.1450363157894736,1.142806842105263,1.1405773684210525,1.138347894736842,1.1361184210526314,1.1338889473684208,1.1316594736842105,1.12943,1.1272005263157894,1.1249710526315788,1.1227415789473683,1.1205121052631577,1.1182826315789471]}],                        {\"template\":{\"data\":{\"bar\":[{\"error_x\":{\"color\":\"#2a3f5f\"},\"error_y\":{\"color\":\"#2a3f5f\"},\"marker\":{\"line\":{\"color\":\"#E5ECF6\",\"width\":0.5},\"pattern\":{\"fillmode\":\"overlay\",\"size\":10,\"solidity\":0.2}},\"type\":\"bar\"}],\"barpolar\":[{\"marker\":{\"line\":{\"color\":\"#E5ECF6\",\"width\":0.5},\"pattern\":{\"fillmode\":\"overlay\",\"size\":10,\"solidity\":0.2}},\"type\":\"barpolar\"}],\"carpet\":[{\"aaxis\":{\"endlinecolor\":\"#2a3f5f\",\"gridcolor\":\"white\",\"linecolor\":\"white\",\"minorgridcolor\":\"white\",\"startlinecolor\":\"#2a3f5f\"},\"baxis\":{\"endlinecolor\":\"#2a3f5f\",\"gridcolor\":\"white\",\"linecolor\":\"white\",\"minorgridcolor\":\"white\",\"startlinecolor\":\"#2a3f5f\"},\"type\":\"carpet\"}],\"choropleth\":[{\"colorbar\":{\"outlinewidth\":0,\"ticks\":\"\"},\"type\":\"choropleth\"}],\"contour\":[{\"colorbar\":{\"outlinewidth\":0,\"ticks\":\"\"},\"colorscale\":[[0.0,\"#0d0887\"],[0.1111111111111111,\"#46039f\"],[0.2222222222222222,\"#7201a8\"],[0.3333333333333333,\"#9c179e\"],[0.4444444444444444,\"#bd3786\"],[0.5555555555555556,\"#d8576b\"],[0.6666666666666666,\"#ed7953\"],[0.7777777777777778,\"#fb9f3a\"],[0.8888888888888888,\"#fdca26\"],[1.0,\"#f0f921\"]],\"type\":\"contour\"}],\"contourcarpet\":[{\"colorbar\":{\"outlinewidth\":0,\"ticks\":\"\"},\"type\":\"contourcarpet\"}],\"heatmap\":[{\"colorbar\":{\"outlinewidth\":0,\"ticks\":\"\"},\"colorscale\":[[0.0,\"#0d0887\"],[0.1111111111111111,\"#46039f\"],[0.2222222222222222,\"#7201a8\"],[0.3333333333333333,\"#9c179e\"],[0.4444444444444444,\"#bd3786\"],[0.5555555555555556,\"#d8576b\"],[0.6666666666666666,\"#ed7953\"],[0.7777777777777778,\"#fb9f3a\"],[0.8888888888888888,\"#fdca26\"],[1.0,\"#f0f921\"]],\"type\":\"heatmap\"}],\"heatmapgl\":[{\"colorbar\":{\"outlinewidth\":0,\"ticks\":\"\"},\"colorscale\":[[0.0,\"#0d0887\"],[0.1111111111111111,\"#46039f\"],[0.2222222222222222,\"#7201a8\"],[0.3333333333333333,\"#9c179e\"],[0.4444444444444444,\"#bd3786\"],[0.5555555555555556,\"#d8576b\"],[0.6666666666666666,\"#ed7953\"],[0.7777777777777778,\"#fb9f3a\"],[0.8888888888888888,\"#fdca26\"],[1.0,\"#f0f921\"]],\"type\":\"heatmapgl\"}],\"histogram\":[{\"marker\":{\"pattern\":{\"fillmode\":\"overlay\",\"size\":10,\"solidity\":0.2}},\"type\":\"histogram\"}],\"histogram2d\":[{\"colorbar\":{\"outlinewidth\":0,\"ticks\":\"\"},\"colorscale\":[[0.0,\"#0d0887\"],[0.1111111111111111,\"#46039f\"],[0.2222222222222222,\"#7201a8\"],[0.3333333333333333,\"#9c179e\"],[0.4444444444444444,\"#bd3786\"],[0.5555555555555556,\"#d8576b\"],[0.6666666666666666,\"#ed7953\"],[0.7777777777777778,\"#fb9f3a\"],[0.8888888888888888,\"#fdca26\"],[1.0,\"#f0f921\"]],\"type\":\"histogram2d\"}],\"histogram2dcontour\":[{\"colorbar\":{\"outlinewidth\":0,\"ticks\":\"\"},\"colorscale\":[[0.0,\"#0d0887\"],[0.1111111111111111,\"#46039f\"],[0.2222222222222222,\"#7201a8\"],[0.3333333333333333,\"#9c179e\"],[0.4444444444444444,\"#bd3786\"],[0.5555555555555556,\"#d8576b\"],[0.6666666666666666,\"#ed7953\"],[0.7777777777777778,\"#fb9f3a\"],[0.8888888888888888,\"#fdca26\"],[1.0,\"#f0f921\"]],\"type\":\"histogram2dcontour\"}],\"mesh3d\":[{\"colorbar\":{\"outlinewidth\":0,\"ticks\":\"\"},\"type\":\"mesh3d\"}],\"parcoords\":[{\"line\":{\"colorbar\":{\"outlinewidth\":0,\"ticks\":\"\"}},\"type\":\"parcoords\"}],\"pie\":[{\"automargin\":true,\"type\":\"pie\"}],\"scatter\":[{\"marker\":{\"colorbar\":{\"outlinewidth\":0,\"ticks\":\"\"}},\"type\":\"scatter\"}],\"scatter3d\":[{\"line\":{\"colorbar\":{\"outlinewidth\":0,\"ticks\":\"\"}},\"marker\":{\"colorbar\":{\"outlinewidth\":0,\"ticks\":\"\"}},\"type\":\"scatter3d\"}],\"scattercarpet\":[{\"marker\":{\"colorbar\":{\"outlinewidth\":0,\"ticks\":\"\"}},\"type\":\"scattercarpet\"}],\"scattergeo\":[{\"marker\":{\"colorbar\":{\"outlinewidth\":0,\"ticks\":\"\"}},\"type\":\"scattergeo\"}],\"scattergl\":[{\"marker\":{\"colorbar\":{\"outlinewidth\":0,\"ticks\":\"\"}},\"type\":\"scattergl\"}],\"scattermapbox\":[{\"marker\":{\"colorbar\":{\"outlinewidth\":0,\"ticks\":\"\"}},\"type\":\"scattermapbox\"}],\"scatterpolar\":[{\"marker\":{\"colorbar\":{\"outlinewidth\":0,\"ticks\":\"\"}},\"type\":\"scatterpolar\"}],\"scatterpolargl\":[{\"marker\":{\"colorbar\":{\"outlinewidth\":0,\"ticks\":\"\"}},\"type\":\"scatterpolargl\"}],\"scatterternary\":[{\"marker\":{\"colorbar\":{\"outlinewidth\":0,\"ticks\":\"\"}},\"type\":\"scatterternary\"}],\"surface\":[{\"colorbar\":{\"outlinewidth\":0,\"ticks\":\"\"},\"colorscale\":[[0.0,\"#0d0887\"],[0.1111111111111111,\"#46039f\"],[0.2222222222222222,\"#7201a8\"],[0.3333333333333333,\"#9c179e\"],[0.4444444444444444,\"#bd3786\"],[0.5555555555555556,\"#d8576b\"],[0.6666666666666666,\"#ed7953\"],[0.7777777777777778,\"#fb9f3a\"],[0.8888888888888888,\"#fdca26\"],[1.0,\"#f0f921\"]],\"type\":\"surface\"}],\"table\":[{\"cells\":{\"fill\":{\"color\":\"#EBF0F8\"},\"line\":{\"color\":\"white\"}},\"header\":{\"fill\":{\"color\":\"#C8D4E3\"},\"line\":{\"color\":\"white\"}},\"type\":\"table\"}]},\"layout\":{\"annotationdefaults\":{\"arrowcolor\":\"#2a3f5f\",\"arrowhead\":0,\"arrowwidth\":1},\"autotypenumbers\":\"strict\",\"coloraxis\":{\"colorbar\":{\"outlinewidth\":0,\"ticks\":\"\"}},\"colorscale\":{\"diverging\":[[0,\"#8e0152\"],[0.1,\"#c51b7d\"],[0.2,\"#de77ae\"],[0.3,\"#f1b6da\"],[0.4,\"#fde0ef\"],[0.5,\"#f7f7f7\"],[0.6,\"#e6f5d0\"],[0.7,\"#b8e186\"],[0.8,\"#7fbc41\"],[0.9,\"#4d9221\"],[1,\"#276419\"]],\"sequential\":[[0.0,\"#0d0887\"],[0.1111111111111111,\"#46039f\"],[0.2222222222222222,\"#7201a8\"],[0.3333333333333333,\"#9c179e\"],[0.4444444444444444,\"#bd3786\"],[0.5555555555555556,\"#d8576b\"],[0.6666666666666666,\"#ed7953\"],[0.7777777777777778,\"#fb9f3a\"],[0.8888888888888888,\"#fdca26\"],[1.0,\"#f0f921\"]],\"sequentialminus\":[[0.0,\"#0d0887\"],[0.1111111111111111,\"#46039f\"],[0.2222222222222222,\"#7201a8\"],[0.3333333333333333,\"#9c179e\"],[0.4444444444444444,\"#bd3786\"],[0.5555555555555556,\"#d8576b\"],[0.6666666666666666,\"#ed7953\"],[0.7777777777777778,\"#fb9f3a\"],[0.8888888888888888,\"#fdca26\"],[1.0,\"#f0f921\"]]},\"colorway\":[\"#636efa\",\"#EF553B\",\"#00cc96\",\"#ab63fa\",\"#FFA15A\",\"#19d3f3\",\"#FF6692\",\"#B6E880\",\"#FF97FF\",\"#FECB52\"],\"font\":{\"color\":\"#2a3f5f\"},\"geo\":{\"bgcolor\":\"white\",\"lakecolor\":\"white\",\"landcolor\":\"#E5ECF6\",\"showlakes\":true,\"showland\":true,\"subunitcolor\":\"white\"},\"hoverlabel\":{\"align\":\"left\"},\"hovermode\":\"closest\",\"mapbox\":{\"style\":\"light\"},\"paper_bgcolor\":\"white\",\"plot_bgcolor\":\"#E5ECF6\",\"polar\":{\"angularaxis\":{\"gridcolor\":\"white\",\"linecolor\":\"white\",\"ticks\":\"\"},\"bgcolor\":\"#E5ECF6\",\"radialaxis\":{\"gridcolor\":\"white\",\"linecolor\":\"white\",\"ticks\":\"\"}},\"scene\":{\"xaxis\":{\"backgroundcolor\":\"#E5ECF6\",\"gridcolor\":\"white\",\"gridwidth\":2,\"linecolor\":\"white\",\"showbackground\":true,\"ticks\":\"\",\"zerolinecolor\":\"white\"},\"yaxis\":{\"backgroundcolor\":\"#E5ECF6\",\"gridcolor\":\"white\",\"gridwidth\":2,\"linecolor\":\"white\",\"showbackground\":true,\"ticks\":\"\",\"zerolinecolor\":\"white\"},\"zaxis\":{\"backgroundcolor\":\"#E5ECF6\",\"gridcolor\":\"white\",\"gridwidth\":2,\"linecolor\":\"white\",\"showbackground\":true,\"ticks\":\"\",\"zerolinecolor\":\"white\"}},\"shapedefaults\":{\"line\":{\"color\":\"#2a3f5f\"}},\"ternary\":{\"aaxis\":{\"gridcolor\":\"white\",\"linecolor\":\"white\",\"ticks\":\"\"},\"baxis\":{\"gridcolor\":\"white\",\"linecolor\":\"white\",\"ticks\":\"\"},\"bgcolor\":\"#E5ECF6\",\"caxis\":{\"gridcolor\":\"white\",\"linecolor\":\"white\",\"ticks\":\"\"}},\"title\":{\"x\":0.05},\"xaxis\":{\"automargin\":true,\"gridcolor\":\"white\",\"linecolor\":\"white\",\"ticks\":\"\",\"title\":{\"standoff\":15},\"zerolinecolor\":\"white\",\"zerolinewidth\":2},\"yaxis\":{\"automargin\":true,\"gridcolor\":\"white\",\"linecolor\":\"white\",\"ticks\":\"\",\"title\":{\"standoff\":15},\"zerolinecolor\":\"white\",\"zerolinewidth\":2}}}},                        {\"responsive\": true}                    ).then(function(){\n",
       "                            \n",
       "var gd = document.getElementById('66291a5a-9f22-482e-a50e-a78557ffe511');\n",
       "var x = new MutationObserver(function (mutations, observer) {{\n",
       "        var display = window.getComputedStyle(gd).display;\n",
       "        if (!display || display === 'none') {{\n",
       "            console.log([gd, 'removed!']);\n",
       "            Plotly.purge(gd);\n",
       "            observer.disconnect();\n",
       "        }}\n",
       "}});\n",
       "\n",
       "// Listen for the removal of the full notebook cells\n",
       "var notebookContainer = gd.closest('#notebook-container');\n",
       "if (notebookContainer) {{\n",
       "    x.observe(notebookContainer, {childList: true});\n",
       "}}\n",
       "\n",
       "// Listen for the clearing of the current output cell\n",
       "var outputEl = gd.closest('.output');\n",
       "if (outputEl) {{\n",
       "    x.observe(outputEl, {childList: true});\n",
       "}}\n",
       "\n",
       "                        })                };                });            </script>        </div>"
      ]
     },
     "metadata": {},
     "output_type": "display_data"
    }
   ],
   "source": [
    "candle = 75\n",
    "backcandles = 40\n",
    "window = 3\n",
    "\n",
    "#dfpl = df[candle-backcandles-window-5:candle+200]\n",
    "\n",
    "fig = go.Figure(data=[go.Candlestick(x=dfpl.index,\n",
    "                open=dfpl['Open'],\n",
    "                high=dfpl['High'],\n",
    "                low=dfpl['Low'],\n",
    "                close=dfpl['Close'])])\n",
    "\n",
    "fig.add_scatter(x=dfpl.index, y=dfpl['pointpos'], mode=\"markers\",\n",
    "                marker=dict(size=5, color=\"MediumPurple\"),\n",
    "                name=\"pivot\")\n",
    "\n",
    "sl_lows, interc_lows, sl_highs, interc_highs, r_sq_l, r_sq_h = collect_channel(candle, backcandles, window)\n",
    "print(r_sq_l, r_sq_h)\n",
    "x = np.array(range(candle-backcandles-window, candle+1))\n",
    "fig.add_trace(go.Scatter(x=x, y=sl_lows*x + interc_lows, mode='lines', name='lower slope'))\n",
    "fig.add_trace(go.Scatter(x=x, y=sl_highs*x + interc_highs, mode='lines', name='max slope'))\n",
    "#fig.update_layout(xaxis_rangeslider_visible=False)\n",
    "fig.show()"
   ]
  },
  {
   "cell_type": "markdown",
   "id": "57b58755",
   "metadata": {},
   "source": [
    "## Detect Break Out"
   ]
  },
  {
   "cell_type": "code",
   "execution_count": 29,
   "id": "57028e27",
   "metadata": {},
   "outputs": [],
   "source": [
    "def isBreakOut(candle, backcandles, window):\n",
    "    if (candle-backcandles-window)<0:\n",
    "        return 0\n",
    "    \n",
    "    sl_lows, interc_lows, sl_highs, interc_highs, r_sq_l, r_sq_h = collect_channel(candle, \n",
    "                                                                                   backcandles, \n",
    "                                                                                   window)\n",
    "    \n",
    "    prev_idx = candle-1\n",
    "    prev_high = df.iloc[candle-1].High\n",
    "    prev_low = df.iloc[candle-1].Low\n",
    "    prev_close = df.iloc[candle-1].Close\n",
    "    \n",
    "    curr_idx = candle\n",
    "    curr_high = df.iloc[candle].High\n",
    "    curr_low = df.iloc[candle].Low\n",
    "    curr_close = df.iloc[candle].Close\n",
    "    curr_open = df.iloc[candle].Open\n",
    "\n",
    "    if ( prev_high > (sl_lows*prev_idx + interc_lows) and\n",
    "        prev_close < (sl_lows*prev_idx + interc_lows) and\n",
    "        curr_open < (sl_lows*curr_idx + interc_lows) and\n",
    "        curr_close < (sl_lows*prev_idx + interc_lows)): #and r_sq_l > 0.9\n",
    "        return 1\n",
    "    \n",
    "    elif ( prev_low < (sl_highs*prev_idx + interc_highs) and\n",
    "        prev_close > (sl_highs*prev_idx + interc_highs) and\n",
    "        curr_open > (sl_highs*curr_idx + interc_highs) and\n",
    "        curr_close > (sl_highs*prev_idx + interc_highs)): #and r_sq_h > 0.9\n",
    "        return 2\n",
    "    \n",
    "    else:\n",
    "        return 0"
   ]
  },
  {
   "cell_type": "code",
   "execution_count": 31,
   "id": "3adc64f8",
   "metadata": {},
   "outputs": [
    {
     "name": "stderr",
     "output_type": "stream",
     "text": [
      "D:\\ProgramFiles\\Anaconda3\\lib\\site-packages\\ipykernel_launcher.py:3: SettingWithCopyWarning:\n",
      "\n",
      "\n",
      "A value is trying to be set on a copy of a slice from a DataFrame.\n",
      "Try using .loc[row_indexer,col_indexer] = value instead\n",
      "\n",
      "See the caveats in the documentation: https://pandas.pydata.org/pandas-docs/stable/user_guide/indexing.html#returning-a-view-versus-a-copy\n",
      "\n",
      "D:\\ProgramFiles\\Anaconda3\\lib\\site-packages\\ipykernel_launcher.py:13: SettingWithCopyWarning:\n",
      "\n",
      "\n",
      "A value is trying to be set on a copy of a slice from a DataFrame.\n",
      "Try using .loc[row_indexer,col_indexer] = value instead\n",
      "\n",
      "See the caveats in the documentation: https://pandas.pydata.org/pandas-docs/stable/user_guide/indexing.html#returning-a-view-versus-a-copy\n",
      "\n",
      "D:\\ProgramFiles\\Anaconda3\\lib\\site-packages\\ipykernel_launcher.py:14: SettingWithCopyWarning:\n",
      "\n",
      "\n",
      "A value is trying to be set on a copy of a slice from a DataFrame.\n",
      "Try using .loc[row_indexer,col_indexer] = value instead\n",
      "\n",
      "See the caveats in the documentation: https://pandas.pydata.org/pandas-docs/stable/user_guide/indexing.html#returning-a-view-versus-a-copy\n",
      "\n"
     ]
    }
   ],
   "source": [
    "def breakpointpos(x):\n",
    "    if x['isBreakOut']==2:\n",
    "        return x['Low']-3e-3\n",
    "    elif x['isBreakOut']==1:\n",
    "        return x['High']+3e-3\n",
    "    else:\n",
    "        return np.nan\n",
    "\n",
    "candle = 75\n",
    "backcandles = 40\n",
    "window = 3\n",
    "dfpl = df[candle-backcandles-window-5:candle+20]\n",
    "dfpl[\"isBreakOut\"] = [isBreakOut(candle, backcandles, window) for candle in dfpl.index]\n",
    "dfpl['breakpointpos'] = dfpl.apply(lambda row: breakpointpos(row), axis=1)"
   ]
  },
  {
   "cell_type": "code",
   "execution_count": 33,
   "id": "a6b5b35f",
   "metadata": {},
   "outputs": [
    {
     "name": "stdout",
     "output_type": "stream",
     "text": [
      "1.0 0.5525995544506749\n"
     ]
    },
    {
     "name": "stderr",
     "output_type": "stream",
     "text": [
      "D:\\ProgramFiles\\Anaconda3\\lib\\site-packages\\ipykernel_launcher.py:3: SettingWithCopyWarning:\n",
      "\n",
      "\n",
      "A value is trying to be set on a copy of a slice from a DataFrame.\n",
      "Try using .loc[row_indexer,col_indexer] = value instead\n",
      "\n",
      "See the caveats in the documentation: https://pandas.pydata.org/pandas-docs/stable/user_guide/indexing.html#returning-a-view-versus-a-copy\n",
      "\n"
     ]
    },
    {
     "data": {
      "application/vnd.plotly.v1+json": {
       "config": {
        "plotlyServerURL": "https://plot.ly"
       },
       "data": [
        {
         "close": [
          1.17815,
          1.17203,
          1.17441,
          1.17337,
          1.16444,
          1.18397,
          1.16973,
          1.16973,
          1.16989,
          1.17094,
          1.16773,
          1.17571,
          1.17693,
          1.18651,
          1.18651,
          1.18759,
          1.18178,
          1.17831,
          1.16817,
          1.17041,
          1.16021,
          1.16021,
          1.1585,
          1.1549,
          1.14959,
          1.15365,
          1.1423,
          1.14291,
          1.14291,
          1.14234,
          1.15196,
          1.15613,
          1.153,
          1.14915,
          1.14912,
          1.14912,
          1.14663,
          1.13213,
          1.13135,
          1.13362,
          1.13593,
          1.12773,
          1.12773,
          1.12788,
          1.12702,
          1.11762,
          1.12269,
          1.12323,
          1.1267,
          1.1267,
          1.12452,
          1.13349,
          1.1325,
          1.1483,
          1.14695,
          1.15094,
          1.15094,
          1.14959,
          1.14842,
          1.14413,
          1.13476,
          1.12363,
          1.12709,
          1.12709,
          1.12678,
          1.13523,
          1.13908,
          1.13364
         ],
         "high": [
          1.17815,
          1.17813,
          1.17671,
          1.17773,
          1.17463,
          1.1885,
          1.18772,
          1.16973,
          1.17102,
          1.17846,
          1.174,
          1.17805,
          1.18038,
          1.18758,
          1.18651,
          1.18759,
          1.19263,
          1.18652,
          1.18016,
          1.17372,
          1.17333,
          1.16021,
          1.15997,
          1.16028,
          1.15801,
          1.16205,
          1.15425,
          1.14665,
          1.14291,
          1.1436,
          1.1532,
          1.16069,
          1.15668,
          1.15387,
          1.14933,
          1.14912,
          1.14902,
          1.14693,
          1.13498,
          1.1365,
          1.13914,
          1.13601,
          1.12773,
          1.1297,
          1.1307,
          1.13358,
          1.12305,
          1.12477,
          1.13022,
          1.1267,
          1.12711,
          1.1356,
          1.13713,
          1.1491,
          1.15091,
          1.15477,
          1.15094,
          1.15601,
          1.15172,
          1.15365,
          1.14509,
          1.13611,
          1.1281,
          1.12709,
          1.12883,
          1.13734,
          1.13969,
          1.1425
         ],
         "low": [
          1.17815,
          1.17058,
          1.16504,
          1.16858,
          1.16321,
          1.16273,
          1.16829,
          1.16973,
          1.16839,
          1.16548,
          1.1662,
          1.16571,
          1.1702,
          1.17338,
          1.18651,
          1.18573,
          1.18125,
          1.1767,
          1.16604,
          1.15826,
          1.15501,
          1.16021,
          1.15707,
          1.15069,
          1.1475,
          1.14937,
          1.14105,
          1.13984,
          1.14291,
          1.1419,
          1.13964,
          1.15045,
          1.15035,
          1.14316,
          1.14462,
          1.14912,
          1.14526,
          1.1308,
          1.12577,
          1.13029,
          1.13085,
          1.12735,
          1.12773,
          1.1266,
          1.1241,
          1.1155,
          1.11113,
          1.11556,
          1.11701,
          1.1267,
          1.12434,
          1.12401,
          1.13044,
          1.13119,
          1.1422,
          1.14425,
          1.15094,
          1.14716,
          1.14511,
          1.14268,
          1.13338,
          1.12222,
          1.11338,
          1.12709,
          1.1263,
          1.12564,
          1.13054,
          1.13238
         ],
         "open": [
          1.17815,
          1.178,
          1.172,
          1.17411,
          1.17324,
          1.16448,
          1.18391,
          1.16973,
          1.16977,
          1.16983,
          1.17087,
          1.16755,
          1.1755,
          1.17674,
          1.18651,
          1.18663,
          1.18763,
          1.18178,
          1.1781,
          1.16816,
          1.17026,
          1.16021,
          1.15922,
          1.15839,
          1.15488,
          1.14968,
          1.15352,
          1.14231,
          1.14291,
          1.1428,
          1.14228,
          1.15201,
          1.15593,
          1.15282,
          1.14888,
          1.14912,
          1.14902,
          1.14641,
          1.13219,
          1.13165,
          1.13356,
          1.13552,
          1.12773,
          1.12773,
          1.12776,
          1.12701,
          1.11763,
          1.12243,
          1.12336,
          1.1267,
          1.12673,
          1.12439,
          1.13309,
          1.13224,
          1.14842,
          1.14668,
          1.15094,
          1.15583,
          1.14939,
          1.14852,
          1.1441,
          1.13501,
          1.1235,
          1.12709,
          1.1277,
          1.12672,
          1.13518,
          1.13868
         ],
         "type": "candlestick",
         "x": [
          27,
          28,
          29,
          30,
          31,
          32,
          33,
          34,
          35,
          36,
          37,
          38,
          39,
          40,
          41,
          42,
          43,
          44,
          45,
          46,
          47,
          48,
          49,
          50,
          51,
          52,
          53,
          54,
          55,
          56,
          57,
          58,
          59,
          60,
          61,
          62,
          63,
          64,
          65,
          66,
          67,
          68,
          69,
          70,
          71,
          72,
          73,
          74,
          75,
          76,
          77,
          78,
          79,
          80,
          81,
          82,
          83,
          84,
          85,
          86,
          87,
          88,
          89,
          90,
          91,
          92,
          93,
          94
         ]
        },
        {
         "marker": {
          "color": "MediumPurple",
          "size": 5
         },
         "mode": "markers",
         "name": "pivot",
         "type": "scatter",
         "x": [
          27,
          28,
          29,
          30,
          31,
          32,
          33,
          34,
          35,
          36,
          37,
          38,
          39,
          40,
          41,
          42,
          43,
          44,
          45,
          46,
          47,
          48,
          49,
          50,
          51,
          52,
          53,
          54,
          55,
          56,
          57,
          58,
          59,
          60,
          61,
          62,
          63,
          64,
          65,
          66,
          67,
          68,
          69,
          70,
          71,
          72,
          73,
          74,
          75,
          76,
          77,
          78,
          79,
          80,
          81,
          82,
          83,
          84,
          85,
          86,
          87,
          88,
          89,
          90,
          91,
          92,
          93,
          94
         ],
         "y": [
          null,
          null,
          null,
          null,
          null,
          null,
          null,
          null,
          null,
          1.1644800000000002,
          null,
          null,
          null,
          null,
          null,
          null,
          1.19363,
          null,
          null,
          null,
          null,
          null,
          null,
          null,
          null,
          1.16305,
          null,
          null,
          null,
          null,
          1.13864,
          1.16169,
          null,
          null,
          null,
          null,
          null,
          null,
          1.12477,
          null,
          null,
          null,
          null,
          null,
          null,
          1.13458,
          1.11013,
          null,
          null,
          null,
          null,
          null,
          null,
          null,
          null,
          null,
          null,
          1.1570099999999999,
          null,
          null,
          null,
          null,
          1.1123800000000001,
          null,
          null,
          null,
          null,
          1.1435
         ]
        },
        {
         "marker": {
          "color": "Black",
          "size": 8,
          "symbol": "hexagram"
         },
         "mode": "markers",
         "name": "pivot",
         "type": "scatter",
         "x": [
          27,
          28,
          29,
          30,
          31,
          32,
          33,
          34,
          35,
          36,
          37,
          38,
          39,
          40,
          41,
          42,
          43,
          44,
          45,
          46,
          47,
          48,
          49,
          50,
          51,
          52,
          53,
          54,
          55,
          56,
          57,
          58,
          59,
          60,
          61,
          62,
          63,
          64,
          65,
          66,
          67,
          68,
          69,
          70,
          71,
          72,
          73,
          74,
          75,
          76,
          77,
          78,
          79,
          80,
          81,
          82,
          83,
          84,
          85,
          86,
          87,
          88,
          89,
          90,
          91,
          92,
          93,
          94
         ],
         "y": [
          null,
          null,
          null,
          null,
          null,
          null,
          null,
          null,
          null,
          null,
          null,
          null,
          null,
          null,
          null,
          null,
          null,
          null,
          1.18316,
          null,
          null,
          null,
          null,
          null,
          null,
          null,
          null,
          null,
          null,
          null,
          null,
          null,
          1.1596799999999998,
          null,
          null,
          null,
          null,
          null,
          1.13798,
          null,
          null,
          null,
          null,
          null,
          null,
          null,
          null,
          null,
          1.1140100000000002,
          1.1237000000000001,
          null,
          null,
          null,
          null,
          null,
          null,
          null,
          null,
          null,
          null,
          null,
          null,
          null,
          null,
          null,
          null,
          null,
          null
         ]
        },
        {
         "mode": "lines",
         "name": "lower slope",
         "type": "scatter",
         "x": [
          16,
          17,
          18,
          19,
          20,
          21,
          22,
          23,
          24,
          25,
          26,
          27,
          28,
          29,
          30,
          31,
          32,
          33,
          34,
          35,
          36,
          37,
          38,
          39,
          40,
          41,
          42,
          43,
          44,
          45,
          46,
          47,
          48,
          49,
          50,
          51,
          52,
          53,
          54,
          55,
          56,
          57,
          58,
          59
         ],
         "y": [
          1.1720436363636364,
          1.1717154545454547,
          1.1713872727272727,
          1.171059090909091,
          1.1707309090909093,
          1.1704027272727273,
          1.1700745454545456,
          1.1697463636363639,
          1.169418181818182,
          1.1690900000000002,
          1.1687618181818185,
          1.1684336363636365,
          1.1681054545454548,
          1.1677772727272728,
          1.167449090909091,
          1.1671209090909094,
          1.1667927272727274,
          1.1664645454545457,
          1.166136363636364,
          1.165808181818182,
          1.1654800000000003,
          1.1651518181818186,
          1.1648236363636366,
          1.1644954545454549,
          1.164167272727273,
          1.1638390909090912,
          1.1635109090909095,
          1.1631827272727275,
          1.1628545454545458,
          1.162526363636364,
          1.1621981818181821,
          1.1618700000000004,
          1.1615418181818187,
          1.1612136363636367,
          1.160885454545455,
          1.160557272727273,
          1.1602290909090913,
          1.1599009090909096,
          1.1595727272727276,
          1.159244545454546,
          1.1589163636363642,
          1.1585881818181822,
          1.1582600000000005,
          1.1579318181818188
         ]
        },
        {
         "mode": "lines",
         "name": "max slope",
         "type": "scatter",
         "x": [
          16,
          17,
          18,
          19,
          20,
          21,
          22,
          23,
          24,
          25,
          26,
          27,
          28,
          29,
          30,
          31,
          32,
          33,
          34,
          35,
          36,
          37,
          38,
          39,
          40,
          41,
          42,
          43,
          44,
          45,
          46,
          47,
          48,
          49,
          50,
          51,
          52,
          53,
          54,
          55,
          56,
          57,
          58,
          59
         ],
         "y": [
          1.203222284417549,
          1.2023347579425114,
          1.2014472314674736,
          1.2005597049924357,
          1.1996721785173978,
          1.1987846520423602,
          1.1978971255673223,
          1.1970095990922844,
          1.1961220726172466,
          1.1952345461422087,
          1.194347019667171,
          1.1934594931921332,
          1.1925719667170953,
          1.1916844402420574,
          1.1907969137670198,
          1.189909387291982,
          1.189021860816944,
          1.1881343343419062,
          1.1872468078668683,
          1.1863592813918307,
          1.1854717549167928,
          1.184584228441755,
          1.183696701966717,
          1.1828091754916792,
          1.1819216490166415,
          1.1810341225416037,
          1.1801465960665658,
          1.179259069591528,
          1.1783715431164903,
          1.1774840166414524,
          1.1765964901664145,
          1.1757089636913767,
          1.1748214372163388,
          1.1739339107413012,
          1.1730463842662633,
          1.1721588577912254,
          1.1712713313161875,
          1.17038380484115,
          1.169496278366112,
          1.1686087518910742,
          1.1677212254160363,
          1.1668336989409984,
          1.1659461724659608,
          1.165058645990923
         ]
        }
       ],
       "layout": {
        "template": {
         "data": {
          "bar": [
           {
            "error_x": {
             "color": "#2a3f5f"
            },
            "error_y": {
             "color": "#2a3f5f"
            },
            "marker": {
             "line": {
              "color": "#E5ECF6",
              "width": 0.5
             },
             "pattern": {
              "fillmode": "overlay",
              "size": 10,
              "solidity": 0.2
             }
            },
            "type": "bar"
           }
          ],
          "barpolar": [
           {
            "marker": {
             "line": {
              "color": "#E5ECF6",
              "width": 0.5
             },
             "pattern": {
              "fillmode": "overlay",
              "size": 10,
              "solidity": 0.2
             }
            },
            "type": "barpolar"
           }
          ],
          "carpet": [
           {
            "aaxis": {
             "endlinecolor": "#2a3f5f",
             "gridcolor": "white",
             "linecolor": "white",
             "minorgridcolor": "white",
             "startlinecolor": "#2a3f5f"
            },
            "baxis": {
             "endlinecolor": "#2a3f5f",
             "gridcolor": "white",
             "linecolor": "white",
             "minorgridcolor": "white",
             "startlinecolor": "#2a3f5f"
            },
            "type": "carpet"
           }
          ],
          "choropleth": [
           {
            "colorbar": {
             "outlinewidth": 0,
             "ticks": ""
            },
            "type": "choropleth"
           }
          ],
          "contour": [
           {
            "colorbar": {
             "outlinewidth": 0,
             "ticks": ""
            },
            "colorscale": [
             [
              0,
              "#0d0887"
             ],
             [
              0.1111111111111111,
              "#46039f"
             ],
             [
              0.2222222222222222,
              "#7201a8"
             ],
             [
              0.3333333333333333,
              "#9c179e"
             ],
             [
              0.4444444444444444,
              "#bd3786"
             ],
             [
              0.5555555555555556,
              "#d8576b"
             ],
             [
              0.6666666666666666,
              "#ed7953"
             ],
             [
              0.7777777777777778,
              "#fb9f3a"
             ],
             [
              0.8888888888888888,
              "#fdca26"
             ],
             [
              1,
              "#f0f921"
             ]
            ],
            "type": "contour"
           }
          ],
          "contourcarpet": [
           {
            "colorbar": {
             "outlinewidth": 0,
             "ticks": ""
            },
            "type": "contourcarpet"
           }
          ],
          "heatmap": [
           {
            "colorbar": {
             "outlinewidth": 0,
             "ticks": ""
            },
            "colorscale": [
             [
              0,
              "#0d0887"
             ],
             [
              0.1111111111111111,
              "#46039f"
             ],
             [
              0.2222222222222222,
              "#7201a8"
             ],
             [
              0.3333333333333333,
              "#9c179e"
             ],
             [
              0.4444444444444444,
              "#bd3786"
             ],
             [
              0.5555555555555556,
              "#d8576b"
             ],
             [
              0.6666666666666666,
              "#ed7953"
             ],
             [
              0.7777777777777778,
              "#fb9f3a"
             ],
             [
              0.8888888888888888,
              "#fdca26"
             ],
             [
              1,
              "#f0f921"
             ]
            ],
            "type": "heatmap"
           }
          ],
          "heatmapgl": [
           {
            "colorbar": {
             "outlinewidth": 0,
             "ticks": ""
            },
            "colorscale": [
             [
              0,
              "#0d0887"
             ],
             [
              0.1111111111111111,
              "#46039f"
             ],
             [
              0.2222222222222222,
              "#7201a8"
             ],
             [
              0.3333333333333333,
              "#9c179e"
             ],
             [
              0.4444444444444444,
              "#bd3786"
             ],
             [
              0.5555555555555556,
              "#d8576b"
             ],
             [
              0.6666666666666666,
              "#ed7953"
             ],
             [
              0.7777777777777778,
              "#fb9f3a"
             ],
             [
              0.8888888888888888,
              "#fdca26"
             ],
             [
              1,
              "#f0f921"
             ]
            ],
            "type": "heatmapgl"
           }
          ],
          "histogram": [
           {
            "marker": {
             "pattern": {
              "fillmode": "overlay",
              "size": 10,
              "solidity": 0.2
             }
            },
            "type": "histogram"
           }
          ],
          "histogram2d": [
           {
            "colorbar": {
             "outlinewidth": 0,
             "ticks": ""
            },
            "colorscale": [
             [
              0,
              "#0d0887"
             ],
             [
              0.1111111111111111,
              "#46039f"
             ],
             [
              0.2222222222222222,
              "#7201a8"
             ],
             [
              0.3333333333333333,
              "#9c179e"
             ],
             [
              0.4444444444444444,
              "#bd3786"
             ],
             [
              0.5555555555555556,
              "#d8576b"
             ],
             [
              0.6666666666666666,
              "#ed7953"
             ],
             [
              0.7777777777777778,
              "#fb9f3a"
             ],
             [
              0.8888888888888888,
              "#fdca26"
             ],
             [
              1,
              "#f0f921"
             ]
            ],
            "type": "histogram2d"
           }
          ],
          "histogram2dcontour": [
           {
            "colorbar": {
             "outlinewidth": 0,
             "ticks": ""
            },
            "colorscale": [
             [
              0,
              "#0d0887"
             ],
             [
              0.1111111111111111,
              "#46039f"
             ],
             [
              0.2222222222222222,
              "#7201a8"
             ],
             [
              0.3333333333333333,
              "#9c179e"
             ],
             [
              0.4444444444444444,
              "#bd3786"
             ],
             [
              0.5555555555555556,
              "#d8576b"
             ],
             [
              0.6666666666666666,
              "#ed7953"
             ],
             [
              0.7777777777777778,
              "#fb9f3a"
             ],
             [
              0.8888888888888888,
              "#fdca26"
             ],
             [
              1,
              "#f0f921"
             ]
            ],
            "type": "histogram2dcontour"
           }
          ],
          "mesh3d": [
           {
            "colorbar": {
             "outlinewidth": 0,
             "ticks": ""
            },
            "type": "mesh3d"
           }
          ],
          "parcoords": [
           {
            "line": {
             "colorbar": {
              "outlinewidth": 0,
              "ticks": ""
             }
            },
            "type": "parcoords"
           }
          ],
          "pie": [
           {
            "automargin": true,
            "type": "pie"
           }
          ],
          "scatter": [
           {
            "marker": {
             "colorbar": {
              "outlinewidth": 0,
              "ticks": ""
             }
            },
            "type": "scatter"
           }
          ],
          "scatter3d": [
           {
            "line": {
             "colorbar": {
              "outlinewidth": 0,
              "ticks": ""
             }
            },
            "marker": {
             "colorbar": {
              "outlinewidth": 0,
              "ticks": ""
             }
            },
            "type": "scatter3d"
           }
          ],
          "scattercarpet": [
           {
            "marker": {
             "colorbar": {
              "outlinewidth": 0,
              "ticks": ""
             }
            },
            "type": "scattercarpet"
           }
          ],
          "scattergeo": [
           {
            "marker": {
             "colorbar": {
              "outlinewidth": 0,
              "ticks": ""
             }
            },
            "type": "scattergeo"
           }
          ],
          "scattergl": [
           {
            "marker": {
             "colorbar": {
              "outlinewidth": 0,
              "ticks": ""
             }
            },
            "type": "scattergl"
           }
          ],
          "scattermapbox": [
           {
            "marker": {
             "colorbar": {
              "outlinewidth": 0,
              "ticks": ""
             }
            },
            "type": "scattermapbox"
           }
          ],
          "scatterpolar": [
           {
            "marker": {
             "colorbar": {
              "outlinewidth": 0,
              "ticks": ""
             }
            },
            "type": "scatterpolar"
           }
          ],
          "scatterpolargl": [
           {
            "marker": {
             "colorbar": {
              "outlinewidth": 0,
              "ticks": ""
             }
            },
            "type": "scatterpolargl"
           }
          ],
          "scatterternary": [
           {
            "marker": {
             "colorbar": {
              "outlinewidth": 0,
              "ticks": ""
             }
            },
            "type": "scatterternary"
           }
          ],
          "surface": [
           {
            "colorbar": {
             "outlinewidth": 0,
             "ticks": ""
            },
            "colorscale": [
             [
              0,
              "#0d0887"
             ],
             [
              0.1111111111111111,
              "#46039f"
             ],
             [
              0.2222222222222222,
              "#7201a8"
             ],
             [
              0.3333333333333333,
              "#9c179e"
             ],
             [
              0.4444444444444444,
              "#bd3786"
             ],
             [
              0.5555555555555556,
              "#d8576b"
             ],
             [
              0.6666666666666666,
              "#ed7953"
             ],
             [
              0.7777777777777778,
              "#fb9f3a"
             ],
             [
              0.8888888888888888,
              "#fdca26"
             ],
             [
              1,
              "#f0f921"
             ]
            ],
            "type": "surface"
           }
          ],
          "table": [
           {
            "cells": {
             "fill": {
              "color": "#EBF0F8"
             },
             "line": {
              "color": "white"
             }
            },
            "header": {
             "fill": {
              "color": "#C8D4E3"
             },
             "line": {
              "color": "white"
             }
            },
            "type": "table"
           }
          ]
         },
         "layout": {
          "annotationdefaults": {
           "arrowcolor": "#2a3f5f",
           "arrowhead": 0,
           "arrowwidth": 1
          },
          "autotypenumbers": "strict",
          "coloraxis": {
           "colorbar": {
            "outlinewidth": 0,
            "ticks": ""
           }
          },
          "colorscale": {
           "diverging": [
            [
             0,
             "#8e0152"
            ],
            [
             0.1,
             "#c51b7d"
            ],
            [
             0.2,
             "#de77ae"
            ],
            [
             0.3,
             "#f1b6da"
            ],
            [
             0.4,
             "#fde0ef"
            ],
            [
             0.5,
             "#f7f7f7"
            ],
            [
             0.6,
             "#e6f5d0"
            ],
            [
             0.7,
             "#b8e186"
            ],
            [
             0.8,
             "#7fbc41"
            ],
            [
             0.9,
             "#4d9221"
            ],
            [
             1,
             "#276419"
            ]
           ],
           "sequential": [
            [
             0,
             "#0d0887"
            ],
            [
             0.1111111111111111,
             "#46039f"
            ],
            [
             0.2222222222222222,
             "#7201a8"
            ],
            [
             0.3333333333333333,
             "#9c179e"
            ],
            [
             0.4444444444444444,
             "#bd3786"
            ],
            [
             0.5555555555555556,
             "#d8576b"
            ],
            [
             0.6666666666666666,
             "#ed7953"
            ],
            [
             0.7777777777777778,
             "#fb9f3a"
            ],
            [
             0.8888888888888888,
             "#fdca26"
            ],
            [
             1,
             "#f0f921"
            ]
           ],
           "sequentialminus": [
            [
             0,
             "#0d0887"
            ],
            [
             0.1111111111111111,
             "#46039f"
            ],
            [
             0.2222222222222222,
             "#7201a8"
            ],
            [
             0.3333333333333333,
             "#9c179e"
            ],
            [
             0.4444444444444444,
             "#bd3786"
            ],
            [
             0.5555555555555556,
             "#d8576b"
            ],
            [
             0.6666666666666666,
             "#ed7953"
            ],
            [
             0.7777777777777778,
             "#fb9f3a"
            ],
            [
             0.8888888888888888,
             "#fdca26"
            ],
            [
             1,
             "#f0f921"
            ]
           ]
          },
          "colorway": [
           "#636efa",
           "#EF553B",
           "#00cc96",
           "#ab63fa",
           "#FFA15A",
           "#19d3f3",
           "#FF6692",
           "#B6E880",
           "#FF97FF",
           "#FECB52"
          ],
          "font": {
           "color": "#2a3f5f"
          },
          "geo": {
           "bgcolor": "white",
           "lakecolor": "white",
           "landcolor": "#E5ECF6",
           "showlakes": true,
           "showland": true,
           "subunitcolor": "white"
          },
          "hoverlabel": {
           "align": "left"
          },
          "hovermode": "closest",
          "mapbox": {
           "style": "light"
          },
          "paper_bgcolor": "white",
          "plot_bgcolor": "#E5ECF6",
          "polar": {
           "angularaxis": {
            "gridcolor": "white",
            "linecolor": "white",
            "ticks": ""
           },
           "bgcolor": "#E5ECF6",
           "radialaxis": {
            "gridcolor": "white",
            "linecolor": "white",
            "ticks": ""
           }
          },
          "scene": {
           "xaxis": {
            "backgroundcolor": "#E5ECF6",
            "gridcolor": "white",
            "gridwidth": 2,
            "linecolor": "white",
            "showbackground": true,
            "ticks": "",
            "zerolinecolor": "white"
           },
           "yaxis": {
            "backgroundcolor": "#E5ECF6",
            "gridcolor": "white",
            "gridwidth": 2,
            "linecolor": "white",
            "showbackground": true,
            "ticks": "",
            "zerolinecolor": "white"
           },
           "zaxis": {
            "backgroundcolor": "#E5ECF6",
            "gridcolor": "white",
            "gridwidth": 2,
            "linecolor": "white",
            "showbackground": true,
            "ticks": "",
            "zerolinecolor": "white"
           }
          },
          "shapedefaults": {
           "line": {
            "color": "#2a3f5f"
           }
          },
          "ternary": {
           "aaxis": {
            "gridcolor": "white",
            "linecolor": "white",
            "ticks": ""
           },
           "baxis": {
            "gridcolor": "white",
            "linecolor": "white",
            "ticks": ""
           },
           "bgcolor": "#E5ECF6",
           "caxis": {
            "gridcolor": "white",
            "linecolor": "white",
            "ticks": ""
           }
          },
          "title": {
           "x": 0.05
          },
          "xaxis": {
           "automargin": true,
           "gridcolor": "white",
           "linecolor": "white",
           "ticks": "",
           "title": {
            "standoff": 15
           },
           "zerolinecolor": "white",
           "zerolinewidth": 2
          },
          "yaxis": {
           "automargin": true,
           "gridcolor": "white",
           "linecolor": "white",
           "ticks": "",
           "title": {
            "standoff": 15
           },
           "zerolinecolor": "white",
           "zerolinewidth": 2
          }
         }
        }
       }
      },
      "text/html": [
       "<div>                            <div id=\"4bafcb5f-84d3-46e7-898c-d6f2b83e9d9c\" class=\"plotly-graph-div\" style=\"height:525px; width:100%;\"></div>            <script type=\"text/javascript\">                require([\"plotly\"], function(Plotly) {                    window.PLOTLYENV=window.PLOTLYENV || {};                                    if (document.getElementById(\"4bafcb5f-84d3-46e7-898c-d6f2b83e9d9c\")) {                    Plotly.newPlot(                        \"4bafcb5f-84d3-46e7-898c-d6f2b83e9d9c\",                        [{\"close\":[1.17815,1.17203,1.17441,1.17337,1.16444,1.18397,1.16973,1.16973,1.16989,1.17094,1.16773,1.17571,1.17693,1.18651,1.18651,1.18759,1.18178,1.17831,1.16817,1.17041,1.16021,1.16021,1.1585,1.1549,1.14959,1.15365,1.1423,1.14291,1.14291,1.14234,1.15196,1.15613,1.153,1.14915,1.14912,1.14912,1.14663,1.13213,1.13135,1.13362,1.13593,1.12773,1.12773,1.12788,1.12702,1.11762,1.12269,1.12323,1.1267,1.1267,1.12452,1.13349,1.1325,1.1483,1.14695,1.15094,1.15094,1.14959,1.14842,1.14413,1.13476,1.12363,1.12709,1.12709,1.12678,1.13523,1.13908,1.13364],\"high\":[1.17815,1.17813,1.17671,1.17773,1.17463,1.1885,1.18772,1.16973,1.17102,1.17846,1.174,1.17805,1.18038,1.18758,1.18651,1.18759,1.19263,1.18652,1.18016,1.17372,1.17333,1.16021,1.15997,1.16028,1.15801,1.16205,1.15425,1.14665,1.14291,1.1436,1.1532,1.16069,1.15668,1.15387,1.14933,1.14912,1.14902,1.14693,1.13498,1.1365,1.13914,1.13601,1.12773,1.1297,1.1307,1.13358,1.12305,1.12477,1.13022,1.1267,1.12711,1.1356,1.13713,1.1491,1.15091,1.15477,1.15094,1.15601,1.15172,1.15365,1.14509,1.13611,1.1281,1.12709,1.12883,1.13734,1.13969,1.1425],\"low\":[1.17815,1.17058,1.16504,1.16858,1.16321,1.16273,1.16829,1.16973,1.16839,1.16548,1.1662,1.16571,1.1702,1.17338,1.18651,1.18573,1.18125,1.1767,1.16604,1.15826,1.15501,1.16021,1.15707,1.15069,1.1475,1.14937,1.14105,1.13984,1.14291,1.1419,1.13964,1.15045,1.15035,1.14316,1.14462,1.14912,1.14526,1.1308,1.12577,1.13029,1.13085,1.12735,1.12773,1.1266,1.1241,1.1155,1.11113,1.11556,1.11701,1.1267,1.12434,1.12401,1.13044,1.13119,1.1422,1.14425,1.15094,1.14716,1.14511,1.14268,1.13338,1.12222,1.11338,1.12709,1.1263,1.12564,1.13054,1.13238],\"open\":[1.17815,1.178,1.172,1.17411,1.17324,1.16448,1.18391,1.16973,1.16977,1.16983,1.17087,1.16755,1.1755,1.17674,1.18651,1.18663,1.18763,1.18178,1.1781,1.16816,1.17026,1.16021,1.15922,1.15839,1.15488,1.14968,1.15352,1.14231,1.14291,1.1428,1.14228,1.15201,1.15593,1.15282,1.14888,1.14912,1.14902,1.14641,1.13219,1.13165,1.13356,1.13552,1.12773,1.12773,1.12776,1.12701,1.11763,1.12243,1.12336,1.1267,1.12673,1.12439,1.13309,1.13224,1.14842,1.14668,1.15094,1.15583,1.14939,1.14852,1.1441,1.13501,1.1235,1.12709,1.1277,1.12672,1.13518,1.13868],\"type\":\"candlestick\",\"x\":[27,28,29,30,31,32,33,34,35,36,37,38,39,40,41,42,43,44,45,46,47,48,49,50,51,52,53,54,55,56,57,58,59,60,61,62,63,64,65,66,67,68,69,70,71,72,73,74,75,76,77,78,79,80,81,82,83,84,85,86,87,88,89,90,91,92,93,94]},{\"marker\":{\"color\":\"MediumPurple\",\"size\":5},\"mode\":\"markers\",\"name\":\"pivot\",\"type\":\"scatter\",\"x\":[27,28,29,30,31,32,33,34,35,36,37,38,39,40,41,42,43,44,45,46,47,48,49,50,51,52,53,54,55,56,57,58,59,60,61,62,63,64,65,66,67,68,69,70,71,72,73,74,75,76,77,78,79,80,81,82,83,84,85,86,87,88,89,90,91,92,93,94],\"y\":[null,null,null,null,null,null,null,null,null,1.1644800000000002,null,null,null,null,null,null,1.19363,null,null,null,null,null,null,null,null,1.16305,null,null,null,null,1.13864,1.16169,null,null,null,null,null,null,1.12477,null,null,null,null,null,null,1.13458,1.11013,null,null,null,null,null,null,null,null,null,null,1.1570099999999999,null,null,null,null,1.1123800000000001,null,null,null,null,1.1435]},{\"marker\":{\"color\":\"Black\",\"size\":8,\"symbol\":\"hexagram\"},\"mode\":\"markers\",\"name\":\"pivot\",\"type\":\"scatter\",\"x\":[27,28,29,30,31,32,33,34,35,36,37,38,39,40,41,42,43,44,45,46,47,48,49,50,51,52,53,54,55,56,57,58,59,60,61,62,63,64,65,66,67,68,69,70,71,72,73,74,75,76,77,78,79,80,81,82,83,84,85,86,87,88,89,90,91,92,93,94],\"y\":[null,null,null,null,null,null,null,null,null,null,null,null,null,null,null,null,null,null,1.18316,null,null,null,null,null,null,null,null,null,null,null,null,null,1.1596799999999998,null,null,null,null,null,1.13798,null,null,null,null,null,null,null,null,null,1.1140100000000002,1.1237000000000001,null,null,null,null,null,null,null,null,null,null,null,null,null,null,null,null,null,null]},{\"mode\":\"lines\",\"name\":\"lower slope\",\"type\":\"scatter\",\"x\":[16,17,18,19,20,21,22,23,24,25,26,27,28,29,30,31,32,33,34,35,36,37,38,39,40,41,42,43,44,45,46,47,48,49,50,51,52,53,54,55,56,57,58,59],\"y\":[1.1720436363636364,1.1717154545454547,1.1713872727272727,1.171059090909091,1.1707309090909093,1.1704027272727273,1.1700745454545456,1.1697463636363639,1.169418181818182,1.1690900000000002,1.1687618181818185,1.1684336363636365,1.1681054545454548,1.1677772727272728,1.167449090909091,1.1671209090909094,1.1667927272727274,1.1664645454545457,1.166136363636364,1.165808181818182,1.1654800000000003,1.1651518181818186,1.1648236363636366,1.1644954545454549,1.164167272727273,1.1638390909090912,1.1635109090909095,1.1631827272727275,1.1628545454545458,1.162526363636364,1.1621981818181821,1.1618700000000004,1.1615418181818187,1.1612136363636367,1.160885454545455,1.160557272727273,1.1602290909090913,1.1599009090909096,1.1595727272727276,1.159244545454546,1.1589163636363642,1.1585881818181822,1.1582600000000005,1.1579318181818188]},{\"mode\":\"lines\",\"name\":\"max slope\",\"type\":\"scatter\",\"x\":[16,17,18,19,20,21,22,23,24,25,26,27,28,29,30,31,32,33,34,35,36,37,38,39,40,41,42,43,44,45,46,47,48,49,50,51,52,53,54,55,56,57,58,59],\"y\":[1.203222284417549,1.2023347579425114,1.2014472314674736,1.2005597049924357,1.1996721785173978,1.1987846520423602,1.1978971255673223,1.1970095990922844,1.1961220726172466,1.1952345461422087,1.194347019667171,1.1934594931921332,1.1925719667170953,1.1916844402420574,1.1907969137670198,1.189909387291982,1.189021860816944,1.1881343343419062,1.1872468078668683,1.1863592813918307,1.1854717549167928,1.184584228441755,1.183696701966717,1.1828091754916792,1.1819216490166415,1.1810341225416037,1.1801465960665658,1.179259069591528,1.1783715431164903,1.1774840166414524,1.1765964901664145,1.1757089636913767,1.1748214372163388,1.1739339107413012,1.1730463842662633,1.1721588577912254,1.1712713313161875,1.17038380484115,1.169496278366112,1.1686087518910742,1.1677212254160363,1.1668336989409984,1.1659461724659608,1.165058645990923]}],                        {\"template\":{\"data\":{\"bar\":[{\"error_x\":{\"color\":\"#2a3f5f\"},\"error_y\":{\"color\":\"#2a3f5f\"},\"marker\":{\"line\":{\"color\":\"#E5ECF6\",\"width\":0.5},\"pattern\":{\"fillmode\":\"overlay\",\"size\":10,\"solidity\":0.2}},\"type\":\"bar\"}],\"barpolar\":[{\"marker\":{\"line\":{\"color\":\"#E5ECF6\",\"width\":0.5},\"pattern\":{\"fillmode\":\"overlay\",\"size\":10,\"solidity\":0.2}},\"type\":\"barpolar\"}],\"carpet\":[{\"aaxis\":{\"endlinecolor\":\"#2a3f5f\",\"gridcolor\":\"white\",\"linecolor\":\"white\",\"minorgridcolor\":\"white\",\"startlinecolor\":\"#2a3f5f\"},\"baxis\":{\"endlinecolor\":\"#2a3f5f\",\"gridcolor\":\"white\",\"linecolor\":\"white\",\"minorgridcolor\":\"white\",\"startlinecolor\":\"#2a3f5f\"},\"type\":\"carpet\"}],\"choropleth\":[{\"colorbar\":{\"outlinewidth\":0,\"ticks\":\"\"},\"type\":\"choropleth\"}],\"contour\":[{\"colorbar\":{\"outlinewidth\":0,\"ticks\":\"\"},\"colorscale\":[[0.0,\"#0d0887\"],[0.1111111111111111,\"#46039f\"],[0.2222222222222222,\"#7201a8\"],[0.3333333333333333,\"#9c179e\"],[0.4444444444444444,\"#bd3786\"],[0.5555555555555556,\"#d8576b\"],[0.6666666666666666,\"#ed7953\"],[0.7777777777777778,\"#fb9f3a\"],[0.8888888888888888,\"#fdca26\"],[1.0,\"#f0f921\"]],\"type\":\"contour\"}],\"contourcarpet\":[{\"colorbar\":{\"outlinewidth\":0,\"ticks\":\"\"},\"type\":\"contourcarpet\"}],\"heatmap\":[{\"colorbar\":{\"outlinewidth\":0,\"ticks\":\"\"},\"colorscale\":[[0.0,\"#0d0887\"],[0.1111111111111111,\"#46039f\"],[0.2222222222222222,\"#7201a8\"],[0.3333333333333333,\"#9c179e\"],[0.4444444444444444,\"#bd3786\"],[0.5555555555555556,\"#d8576b\"],[0.6666666666666666,\"#ed7953\"],[0.7777777777777778,\"#fb9f3a\"],[0.8888888888888888,\"#fdca26\"],[1.0,\"#f0f921\"]],\"type\":\"heatmap\"}],\"heatmapgl\":[{\"colorbar\":{\"outlinewidth\":0,\"ticks\":\"\"},\"colorscale\":[[0.0,\"#0d0887\"],[0.1111111111111111,\"#46039f\"],[0.2222222222222222,\"#7201a8\"],[0.3333333333333333,\"#9c179e\"],[0.4444444444444444,\"#bd3786\"],[0.5555555555555556,\"#d8576b\"],[0.6666666666666666,\"#ed7953\"],[0.7777777777777778,\"#fb9f3a\"],[0.8888888888888888,\"#fdca26\"],[1.0,\"#f0f921\"]],\"type\":\"heatmapgl\"}],\"histogram\":[{\"marker\":{\"pattern\":{\"fillmode\":\"overlay\",\"size\":10,\"solidity\":0.2}},\"type\":\"histogram\"}],\"histogram2d\":[{\"colorbar\":{\"outlinewidth\":0,\"ticks\":\"\"},\"colorscale\":[[0.0,\"#0d0887\"],[0.1111111111111111,\"#46039f\"],[0.2222222222222222,\"#7201a8\"],[0.3333333333333333,\"#9c179e\"],[0.4444444444444444,\"#bd3786\"],[0.5555555555555556,\"#d8576b\"],[0.6666666666666666,\"#ed7953\"],[0.7777777777777778,\"#fb9f3a\"],[0.8888888888888888,\"#fdca26\"],[1.0,\"#f0f921\"]],\"type\":\"histogram2d\"}],\"histogram2dcontour\":[{\"colorbar\":{\"outlinewidth\":0,\"ticks\":\"\"},\"colorscale\":[[0.0,\"#0d0887\"],[0.1111111111111111,\"#46039f\"],[0.2222222222222222,\"#7201a8\"],[0.3333333333333333,\"#9c179e\"],[0.4444444444444444,\"#bd3786\"],[0.5555555555555556,\"#d8576b\"],[0.6666666666666666,\"#ed7953\"],[0.7777777777777778,\"#fb9f3a\"],[0.8888888888888888,\"#fdca26\"],[1.0,\"#f0f921\"]],\"type\":\"histogram2dcontour\"}],\"mesh3d\":[{\"colorbar\":{\"outlinewidth\":0,\"ticks\":\"\"},\"type\":\"mesh3d\"}],\"parcoords\":[{\"line\":{\"colorbar\":{\"outlinewidth\":0,\"ticks\":\"\"}},\"type\":\"parcoords\"}],\"pie\":[{\"automargin\":true,\"type\":\"pie\"}],\"scatter\":[{\"marker\":{\"colorbar\":{\"outlinewidth\":0,\"ticks\":\"\"}},\"type\":\"scatter\"}],\"scatter3d\":[{\"line\":{\"colorbar\":{\"outlinewidth\":0,\"ticks\":\"\"}},\"marker\":{\"colorbar\":{\"outlinewidth\":0,\"ticks\":\"\"}},\"type\":\"scatter3d\"}],\"scattercarpet\":[{\"marker\":{\"colorbar\":{\"outlinewidth\":0,\"ticks\":\"\"}},\"type\":\"scattercarpet\"}],\"scattergeo\":[{\"marker\":{\"colorbar\":{\"outlinewidth\":0,\"ticks\":\"\"}},\"type\":\"scattergeo\"}],\"scattergl\":[{\"marker\":{\"colorbar\":{\"outlinewidth\":0,\"ticks\":\"\"}},\"type\":\"scattergl\"}],\"scattermapbox\":[{\"marker\":{\"colorbar\":{\"outlinewidth\":0,\"ticks\":\"\"}},\"type\":\"scattermapbox\"}],\"scatterpolar\":[{\"marker\":{\"colorbar\":{\"outlinewidth\":0,\"ticks\":\"\"}},\"type\":\"scatterpolar\"}],\"scatterpolargl\":[{\"marker\":{\"colorbar\":{\"outlinewidth\":0,\"ticks\":\"\"}},\"type\":\"scatterpolargl\"}],\"scatterternary\":[{\"marker\":{\"colorbar\":{\"outlinewidth\":0,\"ticks\":\"\"}},\"type\":\"scatterternary\"}],\"surface\":[{\"colorbar\":{\"outlinewidth\":0,\"ticks\":\"\"},\"colorscale\":[[0.0,\"#0d0887\"],[0.1111111111111111,\"#46039f\"],[0.2222222222222222,\"#7201a8\"],[0.3333333333333333,\"#9c179e\"],[0.4444444444444444,\"#bd3786\"],[0.5555555555555556,\"#d8576b\"],[0.6666666666666666,\"#ed7953\"],[0.7777777777777778,\"#fb9f3a\"],[0.8888888888888888,\"#fdca26\"],[1.0,\"#f0f921\"]],\"type\":\"surface\"}],\"table\":[{\"cells\":{\"fill\":{\"color\":\"#EBF0F8\"},\"line\":{\"color\":\"white\"}},\"header\":{\"fill\":{\"color\":\"#C8D4E3\"},\"line\":{\"color\":\"white\"}},\"type\":\"table\"}]},\"layout\":{\"annotationdefaults\":{\"arrowcolor\":\"#2a3f5f\",\"arrowhead\":0,\"arrowwidth\":1},\"autotypenumbers\":\"strict\",\"coloraxis\":{\"colorbar\":{\"outlinewidth\":0,\"ticks\":\"\"}},\"colorscale\":{\"diverging\":[[0,\"#8e0152\"],[0.1,\"#c51b7d\"],[0.2,\"#de77ae\"],[0.3,\"#f1b6da\"],[0.4,\"#fde0ef\"],[0.5,\"#f7f7f7\"],[0.6,\"#e6f5d0\"],[0.7,\"#b8e186\"],[0.8,\"#7fbc41\"],[0.9,\"#4d9221\"],[1,\"#276419\"]],\"sequential\":[[0.0,\"#0d0887\"],[0.1111111111111111,\"#46039f\"],[0.2222222222222222,\"#7201a8\"],[0.3333333333333333,\"#9c179e\"],[0.4444444444444444,\"#bd3786\"],[0.5555555555555556,\"#d8576b\"],[0.6666666666666666,\"#ed7953\"],[0.7777777777777778,\"#fb9f3a\"],[0.8888888888888888,\"#fdca26\"],[1.0,\"#f0f921\"]],\"sequentialminus\":[[0.0,\"#0d0887\"],[0.1111111111111111,\"#46039f\"],[0.2222222222222222,\"#7201a8\"],[0.3333333333333333,\"#9c179e\"],[0.4444444444444444,\"#bd3786\"],[0.5555555555555556,\"#d8576b\"],[0.6666666666666666,\"#ed7953\"],[0.7777777777777778,\"#fb9f3a\"],[0.8888888888888888,\"#fdca26\"],[1.0,\"#f0f921\"]]},\"colorway\":[\"#636efa\",\"#EF553B\",\"#00cc96\",\"#ab63fa\",\"#FFA15A\",\"#19d3f3\",\"#FF6692\",\"#B6E880\",\"#FF97FF\",\"#FECB52\"],\"font\":{\"color\":\"#2a3f5f\"},\"geo\":{\"bgcolor\":\"white\",\"lakecolor\":\"white\",\"landcolor\":\"#E5ECF6\",\"showlakes\":true,\"showland\":true,\"subunitcolor\":\"white\"},\"hoverlabel\":{\"align\":\"left\"},\"hovermode\":\"closest\",\"mapbox\":{\"style\":\"light\"},\"paper_bgcolor\":\"white\",\"plot_bgcolor\":\"#E5ECF6\",\"polar\":{\"angularaxis\":{\"gridcolor\":\"white\",\"linecolor\":\"white\",\"ticks\":\"\"},\"bgcolor\":\"#E5ECF6\",\"radialaxis\":{\"gridcolor\":\"white\",\"linecolor\":\"white\",\"ticks\":\"\"}},\"scene\":{\"xaxis\":{\"backgroundcolor\":\"#E5ECF6\",\"gridcolor\":\"white\",\"gridwidth\":2,\"linecolor\":\"white\",\"showbackground\":true,\"ticks\":\"\",\"zerolinecolor\":\"white\"},\"yaxis\":{\"backgroundcolor\":\"#E5ECF6\",\"gridcolor\":\"white\",\"gridwidth\":2,\"linecolor\":\"white\",\"showbackground\":true,\"ticks\":\"\",\"zerolinecolor\":\"white\"},\"zaxis\":{\"backgroundcolor\":\"#E5ECF6\",\"gridcolor\":\"white\",\"gridwidth\":2,\"linecolor\":\"white\",\"showbackground\":true,\"ticks\":\"\",\"zerolinecolor\":\"white\"}},\"shapedefaults\":{\"line\":{\"color\":\"#2a3f5f\"}},\"ternary\":{\"aaxis\":{\"gridcolor\":\"white\",\"linecolor\":\"white\",\"ticks\":\"\"},\"baxis\":{\"gridcolor\":\"white\",\"linecolor\":\"white\",\"ticks\":\"\"},\"bgcolor\":\"#E5ECF6\",\"caxis\":{\"gridcolor\":\"white\",\"linecolor\":\"white\",\"ticks\":\"\"}},\"title\":{\"x\":0.05},\"xaxis\":{\"automargin\":true,\"gridcolor\":\"white\",\"linecolor\":\"white\",\"ticks\":\"\",\"title\":{\"standoff\":15},\"zerolinecolor\":\"white\",\"zerolinewidth\":2},\"yaxis\":{\"automargin\":true,\"gridcolor\":\"white\",\"linecolor\":\"white\",\"ticks\":\"\",\"title\":{\"standoff\":15},\"zerolinecolor\":\"white\",\"zerolinewidth\":2}}}},                        {\"responsive\": true}                    ).then(function(){\n",
       "                            \n",
       "var gd = document.getElementById('4bafcb5f-84d3-46e7-898c-d6f2b83e9d9c');\n",
       "var x = new MutationObserver(function (mutations, observer) {{\n",
       "        var display = window.getComputedStyle(gd).display;\n",
       "        if (!display || display === 'none') {{\n",
       "            console.log([gd, 'removed!']);\n",
       "            Plotly.purge(gd);\n",
       "            observer.disconnect();\n",
       "        }}\n",
       "}});\n",
       "\n",
       "// Listen for the removal of the full notebook cells\n",
       "var notebookContainer = gd.closest('#notebook-container');\n",
       "if (notebookContainer) {{\n",
       "    x.observe(notebookContainer, {childList: true});\n",
       "}}\n",
       "\n",
       "// Listen for the clearing of the current output cell\n",
       "var outputEl = gd.closest('.output');\n",
       "if (outputEl) {{\n",
       "    x.observe(outputEl, {childList: true});\n",
       "}}\n",
       "\n",
       "                        })                };                });            </script>        </div>"
      ]
     },
     "metadata": {},
     "output_type": "display_data"
    }
   ],
   "source": [
    "candle = 59\n",
    "\n",
    "fig = go.Figure(data=[go.Candlestick(x=dfpl.index,\n",
    "                open=dfpl['Open'],\n",
    "                high=dfpl['High'],\n",
    "                low=dfpl['Low'],\n",
    "                close=dfpl['Close'])])\n",
    "\n",
    "fig.add_scatter(x=dfpl.index, y=dfpl['pointpos'], mode=\"markers\",\n",
    "                marker=dict(size=5, color=\"MediumPurple\"),\n",
    "                name=\"pivot\")\n",
    "\n",
    "fig.add_scatter(x=dfpl.index, y=dfpl['breakpointpos'], mode=\"markers\",\n",
    "                marker=dict(size=8, color=\"Black\"), marker_symbol=\"hexagram\",\n",
    "                name=\"pivot\")\n",
    "\n",
    "sl_lows, interc_lows, sl_highs, interc_highs, r_sq_l, r_sq_h = collect_channel(candle, backcandles, window)\n",
    "print(r_sq_l, r_sq_h)\n",
    "x = np.array(range(candle-backcandles-window, candle+1))\n",
    "fig.add_trace(go.Scatter(x=x, y=sl_lows*x + interc_lows, mode='lines', name='lower slope'))\n",
    "fig.add_trace(go.Scatter(x=x, y=sl_highs*x + interc_highs, mode='lines', name='max slope'))\n",
    "#fig.update_layout(xaxis_rangeslider_visible=False)\n",
    "fig.show()"
   ]
  },
  {
   "cell_type": "code",
   "execution_count": null,
   "id": "a477c63a",
   "metadata": {},
   "outputs": [],
   "source": []
  }
 ],
 "metadata": {
  "kernelspec": {
   "display_name": "Python 3 (ipykernel)",
   "language": "python",
   "name": "python3"
  },
  "language_info": {
   "codemirror_mode": {
    "name": "ipython",
    "version": 3
   },
   "file_extension": ".py",
   "mimetype": "text/x-python",
   "name": "python",
   "nbconvert_exporter": "python",
   "pygments_lexer": "ipython3",
   "version": "3.10.12"
  }
 },
 "nbformat": 4,
 "nbformat_minor": 5
}
