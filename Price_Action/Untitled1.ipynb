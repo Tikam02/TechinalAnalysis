{
 "cells": [
  {
   "cell_type": "code",
   "execution_count": 1,
   "id": "0d38887f-8f7b-4680-a974-3cf6cd060a50",
   "metadata": {},
   "outputs": [
    {
     "name": "stdout",
     "output_type": "stream",
     "text": [
      "Collecting trendln\n",
      "  Downloading trendln-0.1.10.tar.gz (23 kB)\n",
      "  Preparing metadata (setup.py) ... \u001b[?25ldone\n",
      "\u001b[?25hRequirement already satisfied: numpy>=1.15 in /home/tikam/stock-market/env3/lib/python3.10/site-packages (from trendln) (1.23.5)\n",
      "Collecting findiff>=0.7.0 (from trendln)\n",
      "  Downloading findiff-0.10.0-py3-none-any.whl.metadata (2.1 kB)\n",
      "Collecting scikit-image>=0.14.0 (from trendln)\n",
      "  Downloading scikit_image-0.22.0-cp310-cp310-manylinux_2_17_x86_64.manylinux2014_x86_64.whl.metadata (13 kB)\n",
      "Requirement already satisfied: pandas>=0.23.1 in /home/tikam/stock-market/env3/lib/python3.10/site-packages (from trendln) (2.1.4)\n",
      "Requirement already satisfied: matplotlib>=2.2.4 in /home/tikam/stock-market/env3/lib/python3.10/site-packages (from trendln) (3.8.2)\n",
      "Requirement already satisfied: scipy in /home/tikam/stock-market/env3/lib/python3.10/site-packages (from findiff>=0.7.0->trendln) (1.11.4)\n",
      "Collecting sympy (from findiff>=0.7.0->trendln)\n",
      "  Downloading sympy-1.12-py3-none-any.whl (5.7 MB)\n",
      "\u001b[2K     \u001b[38;2;114;156;31m━━━━━━━━━━━━━━━━━━━━━━━━━━━━━━━━━━━━━━━━\u001b[0m \u001b[32m5.7/5.7 MB\u001b[0m \u001b[31m323.8 kB/s\u001b[0m eta \u001b[36m0:00:00\u001b[0mm eta \u001b[36m0:00:01\u001b[0m[36m0:00:01\u001b[0m\n",
      "\u001b[?25hRequirement already satisfied: contourpy>=1.0.1 in /home/tikam/stock-market/env3/lib/python3.10/site-packages (from matplotlib>=2.2.4->trendln) (1.2.0)\n",
      "Requirement already satisfied: cycler>=0.10 in /home/tikam/stock-market/env3/lib/python3.10/site-packages (from matplotlib>=2.2.4->trendln) (0.12.1)\n",
      "Requirement already satisfied: fonttools>=4.22.0 in /home/tikam/stock-market/env3/lib/python3.10/site-packages (from matplotlib>=2.2.4->trendln) (4.47.2)\n",
      "Requirement already satisfied: kiwisolver>=1.3.1 in /home/tikam/stock-market/env3/lib/python3.10/site-packages (from matplotlib>=2.2.4->trendln) (1.4.5)\n",
      "Requirement already satisfied: packaging>=20.0 in /home/tikam/stock-market/env3/lib/python3.10/site-packages (from matplotlib>=2.2.4->trendln) (23.2)\n",
      "Requirement already satisfied: pillow>=8 in /home/tikam/stock-market/env3/lib/python3.10/site-packages (from matplotlib>=2.2.4->trendln) (10.2.0)\n",
      "Requirement already satisfied: pyparsing>=2.3.1 in /home/tikam/stock-market/env3/lib/python3.10/site-packages (from matplotlib>=2.2.4->trendln) (3.1.1)\n",
      "Requirement already satisfied: python-dateutil>=2.7 in /home/tikam/stock-market/env3/lib/python3.10/site-packages (from matplotlib>=2.2.4->trendln) (2.8.2)\n",
      "Requirement already satisfied: pytz>=2020.1 in /home/tikam/stock-market/env3/lib/python3.10/site-packages (from pandas>=0.23.1->trendln) (2023.3.post1)\n",
      "Requirement already satisfied: tzdata>=2022.1 in /home/tikam/stock-market/env3/lib/python3.10/site-packages (from pandas>=0.23.1->trendln) (2023.3)\n",
      "Requirement already satisfied: networkx>=2.8 in /home/tikam/stock-market/env3/lib/python3.10/site-packages (from scikit-image>=0.14.0->trendln) (3.2.1)\n",
      "Requirement already satisfied: imageio>=2.27 in /home/tikam/stock-market/env3/lib/python3.10/site-packages (from scikit-image>=0.14.0->trendln) (2.33.1)\n",
      "Collecting tifffile>=2022.8.12 (from scikit-image>=0.14.0->trendln)\n",
      "  Downloading tifffile-2024.1.30-py3-none-any.whl.metadata (31 kB)\n",
      "Collecting lazy_loader>=0.3 (from scikit-image>=0.14.0->trendln)\n",
      "  Downloading lazy_loader-0.3-py3-none-any.whl.metadata (4.3 kB)\n",
      "Requirement already satisfied: six>=1.5 in /home/tikam/stock-market/env3/lib/python3.10/site-packages (from python-dateutil>=2.7->matplotlib>=2.2.4->trendln) (1.16.0)\n",
      "Collecting mpmath>=0.19 (from sympy->findiff>=0.7.0->trendln)\n",
      "  Downloading mpmath-1.3.0-py3-none-any.whl (536 kB)\n",
      "\u001b[2K     \u001b[38;2;114;156;31m━━━━━━━━━━━━━━━━━━━━━━━━━━━━━━━━━━━━━\u001b[0m \u001b[32m536.2/536.2 kB\u001b[0m \u001b[31m733.6 kB/s\u001b[0m eta \u001b[36m0:00:00\u001b[0m kB/s\u001b[0m eta \u001b[36m0:00:01\u001b[0m:01\u001b[0m\n",
      "\u001b[?25hDownloading findiff-0.10.0-py3-none-any.whl (33 kB)\n",
      "Downloading scikit_image-0.22.0-cp310-cp310-manylinux_2_17_x86_64.manylinux2014_x86_64.whl (14.7 MB)\n",
      "\u001b[2K   \u001b[38;2;114;156;31m━━━━━━━━━━━━━━━━━━━━━━━━━━━━━━━━━━━━━━━━\u001b[0m \u001b[32m14.7/14.7 MB\u001b[0m \u001b[31m712.2 kB/s\u001b[0m eta \u001b[36m0:00:00\u001b[0mm eta \u001b[36m0:00:01\u001b[0m[36m0:00:01\u001b[0m\n",
      "\u001b[?25hDownloading lazy_loader-0.3-py3-none-any.whl (9.1 kB)\n",
      "Downloading tifffile-2024.1.30-py3-none-any.whl (224 kB)\n",
      "\u001b[2K   \u001b[38;2;114;156;31m━━━━━━━━━━━━━━━━━━━━━━━━━━━━━━━━━━━━━━━\u001b[0m \u001b[32m224.1/224.1 kB\u001b[0m \u001b[31m506.8 kB/s\u001b[0m eta \u001b[36m0:00:00\u001b[0m kB/s\u001b[0m eta \u001b[36m0:00:01\u001b[0m01\u001b[0m\n",
      "\u001b[?25hBuilding wheels for collected packages: trendln\n",
      "  Building wheel for trendln (setup.py) ... \u001b[?25ldone\n",
      "\u001b[?25h  Created wheel for trendln: filename=trendln-0.1.10-py2.py3-none-any.whl size=19510 sha256=a4ac42c3a55bd736e0156df07d260c7a05efea24524732e3c02dd55245be8e0c\n",
      "  Stored in directory: /tmp/pip-ephem-wheel-cache-cijavi_8/wheels/63/c1/3e/a8426a920ca13888e84dd1d67afceedad007377ae008eb9c16\n",
      "Successfully built trendln\n",
      "Installing collected packages: mpmath, tifffile, sympy, lazy_loader, scikit-image, findiff, trendln\n",
      "Successfully installed findiff-0.10.0 lazy_loader-0.3 mpmath-1.3.0 scikit-image-0.22.0 sympy-1.12 tifffile-2024.1.30 trendln-0.1.10\n",
      "Note: you may need to restart the kernel to use updated packages.\n"
     ]
    }
   ],
   "source": [
    "pip install trendln --upgrade --no-cache-dir"
   ]
  },
  {
   "cell_type": "code",
   "execution_count": 2,
   "id": "93b9ce01-1d43-47d5-9497-40260dd4beeb",
   "metadata": {},
   "outputs": [
    {
     "ename": "ValueError",
     "evalue": "Accuracy order acc must be positive EVEN integer",
     "output_type": "error",
     "traceback": [
      "\u001b[0;31m---------------------------------------------------------------------------\u001b[0m",
      "\u001b[0;31mValueError\u001b[0m                                Traceback (most recent call last)",
      "Cell \u001b[0;32mIn[2], line 7\u001b[0m\n\u001b[1;32m      5\u001b[0m hist \u001b[38;5;241m=\u001b[39m tick\u001b[38;5;241m.\u001b[39mhistory(period\u001b[38;5;241m=\u001b[39m\u001b[38;5;124m\"\u001b[39m\u001b[38;5;124mmax\u001b[39m\u001b[38;5;124m\"\u001b[39m, rounding\u001b[38;5;241m=\u001b[39m\u001b[38;5;28;01mTrue\u001b[39;00m)\n\u001b[1;32m      6\u001b[0m h \u001b[38;5;241m=\u001b[39m hist[\u001b[38;5;241m-\u001b[39m\u001b[38;5;241m1000\u001b[39m:]\u001b[38;5;241m.\u001b[39mClose\n\u001b[0;32m----> 7\u001b[0m mins, maxs \u001b[38;5;241m=\u001b[39m \u001b[43mtrendln\u001b[49m\u001b[38;5;241;43m.\u001b[39;49m\u001b[43mcalc_support_resistance\u001b[49m\u001b[43m(\u001b[49m\u001b[43mh\u001b[49m\u001b[43m)\u001b[49m\n\u001b[1;32m      8\u001b[0m minimaIdxs, pmin, mintrend, minwindows \u001b[38;5;241m=\u001b[39m trendln\u001b[38;5;241m.\u001b[39mcalc_support_resistance((hist[\u001b[38;5;241m-\u001b[39m\u001b[38;5;241m1000\u001b[39m:]\u001b[38;5;241m.\u001b[39mLow, \u001b[38;5;28;01mNone\u001b[39;00m)) \u001b[38;5;66;03m#support only\u001b[39;00m\n\u001b[1;32m      9\u001b[0m mins, maxs \u001b[38;5;241m=\u001b[39m trendln\u001b[38;5;241m.\u001b[39mcalc_support_resistance((hist[\u001b[38;5;241m-\u001b[39m\u001b[38;5;241m1000\u001b[39m:]\u001b[38;5;241m.\u001b[39mLow, hist[\u001b[38;5;241m-\u001b[39m\u001b[38;5;241m1000\u001b[39m:]\u001b[38;5;241m.\u001b[39mHigh))\n",
      "File \u001b[0;32m~/stock-market/env3/lib/python3.10/site-packages/trendln/__init__.py:737\u001b[0m, in \u001b[0;36mcalc_support_resistance\u001b[0;34m(h, extmethod, method, window, errpct, hough_scale, hough_prob_iter, sortError, accuracy)\u001b[0m\n\u001b[1;32m    735\u001b[0m     trendmethod \u001b[38;5;241m=\u001b[39m prob_hough\n\u001b[1;32m    736\u001b[0m \u001b[38;5;28;01melse\u001b[39;00m: \u001b[38;5;28;01mraise\u001b[39;00m \u001b[38;5;167;01mValueError\u001b[39;00m(\u001b[38;5;124m'\u001b[39m\u001b[38;5;124mmethod must be one of METHOD_NCUBED, METHOD_NSQUREDLOGN, METHOD_HOUGHPOINTS, METHOD_HOUGHLINES, METHOD_PROBHOUGH\u001b[39m\u001b[38;5;124m'\u001b[39m)\n\u001b[0;32m--> 737\u001b[0m extremaIdxs \u001b[38;5;241m=\u001b[39m \u001b[43mget_extrema\u001b[49m\u001b[43m(\u001b[49m\u001b[43mh\u001b[49m\u001b[43m,\u001b[49m\u001b[43m \u001b[49m\u001b[43mextmethod\u001b[49m\u001b[43m,\u001b[49m\u001b[43m \u001b[49m\u001b[43maccuracy\u001b[49m\u001b[43m)\u001b[49m\n\u001b[1;32m    738\u001b[0m divide \u001b[38;5;241m=\u001b[39m \u001b[38;5;28mlist\u001b[39m(\u001b[38;5;28mreversed\u001b[39m(\u001b[38;5;28mrange\u001b[39m(len_h, \u001b[38;5;241m-\u001b[39mwindow, \u001b[38;5;241m-\u001b[39mwindow)))\n\u001b[1;32m    739\u001b[0m rem, divide[\u001b[38;5;241m0\u001b[39m] \u001b[38;5;241m=\u001b[39m window \u001b[38;5;241m-\u001b[39m len_h \u001b[38;5;241m%\u001b[39m window, \u001b[38;5;241m0\u001b[39m\n",
      "File \u001b[0;32m~/stock-market/env3/lib/python3.10/site-packages/trendln/__init__.py:456\u001b[0m, in \u001b[0;36mget_extrema\u001b[0;34m(h, extmethod, accuracy)\u001b[0m\n\u001b[1;32m    454\u001b[0m \u001b[38;5;28;01melse\u001b[39;00m: \u001b[38;5;28;01mraise\u001b[39;00m \u001b[38;5;167;01mValueError\u001b[39;00m(\u001b[38;5;124m'\u001b[39m\u001b[38;5;124mextmethod must be METHOD_NAIVE, METHOD_NAIVECONSEC, METHOD_NUMDIFF\u001b[39m\u001b[38;5;124m'\u001b[39m)\n\u001b[1;32m    455\u001b[0m \u001b[38;5;28;01mif\u001b[39;00m hmin \u001b[38;5;129;01mis\u001b[39;00m \u001b[38;5;28;01mNone\u001b[39;00m \u001b[38;5;129;01mand\u001b[39;00m hmax \u001b[38;5;129;01mis\u001b[39;00m \u001b[38;5;28;01mNone\u001b[39;00m:\n\u001b[0;32m--> 456\u001b[0m     minFunc, maxFunc, numdiff_extrema \u001b[38;5;241m=\u001b[39m \u001b[43mget_minmax\u001b[49m\u001b[43m(\u001b[49m\u001b[43mh\u001b[49m\u001b[43m)\u001b[49m\n\u001b[1;32m    457\u001b[0m     \u001b[38;5;28;01mreturn\u001b[39;00m numdiff_extrema(minFunc), numdiff_extrema(maxFunc)\n\u001b[1;32m    458\u001b[0m \u001b[38;5;28;01mif\u001b[39;00m \u001b[38;5;129;01mnot\u001b[39;00m hmin \u001b[38;5;129;01mis\u001b[39;00m \u001b[38;5;28;01mNone\u001b[39;00m:\n",
      "File \u001b[0;32m~/stock-market/env3/lib/python3.10/site-packages/trendln/__init__.py:442\u001b[0m, in \u001b[0;36mget_extrema.<locals>.get_minmax\u001b[0;34m(h)\u001b[0m\n\u001b[1;32m    440\u001b[0m \u001b[38;5;28;01mdef\u001b[39;00m \u001b[38;5;21mget_minmax\u001b[39m(h):\n\u001b[1;32m    441\u001b[0m     clarr \u001b[38;5;241m=\u001b[39m np\u001b[38;5;241m.\u001b[39masarray(h, dtype\u001b[38;5;241m=\u001b[39mnp\u001b[38;5;241m.\u001b[39mfloat64)\n\u001b[0;32m--> 442\u001b[0m     mom, momacc \u001b[38;5;241m=\u001b[39m \u001b[43md_dx\u001b[49m\u001b[43m(\u001b[49m\u001b[43mclarr\u001b[49m\u001b[43m)\u001b[49m, d2_dx2(clarr)\n\u001b[1;32m    443\u001b[0m     \u001b[38;5;66;03m#print(mom[-10:], momacc[-10:])\u001b[39;00m\n\u001b[1;32m    444\u001b[0m     \u001b[38;5;66;03m#numerical derivative will yield prominent extrema points only\u001b[39;00m\n\u001b[1;32m    445\u001b[0m     \u001b[38;5;28;01mdef\u001b[39;00m \u001b[38;5;21mnumdiff_extrema\u001b[39m(func):\n",
      "File \u001b[0;32m~/stock-market/env3/lib/python3.10/site-packages/findiff/operators.py:79\u001b[0m, in \u001b[0;36mFinDiff.__call__\u001b[0;34m(self, rhs, *args, **kwargs)\u001b[0m\n\u001b[1;32m     78\u001b[0m \u001b[38;5;28;01mdef\u001b[39;00m \u001b[38;5;21m__call__\u001b[39m(\u001b[38;5;28mself\u001b[39m, rhs, \u001b[38;5;241m*\u001b[39margs, \u001b[38;5;241m*\u001b[39m\u001b[38;5;241m*\u001b[39mkwargs):\n\u001b[0;32m---> 79\u001b[0m     \u001b[38;5;28;01mreturn\u001b[39;00m \u001b[38;5;28;43mself\u001b[39;49m\u001b[38;5;241;43m.\u001b[39;49m\u001b[43mapply\u001b[49m\u001b[43m(\u001b[49m\u001b[43mrhs\u001b[49m\u001b[43m,\u001b[49m\u001b[43m \u001b[49m\u001b[38;5;241;43m*\u001b[39;49m\u001b[43margs\u001b[49m\u001b[43m,\u001b[49m\u001b[43m \u001b[49m\u001b[38;5;241;43m*\u001b[39;49m\u001b[38;5;241;43m*\u001b[39;49m\u001b[43mkwargs\u001b[49m\u001b[43m)\u001b[49m\n",
      "File \u001b[0;32m~/stock-market/env3/lib/python3.10/site-packages/findiff/operators.py:94\u001b[0m, in \u001b[0;36mFinDiff.apply\u001b[0;34m(self, rhs, *args, **kwargs)\u001b[0m\n\u001b[1;32m     92\u001b[0m     \u001b[38;5;28;01melse\u001b[39;00m:\n\u001b[1;32m     93\u001b[0m         args \u001b[38;5;241m=\u001b[39m \u001b[38;5;28mself\u001b[39m\u001b[38;5;241m.\u001b[39mcoords,\n\u001b[0;32m---> 94\u001b[0m \u001b[38;5;28;01mreturn\u001b[39;00m \u001b[38;5;28;43mself\u001b[39;49m\u001b[38;5;241;43m.\u001b[39;49m\u001b[43mpds\u001b[49m\u001b[43m(\u001b[49m\u001b[43mrhs\u001b[49m\u001b[43m,\u001b[49m\u001b[43m \u001b[49m\u001b[38;5;241;43m*\u001b[39;49m\u001b[43margs\u001b[49m\u001b[43m,\u001b[49m\u001b[43m \u001b[49m\u001b[38;5;241;43m*\u001b[39;49m\u001b[38;5;241;43m*\u001b[39;49m\u001b[43mkwargs\u001b[49m\u001b[43m)\u001b[49m\n",
      "File \u001b[0;32m~/stock-market/env3/lib/python3.10/site-packages/findiff/diff.py:217\u001b[0m, in \u001b[0;36mLinearMap.__call__\u001b[0;34m(self, rhs, *args, **kwargs)\u001b[0m\n\u001b[1;32m    216\u001b[0m \u001b[38;5;28;01mdef\u001b[39;00m \u001b[38;5;21m__call__\u001b[39m(\u001b[38;5;28mself\u001b[39m, rhs, \u001b[38;5;241m*\u001b[39margs, \u001b[38;5;241m*\u001b[39m\u001b[38;5;241m*\u001b[39mkwargs):\n\u001b[0;32m--> 217\u001b[0m     \u001b[38;5;28;01mreturn\u001b[39;00m \u001b[38;5;28;43mself\u001b[39;49m\u001b[38;5;241;43m.\u001b[39;49m\u001b[43mapply\u001b[49m\u001b[43m(\u001b[49m\u001b[43mrhs\u001b[49m\u001b[43m,\u001b[49m\u001b[43m \u001b[49m\u001b[38;5;241;43m*\u001b[39;49m\u001b[43margs\u001b[49m\u001b[43m,\u001b[49m\u001b[43m \u001b[49m\u001b[38;5;241;43m*\u001b[39;49m\u001b[38;5;241;43m*\u001b[39;49m\u001b[43mkwargs\u001b[49m\u001b[43m)\u001b[49m\n",
      "File \u001b[0;32m~/stock-market/env3/lib/python3.10/site-packages/findiff/diff.py:276\u001b[0m, in \u001b[0;36mDiff.apply\u001b[0;34m(self, u, *args, **kwargs)\u001b[0m\n\u001b[1;32m    273\u001b[0m \u001b[38;5;28;01mif\u001b[39;00m \u001b[38;5;28misinstance\u001b[39m(h, np\u001b[38;5;241m.\u001b[39mndarray):\n\u001b[1;32m    274\u001b[0m     \u001b[38;5;28;01mreturn\u001b[39;00m \u001b[38;5;28mself\u001b[39m\u001b[38;5;241m.\u001b[39mdiff_non_uni(u, h, \u001b[38;5;241m*\u001b[39m\u001b[38;5;241m*\u001b[39mkwargs)\n\u001b[0;32m--> 276\u001b[0m \u001b[38;5;28;01mreturn\u001b[39;00m \u001b[38;5;28;43mself\u001b[39;49m\u001b[38;5;241;43m.\u001b[39;49m\u001b[43mdiff\u001b[49m\u001b[43m(\u001b[49m\u001b[43mu\u001b[49m\u001b[43m,\u001b[49m\u001b[43m \u001b[49m\u001b[43mh\u001b[49m\u001b[43m,\u001b[49m\u001b[43m \u001b[49m\u001b[43macc\u001b[49m\u001b[43m)\u001b[49m\n",
      "File \u001b[0;32m~/stock-market/env3/lib/python3.10/site-packages/findiff/diff.py:288\u001b[0m, in \u001b[0;36mDiff.diff\u001b[0;34m(self, y, h, acc)\u001b[0m\n\u001b[1;32m    279\u001b[0m \u001b[38;5;250m\u001b[39m\u001b[38;5;124;03m\"\"\"The core function to take a partial derivative on a uniform grid.\u001b[39;00m\n\u001b[1;32m    280\u001b[0m \n\u001b[1;32m    281\u001b[0m \u001b[38;5;124;03m    Central coefficients will be used whenever possible. Backward or forward\u001b[39;00m\n\u001b[0;32m   (...)\u001b[0m\n\u001b[1;32m    284\u001b[0m \u001b[38;5;124;03m    for the high index boundary.\u001b[39;00m\n\u001b[1;32m    285\u001b[0m \u001b[38;5;124;03m\"\"\"\u001b[39;00m\n\u001b[1;32m    287\u001b[0m dim \u001b[38;5;241m=\u001b[39m \u001b[38;5;28mself\u001b[39m\u001b[38;5;241m.\u001b[39maxis\n\u001b[0;32m--> 288\u001b[0m coefs \u001b[38;5;241m=\u001b[39m \u001b[43mcoefficients\u001b[49m\u001b[43m(\u001b[49m\u001b[38;5;28;43mself\u001b[39;49m\u001b[38;5;241;43m.\u001b[39;49m\u001b[43morder\u001b[49m\u001b[43m,\u001b[49m\u001b[43m \u001b[49m\u001b[43macc\u001b[49m\u001b[43m)\u001b[49m\n\u001b[1;32m    289\u001b[0m deriv \u001b[38;5;241m=\u001b[39m \u001b[38;5;28mself\u001b[39m\u001b[38;5;241m.\u001b[39morder\n\u001b[1;32m    291\u001b[0m \u001b[38;5;28;01mtry\u001b[39;00m:\n",
      "File \u001b[0;32m~/stock-market/env3/lib/python3.10/site-packages/findiff/coefs.py:63\u001b[0m, in \u001b[0;36mcoefficients\u001b[0;34m(deriv, acc, offsets, symbolic, analytic_inv)\u001b[0m\n\u001b[1;32m     60\u001b[0m \u001b[38;5;28;01mif\u001b[39;00m acc \u001b[38;5;129;01mis\u001b[39;00m \u001b[38;5;28;01mNone\u001b[39;00m:\n\u001b[1;32m     61\u001b[0m     \u001b[38;5;28;01mraise\u001b[39;00m \u001b[38;5;167;01mValueError\u001b[39;00m(\u001b[38;5;124m'\u001b[39m\u001b[38;5;124meither acc or offsets has to be given\u001b[39m\u001b[38;5;124m'\u001b[39m)\n\u001b[0;32m---> 63\u001b[0m \u001b[43m_validate_acc\u001b[49m\u001b[43m(\u001b[49m\u001b[43macc\u001b[49m\u001b[43m)\u001b[49m\n\u001b[1;32m     64\u001b[0m ret \u001b[38;5;241m=\u001b[39m {}\n\u001b[1;32m     66\u001b[0m \u001b[38;5;66;03m# Determine central coefficients\u001b[39;00m\n",
      "File \u001b[0;32m~/stock-market/env3/lib/python3.10/site-packages/findiff/coefs.py:288\u001b[0m, in \u001b[0;36m_validate_acc\u001b[0;34m(acc)\u001b[0m\n\u001b[1;32m    286\u001b[0m \u001b[38;5;28;01mdef\u001b[39;00m \u001b[38;5;21m_validate_acc\u001b[39m(acc):\n\u001b[1;32m    287\u001b[0m     \u001b[38;5;28;01mif\u001b[39;00m acc \u001b[38;5;241m%\u001b[39m \u001b[38;5;241m2\u001b[39m \u001b[38;5;241m==\u001b[39m \u001b[38;5;241m1\u001b[39m \u001b[38;5;129;01mor\u001b[39;00m acc \u001b[38;5;241m<\u001b[39m\u001b[38;5;241m=\u001b[39m \u001b[38;5;241m0\u001b[39m:\n\u001b[0;32m--> 288\u001b[0m         \u001b[38;5;28;01mraise\u001b[39;00m \u001b[38;5;167;01mValueError\u001b[39;00m(\u001b[38;5;124m'\u001b[39m\u001b[38;5;124mAccuracy order acc must be positive EVEN integer\u001b[39m\u001b[38;5;124m'\u001b[39m)\n",
      "\u001b[0;31mValueError\u001b[0m: Accuracy order acc must be positive EVEN integer"
     ]
    }
   ],
   "source": [
    "import trendln\n",
    "# this will serve as an example for security or index closing prices, or low and high prices\n",
    "import yfinance as yf # requires yfinance - pip install yfinance\n",
    "tick = yf.Ticker('^GSPC') # S&P500\n",
    "hist = tick.history(period=\"max\", rounding=True)\n",
    "h = hist[-1000:].Close\n",
    "mins, maxs = trendln.calc_support_resistance(h)\n",
    "minimaIdxs, pmin, mintrend, minwindows = trendln.calc_support_resistance((hist[-1000:].Low, None)) #support only\n",
    "mins, maxs = trendln.calc_support_resistance((hist[-1000:].Low, hist[-1000:].High))\n",
    "(minimaIdxs, pmin, mintrend, minwindows), (maximaIdxs, pmax, maxtrend, maxwindows) = mins, maxs"
   ]
  },
  {
   "cell_type": "code",
   "execution_count": null,
   "id": "0f6c4564-e5e6-4a26-9ccf-5db17b46580f",
   "metadata": {},
   "outputs": [],
   "source": []
  }
 ],
 "metadata": {
  "kernelspec": {
   "display_name": "Python 3 (ipykernel)",
   "language": "python",
   "name": "python3"
  },
  "language_info": {
   "codemirror_mode": {
    "name": "ipython",
    "version": 3
   },
   "file_extension": ".py",
   "mimetype": "text/x-python",
   "name": "python",
   "nbconvert_exporter": "python",
   "pygments_lexer": "ipython3",
   "version": "3.10.12"
  }
 },
 "nbformat": 4,
 "nbformat_minor": 5
}
