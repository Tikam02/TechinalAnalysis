{
 "cells": [
  {
   "cell_type": "code",
   "execution_count": 3,
   "id": "bdbe80e3-663f-4c44-ad12-402544faf2ac",
   "metadata": {},
   "outputs": [
    {
     "name": "stdout",
     "output_type": "stream",
     "text": [
      "Collecting ib-insync\n",
      "  Downloading ib_insync-0.9.86-py3-none-any.whl.metadata (5.4 kB)\n",
      "Collecting eventkit (from ib-insync)\n",
      "  Downloading eventkit-1.0.3-py3-none-any.whl.metadata (5.4 kB)\n",
      "Requirement already satisfied: nest-asyncio in /home/tikam/stock-market/env3/lib/python3.10/site-packages (from ib-insync) (1.5.8)\n",
      "Requirement already satisfied: numpy in /home/tikam/stock-market/env3/lib/python3.10/site-packages (from eventkit->ib-insync) (1.23.5)\n",
      "Downloading ib_insync-0.9.86-py3-none-any.whl (72 kB)\n",
      "\u001b[2K   \u001b[38;2;114;156;31m━━━━━━━━━━━━━━━━━━━━━━━━━━━━━━━━━━━━━━━━\u001b[0m \u001b[32m73.0/73.0 kB\u001b[0m \u001b[31m294.4 kB/s\u001b[0m eta \u001b[36m0:00:00\u001b[0m[36m0:00:01\u001b[0mm eta \u001b[36m0:00:01\u001b[0m\n",
      "\u001b[?25hDownloading eventkit-1.0.3-py3-none-any.whl (31 kB)\n",
      "Installing collected packages: eventkit, ib-insync\n",
      "Successfully installed eventkit-1.0.3 ib-insync-0.9.86\n",
      "\n",
      "\u001b[1m[\u001b[0m\u001b[34;49mnotice\u001b[0m\u001b[1;39;49m]\u001b[0m\u001b[39;49m A new release of pip is available: \u001b[0m\u001b[31;49m23.3.2\u001b[0m\u001b[39;49m -> \u001b[0m\u001b[32;49m24.0\u001b[0m\n",
      "\u001b[1m[\u001b[0m\u001b[34;49mnotice\u001b[0m\u001b[1;39;49m]\u001b[0m\u001b[39;49m To update, run: \u001b[0m\u001b[32;49mpip install --upgrade pip\u001b[0m\n"
     ]
    }
   ],
   "source": [
    "!pip install ib-insync"
   ]
  },
  {
   "cell_type": "code",
   "execution_count": null,
   "id": "07be1e4c-7579-4074-b15e-91b6361821e7",
   "metadata": {},
   "outputs": [],
   "source": []
  },
  {
   "cell_type": "code",
   "execution_count": null,
   "id": "e6693eee-ca8f-4e16-a7e6-471c5c11f775",
   "metadata": {},
   "outputs": [],
   "source": []
  }
 ],
 "metadata": {
  "kernelspec": {
   "display_name": "Python 3 (ipykernel)",
   "language": "python",
   "name": "python3"
  },
  "language_info": {
   "codemirror_mode": {
    "name": "ipython",
    "version": 3
   },
   "file_extension": ".py",
   "mimetype": "text/x-python",
   "name": "python",
   "nbconvert_exporter": "python",
   "pygments_lexer": "ipython3",
   "version": "3.10.12"
  }
 },
 "nbformat": 4,
 "nbformat_minor": 5
}
