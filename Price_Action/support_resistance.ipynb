{
 "cells": [
  {
   "cell_type": "markdown",
   "id": "069aa0f9-f7ac-4f43-9531-97a6b75b0c4b",
   "metadata": {},
   "source": [
    "# Support and Resistance"
   ]
  },
  {
   "cell_type": "markdown",
   "id": "c91365b4-7ee4-492f-8393-1a7dad41b018",
   "metadata": {},
   "source": [
    "## Fractals\n",
    "A fractal is a candlestick pattern made by 5 candles. The third candle has the lowest low price, the previous candles have decreasing lows and the next candles have increasing lows. By this pattern, the low of the third candle is the support level. The same concept applies to resistance levels, where the third candle has the highest high of the five ones."
   ]
  },
  {
   "cell_type": "code",
   "execution_count": 2,
   "id": "e7c6921a-5b9c-428b-abbc-651269460706",
   "metadata": {},
   "outputs": [
    {
     "data": {
      "text/plain": [
       "['Collecting mpl_finance',\n",
       " '  Downloading mpl_finance-0.10.1-py3-none-any.whl (8.4 kB)',\n",
       " 'Requirement already satisfied: matplotlib in /home/tikam/stock-market/env3/lib/python3.10/site-packages (from mpl_finance) (3.8.2)',\n",
       " 'Requirement already satisfied: contourpy>=1.0.1 in /home/tikam/stock-market/env3/lib/python3.10/site-packages (from matplotlib->mpl_finance) (1.2.0)',\n",
       " 'Requirement already satisfied: cycler>=0.10 in /home/tikam/stock-market/env3/lib/python3.10/site-packages (from matplotlib->mpl_finance) (0.12.1)',\n",
       " 'Requirement already satisfied: fonttools>=4.22.0 in /home/tikam/stock-market/env3/lib/python3.10/site-packages (from matplotlib->mpl_finance) (4.47.2)',\n",
       " 'Requirement already satisfied: kiwisolver>=1.3.1 in /home/tikam/stock-market/env3/lib/python3.10/site-packages (from matplotlib->mpl_finance) (1.4.5)',\n",
       " 'Requirement already satisfied: numpy<2,>=1.21 in /home/tikam/stock-market/env3/lib/python3.10/site-packages (from matplotlib->mpl_finance) (1.26.2)',\n",
       " 'Requirement already satisfied: packaging>=20.0 in /home/tikam/stock-market/env3/lib/python3.10/site-packages (from matplotlib->mpl_finance) (23.2)',\n",
       " 'Requirement already satisfied: pillow>=8 in /home/tikam/stock-market/env3/lib/python3.10/site-packages (from matplotlib->mpl_finance) (10.2.0)',\n",
       " 'Requirement already satisfied: pyparsing>=2.3.1 in /home/tikam/stock-market/env3/lib/python3.10/site-packages (from matplotlib->mpl_finance) (3.1.1)',\n",
       " 'Requirement already satisfied: python-dateutil>=2.7 in /home/tikam/stock-market/env3/lib/python3.10/site-packages (from matplotlib->mpl_finance) (2.8.2)',\n",
       " 'Requirement already satisfied: six>=1.5 in /home/tikam/stock-market/env3/lib/python3.10/site-packages (from python-dateutil>=2.7->matplotlib->mpl_finance) (1.16.0)',\n",
       " 'Installing collected packages: mpl_finance',\n",
       " 'Successfully installed mpl_finance-0.10.1']"
      ]
     },
     "execution_count": 2,
     "metadata": {},
     "output_type": "execute_result"
    }
   ],
   "source": [
    "!!pip install mpl_finance\n"
   ]
  },
  {
   "cell_type": "code",
   "execution_count": 3,
   "id": "2bce1e8d-2950-4a0f-b2ba-13e3bdf8c077",
   "metadata": {},
   "outputs": [
    {
     "name": "stderr",
     "output_type": "stream",
     "text": [
      "/home/tikam/stock-market/env3/lib/python3.10/site-packages/mpl_finance.py:16: DeprecationWarning: \n",
      "\n",
      "  =================================================================\n",
      "\n",
      "   WARNING: `mpl_finance` is deprecated:\n",
      "\n",
      "    Please use `mplfinance` instead (no hyphen, no underscore).\n",
      "\n",
      "    To install: `pip install --upgrade mplfinance` \n",
      "\n",
      "   For more information, see: https://pypi.org/project/mplfinance/\n",
      "\n",
      "  =================================================================\n",
      "\n",
      "  __warnings.warn('\\n\\n  ================================================================='+\n"
     ]
    }
   ],
   "source": [
    "import pandas as pd\n",
    "import numpy as np\n",
    "import yfinance\n",
    "from mpl_finance import candlestick_ohlc\n",
    "import matplotlib.dates as mpl_dates\n",
    "import matplotlib.pyplot as plt\n",
    "\n",
    "plt.rcParams['figure.figsize'] = [12, 7]\n",
    "\n",
    "plt.rc('font', size=14) "
   ]
  },
  {
   "cell_type": "code",
   "execution_count": 25,
   "id": "4565eb6c-2498-40ac-bba4-f729bfb18f50",
   "metadata": {},
   "outputs": [],
   "source": [
    "name = 'IOC.NS'\n",
    "ticker = yfinance.Ticker(name)\n",
    "df = ticker.history(interval=\"1d\",start=\"2023-10-15\",end=\"2024-07-26\")"
   ]
  },
  {
   "cell_type": "code",
   "execution_count": 26,
   "id": "189bfebc-459c-40b5-b336-83f0b323bca8",
   "metadata": {},
   "outputs": [],
   "source": [
    "df['Date'] = pd.to_datetime(df.index)\n",
    "df['Date'] = df['Date'].apply(mpl_dates.date2num)\n",
    "\n",
    "df = df.loc[:,['Date', 'Open', 'High', 'Low', 'Close']]"
   ]
  },
  {
   "cell_type": "code",
   "execution_count": 27,
   "id": "0be29a45-8062-40e1-a142-c69a659b027c",
   "metadata": {},
   "outputs": [
    {
     "data": {
      "text/html": [
       "<div>\n",
       "<style scoped>\n",
       "    .dataframe tbody tr th:only-of-type {\n",
       "        vertical-align: middle;\n",
       "    }\n",
       "\n",
       "    .dataframe tbody tr th {\n",
       "        vertical-align: top;\n",
       "    }\n",
       "\n",
       "    .dataframe thead th {\n",
       "        text-align: right;\n",
       "    }\n",
       "</style>\n",
       "<table border=\"1\" class=\"dataframe\">\n",
       "  <thead>\n",
       "    <tr style=\"text-align: right;\">\n",
       "      <th></th>\n",
       "      <th>Date</th>\n",
       "      <th>Open</th>\n",
       "      <th>High</th>\n",
       "      <th>Low</th>\n",
       "      <th>Close</th>\n",
       "    </tr>\n",
       "    <tr>\n",
       "      <th>Date</th>\n",
       "      <th></th>\n",
       "      <th></th>\n",
       "      <th></th>\n",
       "      <th></th>\n",
       "      <th></th>\n",
       "    </tr>\n",
       "  </thead>\n",
       "  <tbody>\n",
       "    <tr>\n",
       "      <th>2023-10-16 00:00:00+05:30</th>\n",
       "      <td>19645.770833</td>\n",
       "      <td>86.580379</td>\n",
       "      <td>86.723095</td>\n",
       "      <td>85.819230</td>\n",
       "      <td>86.485237</td>\n",
       "    </tr>\n",
       "    <tr>\n",
       "      <th>2023-10-17 00:00:00+05:30</th>\n",
       "      <td>19646.770833</td>\n",
       "      <td>86.580375</td>\n",
       "      <td>87.817241</td>\n",
       "      <td>86.342517</td>\n",
       "      <td>87.389091</td>\n",
       "    </tr>\n",
       "    <tr>\n",
       "      <th>2023-10-18 00:00:00+05:30</th>\n",
       "      <td>19647.770833</td>\n",
       "      <td>88.007529</td>\n",
       "      <td>88.007529</td>\n",
       "      <td>86.104663</td>\n",
       "      <td>86.342522</td>\n",
       "    </tr>\n",
       "    <tr>\n",
       "      <th>2023-10-19 00:00:00+05:30</th>\n",
       "      <td>19648.770833</td>\n",
       "      <td>85.771659</td>\n",
       "      <td>86.485234</td>\n",
       "      <td>85.724085</td>\n",
       "      <td>86.247375</td>\n",
       "    </tr>\n",
       "    <tr>\n",
       "      <th>2023-10-20 00:00:00+05:30</th>\n",
       "      <td>19649.770833</td>\n",
       "      <td>86.152233</td>\n",
       "      <td>86.437659</td>\n",
       "      <td>85.153226</td>\n",
       "      <td>85.914375</td>\n",
       "    </tr>\n",
       "    <tr>\n",
       "      <th>...</th>\n",
       "      <td>...</td>\n",
       "      <td>...</td>\n",
       "      <td>...</td>\n",
       "      <td>...</td>\n",
       "      <td>...</td>\n",
       "    </tr>\n",
       "    <tr>\n",
       "      <th>2024-01-19 00:00:00+05:30</th>\n",
       "      <td>19740.770833</td>\n",
       "      <td>145.100006</td>\n",
       "      <td>149.300003</td>\n",
       "      <td>143.800003</td>\n",
       "      <td>148.649994</td>\n",
       "    </tr>\n",
       "    <tr>\n",
       "      <th>2024-01-22 00:00:00+05:30</th>\n",
       "      <td>19743.770833</td>\n",
       "      <td>148.649994</td>\n",
       "      <td>148.649994</td>\n",
       "      <td>148.649994</td>\n",
       "      <td>148.649994</td>\n",
       "    </tr>\n",
       "    <tr>\n",
       "      <th>2024-01-23 00:00:00+05:30</th>\n",
       "      <td>19744.770833</td>\n",
       "      <td>151.500000</td>\n",
       "      <td>151.800003</td>\n",
       "      <td>137.850006</td>\n",
       "      <td>138.949997</td>\n",
       "    </tr>\n",
       "    <tr>\n",
       "      <th>2024-01-24 00:00:00+05:30</th>\n",
       "      <td>19745.770833</td>\n",
       "      <td>138.949997</td>\n",
       "      <td>145.250000</td>\n",
       "      <td>138.050003</td>\n",
       "      <td>143.449997</td>\n",
       "    </tr>\n",
       "    <tr>\n",
       "      <th>2024-01-25 00:00:00+05:30</th>\n",
       "      <td>19746.770833</td>\n",
       "      <td>145.899994</td>\n",
       "      <td>145.899994</td>\n",
       "      <td>142.000000</td>\n",
       "      <td>143.699997</td>\n",
       "    </tr>\n",
       "  </tbody>\n",
       "</table>\n",
       "<p>70 rows × 5 columns</p>\n",
       "</div>"
      ],
      "text/plain": [
       "                                   Date        Open        High         Low  \\\n",
       "Date                                                                          \n",
       "2023-10-16 00:00:00+05:30  19645.770833   86.580379   86.723095   85.819230   \n",
       "2023-10-17 00:00:00+05:30  19646.770833   86.580375   87.817241   86.342517   \n",
       "2023-10-18 00:00:00+05:30  19647.770833   88.007529   88.007529   86.104663   \n",
       "2023-10-19 00:00:00+05:30  19648.770833   85.771659   86.485234   85.724085   \n",
       "2023-10-20 00:00:00+05:30  19649.770833   86.152233   86.437659   85.153226   \n",
       "...                                 ...         ...         ...         ...   \n",
       "2024-01-19 00:00:00+05:30  19740.770833  145.100006  149.300003  143.800003   \n",
       "2024-01-22 00:00:00+05:30  19743.770833  148.649994  148.649994  148.649994   \n",
       "2024-01-23 00:00:00+05:30  19744.770833  151.500000  151.800003  137.850006   \n",
       "2024-01-24 00:00:00+05:30  19745.770833  138.949997  145.250000  138.050003   \n",
       "2024-01-25 00:00:00+05:30  19746.770833  145.899994  145.899994  142.000000   \n",
       "\n",
       "                                Close  \n",
       "Date                                   \n",
       "2023-10-16 00:00:00+05:30   86.485237  \n",
       "2023-10-17 00:00:00+05:30   87.389091  \n",
       "2023-10-18 00:00:00+05:30   86.342522  \n",
       "2023-10-19 00:00:00+05:30   86.247375  \n",
       "2023-10-20 00:00:00+05:30   85.914375  \n",
       "...                               ...  \n",
       "2024-01-19 00:00:00+05:30  148.649994  \n",
       "2024-01-22 00:00:00+05:30  148.649994  \n",
       "2024-01-23 00:00:00+05:30  138.949997  \n",
       "2024-01-24 00:00:00+05:30  143.449997  \n",
       "2024-01-25 00:00:00+05:30  143.699997  \n",
       "\n",
       "[70 rows x 5 columns]"
      ]
     },
     "execution_count": 27,
     "metadata": {},
     "output_type": "execute_result"
    }
   ],
   "source": [
    "df"
   ]
  },
  {
   "cell_type": "code",
   "execution_count": 28,
   "id": "9a9bfe17-6d3c-44eb-b812-f02a59407c37",
   "metadata": {},
   "outputs": [],
   "source": [
    "def isSupport(df,i):\n",
    "  support = df['Low'][i] < df['Low'][i-1]  and df['Low'][i] < df['Low'][i+1] \\\n",
    "  and df['Low'][i+1] < df['Low'][i+2] and df['Low'][i-1] < df['Low'][i-2]\n",
    "\n",
    "  return support\n",
    "\n",
    "def isResistance(df,i):\n",
    "  resistance = df['High'][i] > df['High'][i-1]  and df['High'][i] > df['High'][i+1] \\\n",
    "  and df['High'][i+1] > df['High'][i+2] and df['High'][i-1] > df['High'][i-2] \n",
    "\n",
    "  return resistance"
   ]
  },
  {
   "cell_type": "code",
   "execution_count": 29,
   "id": "360d35e0-d75d-4a0d-9d0c-1d77ca6eac4e",
   "metadata": {},
   "outputs": [
    {
     "name": "stderr",
     "output_type": "stream",
     "text": [
      "/tmp/ipykernel_16091/3641797736.py:2: FutureWarning: Series.__getitem__ treating keys as positions is deprecated. In a future version, integer keys will always be treated as labels (consistent with DataFrame behavior). To access a value by position, use `ser.iloc[pos]`\n",
      "  support = df['Low'][i] < df['Low'][i-1]  and df['Low'][i] < df['Low'][i+1] \\\n",
      "/tmp/ipykernel_16091/3641797736.py:8: FutureWarning: Series.__getitem__ treating keys as positions is deprecated. In a future version, integer keys will always be treated as labels (consistent with DataFrame behavior). To access a value by position, use `ser.iloc[pos]`\n",
      "  resistance = df['High'][i] > df['High'][i-1]  and df['High'][i] > df['High'][i+1] \\\n",
      "/tmp/ipykernel_16091/3641797736.py:9: FutureWarning: Series.__getitem__ treating keys as positions is deprecated. In a future version, integer keys will always be treated as labels (consistent with DataFrame behavior). To access a value by position, use `ser.iloc[pos]`\n",
      "  and df['High'][i+1] > df['High'][i+2] and df['High'][i-1] > df['High'][i-2]\n",
      "/tmp/ipykernel_16091/4280130831.py:6: FutureWarning: Series.__getitem__ treating keys as positions is deprecated. In a future version, integer keys will always be treated as labels (consistent with DataFrame behavior). To access a value by position, use `ser.iloc[pos]`\n",
      "  levels.append((i,df['High'][i]))\n",
      "/tmp/ipykernel_16091/3641797736.py:3: FutureWarning: Series.__getitem__ treating keys as positions is deprecated. In a future version, integer keys will always be treated as labels (consistent with DataFrame behavior). To access a value by position, use `ser.iloc[pos]`\n",
      "  and df['Low'][i+1] < df['Low'][i+2] and df['Low'][i-1] < df['Low'][i-2]\n",
      "/tmp/ipykernel_16091/4280130831.py:4: FutureWarning: Series.__getitem__ treating keys as positions is deprecated. In a future version, integer keys will always be treated as labels (consistent with DataFrame behavior). To access a value by position, use `ser.iloc[pos]`\n",
      "  levels.append((i,df['Low'][i]))\n"
     ]
    }
   ],
   "source": [
    "levels = []\n",
    "for i in range(2,df.shape[0]-2):\n",
    "  if isSupport(df,i):\n",
    "    levels.append((i,df['Low'][i]))\n",
    "  elif isResistance(df,i):\n",
    "    levels.append((i,df['High'][i]))"
   ]
  },
  {
   "cell_type": "code",
   "execution_count": 30,
   "id": "8daf335d-504e-450f-ab52-a4ca33d12e7c",
   "metadata": {},
   "outputs": [],
   "source": [
    "def plot_all():\n",
    "  fig, ax = plt.subplots()\n",
    "\n",
    "  candlestick_ohlc(ax,df.values,width=0.6, \\\n",
    "                   colorup='green', colordown='red', alpha=0.8)\n",
    "\n",
    "  date_format = mpl_dates.DateFormatter('%d %b %Y')\n",
    "  ax.xaxis.set_major_formatter(date_format)\n",
    "  fig.autofmt_xdate()\n",
    "\n",
    "  fig.tight_layout()\n",
    "\n",
    "  for level in levels:\n",
    "    plt.hlines(level[1],xmin=df['Date'][level[0]],\\\n",
    "               xmax=max(df['Date']),colors='blue')\n",
    "  fig.show()"
   ]
  },
  {
   "cell_type": "code",
   "execution_count": 31,
   "id": "a7664424-5e1e-4ad1-815e-428c3ed58fc8",
   "metadata": {},
   "outputs": [],
   "source": [
    "s =  np.mean(df['High'] - df['Low'])\n"
   ]
  },
  {
   "cell_type": "code",
   "execution_count": 32,
   "id": "e49e0f0f-50aa-487c-981d-cc55d98eb688",
   "metadata": {},
   "outputs": [],
   "source": [
    "def isFarFromLevel(l):\n",
    "  return np.sum([abs(l-x) < s  for x in levels]) == 0"
   ]
  },
  {
   "cell_type": "code",
   "execution_count": 33,
   "id": "7380e5c3-11ed-41a4-b169-6217f230e7a4",
   "metadata": {},
   "outputs": [
    {
     "name": "stderr",
     "output_type": "stream",
     "text": [
      "/tmp/ipykernel_16091/3641797736.py:2: FutureWarning: Series.__getitem__ treating keys as positions is deprecated. In a future version, integer keys will always be treated as labels (consistent with DataFrame behavior). To access a value by position, use `ser.iloc[pos]`\n",
      "  support = df['Low'][i] < df['Low'][i-1]  and df['Low'][i] < df['Low'][i+1] \\\n",
      "/tmp/ipykernel_16091/3641797736.py:8: FutureWarning: Series.__getitem__ treating keys as positions is deprecated. In a future version, integer keys will always be treated as labels (consistent with DataFrame behavior). To access a value by position, use `ser.iloc[pos]`\n",
      "  resistance = df['High'][i] > df['High'][i-1]  and df['High'][i] > df['High'][i+1] \\\n",
      "/tmp/ipykernel_16091/3641797736.py:9: FutureWarning: Series.__getitem__ treating keys as positions is deprecated. In a future version, integer keys will always be treated as labels (consistent with DataFrame behavior). To access a value by position, use `ser.iloc[pos]`\n",
      "  and df['High'][i+1] > df['High'][i+2] and df['High'][i-1] > df['High'][i-2]\n",
      "/tmp/ipykernel_16091/2761062315.py:10: FutureWarning: Series.__getitem__ treating keys as positions is deprecated. In a future version, integer keys will always be treated as labels (consistent with DataFrame behavior). To access a value by position, use `ser.iloc[pos]`\n",
      "  l = df['High'][i]\n",
      "/tmp/ipykernel_16091/3641797736.py:3: FutureWarning: Series.__getitem__ treating keys as positions is deprecated. In a future version, integer keys will always be treated as labels (consistent with DataFrame behavior). To access a value by position, use `ser.iloc[pos]`\n",
      "  and df['Low'][i+1] < df['Low'][i+2] and df['Low'][i-1] < df['Low'][i-2]\n",
      "/tmp/ipykernel_16091/2761062315.py:4: FutureWarning: Series.__getitem__ treating keys as positions is deprecated. In a future version, integer keys will always be treated as labels (consistent with DataFrame behavior). To access a value by position, use `ser.iloc[pos]`\n",
      "  l = df['Low'][i]\n"
     ]
    }
   ],
   "source": [
    "levels = []\n",
    "for i in range(2,df.shape[0]-2):\n",
    "  if isSupport(df,i):\n",
    "    l = df['Low'][i]\n",
    "\n",
    "    if isFarFromLevel(l):\n",
    "      levels.append((i,l))\n",
    "\n",
    "  elif isResistance(df,i):\n",
    "    l = df['High'][i]\n",
    "\n",
    "    if isFarFromLevel(l):\n",
    "      levels.append((i,l))"
   ]
  },
  {
   "cell_type": "code",
   "execution_count": 34,
   "id": "5f4d22d5-792c-4d13-ab4a-7978f778d91f",
   "metadata": {},
   "outputs": [
    {
     "data": {
      "text/plain": [
       "[(2, 88.00752897236302),\n",
       " (7, 81.34749640790037),\n",
       " (16, 101.70815984493873),\n",
       " (18, 97.4000015258789),\n",
       " (22, 106.30000305175781),\n",
       " (37, 116.5999984741211),\n",
       " (56, 136.10000610351562),\n",
       " (58, 128.5)]"
      ]
     },
     "execution_count": 34,
     "metadata": {},
     "output_type": "execute_result"
    }
   ],
   "source": [
    "levels\n"
   ]
  },
  {
   "cell_type": "code",
   "execution_count": 35,
   "id": "8908f11a-0bc7-4ea3-9586-2d3a6397e3ac",
   "metadata": {},
   "outputs": [
    {
     "name": "stderr",
     "output_type": "stream",
     "text": [
      "/tmp/ipykernel_16091/3123618144.py:14: FutureWarning: Series.__getitem__ treating keys as positions is deprecated. In a future version, integer keys will always be treated as labels (consistent with DataFrame behavior). To access a value by position, use `ser.iloc[pos]`\n",
      "  plt.hlines(level[1],xmin=df['Date'][level[0]],\\\n",
      "/tmp/ipykernel_16091/3123618144.py:16: UserWarning: FigureCanvasAgg is non-interactive, and thus cannot be shown\n",
      "  fig.show()\n"
     ]
    },
    {
     "data": {
      "image/png": "[encoded data removed]",
      "text/plain": [
       "<Figure size 1200x700 with 1 Axes>"
      ]
     },
     "metadata": {},
     "output_type": "display_data"
    }
   ],
   "source": [
    "plot_all()\n"
   ]
  },
  {
   "cell_type": "code",
   "execution_count": null,
   "id": "e52da823-5648-4b54-bfc5-b8cca6a02aa4",
   "metadata": {},
   "outputs": [],
   "source": []
  },
  {
   "cell_type": "code",
   "execution_count": null,
   "id": "321baa5a-934b-48fb-aba4-c6faf28597c3",
   "metadata": {},
   "outputs": [],
   "source": []
  }
 ],
 "metadata": {
  "kernelspec": {
   "display_name": "Python 3 (ipykernel)",
   "language": "python",
   "name": "python3"
  },
  "language_info": {
   "codemirror_mode": {
    "name": "ipython",
    "version": 3
   },
   "file_extension": ".py",
   "mimetype": "text/x-python",
   "name": "python",
   "nbconvert_exporter": "python",
   "pygments_lexer": "ipython3",
   "version": "3.10.12"
  }
 },
 "nbformat": 4,
 "nbformat_minor": 5
}
