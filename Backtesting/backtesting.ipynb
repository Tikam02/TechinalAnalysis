{
 "cells": [
  {
   "cell_type": "markdown",
   "id": "2b23a4a9-5845-44c1-9f1f-94283510a690",
   "metadata": {},
   "source": [
    "# Backtesting "
   ]
  },
  {
   "cell_type": "markdown",
   "id": "40b200d3-4f4e-4b3f-a740-085318ec05fe",
   "metadata": {},
   "source": [
    "ref:\n",
    "\n",
    "- https://www.quantifiedstrategies.com/out-of-sample/#:~:text=The%20in%2Dsample%20test%20is,of%2Dsample%20in%20your%20backtesting.\n",
    "- https://readmedium.com/en/https:/medium.com/quant-factory/how-hedge-fund-managers-are-analysing-the-market-with-python-acdc6361f601\n",
    "- https://medium.com/@redeaddiscolll/advanced-stock-market-analysis-and-visualization-using-python-100677453edd\n",
    "- https://medium.com/@crisvelasquez\n",
    "- https://readmedium.com/riding-the-waves-of-stock-prices-with-wavelet-transform-signals-in-python-e2e81217f9fd\n",
    "- https://medium.com/@crisvelasquez/mining-patterns-in-stocks-with-pca-and-dtw-e98651657f37\n",
    "- https://medium.com/quant-factory/how-hedge-fund-managers-are-analysing-the-market-with-python-acdc6361f601\n",
    "- https://trevormcguire.medium.com/\n",
    "- https://trevormcguire.medium.com/blackjack-stocks-and-reinforcement-learning-ea4014115aeb\n",
    "- https://readmedium.com/dynamic-strategy-backtesting-developing-a-trading-system-that-adapts-to-changing-market-conditions-1f0d497bd24b\n",
    "- https://readmedium.com/trading-strategy-with-momentum-breakout-and-volume-5e9a68a205d9\n",
    "- https://readmedium.com/using-python-to-develop-day-trading-strategies-53fe5910cbad\n",
    "- https://github.com/facundoallia?tab=repositories"
   ]
  },
  {
   "cell_type": "markdown",
   "id": "cd5772e8-fbee-48fc-922e-8391bef7b709",
   "metadata": {},
   "source": [
    "### Backtesting SMA / MA"
   ]
  },
  {
   "cell_type": "markdown",
   "id": "b8438441-b69a-4119-b857-f0ed9b2ce90b",
   "metadata": {},
   "source": [
    "- https://medium.com/coinmonks/3-simple-moving-averages-trade-strategy-performance-test-2194f423d36b\n",
    "- https://datasciencedrivein.medium.com/three-way-moving-average-trading-strategy-no-short-selling-required-w-python-code-1a7940a46ac1\n",
    "- https://intrinio.medium.com/how-to-quickly-construct-and-backtest-a-simple-moving-average-crossover-strategy-with-python-cf9d0431a16c\n",
    "- https://readmedium.com/en/https:/medium.com/swlh/backtesting-algorithmic-trading-strategies-in-5-simple-steps-python-e2f19e231930\n",
    "- https://github.com/peiyingchin/Medium/blob/main/Back%20test%20your%20Simple%20moving%20average%20(SMA)%20strategy%20in%20stock%20using%20Python/SMA%20strategy-MRO.ipynb"
   ]
  },
  {
   "cell_type": "code",
   "execution_count": null,
   "id": "6fed0024-02a4-4443-a2a8-7e979e8453cd",
   "metadata": {},
   "outputs": [],
   "source": []
  }
 ],
 "metadata": {
  "kernelspec": {
   "display_name": "Python 3 (ipykernel)",
   "language": "python",
   "name": "python3"
  },
  "language_info": {
   "codemirror_mode": {
    "name": "ipython",
    "version": 3
   },
   "file_extension": ".py",
   "mimetype": "text/x-python",
   "name": "python",
   "nbconvert_exporter": "python",
   "pygments_lexer": "ipython3",
   "version": "3.10.12"
  }
 },
 "nbformat": 4,
 "nbformat_minor": 5
}
