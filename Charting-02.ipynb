{
 "cells": [
  {
   "cell_type": "markdown",
   "id": "0c756e29-6745-4f96-bc53-187bdb71219d",
   "metadata": {},
   "source": [
    "# Charting 2"
   ]
  },
  {
   "cell_type": "code",
   "execution_count": 9,
   "id": "8d6e5aa8-fb0a-428e-b1cb-9e52d94b4e6b",
   "metadata": {},
   "outputs": [
    {
     "name": "stderr",
     "output_type": "stream",
     "text": [
      "[*********************100%%**********************]  1 of 1 completed\n"
     ]
    }
   ],
   "source": [
    "\n",
    "import yfinance as yf\n",
    "import pandas as pd\n",
    "symbol = 'HSCL.NS'\n",
    "df = yf.download(symbol, start='2023-10-01')"
   ]
  },
  {
   "cell_type": "markdown",
   "id": "a7a2af91-d695-43df-8a5e-db2bb02f4054",
   "metadata": {},
   "source": [
    "## OHLC Chart"
   ]
  },
  {
   "cell_type": "code",
   "execution_count": 11,
   "id": "85181ac1-6184-4a00-ac98-8e844cec6027",
   "metadata": {},
   "outputs": [
    {
     "data": {
      "application/vnd.plotly.v1+json": {
       "config": {
        "plotlyServerURL": "https://plot.ly"
       },
       "data": [
        {
         "close": [
          253.8000030517578,
          247.64999389648438,
          247.85000610351562,
          247.25,
          235.9499969482422,
          244.4499969482422,
          246.14999389648438,
          255.60000610351562,
          257.6000061035156,
          255.85000610351562,
          257.1000061035156,
          254.9499969482422,
          262.25,
          260.25,
          247.10000610351562,
          238.5500030517578,
          234.14999389648438,
          238.75,
          241.89999389648438,
          238.75,
          243.10000610351562,
          242.0500030517578,
          243.75,
          248.4499969482422,
          254.4499969482422,
          252.64999389648438,
          251.4499969482422,
          248.8000030517578,
          259.04998779296875,
          258.25,
          255.5,
          252.35000610351562,
          256.3500061035156,
          265.3500061035156,
          264.54998779296875,
          260.3500061035156,
          264.3999938964844,
          263.45001220703125,
          263,
          273.70001220703125,
          267.45001220703125,
          271.70001220703125,
          290.79998779296875,
          300.8999938964844,
          305.8500061035156,
          297.1000061035156,
          296,
          293.70001220703125,
          291.1499938964844,
          292.3999938964844,
          290.5,
          293.29998779296875,
          294.6499938964844,
          274.79998779296875,
          279.8500061035156,
          286.54998779296875,
          307.3500061035156,
          307.95001220703125,
          309.8999938964844,
          309.5,
          331.3999938964844,
          334.79998779296875,
          332.3500061035156,
          365.54998779296875,
          386.8999938964844,
          387.8500061035156,
          386.79998779296875,
          380.3999938964844,
          375.95001220703125,
          370.6499938964844,
          374.79998779296875,
          391.70001220703125,
          376.95001220703125,
          376,
          374.04998779296875,
          373.04998779296875
         ],
         "high": [
          256.8999938964844,
          257.8999938964844,
          252,
          248.60000610351562,
          241.35000610351562,
          247.39999389648438,
          250,
          262.1499938964844,
          260,
          261.29998779296875,
          264.79998779296875,
          262.1000061035156,
          268,
          271.20001220703125,
          262.20001220703125,
          251.6999969482422,
          236.89999389648438,
          244.8000030517578,
          245,
          244.6999969482422,
          246.39999389648438,
          245.25,
          247.60000610351562,
          253,
          257,
          256.45001220703125,
          260,
          251.89999389648438,
          262,
          264.25,
          261.8999938964844,
          259,
          258.45001220703125,
          269,
          274.25,
          267.70001220703125,
          265.6000061035156,
          269.95001220703125,
          266.8500061035156,
          275.79998779296875,
          278.79998779296875,
          274,
          294,
          307,
          312.3999938964844,
          310.5,
          300.3999938964844,
          298.25,
          295,
          299.20001220703125,
          295,
          294.6000061035156,
          297.8999938964844,
          297.6000061035156,
          283,
          288,
          308,
          313.79998779296875,
          311,
          312,
          339.5,
          338.8999938964844,
          335.3500061035156,
          365.54998779296875,
          394,
          398.75,
          396.8999938964844,
          387.5,
          392,
          381,
          379.95001220703125,
          393.5,
          388.75,
          381,
          381.45001220703125,
          381.5
         ],
         "low": [
          240.10000610351562,
          244.39999389648438,
          245.5,
          245.5,
          234.1999969482422,
          237,
          243.10000610351562,
          246.10000610351562,
          252.5,
          254.25,
          254.10000610351562,
          252.5,
          252.10000610351562,
          258,
          246.8000030517578,
          237.10000610351562,
          224,
          236,
          235.1999969482422,
          237.60000610351562,
          236.14999389648438,
          240.8000030517578,
          242.35000610351562,
          244.75,
          248,
          251.10000610351562,
          250,
          248,
          248.10000610351562,
          257.20001220703125,
          254.14999389648438,
          250,
          252.5,
          257.6499938964844,
          262.1499938964844,
          258.04998779296875,
          258.20001220703125,
          262.5,
          261.29998779296875,
          250.0500030517578,
          265.04998779296875,
          268.6000061035156,
          268.3999938964844,
          300,
          301,
          292.04998779296875,
          293.1000061035156,
          291.54998779296875,
          288.1000061035156,
          291.3999938964844,
          287,
          288.1499938964844,
          291.20001220703125,
          271.95001220703125,
          266.20001220703125,
          280.1499938964844,
          288.1499938964844,
          302.20001220703125,
          302.5,
          305,
          309.5,
          326.04998779296875,
          328.5,
          332.8500061035156,
          368.8999938964844,
          373,
          383,
          369,
          373.6000061035156,
          369,
          370.29998779296875,
          372.1000061035156,
          375,
          358.1000061035156,
          370,
          370.45001220703125
         ],
         "open": [
          240.10000610351562,
          254,
          249.0500030517578,
          248.4499969482422,
          240.14999389648438,
          238.5,
          246.60000610351562,
          247,
          254.60000610351562,
          258.8999938964844,
          258.70001220703125,
          262,
          255.39999389648438,
          263.8500061035156,
          261.6499938964844,
          249.89999389648438,
          234.9499969482422,
          236.75,
          239.60000610351562,
          244,
          236.1999969482422,
          244.3000030517578,
          243.39999389648438,
          244.75,
          249.60000610351562,
          255.75,
          253.6999969482422,
          250,
          249.1999969482422,
          261.5,
          259.3999938964844,
          254,
          253.1999969482422,
          257.8500061035156,
          267,
          266,
          261.5,
          265.70001220703125,
          265.3999938964844,
          265.45001220703125,
          275,
          268.6000061035156,
          272.79998779296875,
          307,
          302.6000061035156,
          307.29998779296875,
          298.20001220703125,
          297.5,
          295,
          294.5,
          293.8999938964844,
          292,
          293.75,
          295.5,
          274.45001220703125,
          281.54998779296875,
          288.1499938964844,
          306.3999938964844,
          309.45001220703125,
          311,
          310.8500061035156,
          332.6499938964844,
          334.8999938964844,
          334.04998779296875,
          370.5,
          390,
          390.79998779296875,
          382,
          386,
          375.95001220703125,
          373.6000061035156,
          375.20001220703125,
          383.75,
          377,
          376.70001220703125,
          378
         ],
         "type": "candlestick",
         "x": [
          "2023-10-03T00:00:00",
          "2023-10-04T00:00:00",
          "2023-10-05T00:00:00",
          "2023-10-06T00:00:00",
          "2023-10-09T00:00:00",
          "2023-10-10T00:00:00",
          "2023-10-11T00:00:00",
          "2023-10-12T00:00:00",
          "2023-10-13T00:00:00",
          "2023-10-16T00:00:00",
          "2023-10-17T00:00:00",
          "2023-10-18T00:00:00",
          "2023-10-19T00:00:00",
          "2023-10-20T00:00:00",
          "2023-10-23T00:00:00",
          "2023-10-25T00:00:00",
          "2023-10-26T00:00:00",
          "2023-10-27T00:00:00",
          "2023-10-30T00:00:00",
          "2023-10-31T00:00:00",
          "2023-11-01T00:00:00",
          "2023-11-02T00:00:00",
          "2023-11-03T00:00:00",
          "2023-11-06T00:00:00",
          "2023-11-07T00:00:00",
          "2023-11-08T00:00:00",
          "2023-11-09T00:00:00",
          "2023-11-10T00:00:00",
          "2023-11-13T00:00:00",
          "2023-11-15T00:00:00",
          "2023-11-16T00:00:00",
          "2023-11-17T00:00:00",
          "2023-11-20T00:00:00",
          "2023-11-21T00:00:00",
          "2023-11-22T00:00:00",
          "2023-11-23T00:00:00",
          "2023-11-24T00:00:00",
          "2023-11-28T00:00:00",
          "2023-11-29T00:00:00",
          "2023-11-30T00:00:00",
          "2023-12-01T00:00:00",
          "2023-12-04T00:00:00",
          "2023-12-05T00:00:00",
          "2023-12-06T00:00:00",
          "2023-12-07T00:00:00",
          "2023-12-08T00:00:00",
          "2023-12-11T00:00:00",
          "2023-12-12T00:00:00",
          "2023-12-13T00:00:00",
          "2023-12-14T00:00:00",
          "2023-12-15T00:00:00",
          "2023-12-18T00:00:00",
          "2023-12-19T00:00:00",
          "2023-12-20T00:00:00",
          "2023-12-21T00:00:00",
          "2023-12-22T00:00:00",
          "2023-12-26T00:00:00",
          "2023-12-27T00:00:00",
          "2023-12-28T00:00:00",
          "2023-12-29T00:00:00",
          "2024-01-01T00:00:00",
          "2024-01-02T00:00:00",
          "2024-01-03T00:00:00",
          "2024-01-04T00:00:00",
          "2024-01-05T00:00:00",
          "2024-01-08T00:00:00",
          "2024-01-09T00:00:00",
          "2024-01-10T00:00:00",
          "2024-01-11T00:00:00",
          "2024-01-12T00:00:00",
          "2024-01-15T00:00:00",
          "2024-01-16T00:00:00",
          "2024-01-17T00:00:00",
          "2024-01-18T00:00:00",
          "2024-01-19T00:00:00",
          "2024-01-20T00:00:00"
         ]
        }
       ],
       "layout": {
        "autosize": true,
        "template": {
         "data": {
          "bar": [
           {
            "error_x": {
             "color": "#2a3f5f"
            },
            "error_y": {
             "color": "#2a3f5f"
            },
            "marker": {
             "line": {
              "color": "#E5ECF6",
              "width": 0.5
             },
             "pattern": {
              "fillmode": "overlay",
              "size": 10,
              "solidity": 0.2
             }
            },
            "type": "bar"
           }
          ],
          "barpolar": [
           {
            "marker": {
             "line": {
              "color": "#E5ECF6",
              "width": 0.5
             },
             "pattern": {
              "fillmode": "overlay",
              "size": 10,
              "solidity": 0.2
             }
            },
            "type": "barpolar"
           }
          ],
          "carpet": [
           {
            "aaxis": {
             "endlinecolor": "#2a3f5f",
             "gridcolor": "white",
             "linecolor": "white",
             "minorgridcolor": "white",
             "startlinecolor": "#2a3f5f"
            },
            "baxis": {
             "endlinecolor": "#2a3f5f",
             "gridcolor": "white",
             "linecolor": "white",
             "minorgridcolor": "white",
             "startlinecolor": "#2a3f5f"
            },
            "type": "carpet"
           }
          ],
          "choropleth": [
           {
            "colorbar": {
             "outlinewidth": 0,
             "ticks": ""
            },
            "type": "choropleth"
           }
          ],
          "contour": [
           {
            "colorbar": {
             "outlinewidth": 0,
             "ticks": ""
            },
            "colorscale": [
             [
              0,
              "#0d0887"
             ],
             [
              0.1111111111111111,
              "#46039f"
             ],
             [
              0.2222222222222222,
              "#7201a8"
             ],
             [
              0.3333333333333333,
              "#9c179e"
             ],
             [
              0.4444444444444444,
              "#bd3786"
             ],
             [
              0.5555555555555556,
              "#d8576b"
             ],
             [
              0.6666666666666666,
              "#ed7953"
             ],
             [
              0.7777777777777778,
              "#fb9f3a"
             ],
             [
              0.8888888888888888,
              "#fdca26"
             ],
             [
              1,
              "#f0f921"
             ]
            ],
            "type": "contour"
           }
          ],
          "contourcarpet": [
           {
            "colorbar": {
             "outlinewidth": 0,
             "ticks": ""
            },
            "type": "contourcarpet"
           }
          ],
          "heatmap": [
           {
            "colorbar": {
             "outlinewidth": 0,
             "ticks": ""
            },
            "colorscale": [
             [
              0,
              "#0d0887"
             ],
             [
              0.1111111111111111,
              "#46039f"
             ],
             [
              0.2222222222222222,
              "#7201a8"
             ],
             [
              0.3333333333333333,
              "#9c179e"
             ],
             [
              0.4444444444444444,
              "#bd3786"
             ],
             [
              0.5555555555555556,
              "#d8576b"
             ],
             [
              0.6666666666666666,
              "#ed7953"
             ],
             [
              0.7777777777777778,
              "#fb9f3a"
             ],
             [
              0.8888888888888888,
              "#fdca26"
             ],
             [
              1,
              "#f0f921"
             ]
            ],
            "type": "heatmap"
           }
          ],
          "heatmapgl": [
           {
            "colorbar": {
             "outlinewidth": 0,
             "ticks": ""
            },
            "colorscale": [
             [
              0,
              "#0d0887"
             ],
             [
              0.1111111111111111,
              "#46039f"
             ],
             [
              0.2222222222222222,
              "#7201a8"
             ],
             [
              0.3333333333333333,
              "#9c179e"
             ],
             [
              0.4444444444444444,
              "#bd3786"
             ],
             [
              0.5555555555555556,
              "#d8576b"
             ],
             [
              0.6666666666666666,
              "#ed7953"
             ],
             [
              0.7777777777777778,
              "#fb9f3a"
             ],
             [
              0.8888888888888888,
              "#fdca26"
             ],
             [
              1,
              "#f0f921"
             ]
            ],
            "type": "heatmapgl"
           }
          ],
          "histogram": [
           {
            "marker": {
             "pattern": {
              "fillmode": "overlay",
              "size": 10,
              "solidity": 0.2
             }
            },
            "type": "histogram"
           }
          ],
          "histogram2d": [
           {
            "colorbar": {
             "outlinewidth": 0,
             "ticks": ""
            },
            "colorscale": [
             [
              0,
              "#0d0887"
             ],
             [
              0.1111111111111111,
              "#46039f"
             ],
             [
              0.2222222222222222,
              "#7201a8"
             ],
             [
              0.3333333333333333,
              "#9c179e"
             ],
             [
              0.4444444444444444,
              "#bd3786"
             ],
             [
              0.5555555555555556,
              "#d8576b"
             ],
             [
              0.6666666666666666,
              "#ed7953"
             ],
             [
              0.7777777777777778,
              "#fb9f3a"
             ],
             [
              0.8888888888888888,
              "#fdca26"
             ],
             [
              1,
              "#f0f921"
             ]
            ],
            "type": "histogram2d"
           }
          ],
          "histogram2dcontour": [
           {
            "colorbar": {
             "outlinewidth": 0,
             "ticks": ""
            },
            "colorscale": [
             [
              0,
              "#0d0887"
             ],
             [
              0.1111111111111111,
              "#46039f"
             ],
             [
              0.2222222222222222,
              "#7201a8"
             ],
             [
              0.3333333333333333,
              "#9c179e"
             ],
             [
              0.4444444444444444,
              "#bd3786"
             ],
             [
              0.5555555555555556,
              "#d8576b"
             ],
             [
              0.6666666666666666,
              "#ed7953"
             ],
             [
              0.7777777777777778,
              "#fb9f3a"
             ],
             [
              0.8888888888888888,
              "#fdca26"
             ],
             [
              1,
              "#f0f921"
             ]
            ],
            "type": "histogram2dcontour"
           }
          ],
          "mesh3d": [
           {
            "colorbar": {
             "outlinewidth": 0,
             "ticks": ""
            },
            "type": "mesh3d"
           }
          ],
          "parcoords": [
           {
            "line": {
             "colorbar": {
              "outlinewidth": 0,
              "ticks": ""
             }
            },
            "type": "parcoords"
           }
          ],
          "pie": [
           {
            "automargin": true,
            "type": "pie"
           }
          ],
          "scatter": [
           {
            "fillpattern": {
             "fillmode": "overlay",
             "size": 10,
             "solidity": 0.2
            },
            "type": "scatter"
           }
          ],
          "scatter3d": [
           {
            "line": {
             "colorbar": {
              "outlinewidth": 0,
              "ticks": ""
             }
            },
            "marker": {
             "colorbar": {
              "outlinewidth": 0,
              "ticks": ""
             }
            },
            "type": "scatter3d"
           }
          ],
          "scattercarpet": [
           {
            "marker": {
             "colorbar": {
              "outlinewidth": 0,
              "ticks": ""
             }
            },
            "type": "scattercarpet"
           }
          ],
          "scattergeo": [
           {
            "marker": {
             "colorbar": {
              "outlinewidth": 0,
              "ticks": ""
             }
            },
            "type": "scattergeo"
           }
          ],
          "scattergl": [
           {
            "marker": {
             "colorbar": {
              "outlinewidth": 0,
              "ticks": ""
             }
            },
            "type": "scattergl"
           }
          ],
          "scattermapbox": [
           {
            "marker": {
             "colorbar": {
              "outlinewidth": 0,
              "ticks": ""
             }
            },
            "type": "scattermapbox"
           }
          ],
          "scatterpolar": [
           {
            "marker": {
             "colorbar": {
              "outlinewidth": 0,
              "ticks": ""
             }
            },
            "type": "scatterpolar"
           }
          ],
          "scatterpolargl": [
           {
            "marker": {
             "colorbar": {
              "outlinewidth": 0,
              "ticks": ""
             }
            },
            "type": "scatterpolargl"
           }
          ],
          "scatterternary": [
           {
            "marker": {
             "colorbar": {
              "outlinewidth": 0,
              "ticks": ""
             }
            },
            "type": "scatterternary"
           }
          ],
          "surface": [
           {
            "colorbar": {
             "outlinewidth": 0,
             "ticks": ""
            },
            "colorscale": [
             [
              0,
              "#0d0887"
             ],
             [
              0.1111111111111111,
              "#46039f"
             ],
             [
              0.2222222222222222,
              "#7201a8"
             ],
             [
              0.3333333333333333,
              "#9c179e"
             ],
             [
              0.4444444444444444,
              "#bd3786"
             ],
             [
              0.5555555555555556,
              "#d8576b"
             ],
             [
              0.6666666666666666,
              "#ed7953"
             ],
             [
              0.7777777777777778,
              "#fb9f3a"
             ],
             [
              0.8888888888888888,
              "#fdca26"
             ],
             [
              1,
              "#f0f921"
             ]
            ],
            "type": "surface"
           }
          ],
          "table": [
           {
            "cells": {
             "fill": {
              "color": "#EBF0F8"
             },
             "line": {
              "color": "white"
             }
            },
            "header": {
             "fill": {
              "color": "#C8D4E3"
             },
             "line": {
              "color": "white"
             }
            },
            "type": "table"
           }
          ]
         },
         "layout": {
          "annotationdefaults": {
           "arrowcolor": "#2a3f5f",
           "arrowhead": 0,
           "arrowwidth": 1
          },
          "autotypenumbers": "strict",
          "coloraxis": {
           "colorbar": {
            "outlinewidth": 0,
            "ticks": ""
           }
          },
          "colorscale": {
           "diverging": [
            [
             0,
             "#8e0152"
            ],
            [
             0.1,
             "#c51b7d"
            ],
            [
             0.2,
             "#de77ae"
            ],
            [
             0.3,
             "#f1b6da"
            ],
            [
             0.4,
             "#fde0ef"
            ],
            [
             0.5,
             "#f7f7f7"
            ],
            [
             0.6,
             "#e6f5d0"
            ],
            [
             0.7,
             "#b8e186"
            ],
            [
             0.8,
             "#7fbc41"
            ],
            [
             0.9,
             "#4d9221"
            ],
            [
             1,
             "#276419"
            ]
           ],
           "sequential": [
            [
             0,
             "#0d0887"
            ],
            [
             0.1111111111111111,
             "#46039f"
            ],
            [
             0.2222222222222222,
             "#7201a8"
            ],
            [
             0.3333333333333333,
             "#9c179e"
            ],
            [
             0.4444444444444444,
             "#bd3786"
            ],
            [
             0.5555555555555556,
             "#d8576b"
            ],
            [
             0.6666666666666666,
             "#ed7953"
            ],
            [
             0.7777777777777778,
             "#fb9f3a"
            ],
            [
             0.8888888888888888,
             "#fdca26"
            ],
            [
             1,
             "#f0f921"
            ]
           ],
           "sequentialminus": [
            [
             0,
             "#0d0887"
            ],
            [
             0.1111111111111111,
             "#46039f"
            ],
            [
             0.2222222222222222,
             "#7201a8"
            ],
            [
             0.3333333333333333,
             "#9c179e"
            ],
            [
             0.4444444444444444,
             "#bd3786"
            ],
            [
             0.5555555555555556,
             "#d8576b"
            ],
            [
             0.6666666666666666,
             "#ed7953"
            ],
            [
             0.7777777777777778,
             "#fb9f3a"
            ],
            [
             0.8888888888888888,
             "#fdca26"
            ],
            [
             1,
             "#f0f921"
            ]
           ]
          },
          "colorway": [
           "#636efa",
           "#EF553B",
           "#00cc96",
           "#ab63fa",
           "#FFA15A",
           "#19d3f3",
           "#FF6692",
           "#B6E880",
           "#FF97FF",
           "#FECB52"
          ],
          "font": {
           "color": "#2a3f5f"
          },
          "geo": {
           "bgcolor": "white",
           "lakecolor": "white",
           "landcolor": "#E5ECF6",
           "showlakes": true,
           "showland": true,
           "subunitcolor": "white"
          },
          "hoverlabel": {
           "align": "left"
          },
          "hovermode": "closest",
          "mapbox": {
           "style": "light"
          },
          "paper_bgcolor": "white",
          "plot_bgcolor": "#E5ECF6",
          "polar": {
           "angularaxis": {
            "gridcolor": "white",
            "linecolor": "white",
            "ticks": ""
           },
           "bgcolor": "#E5ECF6",
           "radialaxis": {
            "gridcolor": "white",
            "linecolor": "white",
            "ticks": ""
           }
          },
          "scene": {
           "xaxis": {
            "backgroundcolor": "#E5ECF6",
            "gridcolor": "white",
            "gridwidth": 2,
            "linecolor": "white",
            "showbackground": true,
            "ticks": "",
            "zerolinecolor": "white"
           },
           "yaxis": {
            "backgroundcolor": "#E5ECF6",
            "gridcolor": "white",
            "gridwidth": 2,
            "linecolor": "white",
            "showbackground": true,
            "ticks": "",
            "zerolinecolor": "white"
           },
           "zaxis": {
            "backgroundcolor": "#E5ECF6",
            "gridcolor": "white",
            "gridwidth": 2,
            "linecolor": "white",
            "showbackground": true,
            "ticks": "",
            "zerolinecolor": "white"
           }
          },
          "shapedefaults": {
           "line": {
            "color": "#2a3f5f"
           }
          },
          "ternary": {
           "aaxis": {
            "gridcolor": "white",
            "linecolor": "white",
            "ticks": ""
           },
           "baxis": {
            "gridcolor": "white",
            "linecolor": "white",
            "ticks": ""
           },
           "bgcolor": "#E5ECF6",
           "caxis": {
            "gridcolor": "white",
            "linecolor": "white",
            "ticks": ""
           }
          },
          "title": {
           "x": 0.05
          },
          "xaxis": {
           "automargin": true,
           "gridcolor": "white",
           "linecolor": "white",
           "ticks": "",
           "title": {
            "standoff": 15
           },
           "zerolinecolor": "white",
           "zerolinewidth": 2
          },
          "yaxis": {
           "automargin": true,
           "gridcolor": "white",
           "linecolor": "white",
           "ticks": "",
           "title": {
            "standoff": 15
           },
           "zerolinecolor": "white",
           "zerolinewidth": 2
          }
         }
        },
        "xaxis": {
         "autorange": true,
         "range": [
          "2023-10-02 12:00",
          "2024-01-20 12:00"
         ],
         "rangeslider": {
          "autorange": true,
          "range": [
           "2023-10-02 12:00",
           "2024-01-20 12:00"
          ],
          "yaxis": {
           "_template": null,
           "rangemode": "match"
          }
         },
         "type": "date"
        },
        "yaxis": {
         "autorange": true,
         "range": [
          214.29166666666666,
          408.4583333333333
         ]
        }
       }
      },
      "image/png": "[encoded data removed]",
      "text/html": [
       "<div>                            <div id=\"2746623a-b56c-47cc-9e51-f96ac8a685cc\" class=\"plotly-graph-div\" style=\"height:525px; width:100%;\"></div>            <script type=\"text/javascript\">                require([\"plotly\"], function(Plotly) {                    window.PLOTLYENV=window.PLOTLYENV || {};                                    if (document.getElementById(\"2746623a-b56c-47cc-9e51-f96ac8a685cc\")) {                    Plotly.newPlot(                        \"2746623a-b56c-47cc-9e51-f96ac8a685cc\",                        [{\"close\":[253.8000030517578,247.64999389648438,247.85000610351562,247.25,235.9499969482422,244.4499969482422,246.14999389648438,255.60000610351562,257.6000061035156,255.85000610351562,257.1000061035156,254.9499969482422,262.25,260.25,247.10000610351562,238.5500030517578,234.14999389648438,238.75,241.89999389648438,238.75,243.10000610351562,242.0500030517578,243.75,248.4499969482422,254.4499969482422,252.64999389648438,251.4499969482422,248.8000030517578,259.04998779296875,258.25,255.5,252.35000610351562,256.3500061035156,265.3500061035156,264.54998779296875,260.3500061035156,264.3999938964844,263.45001220703125,263.0,273.70001220703125,267.45001220703125,271.70001220703125,290.79998779296875,300.8999938964844,305.8500061035156,297.1000061035156,296.0,293.70001220703125,291.1499938964844,292.3999938964844,290.5,293.29998779296875,294.6499938964844,274.79998779296875,279.8500061035156,286.54998779296875,307.3500061035156,307.95001220703125,309.8999938964844,309.5,331.3999938964844,334.79998779296875,332.3500061035156,365.54998779296875,386.8999938964844,387.8500061035156,386.79998779296875,380.3999938964844,375.95001220703125,370.6499938964844,374.79998779296875,391.70001220703125,376.95001220703125,376.0,374.04998779296875,373.04998779296875],\"high\":[256.8999938964844,257.8999938964844,252.0,248.60000610351562,241.35000610351562,247.39999389648438,250.0,262.1499938964844,260.0,261.29998779296875,264.79998779296875,262.1000061035156,268.0,271.20001220703125,262.20001220703125,251.6999969482422,236.89999389648438,244.8000030517578,245.0,244.6999969482422,246.39999389648438,245.25,247.60000610351562,253.0,257.0,256.45001220703125,260.0,251.89999389648438,262.0,264.25,261.8999938964844,259.0,258.45001220703125,269.0,274.25,267.70001220703125,265.6000061035156,269.95001220703125,266.8500061035156,275.79998779296875,278.79998779296875,274.0,294.0,307.0,312.3999938964844,310.5,300.3999938964844,298.25,295.0,299.20001220703125,295.0,294.6000061035156,297.8999938964844,297.6000061035156,283.0,288.0,308.0,313.79998779296875,311.0,312.0,339.5,338.8999938964844,335.3500061035156,365.54998779296875,394.0,398.75,396.8999938964844,387.5,392.0,381.0,379.95001220703125,393.5,388.75,381.0,381.45001220703125,381.5],\"low\":[240.10000610351562,244.39999389648438,245.5,245.5,234.1999969482422,237.0,243.10000610351562,246.10000610351562,252.5,254.25,254.10000610351562,252.5,252.10000610351562,258.0,246.8000030517578,237.10000610351562,224.0,236.0,235.1999969482422,237.60000610351562,236.14999389648438,240.8000030517578,242.35000610351562,244.75,248.0,251.10000610351562,250.0,248.0,248.10000610351562,257.20001220703125,254.14999389648438,250.0,252.5,257.6499938964844,262.1499938964844,258.04998779296875,258.20001220703125,262.5,261.29998779296875,250.0500030517578,265.04998779296875,268.6000061035156,268.3999938964844,300.0,301.0,292.04998779296875,293.1000061035156,291.54998779296875,288.1000061035156,291.3999938964844,287.0,288.1499938964844,291.20001220703125,271.95001220703125,266.20001220703125,280.1499938964844,288.1499938964844,302.20001220703125,302.5,305.0,309.5,326.04998779296875,328.5,332.8500061035156,368.8999938964844,373.0,383.0,369.0,373.6000061035156,369.0,370.29998779296875,372.1000061035156,375.0,358.1000061035156,370.0,370.45001220703125],\"open\":[240.10000610351562,254.0,249.0500030517578,248.4499969482422,240.14999389648438,238.5,246.60000610351562,247.0,254.60000610351562,258.8999938964844,258.70001220703125,262.0,255.39999389648438,263.8500061035156,261.6499938964844,249.89999389648438,234.9499969482422,236.75,239.60000610351562,244.0,236.1999969482422,244.3000030517578,243.39999389648438,244.75,249.60000610351562,255.75,253.6999969482422,250.0,249.1999969482422,261.5,259.3999938964844,254.0,253.1999969482422,257.8500061035156,267.0,266.0,261.5,265.70001220703125,265.3999938964844,265.45001220703125,275.0,268.6000061035156,272.79998779296875,307.0,302.6000061035156,307.29998779296875,298.20001220703125,297.5,295.0,294.5,293.8999938964844,292.0,293.75,295.5,274.45001220703125,281.54998779296875,288.1499938964844,306.3999938964844,309.45001220703125,311.0,310.8500061035156,332.6499938964844,334.8999938964844,334.04998779296875,370.5,390.0,390.79998779296875,382.0,386.0,375.95001220703125,373.6000061035156,375.20001220703125,383.75,377.0,376.70001220703125,378.0],\"x\":[\"2023-10-03T00:00:00\",\"2023-10-04T00:00:00\",\"2023-10-05T00:00:00\",\"2023-10-06T00:00:00\",\"2023-10-09T00:00:00\",\"2023-10-10T00:00:00\",\"2023-10-11T00:00:00\",\"2023-10-12T00:00:00\",\"2023-10-13T00:00:00\",\"2023-10-16T00:00:00\",\"2023-10-17T00:00:00\",\"2023-10-18T00:00:00\",\"2023-10-19T00:00:00\",\"2023-10-20T00:00:00\",\"2023-10-23T00:00:00\",\"2023-10-25T00:00:00\",\"2023-10-26T00:00:00\",\"2023-10-27T00:00:00\",\"2023-10-30T00:00:00\",\"2023-10-31T00:00:00\",\"2023-11-01T00:00:00\",\"2023-11-02T00:00:00\",\"2023-11-03T00:00:00\",\"2023-11-06T00:00:00\",\"2023-11-07T00:00:00\",\"2023-11-08T00:00:00\",\"2023-11-09T00:00:00\",\"2023-11-10T00:00:00\",\"2023-11-13T00:00:00\",\"2023-11-15T00:00:00\",\"2023-11-16T00:00:00\",\"2023-11-17T00:00:00\",\"2023-11-20T00:00:00\",\"2023-11-21T00:00:00\",\"2023-11-22T00:00:00\",\"2023-11-23T00:00:00\",\"2023-11-24T00:00:00\",\"2023-11-28T00:00:00\",\"2023-11-29T00:00:00\",\"2023-11-30T00:00:00\",\"2023-12-01T00:00:00\",\"2023-12-04T00:00:00\",\"2023-12-05T00:00:00\",\"2023-12-06T00:00:00\",\"2023-12-07T00:00:00\",\"2023-12-08T00:00:00\",\"2023-12-11T00:00:00\",\"2023-12-12T00:00:00\",\"2023-12-13T00:00:00\",\"2023-12-14T00:00:00\",\"2023-12-15T00:00:00\",\"2023-12-18T00:00:00\",\"2023-12-19T00:00:00\",\"2023-12-20T00:00:00\",\"2023-12-21T00:00:00\",\"2023-12-22T00:00:00\",\"2023-12-26T00:00:00\",\"2023-12-27T00:00:00\",\"2023-12-28T00:00:00\",\"2023-12-29T00:00:00\",\"2024-01-01T00:00:00\",\"2024-01-02T00:00:00\",\"2024-01-03T00:00:00\",\"2024-01-04T00:00:00\",\"2024-01-05T00:00:00\",\"2024-01-08T00:00:00\",\"2024-01-09T00:00:00\",\"2024-01-10T00:00:00\",\"2024-01-11T00:00:00\",\"2024-01-12T00:00:00\",\"2024-01-15T00:00:00\",\"2024-01-16T00:00:00\",\"2024-01-17T00:00:00\",\"2024-01-18T00:00:00\",\"2024-01-19T00:00:00\",\"2024-01-20T00:00:00\"],\"type\":\"candlestick\"}],                        {\"template\":{\"data\":{\"histogram2dcontour\":[{\"type\":\"histogram2dcontour\",\"colorbar\":{\"outlinewidth\":0,\"ticks\":\"\"},\"colorscale\":[[0.0,\"#0d0887\"],[0.1111111111111111,\"#46039f\"],[0.2222222222222222,\"#7201a8\"],[0.3333333333333333,\"#9c179e\"],[0.4444444444444444,\"#bd3786\"],[0.5555555555555556,\"#d8576b\"],[0.6666666666666666,\"#ed7953\"],[0.7777777777777778,\"#fb9f3a\"],[0.8888888888888888,\"#fdca26\"],[1.0,\"#f0f921\"]]}],\"choropleth\":[{\"type\":\"choropleth\",\"colorbar\":{\"outlinewidth\":0,\"ticks\":\"\"}}],\"histogram2d\":[{\"type\":\"histogram2d\",\"colorbar\":{\"outlinewidth\":0,\"ticks\":\"\"},\"colorscale\":[[0.0,\"#0d0887\"],[0.1111111111111111,\"#46039f\"],[0.2222222222222222,\"#7201a8\"],[0.3333333333333333,\"#9c179e\"],[0.4444444444444444,\"#bd3786\"],[0.5555555555555556,\"#d8576b\"],[0.6666666666666666,\"#ed7953\"],[0.7777777777777778,\"#fb9f3a\"],[0.8888888888888888,\"#fdca26\"],[1.0,\"#f0f921\"]]}],\"heatmap\":[{\"type\":\"heatmap\",\"colorbar\":{\"outlinewidth\":0,\"ticks\":\"\"},\"colorscale\":[[0.0,\"#0d0887\"],[0.1111111111111111,\"#46039f\"],[0.2222222222222222,\"#7201a8\"],[0.3333333333333333,\"#9c179e\"],[0.4444444444444444,\"#bd3786\"],[0.5555555555555556,\"#d8576b\"],[0.6666666666666666,\"#ed7953\"],[0.7777777777777778,\"#fb9f3a\"],[0.8888888888888888,\"#fdca26\"],[1.0,\"#f0f921\"]]}],\"heatmapgl\":[{\"type\":\"heatmapgl\",\"colorbar\":{\"outlinewidth\":0,\"ticks\":\"\"},\"colorscale\":[[0.0,\"#0d0887\"],[0.1111111111111111,\"#46039f\"],[0.2222222222222222,\"#7201a8\"],[0.3333333333333333,\"#9c179e\"],[0.4444444444444444,\"#bd3786\"],[0.5555555555555556,\"#d8576b\"],[0.6666666666666666,\"#ed7953\"],[0.7777777777777778,\"#fb9f3a\"],[0.8888888888888888,\"#fdca26\"],[1.0,\"#f0f921\"]]}],\"contourcarpet\":[{\"type\":\"contourcarpet\",\"colorbar\":{\"outlinewidth\":0,\"ticks\":\"\"}}],\"contour\":[{\"type\":\"contour\",\"colorbar\":{\"outlinewidth\":0,\"ticks\":\"\"},\"colorscale\":[[0.0,\"#0d0887\"],[0.1111111111111111,\"#46039f\"],[0.2222222222222222,\"#7201a8\"],[0.3333333333333333,\"#9c179e\"],[0.4444444444444444,\"#bd3786\"],[0.5555555555555556,\"#d8576b\"],[0.6666666666666666,\"#ed7953\"],[0.7777777777777778,\"#fb9f3a\"],[0.8888888888888888,\"#fdca26\"],[1.0,\"#f0f921\"]]}],\"surface\":[{\"type\":\"surface\",\"colorbar\":{\"outlinewidth\":0,\"ticks\":\"\"},\"colorscale\":[[0.0,\"#0d0887\"],[0.1111111111111111,\"#46039f\"],[0.2222222222222222,\"#7201a8\"],[0.3333333333333333,\"#9c179e\"],[0.4444444444444444,\"#bd3786\"],[0.5555555555555556,\"#d8576b\"],[0.6666666666666666,\"#ed7953\"],[0.7777777777777778,\"#fb9f3a\"],[0.8888888888888888,\"#fdca26\"],[1.0,\"#f0f921\"]]}],\"mesh3d\":[{\"type\":\"mesh3d\",\"colorbar\":{\"outlinewidth\":0,\"ticks\":\"\"}}],\"scatter\":[{\"fillpattern\":{\"fillmode\":\"overlay\",\"size\":10,\"solidity\":0.2},\"type\":\"scatter\"}],\"parcoords\":[{\"type\":\"parcoords\",\"line\":{\"colorbar\":{\"outlinewidth\":0,\"ticks\":\"\"}}}],\"scatterpolargl\":[{\"type\":\"scatterpolargl\",\"marker\":{\"colorbar\":{\"outlinewidth\":0,\"ticks\":\"\"}}}],\"bar\":[{\"error_x\":{\"color\":\"#2a3f5f\"},\"error_y\":{\"color\":\"#2a3f5f\"},\"marker\":{\"line\":{\"color\":\"#E5ECF6\",\"width\":0.5},\"pattern\":{\"fillmode\":\"overlay\",\"size\":10,\"solidity\":0.2}},\"type\":\"bar\"}],\"scattergeo\":[{\"type\":\"scattergeo\",\"marker\":{\"colorbar\":{\"outlinewidth\":0,\"ticks\":\"\"}}}],\"scatterpolar\":[{\"type\":\"scatterpolar\",\"marker\":{\"colorbar\":{\"outlinewidth\":0,\"ticks\":\"\"}}}],\"histogram\":[{\"marker\":{\"pattern\":{\"fillmode\":\"overlay\",\"size\":10,\"solidity\":0.2}},\"type\":\"histogram\"}],\"scattergl\":[{\"type\":\"scattergl\",\"marker\":{\"colorbar\":{\"outlinewidth\":0,\"ticks\":\"\"}}}],\"scatter3d\":[{\"type\":\"scatter3d\",\"line\":{\"colorbar\":{\"outlinewidth\":0,\"ticks\":\"\"}},\"marker\":{\"colorbar\":{\"outlinewidth\":0,\"ticks\":\"\"}}}],\"scattermapbox\":[{\"type\":\"scattermapbox\",\"marker\":{\"colorbar\":{\"outlinewidth\":0,\"ticks\":\"\"}}}],\"scatterternary\":[{\"type\":\"scatterternary\",\"marker\":{\"colorbar\":{\"outlinewidth\":0,\"ticks\":\"\"}}}],\"scattercarpet\":[{\"type\":\"scattercarpet\",\"marker\":{\"colorbar\":{\"outlinewidth\":0,\"ticks\":\"\"}}}],\"carpet\":[{\"aaxis\":{\"endlinecolor\":\"#2a3f5f\",\"gridcolor\":\"white\",\"linecolor\":\"white\",\"minorgridcolor\":\"white\",\"startlinecolor\":\"#2a3f5f\"},\"baxis\":{\"endlinecolor\":\"#2a3f5f\",\"gridcolor\":\"white\",\"linecolor\":\"white\",\"minorgridcolor\":\"white\",\"startlinecolor\":\"#2a3f5f\"},\"type\":\"carpet\"}],\"table\":[{\"cells\":{\"fill\":{\"color\":\"#EBF0F8\"},\"line\":{\"color\":\"white\"}},\"header\":{\"fill\":{\"color\":\"#C8D4E3\"},\"line\":{\"color\":\"white\"}},\"type\":\"table\"}],\"barpolar\":[{\"marker\":{\"line\":{\"color\":\"#E5ECF6\",\"width\":0.5},\"pattern\":{\"fillmode\":\"overlay\",\"size\":10,\"solidity\":0.2}},\"type\":\"barpolar\"}],\"pie\":[{\"automargin\":true,\"type\":\"pie\"}]},\"layout\":{\"autotypenumbers\":\"strict\",\"colorway\":[\"#636efa\",\"#EF553B\",\"#00cc96\",\"#ab63fa\",\"#FFA15A\",\"#19d3f3\",\"#FF6692\",\"#B6E880\",\"#FF97FF\",\"#FECB52\"],\"font\":{\"color\":\"#2a3f5f\"},\"hovermode\":\"closest\",\"hoverlabel\":{\"align\":\"left\"},\"paper_bgcolor\":\"white\",\"plot_bgcolor\":\"#E5ECF6\",\"polar\":{\"bgcolor\":\"#E5ECF6\",\"angularaxis\":{\"gridcolor\":\"white\",\"linecolor\":\"white\",\"ticks\":\"\"},\"radialaxis\":{\"gridcolor\":\"white\",\"linecolor\":\"white\",\"ticks\":\"\"}},\"ternary\":{\"bgcolor\":\"#E5ECF6\",\"aaxis\":{\"gridcolor\":\"white\",\"linecolor\":\"white\",\"ticks\":\"\"},\"baxis\":{\"gridcolor\":\"white\",\"linecolor\":\"white\",\"ticks\":\"\"},\"caxis\":{\"gridcolor\":\"white\",\"linecolor\":\"white\",\"ticks\":\"\"}},\"coloraxis\":{\"colorbar\":{\"outlinewidth\":0,\"ticks\":\"\"}},\"colorscale\":{\"sequential\":[[0.0,\"#0d0887\"],[0.1111111111111111,\"#46039f\"],[0.2222222222222222,\"#7201a8\"],[0.3333333333333333,\"#9c179e\"],[0.4444444444444444,\"#bd3786\"],[0.5555555555555556,\"#d8576b\"],[0.6666666666666666,\"#ed7953\"],[0.7777777777777778,\"#fb9f3a\"],[0.8888888888888888,\"#fdca26\"],[1.0,\"#f0f921\"]],\"sequentialminus\":[[0.0,\"#0d0887\"],[0.1111111111111111,\"#46039f\"],[0.2222222222222222,\"#7201a8\"],[0.3333333333333333,\"#9c179e\"],[0.4444444444444444,\"#bd3786\"],[0.5555555555555556,\"#d8576b\"],[0.6666666666666666,\"#ed7953\"],[0.7777777777777778,\"#fb9f3a\"],[0.8888888888888888,\"#fdca26\"],[1.0,\"#f0f921\"]],\"diverging\":[[0,\"#8e0152\"],[0.1,\"#c51b7d\"],[0.2,\"#de77ae\"],[0.3,\"#f1b6da\"],[0.4,\"#fde0ef\"],[0.5,\"#f7f7f7\"],[0.6,\"#e6f5d0\"],[0.7,\"#b8e186\"],[0.8,\"#7fbc41\"],[0.9,\"#4d9221\"],[1,\"#276419\"]]},\"xaxis\":{\"gridcolor\":\"white\",\"linecolor\":\"white\",\"ticks\":\"\",\"title\":{\"standoff\":15},\"zerolinecolor\":\"white\",\"automargin\":true,\"zerolinewidth\":2},\"yaxis\":{\"gridcolor\":\"white\",\"linecolor\":\"white\",\"ticks\":\"\",\"title\":{\"standoff\":15},\"zerolinecolor\":\"white\",\"automargin\":true,\"zerolinewidth\":2},\"scene\":{\"xaxis\":{\"backgroundcolor\":\"#E5ECF6\",\"gridcolor\":\"white\",\"linecolor\":\"white\",\"showbackground\":true,\"ticks\":\"\",\"zerolinecolor\":\"white\",\"gridwidth\":2},\"yaxis\":{\"backgroundcolor\":\"#E5ECF6\",\"gridcolor\":\"white\",\"linecolor\":\"white\",\"showbackground\":true,\"ticks\":\"\",\"zerolinecolor\":\"white\",\"gridwidth\":2},\"zaxis\":{\"backgroundcolor\":\"#E5ECF6\",\"gridcolor\":\"white\",\"linecolor\":\"white\",\"showbackground\":true,\"ticks\":\"\",\"zerolinecolor\":\"white\",\"gridwidth\":2}},\"shapedefaults\":{\"line\":{\"color\":\"#2a3f5f\"}},\"annotationdefaults\":{\"arrowcolor\":\"#2a3f5f\",\"arrowhead\":0,\"arrowwidth\":1},\"geo\":{\"bgcolor\":\"white\",\"landcolor\":\"#E5ECF6\",\"subunitcolor\":\"white\",\"showland\":true,\"showlakes\":true,\"lakecolor\":\"white\"},\"title\":{\"x\":0.05},\"mapbox\":{\"style\":\"light\"}}}},                        {\"responsive\": true}                    ).then(function(){\n",
       "                            \n",
       "var gd = document.getElementById('2746623a-b56c-47cc-9e51-f96ac8a685cc');\n",
       "var x = new MutationObserver(function (mutations, observer) {{\n",
       "        var display = window.getComputedStyle(gd).display;\n",
       "        if (!display || display === 'none') {{\n",
       "            console.log([gd, 'removed!']);\n",
       "            Plotly.purge(gd);\n",
       "            observer.disconnect();\n",
       "        }}\n",
       "}});\n",
       "\n",
       "// Listen for the removal of the full notebook cells\n",
       "var notebookContainer = gd.closest('#notebook-container');\n",
       "if (notebookContainer) {{\n",
       "    x.observe(notebookContainer, {childList: true});\n",
       "}}\n",
       "\n",
       "// Listen for the clearing of the current output cell\n",
       "var outputEl = gd.closest('.output');\n",
       "if (outputEl) {{\n",
       "    x.observe(outputEl, {childList: true});\n",
       "}}\n",
       "\n",
       "                        })                };                });            </script>        </div>"
      ]
     },
     "metadata": {},
     "output_type": "display_data"
    }
   ],
   "source": [
    "import plotly.graph_objects as go\n",
    "fig = go.Figure(go.Candlestick(x=df.index,\n",
    "  open=df['Open'],\n",
    "  high=df['High'],\n",
    "  low=df['Low'],\n",
    "  close=df['Close']))\n",
    "fig.show()"
   ]
  },
  {
   "cell_type": "code",
   "execution_count": 12,
   "id": "7c614e5e-04ce-4f08-959a-95e29abd3688",
   "metadata": {},
   "outputs": [
    {
     "data": {
      "application/vnd.plotly.v1+json": {
       "config": {
        "plotlyServerURL": "https://plot.ly"
       },
       "data": [
        {
         "close": [
          253.8000030517578,
          247.64999389648438,
          247.85000610351562,
          247.25,
          235.9499969482422,
          244.4499969482422,
          246.14999389648438,
          255.60000610351562,
          257.6000061035156,
          255.85000610351562,
          257.1000061035156,
          254.9499969482422,
          262.25,
          260.25,
          247.10000610351562,
          238.5500030517578,
          234.14999389648438,
          238.75,
          241.89999389648438,
          238.75,
          243.10000610351562,
          242.0500030517578,
          243.75,
          248.4499969482422,
          254.4499969482422,
          252.64999389648438,
          251.4499969482422,
          248.8000030517578,
          259.04998779296875,
          258.25,
          255.5,
          252.35000610351562,
          256.3500061035156,
          265.3500061035156,
          264.54998779296875,
          260.3500061035156,
          264.3999938964844,
          263.45001220703125,
          263,
          273.70001220703125,
          267.45001220703125,
          271.70001220703125,
          290.79998779296875,
          300.8999938964844,
          305.8500061035156,
          297.1000061035156,
          296,
          293.70001220703125,
          291.1499938964844,
          292.3999938964844,
          290.5,
          293.29998779296875,
          294.6499938964844,
          274.79998779296875,
          279.8500061035156,
          286.54998779296875,
          307.3500061035156,
          307.95001220703125,
          309.8999938964844,
          309.5,
          331.3999938964844,
          334.79998779296875,
          332.3500061035156,
          365.54998779296875,
          386.8999938964844,
          387.8500061035156,
          386.79998779296875,
          380.3999938964844,
          375.95001220703125,
          370.6499938964844,
          374.79998779296875,
          391.70001220703125,
          376.95001220703125,
          376,
          374.04998779296875,
          373.04998779296875
         ],
         "high": [
          256.8999938964844,
          257.8999938964844,
          252,
          248.60000610351562,
          241.35000610351562,
          247.39999389648438,
          250,
          262.1499938964844,
          260,
          261.29998779296875,
          264.79998779296875,
          262.1000061035156,
          268,
          271.20001220703125,
          262.20001220703125,
          251.6999969482422,
          236.89999389648438,
          244.8000030517578,
          245,
          244.6999969482422,
          246.39999389648438,
          245.25,
          247.60000610351562,
          253,
          257,
          256.45001220703125,
          260,
          251.89999389648438,
          262,
          264.25,
          261.8999938964844,
          259,
          258.45001220703125,
          269,
          274.25,
          267.70001220703125,
          265.6000061035156,
          269.95001220703125,
          266.8500061035156,
          275.79998779296875,
          278.79998779296875,
          274,
          294,
          307,
          312.3999938964844,
          310.5,
          300.3999938964844,
          298.25,
          295,
          299.20001220703125,
          295,
          294.6000061035156,
          297.8999938964844,
          297.6000061035156,
          283,
          288,
          308,
          313.79998779296875,
          311,
          312,
          339.5,
          338.8999938964844,
          335.3500061035156,
          365.54998779296875,
          394,
          398.75,
          396.8999938964844,
          387.5,
          392,
          381,
          379.95001220703125,
          393.5,
          388.75,
          381,
          381.45001220703125,
          381.5
         ],
         "low": [
          240.10000610351562,
          244.39999389648438,
          245.5,
          245.5,
          234.1999969482422,
          237,
          243.10000610351562,
          246.10000610351562,
          252.5,
          254.25,
          254.10000610351562,
          252.5,
          252.10000610351562,
          258,
          246.8000030517578,
          237.10000610351562,
          224,
          236,
          235.1999969482422,
          237.60000610351562,
          236.14999389648438,
          240.8000030517578,
          242.35000610351562,
          244.75,
          248,
          251.10000610351562,
          250,
          248,
          248.10000610351562,
          257.20001220703125,
          254.14999389648438,
          250,
          252.5,
          257.6499938964844,
          262.1499938964844,
          258.04998779296875,
          258.20001220703125,
          262.5,
          261.29998779296875,
          250.0500030517578,
          265.04998779296875,
          268.6000061035156,
          268.3999938964844,
          300,
          301,
          292.04998779296875,
          293.1000061035156,
          291.54998779296875,
          288.1000061035156,
          291.3999938964844,
          287,
          288.1499938964844,
          291.20001220703125,
          271.95001220703125,
          266.20001220703125,
          280.1499938964844,
          288.1499938964844,
          302.20001220703125,
          302.5,
          305,
          309.5,
          326.04998779296875,
          328.5,
          332.8500061035156,
          368.8999938964844,
          373,
          383,
          369,
          373.6000061035156,
          369,
          370.29998779296875,
          372.1000061035156,
          375,
          358.1000061035156,
          370,
          370.45001220703125
         ],
         "open": [
          240.10000610351562,
          254,
          249.0500030517578,
          248.4499969482422,
          240.14999389648438,
          238.5,
          246.60000610351562,
          247,
          254.60000610351562,
          258.8999938964844,
          258.70001220703125,
          262,
          255.39999389648438,
          263.8500061035156,
          261.6499938964844,
          249.89999389648438,
          234.9499969482422,
          236.75,
          239.60000610351562,
          244,
          236.1999969482422,
          244.3000030517578,
          243.39999389648438,
          244.75,
          249.60000610351562,
          255.75,
          253.6999969482422,
          250,
          249.1999969482422,
          261.5,
          259.3999938964844,
          254,
          253.1999969482422,
          257.8500061035156,
          267,
          266,
          261.5,
          265.70001220703125,
          265.3999938964844,
          265.45001220703125,
          275,
          268.6000061035156,
          272.79998779296875,
          307,
          302.6000061035156,
          307.29998779296875,
          298.20001220703125,
          297.5,
          295,
          294.5,
          293.8999938964844,
          292,
          293.75,
          295.5,
          274.45001220703125,
          281.54998779296875,
          288.1499938964844,
          306.3999938964844,
          309.45001220703125,
          311,
          310.8500061035156,
          332.6499938964844,
          334.8999938964844,
          334.04998779296875,
          370.5,
          390,
          390.79998779296875,
          382,
          386,
          375.95001220703125,
          373.6000061035156,
          375.20001220703125,
          383.75,
          377,
          376.70001220703125,
          378
         ],
         "type": "candlestick",
         "x": [
          "2023-10-03T00:00:00",
          "2023-10-04T00:00:00",
          "2023-10-05T00:00:00",
          "2023-10-06T00:00:00",
          "2023-10-09T00:00:00",
          "2023-10-10T00:00:00",
          "2023-10-11T00:00:00",
          "2023-10-12T00:00:00",
          "2023-10-13T00:00:00",
          "2023-10-16T00:00:00",
          "2023-10-17T00:00:00",
          "2023-10-18T00:00:00",
          "2023-10-19T00:00:00",
          "2023-10-20T00:00:00",
          "2023-10-23T00:00:00",
          "2023-10-25T00:00:00",
          "2023-10-26T00:00:00",
          "2023-10-27T00:00:00",
          "2023-10-30T00:00:00",
          "2023-10-31T00:00:00",
          "2023-11-01T00:00:00",
          "2023-11-02T00:00:00",
          "2023-11-03T00:00:00",
          "2023-11-06T00:00:00",
          "2023-11-07T00:00:00",
          "2023-11-08T00:00:00",
          "2023-11-09T00:00:00",
          "2023-11-10T00:00:00",
          "2023-11-13T00:00:00",
          "2023-11-15T00:00:00",
          "2023-11-16T00:00:00",
          "2023-11-17T00:00:00",
          "2023-11-20T00:00:00",
          "2023-11-21T00:00:00",
          "2023-11-22T00:00:00",
          "2023-11-23T00:00:00",
          "2023-11-24T00:00:00",
          "2023-11-28T00:00:00",
          "2023-11-29T00:00:00",
          "2023-11-30T00:00:00",
          "2023-12-01T00:00:00",
          "2023-12-04T00:00:00",
          "2023-12-05T00:00:00",
          "2023-12-06T00:00:00",
          "2023-12-07T00:00:00",
          "2023-12-08T00:00:00",
          "2023-12-11T00:00:00",
          "2023-12-12T00:00:00",
          "2023-12-13T00:00:00",
          "2023-12-14T00:00:00",
          "2023-12-15T00:00:00",
          "2023-12-18T00:00:00",
          "2023-12-19T00:00:00",
          "2023-12-20T00:00:00",
          "2023-12-21T00:00:00",
          "2023-12-22T00:00:00",
          "2023-12-26T00:00:00",
          "2023-12-27T00:00:00",
          "2023-12-28T00:00:00",
          "2023-12-29T00:00:00",
          "2024-01-01T00:00:00",
          "2024-01-02T00:00:00",
          "2024-01-03T00:00:00",
          "2024-01-04T00:00:00",
          "2024-01-05T00:00:00",
          "2024-01-08T00:00:00",
          "2024-01-09T00:00:00",
          "2024-01-10T00:00:00",
          "2024-01-11T00:00:00",
          "2024-01-12T00:00:00",
          "2024-01-15T00:00:00",
          "2024-01-16T00:00:00",
          "2024-01-17T00:00:00",
          "2024-01-18T00:00:00",
          "2024-01-19T00:00:00",
          "2024-01-20T00:00:00"
         ]
        }
       ],
       "layout": {
        "autosize": true,
        "template": {
         "data": {
          "bar": [
           {
            "error_x": {
             "color": "#2a3f5f"
            },
            "error_y": {
             "color": "#2a3f5f"
            },
            "marker": {
             "line": {
              "color": "#E5ECF6",
              "width": 0.5
             },
             "pattern": {
              "fillmode": "overlay",
              "size": 10,
              "solidity": 0.2
             }
            },
            "type": "bar"
           }
          ],
          "barpolar": [
           {
            "marker": {
             "line": {
              "color": "#E5ECF6",
              "width": 0.5
             },
             "pattern": {
              "fillmode": "overlay",
              "size": 10,
              "solidity": 0.2
             }
            },
            "type": "barpolar"
           }
          ],
          "carpet": [
           {
            "aaxis": {
             "endlinecolor": "#2a3f5f",
             "gridcolor": "white",
             "linecolor": "white",
             "minorgridcolor": "white",
             "startlinecolor": "#2a3f5f"
            },
            "baxis": {
             "endlinecolor": "#2a3f5f",
             "gridcolor": "white",
             "linecolor": "white",
             "minorgridcolor": "white",
             "startlinecolor": "#2a3f5f"
            },
            "type": "carpet"
           }
          ],
          "choropleth": [
           {
            "colorbar": {
             "outlinewidth": 0,
             "ticks": ""
            },
            "type": "choropleth"
           }
          ],
          "contour": [
           {
            "colorbar": {
             "outlinewidth": 0,
             "ticks": ""
            },
            "colorscale": [
             [
              0,
              "#0d0887"
             ],
             [
              0.1111111111111111,
              "#46039f"
             ],
             [
              0.2222222222222222,
              "#7201a8"
             ],
             [
              0.3333333333333333,
              "#9c179e"
             ],
             [
              0.4444444444444444,
              "#bd3786"
             ],
             [
              0.5555555555555556,
              "#d8576b"
             ],
             [
              0.6666666666666666,
              "#ed7953"
             ],
             [
              0.7777777777777778,
              "#fb9f3a"
             ],
             [
              0.8888888888888888,
              "#fdca26"
             ],
             [
              1,
              "#f0f921"
             ]
            ],
            "type": "contour"
           }
          ],
          "contourcarpet": [
           {
            "colorbar": {
             "outlinewidth": 0,
             "ticks": ""
            },
            "type": "contourcarpet"
           }
          ],
          "heatmap": [
           {
            "colorbar": {
             "outlinewidth": 0,
             "ticks": ""
            },
            "colorscale": [
             [
              0,
              "#0d0887"
             ],
             [
              0.1111111111111111,
              "#46039f"
             ],
             [
              0.2222222222222222,
              "#7201a8"
             ],
             [
              0.3333333333333333,
              "#9c179e"
             ],
             [
              0.4444444444444444,
              "#bd3786"
             ],
             [
              0.5555555555555556,
              "#d8576b"
             ],
             [
              0.6666666666666666,
              "#ed7953"
             ],
             [
              0.7777777777777778,
              "#fb9f3a"
             ],
             [
              0.8888888888888888,
              "#fdca26"
             ],
             [
              1,
              "#f0f921"
             ]
            ],
            "type": "heatmap"
           }
          ],
          "heatmapgl": [
           {
            "colorbar": {
             "outlinewidth": 0,
             "ticks": ""
            },
            "colorscale": [
             [
              0,
              "#0d0887"
             ],
             [
              0.1111111111111111,
              "#46039f"
             ],
             [
              0.2222222222222222,
              "#7201a8"
             ],
             [
              0.3333333333333333,
              "#9c179e"
             ],
             [
              0.4444444444444444,
              "#bd3786"
             ],
             [
              0.5555555555555556,
              "#d8576b"
             ],
             [
              0.6666666666666666,
              "#ed7953"
             ],
             [
              0.7777777777777778,
              "#fb9f3a"
             ],
             [
              0.8888888888888888,
              "#fdca26"
             ],
             [
              1,
              "#f0f921"
             ]
            ],
            "type": "heatmapgl"
           }
          ],
          "histogram": [
           {
            "marker": {
             "pattern": {
              "fillmode": "overlay",
              "size": 10,
              "solidity": 0.2
             }
            },
            "type": "histogram"
           }
          ],
          "histogram2d": [
           {
            "colorbar": {
             "outlinewidth": 0,
             "ticks": ""
            },
            "colorscale": [
             [
              0,
              "#0d0887"
             ],
             [
              0.1111111111111111,
              "#46039f"
             ],
             [
              0.2222222222222222,
              "#7201a8"
             ],
             [
              0.3333333333333333,
              "#9c179e"
             ],
             [
              0.4444444444444444,
              "#bd3786"
             ],
             [
              0.5555555555555556,
              "#d8576b"
             ],
             [
              0.6666666666666666,
              "#ed7953"
             ],
             [
              0.7777777777777778,
              "#fb9f3a"
             ],
             [
              0.8888888888888888,
              "#fdca26"
             ],
             [
              1,
              "#f0f921"
             ]
            ],
            "type": "histogram2d"
           }
          ],
          "histogram2dcontour": [
           {
            "colorbar": {
             "outlinewidth": 0,
             "ticks": ""
            },
            "colorscale": [
             [
              0,
              "#0d0887"
             ],
             [
              0.1111111111111111,
              "#46039f"
             ],
             [
              0.2222222222222222,
              "#7201a8"
             ],
             [
              0.3333333333333333,
              "#9c179e"
             ],
             [
              0.4444444444444444,
              "#bd3786"
             ],
             [
              0.5555555555555556,
              "#d8576b"
             ],
             [
              0.6666666666666666,
              "#ed7953"
             ],
             [
              0.7777777777777778,
              "#fb9f3a"
             ],
             [
              0.8888888888888888,
              "#fdca26"
             ],
             [
              1,
              "#f0f921"
             ]
            ],
            "type": "histogram2dcontour"
           }
          ],
          "mesh3d": [
           {
            "colorbar": {
             "outlinewidth": 0,
             "ticks": ""
            },
            "type": "mesh3d"
           }
          ],
          "parcoords": [
           {
            "line": {
             "colorbar": {
              "outlinewidth": 0,
              "ticks": ""
             }
            },
            "type": "parcoords"
           }
          ],
          "pie": [
           {
            "automargin": true,
            "type": "pie"
           }
          ],
          "scatter": [
           {
            "fillpattern": {
             "fillmode": "overlay",
             "size": 10,
             "solidity": 0.2
            },
            "type": "scatter"
           }
          ],
          "scatter3d": [
           {
            "line": {
             "colorbar": {
              "outlinewidth": 0,
              "ticks": ""
             }
            },
            "marker": {
             "colorbar": {
              "outlinewidth": 0,
              "ticks": ""
             }
            },
            "type": "scatter3d"
           }
          ],
          "scattercarpet": [
           {
            "marker": {
             "colorbar": {
              "outlinewidth": 0,
              "ticks": ""
             }
            },
            "type": "scattercarpet"
           }
          ],
          "scattergeo": [
           {
            "marker": {
             "colorbar": {
              "outlinewidth": 0,
              "ticks": ""
             }
            },
            "type": "scattergeo"
           }
          ],
          "scattergl": [
           {
            "marker": {
             "colorbar": {
              "outlinewidth": 0,
              "ticks": ""
             }
            },
            "type": "scattergl"
           }
          ],
          "scattermapbox": [
           {
            "marker": {
             "colorbar": {
              "outlinewidth": 0,
              "ticks": ""
             }
            },
            "type": "scattermapbox"
           }
          ],
          "scatterpolar": [
           {
            "marker": {
             "colorbar": {
              "outlinewidth": 0,
              "ticks": ""
             }
            },
            "type": "scatterpolar"
           }
          ],
          "scatterpolargl": [
           {
            "marker": {
             "colorbar": {
              "outlinewidth": 0,
              "ticks": ""
             }
            },
            "type": "scatterpolargl"
           }
          ],
          "scatterternary": [
           {
            "marker": {
             "colorbar": {
              "outlinewidth": 0,
              "ticks": ""
             }
            },
            "type": "scatterternary"
           }
          ],
          "surface": [
           {
            "colorbar": {
             "outlinewidth": 0,
             "ticks": ""
            },
            "colorscale": [
             [
              0,
              "#0d0887"
             ],
             [
              0.1111111111111111,
              "#46039f"
             ],
             [
              0.2222222222222222,
              "#7201a8"
             ],
             [
              0.3333333333333333,
              "#9c179e"
             ],
             [
              0.4444444444444444,
              "#bd3786"
             ],
             [
              0.5555555555555556,
              "#d8576b"
             ],
             [
              0.6666666666666666,
              "#ed7953"
             ],
             [
              0.7777777777777778,
              "#fb9f3a"
             ],
             [
              0.8888888888888888,
              "#fdca26"
             ],
             [
              1,
              "#f0f921"
             ]
            ],
            "type": "surface"
           }
          ],
          "table": [
           {
            "cells": {
             "fill": {
              "color": "#EBF0F8"
             },
             "line": {
              "color": "white"
             }
            },
            "header": {
             "fill": {
              "color": "#C8D4E3"
             },
             "line": {
              "color": "white"
             }
            },
            "type": "table"
           }
          ]
         },
         "layout": {
          "annotationdefaults": {
           "arrowcolor": "#2a3f5f",
           "arrowhead": 0,
           "arrowwidth": 1
          },
          "autotypenumbers": "strict",
          "coloraxis": {
           "colorbar": {
            "outlinewidth": 0,
            "ticks": ""
           }
          },
          "colorscale": {
           "diverging": [
            [
             0,
             "#8e0152"
            ],
            [
             0.1,
             "#c51b7d"
            ],
            [
             0.2,
             "#de77ae"
            ],
            [
             0.3,
             "#f1b6da"
            ],
            [
             0.4,
             "#fde0ef"
            ],
            [
             0.5,
             "#f7f7f7"
            ],
            [
             0.6,
             "#e6f5d0"
            ],
            [
             0.7,
             "#b8e186"
            ],
            [
             0.8,
             "#7fbc41"
            ],
            [
             0.9,
             "#4d9221"
            ],
            [
             1,
             "#276419"
            ]
           ],
           "sequential": [
            [
             0,
             "#0d0887"
            ],
            [
             0.1111111111111111,
             "#46039f"
            ],
            [
             0.2222222222222222,
             "#7201a8"
            ],
            [
             0.3333333333333333,
             "#9c179e"
            ],
            [
             0.4444444444444444,
             "#bd3786"
            ],
            [
             0.5555555555555556,
             "#d8576b"
            ],
            [
             0.6666666666666666,
             "#ed7953"
            ],
            [
             0.7777777777777778,
             "#fb9f3a"
            ],
            [
             0.8888888888888888,
             "#fdca26"
            ],
            [
             1,
             "#f0f921"
            ]
           ],
           "sequentialminus": [
            [
             0,
             "#0d0887"
            ],
            [
             0.1111111111111111,
             "#46039f"
            ],
            [
             0.2222222222222222,
             "#7201a8"
            ],
            [
             0.3333333333333333,
             "#9c179e"
            ],
            [
             0.4444444444444444,
             "#bd3786"
            ],
            [
             0.5555555555555556,
             "#d8576b"
            ],
            [
             0.6666666666666666,
             "#ed7953"
            ],
            [
             0.7777777777777778,
             "#fb9f3a"
            ],
            [
             0.8888888888888888,
             "#fdca26"
            ],
            [
             1,
             "#f0f921"
            ]
           ]
          },
          "colorway": [
           "#636efa",
           "#EF553B",
           "#00cc96",
           "#ab63fa",
           "#FFA15A",
           "#19d3f3",
           "#FF6692",
           "#B6E880",
           "#FF97FF",
           "#FECB52"
          ],
          "font": {
           "color": "#2a3f5f"
          },
          "geo": {
           "bgcolor": "white",
           "lakecolor": "white",
           "landcolor": "#E5ECF6",
           "showlakes": true,
           "showland": true,
           "subunitcolor": "white"
          },
          "hoverlabel": {
           "align": "left"
          },
          "hovermode": "closest",
          "mapbox": {
           "style": "light"
          },
          "paper_bgcolor": "white",
          "plot_bgcolor": "#E5ECF6",
          "polar": {
           "angularaxis": {
            "gridcolor": "white",
            "linecolor": "white",
            "ticks": ""
           },
           "bgcolor": "#E5ECF6",
           "radialaxis": {
            "gridcolor": "white",
            "linecolor": "white",
            "ticks": ""
           }
          },
          "scene": {
           "xaxis": {
            "backgroundcolor": "#E5ECF6",
            "gridcolor": "white",
            "gridwidth": 2,
            "linecolor": "white",
            "showbackground": true,
            "ticks": "",
            "zerolinecolor": "white"
           },
           "yaxis": {
            "backgroundcolor": "#E5ECF6",
            "gridcolor": "white",
            "gridwidth": 2,
            "linecolor": "white",
            "showbackground": true,
            "ticks": "",
            "zerolinecolor": "white"
           },
           "zaxis": {
            "backgroundcolor": "#E5ECF6",
            "gridcolor": "white",
            "gridwidth": 2,
            "linecolor": "white",
            "showbackground": true,
            "ticks": "",
            "zerolinecolor": "white"
           }
          },
          "shapedefaults": {
           "line": {
            "color": "#2a3f5f"
           }
          },
          "ternary": {
           "aaxis": {
            "gridcolor": "white",
            "linecolor": "white",
            "ticks": ""
           },
           "baxis": {
            "gridcolor": "white",
            "linecolor": "white",
            "ticks": ""
           },
           "bgcolor": "#E5ECF6",
           "caxis": {
            "gridcolor": "white",
            "linecolor": "white",
            "ticks": ""
           }
          },
          "title": {
           "x": 0.05
          },
          "xaxis": {
           "automargin": true,
           "gridcolor": "white",
           "linecolor": "white",
           "ticks": "",
           "title": {
            "standoff": 15
           },
           "zerolinecolor": "white",
           "zerolinewidth": 2
          },
          "yaxis": {
           "automargin": true,
           "gridcolor": "white",
           "linecolor": "white",
           "ticks": "",
           "title": {
            "standoff": 15
           },
           "zerolinecolor": "white",
           "zerolinewidth": 2
          }
         }
        },
        "xaxis": {
         "autorange": true,
         "range": [
          "2023-10-02 12:00",
          "2024-01-20 12:00"
         ],
         "rangeslider": {
          "visible": false,
          "yaxis": {}
         },
         "type": "date"
        },
        "yaxis": {
         "autorange": true,
         "range": [
          214.29166666666666,
          408.4583333333333
         ]
        }
       }
      },
      "image/png": "[encoded data removed]",
      "text/html": [
       "<div>                            <div id=\"4d9c9a30-9ec5-4afe-a436-f0d6ae4da3ee\" class=\"plotly-graph-div\" style=\"height:525px; width:100%;\"></div>            <script type=\"text/javascript\">                require([\"plotly\"], function(Plotly) {                    window.PLOTLYENV=window.PLOTLYENV || {};                                    if (document.getElementById(\"4d9c9a30-9ec5-4afe-a436-f0d6ae4da3ee\")) {                    Plotly.newPlot(                        \"4d9c9a30-9ec5-4afe-a436-f0d6ae4da3ee\",                        [{\"close\":[253.8000030517578,247.64999389648438,247.85000610351562,247.25,235.9499969482422,244.4499969482422,246.14999389648438,255.60000610351562,257.6000061035156,255.85000610351562,257.1000061035156,254.9499969482422,262.25,260.25,247.10000610351562,238.5500030517578,234.14999389648438,238.75,241.89999389648438,238.75,243.10000610351562,242.0500030517578,243.75,248.4499969482422,254.4499969482422,252.64999389648438,251.4499969482422,248.8000030517578,259.04998779296875,258.25,255.5,252.35000610351562,256.3500061035156,265.3500061035156,264.54998779296875,260.3500061035156,264.3999938964844,263.45001220703125,263.0,273.70001220703125,267.45001220703125,271.70001220703125,290.79998779296875,300.8999938964844,305.8500061035156,297.1000061035156,296.0,293.70001220703125,291.1499938964844,292.3999938964844,290.5,293.29998779296875,294.6499938964844,274.79998779296875,279.8500061035156,286.54998779296875,307.3500061035156,307.95001220703125,309.8999938964844,309.5,331.3999938964844,334.79998779296875,332.3500061035156,365.54998779296875,386.8999938964844,387.8500061035156,386.79998779296875,380.3999938964844,375.95001220703125,370.6499938964844,374.79998779296875,391.70001220703125,376.95001220703125,376.0,374.04998779296875,373.04998779296875],\"high\":[256.8999938964844,257.8999938964844,252.0,248.60000610351562,241.35000610351562,247.39999389648438,250.0,262.1499938964844,260.0,261.29998779296875,264.79998779296875,262.1000061035156,268.0,271.20001220703125,262.20001220703125,251.6999969482422,236.89999389648438,244.8000030517578,245.0,244.6999969482422,246.39999389648438,245.25,247.60000610351562,253.0,257.0,256.45001220703125,260.0,251.89999389648438,262.0,264.25,261.8999938964844,259.0,258.45001220703125,269.0,274.25,267.70001220703125,265.6000061035156,269.95001220703125,266.8500061035156,275.79998779296875,278.79998779296875,274.0,294.0,307.0,312.3999938964844,310.5,300.3999938964844,298.25,295.0,299.20001220703125,295.0,294.6000061035156,297.8999938964844,297.6000061035156,283.0,288.0,308.0,313.79998779296875,311.0,312.0,339.5,338.8999938964844,335.3500061035156,365.54998779296875,394.0,398.75,396.8999938964844,387.5,392.0,381.0,379.95001220703125,393.5,388.75,381.0,381.45001220703125,381.5],\"low\":[240.10000610351562,244.39999389648438,245.5,245.5,234.1999969482422,237.0,243.10000610351562,246.10000610351562,252.5,254.25,254.10000610351562,252.5,252.10000610351562,258.0,246.8000030517578,237.10000610351562,224.0,236.0,235.1999969482422,237.60000610351562,236.14999389648438,240.8000030517578,242.35000610351562,244.75,248.0,251.10000610351562,250.0,248.0,248.10000610351562,257.20001220703125,254.14999389648438,250.0,252.5,257.6499938964844,262.1499938964844,258.04998779296875,258.20001220703125,262.5,261.29998779296875,250.0500030517578,265.04998779296875,268.6000061035156,268.3999938964844,300.0,301.0,292.04998779296875,293.1000061035156,291.54998779296875,288.1000061035156,291.3999938964844,287.0,288.1499938964844,291.20001220703125,271.95001220703125,266.20001220703125,280.1499938964844,288.1499938964844,302.20001220703125,302.5,305.0,309.5,326.04998779296875,328.5,332.8500061035156,368.8999938964844,373.0,383.0,369.0,373.6000061035156,369.0,370.29998779296875,372.1000061035156,375.0,358.1000061035156,370.0,370.45001220703125],\"open\":[240.10000610351562,254.0,249.0500030517578,248.4499969482422,240.14999389648438,238.5,246.60000610351562,247.0,254.60000610351562,258.8999938964844,258.70001220703125,262.0,255.39999389648438,263.8500061035156,261.6499938964844,249.89999389648438,234.9499969482422,236.75,239.60000610351562,244.0,236.1999969482422,244.3000030517578,243.39999389648438,244.75,249.60000610351562,255.75,253.6999969482422,250.0,249.1999969482422,261.5,259.3999938964844,254.0,253.1999969482422,257.8500061035156,267.0,266.0,261.5,265.70001220703125,265.3999938964844,265.45001220703125,275.0,268.6000061035156,272.79998779296875,307.0,302.6000061035156,307.29998779296875,298.20001220703125,297.5,295.0,294.5,293.8999938964844,292.0,293.75,295.5,274.45001220703125,281.54998779296875,288.1499938964844,306.3999938964844,309.45001220703125,311.0,310.8500061035156,332.6499938964844,334.8999938964844,334.04998779296875,370.5,390.0,390.79998779296875,382.0,386.0,375.95001220703125,373.6000061035156,375.20001220703125,383.75,377.0,376.70001220703125,378.0],\"x\":[\"2023-10-03T00:00:00\",\"2023-10-04T00:00:00\",\"2023-10-05T00:00:00\",\"2023-10-06T00:00:00\",\"2023-10-09T00:00:00\",\"2023-10-10T00:00:00\",\"2023-10-11T00:00:00\",\"2023-10-12T00:00:00\",\"2023-10-13T00:00:00\",\"2023-10-16T00:00:00\",\"2023-10-17T00:00:00\",\"2023-10-18T00:00:00\",\"2023-10-19T00:00:00\",\"2023-10-20T00:00:00\",\"2023-10-23T00:00:00\",\"2023-10-25T00:00:00\",\"2023-10-26T00:00:00\",\"2023-10-27T00:00:00\",\"2023-10-30T00:00:00\",\"2023-10-31T00:00:00\",\"2023-11-01T00:00:00\",\"2023-11-02T00:00:00\",\"2023-11-03T00:00:00\",\"2023-11-06T00:00:00\",\"2023-11-07T00:00:00\",\"2023-11-08T00:00:00\",\"2023-11-09T00:00:00\",\"2023-11-10T00:00:00\",\"2023-11-13T00:00:00\",\"2023-11-15T00:00:00\",\"2023-11-16T00:00:00\",\"2023-11-17T00:00:00\",\"2023-11-20T00:00:00\",\"2023-11-21T00:00:00\",\"2023-11-22T00:00:00\",\"2023-11-23T00:00:00\",\"2023-11-24T00:00:00\",\"2023-11-28T00:00:00\",\"2023-11-29T00:00:00\",\"2023-11-30T00:00:00\",\"2023-12-01T00:00:00\",\"2023-12-04T00:00:00\",\"2023-12-05T00:00:00\",\"2023-12-06T00:00:00\",\"2023-12-07T00:00:00\",\"2023-12-08T00:00:00\",\"2023-12-11T00:00:00\",\"2023-12-12T00:00:00\",\"2023-12-13T00:00:00\",\"2023-12-14T00:00:00\",\"2023-12-15T00:00:00\",\"2023-12-18T00:00:00\",\"2023-12-19T00:00:00\",\"2023-12-20T00:00:00\",\"2023-12-21T00:00:00\",\"2023-12-22T00:00:00\",\"2023-12-26T00:00:00\",\"2023-12-27T00:00:00\",\"2023-12-28T00:00:00\",\"2023-12-29T00:00:00\",\"2024-01-01T00:00:00\",\"2024-01-02T00:00:00\",\"2024-01-03T00:00:00\",\"2024-01-04T00:00:00\",\"2024-01-05T00:00:00\",\"2024-01-08T00:00:00\",\"2024-01-09T00:00:00\",\"2024-01-10T00:00:00\",\"2024-01-11T00:00:00\",\"2024-01-12T00:00:00\",\"2024-01-15T00:00:00\",\"2024-01-16T00:00:00\",\"2024-01-17T00:00:00\",\"2024-01-18T00:00:00\",\"2024-01-19T00:00:00\",\"2024-01-20T00:00:00\"],\"type\":\"candlestick\"}],                        {\"template\":{\"data\":{\"histogram2dcontour\":[{\"type\":\"histogram2dcontour\",\"colorbar\":{\"outlinewidth\":0,\"ticks\":\"\"},\"colorscale\":[[0.0,\"#0d0887\"],[0.1111111111111111,\"#46039f\"],[0.2222222222222222,\"#7201a8\"],[0.3333333333333333,\"#9c179e\"],[0.4444444444444444,\"#bd3786\"],[0.5555555555555556,\"#d8576b\"],[0.6666666666666666,\"#ed7953\"],[0.7777777777777778,\"#fb9f3a\"],[0.8888888888888888,\"#fdca26\"],[1.0,\"#f0f921\"]]}],\"choropleth\":[{\"type\":\"choropleth\",\"colorbar\":{\"outlinewidth\":0,\"ticks\":\"\"}}],\"histogram2d\":[{\"type\":\"histogram2d\",\"colorbar\":{\"outlinewidth\":0,\"ticks\":\"\"},\"colorscale\":[[0.0,\"#0d0887\"],[0.1111111111111111,\"#46039f\"],[0.2222222222222222,\"#7201a8\"],[0.3333333333333333,\"#9c179e\"],[0.4444444444444444,\"#bd3786\"],[0.5555555555555556,\"#d8576b\"],[0.6666666666666666,\"#ed7953\"],[0.7777777777777778,\"#fb9f3a\"],[0.8888888888888888,\"#fdca26\"],[1.0,\"#f0f921\"]]}],\"heatmap\":[{\"type\":\"heatmap\",\"colorbar\":{\"outlinewidth\":0,\"ticks\":\"\"},\"colorscale\":[[0.0,\"#0d0887\"],[0.1111111111111111,\"#46039f\"],[0.2222222222222222,\"#7201a8\"],[0.3333333333333333,\"#9c179e\"],[0.4444444444444444,\"#bd3786\"],[0.5555555555555556,\"#d8576b\"],[0.6666666666666666,\"#ed7953\"],[0.7777777777777778,\"#fb9f3a\"],[0.8888888888888888,\"#fdca26\"],[1.0,\"#f0f921\"]]}],\"heatmapgl\":[{\"type\":\"heatmapgl\",\"colorbar\":{\"outlinewidth\":0,\"ticks\":\"\"},\"colorscale\":[[0.0,\"#0d0887\"],[0.1111111111111111,\"#46039f\"],[0.2222222222222222,\"#7201a8\"],[0.3333333333333333,\"#9c179e\"],[0.4444444444444444,\"#bd3786\"],[0.5555555555555556,\"#d8576b\"],[0.6666666666666666,\"#ed7953\"],[0.7777777777777778,\"#fb9f3a\"],[0.8888888888888888,\"#fdca26\"],[1.0,\"#f0f921\"]]}],\"contourcarpet\":[{\"type\":\"contourcarpet\",\"colorbar\":{\"outlinewidth\":0,\"ticks\":\"\"}}],\"contour\":[{\"type\":\"contour\",\"colorbar\":{\"outlinewidth\":0,\"ticks\":\"\"},\"colorscale\":[[0.0,\"#0d0887\"],[0.1111111111111111,\"#46039f\"],[0.2222222222222222,\"#7201a8\"],[0.3333333333333333,\"#9c179e\"],[0.4444444444444444,\"#bd3786\"],[0.5555555555555556,\"#d8576b\"],[0.6666666666666666,\"#ed7953\"],[0.7777777777777778,\"#fb9f3a\"],[0.8888888888888888,\"#fdca26\"],[1.0,\"#f0f921\"]]}],\"surface\":[{\"type\":\"surface\",\"colorbar\":{\"outlinewidth\":0,\"ticks\":\"\"},\"colorscale\":[[0.0,\"#0d0887\"],[0.1111111111111111,\"#46039f\"],[0.2222222222222222,\"#7201a8\"],[0.3333333333333333,\"#9c179e\"],[0.4444444444444444,\"#bd3786\"],[0.5555555555555556,\"#d8576b\"],[0.6666666666666666,\"#ed7953\"],[0.7777777777777778,\"#fb9f3a\"],[0.8888888888888888,\"#fdca26\"],[1.0,\"#f0f921\"]]}],\"mesh3d\":[{\"type\":\"mesh3d\",\"colorbar\":{\"outlinewidth\":0,\"ticks\":\"\"}}],\"scatter\":[{\"fillpattern\":{\"fillmode\":\"overlay\",\"size\":10,\"solidity\":0.2},\"type\":\"scatter\"}],\"parcoords\":[{\"type\":\"parcoords\",\"line\":{\"colorbar\":{\"outlinewidth\":0,\"ticks\":\"\"}}}],\"scatterpolargl\":[{\"type\":\"scatterpolargl\",\"marker\":{\"colorbar\":{\"outlinewidth\":0,\"ticks\":\"\"}}}],\"bar\":[{\"error_x\":{\"color\":\"#2a3f5f\"},\"error_y\":{\"color\":\"#2a3f5f\"},\"marker\":{\"line\":{\"color\":\"#E5ECF6\",\"width\":0.5},\"pattern\":{\"fillmode\":\"overlay\",\"size\":10,\"solidity\":0.2}},\"type\":\"bar\"}],\"scattergeo\":[{\"type\":\"scattergeo\",\"marker\":{\"colorbar\":{\"outlinewidth\":0,\"ticks\":\"\"}}}],\"scatterpolar\":[{\"type\":\"scatterpolar\",\"marker\":{\"colorbar\":{\"outlinewidth\":0,\"ticks\":\"\"}}}],\"histogram\":[{\"marker\":{\"pattern\":{\"fillmode\":\"overlay\",\"size\":10,\"solidity\":0.2}},\"type\":\"histogram\"}],\"scattergl\":[{\"type\":\"scattergl\",\"marker\":{\"colorbar\":{\"outlinewidth\":0,\"ticks\":\"\"}}}],\"scatter3d\":[{\"type\":\"scatter3d\",\"line\":{\"colorbar\":{\"outlinewidth\":0,\"ticks\":\"\"}},\"marker\":{\"colorbar\":{\"outlinewidth\":0,\"ticks\":\"\"}}}],\"scattermapbox\":[{\"type\":\"scattermapbox\",\"marker\":{\"colorbar\":{\"outlinewidth\":0,\"ticks\":\"\"}}}],\"scatterternary\":[{\"type\":\"scatterternary\",\"marker\":{\"colorbar\":{\"outlinewidth\":0,\"ticks\":\"\"}}}],\"scattercarpet\":[{\"type\":\"scattercarpet\",\"marker\":{\"colorbar\":{\"outlinewidth\":0,\"ticks\":\"\"}}}],\"carpet\":[{\"aaxis\":{\"endlinecolor\":\"#2a3f5f\",\"gridcolor\":\"white\",\"linecolor\":\"white\",\"minorgridcolor\":\"white\",\"startlinecolor\":\"#2a3f5f\"},\"baxis\":{\"endlinecolor\":\"#2a3f5f\",\"gridcolor\":\"white\",\"linecolor\":\"white\",\"minorgridcolor\":\"white\",\"startlinecolor\":\"#2a3f5f\"},\"type\":\"carpet\"}],\"table\":[{\"cells\":{\"fill\":{\"color\":\"#EBF0F8\"},\"line\":{\"color\":\"white\"}},\"header\":{\"fill\":{\"color\":\"#C8D4E3\"},\"line\":{\"color\":\"white\"}},\"type\":\"table\"}],\"barpolar\":[{\"marker\":{\"line\":{\"color\":\"#E5ECF6\",\"width\":0.5},\"pattern\":{\"fillmode\":\"overlay\",\"size\":10,\"solidity\":0.2}},\"type\":\"barpolar\"}],\"pie\":[{\"automargin\":true,\"type\":\"pie\"}]},\"layout\":{\"autotypenumbers\":\"strict\",\"colorway\":[\"#636efa\",\"#EF553B\",\"#00cc96\",\"#ab63fa\",\"#FFA15A\",\"#19d3f3\",\"#FF6692\",\"#B6E880\",\"#FF97FF\",\"#FECB52\"],\"font\":{\"color\":\"#2a3f5f\"},\"hovermode\":\"closest\",\"hoverlabel\":{\"align\":\"left\"},\"paper_bgcolor\":\"white\",\"plot_bgcolor\":\"#E5ECF6\",\"polar\":{\"bgcolor\":\"#E5ECF6\",\"angularaxis\":{\"gridcolor\":\"white\",\"linecolor\":\"white\",\"ticks\":\"\"},\"radialaxis\":{\"gridcolor\":\"white\",\"linecolor\":\"white\",\"ticks\":\"\"}},\"ternary\":{\"bgcolor\":\"#E5ECF6\",\"aaxis\":{\"gridcolor\":\"white\",\"linecolor\":\"white\",\"ticks\":\"\"},\"baxis\":{\"gridcolor\":\"white\",\"linecolor\":\"white\",\"ticks\":\"\"},\"caxis\":{\"gridcolor\":\"white\",\"linecolor\":\"white\",\"ticks\":\"\"}},\"coloraxis\":{\"colorbar\":{\"outlinewidth\":0,\"ticks\":\"\"}},\"colorscale\":{\"sequential\":[[0.0,\"#0d0887\"],[0.1111111111111111,\"#46039f\"],[0.2222222222222222,\"#7201a8\"],[0.3333333333333333,\"#9c179e\"],[0.4444444444444444,\"#bd3786\"],[0.5555555555555556,\"#d8576b\"],[0.6666666666666666,\"#ed7953\"],[0.7777777777777778,\"#fb9f3a\"],[0.8888888888888888,\"#fdca26\"],[1.0,\"#f0f921\"]],\"sequentialminus\":[[0.0,\"#0d0887\"],[0.1111111111111111,\"#46039f\"],[0.2222222222222222,\"#7201a8\"],[0.3333333333333333,\"#9c179e\"],[0.4444444444444444,\"#bd3786\"],[0.5555555555555556,\"#d8576b\"],[0.6666666666666666,\"#ed7953\"],[0.7777777777777778,\"#fb9f3a\"],[0.8888888888888888,\"#fdca26\"],[1.0,\"#f0f921\"]],\"diverging\":[[0,\"#8e0152\"],[0.1,\"#c51b7d\"],[0.2,\"#de77ae\"],[0.3,\"#f1b6da\"],[0.4,\"#fde0ef\"],[0.5,\"#f7f7f7\"],[0.6,\"#e6f5d0\"],[0.7,\"#b8e186\"],[0.8,\"#7fbc41\"],[0.9,\"#4d9221\"],[1,\"#276419\"]]},\"xaxis\":{\"gridcolor\":\"white\",\"linecolor\":\"white\",\"ticks\":\"\",\"title\":{\"standoff\":15},\"zerolinecolor\":\"white\",\"automargin\":true,\"zerolinewidth\":2},\"yaxis\":{\"gridcolor\":\"white\",\"linecolor\":\"white\",\"ticks\":\"\",\"title\":{\"standoff\":15},\"zerolinecolor\":\"white\",\"automargin\":true,\"zerolinewidth\":2},\"scene\":{\"xaxis\":{\"backgroundcolor\":\"#E5ECF6\",\"gridcolor\":\"white\",\"linecolor\":\"white\",\"showbackground\":true,\"ticks\":\"\",\"zerolinecolor\":\"white\",\"gridwidth\":2},\"yaxis\":{\"backgroundcolor\":\"#E5ECF6\",\"gridcolor\":\"white\",\"linecolor\":\"white\",\"showbackground\":true,\"ticks\":\"\",\"zerolinecolor\":\"white\",\"gridwidth\":2},\"zaxis\":{\"backgroundcolor\":\"#E5ECF6\",\"gridcolor\":\"white\",\"linecolor\":\"white\",\"showbackground\":true,\"ticks\":\"\",\"zerolinecolor\":\"white\",\"gridwidth\":2}},\"shapedefaults\":{\"line\":{\"color\":\"#2a3f5f\"}},\"annotationdefaults\":{\"arrowcolor\":\"#2a3f5f\",\"arrowhead\":0,\"arrowwidth\":1},\"geo\":{\"bgcolor\":\"white\",\"landcolor\":\"#E5ECF6\",\"subunitcolor\":\"white\",\"showland\":true,\"showlakes\":true,\"lakecolor\":\"white\"},\"title\":{\"x\":0.05},\"mapbox\":{\"style\":\"light\"}}},\"xaxis\":{\"rangeslider\":{\"visible\":false}}},                        {\"responsive\": true}                    ).then(function(){\n",
       "                            \n",
       "var gd = document.getElementById('4d9c9a30-9ec5-4afe-a436-f0d6ae4da3ee');\n",
       "var x = new MutationObserver(function (mutations, observer) {{\n",
       "        var display = window.getComputedStyle(gd).display;\n",
       "        if (!display || display === 'none') {{\n",
       "            console.log([gd, 'removed!']);\n",
       "            Plotly.purge(gd);\n",
       "            observer.disconnect();\n",
       "        }}\n",
       "}});\n",
       "\n",
       "// Listen for the removal of the full notebook cells\n",
       "var notebookContainer = gd.closest('#notebook-container');\n",
       "if (notebookContainer) {{\n",
       "    x.observe(notebookContainer, {childList: true});\n",
       "}}\n",
       "\n",
       "// Listen for the clearing of the current output cell\n",
       "var outputEl = gd.closest('.output');\n",
       "if (outputEl) {{\n",
       "    x.observe(outputEl, {childList: true});\n",
       "}}\n",
       "\n",
       "                        })                };                });            </script>        </div>"
      ]
     },
     "metadata": {},
     "output_type": "display_data"
    }
   ],
   "source": [
    "# removing rangeslider\n",
    "fig.update_layout(xaxis_rangeslider_visible=False)"
   ]
  },
  {
   "cell_type": "code",
   "execution_count": 13,
   "id": "2b5768e5-3751-4d5b-8782-dbcaa94b8d30",
   "metadata": {},
   "outputs": [
    {
     "data": {
      "application/vnd.plotly.v1+json": {
       "config": {
        "plotlyServerURL": "https://plot.ly"
       },
       "data": [
        {
         "close": [
          253.8000030517578,
          247.64999389648438,
          247.85000610351562,
          247.25,
          235.9499969482422,
          244.4499969482422,
          246.14999389648438,
          255.60000610351562,
          257.6000061035156,
          255.85000610351562,
          257.1000061035156,
          254.9499969482422,
          262.25,
          260.25,
          247.10000610351562,
          238.5500030517578,
          234.14999389648438,
          238.75,
          241.89999389648438,
          238.75,
          243.10000610351562,
          242.0500030517578,
          243.75,
          248.4499969482422,
          254.4499969482422,
          252.64999389648438,
          251.4499969482422,
          248.8000030517578,
          259.04998779296875,
          258.25,
          255.5,
          252.35000610351562,
          256.3500061035156,
          265.3500061035156,
          264.54998779296875,
          260.3500061035156,
          264.3999938964844,
          263.45001220703125,
          263,
          273.70001220703125,
          267.45001220703125,
          271.70001220703125,
          290.79998779296875,
          300.8999938964844,
          305.8500061035156,
          297.1000061035156,
          296,
          293.70001220703125,
          291.1499938964844,
          292.3999938964844,
          290.5,
          293.29998779296875,
          294.6499938964844,
          274.79998779296875,
          279.8500061035156,
          286.54998779296875,
          307.3500061035156,
          307.95001220703125,
          309.8999938964844,
          309.5,
          331.3999938964844,
          334.79998779296875,
          332.3500061035156,
          365.54998779296875,
          386.8999938964844,
          387.8500061035156,
          386.79998779296875,
          380.3999938964844,
          375.95001220703125,
          370.6499938964844,
          374.79998779296875,
          391.70001220703125,
          376.95001220703125,
          376,
          374.04998779296875,
          373.04998779296875
         ],
         "high": [
          256.8999938964844,
          257.8999938964844,
          252,
          248.60000610351562,
          241.35000610351562,
          247.39999389648438,
          250,
          262.1499938964844,
          260,
          261.29998779296875,
          264.79998779296875,
          262.1000061035156,
          268,
          271.20001220703125,
          262.20001220703125,
          251.6999969482422,
          236.89999389648438,
          244.8000030517578,
          245,
          244.6999969482422,
          246.39999389648438,
          245.25,
          247.60000610351562,
          253,
          257,
          256.45001220703125,
          260,
          251.89999389648438,
          262,
          264.25,
          261.8999938964844,
          259,
          258.45001220703125,
          269,
          274.25,
          267.70001220703125,
          265.6000061035156,
          269.95001220703125,
          266.8500061035156,
          275.79998779296875,
          278.79998779296875,
          274,
          294,
          307,
          312.3999938964844,
          310.5,
          300.3999938964844,
          298.25,
          295,
          299.20001220703125,
          295,
          294.6000061035156,
          297.8999938964844,
          297.6000061035156,
          283,
          288,
          308,
          313.79998779296875,
          311,
          312,
          339.5,
          338.8999938964844,
          335.3500061035156,
          365.54998779296875,
          394,
          398.75,
          396.8999938964844,
          387.5,
          392,
          381,
          379.95001220703125,
          393.5,
          388.75,
          381,
          381.45001220703125,
          381.5
         ],
         "low": [
          240.10000610351562,
          244.39999389648438,
          245.5,
          245.5,
          234.1999969482422,
          237,
          243.10000610351562,
          246.10000610351562,
          252.5,
          254.25,
          254.10000610351562,
          252.5,
          252.10000610351562,
          258,
          246.8000030517578,
          237.10000610351562,
          224,
          236,
          235.1999969482422,
          237.60000610351562,
          236.14999389648438,
          240.8000030517578,
          242.35000610351562,
          244.75,
          248,
          251.10000610351562,
          250,
          248,
          248.10000610351562,
          257.20001220703125,
          254.14999389648438,
          250,
          252.5,
          257.6499938964844,
          262.1499938964844,
          258.04998779296875,
          258.20001220703125,
          262.5,
          261.29998779296875,
          250.0500030517578,
          265.04998779296875,
          268.6000061035156,
          268.3999938964844,
          300,
          301,
          292.04998779296875,
          293.1000061035156,
          291.54998779296875,
          288.1000061035156,
          291.3999938964844,
          287,
          288.1499938964844,
          291.20001220703125,
          271.95001220703125,
          266.20001220703125,
          280.1499938964844,
          288.1499938964844,
          302.20001220703125,
          302.5,
          305,
          309.5,
          326.04998779296875,
          328.5,
          332.8500061035156,
          368.8999938964844,
          373,
          383,
          369,
          373.6000061035156,
          369,
          370.29998779296875,
          372.1000061035156,
          375,
          358.1000061035156,
          370,
          370.45001220703125
         ],
         "open": [
          240.10000610351562,
          254,
          249.0500030517578,
          248.4499969482422,
          240.14999389648438,
          238.5,
          246.60000610351562,
          247,
          254.60000610351562,
          258.8999938964844,
          258.70001220703125,
          262,
          255.39999389648438,
          263.8500061035156,
          261.6499938964844,
          249.89999389648438,
          234.9499969482422,
          236.75,
          239.60000610351562,
          244,
          236.1999969482422,
          244.3000030517578,
          243.39999389648438,
          244.75,
          249.60000610351562,
          255.75,
          253.6999969482422,
          250,
          249.1999969482422,
          261.5,
          259.3999938964844,
          254,
          253.1999969482422,
          257.8500061035156,
          267,
          266,
          261.5,
          265.70001220703125,
          265.3999938964844,
          265.45001220703125,
          275,
          268.6000061035156,
          272.79998779296875,
          307,
          302.6000061035156,
          307.29998779296875,
          298.20001220703125,
          297.5,
          295,
          294.5,
          293.8999938964844,
          292,
          293.75,
          295.5,
          274.45001220703125,
          281.54998779296875,
          288.1499938964844,
          306.3999938964844,
          309.45001220703125,
          311,
          310.8500061035156,
          332.6499938964844,
          334.8999938964844,
          334.04998779296875,
          370.5,
          390,
          390.79998779296875,
          382,
          386,
          375.95001220703125,
          373.6000061035156,
          375.20001220703125,
          383.75,
          377,
          376.70001220703125,
          378
         ],
         "type": "candlestick",
         "x": [
          "2023-10-03T00:00:00",
          "2023-10-04T00:00:00",
          "2023-10-05T00:00:00",
          "2023-10-06T00:00:00",
          "2023-10-09T00:00:00",
          "2023-10-10T00:00:00",
          "2023-10-11T00:00:00",
          "2023-10-12T00:00:00",
          "2023-10-13T00:00:00",
          "2023-10-16T00:00:00",
          "2023-10-17T00:00:00",
          "2023-10-18T00:00:00",
          "2023-10-19T00:00:00",
          "2023-10-20T00:00:00",
          "2023-10-23T00:00:00",
          "2023-10-25T00:00:00",
          "2023-10-26T00:00:00",
          "2023-10-27T00:00:00",
          "2023-10-30T00:00:00",
          "2023-10-31T00:00:00",
          "2023-11-01T00:00:00",
          "2023-11-02T00:00:00",
          "2023-11-03T00:00:00",
          "2023-11-06T00:00:00",
          "2023-11-07T00:00:00",
          "2023-11-08T00:00:00",
          "2023-11-09T00:00:00",
          "2023-11-10T00:00:00",
          "2023-11-13T00:00:00",
          "2023-11-15T00:00:00",
          "2023-11-16T00:00:00",
          "2023-11-17T00:00:00",
          "2023-11-20T00:00:00",
          "2023-11-21T00:00:00",
          "2023-11-22T00:00:00",
          "2023-11-23T00:00:00",
          "2023-11-24T00:00:00",
          "2023-11-28T00:00:00",
          "2023-11-29T00:00:00",
          "2023-11-30T00:00:00",
          "2023-12-01T00:00:00",
          "2023-12-04T00:00:00",
          "2023-12-05T00:00:00",
          "2023-12-06T00:00:00",
          "2023-12-07T00:00:00",
          "2023-12-08T00:00:00",
          "2023-12-11T00:00:00",
          "2023-12-12T00:00:00",
          "2023-12-13T00:00:00",
          "2023-12-14T00:00:00",
          "2023-12-15T00:00:00",
          "2023-12-18T00:00:00",
          "2023-12-19T00:00:00",
          "2023-12-20T00:00:00",
          "2023-12-21T00:00:00",
          "2023-12-22T00:00:00",
          "2023-12-26T00:00:00",
          "2023-12-27T00:00:00",
          "2023-12-28T00:00:00",
          "2023-12-29T00:00:00",
          "2024-01-01T00:00:00",
          "2024-01-02T00:00:00",
          "2024-01-03T00:00:00",
          "2024-01-04T00:00:00",
          "2024-01-05T00:00:00",
          "2024-01-08T00:00:00",
          "2024-01-09T00:00:00",
          "2024-01-10T00:00:00",
          "2024-01-11T00:00:00",
          "2024-01-12T00:00:00",
          "2024-01-15T00:00:00",
          "2024-01-16T00:00:00",
          "2024-01-17T00:00:00",
          "2024-01-18T00:00:00",
          "2024-01-19T00:00:00",
          "2024-01-20T00:00:00"
         ]
        }
       ],
       "layout": {
        "autosize": true,
        "template": {
         "data": {
          "bar": [
           {
            "error_x": {
             "color": "#2a3f5f"
            },
            "error_y": {
             "color": "#2a3f5f"
            },
            "marker": {
             "line": {
              "color": "#E5ECF6",
              "width": 0.5
             },
             "pattern": {
              "fillmode": "overlay",
              "size": 10,
              "solidity": 0.2
             }
            },
            "type": "bar"
           }
          ],
          "barpolar": [
           {
            "marker": {
             "line": {
              "color": "#E5ECF6",
              "width": 0.5
             },
             "pattern": {
              "fillmode": "overlay",
              "size": 10,
              "solidity": 0.2
             }
            },
            "type": "barpolar"
           }
          ],
          "carpet": [
           {
            "aaxis": {
             "endlinecolor": "#2a3f5f",
             "gridcolor": "white",
             "linecolor": "white",
             "minorgridcolor": "white",
             "startlinecolor": "#2a3f5f"
            },
            "baxis": {
             "endlinecolor": "#2a3f5f",
             "gridcolor": "white",
             "linecolor": "white",
             "minorgridcolor": "white",
             "startlinecolor": "#2a3f5f"
            },
            "type": "carpet"
           }
          ],
          "choropleth": [
           {
            "colorbar": {
             "outlinewidth": 0,
             "ticks": ""
            },
            "type": "choropleth"
           }
          ],
          "contour": [
           {
            "colorbar": {
             "outlinewidth": 0,
             "ticks": ""
            },
            "colorscale": [
             [
              0,
              "#0d0887"
             ],
             [
              0.1111111111111111,
              "#46039f"
             ],
             [
              0.2222222222222222,
              "#7201a8"
             ],
             [
              0.3333333333333333,
              "#9c179e"
             ],
             [
              0.4444444444444444,
              "#bd3786"
             ],
             [
              0.5555555555555556,
              "#d8576b"
             ],
             [
              0.6666666666666666,
              "#ed7953"
             ],
             [
              0.7777777777777778,
              "#fb9f3a"
             ],
             [
              0.8888888888888888,
              "#fdca26"
             ],
             [
              1,
              "#f0f921"
             ]
            ],
            "type": "contour"
           }
          ],
          "contourcarpet": [
           {
            "colorbar": {
             "outlinewidth": 0,
             "ticks": ""
            },
            "type": "contourcarpet"
           }
          ],
          "heatmap": [
           {
            "colorbar": {
             "outlinewidth": 0,
             "ticks": ""
            },
            "colorscale": [
             [
              0,
              "#0d0887"
             ],
             [
              0.1111111111111111,
              "#46039f"
             ],
             [
              0.2222222222222222,
              "#7201a8"
             ],
             [
              0.3333333333333333,
              "#9c179e"
             ],
             [
              0.4444444444444444,
              "#bd3786"
             ],
             [
              0.5555555555555556,
              "#d8576b"
             ],
             [
              0.6666666666666666,
              "#ed7953"
             ],
             [
              0.7777777777777778,
              "#fb9f3a"
             ],
             [
              0.8888888888888888,
              "#fdca26"
             ],
             [
              1,
              "#f0f921"
             ]
            ],
            "type": "heatmap"
           }
          ],
          "heatmapgl": [
           {
            "colorbar": {
             "outlinewidth": 0,
             "ticks": ""
            },
            "colorscale": [
             [
              0,
              "#0d0887"
             ],
             [
              0.1111111111111111,
              "#46039f"
             ],
             [
              0.2222222222222222,
              "#7201a8"
             ],
             [
              0.3333333333333333,
              "#9c179e"
             ],
             [
              0.4444444444444444,
              "#bd3786"
             ],
             [
              0.5555555555555556,
              "#d8576b"
             ],
             [
              0.6666666666666666,
              "#ed7953"
             ],
             [
              0.7777777777777778,
              "#fb9f3a"
             ],
             [
              0.8888888888888888,
              "#fdca26"
             ],
             [
              1,
              "#f0f921"
             ]
            ],
            "type": "heatmapgl"
           }
          ],
          "histogram": [
           {
            "marker": {
             "pattern": {
              "fillmode": "overlay",
              "size": 10,
              "solidity": 0.2
             }
            },
            "type": "histogram"
           }
          ],
          "histogram2d": [
           {
            "colorbar": {
             "outlinewidth": 0,
             "ticks": ""
            },
            "colorscale": [
             [
              0,
              "#0d0887"
             ],
             [
              0.1111111111111111,
              "#46039f"
             ],
             [
              0.2222222222222222,
              "#7201a8"
             ],
             [
              0.3333333333333333,
              "#9c179e"
             ],
             [
              0.4444444444444444,
              "#bd3786"
             ],
             [
              0.5555555555555556,
              "#d8576b"
             ],
             [
              0.6666666666666666,
              "#ed7953"
             ],
             [
              0.7777777777777778,
              "#fb9f3a"
             ],
             [
              0.8888888888888888,
              "#fdca26"
             ],
             [
              1,
              "#f0f921"
             ]
            ],
            "type": "histogram2d"
           }
          ],
          "histogram2dcontour": [
           {
            "colorbar": {
             "outlinewidth": 0,
             "ticks": ""
            },
            "colorscale": [
             [
              0,
              "#0d0887"
             ],
             [
              0.1111111111111111,
              "#46039f"
             ],
             [
              0.2222222222222222,
              "#7201a8"
             ],
             [
              0.3333333333333333,
              "#9c179e"
             ],
             [
              0.4444444444444444,
              "#bd3786"
             ],
             [
              0.5555555555555556,
              "#d8576b"
             ],
             [
              0.6666666666666666,
              "#ed7953"
             ],
             [
              0.7777777777777778,
              "#fb9f3a"
             ],
             [
              0.8888888888888888,
              "#fdca26"
             ],
             [
              1,
              "#f0f921"
             ]
            ],
            "type": "histogram2dcontour"
           }
          ],
          "mesh3d": [
           {
            "colorbar": {
             "outlinewidth": 0,
             "ticks": ""
            },
            "type": "mesh3d"
           }
          ],
          "parcoords": [
           {
            "line": {
             "colorbar": {
              "outlinewidth": 0,
              "ticks": ""
             }
            },
            "type": "parcoords"
           }
          ],
          "pie": [
           {
            "automargin": true,
            "type": "pie"
           }
          ],
          "scatter": [
           {
            "fillpattern": {
             "fillmode": "overlay",
             "size": 10,
             "solidity": 0.2
            },
            "type": "scatter"
           }
          ],
          "scatter3d": [
           {
            "line": {
             "colorbar": {
              "outlinewidth": 0,
              "ticks": ""
             }
            },
            "marker": {
             "colorbar": {
              "outlinewidth": 0,
              "ticks": ""
             }
            },
            "type": "scatter3d"
           }
          ],
          "scattercarpet": [
           {
            "marker": {
             "colorbar": {
              "outlinewidth": 0,
              "ticks": ""
             }
            },
            "type": "scattercarpet"
           }
          ],
          "scattergeo": [
           {
            "marker": {
             "colorbar": {
              "outlinewidth": 0,
              "ticks": ""
             }
            },
            "type": "scattergeo"
           }
          ],
          "scattergl": [
           {
            "marker": {
             "colorbar": {
              "outlinewidth": 0,
              "ticks": ""
             }
            },
            "type": "scattergl"
           }
          ],
          "scattermapbox": [
           {
            "marker": {
             "colorbar": {
              "outlinewidth": 0,
              "ticks": ""
             }
            },
            "type": "scattermapbox"
           }
          ],
          "scatterpolar": [
           {
            "marker": {
             "colorbar": {
              "outlinewidth": 0,
              "ticks": ""
             }
            },
            "type": "scatterpolar"
           }
          ],
          "scatterpolargl": [
           {
            "marker": {
             "colorbar": {
              "outlinewidth": 0,
              "ticks": ""
             }
            },
            "type": "scatterpolargl"
           }
          ],
          "scatterternary": [
           {
            "marker": {
             "colorbar": {
              "outlinewidth": 0,
              "ticks": ""
             }
            },
            "type": "scatterternary"
           }
          ],
          "surface": [
           {
            "colorbar": {
             "outlinewidth": 0,
             "ticks": ""
            },
            "colorscale": [
             [
              0,
              "#0d0887"
             ],
             [
              0.1111111111111111,
              "#46039f"
             ],
             [
              0.2222222222222222,
              "#7201a8"
             ],
             [
              0.3333333333333333,
              "#9c179e"
             ],
             [
              0.4444444444444444,
              "#bd3786"
             ],
             [
              0.5555555555555556,
              "#d8576b"
             ],
             [
              0.6666666666666666,
              "#ed7953"
             ],
             [
              0.7777777777777778,
              "#fb9f3a"
             ],
             [
              0.8888888888888888,
              "#fdca26"
             ],
             [
              1,
              "#f0f921"
             ]
            ],
            "type": "surface"
           }
          ],
          "table": [
           {
            "cells": {
             "fill": {
              "color": "#EBF0F8"
             },
             "line": {
              "color": "white"
             }
            },
            "header": {
             "fill": {
              "color": "#C8D4E3"
             },
             "line": {
              "color": "white"
             }
            },
            "type": "table"
           }
          ]
         },
         "layout": {
          "annotationdefaults": {
           "arrowcolor": "#2a3f5f",
           "arrowhead": 0,
           "arrowwidth": 1
          },
          "autotypenumbers": "strict",
          "coloraxis": {
           "colorbar": {
            "outlinewidth": 0,
            "ticks": ""
           }
          },
          "colorscale": {
           "diverging": [
            [
             0,
             "#8e0152"
            ],
            [
             0.1,
             "#c51b7d"
            ],
            [
             0.2,
             "#de77ae"
            ],
            [
             0.3,
             "#f1b6da"
            ],
            [
             0.4,
             "#fde0ef"
            ],
            [
             0.5,
             "#f7f7f7"
            ],
            [
             0.6,
             "#e6f5d0"
            ],
            [
             0.7,
             "#b8e186"
            ],
            [
             0.8,
             "#7fbc41"
            ],
            [
             0.9,
             "#4d9221"
            ],
            [
             1,
             "#276419"
            ]
           ],
           "sequential": [
            [
             0,
             "#0d0887"
            ],
            [
             0.1111111111111111,
             "#46039f"
            ],
            [
             0.2222222222222222,
             "#7201a8"
            ],
            [
             0.3333333333333333,
             "#9c179e"
            ],
            [
             0.4444444444444444,
             "#bd3786"
            ],
            [
             0.5555555555555556,
             "#d8576b"
            ],
            [
             0.6666666666666666,
             "#ed7953"
            ],
            [
             0.7777777777777778,
             "#fb9f3a"
            ],
            [
             0.8888888888888888,
             "#fdca26"
            ],
            [
             1,
             "#f0f921"
            ]
           ],
           "sequentialminus": [
            [
             0,
             "#0d0887"
            ],
            [
             0.1111111111111111,
             "#46039f"
            ],
            [
             0.2222222222222222,
             "#7201a8"
            ],
            [
             0.3333333333333333,
             "#9c179e"
            ],
            [
             0.4444444444444444,
             "#bd3786"
            ],
            [
             0.5555555555555556,
             "#d8576b"
            ],
            [
             0.6666666666666666,
             "#ed7953"
            ],
            [
             0.7777777777777778,
             "#fb9f3a"
            ],
            [
             0.8888888888888888,
             "#fdca26"
            ],
            [
             1,
             "#f0f921"
            ]
           ]
          },
          "colorway": [
           "#636efa",
           "#EF553B",
           "#00cc96",
           "#ab63fa",
           "#FFA15A",
           "#19d3f3",
           "#FF6692",
           "#B6E880",
           "#FF97FF",
           "#FECB52"
          ],
          "font": {
           "color": "#2a3f5f"
          },
          "geo": {
           "bgcolor": "white",
           "lakecolor": "white",
           "landcolor": "#E5ECF6",
           "showlakes": true,
           "showland": true,
           "subunitcolor": "white"
          },
          "hoverlabel": {
           "align": "left"
          },
          "hovermode": "closest",
          "mapbox": {
           "style": "light"
          },
          "paper_bgcolor": "white",
          "plot_bgcolor": "#E5ECF6",
          "polar": {
           "angularaxis": {
            "gridcolor": "white",
            "linecolor": "white",
            "ticks": ""
           },
           "bgcolor": "#E5ECF6",
           "radialaxis": {
            "gridcolor": "white",
            "linecolor": "white",
            "ticks": ""
           }
          },
          "scene": {
           "xaxis": {
            "backgroundcolor": "#E5ECF6",
            "gridcolor": "white",
            "gridwidth": 2,
            "linecolor": "white",
            "showbackground": true,
            "ticks": "",
            "zerolinecolor": "white"
           },
           "yaxis": {
            "backgroundcolor": "#E5ECF6",
            "gridcolor": "white",
            "gridwidth": 2,
            "linecolor": "white",
            "showbackground": true,
            "ticks": "",
            "zerolinecolor": "white"
           },
           "zaxis": {
            "backgroundcolor": "#E5ECF6",
            "gridcolor": "white",
            "gridwidth": 2,
            "linecolor": "white",
            "showbackground": true,
            "ticks": "",
            "zerolinecolor": "white"
           }
          },
          "shapedefaults": {
           "line": {
            "color": "#2a3f5f"
           }
          },
          "ternary": {
           "aaxis": {
            "gridcolor": "white",
            "linecolor": "white",
            "ticks": ""
           },
           "baxis": {
            "gridcolor": "white",
            "linecolor": "white",
            "ticks": ""
           },
           "bgcolor": "#E5ECF6",
           "caxis": {
            "gridcolor": "white",
            "linecolor": "white",
            "ticks": ""
           }
          },
          "title": {
           "x": 0.05
          },
          "xaxis": {
           "automargin": true,
           "gridcolor": "white",
           "linecolor": "white",
           "ticks": "",
           "title": {
            "standoff": 15
           },
           "zerolinecolor": "white",
           "zerolinewidth": 2
          },
          "yaxis": {
           "automargin": true,
           "gridcolor": "white",
           "linecolor": "white",
           "ticks": "",
           "title": {
            "standoff": 15
           },
           "zerolinecolor": "white",
           "zerolinewidth": 2
          }
         }
        },
        "xaxis": {
         "autorange": true,
         "range": [
          "2023-10-02 12:00",
          "2024-01-19 12:00"
         ],
         "rangebreaks": [
          {
           "bounds": [
            "sat",
            "mon"
           ]
          }
         ],
         "rangeslider": {
          "visible": false,
          "yaxis": {}
         },
         "type": "date"
        },
        "yaxis": {
         "autorange": true,
         "range": [
          214.29166666666666,
          408.4583333333333
         ]
        }
       }
      },
      "image/png": "[encoded data removed]",
      "text/html": [
       "<div>                            <div id=\"7a61c0b2-b281-4eeb-86c2-c6cdff6f7fa6\" class=\"plotly-graph-div\" style=\"height:525px; width:100%;\"></div>            <script type=\"text/javascript\">                require([\"plotly\"], function(Plotly) {                    window.PLOTLYENV=window.PLOTLYENV || {};                                    if (document.getElementById(\"7a61c0b2-b281-4eeb-86c2-c6cdff6f7fa6\")) {                    Plotly.newPlot(                        \"7a61c0b2-b281-4eeb-86c2-c6cdff6f7fa6\",                        [{\"close\":[253.8000030517578,247.64999389648438,247.85000610351562,247.25,235.9499969482422,244.4499969482422,246.14999389648438,255.60000610351562,257.6000061035156,255.85000610351562,257.1000061035156,254.9499969482422,262.25,260.25,247.10000610351562,238.5500030517578,234.14999389648438,238.75,241.89999389648438,238.75,243.10000610351562,242.0500030517578,243.75,248.4499969482422,254.4499969482422,252.64999389648438,251.4499969482422,248.8000030517578,259.04998779296875,258.25,255.5,252.35000610351562,256.3500061035156,265.3500061035156,264.54998779296875,260.3500061035156,264.3999938964844,263.45001220703125,263.0,273.70001220703125,267.45001220703125,271.70001220703125,290.79998779296875,300.8999938964844,305.8500061035156,297.1000061035156,296.0,293.70001220703125,291.1499938964844,292.3999938964844,290.5,293.29998779296875,294.6499938964844,274.79998779296875,279.8500061035156,286.54998779296875,307.3500061035156,307.95001220703125,309.8999938964844,309.5,331.3999938964844,334.79998779296875,332.3500061035156,365.54998779296875,386.8999938964844,387.8500061035156,386.79998779296875,380.3999938964844,375.95001220703125,370.6499938964844,374.79998779296875,391.70001220703125,376.95001220703125,376.0,374.04998779296875,373.04998779296875],\"high\":[256.8999938964844,257.8999938964844,252.0,248.60000610351562,241.35000610351562,247.39999389648438,250.0,262.1499938964844,260.0,261.29998779296875,264.79998779296875,262.1000061035156,268.0,271.20001220703125,262.20001220703125,251.6999969482422,236.89999389648438,244.8000030517578,245.0,244.6999969482422,246.39999389648438,245.25,247.60000610351562,253.0,257.0,256.45001220703125,260.0,251.89999389648438,262.0,264.25,261.8999938964844,259.0,258.45001220703125,269.0,274.25,267.70001220703125,265.6000061035156,269.95001220703125,266.8500061035156,275.79998779296875,278.79998779296875,274.0,294.0,307.0,312.3999938964844,310.5,300.3999938964844,298.25,295.0,299.20001220703125,295.0,294.6000061035156,297.8999938964844,297.6000061035156,283.0,288.0,308.0,313.79998779296875,311.0,312.0,339.5,338.8999938964844,335.3500061035156,365.54998779296875,394.0,398.75,396.8999938964844,387.5,392.0,381.0,379.95001220703125,393.5,388.75,381.0,381.45001220703125,381.5],\"low\":[240.10000610351562,244.39999389648438,245.5,245.5,234.1999969482422,237.0,243.10000610351562,246.10000610351562,252.5,254.25,254.10000610351562,252.5,252.10000610351562,258.0,246.8000030517578,237.10000610351562,224.0,236.0,235.1999969482422,237.60000610351562,236.14999389648438,240.8000030517578,242.35000610351562,244.75,248.0,251.10000610351562,250.0,248.0,248.10000610351562,257.20001220703125,254.14999389648438,250.0,252.5,257.6499938964844,262.1499938964844,258.04998779296875,258.20001220703125,262.5,261.29998779296875,250.0500030517578,265.04998779296875,268.6000061035156,268.3999938964844,300.0,301.0,292.04998779296875,293.1000061035156,291.54998779296875,288.1000061035156,291.3999938964844,287.0,288.1499938964844,291.20001220703125,271.95001220703125,266.20001220703125,280.1499938964844,288.1499938964844,302.20001220703125,302.5,305.0,309.5,326.04998779296875,328.5,332.8500061035156,368.8999938964844,373.0,383.0,369.0,373.6000061035156,369.0,370.29998779296875,372.1000061035156,375.0,358.1000061035156,370.0,370.45001220703125],\"open\":[240.10000610351562,254.0,249.0500030517578,248.4499969482422,240.14999389648438,238.5,246.60000610351562,247.0,254.60000610351562,258.8999938964844,258.70001220703125,262.0,255.39999389648438,263.8500061035156,261.6499938964844,249.89999389648438,234.9499969482422,236.75,239.60000610351562,244.0,236.1999969482422,244.3000030517578,243.39999389648438,244.75,249.60000610351562,255.75,253.6999969482422,250.0,249.1999969482422,261.5,259.3999938964844,254.0,253.1999969482422,257.8500061035156,267.0,266.0,261.5,265.70001220703125,265.3999938964844,265.45001220703125,275.0,268.6000061035156,272.79998779296875,307.0,302.6000061035156,307.29998779296875,298.20001220703125,297.5,295.0,294.5,293.8999938964844,292.0,293.75,295.5,274.45001220703125,281.54998779296875,288.1499938964844,306.3999938964844,309.45001220703125,311.0,310.8500061035156,332.6499938964844,334.8999938964844,334.04998779296875,370.5,390.0,390.79998779296875,382.0,386.0,375.95001220703125,373.6000061035156,375.20001220703125,383.75,377.0,376.70001220703125,378.0],\"x\":[\"2023-10-03T00:00:00\",\"2023-10-04T00:00:00\",\"2023-10-05T00:00:00\",\"2023-10-06T00:00:00\",\"2023-10-09T00:00:00\",\"2023-10-10T00:00:00\",\"2023-10-11T00:00:00\",\"2023-10-12T00:00:00\",\"2023-10-13T00:00:00\",\"2023-10-16T00:00:00\",\"2023-10-17T00:00:00\",\"2023-10-18T00:00:00\",\"2023-10-19T00:00:00\",\"2023-10-20T00:00:00\",\"2023-10-23T00:00:00\",\"2023-10-25T00:00:00\",\"2023-10-26T00:00:00\",\"2023-10-27T00:00:00\",\"2023-10-30T00:00:00\",\"2023-10-31T00:00:00\",\"2023-11-01T00:00:00\",\"2023-11-02T00:00:00\",\"2023-11-03T00:00:00\",\"2023-11-06T00:00:00\",\"2023-11-07T00:00:00\",\"2023-11-08T00:00:00\",\"2023-11-09T00:00:00\",\"2023-11-10T00:00:00\",\"2023-11-13T00:00:00\",\"2023-11-15T00:00:00\",\"2023-11-16T00:00:00\",\"2023-11-17T00:00:00\",\"2023-11-20T00:00:00\",\"2023-11-21T00:00:00\",\"2023-11-22T00:00:00\",\"2023-11-23T00:00:00\",\"2023-11-24T00:00:00\",\"2023-11-28T00:00:00\",\"2023-11-29T00:00:00\",\"2023-11-30T00:00:00\",\"2023-12-01T00:00:00\",\"2023-12-04T00:00:00\",\"2023-12-05T00:00:00\",\"2023-12-06T00:00:00\",\"2023-12-07T00:00:00\",\"2023-12-08T00:00:00\",\"2023-12-11T00:00:00\",\"2023-12-12T00:00:00\",\"2023-12-13T00:00:00\",\"2023-12-14T00:00:00\",\"2023-12-15T00:00:00\",\"2023-12-18T00:00:00\",\"2023-12-19T00:00:00\",\"2023-12-20T00:00:00\",\"2023-12-21T00:00:00\",\"2023-12-22T00:00:00\",\"2023-12-26T00:00:00\",\"2023-12-27T00:00:00\",\"2023-12-28T00:00:00\",\"2023-12-29T00:00:00\",\"2024-01-01T00:00:00\",\"2024-01-02T00:00:00\",\"2024-01-03T00:00:00\",\"2024-01-04T00:00:00\",\"2024-01-05T00:00:00\",\"2024-01-08T00:00:00\",\"2024-01-09T00:00:00\",\"2024-01-10T00:00:00\",\"2024-01-11T00:00:00\",\"2024-01-12T00:00:00\",\"2024-01-15T00:00:00\",\"2024-01-16T00:00:00\",\"2024-01-17T00:00:00\",\"2024-01-18T00:00:00\",\"2024-01-19T00:00:00\",\"2024-01-20T00:00:00\"],\"type\":\"candlestick\"}],                        {\"template\":{\"data\":{\"histogram2dcontour\":[{\"type\":\"histogram2dcontour\",\"colorbar\":{\"outlinewidth\":0,\"ticks\":\"\"},\"colorscale\":[[0.0,\"#0d0887\"],[0.1111111111111111,\"#46039f\"],[0.2222222222222222,\"#7201a8\"],[0.3333333333333333,\"#9c179e\"],[0.4444444444444444,\"#bd3786\"],[0.5555555555555556,\"#d8576b\"],[0.6666666666666666,\"#ed7953\"],[0.7777777777777778,\"#fb9f3a\"],[0.8888888888888888,\"#fdca26\"],[1.0,\"#f0f921\"]]}],\"choropleth\":[{\"type\":\"choropleth\",\"colorbar\":{\"outlinewidth\":0,\"ticks\":\"\"}}],\"histogram2d\":[{\"type\":\"histogram2d\",\"colorbar\":{\"outlinewidth\":0,\"ticks\":\"\"},\"colorscale\":[[0.0,\"#0d0887\"],[0.1111111111111111,\"#46039f\"],[0.2222222222222222,\"#7201a8\"],[0.3333333333333333,\"#9c179e\"],[0.4444444444444444,\"#bd3786\"],[0.5555555555555556,\"#d8576b\"],[0.6666666666666666,\"#ed7953\"],[0.7777777777777778,\"#fb9f3a\"],[0.8888888888888888,\"#fdca26\"],[1.0,\"#f0f921\"]]}],\"heatmap\":[{\"type\":\"heatmap\",\"colorbar\":{\"outlinewidth\":0,\"ticks\":\"\"},\"colorscale\":[[0.0,\"#0d0887\"],[0.1111111111111111,\"#46039f\"],[0.2222222222222222,\"#7201a8\"],[0.3333333333333333,\"#9c179e\"],[0.4444444444444444,\"#bd3786\"],[0.5555555555555556,\"#d8576b\"],[0.6666666666666666,\"#ed7953\"],[0.7777777777777778,\"#fb9f3a\"],[0.8888888888888888,\"#fdca26\"],[1.0,\"#f0f921\"]]}],\"heatmapgl\":[{\"type\":\"heatmapgl\",\"colorbar\":{\"outlinewidth\":0,\"ticks\":\"\"},\"colorscale\":[[0.0,\"#0d0887\"],[0.1111111111111111,\"#46039f\"],[0.2222222222222222,\"#7201a8\"],[0.3333333333333333,\"#9c179e\"],[0.4444444444444444,\"#bd3786\"],[0.5555555555555556,\"#d8576b\"],[0.6666666666666666,\"#ed7953\"],[0.7777777777777778,\"#fb9f3a\"],[0.8888888888888888,\"#fdca26\"],[1.0,\"#f0f921\"]]}],\"contourcarpet\":[{\"type\":\"contourcarpet\",\"colorbar\":{\"outlinewidth\":0,\"ticks\":\"\"}}],\"contour\":[{\"type\":\"contour\",\"colorbar\":{\"outlinewidth\":0,\"ticks\":\"\"},\"colorscale\":[[0.0,\"#0d0887\"],[0.1111111111111111,\"#46039f\"],[0.2222222222222222,\"#7201a8\"],[0.3333333333333333,\"#9c179e\"],[0.4444444444444444,\"#bd3786\"],[0.5555555555555556,\"#d8576b\"],[0.6666666666666666,\"#ed7953\"],[0.7777777777777778,\"#fb9f3a\"],[0.8888888888888888,\"#fdca26\"],[1.0,\"#f0f921\"]]}],\"surface\":[{\"type\":\"surface\",\"colorbar\":{\"outlinewidth\":0,\"ticks\":\"\"},\"colorscale\":[[0.0,\"#0d0887\"],[0.1111111111111111,\"#46039f\"],[0.2222222222222222,\"#7201a8\"],[0.3333333333333333,\"#9c179e\"],[0.4444444444444444,\"#bd3786\"],[0.5555555555555556,\"#d8576b\"],[0.6666666666666666,\"#ed7953\"],[0.7777777777777778,\"#fb9f3a\"],[0.8888888888888888,\"#fdca26\"],[1.0,\"#f0f921\"]]}],\"mesh3d\":[{\"type\":\"mesh3d\",\"colorbar\":{\"outlinewidth\":0,\"ticks\":\"\"}}],\"scatter\":[{\"fillpattern\":{\"fillmode\":\"overlay\",\"size\":10,\"solidity\":0.2},\"type\":\"scatter\"}],\"parcoords\":[{\"type\":\"parcoords\",\"line\":{\"colorbar\":{\"outlinewidth\":0,\"ticks\":\"\"}}}],\"scatterpolargl\":[{\"type\":\"scatterpolargl\",\"marker\":{\"colorbar\":{\"outlinewidth\":0,\"ticks\":\"\"}}}],\"bar\":[{\"error_x\":{\"color\":\"#2a3f5f\"},\"error_y\":{\"color\":\"#2a3f5f\"},\"marker\":{\"line\":{\"color\":\"#E5ECF6\",\"width\":0.5},\"pattern\":{\"fillmode\":\"overlay\",\"size\":10,\"solidity\":0.2}},\"type\":\"bar\"}],\"scattergeo\":[{\"type\":\"scattergeo\",\"marker\":{\"colorbar\":{\"outlinewidth\":0,\"ticks\":\"\"}}}],\"scatterpolar\":[{\"type\":\"scatterpolar\",\"marker\":{\"colorbar\":{\"outlinewidth\":0,\"ticks\":\"\"}}}],\"histogram\":[{\"marker\":{\"pattern\":{\"fillmode\":\"overlay\",\"size\":10,\"solidity\":0.2}},\"type\":\"histogram\"}],\"scattergl\":[{\"type\":\"scattergl\",\"marker\":{\"colorbar\":{\"outlinewidth\":0,\"ticks\":\"\"}}}],\"scatter3d\":[{\"type\":\"scatter3d\",\"line\":{\"colorbar\":{\"outlinewidth\":0,\"ticks\":\"\"}},\"marker\":{\"colorbar\":{\"outlinewidth\":0,\"ticks\":\"\"}}}],\"scattermapbox\":[{\"type\":\"scattermapbox\",\"marker\":{\"colorbar\":{\"outlinewidth\":0,\"ticks\":\"\"}}}],\"scatterternary\":[{\"type\":\"scatterternary\",\"marker\":{\"colorbar\":{\"outlinewidth\":0,\"ticks\":\"\"}}}],\"scattercarpet\":[{\"type\":\"scattercarpet\",\"marker\":{\"colorbar\":{\"outlinewidth\":0,\"ticks\":\"\"}}}],\"carpet\":[{\"aaxis\":{\"endlinecolor\":\"#2a3f5f\",\"gridcolor\":\"white\",\"linecolor\":\"white\",\"minorgridcolor\":\"white\",\"startlinecolor\":\"#2a3f5f\"},\"baxis\":{\"endlinecolor\":\"#2a3f5f\",\"gridcolor\":\"white\",\"linecolor\":\"white\",\"minorgridcolor\":\"white\",\"startlinecolor\":\"#2a3f5f\"},\"type\":\"carpet\"}],\"table\":[{\"cells\":{\"fill\":{\"color\":\"#EBF0F8\"},\"line\":{\"color\":\"white\"}},\"header\":{\"fill\":{\"color\":\"#C8D4E3\"},\"line\":{\"color\":\"white\"}},\"type\":\"table\"}],\"barpolar\":[{\"marker\":{\"line\":{\"color\":\"#E5ECF6\",\"width\":0.5},\"pattern\":{\"fillmode\":\"overlay\",\"size\":10,\"solidity\":0.2}},\"type\":\"barpolar\"}],\"pie\":[{\"automargin\":true,\"type\":\"pie\"}]},\"layout\":{\"autotypenumbers\":\"strict\",\"colorway\":[\"#636efa\",\"#EF553B\",\"#00cc96\",\"#ab63fa\",\"#FFA15A\",\"#19d3f3\",\"#FF6692\",\"#B6E880\",\"#FF97FF\",\"#FECB52\"],\"font\":{\"color\":\"#2a3f5f\"},\"hovermode\":\"closest\",\"hoverlabel\":{\"align\":\"left\"},\"paper_bgcolor\":\"white\",\"plot_bgcolor\":\"#E5ECF6\",\"polar\":{\"bgcolor\":\"#E5ECF6\",\"angularaxis\":{\"gridcolor\":\"white\",\"linecolor\":\"white\",\"ticks\":\"\"},\"radialaxis\":{\"gridcolor\":\"white\",\"linecolor\":\"white\",\"ticks\":\"\"}},\"ternary\":{\"bgcolor\":\"#E5ECF6\",\"aaxis\":{\"gridcolor\":\"white\",\"linecolor\":\"white\",\"ticks\":\"\"},\"baxis\":{\"gridcolor\":\"white\",\"linecolor\":\"white\",\"ticks\":\"\"},\"caxis\":{\"gridcolor\":\"white\",\"linecolor\":\"white\",\"ticks\":\"\"}},\"coloraxis\":{\"colorbar\":{\"outlinewidth\":0,\"ticks\":\"\"}},\"colorscale\":{\"sequential\":[[0.0,\"#0d0887\"],[0.1111111111111111,\"#46039f\"],[0.2222222222222222,\"#7201a8\"],[0.3333333333333333,\"#9c179e\"],[0.4444444444444444,\"#bd3786\"],[0.5555555555555556,\"#d8576b\"],[0.6666666666666666,\"#ed7953\"],[0.7777777777777778,\"#fb9f3a\"],[0.8888888888888888,\"#fdca26\"],[1.0,\"#f0f921\"]],\"sequentialminus\":[[0.0,\"#0d0887\"],[0.1111111111111111,\"#46039f\"],[0.2222222222222222,\"#7201a8\"],[0.3333333333333333,\"#9c179e\"],[0.4444444444444444,\"#bd3786\"],[0.5555555555555556,\"#d8576b\"],[0.6666666666666666,\"#ed7953\"],[0.7777777777777778,\"#fb9f3a\"],[0.8888888888888888,\"#fdca26\"],[1.0,\"#f0f921\"]],\"diverging\":[[0,\"#8e0152\"],[0.1,\"#c51b7d\"],[0.2,\"#de77ae\"],[0.3,\"#f1b6da\"],[0.4,\"#fde0ef\"],[0.5,\"#f7f7f7\"],[0.6,\"#e6f5d0\"],[0.7,\"#b8e186\"],[0.8,\"#7fbc41\"],[0.9,\"#4d9221\"],[1,\"#276419\"]]},\"xaxis\":{\"gridcolor\":\"white\",\"linecolor\":\"white\",\"ticks\":\"\",\"title\":{\"standoff\":15},\"zerolinecolor\":\"white\",\"automargin\":true,\"zerolinewidth\":2},\"yaxis\":{\"gridcolor\":\"white\",\"linecolor\":\"white\",\"ticks\":\"\",\"title\":{\"standoff\":15},\"zerolinecolor\":\"white\",\"automargin\":true,\"zerolinewidth\":2},\"scene\":{\"xaxis\":{\"backgroundcolor\":\"#E5ECF6\",\"gridcolor\":\"white\",\"linecolor\":\"white\",\"showbackground\":true,\"ticks\":\"\",\"zerolinecolor\":\"white\",\"gridwidth\":2},\"yaxis\":{\"backgroundcolor\":\"#E5ECF6\",\"gridcolor\":\"white\",\"linecolor\":\"white\",\"showbackground\":true,\"ticks\":\"\",\"zerolinecolor\":\"white\",\"gridwidth\":2},\"zaxis\":{\"backgroundcolor\":\"#E5ECF6\",\"gridcolor\":\"white\",\"linecolor\":\"white\",\"showbackground\":true,\"ticks\":\"\",\"zerolinecolor\":\"white\",\"gridwidth\":2}},\"shapedefaults\":{\"line\":{\"color\":\"#2a3f5f\"}},\"annotationdefaults\":{\"arrowcolor\":\"#2a3f5f\",\"arrowhead\":0,\"arrowwidth\":1},\"geo\":{\"bgcolor\":\"white\",\"landcolor\":\"#E5ECF6\",\"subunitcolor\":\"white\",\"showland\":true,\"showlakes\":true,\"lakecolor\":\"white\"},\"title\":{\"x\":0.05},\"mapbox\":{\"style\":\"light\"}}},\"xaxis\":{\"rangeslider\":{\"visible\":false},\"rangebreaks\":[{\"bounds\":[\"sat\",\"mon\"]}]}},                        {\"responsive\": true}                    ).then(function(){\n",
       "                            \n",
       "var gd = document.getElementById('7a61c0b2-b281-4eeb-86c2-c6cdff6f7fa6');\n",
       "var x = new MutationObserver(function (mutations, observer) {{\n",
       "        var display = window.getComputedStyle(gd).display;\n",
       "        if (!display || display === 'none') {{\n",
       "            console.log([gd, 'removed!']);\n",
       "            Plotly.purge(gd);\n",
       "            observer.disconnect();\n",
       "        }}\n",
       "}});\n",
       "\n",
       "// Listen for the removal of the full notebook cells\n",
       "var notebookContainer = gd.closest('#notebook-container');\n",
       "if (notebookContainer) {{\n",
       "    x.observe(notebookContainer, {childList: true});\n",
       "}}\n",
       "\n",
       "// Listen for the clearing of the current output cell\n",
       "var outputEl = gd.closest('.output');\n",
       "if (outputEl) {{\n",
       "    x.observe(outputEl, {childList: true});\n",
       "}}\n",
       "\n",
       "                        })                };                });            </script>        </div>"
      ]
     },
     "metadata": {},
     "output_type": "display_data"
    }
   ],
   "source": [
    "# hide weekends\n",
    "fig.update_xaxes(rangebreaks=[dict(bounds=[\"sat\", \"mon\"])])"
   ]
  },
  {
   "cell_type": "code",
   "execution_count": 14,
   "id": "84a3d114-1cb2-4e31-b3a9-efc7bf66703a",
   "metadata": {},
   "outputs": [
    {
     "data": {
      "application/vnd.plotly.v1+json": {
       "config": {
        "plotlyServerURL": "https://plot.ly"
       },
       "data": [
        {
         "close": [
          253.8000030517578,
          247.64999389648438,
          247.85000610351562,
          247.25,
          235.9499969482422,
          244.4499969482422,
          246.14999389648438,
          255.60000610351562,
          257.6000061035156,
          255.85000610351562,
          257.1000061035156,
          254.9499969482422,
          262.25,
          260.25,
          247.10000610351562,
          238.5500030517578,
          234.14999389648438,
          238.75,
          241.89999389648438,
          238.75,
          243.10000610351562,
          242.0500030517578,
          243.75,
          248.4499969482422,
          254.4499969482422,
          252.64999389648438,
          251.4499969482422,
          248.8000030517578,
          259.04998779296875,
          258.25,
          255.5,
          252.35000610351562,
          256.3500061035156,
          265.3500061035156,
          264.54998779296875,
          260.3500061035156,
          264.3999938964844,
          263.45001220703125,
          263,
          273.70001220703125,
          267.45001220703125,
          271.70001220703125,
          290.79998779296875,
          300.8999938964844,
          305.8500061035156,
          297.1000061035156,
          296,
          293.70001220703125,
          291.1499938964844,
          292.3999938964844,
          290.5,
          293.29998779296875,
          294.6499938964844,
          274.79998779296875,
          279.8500061035156,
          286.54998779296875,
          307.3500061035156,
          307.95001220703125,
          309.8999938964844,
          309.5,
          331.3999938964844,
          334.79998779296875,
          332.3500061035156,
          365.54998779296875,
          386.8999938964844,
          387.8500061035156,
          386.79998779296875,
          380.3999938964844,
          375.95001220703125,
          370.6499938964844,
          374.79998779296875,
          391.70001220703125,
          376.95001220703125,
          376,
          374.04998779296875,
          373.04998779296875
         ],
         "high": [
          256.8999938964844,
          257.8999938964844,
          252,
          248.60000610351562,
          241.35000610351562,
          247.39999389648438,
          250,
          262.1499938964844,
          260,
          261.29998779296875,
          264.79998779296875,
          262.1000061035156,
          268,
          271.20001220703125,
          262.20001220703125,
          251.6999969482422,
          236.89999389648438,
          244.8000030517578,
          245,
          244.6999969482422,
          246.39999389648438,
          245.25,
          247.60000610351562,
          253,
          257,
          256.45001220703125,
          260,
          251.89999389648438,
          262,
          264.25,
          261.8999938964844,
          259,
          258.45001220703125,
          269,
          274.25,
          267.70001220703125,
          265.6000061035156,
          269.95001220703125,
          266.8500061035156,
          275.79998779296875,
          278.79998779296875,
          274,
          294,
          307,
          312.3999938964844,
          310.5,
          300.3999938964844,
          298.25,
          295,
          299.20001220703125,
          295,
          294.6000061035156,
          297.8999938964844,
          297.6000061035156,
          283,
          288,
          308,
          313.79998779296875,
          311,
          312,
          339.5,
          338.8999938964844,
          335.3500061035156,
          365.54998779296875,
          394,
          398.75,
          396.8999938964844,
          387.5,
          392,
          381,
          379.95001220703125,
          393.5,
          388.75,
          381,
          381.45001220703125,
          381.5
         ],
         "low": [
          240.10000610351562,
          244.39999389648438,
          245.5,
          245.5,
          234.1999969482422,
          237,
          243.10000610351562,
          246.10000610351562,
          252.5,
          254.25,
          254.10000610351562,
          252.5,
          252.10000610351562,
          258,
          246.8000030517578,
          237.10000610351562,
          224,
          236,
          235.1999969482422,
          237.60000610351562,
          236.14999389648438,
          240.8000030517578,
          242.35000610351562,
          244.75,
          248,
          251.10000610351562,
          250,
          248,
          248.10000610351562,
          257.20001220703125,
          254.14999389648438,
          250,
          252.5,
          257.6499938964844,
          262.1499938964844,
          258.04998779296875,
          258.20001220703125,
          262.5,
          261.29998779296875,
          250.0500030517578,
          265.04998779296875,
          268.6000061035156,
          268.3999938964844,
          300,
          301,
          292.04998779296875,
          293.1000061035156,
          291.54998779296875,
          288.1000061035156,
          291.3999938964844,
          287,
          288.1499938964844,
          291.20001220703125,
          271.95001220703125,
          266.20001220703125,
          280.1499938964844,
          288.1499938964844,
          302.20001220703125,
          302.5,
          305,
          309.5,
          326.04998779296875,
          328.5,
          332.8500061035156,
          368.8999938964844,
          373,
          383,
          369,
          373.6000061035156,
          369,
          370.29998779296875,
          372.1000061035156,
          375,
          358.1000061035156,
          370,
          370.45001220703125
         ],
         "open": [
          240.10000610351562,
          254,
          249.0500030517578,
          248.4499969482422,
          240.14999389648438,
          238.5,
          246.60000610351562,
          247,
          254.60000610351562,
          258.8999938964844,
          258.70001220703125,
          262,
          255.39999389648438,
          263.8500061035156,
          261.6499938964844,
          249.89999389648438,
          234.9499969482422,
          236.75,
          239.60000610351562,
          244,
          236.1999969482422,
          244.3000030517578,
          243.39999389648438,
          244.75,
          249.60000610351562,
          255.75,
          253.6999969482422,
          250,
          249.1999969482422,
          261.5,
          259.3999938964844,
          254,
          253.1999969482422,
          257.8500061035156,
          267,
          266,
          261.5,
          265.70001220703125,
          265.3999938964844,
          265.45001220703125,
          275,
          268.6000061035156,
          272.79998779296875,
          307,
          302.6000061035156,
          307.29998779296875,
          298.20001220703125,
          297.5,
          295,
          294.5,
          293.8999938964844,
          292,
          293.75,
          295.5,
          274.45001220703125,
          281.54998779296875,
          288.1499938964844,
          306.3999938964844,
          309.45001220703125,
          311,
          310.8500061035156,
          332.6499938964844,
          334.8999938964844,
          334.04998779296875,
          370.5,
          390,
          390.79998779296875,
          382,
          386,
          375.95001220703125,
          373.6000061035156,
          375.20001220703125,
          383.75,
          377,
          376.70001220703125,
          378
         ],
         "type": "candlestick",
         "x": [
          "2023-10-03T00:00:00",
          "2023-10-04T00:00:00",
          "2023-10-05T00:00:00",
          "2023-10-06T00:00:00",
          "2023-10-09T00:00:00",
          "2023-10-10T00:00:00",
          "2023-10-11T00:00:00",
          "2023-10-12T00:00:00",
          "2023-10-13T00:00:00",
          "2023-10-16T00:00:00",
          "2023-10-17T00:00:00",
          "2023-10-18T00:00:00",
          "2023-10-19T00:00:00",
          "2023-10-20T00:00:00",
          "2023-10-23T00:00:00",
          "2023-10-25T00:00:00",
          "2023-10-26T00:00:00",
          "2023-10-27T00:00:00",
          "2023-10-30T00:00:00",
          "2023-10-31T00:00:00",
          "2023-11-01T00:00:00",
          "2023-11-02T00:00:00",
          "2023-11-03T00:00:00",
          "2023-11-06T00:00:00",
          "2023-11-07T00:00:00",
          "2023-11-08T00:00:00",
          "2023-11-09T00:00:00",
          "2023-11-10T00:00:00",
          "2023-11-13T00:00:00",
          "2023-11-15T00:00:00",
          "2023-11-16T00:00:00",
          "2023-11-17T00:00:00",
          "2023-11-20T00:00:00",
          "2023-11-21T00:00:00",
          "2023-11-22T00:00:00",
          "2023-11-23T00:00:00",
          "2023-11-24T00:00:00",
          "2023-11-28T00:00:00",
          "2023-11-29T00:00:00",
          "2023-11-30T00:00:00",
          "2023-12-01T00:00:00",
          "2023-12-04T00:00:00",
          "2023-12-05T00:00:00",
          "2023-12-06T00:00:00",
          "2023-12-07T00:00:00",
          "2023-12-08T00:00:00",
          "2023-12-11T00:00:00",
          "2023-12-12T00:00:00",
          "2023-12-13T00:00:00",
          "2023-12-14T00:00:00",
          "2023-12-15T00:00:00",
          "2023-12-18T00:00:00",
          "2023-12-19T00:00:00",
          "2023-12-20T00:00:00",
          "2023-12-21T00:00:00",
          "2023-12-22T00:00:00",
          "2023-12-26T00:00:00",
          "2023-12-27T00:00:00",
          "2023-12-28T00:00:00",
          "2023-12-29T00:00:00",
          "2024-01-01T00:00:00",
          "2024-01-02T00:00:00",
          "2024-01-03T00:00:00",
          "2024-01-04T00:00:00",
          "2024-01-05T00:00:00",
          "2024-01-08T00:00:00",
          "2024-01-09T00:00:00",
          "2024-01-10T00:00:00",
          "2024-01-11T00:00:00",
          "2024-01-12T00:00:00",
          "2024-01-15T00:00:00",
          "2024-01-16T00:00:00",
          "2024-01-17T00:00:00",
          "2024-01-18T00:00:00",
          "2024-01-19T00:00:00",
          "2024-01-20T00:00:00"
         ]
        }
       ],
       "layout": {
        "autosize": true,
        "template": {
         "data": {
          "bar": [
           {
            "error_x": {
             "color": "#2a3f5f"
            },
            "error_y": {
             "color": "#2a3f5f"
            },
            "marker": {
             "line": {
              "color": "#E5ECF6",
              "width": 0.5
             },
             "pattern": {
              "fillmode": "overlay",
              "size": 10,
              "solidity": 0.2
             }
            },
            "type": "bar"
           }
          ],
          "barpolar": [
           {
            "marker": {
             "line": {
              "color": "#E5ECF6",
              "width": 0.5
             },
             "pattern": {
              "fillmode": "overlay",
              "size": 10,
              "solidity": 0.2
             }
            },
            "type": "barpolar"
           }
          ],
          "carpet": [
           {
            "aaxis": {
             "endlinecolor": "#2a3f5f",
             "gridcolor": "white",
             "linecolor": "white",
             "minorgridcolor": "white",
             "startlinecolor": "#2a3f5f"
            },
            "baxis": {
             "endlinecolor": "#2a3f5f",
             "gridcolor": "white",
             "linecolor": "white",
             "minorgridcolor": "white",
             "startlinecolor": "#2a3f5f"
            },
            "type": "carpet"
           }
          ],
          "choropleth": [
           {
            "colorbar": {
             "outlinewidth": 0,
             "ticks": ""
            },
            "type": "choropleth"
           }
          ],
          "contour": [
           {
            "colorbar": {
             "outlinewidth": 0,
             "ticks": ""
            },
            "colorscale": [
             [
              0,
              "#0d0887"
             ],
             [
              0.1111111111111111,
              "#46039f"
             ],
             [
              0.2222222222222222,
              "#7201a8"
             ],
             [
              0.3333333333333333,
              "#9c179e"
             ],
             [
              0.4444444444444444,
              "#bd3786"
             ],
             [
              0.5555555555555556,
              "#d8576b"
             ],
             [
              0.6666666666666666,
              "#ed7953"
             ],
             [
              0.7777777777777778,
              "#fb9f3a"
             ],
             [
              0.8888888888888888,
              "#fdca26"
             ],
             [
              1,
              "#f0f921"
             ]
            ],
            "type": "contour"
           }
          ],
          "contourcarpet": [
           {
            "colorbar": {
             "outlinewidth": 0,
             "ticks": ""
            },
            "type": "contourcarpet"
           }
          ],
          "heatmap": [
           {
            "colorbar": {
             "outlinewidth": 0,
             "ticks": ""
            },
            "colorscale": [
             [
              0,
              "#0d0887"
             ],
             [
              0.1111111111111111,
              "#46039f"
             ],
             [
              0.2222222222222222,
              "#7201a8"
             ],
             [
              0.3333333333333333,
              "#9c179e"
             ],
             [
              0.4444444444444444,
              "#bd3786"
             ],
             [
              0.5555555555555556,
              "#d8576b"
             ],
             [
              0.6666666666666666,
              "#ed7953"
             ],
             [
              0.7777777777777778,
              "#fb9f3a"
             ],
             [
              0.8888888888888888,
              "#fdca26"
             ],
             [
              1,
              "#f0f921"
             ]
            ],
            "type": "heatmap"
           }
          ],
          "heatmapgl": [
           {
            "colorbar": {
             "outlinewidth": 0,
             "ticks": ""
            },
            "colorscale": [
             [
              0,
              "#0d0887"
             ],
             [
              0.1111111111111111,
              "#46039f"
             ],
             [
              0.2222222222222222,
              "#7201a8"
             ],
             [
              0.3333333333333333,
              "#9c179e"
             ],
             [
              0.4444444444444444,
              "#bd3786"
             ],
             [
              0.5555555555555556,
              "#d8576b"
             ],
             [
              0.6666666666666666,
              "#ed7953"
             ],
             [
              0.7777777777777778,
              "#fb9f3a"
             ],
             [
              0.8888888888888888,
              "#fdca26"
             ],
             [
              1,
              "#f0f921"
             ]
            ],
            "type": "heatmapgl"
           }
          ],
          "histogram": [
           {
            "marker": {
             "pattern": {
              "fillmode": "overlay",
              "size": 10,
              "solidity": 0.2
             }
            },
            "type": "histogram"
           }
          ],
          "histogram2d": [
           {
            "colorbar": {
             "outlinewidth": 0,
             "ticks": ""
            },
            "colorscale": [
             [
              0,
              "#0d0887"
             ],
             [
              0.1111111111111111,
              "#46039f"
             ],
             [
              0.2222222222222222,
              "#7201a8"
             ],
             [
              0.3333333333333333,
              "#9c179e"
             ],
             [
              0.4444444444444444,
              "#bd3786"
             ],
             [
              0.5555555555555556,
              "#d8576b"
             ],
             [
              0.6666666666666666,
              "#ed7953"
             ],
             [
              0.7777777777777778,
              "#fb9f3a"
             ],
             [
              0.8888888888888888,
              "#fdca26"
             ],
             [
              1,
              "#f0f921"
             ]
            ],
            "type": "histogram2d"
           }
          ],
          "histogram2dcontour": [
           {
            "colorbar": {
             "outlinewidth": 0,
             "ticks": ""
            },
            "colorscale": [
             [
              0,
              "#0d0887"
             ],
             [
              0.1111111111111111,
              "#46039f"
             ],
             [
              0.2222222222222222,
              "#7201a8"
             ],
             [
              0.3333333333333333,
              "#9c179e"
             ],
             [
              0.4444444444444444,
              "#bd3786"
             ],
             [
              0.5555555555555556,
              "#d8576b"
             ],
             [
              0.6666666666666666,
              "#ed7953"
             ],
             [
              0.7777777777777778,
              "#fb9f3a"
             ],
             [
              0.8888888888888888,
              "#fdca26"
             ],
             [
              1,
              "#f0f921"
             ]
            ],
            "type": "histogram2dcontour"
           }
          ],
          "mesh3d": [
           {
            "colorbar": {
             "outlinewidth": 0,
             "ticks": ""
            },
            "type": "mesh3d"
           }
          ],
          "parcoords": [
           {
            "line": {
             "colorbar": {
              "outlinewidth": 0,
              "ticks": ""
             }
            },
            "type": "parcoords"
           }
          ],
          "pie": [
           {
            "automargin": true,
            "type": "pie"
           }
          ],
          "scatter": [
           {
            "fillpattern": {
             "fillmode": "overlay",
             "size": 10,
             "solidity": 0.2
            },
            "type": "scatter"
           }
          ],
          "scatter3d": [
           {
            "line": {
             "colorbar": {
              "outlinewidth": 0,
              "ticks": ""
             }
            },
            "marker": {
             "colorbar": {
              "outlinewidth": 0,
              "ticks": ""
             }
            },
            "type": "scatter3d"
           }
          ],
          "scattercarpet": [
           {
            "marker": {
             "colorbar": {
              "outlinewidth": 0,
              "ticks": ""
             }
            },
            "type": "scattercarpet"
           }
          ],
          "scattergeo": [
           {
            "marker": {
             "colorbar": {
              "outlinewidth": 0,
              "ticks": ""
             }
            },
            "type": "scattergeo"
           }
          ],
          "scattergl": [
           {
            "marker": {
             "colorbar": {
              "outlinewidth": 0,
              "ticks": ""
             }
            },
            "type": "scattergl"
           }
          ],
          "scattermapbox": [
           {
            "marker": {
             "colorbar": {
              "outlinewidth": 0,
              "ticks": ""
             }
            },
            "type": "scattermapbox"
           }
          ],
          "scatterpolar": [
           {
            "marker": {
             "colorbar": {
              "outlinewidth": 0,
              "ticks": ""
             }
            },
            "type": "scatterpolar"
           }
          ],
          "scatterpolargl": [
           {
            "marker": {
             "colorbar": {
              "outlinewidth": 0,
              "ticks": ""
             }
            },
            "type": "scatterpolargl"
           }
          ],
          "scatterternary": [
           {
            "marker": {
             "colorbar": {
              "outlinewidth": 0,
              "ticks": ""
             }
            },
            "type": "scatterternary"
           }
          ],
          "surface": [
           {
            "colorbar": {
             "outlinewidth": 0,
             "ticks": ""
            },
            "colorscale": [
             [
              0,
              "#0d0887"
             ],
             [
              0.1111111111111111,
              "#46039f"
             ],
             [
              0.2222222222222222,
              "#7201a8"
             ],
             [
              0.3333333333333333,
              "#9c179e"
             ],
             [
              0.4444444444444444,
              "#bd3786"
             ],
             [
              0.5555555555555556,
              "#d8576b"
             ],
             [
              0.6666666666666666,
              "#ed7953"
             ],
             [
              0.7777777777777778,
              "#fb9f3a"
             ],
             [
              0.8888888888888888,
              "#fdca26"
             ],
             [
              1,
              "#f0f921"
             ]
            ],
            "type": "surface"
           }
          ],
          "table": [
           {
            "cells": {
             "fill": {
              "color": "#EBF0F8"
             },
             "line": {
              "color": "white"
             }
            },
            "header": {
             "fill": {
              "color": "#C8D4E3"
             },
             "line": {
              "color": "white"
             }
            },
            "type": "table"
           }
          ]
         },
         "layout": {
          "annotationdefaults": {
           "arrowcolor": "#2a3f5f",
           "arrowhead": 0,
           "arrowwidth": 1
          },
          "autotypenumbers": "strict",
          "coloraxis": {
           "colorbar": {
            "outlinewidth": 0,
            "ticks": ""
           }
          },
          "colorscale": {
           "diverging": [
            [
             0,
             "#8e0152"
            ],
            [
             0.1,
             "#c51b7d"
            ],
            [
             0.2,
             "#de77ae"
            ],
            [
             0.3,
             "#f1b6da"
            ],
            [
             0.4,
             "#fde0ef"
            ],
            [
             0.5,
             "#f7f7f7"
            ],
            [
             0.6,
             "#e6f5d0"
            ],
            [
             0.7,
             "#b8e186"
            ],
            [
             0.8,
             "#7fbc41"
            ],
            [
             0.9,
             "#4d9221"
            ],
            [
             1,
             "#276419"
            ]
           ],
           "sequential": [
            [
             0,
             "#0d0887"
            ],
            [
             0.1111111111111111,
             "#46039f"
            ],
            [
             0.2222222222222222,
             "#7201a8"
            ],
            [
             0.3333333333333333,
             "#9c179e"
            ],
            [
             0.4444444444444444,
             "#bd3786"
            ],
            [
             0.5555555555555556,
             "#d8576b"
            ],
            [
             0.6666666666666666,
             "#ed7953"
            ],
            [
             0.7777777777777778,
             "#fb9f3a"
            ],
            [
             0.8888888888888888,
             "#fdca26"
            ],
            [
             1,
             "#f0f921"
            ]
           ],
           "sequentialminus": [
            [
             0,
             "#0d0887"
            ],
            [
             0.1111111111111111,
             "#46039f"
            ],
            [
             0.2222222222222222,
             "#7201a8"
            ],
            [
             0.3333333333333333,
             "#9c179e"
            ],
            [
             0.4444444444444444,
             "#bd3786"
            ],
            [
             0.5555555555555556,
             "#d8576b"
            ],
            [
             0.6666666666666666,
             "#ed7953"
            ],
            [
             0.7777777777777778,
             "#fb9f3a"
            ],
            [
             0.8888888888888888,
             "#fdca26"
            ],
            [
             1,
             "#f0f921"
            ]
           ]
          },
          "colorway": [
           "#636efa",
           "#EF553B",
           "#00cc96",
           "#ab63fa",
           "#FFA15A",
           "#19d3f3",
           "#FF6692",
           "#B6E880",
           "#FF97FF",
           "#FECB52"
          ],
          "font": {
           "color": "#2a3f5f"
          },
          "geo": {
           "bgcolor": "white",
           "lakecolor": "white",
           "landcolor": "#E5ECF6",
           "showlakes": true,
           "showland": true,
           "subunitcolor": "white"
          },
          "hoverlabel": {
           "align": "left"
          },
          "hovermode": "closest",
          "mapbox": {
           "style": "light"
          },
          "paper_bgcolor": "white",
          "plot_bgcolor": "#E5ECF6",
          "polar": {
           "angularaxis": {
            "gridcolor": "white",
            "linecolor": "white",
            "ticks": ""
           },
           "bgcolor": "#E5ECF6",
           "radialaxis": {
            "gridcolor": "white",
            "linecolor": "white",
            "ticks": ""
           }
          },
          "scene": {
           "xaxis": {
            "backgroundcolor": "#E5ECF6",
            "gridcolor": "white",
            "gridwidth": 2,
            "linecolor": "white",
            "showbackground": true,
            "ticks": "",
            "zerolinecolor": "white"
           },
           "yaxis": {
            "backgroundcolor": "#E5ECF6",
            "gridcolor": "white",
            "gridwidth": 2,
            "linecolor": "white",
            "showbackground": true,
            "ticks": "",
            "zerolinecolor": "white"
           },
           "zaxis": {
            "backgroundcolor": "#E5ECF6",
            "gridcolor": "white",
            "gridwidth": 2,
            "linecolor": "white",
            "showbackground": true,
            "ticks": "",
            "zerolinecolor": "white"
           }
          },
          "shapedefaults": {
           "line": {
            "color": "#2a3f5f"
           }
          },
          "ternary": {
           "aaxis": {
            "gridcolor": "white",
            "linecolor": "white",
            "ticks": ""
           },
           "baxis": {
            "gridcolor": "white",
            "linecolor": "white",
            "ticks": ""
           },
           "bgcolor": "#E5ECF6",
           "caxis": {
            "gridcolor": "white",
            "linecolor": "white",
            "ticks": ""
           }
          },
          "title": {
           "x": 0.05
          },
          "xaxis": {
           "automargin": true,
           "gridcolor": "white",
           "linecolor": "white",
           "ticks": "",
           "title": {
            "standoff": 15
           },
           "zerolinecolor": "white",
           "zerolinewidth": 2
          },
          "yaxis": {
           "automargin": true,
           "gridcolor": "white",
           "linecolor": "white",
           "ticks": "",
           "title": {
            "standoff": 15
           },
           "zerolinecolor": "white",
           "zerolinewidth": 2
          }
         }
        },
        "xaxis": {
         "autorange": true,
         "range": [
          "2023-10-02 12:00",
          "2024-01-19 12:00"
         ],
         "rangebreaks": [
          {
           "bounds": [
            "sat",
            "mon"
           ],
           "values": [
            "2023-10-07",
            "2023-10-08",
            "2023-10-14",
            "2023-10-15",
            "2023-10-21",
            "2023-10-22",
            "2023-10-24",
            "2023-10-28",
            "2023-10-29",
            "2023-11-04",
            "2023-11-05",
            "2023-11-11",
            "2023-11-12",
            "2023-11-14",
            "2023-11-18",
            "2023-11-19",
            "2023-11-25",
            "2023-11-26",
            "2023-11-27",
            "2023-12-02",
            "2023-12-03",
            "2023-12-09",
            "2023-12-10",
            "2023-12-16",
            "2023-12-17",
            "2023-12-23",
            "2023-12-24",
            "2023-12-25",
            "2023-12-30",
            "2023-12-31",
            "2024-01-06",
            "2024-01-07",
            "2024-01-13",
            "2024-01-14"
           ]
          }
         ],
         "rangeslider": {
          "visible": false,
          "yaxis": {}
         },
         "type": "date"
        },
        "yaxis": {
         "autorange": true,
         "range": [
          214.29166666666666,
          408.4583333333333
         ]
        }
       }
      },
      "image/png": "[encoded data removed]",
      "text/html": [
       "<div>                            <div id=\"4861701a-6e1d-4da0-a927-73f39d832d4a\" class=\"plotly-graph-div\" style=\"height:525px; width:100%;\"></div>            <script type=\"text/javascript\">                require([\"plotly\"], function(Plotly) {                    window.PLOTLYENV=window.PLOTLYENV || {};                                    if (document.getElementById(\"4861701a-6e1d-4da0-a927-73f39d832d4a\")) {                    Plotly.newPlot(                        \"4861701a-6e1d-4da0-a927-73f39d832d4a\",                        [{\"close\":[253.8000030517578,247.64999389648438,247.85000610351562,247.25,235.9499969482422,244.4499969482422,246.14999389648438,255.60000610351562,257.6000061035156,255.85000610351562,257.1000061035156,254.9499969482422,262.25,260.25,247.10000610351562,238.5500030517578,234.14999389648438,238.75,241.89999389648438,238.75,243.10000610351562,242.0500030517578,243.75,248.4499969482422,254.4499969482422,252.64999389648438,251.4499969482422,248.8000030517578,259.04998779296875,258.25,255.5,252.35000610351562,256.3500061035156,265.3500061035156,264.54998779296875,260.3500061035156,264.3999938964844,263.45001220703125,263.0,273.70001220703125,267.45001220703125,271.70001220703125,290.79998779296875,300.8999938964844,305.8500061035156,297.1000061035156,296.0,293.70001220703125,291.1499938964844,292.3999938964844,290.5,293.29998779296875,294.6499938964844,274.79998779296875,279.8500061035156,286.54998779296875,307.3500061035156,307.95001220703125,309.8999938964844,309.5,331.3999938964844,334.79998779296875,332.3500061035156,365.54998779296875,386.8999938964844,387.8500061035156,386.79998779296875,380.3999938964844,375.95001220703125,370.6499938964844,374.79998779296875,391.70001220703125,376.95001220703125,376.0,374.04998779296875,373.04998779296875],\"high\":[256.8999938964844,257.8999938964844,252.0,248.60000610351562,241.35000610351562,247.39999389648438,250.0,262.1499938964844,260.0,261.29998779296875,264.79998779296875,262.1000061035156,268.0,271.20001220703125,262.20001220703125,251.6999969482422,236.89999389648438,244.8000030517578,245.0,244.6999969482422,246.39999389648438,245.25,247.60000610351562,253.0,257.0,256.45001220703125,260.0,251.89999389648438,262.0,264.25,261.8999938964844,259.0,258.45001220703125,269.0,274.25,267.70001220703125,265.6000061035156,269.95001220703125,266.8500061035156,275.79998779296875,278.79998779296875,274.0,294.0,307.0,312.3999938964844,310.5,300.3999938964844,298.25,295.0,299.20001220703125,295.0,294.6000061035156,297.8999938964844,297.6000061035156,283.0,288.0,308.0,313.79998779296875,311.0,312.0,339.5,338.8999938964844,335.3500061035156,365.54998779296875,394.0,398.75,396.8999938964844,387.5,392.0,381.0,379.95001220703125,393.5,388.75,381.0,381.45001220703125,381.5],\"low\":[240.10000610351562,244.39999389648438,245.5,245.5,234.1999969482422,237.0,243.10000610351562,246.10000610351562,252.5,254.25,254.10000610351562,252.5,252.10000610351562,258.0,246.8000030517578,237.10000610351562,224.0,236.0,235.1999969482422,237.60000610351562,236.14999389648438,240.8000030517578,242.35000610351562,244.75,248.0,251.10000610351562,250.0,248.0,248.10000610351562,257.20001220703125,254.14999389648438,250.0,252.5,257.6499938964844,262.1499938964844,258.04998779296875,258.20001220703125,262.5,261.29998779296875,250.0500030517578,265.04998779296875,268.6000061035156,268.3999938964844,300.0,301.0,292.04998779296875,293.1000061035156,291.54998779296875,288.1000061035156,291.3999938964844,287.0,288.1499938964844,291.20001220703125,271.95001220703125,266.20001220703125,280.1499938964844,288.1499938964844,302.20001220703125,302.5,305.0,309.5,326.04998779296875,328.5,332.8500061035156,368.8999938964844,373.0,383.0,369.0,373.6000061035156,369.0,370.29998779296875,372.1000061035156,375.0,358.1000061035156,370.0,370.45001220703125],\"open\":[240.10000610351562,254.0,249.0500030517578,248.4499969482422,240.14999389648438,238.5,246.60000610351562,247.0,254.60000610351562,258.8999938964844,258.70001220703125,262.0,255.39999389648438,263.8500061035156,261.6499938964844,249.89999389648438,234.9499969482422,236.75,239.60000610351562,244.0,236.1999969482422,244.3000030517578,243.39999389648438,244.75,249.60000610351562,255.75,253.6999969482422,250.0,249.1999969482422,261.5,259.3999938964844,254.0,253.1999969482422,257.8500061035156,267.0,266.0,261.5,265.70001220703125,265.3999938964844,265.45001220703125,275.0,268.6000061035156,272.79998779296875,307.0,302.6000061035156,307.29998779296875,298.20001220703125,297.5,295.0,294.5,293.8999938964844,292.0,293.75,295.5,274.45001220703125,281.54998779296875,288.1499938964844,306.3999938964844,309.45001220703125,311.0,310.8500061035156,332.6499938964844,334.8999938964844,334.04998779296875,370.5,390.0,390.79998779296875,382.0,386.0,375.95001220703125,373.6000061035156,375.20001220703125,383.75,377.0,376.70001220703125,378.0],\"x\":[\"2023-10-03T00:00:00\",\"2023-10-04T00:00:00\",\"2023-10-05T00:00:00\",\"2023-10-06T00:00:00\",\"2023-10-09T00:00:00\",\"2023-10-10T00:00:00\",\"2023-10-11T00:00:00\",\"2023-10-12T00:00:00\",\"2023-10-13T00:00:00\",\"2023-10-16T00:00:00\",\"2023-10-17T00:00:00\",\"2023-10-18T00:00:00\",\"2023-10-19T00:00:00\",\"2023-10-20T00:00:00\",\"2023-10-23T00:00:00\",\"2023-10-25T00:00:00\",\"2023-10-26T00:00:00\",\"2023-10-27T00:00:00\",\"2023-10-30T00:00:00\",\"2023-10-31T00:00:00\",\"2023-11-01T00:00:00\",\"2023-11-02T00:00:00\",\"2023-11-03T00:00:00\",\"2023-11-06T00:00:00\",\"2023-11-07T00:00:00\",\"2023-11-08T00:00:00\",\"2023-11-09T00:00:00\",\"2023-11-10T00:00:00\",\"2023-11-13T00:00:00\",\"2023-11-15T00:00:00\",\"2023-11-16T00:00:00\",\"2023-11-17T00:00:00\",\"2023-11-20T00:00:00\",\"2023-11-21T00:00:00\",\"2023-11-22T00:00:00\",\"2023-11-23T00:00:00\",\"2023-11-24T00:00:00\",\"2023-11-28T00:00:00\",\"2023-11-29T00:00:00\",\"2023-11-30T00:00:00\",\"2023-12-01T00:00:00\",\"2023-12-04T00:00:00\",\"2023-12-05T00:00:00\",\"2023-12-06T00:00:00\",\"2023-12-07T00:00:00\",\"2023-12-08T00:00:00\",\"2023-12-11T00:00:00\",\"2023-12-12T00:00:00\",\"2023-12-13T00:00:00\",\"2023-12-14T00:00:00\",\"2023-12-15T00:00:00\",\"2023-12-18T00:00:00\",\"2023-12-19T00:00:00\",\"2023-12-20T00:00:00\",\"2023-12-21T00:00:00\",\"2023-12-22T00:00:00\",\"2023-12-26T00:00:00\",\"2023-12-27T00:00:00\",\"2023-12-28T00:00:00\",\"2023-12-29T00:00:00\",\"2024-01-01T00:00:00\",\"2024-01-02T00:00:00\",\"2024-01-03T00:00:00\",\"2024-01-04T00:00:00\",\"2024-01-05T00:00:00\",\"2024-01-08T00:00:00\",\"2024-01-09T00:00:00\",\"2024-01-10T00:00:00\",\"2024-01-11T00:00:00\",\"2024-01-12T00:00:00\",\"2024-01-15T00:00:00\",\"2024-01-16T00:00:00\",\"2024-01-17T00:00:00\",\"2024-01-18T00:00:00\",\"2024-01-19T00:00:00\",\"2024-01-20T00:00:00\"],\"type\":\"candlestick\"}],                        {\"template\":{\"data\":{\"histogram2dcontour\":[{\"type\":\"histogram2dcontour\",\"colorbar\":{\"outlinewidth\":0,\"ticks\":\"\"},\"colorscale\":[[0.0,\"#0d0887\"],[0.1111111111111111,\"#46039f\"],[0.2222222222222222,\"#7201a8\"],[0.3333333333333333,\"#9c179e\"],[0.4444444444444444,\"#bd3786\"],[0.5555555555555556,\"#d8576b\"],[0.6666666666666666,\"#ed7953\"],[0.7777777777777778,\"#fb9f3a\"],[0.8888888888888888,\"#fdca26\"],[1.0,\"#f0f921\"]]}],\"choropleth\":[{\"type\":\"choropleth\",\"colorbar\":{\"outlinewidth\":0,\"ticks\":\"\"}}],\"histogram2d\":[{\"type\":\"histogram2d\",\"colorbar\":{\"outlinewidth\":0,\"ticks\":\"\"},\"colorscale\":[[0.0,\"#0d0887\"],[0.1111111111111111,\"#46039f\"],[0.2222222222222222,\"#7201a8\"],[0.3333333333333333,\"#9c179e\"],[0.4444444444444444,\"#bd3786\"],[0.5555555555555556,\"#d8576b\"],[0.6666666666666666,\"#ed7953\"],[0.7777777777777778,\"#fb9f3a\"],[0.8888888888888888,\"#fdca26\"],[1.0,\"#f0f921\"]]}],\"heatmap\":[{\"type\":\"heatmap\",\"colorbar\":{\"outlinewidth\":0,\"ticks\":\"\"},\"colorscale\":[[0.0,\"#0d0887\"],[0.1111111111111111,\"#46039f\"],[0.2222222222222222,\"#7201a8\"],[0.3333333333333333,\"#9c179e\"],[0.4444444444444444,\"#bd3786\"],[0.5555555555555556,\"#d8576b\"],[0.6666666666666666,\"#ed7953\"],[0.7777777777777778,\"#fb9f3a\"],[0.8888888888888888,\"#fdca26\"],[1.0,\"#f0f921\"]]}],\"heatmapgl\":[{\"type\":\"heatmapgl\",\"colorbar\":{\"outlinewidth\":0,\"ticks\":\"\"},\"colorscale\":[[0.0,\"#0d0887\"],[0.1111111111111111,\"#46039f\"],[0.2222222222222222,\"#7201a8\"],[0.3333333333333333,\"#9c179e\"],[0.4444444444444444,\"#bd3786\"],[0.5555555555555556,\"#d8576b\"],[0.6666666666666666,\"#ed7953\"],[0.7777777777777778,\"#fb9f3a\"],[0.8888888888888888,\"#fdca26\"],[1.0,\"#f0f921\"]]}],\"contourcarpet\":[{\"type\":\"contourcarpet\",\"colorbar\":{\"outlinewidth\":0,\"ticks\":\"\"}}],\"contour\":[{\"type\":\"contour\",\"colorbar\":{\"outlinewidth\":0,\"ticks\":\"\"},\"colorscale\":[[0.0,\"#0d0887\"],[0.1111111111111111,\"#46039f\"],[0.2222222222222222,\"#7201a8\"],[0.3333333333333333,\"#9c179e\"],[0.4444444444444444,\"#bd3786\"],[0.5555555555555556,\"#d8576b\"],[0.6666666666666666,\"#ed7953\"],[0.7777777777777778,\"#fb9f3a\"],[0.8888888888888888,\"#fdca26\"],[1.0,\"#f0f921\"]]}],\"surface\":[{\"type\":\"surface\",\"colorbar\":{\"outlinewidth\":0,\"ticks\":\"\"},\"colorscale\":[[0.0,\"#0d0887\"],[0.1111111111111111,\"#46039f\"],[0.2222222222222222,\"#7201a8\"],[0.3333333333333333,\"#9c179e\"],[0.4444444444444444,\"#bd3786\"],[0.5555555555555556,\"#d8576b\"],[0.6666666666666666,\"#ed7953\"],[0.7777777777777778,\"#fb9f3a\"],[0.8888888888888888,\"#fdca26\"],[1.0,\"#f0f921\"]]}],\"mesh3d\":[{\"type\":\"mesh3d\",\"colorbar\":{\"outlinewidth\":0,\"ticks\":\"\"}}],\"scatter\":[{\"fillpattern\":{\"fillmode\":\"overlay\",\"size\":10,\"solidity\":0.2},\"type\":\"scatter\"}],\"parcoords\":[{\"type\":\"parcoords\",\"line\":{\"colorbar\":{\"outlinewidth\":0,\"ticks\":\"\"}}}],\"scatterpolargl\":[{\"type\":\"scatterpolargl\",\"marker\":{\"colorbar\":{\"outlinewidth\":0,\"ticks\":\"\"}}}],\"bar\":[{\"error_x\":{\"color\":\"#2a3f5f\"},\"error_y\":{\"color\":\"#2a3f5f\"},\"marker\":{\"line\":{\"color\":\"#E5ECF6\",\"width\":0.5},\"pattern\":{\"fillmode\":\"overlay\",\"size\":10,\"solidity\":0.2}},\"type\":\"bar\"}],\"scattergeo\":[{\"type\":\"scattergeo\",\"marker\":{\"colorbar\":{\"outlinewidth\":0,\"ticks\":\"\"}}}],\"scatterpolar\":[{\"type\":\"scatterpolar\",\"marker\":{\"colorbar\":{\"outlinewidth\":0,\"ticks\":\"\"}}}],\"histogram\":[{\"marker\":{\"pattern\":{\"fillmode\":\"overlay\",\"size\":10,\"solidity\":0.2}},\"type\":\"histogram\"}],\"scattergl\":[{\"type\":\"scattergl\",\"marker\":{\"colorbar\":{\"outlinewidth\":0,\"ticks\":\"\"}}}],\"scatter3d\":[{\"type\":\"scatter3d\",\"line\":{\"colorbar\":{\"outlinewidth\":0,\"ticks\":\"\"}},\"marker\":{\"colorbar\":{\"outlinewidth\":0,\"ticks\":\"\"}}}],\"scattermapbox\":[{\"type\":\"scattermapbox\",\"marker\":{\"colorbar\":{\"outlinewidth\":0,\"ticks\":\"\"}}}],\"scatterternary\":[{\"type\":\"scatterternary\",\"marker\":{\"colorbar\":{\"outlinewidth\":0,\"ticks\":\"\"}}}],\"scattercarpet\":[{\"type\":\"scattercarpet\",\"marker\":{\"colorbar\":{\"outlinewidth\":0,\"ticks\":\"\"}}}],\"carpet\":[{\"aaxis\":{\"endlinecolor\":\"#2a3f5f\",\"gridcolor\":\"white\",\"linecolor\":\"white\",\"minorgridcolor\":\"white\",\"startlinecolor\":\"#2a3f5f\"},\"baxis\":{\"endlinecolor\":\"#2a3f5f\",\"gridcolor\":\"white\",\"linecolor\":\"white\",\"minorgridcolor\":\"white\",\"startlinecolor\":\"#2a3f5f\"},\"type\":\"carpet\"}],\"table\":[{\"cells\":{\"fill\":{\"color\":\"#EBF0F8\"},\"line\":{\"color\":\"white\"}},\"header\":{\"fill\":{\"color\":\"#C8D4E3\"},\"line\":{\"color\":\"white\"}},\"type\":\"table\"}],\"barpolar\":[{\"marker\":{\"line\":{\"color\":\"#E5ECF6\",\"width\":0.5},\"pattern\":{\"fillmode\":\"overlay\",\"size\":10,\"solidity\":0.2}},\"type\":\"barpolar\"}],\"pie\":[{\"automargin\":true,\"type\":\"pie\"}]},\"layout\":{\"autotypenumbers\":\"strict\",\"colorway\":[\"#636efa\",\"#EF553B\",\"#00cc96\",\"#ab63fa\",\"#FFA15A\",\"#19d3f3\",\"#FF6692\",\"#B6E880\",\"#FF97FF\",\"#FECB52\"],\"font\":{\"color\":\"#2a3f5f\"},\"hovermode\":\"closest\",\"hoverlabel\":{\"align\":\"left\"},\"paper_bgcolor\":\"white\",\"plot_bgcolor\":\"#E5ECF6\",\"polar\":{\"bgcolor\":\"#E5ECF6\",\"angularaxis\":{\"gridcolor\":\"white\",\"linecolor\":\"white\",\"ticks\":\"\"},\"radialaxis\":{\"gridcolor\":\"white\",\"linecolor\":\"white\",\"ticks\":\"\"}},\"ternary\":{\"bgcolor\":\"#E5ECF6\",\"aaxis\":{\"gridcolor\":\"white\",\"linecolor\":\"white\",\"ticks\":\"\"},\"baxis\":{\"gridcolor\":\"white\",\"linecolor\":\"white\",\"ticks\":\"\"},\"caxis\":{\"gridcolor\":\"white\",\"linecolor\":\"white\",\"ticks\":\"\"}},\"coloraxis\":{\"colorbar\":{\"outlinewidth\":0,\"ticks\":\"\"}},\"colorscale\":{\"sequential\":[[0.0,\"#0d0887\"],[0.1111111111111111,\"#46039f\"],[0.2222222222222222,\"#7201a8\"],[0.3333333333333333,\"#9c179e\"],[0.4444444444444444,\"#bd3786\"],[0.5555555555555556,\"#d8576b\"],[0.6666666666666666,\"#ed7953\"],[0.7777777777777778,\"#fb9f3a\"],[0.8888888888888888,\"#fdca26\"],[1.0,\"#f0f921\"]],\"sequentialminus\":[[0.0,\"#0d0887\"],[0.1111111111111111,\"#46039f\"],[0.2222222222222222,\"#7201a8\"],[0.3333333333333333,\"#9c179e\"],[0.4444444444444444,\"#bd3786\"],[0.5555555555555556,\"#d8576b\"],[0.6666666666666666,\"#ed7953\"],[0.7777777777777778,\"#fb9f3a\"],[0.8888888888888888,\"#fdca26\"],[1.0,\"#f0f921\"]],\"diverging\":[[0,\"#8e0152\"],[0.1,\"#c51b7d\"],[0.2,\"#de77ae\"],[0.3,\"#f1b6da\"],[0.4,\"#fde0ef\"],[0.5,\"#f7f7f7\"],[0.6,\"#e6f5d0\"],[0.7,\"#b8e186\"],[0.8,\"#7fbc41\"],[0.9,\"#4d9221\"],[1,\"#276419\"]]},\"xaxis\":{\"gridcolor\":\"white\",\"linecolor\":\"white\",\"ticks\":\"\",\"title\":{\"standoff\":15},\"zerolinecolor\":\"white\",\"automargin\":true,\"zerolinewidth\":2},\"yaxis\":{\"gridcolor\":\"white\",\"linecolor\":\"white\",\"ticks\":\"\",\"title\":{\"standoff\":15},\"zerolinecolor\":\"white\",\"automargin\":true,\"zerolinewidth\":2},\"scene\":{\"xaxis\":{\"backgroundcolor\":\"#E5ECF6\",\"gridcolor\":\"white\",\"linecolor\":\"white\",\"showbackground\":true,\"ticks\":\"\",\"zerolinecolor\":\"white\",\"gridwidth\":2},\"yaxis\":{\"backgroundcolor\":\"#E5ECF6\",\"gridcolor\":\"white\",\"linecolor\":\"white\",\"showbackground\":true,\"ticks\":\"\",\"zerolinecolor\":\"white\",\"gridwidth\":2},\"zaxis\":{\"backgroundcolor\":\"#E5ECF6\",\"gridcolor\":\"white\",\"linecolor\":\"white\",\"showbackground\":true,\"ticks\":\"\",\"zerolinecolor\":\"white\",\"gridwidth\":2}},\"shapedefaults\":{\"line\":{\"color\":\"#2a3f5f\"}},\"annotationdefaults\":{\"arrowcolor\":\"#2a3f5f\",\"arrowhead\":0,\"arrowwidth\":1},\"geo\":{\"bgcolor\":\"white\",\"landcolor\":\"#E5ECF6\",\"subunitcolor\":\"white\",\"showland\":true,\"showlakes\":true,\"lakecolor\":\"white\"},\"title\":{\"x\":0.05},\"mapbox\":{\"style\":\"light\"}}},\"xaxis\":{\"rangeslider\":{\"visible\":false},\"rangebreaks\":[{\"bounds\":[\"sat\",\"mon\"],\"values\":[\"2023-10-07\",\"2023-10-08\",\"2023-10-14\",\"2023-10-15\",\"2023-10-21\",\"2023-10-22\",\"2023-10-24\",\"2023-10-28\",\"2023-10-29\",\"2023-11-04\",\"2023-11-05\",\"2023-11-11\",\"2023-11-12\",\"2023-11-14\",\"2023-11-18\",\"2023-11-19\",\"2023-11-25\",\"2023-11-26\",\"2023-11-27\",\"2023-12-02\",\"2023-12-03\",\"2023-12-09\",\"2023-12-10\",\"2023-12-16\",\"2023-12-17\",\"2023-12-23\",\"2023-12-24\",\"2023-12-25\",\"2023-12-30\",\"2023-12-31\",\"2024-01-06\",\"2024-01-07\",\"2024-01-13\",\"2024-01-14\"]}]}},                        {\"responsive\": true}                    ).then(function(){\n",
       "                            \n",
       "var gd = document.getElementById('4861701a-6e1d-4da0-a927-73f39d832d4a');\n",
       "var x = new MutationObserver(function (mutations, observer) {{\n",
       "        var display = window.getComputedStyle(gd).display;\n",
       "        if (!display || display === 'none') {{\n",
       "            console.log([gd, 'removed!']);\n",
       "            Plotly.purge(gd);\n",
       "            observer.disconnect();\n",
       "        }}\n",
       "}});\n",
       "\n",
       "// Listen for the removal of the full notebook cells\n",
       "var notebookContainer = gd.closest('#notebook-container');\n",
       "if (notebookContainer) {{\n",
       "    x.observe(notebookContainer, {childList: true});\n",
       "}}\n",
       "\n",
       "// Listen for the clearing of the current output cell\n",
       "var outputEl = gd.closest('.output');\n",
       "if (outputEl) {{\n",
       "    x.observe(outputEl, {childList: true});\n",
       "}}\n",
       "\n",
       "                        })                };                });            </script>        </div>"
      ]
     },
     "metadata": {},
     "output_type": "display_data"
    }
   ],
   "source": [
    "# removing all empty dates\n",
    "# build complete timeline from start date to end date\n",
    "dt_all = pd.date_range(start=df.index[0],end=df.index[-1])\n",
    "\n",
    "# retrieve the dates that ARE in the original datset\n",
    "dt_obs = [d.strftime(\"%Y-%m-%d\") for d in pd.to_datetime(df.index)]\n",
    "\n",
    "# define dates with missing values\n",
    "dt_breaks = [d for d in dt_all.strftime(\"%Y-%m-%d\").tolist() if not d in dt_obs]\n",
    "\n",
    "fig.update_xaxes(rangebreaks=[dict(values=dt_breaks)])\n"
   ]
  },
  {
   "cell_type": "markdown",
   "id": "9a2825e9-c666-4981-9367-6ca2a6dd19fe",
   "metadata": {},
   "source": [
    "# Add Moving Averages & Volume"
   ]
  },
  {
   "cell_type": "code",
   "execution_count": 15,
   "id": "2a0b0a55-bc0c-4c59-bc45-861f6c59ec7c",
   "metadata": {},
   "outputs": [],
   "source": [
    "# add moving averages to df\n",
    "df['MA20'] = df['Close'].rolling(window=20).mean()\n",
    "df['MA5'] = df['Close'].rolling(window=5).mean()"
   ]
  },
  {
   "cell_type": "code",
   "execution_count": 16,
   "id": "57078d96-d6e9-4a06-a4d3-915915463f05",
   "metadata": {},
   "outputs": [
    {
     "data": {
      "application/vnd.plotly.v1+json": {
       "config": {
        "plotlyServerURL": "https://plot.ly"
       },
       "data": [
        {
         "close": [
          253.8000030517578,
          247.64999389648438,
          247.85000610351562,
          247.25,
          235.9499969482422,
          244.4499969482422,
          246.14999389648438,
          255.60000610351562,
          257.6000061035156,
          255.85000610351562,
          257.1000061035156,
          254.9499969482422,
          262.25,
          260.25,
          247.10000610351562,
          238.5500030517578,
          234.14999389648438,
          238.75,
          241.89999389648438,
          238.75,
          243.10000610351562,
          242.0500030517578,
          243.75,
          248.4499969482422,
          254.4499969482422,
          252.64999389648438,
          251.4499969482422,
          248.8000030517578,
          259.04998779296875,
          258.25,
          255.5,
          252.35000610351562,
          256.3500061035156,
          265.3500061035156,
          264.54998779296875,
          260.3500061035156,
          264.3999938964844,
          263.45001220703125,
          263,
          273.70001220703125,
          267.45001220703125,
          271.70001220703125,
          290.79998779296875,
          300.8999938964844,
          305.8500061035156,
          297.1000061035156,
          296,
          293.70001220703125,
          291.1499938964844,
          292.3999938964844,
          290.5,
          293.29998779296875,
          294.6499938964844,
          274.79998779296875,
          279.8500061035156,
          286.54998779296875,
          307.3500061035156,
          307.95001220703125,
          309.8999938964844,
          309.5,
          331.3999938964844,
          334.79998779296875,
          332.3500061035156,
          365.54998779296875,
          386.8999938964844,
          387.8500061035156,
          386.79998779296875,
          380.3999938964844,
          375.95001220703125,
          370.6499938964844,
          374.79998779296875,
          391.70001220703125,
          376.95001220703125,
          376,
          374.04998779296875,
          373.04998779296875
         ],
         "high": [
          256.8999938964844,
          257.8999938964844,
          252,
          248.60000610351562,
          241.35000610351562,
          247.39999389648438,
          250,
          262.1499938964844,
          260,
          261.29998779296875,
          264.79998779296875,
          262.1000061035156,
          268,
          271.20001220703125,
          262.20001220703125,
          251.6999969482422,
          236.89999389648438,
          244.8000030517578,
          245,
          244.6999969482422,
          246.39999389648438,
          245.25,
          247.60000610351562,
          253,
          257,
          256.45001220703125,
          260,
          251.89999389648438,
          262,
          264.25,
          261.8999938964844,
          259,
          258.45001220703125,
          269,
          274.25,
          267.70001220703125,
          265.6000061035156,
          269.95001220703125,
          266.8500061035156,
          275.79998779296875,
          278.79998779296875,
          274,
          294,
          307,
          312.3999938964844,
          310.5,
          300.3999938964844,
          298.25,
          295,
          299.20001220703125,
          295,
          294.6000061035156,
          297.8999938964844,
          297.6000061035156,
          283,
          288,
          308,
          313.79998779296875,
          311,
          312,
          339.5,
          338.8999938964844,
          335.3500061035156,
          365.54998779296875,
          394,
          398.75,
          396.8999938964844,
          387.5,
          392,
          381,
          379.95001220703125,
          393.5,
          388.75,
          381,
          381.45001220703125,
          381.5
         ],
         "low": [
          240.10000610351562,
          244.39999389648438,
          245.5,
          245.5,
          234.1999969482422,
          237,
          243.10000610351562,
          246.10000610351562,
          252.5,
          254.25,
          254.10000610351562,
          252.5,
          252.10000610351562,
          258,
          246.8000030517578,
          237.10000610351562,
          224,
          236,
          235.1999969482422,
          237.60000610351562,
          236.14999389648438,
          240.8000030517578,
          242.35000610351562,
          244.75,
          248,
          251.10000610351562,
          250,
          248,
          248.10000610351562,
          257.20001220703125,
          254.14999389648438,
          250,
          252.5,
          257.6499938964844,
          262.1499938964844,
          258.04998779296875,
          258.20001220703125,
          262.5,
          261.29998779296875,
          250.0500030517578,
          265.04998779296875,
          268.6000061035156,
          268.3999938964844,
          300,
          301,
          292.04998779296875,
          293.1000061035156,
          291.54998779296875,
          288.1000061035156,
          291.3999938964844,
          287,
          288.1499938964844,
          291.20001220703125,
          271.95001220703125,
          266.20001220703125,
          280.1499938964844,
          288.1499938964844,
          302.20001220703125,
          302.5,
          305,
          309.5,
          326.04998779296875,
          328.5,
          332.8500061035156,
          368.8999938964844,
          373,
          383,
          369,
          373.6000061035156,
          369,
          370.29998779296875,
          372.1000061035156,
          375,
          358.1000061035156,
          370,
          370.45001220703125
         ],
         "open": [
          240.10000610351562,
          254,
          249.0500030517578,
          248.4499969482422,
          240.14999389648438,
          238.5,
          246.60000610351562,
          247,
          254.60000610351562,
          258.8999938964844,
          258.70001220703125,
          262,
          255.39999389648438,
          263.8500061035156,
          261.6499938964844,
          249.89999389648438,
          234.9499969482422,
          236.75,
          239.60000610351562,
          244,
          236.1999969482422,
          244.3000030517578,
          243.39999389648438,
          244.75,
          249.60000610351562,
          255.75,
          253.6999969482422,
          250,
          249.1999969482422,
          261.5,
          259.3999938964844,
          254,
          253.1999969482422,
          257.8500061035156,
          267,
          266,
          261.5,
          265.70001220703125,
          265.3999938964844,
          265.45001220703125,
          275,
          268.6000061035156,
          272.79998779296875,
          307,
          302.6000061035156,
          307.29998779296875,
          298.20001220703125,
          297.5,
          295,
          294.5,
          293.8999938964844,
          292,
          293.75,
          295.5,
          274.45001220703125,
          281.54998779296875,
          288.1499938964844,
          306.3999938964844,
          309.45001220703125,
          311,
          310.8500061035156,
          332.6499938964844,
          334.8999938964844,
          334.04998779296875,
          370.5,
          390,
          390.79998779296875,
          382,
          386,
          375.95001220703125,
          373.6000061035156,
          375.20001220703125,
          383.75,
          377,
          376.70001220703125,
          378
         ],
         "type": "candlestick",
         "x": [
          "2023-10-03T00:00:00",
          "2023-10-04T00:00:00",
          "2023-10-05T00:00:00",
          "2023-10-06T00:00:00",
          "2023-10-09T00:00:00",
          "2023-10-10T00:00:00",
          "2023-10-11T00:00:00",
          "2023-10-12T00:00:00",
          "2023-10-13T00:00:00",
          "2023-10-16T00:00:00",
          "2023-10-17T00:00:00",
          "2023-10-18T00:00:00",
          "2023-10-19T00:00:00",
          "2023-10-20T00:00:00",
          "2023-10-23T00:00:00",
          "2023-10-25T00:00:00",
          "2023-10-26T00:00:00",
          "2023-10-27T00:00:00",
          "2023-10-30T00:00:00",
          "2023-10-31T00:00:00",
          "2023-11-01T00:00:00",
          "2023-11-02T00:00:00",
          "2023-11-03T00:00:00",
          "2023-11-06T00:00:00",
          "2023-11-07T00:00:00",
          "2023-11-08T00:00:00",
          "2023-11-09T00:00:00",
          "2023-11-10T00:00:00",
          "2023-11-13T00:00:00",
          "2023-11-15T00:00:00",
          "2023-11-16T00:00:00",
          "2023-11-17T00:00:00",
          "2023-11-20T00:00:00",
          "2023-11-21T00:00:00",
          "2023-11-22T00:00:00",
          "2023-11-23T00:00:00",
          "2023-11-24T00:00:00",
          "2023-11-28T00:00:00",
          "2023-11-29T00:00:00",
          "2023-11-30T00:00:00",
          "2023-12-01T00:00:00",
          "2023-12-04T00:00:00",
          "2023-12-05T00:00:00",
          "2023-12-06T00:00:00",
          "2023-12-07T00:00:00",
          "2023-12-08T00:00:00",
          "2023-12-11T00:00:00",
          "2023-12-12T00:00:00",
          "2023-12-13T00:00:00",
          "2023-12-14T00:00:00",
          "2023-12-15T00:00:00",
          "2023-12-18T00:00:00",
          "2023-12-19T00:00:00",
          "2023-12-20T00:00:00",
          "2023-12-21T00:00:00",
          "2023-12-22T00:00:00",
          "2023-12-26T00:00:00",
          "2023-12-27T00:00:00",
          "2023-12-28T00:00:00",
          "2023-12-29T00:00:00",
          "2024-01-01T00:00:00",
          "2024-01-02T00:00:00",
          "2024-01-03T00:00:00",
          "2024-01-04T00:00:00",
          "2024-01-05T00:00:00",
          "2024-01-08T00:00:00",
          "2024-01-09T00:00:00",
          "2024-01-10T00:00:00",
          "2024-01-11T00:00:00",
          "2024-01-12T00:00:00",
          "2024-01-15T00:00:00",
          "2024-01-16T00:00:00",
          "2024-01-17T00:00:00",
          "2024-01-18T00:00:00",
          "2024-01-19T00:00:00",
          "2024-01-20T00:00:00"
         ]
        },
        {
         "line": {
          "color": "blue",
          "width": 2
         },
         "name": "MA 5",
         "opacity": 0.7,
         "type": "scatter",
         "x": [
          "2023-10-03T00:00:00",
          "2023-10-04T00:00:00",
          "2023-10-05T00:00:00",
          "2023-10-06T00:00:00",
          "2023-10-09T00:00:00",
          "2023-10-10T00:00:00",
          "2023-10-11T00:00:00",
          "2023-10-12T00:00:00",
          "2023-10-13T00:00:00",
          "2023-10-16T00:00:00",
          "2023-10-17T00:00:00",
          "2023-10-18T00:00:00",
          "2023-10-19T00:00:00",
          "2023-10-20T00:00:00",
          "2023-10-23T00:00:00",
          "2023-10-25T00:00:00",
          "2023-10-26T00:00:00",
          "2023-10-27T00:00:00",
          "2023-10-30T00:00:00",
          "2023-10-31T00:00:00",
          "2023-11-01T00:00:00",
          "2023-11-02T00:00:00",
          "2023-11-03T00:00:00",
          "2023-11-06T00:00:00",
          "2023-11-07T00:00:00",
          "2023-11-08T00:00:00",
          "2023-11-09T00:00:00",
          "2023-11-10T00:00:00",
          "2023-11-13T00:00:00",
          "2023-11-15T00:00:00",
          "2023-11-16T00:00:00",
          "2023-11-17T00:00:00",
          "2023-11-20T00:00:00",
          "2023-11-21T00:00:00",
          "2023-11-22T00:00:00",
          "2023-11-23T00:00:00",
          "2023-11-24T00:00:00",
          "2023-11-28T00:00:00",
          "2023-11-29T00:00:00",
          "2023-11-30T00:00:00",
          "2023-12-01T00:00:00",
          "2023-12-04T00:00:00",
          "2023-12-05T00:00:00",
          "2023-12-06T00:00:00",
          "2023-12-07T00:00:00",
          "2023-12-08T00:00:00",
          "2023-12-11T00:00:00",
          "2023-12-12T00:00:00",
          "2023-12-13T00:00:00",
          "2023-12-14T00:00:00",
          "2023-12-15T00:00:00",
          "2023-12-18T00:00:00",
          "2023-12-19T00:00:00",
          "2023-12-20T00:00:00",
          "2023-12-21T00:00:00",
          "2023-12-22T00:00:00",
          "2023-12-26T00:00:00",
          "2023-12-27T00:00:00",
          "2023-12-28T00:00:00",
          "2023-12-29T00:00:00",
          "2024-01-01T00:00:00",
          "2024-01-02T00:00:00",
          "2024-01-03T00:00:00",
          "2024-01-04T00:00:00",
          "2024-01-05T00:00:00",
          "2024-01-08T00:00:00",
          "2024-01-09T00:00:00",
          "2024-01-10T00:00:00",
          "2024-01-11T00:00:00",
          "2024-01-12T00:00:00",
          "2024-01-15T00:00:00",
          "2024-01-16T00:00:00",
          "2024-01-17T00:00:00",
          "2024-01-18T00:00:00",
          "2024-01-19T00:00:00",
          "2024-01-20T00:00:00"
         ],
         "y": [
          null,
          null,
          null,
          null,
          246.5,
          244.62999877929687,
          244.3299987792969,
          245.87999877929687,
          247.95,
          251.93000183105468,
          254.4600036621094,
          256.2200042724609,
          257.5500030517578,
          258.0800018310547,
          256.3300018310547,
          252.62000122070313,
          248.46000061035156,
          243.76000061035157,
          240.08999938964843,
          238.4199981689453,
          239.3299987792969,
          240.91000061035157,
          241.91000061035157,
          243.22000122070312,
          246.36000061035156,
          248.2699981689453,
          250.14999694824218,
          251.15999755859374,
          253.27999572753907,
          254.0399963378906,
          254.60999755859376,
          254.78999938964844,
          256.3,
          257.56000366210935,
          258.82000122070315,
          259.7900024414063,
          262.2,
          263.6200012207031,
          263.15,
          264.9800048828125,
          266.40000610351564,
          267.860009765625,
          273.3300048828125,
          280.9100036621094,
          287.3400024414062,
          293.27000122070314,
          298.1299987792969,
          298.7100036621094,
          296.7600036621094,
          294.07000122070315,
          292.75,
          292.2099975585937,
          292.3999938964844,
          289.12999267578124,
          286.6199951171875,
          285.8299926757812,
          288.63999633789064,
          291.3,
          298.32000122070315,
          304.25,
          313.2200012207031,
          318.7099975585937,
          323.5899963378906,
          334.7199951171875,
          350.1999938964844,
          361.4899963378906,
          371.88999633789064,
          381.4999938964844,
          383.5799987792969,
          380.3299987792969,
          377.7199951171875,
          378.7,
          378.0100036621094,
          378.02000122070314,
          378.7,
          378.35
         ]
        },
        {
         "line": {
          "color": "orange",
          "width": 2
         },
         "name": "MA 20",
         "opacity": 0.7,
         "type": "scatter",
         "x": [
          "2023-10-03T00:00:00",
          "2023-10-04T00:00:00",
          "2023-10-05T00:00:00",
          "2023-10-06T00:00:00",
          "2023-10-09T00:00:00",
          "2023-10-10T00:00:00",
          "2023-10-11T00:00:00",
          "2023-10-12T00:00:00",
          "2023-10-13T00:00:00",
          "2023-10-16T00:00:00",
          "2023-10-17T00:00:00",
          "2023-10-18T00:00:00",
          "2023-10-19T00:00:00",
          "2023-10-20T00:00:00",
          "2023-10-23T00:00:00",
          "2023-10-25T00:00:00",
          "2023-10-26T00:00:00",
          "2023-10-27T00:00:00",
          "2023-10-30T00:00:00",
          "2023-10-31T00:00:00",
          "2023-11-01T00:00:00",
          "2023-11-02T00:00:00",
          "2023-11-03T00:00:00",
          "2023-11-06T00:00:00",
          "2023-11-07T00:00:00",
          "2023-11-08T00:00:00",
          "2023-11-09T00:00:00",
          "2023-11-10T00:00:00",
          "2023-11-13T00:00:00",
          "2023-11-15T00:00:00",
          "2023-11-16T00:00:00",
          "2023-11-17T00:00:00",
          "2023-11-20T00:00:00",
          "2023-11-21T00:00:00",
          "2023-11-22T00:00:00",
          "2023-11-23T00:00:00",
          "2023-11-24T00:00:00",
          "2023-11-28T00:00:00",
          "2023-11-29T00:00:00",
          "2023-11-30T00:00:00",
          "2023-12-01T00:00:00",
          "2023-12-04T00:00:00",
          "2023-12-05T00:00:00",
          "2023-12-06T00:00:00",
          "2023-12-07T00:00:00",
          "2023-12-08T00:00:00",
          "2023-12-11T00:00:00",
          "2023-12-12T00:00:00",
          "2023-12-13T00:00:00",
          "2023-12-14T00:00:00",
          "2023-12-15T00:00:00",
          "2023-12-18T00:00:00",
          "2023-12-19T00:00:00",
          "2023-12-20T00:00:00",
          "2023-12-21T00:00:00",
          "2023-12-22T00:00:00",
          "2023-12-26T00:00:00",
          "2023-12-27T00:00:00",
          "2023-12-28T00:00:00",
          "2023-12-29T00:00:00",
          "2024-01-01T00:00:00",
          "2024-01-02T00:00:00",
          "2024-01-03T00:00:00",
          "2024-01-04T00:00:00",
          "2024-01-05T00:00:00",
          "2024-01-08T00:00:00",
          "2024-01-09T00:00:00",
          "2024-01-10T00:00:00",
          "2024-01-11T00:00:00",
          "2024-01-12T00:00:00",
          "2024-01-15T00:00:00",
          "2024-01-16T00:00:00",
          "2024-01-17T00:00:00",
          "2024-01-18T00:00:00",
          "2024-01-19T00:00:00",
          "2024-01-20T00:00:00"
         ],
         "y": [
          null,
          null,
          null,
          null,
          null,
          null,
          null,
          null,
          null,
          null,
          null,
          null,
          null,
          null,
          null,
          null,
          null,
          null,
          null,
          248.29500045776368,
          247.76000061035157,
          247.48000106811523,
          247.27500076293944,
          247.33500061035156,
          248.26000061035157,
          248.67000045776368,
          248.93500061035155,
          248.59500045776366,
          248.66749954223633,
          248.78749923706056,
          248.70749893188477,
          248.57749938964844,
          248.28249969482422,
          248.5375,
          249.40999908447264,
          250.49999923706054,
          252.01249923706055,
          253.24749984741212,
          254.3025001525879,
          256.0500007629395,
          257.2675010681152,
          258.75000152587893,
          261.10250091552734,
          263.72500076293943,
          266.2950012207031,
          268.5175018310547,
          270.74500198364257,
          272.99000244140626,
          274.59500274658205,
          276.30250244140626,
          278.05250244140626,
          280.1000015258789,
          282.01500091552737,
          282.4875,
          283.2525009155273,
          284.5625,
          286.7100006103516,
          288.93500061035155,
          291.2800003051758,
          293.0699996948242,
          296.2674987792969,
          299.42249755859376,
          301.49999847412107,
          304.7324981689453,
          308.7849975585938,
          313.32249755859374,
          317.8624969482422,
          322.19749603271487,
          326.4374969482422,
          330.34999694824216,
          334.56499633789065,
          339.48499755859376,
          343.5999984741211,
          348.65999908447264,
          353.3699981689453,
          357.6949981689453
         ]
        }
       ],
       "layout": {
        "autosize": true,
        "dragmode": "pan",
        "template": {
         "data": {
          "bar": [
           {
            "error_x": {
             "color": "#2a3f5f"
            },
            "error_y": {
             "color": "#2a3f5f"
            },
            "marker": {
             "line": {
              "color": "#E5ECF6",
              "width": 0.5
             },
             "pattern": {
              "fillmode": "overlay",
              "size": 10,
              "solidity": 0.2
             }
            },
            "type": "bar"
           }
          ],
          "barpolar": [
           {
            "marker": {
             "line": {
              "color": "#E5ECF6",
              "width": 0.5
             },
             "pattern": {
              "fillmode": "overlay",
              "size": 10,
              "solidity": 0.2
             }
            },
            "type": "barpolar"
           }
          ],
          "carpet": [
           {
            "aaxis": {
             "endlinecolor": "#2a3f5f",
             "gridcolor": "white",
             "linecolor": "white",
             "minorgridcolor": "white",
             "startlinecolor": "#2a3f5f"
            },
            "baxis": {
             "endlinecolor": "#2a3f5f",
             "gridcolor": "white",
             "linecolor": "white",
             "minorgridcolor": "white",
             "startlinecolor": "#2a3f5f"
            },
            "type": "carpet"
           }
          ],
          "choropleth": [
           {
            "colorbar": {
             "outlinewidth": 0,
             "ticks": ""
            },
            "type": "choropleth"
           }
          ],
          "contour": [
           {
            "colorbar": {
             "outlinewidth": 0,
             "ticks": ""
            },
            "colorscale": [
             [
              0,
              "#0d0887"
             ],
             [
              0.1111111111111111,
              "#46039f"
             ],
             [
              0.2222222222222222,
              "#7201a8"
             ],
             [
              0.3333333333333333,
              "#9c179e"
             ],
             [
              0.4444444444444444,
              "#bd3786"
             ],
             [
              0.5555555555555556,
              "#d8576b"
             ],
             [
              0.6666666666666666,
              "#ed7953"
             ],
             [
              0.7777777777777778,
              "#fb9f3a"
             ],
             [
              0.8888888888888888,
              "#fdca26"
             ],
             [
              1,
              "#f0f921"
             ]
            ],
            "type": "contour"
           }
          ],
          "contourcarpet": [
           {
            "colorbar": {
             "outlinewidth": 0,
             "ticks": ""
            },
            "type": "contourcarpet"
           }
          ],
          "heatmap": [
           {
            "colorbar": {
             "outlinewidth": 0,
             "ticks": ""
            },
            "colorscale": [
             [
              0,
              "#0d0887"
             ],
             [
              0.1111111111111111,
              "#46039f"
             ],
             [
              0.2222222222222222,
              "#7201a8"
             ],
             [
              0.3333333333333333,
              "#9c179e"
             ],
             [
              0.4444444444444444,
              "#bd3786"
             ],
             [
              0.5555555555555556,
              "#d8576b"
             ],
             [
              0.6666666666666666,
              "#ed7953"
             ],
             [
              0.7777777777777778,
              "#fb9f3a"
             ],
             [
              0.8888888888888888,
              "#fdca26"
             ],
             [
              1,
              "#f0f921"
             ]
            ],
            "type": "heatmap"
           }
          ],
          "heatmapgl": [
           {
            "colorbar": {
             "outlinewidth": 0,
             "ticks": ""
            },
            "colorscale": [
             [
              0,
              "#0d0887"
             ],
             [
              0.1111111111111111,
              "#46039f"
             ],
             [
              0.2222222222222222,
              "#7201a8"
             ],
             [
              0.3333333333333333,
              "#9c179e"
             ],
             [
              0.4444444444444444,
              "#bd3786"
             ],
             [
              0.5555555555555556,
              "#d8576b"
             ],
             [
              0.6666666666666666,
              "#ed7953"
             ],
             [
              0.7777777777777778,
              "#fb9f3a"
             ],
             [
              0.8888888888888888,
              "#fdca26"
             ],
             [
              1,
              "#f0f921"
             ]
            ],
            "type": "heatmapgl"
           }
          ],
          "histogram": [
           {
            "marker": {
             "pattern": {
              "fillmode": "overlay",
              "size": 10,
              "solidity": 0.2
             }
            },
            "type": "histogram"
           }
          ],
          "histogram2d": [
           {
            "colorbar": {
             "outlinewidth": 0,
             "ticks": ""
            },
            "colorscale": [
             [
              0,
              "#0d0887"
             ],
             [
              0.1111111111111111,
              "#46039f"
             ],
             [
              0.2222222222222222,
              "#7201a8"
             ],
             [
              0.3333333333333333,
              "#9c179e"
             ],
             [
              0.4444444444444444,
              "#bd3786"
             ],
             [
              0.5555555555555556,
              "#d8576b"
             ],
             [
              0.6666666666666666,
              "#ed7953"
             ],
             [
              0.7777777777777778,
              "#fb9f3a"
             ],
             [
              0.8888888888888888,
              "#fdca26"
             ],
             [
              1,
              "#f0f921"
             ]
            ],
            "type": "histogram2d"
           }
          ],
          "histogram2dcontour": [
           {
            "colorbar": {
             "outlinewidth": 0,
             "ticks": ""
            },
            "colorscale": [
             [
              0,
              "#0d0887"
             ],
             [
              0.1111111111111111,
              "#46039f"
             ],
             [
              0.2222222222222222,
              "#7201a8"
             ],
             [
              0.3333333333333333,
              "#9c179e"
             ],
             [
              0.4444444444444444,
              "#bd3786"
             ],
             [
              0.5555555555555556,
              "#d8576b"
             ],
             [
              0.6666666666666666,
              "#ed7953"
             ],
             [
              0.7777777777777778,
              "#fb9f3a"
             ],
             [
              0.8888888888888888,
              "#fdca26"
             ],
             [
              1,
              "#f0f921"
             ]
            ],
            "type": "histogram2dcontour"
           }
          ],
          "mesh3d": [
           {
            "colorbar": {
             "outlinewidth": 0,
             "ticks": ""
            },
            "type": "mesh3d"
           }
          ],
          "parcoords": [
           {
            "line": {
             "colorbar": {
              "outlinewidth": 0,
              "ticks": ""
             }
            },
            "type": "parcoords"
           }
          ],
          "pie": [
           {
            "automargin": true,
            "type": "pie"
           }
          ],
          "scatter": [
           {
            "fillpattern": {
             "fillmode": "overlay",
             "size": 10,
             "solidity": 0.2
            },
            "type": "scatter"
           }
          ],
          "scatter3d": [
           {
            "line": {
             "colorbar": {
              "outlinewidth": 0,
              "ticks": ""
             }
            },
            "marker": {
             "colorbar": {
              "outlinewidth": 0,
              "ticks": ""
             }
            },
            "type": "scatter3d"
           }
          ],
          "scattercarpet": [
           {
            "marker": {
             "colorbar": {
              "outlinewidth": 0,
              "ticks": ""
             }
            },
            "type": "scattercarpet"
           }
          ],
          "scattergeo": [
           {
            "marker": {
             "colorbar": {
              "outlinewidth": 0,
              "ticks": ""
             }
            },
            "type": "scattergeo"
           }
          ],
          "scattergl": [
           {
            "marker": {
             "colorbar": {
              "outlinewidth": 0,
              "ticks": ""
             }
            },
            "type": "scattergl"
           }
          ],
          "scattermapbox": [
           {
            "marker": {
             "colorbar": {
              "outlinewidth": 0,
              "ticks": ""
             }
            },
            "type": "scattermapbox"
           }
          ],
          "scatterpolar": [
           {
            "marker": {
             "colorbar": {
              "outlinewidth": 0,
              "ticks": ""
             }
            },
            "type": "scatterpolar"
           }
          ],
          "scatterpolargl": [
           {
            "marker": {
             "colorbar": {
              "outlinewidth": 0,
              "ticks": ""
             }
            },
            "type": "scatterpolargl"
           }
          ],
          "scatterternary": [
           {
            "marker": {
             "colorbar": {
              "outlinewidth": 0,
              "ticks": ""
             }
            },
            "type": "scatterternary"
           }
          ],
          "surface": [
           {
            "colorbar": {
             "outlinewidth": 0,
             "ticks": ""
            },
            "colorscale": [
             [
              0,
              "#0d0887"
             ],
             [
              0.1111111111111111,
              "#46039f"
             ],
             [
              0.2222222222222222,
              "#7201a8"
             ],
             [
              0.3333333333333333,
              "#9c179e"
             ],
             [
              0.4444444444444444,
              "#bd3786"
             ],
             [
              0.5555555555555556,
              "#d8576b"
             ],
             [
              0.6666666666666666,
              "#ed7953"
             ],
             [
              0.7777777777777778,
              "#fb9f3a"
             ],
             [
              0.8888888888888888,
              "#fdca26"
             ],
             [
              1,
              "#f0f921"
             ]
            ],
            "type": "surface"
           }
          ],
          "table": [
           {
            "cells": {
             "fill": {
              "color": "#EBF0F8"
             },
             "line": {
              "color": "white"
             }
            },
            "header": {
             "fill": {
              "color": "#C8D4E3"
             },
             "line": {
              "color": "white"
             }
            },
            "type": "table"
           }
          ]
         },
         "layout": {
          "annotationdefaults": {
           "arrowcolor": "#2a3f5f",
           "arrowhead": 0,
           "arrowwidth": 1
          },
          "autotypenumbers": "strict",
          "coloraxis": {
           "colorbar": {
            "outlinewidth": 0,
            "ticks": ""
           }
          },
          "colorscale": {
           "diverging": [
            [
             0,
             "#8e0152"
            ],
            [
             0.1,
             "#c51b7d"
            ],
            [
             0.2,
             "#de77ae"
            ],
            [
             0.3,
             "#f1b6da"
            ],
            [
             0.4,
             "#fde0ef"
            ],
            [
             0.5,
             "#f7f7f7"
            ],
            [
             0.6,
             "#e6f5d0"
            ],
            [
             0.7,
             "#b8e186"
            ],
            [
             0.8,
             "#7fbc41"
            ],
            [
             0.9,
             "#4d9221"
            ],
            [
             1,
             "#276419"
            ]
           ],
           "sequential": [
            [
             0,
             "#0d0887"
            ],
            [
             0.1111111111111111,
             "#46039f"
            ],
            [
             0.2222222222222222,
             "#7201a8"
            ],
            [
             0.3333333333333333,
             "#9c179e"
            ],
            [
             0.4444444444444444,
             "#bd3786"
            ],
            [
             0.5555555555555556,
             "#d8576b"
            ],
            [
             0.6666666666666666,
             "#ed7953"
            ],
            [
             0.7777777777777778,
             "#fb9f3a"
            ],
            [
             0.8888888888888888,
             "#fdca26"
            ],
            [
             1,
             "#f0f921"
            ]
           ],
           "sequentialminus": [
            [
             0,
             "#0d0887"
            ],
            [
             0.1111111111111111,
             "#46039f"
            ],
            [
             0.2222222222222222,
             "#7201a8"
            ],
            [
             0.3333333333333333,
             "#9c179e"
            ],
            [
             0.4444444444444444,
             "#bd3786"
            ],
            [
             0.5555555555555556,
             "#d8576b"
            ],
            [
             0.6666666666666666,
             "#ed7953"
            ],
            [
             0.7777777777777778,
             "#fb9f3a"
            ],
            [
             0.8888888888888888,
             "#fdca26"
            ],
            [
             1,
             "#f0f921"
            ]
           ]
          },
          "colorway": [
           "#636efa",
           "#EF553B",
           "#00cc96",
           "#ab63fa",
           "#FFA15A",
           "#19d3f3",
           "#FF6692",
           "#B6E880",
           "#FF97FF",
           "#FECB52"
          ],
          "font": {
           "color": "#2a3f5f"
          },
          "geo": {
           "bgcolor": "white",
           "lakecolor": "white",
           "landcolor": "#E5ECF6",
           "showlakes": true,
           "showland": true,
           "subunitcolor": "white"
          },
          "hoverlabel": {
           "align": "left"
          },
          "hovermode": "closest",
          "mapbox": {
           "style": "light"
          },
          "paper_bgcolor": "white",
          "plot_bgcolor": "#E5ECF6",
          "polar": {
           "angularaxis": {
            "gridcolor": "white",
            "linecolor": "white",
            "ticks": ""
           },
           "bgcolor": "#E5ECF6",
           "radialaxis": {
            "gridcolor": "white",
            "linecolor": "white",
            "ticks": ""
           }
          },
          "scene": {
           "xaxis": {
            "backgroundcolor": "#E5ECF6",
            "gridcolor": "white",
            "gridwidth": 2,
            "linecolor": "white",
            "showbackground": true,
            "ticks": "",
            "zerolinecolor": "white"
           },
           "yaxis": {
            "backgroundcolor": "#E5ECF6",
            "gridcolor": "white",
            "gridwidth": 2,
            "linecolor": "white",
            "showbackground": true,
            "ticks": "",
            "zerolinecolor": "white"
           },
           "zaxis": {
            "backgroundcolor": "#E5ECF6",
            "gridcolor": "white",
            "gridwidth": 2,
            "linecolor": "white",
            "showbackground": true,
            "ticks": "",
            "zerolinecolor": "white"
           }
          },
          "shapedefaults": {
           "line": {
            "color": "#2a3f5f"
           }
          },
          "ternary": {
           "aaxis": {
            "gridcolor": "white",
            "linecolor": "white",
            "ticks": ""
           },
           "baxis": {
            "gridcolor": "white",
            "linecolor": "white",
            "ticks": ""
           },
           "bgcolor": "#E5ECF6",
           "caxis": {
            "gridcolor": "white",
            "linecolor": "white",
            "ticks": ""
           }
          },
          "title": {
           "x": 0.05
          },
          "xaxis": {
           "automargin": true,
           "gridcolor": "white",
           "linecolor": "white",
           "ticks": "",
           "title": {
            "standoff": 15
           },
           "zerolinecolor": "white",
           "zerolinewidth": 2
          },
          "yaxis": {
           "automargin": true,
           "gridcolor": "white",
           "linecolor": "white",
           "ticks": "",
           "title": {
            "standoff": 15
           },
           "zerolinecolor": "white",
           "zerolinewidth": 2
          }
         }
        },
        "xaxis": {
         "autorange": true,
         "range": [
          "2023-10-02 12:00",
          "2024-01-19 12:00"
         ],
         "rangebreaks": [
          {
           "bounds": [
            "sat",
            "mon"
           ],
           "values": [
            "2023-10-07",
            "2023-10-08",
            "2023-10-14",
            "2023-10-15",
            "2023-10-21",
            "2023-10-22",
            "2023-10-24",
            "2023-10-28",
            "2023-10-29",
            "2023-11-04",
            "2023-11-05",
            "2023-11-11",
            "2023-11-12",
            "2023-11-14",
            "2023-11-18",
            "2023-11-19",
            "2023-11-25",
            "2023-11-26",
            "2023-11-27",
            "2023-12-02",
            "2023-12-03",
            "2023-12-09",
            "2023-12-10",
            "2023-12-16",
            "2023-12-17",
            "2023-12-23",
            "2023-12-24",
            "2023-12-25",
            "2023-12-30",
            "2023-12-31",
            "2024-01-06",
            "2024-01-07",
            "2024-01-13",
            "2024-01-14"
           ]
          }
         ],
         "rangeslider": {
          "visible": false,
          "yaxis": {}
         },
         "type": "date"
        },
        "yaxis": {
         "autorange": true,
         "range": [
          214.29166666666666,
          408.4583333333333
         ],
         "type": "linear"
        }
       }
      },
      "image/png": "[encoded data removed]",
      "text/html": [
       "<div>                            <div id=\"e56c9d94-f4b2-410d-b6dd-729b9732ae69\" class=\"plotly-graph-div\" style=\"height:525px; width:100%;\"></div>            <script type=\"text/javascript\">                require([\"plotly\"], function(Plotly) {                    window.PLOTLYENV=window.PLOTLYENV || {};                                    if (document.getElementById(\"e56c9d94-f4b2-410d-b6dd-729b9732ae69\")) {                    Plotly.newPlot(                        \"e56c9d94-f4b2-410d-b6dd-729b9732ae69\",                        [{\"close\":[253.8000030517578,247.64999389648438,247.85000610351562,247.25,235.9499969482422,244.4499969482422,246.14999389648438,255.60000610351562,257.6000061035156,255.85000610351562,257.1000061035156,254.9499969482422,262.25,260.25,247.10000610351562,238.5500030517578,234.14999389648438,238.75,241.89999389648438,238.75,243.10000610351562,242.0500030517578,243.75,248.4499969482422,254.4499969482422,252.64999389648438,251.4499969482422,248.8000030517578,259.04998779296875,258.25,255.5,252.35000610351562,256.3500061035156,265.3500061035156,264.54998779296875,260.3500061035156,264.3999938964844,263.45001220703125,263.0,273.70001220703125,267.45001220703125,271.70001220703125,290.79998779296875,300.8999938964844,305.8500061035156,297.1000061035156,296.0,293.70001220703125,291.1499938964844,292.3999938964844,290.5,293.29998779296875,294.6499938964844,274.79998779296875,279.8500061035156,286.54998779296875,307.3500061035156,307.95001220703125,309.8999938964844,309.5,331.3999938964844,334.79998779296875,332.3500061035156,365.54998779296875,386.8999938964844,387.8500061035156,386.79998779296875,380.3999938964844,375.95001220703125,370.6499938964844,374.79998779296875,391.70001220703125,376.95001220703125,376.0,374.04998779296875,373.04998779296875],\"high\":[256.8999938964844,257.8999938964844,252.0,248.60000610351562,241.35000610351562,247.39999389648438,250.0,262.1499938964844,260.0,261.29998779296875,264.79998779296875,262.1000061035156,268.0,271.20001220703125,262.20001220703125,251.6999969482422,236.89999389648438,244.8000030517578,245.0,244.6999969482422,246.39999389648438,245.25,247.60000610351562,253.0,257.0,256.45001220703125,260.0,251.89999389648438,262.0,264.25,261.8999938964844,259.0,258.45001220703125,269.0,274.25,267.70001220703125,265.6000061035156,269.95001220703125,266.8500061035156,275.79998779296875,278.79998779296875,274.0,294.0,307.0,312.3999938964844,310.5,300.3999938964844,298.25,295.0,299.20001220703125,295.0,294.6000061035156,297.8999938964844,297.6000061035156,283.0,288.0,308.0,313.79998779296875,311.0,312.0,339.5,338.8999938964844,335.3500061035156,365.54998779296875,394.0,398.75,396.8999938964844,387.5,392.0,381.0,379.95001220703125,393.5,388.75,381.0,381.45001220703125,381.5],\"low\":[240.10000610351562,244.39999389648438,245.5,245.5,234.1999969482422,237.0,243.10000610351562,246.10000610351562,252.5,254.25,254.10000610351562,252.5,252.10000610351562,258.0,246.8000030517578,237.10000610351562,224.0,236.0,235.1999969482422,237.60000610351562,236.14999389648438,240.8000030517578,242.35000610351562,244.75,248.0,251.10000610351562,250.0,248.0,248.10000610351562,257.20001220703125,254.14999389648438,250.0,252.5,257.6499938964844,262.1499938964844,258.04998779296875,258.20001220703125,262.5,261.29998779296875,250.0500030517578,265.04998779296875,268.6000061035156,268.3999938964844,300.0,301.0,292.04998779296875,293.1000061035156,291.54998779296875,288.1000061035156,291.3999938964844,287.0,288.1499938964844,291.20001220703125,271.95001220703125,266.20001220703125,280.1499938964844,288.1499938964844,302.20001220703125,302.5,305.0,309.5,326.04998779296875,328.5,332.8500061035156,368.8999938964844,373.0,383.0,369.0,373.6000061035156,369.0,370.29998779296875,372.1000061035156,375.0,358.1000061035156,370.0,370.45001220703125],\"open\":[240.10000610351562,254.0,249.0500030517578,248.4499969482422,240.14999389648438,238.5,246.60000610351562,247.0,254.60000610351562,258.8999938964844,258.70001220703125,262.0,255.39999389648438,263.8500061035156,261.6499938964844,249.89999389648438,234.9499969482422,236.75,239.60000610351562,244.0,236.1999969482422,244.3000030517578,243.39999389648438,244.75,249.60000610351562,255.75,253.6999969482422,250.0,249.1999969482422,261.5,259.3999938964844,254.0,253.1999969482422,257.8500061035156,267.0,266.0,261.5,265.70001220703125,265.3999938964844,265.45001220703125,275.0,268.6000061035156,272.79998779296875,307.0,302.6000061035156,307.29998779296875,298.20001220703125,297.5,295.0,294.5,293.8999938964844,292.0,293.75,295.5,274.45001220703125,281.54998779296875,288.1499938964844,306.3999938964844,309.45001220703125,311.0,310.8500061035156,332.6499938964844,334.8999938964844,334.04998779296875,370.5,390.0,390.79998779296875,382.0,386.0,375.95001220703125,373.6000061035156,375.20001220703125,383.75,377.0,376.70001220703125,378.0],\"x\":[\"2023-10-03T00:00:00\",\"2023-10-04T00:00:00\",\"2023-10-05T00:00:00\",\"2023-10-06T00:00:00\",\"2023-10-09T00:00:00\",\"2023-10-10T00:00:00\",\"2023-10-11T00:00:00\",\"2023-10-12T00:00:00\",\"2023-10-13T00:00:00\",\"2023-10-16T00:00:00\",\"2023-10-17T00:00:00\",\"2023-10-18T00:00:00\",\"2023-10-19T00:00:00\",\"2023-10-20T00:00:00\",\"2023-10-23T00:00:00\",\"2023-10-25T00:00:00\",\"2023-10-26T00:00:00\",\"2023-10-27T00:00:00\",\"2023-10-30T00:00:00\",\"2023-10-31T00:00:00\",\"2023-11-01T00:00:00\",\"2023-11-02T00:00:00\",\"2023-11-03T00:00:00\",\"2023-11-06T00:00:00\",\"2023-11-07T00:00:00\",\"2023-11-08T00:00:00\",\"2023-11-09T00:00:00\",\"2023-11-10T00:00:00\",\"2023-11-13T00:00:00\",\"2023-11-15T00:00:00\",\"2023-11-16T00:00:00\",\"2023-11-17T00:00:00\",\"2023-11-20T00:00:00\",\"2023-11-21T00:00:00\",\"2023-11-22T00:00:00\",\"2023-11-23T00:00:00\",\"2023-11-24T00:00:00\",\"2023-11-28T00:00:00\",\"2023-11-29T00:00:00\",\"2023-11-30T00:00:00\",\"2023-12-01T00:00:00\",\"2023-12-04T00:00:00\",\"2023-12-05T00:00:00\",\"2023-12-06T00:00:00\",\"2023-12-07T00:00:00\",\"2023-12-08T00:00:00\",\"2023-12-11T00:00:00\",\"2023-12-12T00:00:00\",\"2023-12-13T00:00:00\",\"2023-12-14T00:00:00\",\"2023-12-15T00:00:00\",\"2023-12-18T00:00:00\",\"2023-12-19T00:00:00\",\"2023-12-20T00:00:00\",\"2023-12-21T00:00:00\",\"2023-12-22T00:00:00\",\"2023-12-26T00:00:00\",\"2023-12-27T00:00:00\",\"2023-12-28T00:00:00\",\"2023-12-29T00:00:00\",\"2024-01-01T00:00:00\",\"2024-01-02T00:00:00\",\"2024-01-03T00:00:00\",\"2024-01-04T00:00:00\",\"2024-01-05T00:00:00\",\"2024-01-08T00:00:00\",\"2024-01-09T00:00:00\",\"2024-01-10T00:00:00\",\"2024-01-11T00:00:00\",\"2024-01-12T00:00:00\",\"2024-01-15T00:00:00\",\"2024-01-16T00:00:00\",\"2024-01-17T00:00:00\",\"2024-01-18T00:00:00\",\"2024-01-19T00:00:00\",\"2024-01-20T00:00:00\"],\"type\":\"candlestick\"},{\"line\":{\"color\":\"blue\",\"width\":2},\"name\":\"MA 5\",\"opacity\":0.7,\"x\":[\"2023-10-03T00:00:00\",\"2023-10-04T00:00:00\",\"2023-10-05T00:00:00\",\"2023-10-06T00:00:00\",\"2023-10-09T00:00:00\",\"2023-10-10T00:00:00\",\"2023-10-11T00:00:00\",\"2023-10-12T00:00:00\",\"2023-10-13T00:00:00\",\"2023-10-16T00:00:00\",\"2023-10-17T00:00:00\",\"2023-10-18T00:00:00\",\"2023-10-19T00:00:00\",\"2023-10-20T00:00:00\",\"2023-10-23T00:00:00\",\"2023-10-25T00:00:00\",\"2023-10-26T00:00:00\",\"2023-10-27T00:00:00\",\"2023-10-30T00:00:00\",\"2023-10-31T00:00:00\",\"2023-11-01T00:00:00\",\"2023-11-02T00:00:00\",\"2023-11-03T00:00:00\",\"2023-11-06T00:00:00\",\"2023-11-07T00:00:00\",\"2023-11-08T00:00:00\",\"2023-11-09T00:00:00\",\"2023-11-10T00:00:00\",\"2023-11-13T00:00:00\",\"2023-11-15T00:00:00\",\"2023-11-16T00:00:00\",\"2023-11-17T00:00:00\",\"2023-11-20T00:00:00\",\"2023-11-21T00:00:00\",\"2023-11-22T00:00:00\",\"2023-11-23T00:00:00\",\"2023-11-24T00:00:00\",\"2023-11-28T00:00:00\",\"2023-11-29T00:00:00\",\"2023-11-30T00:00:00\",\"2023-12-01T00:00:00\",\"2023-12-04T00:00:00\",\"2023-12-05T00:00:00\",\"2023-12-06T00:00:00\",\"2023-12-07T00:00:00\",\"2023-12-08T00:00:00\",\"2023-12-11T00:00:00\",\"2023-12-12T00:00:00\",\"2023-12-13T00:00:00\",\"2023-12-14T00:00:00\",\"2023-12-15T00:00:00\",\"2023-12-18T00:00:00\",\"2023-12-19T00:00:00\",\"2023-12-20T00:00:00\",\"2023-12-21T00:00:00\",\"2023-12-22T00:00:00\",\"2023-12-26T00:00:00\",\"2023-12-27T00:00:00\",\"2023-12-28T00:00:00\",\"2023-12-29T00:00:00\",\"2024-01-01T00:00:00\",\"2024-01-02T00:00:00\",\"2024-01-03T00:00:00\",\"2024-01-04T00:00:00\",\"2024-01-05T00:00:00\",\"2024-01-08T00:00:00\",\"2024-01-09T00:00:00\",\"2024-01-10T00:00:00\",\"2024-01-11T00:00:00\",\"2024-01-12T00:00:00\",\"2024-01-15T00:00:00\",\"2024-01-16T00:00:00\",\"2024-01-17T00:00:00\",\"2024-01-18T00:00:00\",\"2024-01-19T00:00:00\",\"2024-01-20T00:00:00\"],\"y\":[null,null,null,null,246.5,244.62999877929687,244.3299987792969,245.87999877929687,247.95,251.93000183105468,254.4600036621094,256.2200042724609,257.5500030517578,258.0800018310547,256.3300018310547,252.62000122070313,248.46000061035156,243.76000061035157,240.08999938964843,238.4199981689453,239.3299987792969,240.91000061035157,241.91000061035157,243.22000122070312,246.36000061035156,248.2699981689453,250.14999694824218,251.15999755859374,253.27999572753907,254.0399963378906,254.60999755859376,254.78999938964844,256.3,257.56000366210935,258.82000122070315,259.7900024414063,262.2,263.6200012207031,263.15,264.9800048828125,266.40000610351564,267.860009765625,273.3300048828125,280.9100036621094,287.3400024414062,293.27000122070314,298.1299987792969,298.7100036621094,296.7600036621094,294.07000122070315,292.75,292.2099975585937,292.3999938964844,289.12999267578124,286.6199951171875,285.8299926757812,288.63999633789064,291.3,298.32000122070315,304.25,313.2200012207031,318.7099975585937,323.5899963378906,334.7199951171875,350.1999938964844,361.4899963378906,371.88999633789064,381.4999938964844,383.5799987792969,380.3299987792969,377.7199951171875,378.7,378.0100036621094,378.02000122070314,378.7,378.35],\"type\":\"scatter\"},{\"line\":{\"color\":\"orange\",\"width\":2},\"name\":\"MA 20\",\"opacity\":0.7,\"x\":[\"2023-10-03T00:00:00\",\"2023-10-04T00:00:00\",\"2023-10-05T00:00:00\",\"2023-10-06T00:00:00\",\"2023-10-09T00:00:00\",\"2023-10-10T00:00:00\",\"2023-10-11T00:00:00\",\"2023-10-12T00:00:00\",\"2023-10-13T00:00:00\",\"2023-10-16T00:00:00\",\"2023-10-17T00:00:00\",\"2023-10-18T00:00:00\",\"2023-10-19T00:00:00\",\"2023-10-20T00:00:00\",\"2023-10-23T00:00:00\",\"2023-10-25T00:00:00\",\"2023-10-26T00:00:00\",\"2023-10-27T00:00:00\",\"2023-10-30T00:00:00\",\"2023-10-31T00:00:00\",\"2023-11-01T00:00:00\",\"2023-11-02T00:00:00\",\"2023-11-03T00:00:00\",\"2023-11-06T00:00:00\",\"2023-11-07T00:00:00\",\"2023-11-08T00:00:00\",\"2023-11-09T00:00:00\",\"2023-11-10T00:00:00\",\"2023-11-13T00:00:00\",\"2023-11-15T00:00:00\",\"2023-11-16T00:00:00\",\"2023-11-17T00:00:00\",\"2023-11-20T00:00:00\",\"2023-11-21T00:00:00\",\"2023-11-22T00:00:00\",\"2023-11-23T00:00:00\",\"2023-11-24T00:00:00\",\"2023-11-28T00:00:00\",\"2023-11-29T00:00:00\",\"2023-11-30T00:00:00\",\"2023-12-01T00:00:00\",\"2023-12-04T00:00:00\",\"2023-12-05T00:00:00\",\"2023-12-06T00:00:00\",\"2023-12-07T00:00:00\",\"2023-12-08T00:00:00\",\"2023-12-11T00:00:00\",\"2023-12-12T00:00:00\",\"2023-12-13T00:00:00\",\"2023-12-14T00:00:00\",\"2023-12-15T00:00:00\",\"2023-12-18T00:00:00\",\"2023-12-19T00:00:00\",\"2023-12-20T00:00:00\",\"2023-12-21T00:00:00\",\"2023-12-22T00:00:00\",\"2023-12-26T00:00:00\",\"2023-12-27T00:00:00\",\"2023-12-28T00:00:00\",\"2023-12-29T00:00:00\",\"2024-01-01T00:00:00\",\"2024-01-02T00:00:00\",\"2024-01-03T00:00:00\",\"2024-01-04T00:00:00\",\"2024-01-05T00:00:00\",\"2024-01-08T00:00:00\",\"2024-01-09T00:00:00\",\"2024-01-10T00:00:00\",\"2024-01-11T00:00:00\",\"2024-01-12T00:00:00\",\"2024-01-15T00:00:00\",\"2024-01-16T00:00:00\",\"2024-01-17T00:00:00\",\"2024-01-18T00:00:00\",\"2024-01-19T00:00:00\",\"2024-01-20T00:00:00\"],\"y\":[null,null,null,null,null,null,null,null,null,null,null,null,null,null,null,null,null,null,null,248.29500045776368,247.76000061035157,247.48000106811523,247.27500076293944,247.33500061035156,248.26000061035157,248.67000045776368,248.93500061035155,248.59500045776366,248.66749954223633,248.78749923706056,248.70749893188477,248.57749938964844,248.28249969482422,248.5375,249.40999908447264,250.49999923706054,252.01249923706055,253.24749984741212,254.3025001525879,256.0500007629395,257.2675010681152,258.75000152587893,261.10250091552734,263.72500076293943,266.2950012207031,268.5175018310547,270.74500198364257,272.99000244140626,274.59500274658205,276.30250244140626,278.05250244140626,280.1000015258789,282.01500091552737,282.4875,283.2525009155273,284.5625,286.7100006103516,288.93500061035155,291.2800003051758,293.0699996948242,296.2674987792969,299.42249755859376,301.49999847412107,304.7324981689453,308.7849975585938,313.32249755859374,317.8624969482422,322.19749603271487,326.4374969482422,330.34999694824216,334.56499633789065,339.48499755859376,343.5999984741211,348.65999908447264,353.3699981689453,357.6949981689453],\"type\":\"scatter\"}],                        {\"template\":{\"data\":{\"histogram2dcontour\":[{\"type\":\"histogram2dcontour\",\"colorbar\":{\"outlinewidth\":0,\"ticks\":\"\"},\"colorscale\":[[0.0,\"#0d0887\"],[0.1111111111111111,\"#46039f\"],[0.2222222222222222,\"#7201a8\"],[0.3333333333333333,\"#9c179e\"],[0.4444444444444444,\"#bd3786\"],[0.5555555555555556,\"#d8576b\"],[0.6666666666666666,\"#ed7953\"],[0.7777777777777778,\"#fb9f3a\"],[0.8888888888888888,\"#fdca26\"],[1.0,\"#f0f921\"]]}],\"choropleth\":[{\"type\":\"choropleth\",\"colorbar\":{\"outlinewidth\":0,\"ticks\":\"\"}}],\"histogram2d\":[{\"type\":\"histogram2d\",\"colorbar\":{\"outlinewidth\":0,\"ticks\":\"\"},\"colorscale\":[[0.0,\"#0d0887\"],[0.1111111111111111,\"#46039f\"],[0.2222222222222222,\"#7201a8\"],[0.3333333333333333,\"#9c179e\"],[0.4444444444444444,\"#bd3786\"],[0.5555555555555556,\"#d8576b\"],[0.6666666666666666,\"#ed7953\"],[0.7777777777777778,\"#fb9f3a\"],[0.8888888888888888,\"#fdca26\"],[1.0,\"#f0f921\"]]}],\"heatmap\":[{\"type\":\"heatmap\",\"colorbar\":{\"outlinewidth\":0,\"ticks\":\"\"},\"colorscale\":[[0.0,\"#0d0887\"],[0.1111111111111111,\"#46039f\"],[0.2222222222222222,\"#7201a8\"],[0.3333333333333333,\"#9c179e\"],[0.4444444444444444,\"#bd3786\"],[0.5555555555555556,\"#d8576b\"],[0.6666666666666666,\"#ed7953\"],[0.7777777777777778,\"#fb9f3a\"],[0.8888888888888888,\"#fdca26\"],[1.0,\"#f0f921\"]]}],\"heatmapgl\":[{\"type\":\"heatmapgl\",\"colorbar\":{\"outlinewidth\":0,\"ticks\":\"\"},\"colorscale\":[[0.0,\"#0d0887\"],[0.1111111111111111,\"#46039f\"],[0.2222222222222222,\"#7201a8\"],[0.3333333333333333,\"#9c179e\"],[0.4444444444444444,\"#bd3786\"],[0.5555555555555556,\"#d8576b\"],[0.6666666666666666,\"#ed7953\"],[0.7777777777777778,\"#fb9f3a\"],[0.8888888888888888,\"#fdca26\"],[1.0,\"#f0f921\"]]}],\"contourcarpet\":[{\"type\":\"contourcarpet\",\"colorbar\":{\"outlinewidth\":0,\"ticks\":\"\"}}],\"contour\":[{\"type\":\"contour\",\"colorbar\":{\"outlinewidth\":0,\"ticks\":\"\"},\"colorscale\":[[0.0,\"#0d0887\"],[0.1111111111111111,\"#46039f\"],[0.2222222222222222,\"#7201a8\"],[0.3333333333333333,\"#9c179e\"],[0.4444444444444444,\"#bd3786\"],[0.5555555555555556,\"#d8576b\"],[0.6666666666666666,\"#ed7953\"],[0.7777777777777778,\"#fb9f3a\"],[0.8888888888888888,\"#fdca26\"],[1.0,\"#f0f921\"]]}],\"surface\":[{\"type\":\"surface\",\"colorbar\":{\"outlinewidth\":0,\"ticks\":\"\"},\"colorscale\":[[0.0,\"#0d0887\"],[0.1111111111111111,\"#46039f\"],[0.2222222222222222,\"#7201a8\"],[0.3333333333333333,\"#9c179e\"],[0.4444444444444444,\"#bd3786\"],[0.5555555555555556,\"#d8576b\"],[0.6666666666666666,\"#ed7953\"],[0.7777777777777778,\"#fb9f3a\"],[0.8888888888888888,\"#fdca26\"],[1.0,\"#f0f921\"]]}],\"mesh3d\":[{\"type\":\"mesh3d\",\"colorbar\":{\"outlinewidth\":0,\"ticks\":\"\"}}],\"scatter\":[{\"fillpattern\":{\"fillmode\":\"overlay\",\"size\":10,\"solidity\":0.2},\"type\":\"scatter\"}],\"parcoords\":[{\"type\":\"parcoords\",\"line\":{\"colorbar\":{\"outlinewidth\":0,\"ticks\":\"\"}}}],\"scatterpolargl\":[{\"type\":\"scatterpolargl\",\"marker\":{\"colorbar\":{\"outlinewidth\":0,\"ticks\":\"\"}}}],\"bar\":[{\"error_x\":{\"color\":\"#2a3f5f\"},\"error_y\":{\"color\":\"#2a3f5f\"},\"marker\":{\"line\":{\"color\":\"#E5ECF6\",\"width\":0.5},\"pattern\":{\"fillmode\":\"overlay\",\"size\":10,\"solidity\":0.2}},\"type\":\"bar\"}],\"scattergeo\":[{\"type\":\"scattergeo\",\"marker\":{\"colorbar\":{\"outlinewidth\":0,\"ticks\":\"\"}}}],\"scatterpolar\":[{\"type\":\"scatterpolar\",\"marker\":{\"colorbar\":{\"outlinewidth\":0,\"ticks\":\"\"}}}],\"histogram\":[{\"marker\":{\"pattern\":{\"fillmode\":\"overlay\",\"size\":10,\"solidity\":0.2}},\"type\":\"histogram\"}],\"scattergl\":[{\"type\":\"scattergl\",\"marker\":{\"colorbar\":{\"outlinewidth\":0,\"ticks\":\"\"}}}],\"scatter3d\":[{\"type\":\"scatter3d\",\"line\":{\"colorbar\":{\"outlinewidth\":0,\"ticks\":\"\"}},\"marker\":{\"colorbar\":{\"outlinewidth\":0,\"ticks\":\"\"}}}],\"scattermapbox\":[{\"type\":\"scattermapbox\",\"marker\":{\"colorbar\":{\"outlinewidth\":0,\"ticks\":\"\"}}}],\"scatterternary\":[{\"type\":\"scatterternary\",\"marker\":{\"colorbar\":{\"outlinewidth\":0,\"ticks\":\"\"}}}],\"scattercarpet\":[{\"type\":\"scattercarpet\",\"marker\":{\"colorbar\":{\"outlinewidth\":0,\"ticks\":\"\"}}}],\"carpet\":[{\"aaxis\":{\"endlinecolor\":\"#2a3f5f\",\"gridcolor\":\"white\",\"linecolor\":\"white\",\"minorgridcolor\":\"white\",\"startlinecolor\":\"#2a3f5f\"},\"baxis\":{\"endlinecolor\":\"#2a3f5f\",\"gridcolor\":\"white\",\"linecolor\":\"white\",\"minorgridcolor\":\"white\",\"startlinecolor\":\"#2a3f5f\"},\"type\":\"carpet\"}],\"table\":[{\"cells\":{\"fill\":{\"color\":\"#EBF0F8\"},\"line\":{\"color\":\"white\"}},\"header\":{\"fill\":{\"color\":\"#C8D4E3\"},\"line\":{\"color\":\"white\"}},\"type\":\"table\"}],\"barpolar\":[{\"marker\":{\"line\":{\"color\":\"#E5ECF6\",\"width\":0.5},\"pattern\":{\"fillmode\":\"overlay\",\"size\":10,\"solidity\":0.2}},\"type\":\"barpolar\"}],\"pie\":[{\"automargin\":true,\"type\":\"pie\"}]},\"layout\":{\"autotypenumbers\":\"strict\",\"colorway\":[\"#636efa\",\"#EF553B\",\"#00cc96\",\"#ab63fa\",\"#FFA15A\",\"#19d3f3\",\"#FF6692\",\"#B6E880\",\"#FF97FF\",\"#FECB52\"],\"font\":{\"color\":\"#2a3f5f\"},\"hovermode\":\"closest\",\"hoverlabel\":{\"align\":\"left\"},\"paper_bgcolor\":\"white\",\"plot_bgcolor\":\"#E5ECF6\",\"polar\":{\"bgcolor\":\"#E5ECF6\",\"angularaxis\":{\"gridcolor\":\"white\",\"linecolor\":\"white\",\"ticks\":\"\"},\"radialaxis\":{\"gridcolor\":\"white\",\"linecolor\":\"white\",\"ticks\":\"\"}},\"ternary\":{\"bgcolor\":\"#E5ECF6\",\"aaxis\":{\"gridcolor\":\"white\",\"linecolor\":\"white\",\"ticks\":\"\"},\"baxis\":{\"gridcolor\":\"white\",\"linecolor\":\"white\",\"ticks\":\"\"},\"caxis\":{\"gridcolor\":\"white\",\"linecolor\":\"white\",\"ticks\":\"\"}},\"coloraxis\":{\"colorbar\":{\"outlinewidth\":0,\"ticks\":\"\"}},\"colorscale\":{\"sequential\":[[0.0,\"#0d0887\"],[0.1111111111111111,\"#46039f\"],[0.2222222222222222,\"#7201a8\"],[0.3333333333333333,\"#9c179e\"],[0.4444444444444444,\"#bd3786\"],[0.5555555555555556,\"#d8576b\"],[0.6666666666666666,\"#ed7953\"],[0.7777777777777778,\"#fb9f3a\"],[0.8888888888888888,\"#fdca26\"],[1.0,\"#f0f921\"]],\"sequentialminus\":[[0.0,\"#0d0887\"],[0.1111111111111111,\"#46039f\"],[0.2222222222222222,\"#7201a8\"],[0.3333333333333333,\"#9c179e\"],[0.4444444444444444,\"#bd3786\"],[0.5555555555555556,\"#d8576b\"],[0.6666666666666666,\"#ed7953\"],[0.7777777777777778,\"#fb9f3a\"],[0.8888888888888888,\"#fdca26\"],[1.0,\"#f0f921\"]],\"diverging\":[[0,\"#8e0152\"],[0.1,\"#c51b7d\"],[0.2,\"#de77ae\"],[0.3,\"#f1b6da\"],[0.4,\"#fde0ef\"],[0.5,\"#f7f7f7\"],[0.6,\"#e6f5d0\"],[0.7,\"#b8e186\"],[0.8,\"#7fbc41\"],[0.9,\"#4d9221\"],[1,\"#276419\"]]},\"xaxis\":{\"gridcolor\":\"white\",\"linecolor\":\"white\",\"ticks\":\"\",\"title\":{\"standoff\":15},\"zerolinecolor\":\"white\",\"automargin\":true,\"zerolinewidth\":2},\"yaxis\":{\"gridcolor\":\"white\",\"linecolor\":\"white\",\"ticks\":\"\",\"title\":{\"standoff\":15},\"zerolinecolor\":\"white\",\"automargin\":true,\"zerolinewidth\":2},\"scene\":{\"xaxis\":{\"backgroundcolor\":\"#E5ECF6\",\"gridcolor\":\"white\",\"linecolor\":\"white\",\"showbackground\":true,\"ticks\":\"\",\"zerolinecolor\":\"white\",\"gridwidth\":2},\"yaxis\":{\"backgroundcolor\":\"#E5ECF6\",\"gridcolor\":\"white\",\"linecolor\":\"white\",\"showbackground\":true,\"ticks\":\"\",\"zerolinecolor\":\"white\",\"gridwidth\":2},\"zaxis\":{\"backgroundcolor\":\"#E5ECF6\",\"gridcolor\":\"white\",\"linecolor\":\"white\",\"showbackground\":true,\"ticks\":\"\",\"zerolinecolor\":\"white\",\"gridwidth\":2}},\"shapedefaults\":{\"line\":{\"color\":\"#2a3f5f\"}},\"annotationdefaults\":{\"arrowcolor\":\"#2a3f5f\",\"arrowhead\":0,\"arrowwidth\":1},\"geo\":{\"bgcolor\":\"white\",\"landcolor\":\"#E5ECF6\",\"subunitcolor\":\"white\",\"showland\":true,\"showlakes\":true,\"lakecolor\":\"white\"},\"title\":{\"x\":0.05},\"mapbox\":{\"style\":\"light\"}}},\"xaxis\":{\"rangeslider\":{\"visible\":false},\"rangebreaks\":[{\"bounds\":[\"sat\",\"mon\"],\"values\":[\"2023-10-07\",\"2023-10-08\",\"2023-10-14\",\"2023-10-15\",\"2023-10-21\",\"2023-10-22\",\"2023-10-24\",\"2023-10-28\",\"2023-10-29\",\"2023-11-04\",\"2023-11-05\",\"2023-11-11\",\"2023-11-12\",\"2023-11-14\",\"2023-11-18\",\"2023-11-19\",\"2023-11-25\",\"2023-11-26\",\"2023-11-27\",\"2023-12-02\",\"2023-12-03\",\"2023-12-09\",\"2023-12-10\",\"2023-12-16\",\"2023-12-17\",\"2023-12-23\",\"2023-12-24\",\"2023-12-25\",\"2023-12-30\",\"2023-12-31\",\"2024-01-06\",\"2024-01-07\",\"2024-01-13\",\"2024-01-14\"]}]}},                        {\"responsive\": true}                    ).then(function(){\n",
       "                            \n",
       "var gd = document.getElementById('e56c9d94-f4b2-410d-b6dd-729b9732ae69');\n",
       "var x = new MutationObserver(function (mutations, observer) {{\n",
       "        var display = window.getComputedStyle(gd).display;\n",
       "        if (!display || display === 'none') {{\n",
       "            console.log([gd, 'removed!']);\n",
       "            Plotly.purge(gd);\n",
       "            observer.disconnect();\n",
       "        }}\n",
       "}});\n",
       "\n",
       "// Listen for the removal of the full notebook cells\n",
       "var notebookContainer = gd.closest('#notebook-container');\n",
       "if (notebookContainer) {{\n",
       "    x.observe(notebookContainer, {childList: true});\n",
       "}}\n",
       "\n",
       "// Listen for the clearing of the current output cell\n",
       "var outputEl = gd.closest('.output');\n",
       "if (outputEl) {{\n",
       "    x.observe(outputEl, {childList: true});\n",
       "}}\n",
       "\n",
       "                        })                };                });            </script>        </div>"
      ]
     },
     "metadata": {},
     "output_type": "display_data"
    }
   ],
   "source": [
    "fig.add_trace(go.Scatter(x=df.index, \n",
    "                         y=df['MA5'], \n",
    "                         opacity=0.7, \n",
    "                         line=dict(color='blue', width=2), \n",
    "                         name='MA 5'))\n",
    "fig.add_trace(go.Scatter(x=df.index, \n",
    "                         y=df['MA20'], \n",
    "                         opacity=0.7, \n",
    "                         line=dict(color='orange', width=2), \n",
    "                         name='MA 20'))"
   ]
  },
  {
   "cell_type": "code",
   "execution_count": 18,
   "id": "70e19a25-5753-4a2d-a430-843ffa0519e1",
   "metadata": {},
   "outputs": [],
   "source": [
    "def MACD(self, name,  bars: list):\n",
    "        \"\"\"\n",
    "        Return MACD for given time series. Bars list must be 26 bars\n",
    "        in length (last 26 bars for period).\n",
    "\n",
    "        MACD = EMA(12) - EMA(26)\n",
    "\n",
    "        Note we only use the MACD, not signal or histogram.\n",
    "        \"\"\"\n",
    "\n",
    "        self.check_bars_type(bars)\n",
    "\n",
    "        macd, signal, hist = ta.MACD(\n",
    "            bars['close'], fastperiod=12, slowperiod=26, signalperiod=9)\n",
    "\n",
    "        return macd "
   ]
  },
  {
   "cell_type": "code",
   "execution_count": null,
   "id": "86b8a5e5-34f9-43d5-9127-016bd03d8a1f",
   "metadata": {},
   "outputs": [],
   "source": []
  }
 ],
 "metadata": {
  "kernelspec": {
   "display_name": "Python 3 (ipykernel)",
   "language": "python",
   "name": "python3"
  },
  "language_info": {
   "codemirror_mode": {
    "name": "ipython",
    "version": 3
   },
   "file_extension": ".py",
   "mimetype": "text/x-python",
   "name": "python",
   "nbconvert_exporter": "python",
   "pygments_lexer": "ipython3",
   "version": "3.10.12"
  }
 },
 "nbformat": 4,
 "nbformat_minor": 5
}
