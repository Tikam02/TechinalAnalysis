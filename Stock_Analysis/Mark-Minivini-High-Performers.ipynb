{
 "cells": [
  {
   "cell_type": "code",
   "execution_count": 1,
   "id": "34ecf32e-9fd7-4ef4-9d6f-be53f299b711",
   "metadata": {},
   "outputs": [],
   "source": [
    "# Mark Minivini Stronger Stocks Momentum"
   ]
  },
  {
   "cell_type": "markdown",
   "id": "a95714d9-bd5e-4a39-9299-cbf3a0d8b525",
   "metadata": {},
   "source": [
    "Scan for the strongest performing stock in terms of price increases over 1 months, 3 months and 6 months.\n",
    "\n",
    "- If the market is going down and these stocks are increasing (or even trading sideways) then the stock is screaming that it is stronger than the overall market.\n",
    "- If the market is going up, then it could signal that the market acts as leverage to the stock (e.g. a 10% increase in the market may mean a 100% increase in the stock)."
   ]
  },
  {
   "cell_type": "code",
   "execution_count": 50,
   "id": "c4badda9-37db-4a31-8dab-c7f944abaf63",
   "metadata": {},
   "outputs": [
    {
     "name": "stdout",
     "output_type": "stream",
     "text": [
      "Column names: Index(['Company Name', 'Industry', 'Symbol', 'Series', 'ISIN Code'], dtype='object')\n",
      "Updated data saved to ../data/updated_niftysmallcap100_stocks.csv\n"
     ]
    }
   ],
   "source": [
    "import pandas as pd\n",
    "\n",
    "# Replace with the actual path to your input CSV file\n",
    "input_csv_path = '../data/ind_niftysmallcap100list.csv'\n",
    "\n",
    "# Replace with the actual path where you want to save the updated CSV file\n",
    "output_csv_path = '../data/updated_niftysmallcap100_stocks.csv'\n",
    "\n",
    "\n",
    "# Read the original CSV file\n",
    "data = pd.read_csv(input_csv_path)\n",
    "\n",
    "# Print the column names to verify the correct column name\n",
    "print(\"Column names:\", data.columns)\n",
    "\n",
    "# Copy the \"Industry\" column data to a new column named \"Original_Industry\"\n",
    "if 'Industry' in data.columns:\n",
    "    data['Original_Industry'] = data['Industry']\n",
    "else:\n",
    "    print(\"Error: 'Industry' column not found in the input CSV file.\")\n",
    "\n",
    "# Create a new \"Symbol\" column with \".NS\" appended to the values\n",
    "data['Symbol'] = data['Symbol'].apply(lambda x: f'{x}.NS')\n",
    "\n",
    "# Save the updated data to a new CSV file\n",
    "data.to_csv(output_csv_path, index=False)\n",
    "\n",
    "print(f\"Updated data saved to {output_csv_path}\")\n"
   ]
  },
  {
   "cell_type": "code",
   "execution_count": null,
   "id": "c3f854e2-b5d2-4891-9b7f-ac9a21806144",
   "metadata": {},
   "outputs": [],
   "source": []
  },
  {
   "cell_type": "code",
   "execution_count": 51,
   "id": "3427bad0-8dfd-406a-ba8a-168786cd3e6d",
   "metadata": {},
   "outputs": [
    {
     "name": "stderr",
     "output_type": "stream",
     "text": [
      "[*********************100%%**********************]  100 of 100 completed"
     ]
    },
    {
     "name": "stdout",
     "output_type": "stream",
     "text": [
      "           Symbol      Growth                           Industry  sector_rank\n",
      "82     RAYMOND.NS   17.568392                           Textiles          1.0\n",
      "98  WELSPUNLIV.NS   -0.223218                           Textiles          2.0\n",
      "42        HFCL.NS   62.546816                  Telecommunication          1.0\n",
      "87       ROUTE.NS    3.373592                  Telecommunication          2.0\n",
      "94        TTML.NS   -6.641870                  Telecommunication          3.0\n",
      "92    TEJASNET.NS   -7.236113                  Telecommunication          4.0\n",
      "84   REDINGTON.NS   31.193238                           Services          1.0\n",
      "36         FSL.NS   15.354111                           Services          2.0\n",
      "88        SJVN.NS   42.461714                              Power          1.0\n",
      "75    NLCINDIA.NS   35.875629                              Power          2.0\n",
      "22        CESC.NS   27.213929                              Power          3.0\n",
      "71        MRPL.NS   91.379311         Oil Gas & Consumable Fuels          1.0\n",
      "70         MGL.NS   41.153232         Oil Gas & Consumable Fuels          2.0\n",
      "1    AEGISCHEM.NS   19.252642         Oil Gas & Consumable Fuels          3.0\n",
      "73  NATIONALUM.NS   76.853337                    Metals & Mining          1.0\n",
      "43  HINDCOPPER.NS   60.410140                    Metals & Mining          2.0\n",
      "76     NSLNISP.NS   45.028573                    Metals & Mining          3.0\n",
      "80     PVRINOX.NS  -19.669634  Media Entertainment & Publication          1.0\n",
      "50   INTELLECT.NS   47.312270             Information Technology          1.0\n",
      "14       BSOFT.NS   24.034975             Information Technology          2.0\n",
      "89  SONATSOFTW.NS   20.122736             Information Technology          3.0\n",
      "91       TANLA.NS    7.110461             Information Technology          4.0\n",
      "67     MEDANTA.NS   36.170101                         Healthcare          1.0\n",
      "72  NATCOPHARM.NS   26.515151                         Healthcare          2.0\n",
      "39    GRANULES.NS   18.391243                         Healthcare          3.0\n",
      "37    GLENMARK.NS   17.114563                         Healthcare          4.0\n",
      "21  CENTURYTEX.NS   14.230357                   Forest Materials          1.0\n",
      "44       HUDCO.NS  128.721530                 Financial Services          1.0\n",
      "51         IOB.NS   62.626273                 Financial Services          2.0\n",
      "95     UCOBANK.NS   51.973684                 Financial Services          3.0\n",
      "20   CENTRALBK.NS   43.679464                 Financial Services          4.0\n",
      "81      RADICO.NS    2.445389         Fast Moving Consumer Goods          1.0\n",
      "57   JYOTHYLAB.NS    1.137263         Fast Moving Consumer Goods          2.0\n",
      "10      BIKAJI.NS   -5.678424         Fast Moving Consumer Goods          3.0\n",
      "85      RENUKA.NS   -6.024096         Fast Moving Consumer Goods          4.0\n",
      "12         BLS.NS   41.095892                  Consumer Services          1.0\n",
      "31  EASEMYTRIP.NS   26.580643                  Consumer Services          2.0\n",
      "49   INDIAMART.NS    2.293944                  Consumer Services          3.0\n",
      "68     MEDPLUS.NS  -12.676589                  Consumer Services          4.0\n",
      "58  KALYANKJIL.NS   23.159620                  Consumer Durables          1.0\n",
      "3        AMBER.NS   16.770150                  Consumer Durables          2.0\n",
      "97      VIPIND.NS   -7.084239                  Consumer Durables          3.0\n",
      "15      CAMPUS.NS  -10.434784                  Consumer Durables          4.0\n",
      "11  BIRLACORPN.NS   17.742222             Construction Materials          1.0\n",
      "55   JKLAKSHMI.NS   15.655917             Construction Materials          2.0\n",
      "74        NBCC.NS   80.174142                       Construction          1.0\n",
      "52         IRB.NS   72.058812                       Construction          2.0\n",
      "86       RITES.NS   69.252958                       Construction          3.0\n",
      "56  JUBLINGREA.NS   12.525975                          Chemicals          1.0\n",
      "23  CHAMBLFERT.NS   10.415357                          Chemicals          2.0\n",
      "8    BALAMINES.NS   10.393020                          Chemicals          3.0\n",
      "5       ANURAS.NS   -5.494182                          Chemicals          4.0\n",
      "25  COCHINSHIP.NS   49.502995                      Capital Goods          1.0\n",
      "29  DATAPATTNS.NS   36.226555                      Capital Goods          2.0\n",
      "32   ELGIEQUIP.NS   30.538409                      Capital Goods          3.0\n",
      "60         KEC.NS   22.277823                      Capital Goods          4.0\n",
      "54        JBMA.NS   72.132933     Automobile and Auto Components          1.0\n",
      "19     CEATLTD.NS   31.092595     Automobile and Auto Components          2.0\n",
      "34    EXIDEIND.NS   12.126932     Automobile and Auto Components          3.0\n",
      "7        ARE&M.NS   10.341912     Automobile and Auto Components          4.0\n"
     ]
    },
    {
     "name": "stderr",
     "output_type": "stream",
     "text": [
      "\n",
      "/tmp/ipykernel_12278/2656974246.py:35: PerformanceWarning:\n",
      "\n",
      "dropping on a non-lexsorted multi-index without a level parameter may impact performance.\n",
      "\n"
     ]
    }
   ],
   "source": [
    "import pandas as pd\n",
    "import yfinance as yf\n",
    "\n",
    "GROWTH_SINCE = '2023-12-01'  # The lower date to calculate the stock performance\n",
    "GROUPBY_COL = 'Industry'  # Use 'Industry' instead of 'GICS Sector' or 'GICS Sub-Industry'\n",
    "CSV_FILE_PATH = '../data/updated_niftysmallcap100_stocks.csv'  # Replace with the actual path to your CSV file\n",
    "NUM_PER_GROUP = 4  # The top n winning stocks per group\n",
    "\n",
    "if __name__ == '__main__':\n",
    "    \n",
    "    # Read the S&P500 stock information from the CSV file\n",
    "    ticker_info = pd.read_csv(CSV_FILE_PATH)\n",
    "    \n",
    "    # Use the original ticker symbols without any modifications\n",
    "    tickers = ticker_info['Symbol'].unique().tolist()\n",
    "    \n",
    "    # Download the price data for all the stocks in the S&P list\n",
    "    ticker_prices = yf.download(\n",
    "        tickers,\n",
    "        start=GROWTH_SINCE,\n",
    "        threads=True,\n",
    "    )\n",
    "    \n",
    "    # Ensure that the MultiIndex is lexicographically sorted\n",
    "    ticker_prices = ticker_prices.sort_index(axis=1, level=0)\n",
    "    \n",
    "    # Filter to only the closing prices (this is used for the comparison)\n",
    "    ticker_prices = ticker_prices[\n",
    "        [col for col in ticker_prices.columns if col[0] == 'Close']\n",
    "    ]\n",
    "    \n",
    "    # Clean up the price dataframe, noting we don't require the date column\n",
    "    # since we are calculating the performance over the entire interval\n",
    "    ticker_prices = (\n",
    "        ticker_prices\n",
    "        .dropna()\n",
    "        .reset_index()\n",
    "        .drop(columns='Date')\n",
    "    )\n",
    "    \n",
    "    # Find the stock growth in percent\n",
    "    growth = 100 * (ticker_prices.iloc[-1] / ticker_prices.iloc[0] - 1)\n",
    "    \n",
    "    # Cleaning of the growth pandas series, changing it back to a dataframe\n",
    "    # so that we can merge with the sector/industry to find the winning stocks\n",
    "    # per that group\n",
    "    growth = (\n",
    "        growth\n",
    "        .to_frame()\n",
    "        .reset_index()\n",
    "        .drop(columns=['level_0'])\n",
    "        .rename(columns={'level_1': 'Symbol', 0: 'Growth'})\n",
    "    )\n",
    "    \n",
    "    # Merge the growth with the ticker information dataframe to obtain the\n",
    "    # column used for the groupby\n",
    "    growth = growth.merge(\n",
    "        ticker_info[['Symbol', GROUPBY_COL]],\n",
    "        on='Symbol',\n",
    "        how='left',\n",
    "    )\n",
    "    \n",
    "    # Find the ranking of each stock per sector\n",
    "    growth['sector_rank'] = (\n",
    "        growth\n",
    "        .groupby(GROUPBY_COL)\n",
    "        ['Growth']\n",
    "        .rank(ascending=False)\n",
    "    )\n",
    "    \n",
    "    # Filter to only the winning stocks, and sort the values\n",
    "    growth = (\n",
    "        growth[growth['sector_rank'] <= NUM_PER_GROUP]\n",
    "        .sort_values(\n",
    "            [GROUPBY_COL, 'Growth'],\n",
    "            ascending=False,\n",
    "        )\n",
    "    )\n",
    "\n",
    "    print(growth)\n"
   ]
  },
  {
   "cell_type": "code",
   "execution_count": 52,
   "id": "9f1e71b0-8b38-44a7-bcd6-e7d73c6b62b3",
   "metadata": {},
   "outputs": [
    {
     "name": "stdout",
     "output_type": "stream",
     "text": [
      "Output saved to ../data/nifty_smallcap_100_high_performers.csv\n"
     ]
    }
   ],
   "source": [
    "# Save the output to a CSV file\n",
    "output_csv_path = '../data/nifty_smallcap_100_high_performers.csv'  # Replace with the desired path\n",
    "growth.to_csv(output_csv_path, index=False)\n",
    "\n",
    "print(f\"Output saved to {output_csv_path}\")\n"
   ]
  },
  {
   "cell_type": "code",
   "execution_count": 53,
   "id": "cffbaa61-52fd-4e37-9d71-3b99b32c97b6",
   "metadata": {},
   "outputs": [
    {
     "data": {
      "application/vnd.plotly.v1+json": {
       "config": {
        "plotlyServerURL": "https://plot.ly"
       },
       "data": [
        {
         "hovertemplate": "Industry=Textiles<br>Symbol=%{x}<br>Growth (%)=%{y}<extra></extra>",
         "legendgroup": "Textiles",
         "marker": {
          "color": "#636efa",
          "symbol": "circle"
         },
         "mode": "markers",
         "name": "Textiles",
         "orientation": "v",
         "showlegend": true,
         "type": "scatter",
         "x": [
          "RAYMOND.NS",
          "WELSPUNLIV.NS"
         ],
         "xaxis": "x",
         "y": [
          17.568392182250836,
          -0.2232181739180827
         ],
         "yaxis": "y"
        },
        {
         "hovertemplate": "Industry=Telecommunication<br>Symbol=%{x}<br>Growth (%)=%{y}<extra></extra>",
         "legendgroup": "Telecommunication",
         "marker": {
          "color": "#EF553B",
          "symbol": "circle"
         },
         "mode": "markers",
         "name": "Telecommunication",
         "orientation": "v",
         "showlegend": true,
         "type": "scatter",
         "x": [
          "HFCL.NS",
          "ROUTE.NS",
          "TTML.NS",
          "TEJASNET.NS"
         ],
         "xaxis": "x",
         "y": [
          62.546816479400746,
          3.373592463682318,
          -6.641870458392029,
          -7.236112604184131
         ],
         "yaxis": "y"
        },
        {
         "hovertemplate": "Industry=Services<br>Symbol=%{x}<br>Growth (%)=%{y}<extra></extra>",
         "legendgroup": "Services",
         "marker": {
          "color": "#00cc96",
          "symbol": "circle"
         },
         "mode": "markers",
         "name": "Services",
         "orientation": "v",
         "showlegend": true,
         "type": "scatter",
         "x": [
          "REDINGTON.NS",
          "FSL.NS"
         ],
         "xaxis": "x",
         "y": [
          31.193238306070768,
          15.35411110680771
         ],
         "yaxis": "y"
        },
        {
         "hovertemplate": "Industry=Power<br>Symbol=%{x}<br>Growth (%)=%{y}<extra></extra>",
         "legendgroup": "Power",
         "marker": {
          "color": "#ab63fa",
          "symbol": "circle"
         },
         "mode": "markers",
         "name": "Power",
         "orientation": "v",
         "showlegend": true,
         "type": "scatter",
         "x": [
          "SJVN.NS",
          "NLCINDIA.NS",
          "CESC.NS"
         ],
         "xaxis": "x",
         "y": [
          42.46171351525201,
          35.87562936351467,
          27.213928829971245
         ],
         "yaxis": "y"
        },
        {
         "hovertemplate": "Industry=Oil Gas & Consumable Fuels<br>Symbol=%{x}<br>Growth (%)=%{y}<extra></extra>",
         "legendgroup": "Oil Gas & Consumable Fuels",
         "marker": {
          "color": "#FFA15A",
          "symbol": "circle"
         },
         "mode": "markers",
         "name": "Oil Gas & Consumable Fuels",
         "orientation": "v",
         "showlegend": true,
         "type": "scatter",
         "x": [
          "MRPL.NS",
          "MGL.NS",
          "AEGISCHEM.NS"
         ],
         "xaxis": "x",
         "y": [
          91.37931056082311,
          41.1532320616288,
          19.252642419087927
         ],
         "yaxis": "y"
        },
        {
         "hovertemplate": "Industry=Metals & Mining<br>Symbol=%{x}<br>Growth (%)=%{y}<extra></extra>",
         "legendgroup": "Metals & Mining",
         "marker": {
          "color": "#19d3f3",
          "symbol": "circle"
         },
         "mode": "markers",
         "name": "Metals & Mining",
         "orientation": "v",
         "showlegend": true,
         "type": "scatter",
         "x": [
          "NATIONALUM.NS",
          "HINDCOPPER.NS",
          "NSLNISP.NS"
         ],
         "xaxis": "x",
         "y": [
          76.85333658854168,
          60.41014024960789,
          45.02857317243303
         ],
         "yaxis": "y"
        },
        {
         "hovertemplate": "Industry=Media Entertainment & Publication<br>Symbol=%{x}<br>Growth (%)=%{y}<extra></extra>",
         "legendgroup": "Media Entertainment & Publication",
         "marker": {
          "color": "#FF6692",
          "symbol": "circle"
         },
         "mode": "markers",
         "name": "Media Entertainment & Publication",
         "orientation": "v",
         "showlegend": true,
         "type": "scatter",
         "x": [
          "PVRINOX.NS"
         ],
         "xaxis": "x",
         "y": [
          -19.66963375960572
         ],
         "yaxis": "y"
        },
        {
         "hovertemplate": "Industry=Information Technology<br>Symbol=%{x}<br>Growth (%)=%{y}<extra></extra>",
         "legendgroup": "Information Technology",
         "marker": {
          "color": "#B6E880",
          "symbol": "circle"
         },
         "mode": "markers",
         "name": "Information Technology",
         "orientation": "v",
         "showlegend": true,
         "type": "scatter",
         "x": [
          "INTELLECT.NS",
          "BSOFT.NS",
          "SONATSOFTW.NS",
          "TANLA.NS"
         ],
         "xaxis": "x",
         "y": [
          47.312269889347,
          24.034974769026608,
          20.12273646893121,
          7.110460792925322
         ],
         "yaxis": "y"
        },
        {
         "hovertemplate": "Industry=Healthcare<br>Symbol=%{x}<br>Growth (%)=%{y}<extra></extra>",
         "legendgroup": "Healthcare",
         "marker": {
          "color": "#FF97FF",
          "symbol": "circle"
         },
         "mode": "markers",
         "name": "Healthcare",
         "orientation": "v",
         "showlegend": true,
         "type": "scatter",
         "x": [
          "MEDANTA.NS",
          "NATCOPHARM.NS",
          "GRANULES.NS",
          "GLENMARK.NS"
         ],
         "xaxis": "x",
         "y": [
          36.170100575869846,
          26.51515069093131,
          18.39124319141852,
          17.114563284433835
         ],
         "yaxis": "y"
        },
        {
         "hovertemplate": "Industry=Forest Materials<br>Symbol=%{x}<br>Growth (%)=%{y}<extra></extra>",
         "legendgroup": "Forest Materials",
         "marker": {
          "color": "#FECB52",
          "symbol": "circle"
         },
         "mode": "markers",
         "name": "Forest Materials",
         "orientation": "v",
         "showlegend": true,
         "type": "scatter",
         "x": [
          "CENTURYTEX.NS"
         ],
         "xaxis": "x",
         "y": [
          14.230356526898856
         ],
         "yaxis": "y"
        },
        {
         "hovertemplate": "Industry=Financial Services<br>Symbol=%{x}<br>Growth (%)=%{y}<extra></extra>",
         "legendgroup": "Financial Services",
         "marker": {
          "color": "#636efa",
          "symbol": "circle"
         },
         "mode": "markers",
         "name": "Financial Services",
         "orientation": "v",
         "showlegend": true,
         "type": "scatter",
         "x": [
          "HUDCO.NS",
          "IOB.NS",
          "UCOBANK.NS",
          "CENTRALBK.NS"
         ],
         "xaxis": "x",
         "y": [
          128.7215299550155,
          62.62627274585579,
          51.97368421052631,
          43.67946415816304
         ],
         "yaxis": "y"
        },
        {
         "hovertemplate": "Industry=Fast Moving Consumer Goods<br>Symbol=%{x}<br>Growth (%)=%{y}<extra></extra>",
         "legendgroup": "Fast Moving Consumer Goods",
         "marker": {
          "color": "#EF553B",
          "symbol": "circle"
         },
         "mode": "markers",
         "name": "Fast Moving Consumer Goods",
         "orientation": "v",
         "showlegend": true,
         "type": "scatter",
         "x": [
          "RADICO.NS",
          "JYOTHYLAB.NS",
          "BIKAJI.NS",
          "RENUKA.NS"
         ],
         "xaxis": "x",
         "y": [
          2.445388993494224,
          1.1372634724407191,
          -5.678424222841749,
          -6.024096477831742
         ],
         "yaxis": "y"
        },
        {
         "hovertemplate": "Industry=Consumer Services<br>Symbol=%{x}<br>Growth (%)=%{y}<extra></extra>",
         "legendgroup": "Consumer Services",
         "marker": {
          "color": "#00cc96",
          "symbol": "circle"
         },
         "mode": "markers",
         "name": "Consumer Services",
         "orientation": "v",
         "showlegend": true,
         "type": "scatter",
         "x": [
          "BLS.NS",
          "EASEMYTRIP.NS",
          "INDIAMART.NS",
          "MEDPLUS.NS"
         ],
         "xaxis": "x",
         "y": [
          41.09589231985859,
          26.58064319241431,
          2.2939437636945392,
          -12.676589498919675
         ],
         "yaxis": "y"
        },
        {
         "hovertemplate": "Industry=Consumer Durables<br>Symbol=%{x}<br>Growth (%)=%{y}<extra></extra>",
         "legendgroup": "Consumer Durables",
         "marker": {
          "color": "#ab63fa",
          "symbol": "circle"
         },
         "mode": "markers",
         "name": "Consumer Durables",
         "orientation": "v",
         "showlegend": true,
         "type": "scatter",
         "x": [
          "KALYANKJIL.NS",
          "AMBER.NS",
          "VIPIND.NS",
          "CAMPUS.NS"
         ],
         "xaxis": "x",
         "y": [
          23.159619644443108,
          16.7701503210812,
          -7.08423874100138,
          -10.434783714405004
         ],
         "yaxis": "y"
        },
        {
         "hovertemplate": "Industry=Construction Materials<br>Symbol=%{x}<br>Growth (%)=%{y}<extra></extra>",
         "legendgroup": "Construction Materials",
         "marker": {
          "color": "#FFA15A",
          "symbol": "circle"
         },
         "mode": "markers",
         "name": "Construction Materials",
         "orientation": "v",
         "showlegend": true,
         "type": "scatter",
         "x": [
          "BIRLACORPN.NS",
          "JKLAKSHMI.NS"
         ],
         "xaxis": "x",
         "y": [
          17.742222210037696,
          15.655916978686646
         ],
         "yaxis": "y"
        },
        {
         "hovertemplate": "Industry=Construction<br>Symbol=%{x}<br>Growth (%)=%{y}<extra></extra>",
         "legendgroup": "Construction",
         "marker": {
          "color": "#19d3f3",
          "symbol": "circle"
         },
         "mode": "markers",
         "name": "Construction",
         "orientation": "v",
         "showlegend": true,
         "type": "scatter",
         "x": [
          "NBCC.NS",
          "IRB.NS",
          "RITES.NS"
         ],
         "xaxis": "x",
         "y": [
          80.17414233189655,
          72.05881242971115,
          69.25295826772614
         ],
         "yaxis": "y"
        },
        {
         "hovertemplate": "Industry=Chemicals<br>Symbol=%{x}<br>Growth (%)=%{y}<extra></extra>",
         "legendgroup": "Chemicals",
         "marker": {
          "color": "#FF6692",
          "symbol": "circle"
         },
         "mode": "markers",
         "name": "Chemicals",
         "orientation": "v",
         "showlegend": true,
         "type": "scatter",
         "x": [
          "JUBLINGREA.NS",
          "CHAMBLFERT.NS",
          "BALAMINES.NS",
          "ANURAS.NS"
         ],
         "xaxis": "x",
         "y": [
          12.525975348758989,
          10.415357374931776,
          10.393019588967212,
          -5.494181581939994
         ],
         "yaxis": "y"
        },
        {
         "hovertemplate": "Industry=Capital Goods<br>Symbol=%{x}<br>Growth (%)=%{y}<extra></extra>",
         "legendgroup": "Capital Goods",
         "marker": {
          "color": "#B6E880",
          "symbol": "circle"
         },
         "mode": "markers",
         "name": "Capital Goods",
         "orientation": "v",
         "showlegend": true,
         "type": "scatter",
         "x": [
          "COCHINSHIP.NS",
          "DATAPATTNS.NS",
          "ELGIEQUIP.NS",
          "KEC.NS"
         ],
         "xaxis": "x",
         "y": [
          49.50299495902957,
          36.22655536312425,
          30.538408797037665,
          22.27782260176649
         ],
         "yaxis": "y"
        },
        {
         "hovertemplate": "Industry=Automobile and Auto Components<br>Symbol=%{x}<br>Growth (%)=%{y}<extra></extra>",
         "legendgroup": "Automobile and Auto Components",
         "marker": {
          "color": "#FF97FF",
          "symbol": "circle"
         },
         "mode": "markers",
         "name": "Automobile and Auto Components",
         "orientation": "v",
         "showlegend": true,
         "type": "scatter",
         "x": [
          "JBMA.NS",
          "CEATLTD.NS",
          "EXIDEIND.NS",
          "ARE&M.NS"
         ],
         "xaxis": "x",
         "y": [
          72.13293299241528,
          31.092595386159022,
          12.126931767929891,
          10.34191192544569
         ],
         "yaxis": "y"
        }
       ],
       "layout": {
        "autosize": true,
        "legend": {
         "title": {
          "text": "Industry"
         },
         "tracegroupgap": 0
        },
        "template": {
         "data": {
          "bar": [
           {
            "error_x": {
             "color": "#2a3f5f"
            },
            "error_y": {
             "color": "#2a3f5f"
            },
            "marker": {
             "line": {
              "color": "#E5ECF6",
              "width": 0.5
             },
             "pattern": {
              "fillmode": "overlay",
              "size": 10,
              "solidity": 0.2
             }
            },
            "type": "bar"
           }
          ],
          "barpolar": [
           {
            "marker": {
             "line": {
              "color": "#E5ECF6",
              "width": 0.5
             },
             "pattern": {
              "fillmode": "overlay",
              "size": 10,
              "solidity": 0.2
             }
            },
            "type": "barpolar"
           }
          ],
          "carpet": [
           {
            "aaxis": {
             "endlinecolor": "#2a3f5f",
             "gridcolor": "white",
             "linecolor": "white",
             "minorgridcolor": "white",
             "startlinecolor": "#2a3f5f"
            },
            "baxis": {
             "endlinecolor": "#2a3f5f",
             "gridcolor": "white",
             "linecolor": "white",
             "minorgridcolor": "white",
             "startlinecolor": "#2a3f5f"
            },
            "type": "carpet"
           }
          ],
          "choropleth": [
           {
            "colorbar": {
             "outlinewidth": 0,
             "ticks": ""
            },
            "type": "choropleth"
           }
          ],
          "contour": [
           {
            "colorbar": {
             "outlinewidth": 0,
             "ticks": ""
            },
            "colorscale": [
             [
              0,
              "#0d0887"
             ],
             [
              0.1111111111111111,
              "#46039f"
             ],
             [
              0.2222222222222222,
              "#7201a8"
             ],
             [
              0.3333333333333333,
              "#9c179e"
             ],
             [
              0.4444444444444444,
              "#bd3786"
             ],
             [
              0.5555555555555556,
              "#d8576b"
             ],
             [
              0.6666666666666666,
              "#ed7953"
             ],
             [
              0.7777777777777778,
              "#fb9f3a"
             ],
             [
              0.8888888888888888,
              "#fdca26"
             ],
             [
              1,
              "#f0f921"
             ]
            ],
            "type": "contour"
           }
          ],
          "contourcarpet": [
           {
            "colorbar": {
             "outlinewidth": 0,
             "ticks": ""
            },
            "type": "contourcarpet"
           }
          ],
          "heatmap": [
           {
            "colorbar": {
             "outlinewidth": 0,
             "ticks": ""
            },
            "colorscale": [
             [
              0,
              "#0d0887"
             ],
             [
              0.1111111111111111,
              "#46039f"
             ],
             [
              0.2222222222222222,
              "#7201a8"
             ],
             [
              0.3333333333333333,
              "#9c179e"
             ],
             [
              0.4444444444444444,
              "#bd3786"
             ],
             [
              0.5555555555555556,
              "#d8576b"
             ],
             [
              0.6666666666666666,
              "#ed7953"
             ],
             [
              0.7777777777777778,
              "#fb9f3a"
             ],
             [
              0.8888888888888888,
              "#fdca26"
             ],
             [
              1,
              "#f0f921"
             ]
            ],
            "type": "heatmap"
           }
          ],
          "heatmapgl": [
           {
            "colorbar": {
             "outlinewidth": 0,
             "ticks": ""
            },
            "colorscale": [
             [
              0,
              "#0d0887"
             ],
             [
              0.1111111111111111,
              "#46039f"
             ],
             [
              0.2222222222222222,
              "#7201a8"
             ],
             [
              0.3333333333333333,
              "#9c179e"
             ],
             [
              0.4444444444444444,
              "#bd3786"
             ],
             [
              0.5555555555555556,
              "#d8576b"
             ],
             [
              0.6666666666666666,
              "#ed7953"
             ],
             [
              0.7777777777777778,
              "#fb9f3a"
             ],
             [
              0.8888888888888888,
              "#fdca26"
             ],
             [
              1,
              "#f0f921"
             ]
            ],
            "type": "heatmapgl"
           }
          ],
          "histogram": [
           {
            "marker": {
             "pattern": {
              "fillmode": "overlay",
              "size": 10,
              "solidity": 0.2
             }
            },
            "type": "histogram"
           }
          ],
          "histogram2d": [
           {
            "colorbar": {
             "outlinewidth": 0,
             "ticks": ""
            },
            "colorscale": [
             [
              0,
              "#0d0887"
             ],
             [
              0.1111111111111111,
              "#46039f"
             ],
             [
              0.2222222222222222,
              "#7201a8"
             ],
             [
              0.3333333333333333,
              "#9c179e"
             ],
             [
              0.4444444444444444,
              "#bd3786"
             ],
             [
              0.5555555555555556,
              "#d8576b"
             ],
             [
              0.6666666666666666,
              "#ed7953"
             ],
             [
              0.7777777777777778,
              "#fb9f3a"
             ],
             [
              0.8888888888888888,
              "#fdca26"
             ],
             [
              1,
              "#f0f921"
             ]
            ],
            "type": "histogram2d"
           }
          ],
          "histogram2dcontour": [
           {
            "colorbar": {
             "outlinewidth": 0,
             "ticks": ""
            },
            "colorscale": [
             [
              0,
              "#0d0887"
             ],
             [
              0.1111111111111111,
              "#46039f"
             ],
             [
              0.2222222222222222,
              "#7201a8"
             ],
             [
              0.3333333333333333,
              "#9c179e"
             ],
             [
              0.4444444444444444,
              "#bd3786"
             ],
             [
              0.5555555555555556,
              "#d8576b"
             ],
             [
              0.6666666666666666,
              "#ed7953"
             ],
             [
              0.7777777777777778,
              "#fb9f3a"
             ],
             [
              0.8888888888888888,
              "#fdca26"
             ],
             [
              1,
              "#f0f921"
             ]
            ],
            "type": "histogram2dcontour"
           }
          ],
          "mesh3d": [
           {
            "colorbar": {
             "outlinewidth": 0,
             "ticks": ""
            },
            "type": "mesh3d"
           }
          ],
          "parcoords": [
           {
            "line": {
             "colorbar": {
              "outlinewidth": 0,
              "ticks": ""
             }
            },
            "type": "parcoords"
           }
          ],
          "pie": [
           {
            "automargin": true,
            "type": "pie"
           }
          ],
          "scatter": [
           {
            "marker": {
             "colorbar": {
              "outlinewidth": 0,
              "ticks": ""
             }
            },
            "type": "scatter"
           }
          ],
          "scatter3d": [
           {
            "line": {
             "colorbar": {
              "outlinewidth": 0,
              "ticks": ""
             }
            },
            "marker": {
             "colorbar": {
              "outlinewidth": 0,
              "ticks": ""
             }
            },
            "type": "scatter3d"
           }
          ],
          "scattercarpet": [
           {
            "marker": {
             "colorbar": {
              "outlinewidth": 0,
              "ticks": ""
             }
            },
            "type": "scattercarpet"
           }
          ],
          "scattergeo": [
           {
            "marker": {
             "colorbar": {
              "outlinewidth": 0,
              "ticks": ""
             }
            },
            "type": "scattergeo"
           }
          ],
          "scattergl": [
           {
            "marker": {
             "colorbar": {
              "outlinewidth": 0,
              "ticks": ""
             }
            },
            "type": "scattergl"
           }
          ],
          "scattermapbox": [
           {
            "marker": {
             "colorbar": {
              "outlinewidth": 0,
              "ticks": ""
             }
            },
            "type": "scattermapbox"
           }
          ],
          "scatterpolar": [
           {
            "marker": {
             "colorbar": {
              "outlinewidth": 0,
              "ticks": ""
             }
            },
            "type": "scatterpolar"
           }
          ],
          "scatterpolargl": [
           {
            "marker": {
             "colorbar": {
              "outlinewidth": 0,
              "ticks": ""
             }
            },
            "type": "scatterpolargl"
           }
          ],
          "scatterternary": [
           {
            "marker": {
             "colorbar": {
              "outlinewidth": 0,
              "ticks": ""
             }
            },
            "type": "scatterternary"
           }
          ],
          "surface": [
           {
            "colorbar": {
             "outlinewidth": 0,
             "ticks": ""
            },
            "colorscale": [
             [
              0,
              "#0d0887"
             ],
             [
              0.1111111111111111,
              "#46039f"
             ],
             [
              0.2222222222222222,
              "#7201a8"
             ],
             [
              0.3333333333333333,
              "#9c179e"
             ],
             [
              0.4444444444444444,
              "#bd3786"
             ],
             [
              0.5555555555555556,
              "#d8576b"
             ],
             [
              0.6666666666666666,
              "#ed7953"
             ],
             [
              0.7777777777777778,
              "#fb9f3a"
             ],
             [
              0.8888888888888888,
              "#fdca26"
             ],
             [
              1,
              "#f0f921"
             ]
            ],
            "type": "surface"
           }
          ],
          "table": [
           {
            "cells": {
             "fill": {
              "color": "#EBF0F8"
             },
             "line": {
              "color": "white"
             }
            },
            "header": {
             "fill": {
              "color": "#C8D4E3"
             },
             "line": {
              "color": "white"
             }
            },
            "type": "table"
           }
          ]
         },
         "layout": {
          "annotationdefaults": {
           "arrowcolor": "#2a3f5f",
           "arrowhead": 0,
           "arrowwidth": 1
          },
          "autotypenumbers": "strict",
          "coloraxis": {
           "colorbar": {
            "outlinewidth": 0,
            "ticks": ""
           }
          },
          "colorscale": {
           "diverging": [
            [
             0,
             "#8e0152"
            ],
            [
             0.1,
             "#c51b7d"
            ],
            [
             0.2,
             "#de77ae"
            ],
            [
             0.3,
             "#f1b6da"
            ],
            [
             0.4,
             "#fde0ef"
            ],
            [
             0.5,
             "#f7f7f7"
            ],
            [
             0.6,
             "#e6f5d0"
            ],
            [
             0.7,
             "#b8e186"
            ],
            [
             0.8,
             "#7fbc41"
            ],
            [
             0.9,
             "#4d9221"
            ],
            [
             1,
             "#276419"
            ]
           ],
           "sequential": [
            [
             0,
             "#0d0887"
            ],
            [
             0.1111111111111111,
             "#46039f"
            ],
            [
             0.2222222222222222,
             "#7201a8"
            ],
            [
             0.3333333333333333,
             "#9c179e"
            ],
            [
             0.4444444444444444,
             "#bd3786"
            ],
            [
             0.5555555555555556,
             "#d8576b"
            ],
            [
             0.6666666666666666,
             "#ed7953"
            ],
            [
             0.7777777777777778,
             "#fb9f3a"
            ],
            [
             0.8888888888888888,
             "#fdca26"
            ],
            [
             1,
             "#f0f921"
            ]
           ],
           "sequentialminus": [
            [
             0,
             "#0d0887"
            ],
            [
             0.1111111111111111,
             "#46039f"
            ],
            [
             0.2222222222222222,
             "#7201a8"
            ],
            [
             0.3333333333333333,
             "#9c179e"
            ],
            [
             0.4444444444444444,
             "#bd3786"
            ],
            [
             0.5555555555555556,
             "#d8576b"
            ],
            [
             0.6666666666666666,
             "#ed7953"
            ],
            [
             0.7777777777777778,
             "#fb9f3a"
            ],
            [
             0.8888888888888888,
             "#fdca26"
            ],
            [
             1,
             "#f0f921"
            ]
           ]
          },
          "colorway": [
           "#636efa",
           "#EF553B",
           "#00cc96",
           "#ab63fa",
           "#FFA15A",
           "#19d3f3",
           "#FF6692",
           "#B6E880",
           "#FF97FF",
           "#FECB52"
          ],
          "font": {
           "color": "#2a3f5f"
          },
          "geo": {
           "bgcolor": "white",
           "lakecolor": "white",
           "landcolor": "#E5ECF6",
           "showlakes": true,
           "showland": true,
           "subunitcolor": "white"
          },
          "hoverlabel": {
           "align": "left"
          },
          "hovermode": "closest",
          "mapbox": {
           "style": "light"
          },
          "paper_bgcolor": "white",
          "plot_bgcolor": "#E5ECF6",
          "polar": {
           "angularaxis": {
            "gridcolor": "white",
            "linecolor": "white",
            "ticks": ""
           },
           "bgcolor": "#E5ECF6",
           "radialaxis": {
            "gridcolor": "white",
            "linecolor": "white",
            "ticks": ""
           }
          },
          "scene": {
           "xaxis": {
            "backgroundcolor": "#E5ECF6",
            "gridcolor": "white",
            "gridwidth": 2,
            "linecolor": "white",
            "showbackground": true,
            "ticks": "",
            "zerolinecolor": "white"
           },
           "yaxis": {
            "backgroundcolor": "#E5ECF6",
            "gridcolor": "white",
            "gridwidth": 2,
            "linecolor": "white",
            "showbackground": true,
            "ticks": "",
            "zerolinecolor": "white"
           },
           "zaxis": {
            "backgroundcolor": "#E5ECF6",
            "gridcolor": "white",
            "gridwidth": 2,
            "linecolor": "white",
            "showbackground": true,
            "ticks": "",
            "zerolinecolor": "white"
           }
          },
          "shapedefaults": {
           "line": {
            "color": "#2a3f5f"
           }
          },
          "ternary": {
           "aaxis": {
            "gridcolor": "white",
            "linecolor": "white",
            "ticks": ""
           },
           "baxis": {
            "gridcolor": "white",
            "linecolor": "white",
            "ticks": ""
           },
           "bgcolor": "#E5ECF6",
           "caxis": {
            "gridcolor": "white",
            "linecolor": "white",
            "ticks": ""
           }
          },
          "title": {
           "x": 0.05
          },
          "xaxis": {
           "automargin": true,
           "gridcolor": "white",
           "linecolor": "white",
           "ticks": "",
           "title": {
            "standoff": 15
           },
           "zerolinecolor": "white",
           "zerolinewidth": 2
          },
          "yaxis": {
           "automargin": true,
           "gridcolor": "white",
           "linecolor": "white",
           "ticks": "",
           "title": {
            "standoff": 15
           },
           "zerolinecolor": "white",
           "zerolinewidth": 2
          }
         }
        },
        "title": {
         "text": "Symbol Vs Industry and Growth (Grouped by Industry)"
        },
        "xaxis": {
         "anchor": "y",
         "autorange": true,
         "domain": [
          0,
          1
         ],
         "range": [
          -3.521732658529325,
          62.521732658529324
         ],
         "title": {
          "text": "Symbol"
         },
         "type": "category"
        },
        "yaxis": {
         "anchor": "x",
         "autorange": true,
         "domain": [
          0,
          1
         ],
         "range": [
          -34.540559598102064,
          143.59245579351185
         ],
         "title": {
          "text": "Growth (%)"
         },
         "type": "linear"
        }
       }
      },
      "image/png": "[encoded data removed]",
      "text/html": [
       "<div>                            <div id=\"72a816cf-145c-4d32-81ec-642b385084dc\" class=\"plotly-graph-div\" style=\"height:525px; width:100%;\"></div>            <script type=\"text/javascript\">                require([\"plotly\"], function(Plotly) {                    window.PLOTLYENV=window.PLOTLYENV || {};                                    if (document.getElementById(\"72a816cf-145c-4d32-81ec-642b385084dc\")) {                    Plotly.newPlot(                        \"72a816cf-145c-4d32-81ec-642b385084dc\",                        [{\"hovertemplate\":\"Industry=Textiles<br>Symbol=%{x}<br>Growth (%)=%{y}<extra></extra>\",\"legendgroup\":\"Textiles\",\"marker\":{\"color\":\"#636efa\",\"symbol\":\"circle\"},\"mode\":\"markers\",\"name\":\"Textiles\",\"orientation\":\"v\",\"showlegend\":true,\"type\":\"scatter\",\"x\":[\"RAYMOND.NS\",\"WELSPUNLIV.NS\"],\"xaxis\":\"x\",\"y\":[17.568392182250836,-0.2232181739180827],\"yaxis\":\"y\"},{\"hovertemplate\":\"Industry=Telecommunication<br>Symbol=%{x}<br>Growth (%)=%{y}<extra></extra>\",\"legendgroup\":\"Telecommunication\",\"marker\":{\"color\":\"#EF553B\",\"symbol\":\"circle\"},\"mode\":\"markers\",\"name\":\"Telecommunication\",\"orientation\":\"v\",\"showlegend\":true,\"type\":\"scatter\",\"x\":[\"HFCL.NS\",\"ROUTE.NS\",\"TTML.NS\",\"TEJASNET.NS\"],\"xaxis\":\"x\",\"y\":[62.546816479400746,3.373592463682318,-6.641870458392029,-7.236112604184131],\"yaxis\":\"y\"},{\"hovertemplate\":\"Industry=Services<br>Symbol=%{x}<br>Growth (%)=%{y}<extra></extra>\",\"legendgroup\":\"Services\",\"marker\":{\"color\":\"#00cc96\",\"symbol\":\"circle\"},\"mode\":\"markers\",\"name\":\"Services\",\"orientation\":\"v\",\"showlegend\":true,\"type\":\"scatter\",\"x\":[\"REDINGTON.NS\",\"FSL.NS\"],\"xaxis\":\"x\",\"y\":[31.193238306070768,15.35411110680771],\"yaxis\":\"y\"},{\"hovertemplate\":\"Industry=Power<br>Symbol=%{x}<br>Growth (%)=%{y}<extra></extra>\",\"legendgroup\":\"Power\",\"marker\":{\"color\":\"#ab63fa\",\"symbol\":\"circle\"},\"mode\":\"markers\",\"name\":\"Power\",\"orientation\":\"v\",\"showlegend\":true,\"type\":\"scatter\",\"x\":[\"SJVN.NS\",\"NLCINDIA.NS\",\"CESC.NS\"],\"xaxis\":\"x\",\"y\":[42.46171351525201,35.87562936351467,27.213928829971245],\"yaxis\":\"y\"},{\"hovertemplate\":\"Industry=Oil Gas & Consumable Fuels<br>Symbol=%{x}<br>Growth (%)=%{y}<extra></extra>\",\"legendgroup\":\"Oil Gas & Consumable Fuels\",\"marker\":{\"color\":\"#FFA15A\",\"symbol\":\"circle\"},\"mode\":\"markers\",\"name\":\"Oil Gas & Consumable Fuels\",\"orientation\":\"v\",\"showlegend\":true,\"type\":\"scatter\",\"x\":[\"MRPL.NS\",\"MGL.NS\",\"AEGISCHEM.NS\"],\"xaxis\":\"x\",\"y\":[91.37931056082311,41.1532320616288,19.252642419087927],\"yaxis\":\"y\"},{\"hovertemplate\":\"Industry=Metals & Mining<br>Symbol=%{x}<br>Growth (%)=%{y}<extra></extra>\",\"legendgroup\":\"Metals & Mining\",\"marker\":{\"color\":\"#19d3f3\",\"symbol\":\"circle\"},\"mode\":\"markers\",\"name\":\"Metals & Mining\",\"orientation\":\"v\",\"showlegend\":true,\"type\":\"scatter\",\"x\":[\"NATIONALUM.NS\",\"HINDCOPPER.NS\",\"NSLNISP.NS\"],\"xaxis\":\"x\",\"y\":[76.85333658854168,60.41014024960789,45.02857317243303],\"yaxis\":\"y\"},{\"hovertemplate\":\"Industry=Media Entertainment & Publication<br>Symbol=%{x}<br>Growth (%)=%{y}<extra></extra>\",\"legendgroup\":\"Media Entertainment & Publication\",\"marker\":{\"color\":\"#FF6692\",\"symbol\":\"circle\"},\"mode\":\"markers\",\"name\":\"Media Entertainment & Publication\",\"orientation\":\"v\",\"showlegend\":true,\"type\":\"scatter\",\"x\":[\"PVRINOX.NS\"],\"xaxis\":\"x\",\"y\":[-19.66963375960572],\"yaxis\":\"y\"},{\"hovertemplate\":\"Industry=Information Technology<br>Symbol=%{x}<br>Growth (%)=%{y}<extra></extra>\",\"legendgroup\":\"Information Technology\",\"marker\":{\"color\":\"#B6E880\",\"symbol\":\"circle\"},\"mode\":\"markers\",\"name\":\"Information Technology\",\"orientation\":\"v\",\"showlegend\":true,\"type\":\"scatter\",\"x\":[\"INTELLECT.NS\",\"BSOFT.NS\",\"SONATSOFTW.NS\",\"TANLA.NS\"],\"xaxis\":\"x\",\"y\":[47.312269889347,24.034974769026608,20.12273646893121,7.110460792925322],\"yaxis\":\"y\"},{\"hovertemplate\":\"Industry=Healthcare<br>Symbol=%{x}<br>Growth (%)=%{y}<extra></extra>\",\"legendgroup\":\"Healthcare\",\"marker\":{\"color\":\"#FF97FF\",\"symbol\":\"circle\"},\"mode\":\"markers\",\"name\":\"Healthcare\",\"orientation\":\"v\",\"showlegend\":true,\"type\":\"scatter\",\"x\":[\"MEDANTA.NS\",\"NATCOPHARM.NS\",\"GRANULES.NS\",\"GLENMARK.NS\"],\"xaxis\":\"x\",\"y\":[36.170100575869846,26.51515069093131,18.39124319141852,17.114563284433835],\"yaxis\":\"y\"},{\"hovertemplate\":\"Industry=Forest Materials<br>Symbol=%{x}<br>Growth (%)=%{y}<extra></extra>\",\"legendgroup\":\"Forest Materials\",\"marker\":{\"color\":\"#FECB52\",\"symbol\":\"circle\"},\"mode\":\"markers\",\"name\":\"Forest Materials\",\"orientation\":\"v\",\"showlegend\":true,\"type\":\"scatter\",\"x\":[\"CENTURYTEX.NS\"],\"xaxis\":\"x\",\"y\":[14.230356526898856],\"yaxis\":\"y\"},{\"hovertemplate\":\"Industry=Financial Services<br>Symbol=%{x}<br>Growth (%)=%{y}<extra></extra>\",\"legendgroup\":\"Financial Services\",\"marker\":{\"color\":\"#636efa\",\"symbol\":\"circle\"},\"mode\":\"markers\",\"name\":\"Financial Services\",\"orientation\":\"v\",\"showlegend\":true,\"type\":\"scatter\",\"x\":[\"HUDCO.NS\",\"IOB.NS\",\"UCOBANK.NS\",\"CENTRALBK.NS\"],\"xaxis\":\"x\",\"y\":[128.7215299550155,62.62627274585579,51.97368421052631,43.67946415816304],\"yaxis\":\"y\"},{\"hovertemplate\":\"Industry=Fast Moving Consumer Goods<br>Symbol=%{x}<br>Growth (%)=%{y}<extra></extra>\",\"legendgroup\":\"Fast Moving Consumer Goods\",\"marker\":{\"color\":\"#EF553B\",\"symbol\":\"circle\"},\"mode\":\"markers\",\"name\":\"Fast Moving Consumer Goods\",\"orientation\":\"v\",\"showlegend\":true,\"type\":\"scatter\",\"x\":[\"RADICO.NS\",\"JYOTHYLAB.NS\",\"BIKAJI.NS\",\"RENUKA.NS\"],\"xaxis\":\"x\",\"y\":[2.445388993494224,1.1372634724407191,-5.678424222841749,-6.024096477831742],\"yaxis\":\"y\"},{\"hovertemplate\":\"Industry=Consumer Services<br>Symbol=%{x}<br>Growth (%)=%{y}<extra></extra>\",\"legendgroup\":\"Consumer Services\",\"marker\":{\"color\":\"#00cc96\",\"symbol\":\"circle\"},\"mode\":\"markers\",\"name\":\"Consumer Services\",\"orientation\":\"v\",\"showlegend\":true,\"type\":\"scatter\",\"x\":[\"BLS.NS\",\"EASEMYTRIP.NS\",\"INDIAMART.NS\",\"MEDPLUS.NS\"],\"xaxis\":\"x\",\"y\":[41.09589231985859,26.58064319241431,2.2939437636945392,-12.676589498919675],\"yaxis\":\"y\"},{\"hovertemplate\":\"Industry=Consumer Durables<br>Symbol=%{x}<br>Growth (%)=%{y}<extra></extra>\",\"legendgroup\":\"Consumer Durables\",\"marker\":{\"color\":\"#ab63fa\",\"symbol\":\"circle\"},\"mode\":\"markers\",\"name\":\"Consumer Durables\",\"orientation\":\"v\",\"showlegend\":true,\"type\":\"scatter\",\"x\":[\"KALYANKJIL.NS\",\"AMBER.NS\",\"VIPIND.NS\",\"CAMPUS.NS\"],\"xaxis\":\"x\",\"y\":[23.159619644443108,16.7701503210812,-7.08423874100138,-10.434783714405004],\"yaxis\":\"y\"},{\"hovertemplate\":\"Industry=Construction Materials<br>Symbol=%{x}<br>Growth (%)=%{y}<extra></extra>\",\"legendgroup\":\"Construction Materials\",\"marker\":{\"color\":\"#FFA15A\",\"symbol\":\"circle\"},\"mode\":\"markers\",\"name\":\"Construction Materials\",\"orientation\":\"v\",\"showlegend\":true,\"type\":\"scatter\",\"x\":[\"BIRLACORPN.NS\",\"JKLAKSHMI.NS\"],\"xaxis\":\"x\",\"y\":[17.742222210037696,15.655916978686646],\"yaxis\":\"y\"},{\"hovertemplate\":\"Industry=Construction<br>Symbol=%{x}<br>Growth (%)=%{y}<extra></extra>\",\"legendgroup\":\"Construction\",\"marker\":{\"color\":\"#19d3f3\",\"symbol\":\"circle\"},\"mode\":\"markers\",\"name\":\"Construction\",\"orientation\":\"v\",\"showlegend\":true,\"type\":\"scatter\",\"x\":[\"NBCC.NS\",\"IRB.NS\",\"RITES.NS\"],\"xaxis\":\"x\",\"y\":[80.17414233189655,72.05881242971115,69.25295826772614],\"yaxis\":\"y\"},{\"hovertemplate\":\"Industry=Chemicals<br>Symbol=%{x}<br>Growth (%)=%{y}<extra></extra>\",\"legendgroup\":\"Chemicals\",\"marker\":{\"color\":\"#FF6692\",\"symbol\":\"circle\"},\"mode\":\"markers\",\"name\":\"Chemicals\",\"orientation\":\"v\",\"showlegend\":true,\"type\":\"scatter\",\"x\":[\"JUBLINGREA.NS\",\"CHAMBLFERT.NS\",\"BALAMINES.NS\",\"ANURAS.NS\"],\"xaxis\":\"x\",\"y\":[12.525975348758989,10.415357374931776,10.393019588967212,-5.494181581939994],\"yaxis\":\"y\"},{\"hovertemplate\":\"Industry=Capital Goods<br>Symbol=%{x}<br>Growth (%)=%{y}<extra></extra>\",\"legendgroup\":\"Capital Goods\",\"marker\":{\"color\":\"#B6E880\",\"symbol\":\"circle\"},\"mode\":\"markers\",\"name\":\"Capital Goods\",\"orientation\":\"v\",\"showlegend\":true,\"type\":\"scatter\",\"x\":[\"COCHINSHIP.NS\",\"DATAPATTNS.NS\",\"ELGIEQUIP.NS\",\"KEC.NS\"],\"xaxis\":\"x\",\"y\":[49.50299495902957,36.22655536312425,30.538408797037665,22.27782260176649],\"yaxis\":\"y\"},{\"hovertemplate\":\"Industry=Automobile and Auto Components<br>Symbol=%{x}<br>Growth (%)=%{y}<extra></extra>\",\"legendgroup\":\"Automobile and Auto Components\",\"marker\":{\"color\":\"#FF97FF\",\"symbol\":\"circle\"},\"mode\":\"markers\",\"name\":\"Automobile and Auto Components\",\"orientation\":\"v\",\"showlegend\":true,\"type\":\"scatter\",\"x\":[\"JBMA.NS\",\"CEATLTD.NS\",\"EXIDEIND.NS\",\"ARE&M.NS\"],\"xaxis\":\"x\",\"y\":[72.13293299241528,31.092595386159022,12.126931767929891,10.34191192544569],\"yaxis\":\"y\"}],                        {\"legend\":{\"title\":{\"text\":\"Industry\"},\"tracegroupgap\":0},\"template\":{\"data\":{\"bar\":[{\"error_x\":{\"color\":\"#2a3f5f\"},\"error_y\":{\"color\":\"#2a3f5f\"},\"marker\":{\"line\":{\"color\":\"#E5ECF6\",\"width\":0.5},\"pattern\":{\"fillmode\":\"overlay\",\"size\":10,\"solidity\":0.2}},\"type\":\"bar\"}],\"barpolar\":[{\"marker\":{\"line\":{\"color\":\"#E5ECF6\",\"width\":0.5},\"pattern\":{\"fillmode\":\"overlay\",\"size\":10,\"solidity\":0.2}},\"type\":\"barpolar\"}],\"carpet\":[{\"aaxis\":{\"endlinecolor\":\"#2a3f5f\",\"gridcolor\":\"white\",\"linecolor\":\"white\",\"minorgridcolor\":\"white\",\"startlinecolor\":\"#2a3f5f\"},\"baxis\":{\"endlinecolor\":\"#2a3f5f\",\"gridcolor\":\"white\",\"linecolor\":\"white\",\"minorgridcolor\":\"white\",\"startlinecolor\":\"#2a3f5f\"},\"type\":\"carpet\"}],\"choropleth\":[{\"colorbar\":{\"outlinewidth\":0,\"ticks\":\"\"},\"type\":\"choropleth\"}],\"contour\":[{\"colorbar\":{\"outlinewidth\":0,\"ticks\":\"\"},\"colorscale\":[[0.0,\"#0d0887\"],[0.1111111111111111,\"#46039f\"],[0.2222222222222222,\"#7201a8\"],[0.3333333333333333,\"#9c179e\"],[0.4444444444444444,\"#bd3786\"],[0.5555555555555556,\"#d8576b\"],[0.6666666666666666,\"#ed7953\"],[0.7777777777777778,\"#fb9f3a\"],[0.8888888888888888,\"#fdca26\"],[1.0,\"#f0f921\"]],\"type\":\"contour\"}],\"contourcarpet\":[{\"colorbar\":{\"outlinewidth\":0,\"ticks\":\"\"},\"type\":\"contourcarpet\"}],\"heatmap\":[{\"colorbar\":{\"outlinewidth\":0,\"ticks\":\"\"},\"colorscale\":[[0.0,\"#0d0887\"],[0.1111111111111111,\"#46039f\"],[0.2222222222222222,\"#7201a8\"],[0.3333333333333333,\"#9c179e\"],[0.4444444444444444,\"#bd3786\"],[0.5555555555555556,\"#d8576b\"],[0.6666666666666666,\"#ed7953\"],[0.7777777777777778,\"#fb9f3a\"],[0.8888888888888888,\"#fdca26\"],[1.0,\"#f0f921\"]],\"type\":\"heatmap\"}],\"heatmapgl\":[{\"colorbar\":{\"outlinewidth\":0,\"ticks\":\"\"},\"colorscale\":[[0.0,\"#0d0887\"],[0.1111111111111111,\"#46039f\"],[0.2222222222222222,\"#7201a8\"],[0.3333333333333333,\"#9c179e\"],[0.4444444444444444,\"#bd3786\"],[0.5555555555555556,\"#d8576b\"],[0.6666666666666666,\"#ed7953\"],[0.7777777777777778,\"#fb9f3a\"],[0.8888888888888888,\"#fdca26\"],[1.0,\"#f0f921\"]],\"type\":\"heatmapgl\"}],\"histogram\":[{\"marker\":{\"pattern\":{\"fillmode\":\"overlay\",\"size\":10,\"solidity\":0.2}},\"type\":\"histogram\"}],\"histogram2d\":[{\"colorbar\":{\"outlinewidth\":0,\"ticks\":\"\"},\"colorscale\":[[0.0,\"#0d0887\"],[0.1111111111111111,\"#46039f\"],[0.2222222222222222,\"#7201a8\"],[0.3333333333333333,\"#9c179e\"],[0.4444444444444444,\"#bd3786\"],[0.5555555555555556,\"#d8576b\"],[0.6666666666666666,\"#ed7953\"],[0.7777777777777778,\"#fb9f3a\"],[0.8888888888888888,\"#fdca26\"],[1.0,\"#f0f921\"]],\"type\":\"histogram2d\"}],\"histogram2dcontour\":[{\"colorbar\":{\"outlinewidth\":0,\"ticks\":\"\"},\"colorscale\":[[0.0,\"#0d0887\"],[0.1111111111111111,\"#46039f\"],[0.2222222222222222,\"#7201a8\"],[0.3333333333333333,\"#9c179e\"],[0.4444444444444444,\"#bd3786\"],[0.5555555555555556,\"#d8576b\"],[0.6666666666666666,\"#ed7953\"],[0.7777777777777778,\"#fb9f3a\"],[0.8888888888888888,\"#fdca26\"],[1.0,\"#f0f921\"]],\"type\":\"histogram2dcontour\"}],\"mesh3d\":[{\"colorbar\":{\"outlinewidth\":0,\"ticks\":\"\"},\"type\":\"mesh3d\"}],\"parcoords\":[{\"line\":{\"colorbar\":{\"outlinewidth\":0,\"ticks\":\"\"}},\"type\":\"parcoords\"}],\"pie\":[{\"automargin\":true,\"type\":\"pie\"}],\"scatter\":[{\"marker\":{\"colorbar\":{\"outlinewidth\":0,\"ticks\":\"\"}},\"type\":\"scatter\"}],\"scatter3d\":[{\"line\":{\"colorbar\":{\"outlinewidth\":0,\"ticks\":\"\"}},\"marker\":{\"colorbar\":{\"outlinewidth\":0,\"ticks\":\"\"}},\"type\":\"scatter3d\"}],\"scattercarpet\":[{\"marker\":{\"colorbar\":{\"outlinewidth\":0,\"ticks\":\"\"}},\"type\":\"scattercarpet\"}],\"scattergeo\":[{\"marker\":{\"colorbar\":{\"outlinewidth\":0,\"ticks\":\"\"}},\"type\":\"scattergeo\"}],\"scattergl\":[{\"marker\":{\"colorbar\":{\"outlinewidth\":0,\"ticks\":\"\"}},\"type\":\"scattergl\"}],\"scattermapbox\":[{\"marker\":{\"colorbar\":{\"outlinewidth\":0,\"ticks\":\"\"}},\"type\":\"scattermapbox\"}],\"scatterpolar\":[{\"marker\":{\"colorbar\":{\"outlinewidth\":0,\"ticks\":\"\"}},\"type\":\"scatterpolar\"}],\"scatterpolargl\":[{\"marker\":{\"colorbar\":{\"outlinewidth\":0,\"ticks\":\"\"}},\"type\":\"scatterpolargl\"}],\"scatterternary\":[{\"marker\":{\"colorbar\":{\"outlinewidth\":0,\"ticks\":\"\"}},\"type\":\"scatterternary\"}],\"surface\":[{\"colorbar\":{\"outlinewidth\":0,\"ticks\":\"\"},\"colorscale\":[[0.0,\"#0d0887\"],[0.1111111111111111,\"#46039f\"],[0.2222222222222222,\"#7201a8\"],[0.3333333333333333,\"#9c179e\"],[0.4444444444444444,\"#bd3786\"],[0.5555555555555556,\"#d8576b\"],[0.6666666666666666,\"#ed7953\"],[0.7777777777777778,\"#fb9f3a\"],[0.8888888888888888,\"#fdca26\"],[1.0,\"#f0f921\"]],\"type\":\"surface\"}],\"table\":[{\"cells\":{\"fill\":{\"color\":\"#EBF0F8\"},\"line\":{\"color\":\"white\"}},\"header\":{\"fill\":{\"color\":\"#C8D4E3\"},\"line\":{\"color\":\"white\"}},\"type\":\"table\"}]},\"layout\":{\"annotationdefaults\":{\"arrowcolor\":\"#2a3f5f\",\"arrowhead\":0,\"arrowwidth\":1},\"autotypenumbers\":\"strict\",\"coloraxis\":{\"colorbar\":{\"outlinewidth\":0,\"ticks\":\"\"}},\"colorscale\":{\"diverging\":[[0,\"#8e0152\"],[0.1,\"#c51b7d\"],[0.2,\"#de77ae\"],[0.3,\"#f1b6da\"],[0.4,\"#fde0ef\"],[0.5,\"#f7f7f7\"],[0.6,\"#e6f5d0\"],[0.7,\"#b8e186\"],[0.8,\"#7fbc41\"],[0.9,\"#4d9221\"],[1,\"#276419\"]],\"sequential\":[[0.0,\"#0d0887\"],[0.1111111111111111,\"#46039f\"],[0.2222222222222222,\"#7201a8\"],[0.3333333333333333,\"#9c179e\"],[0.4444444444444444,\"#bd3786\"],[0.5555555555555556,\"#d8576b\"],[0.6666666666666666,\"#ed7953\"],[0.7777777777777778,\"#fb9f3a\"],[0.8888888888888888,\"#fdca26\"],[1.0,\"#f0f921\"]],\"sequentialminus\":[[0.0,\"#0d0887\"],[0.1111111111111111,\"#46039f\"],[0.2222222222222222,\"#7201a8\"],[0.3333333333333333,\"#9c179e\"],[0.4444444444444444,\"#bd3786\"],[0.5555555555555556,\"#d8576b\"],[0.6666666666666666,\"#ed7953\"],[0.7777777777777778,\"#fb9f3a\"],[0.8888888888888888,\"#fdca26\"],[1.0,\"#f0f921\"]]},\"colorway\":[\"#636efa\",\"#EF553B\",\"#00cc96\",\"#ab63fa\",\"#FFA15A\",\"#19d3f3\",\"#FF6692\",\"#B6E880\",\"#FF97FF\",\"#FECB52\"],\"font\":{\"color\":\"#2a3f5f\"},\"geo\":{\"bgcolor\":\"white\",\"lakecolor\":\"white\",\"landcolor\":\"#E5ECF6\",\"showlakes\":true,\"showland\":true,\"subunitcolor\":\"white\"},\"hoverlabel\":{\"align\":\"left\"},\"hovermode\":\"closest\",\"mapbox\":{\"style\":\"light\"},\"paper_bgcolor\":\"white\",\"plot_bgcolor\":\"#E5ECF6\",\"polar\":{\"angularaxis\":{\"gridcolor\":\"white\",\"linecolor\":\"white\",\"ticks\":\"\"},\"bgcolor\":\"#E5ECF6\",\"radialaxis\":{\"gridcolor\":\"white\",\"linecolor\":\"white\",\"ticks\":\"\"}},\"scene\":{\"xaxis\":{\"backgroundcolor\":\"#E5ECF6\",\"gridcolor\":\"white\",\"gridwidth\":2,\"linecolor\":\"white\",\"showbackground\":true,\"ticks\":\"\",\"zerolinecolor\":\"white\"},\"yaxis\":{\"backgroundcolor\":\"#E5ECF6\",\"gridcolor\":\"white\",\"gridwidth\":2,\"linecolor\":\"white\",\"showbackground\":true,\"ticks\":\"\",\"zerolinecolor\":\"white\"},\"zaxis\":{\"backgroundcolor\":\"#E5ECF6\",\"gridcolor\":\"white\",\"gridwidth\":2,\"linecolor\":\"white\",\"showbackground\":true,\"ticks\":\"\",\"zerolinecolor\":\"white\"}},\"shapedefaults\":{\"line\":{\"color\":\"#2a3f5f\"}},\"ternary\":{\"aaxis\":{\"gridcolor\":\"white\",\"linecolor\":\"white\",\"ticks\":\"\"},\"baxis\":{\"gridcolor\":\"white\",\"linecolor\":\"white\",\"ticks\":\"\"},\"bgcolor\":\"#E5ECF6\",\"caxis\":{\"gridcolor\":\"white\",\"linecolor\":\"white\",\"ticks\":\"\"}},\"title\":{\"x\":0.05},\"xaxis\":{\"automargin\":true,\"gridcolor\":\"white\",\"linecolor\":\"white\",\"ticks\":\"\",\"title\":{\"standoff\":15},\"zerolinecolor\":\"white\",\"zerolinewidth\":2},\"yaxis\":{\"automargin\":true,\"gridcolor\":\"white\",\"linecolor\":\"white\",\"ticks\":\"\",\"title\":{\"standoff\":15},\"zerolinecolor\":\"white\",\"zerolinewidth\":2}}},\"title\":{\"text\":\"Symbol Vs Industry and Growth (Grouped by Industry)\"},\"xaxis\":{\"anchor\":\"y\",\"domain\":[0.0,1.0],\"title\":{\"text\":\"Symbol\"}},\"yaxis\":{\"anchor\":\"x\",\"domain\":[0.0,1.0],\"title\":{\"text\":\"Growth (%)\"}}},                        {\"responsive\": true}                    ).then(function(){\n",
       "                            \n",
       "var gd = document.getElementById('72a816cf-145c-4d32-81ec-642b385084dc');\n",
       "var x = new MutationObserver(function (mutations, observer) {{\n",
       "        var display = window.getComputedStyle(gd).display;\n",
       "        if (!display || display === 'none') {{\n",
       "            console.log([gd, 'removed!']);\n",
       "            Plotly.purge(gd);\n",
       "            observer.disconnect();\n",
       "        }}\n",
       "}});\n",
       "\n",
       "// Listen for the removal of the full notebook cells\n",
       "var notebookContainer = gd.closest('#notebook-container');\n",
       "if (notebookContainer) {{\n",
       "    x.observe(notebookContainer, {childList: true});\n",
       "}}\n",
       "\n",
       "// Listen for the clearing of the current output cell\n",
       "var outputEl = gd.closest('.output');\n",
       "if (outputEl) {{\n",
       "    x.observe(outputEl, {childList: true});\n",
       "}}\n",
       "\n",
       "                        })                };                });            </script>        </div>"
      ]
     },
     "metadata": {},
     "output_type": "display_data"
    }
   ],
   "source": [
    "import pandas as pd\n",
    "import plotly.express as px\n",
    "\n",
    "\n",
    "# Replace with the actual path to your output CSV file\n",
    "output_csv_path = '../data/nifty_smallcap_100_high_performers.csv'\n",
    "\n",
    "\n",
    "# Read the output CSV file\n",
    "output_data = pd.read_csv(output_csv_path)\n",
    "\n",
    "# Scatter plot using Plotly Express, grouped by 'Industry'\n",
    "fig = px.scatter(\n",
    "    output_data,\n",
    "    x='Symbol',\n",
    "    y='Growth',\n",
    "    color='Industry',\n",
    "    title='Symbol Vs Industry and Growth (Grouped by Industry)',\n",
    "    labels={'Growth': 'Growth (%)', 'Symbol': 'Symbol'},\n",
    "    category_orders={'Industry': output_data['Industry'].unique()},  # Preserve original order of industries\n",
    ")\n",
    "# Show the plot\n",
    "fig.show()"
   ]
  },
  {
   "cell_type": "code",
   "execution_count": 54,
   "id": "60a2637b-9e93-4cdc-9b70-4a5357f1ea2c",
   "metadata": {},
   "outputs": [
    {
     "data": {
      "application/vnd.plotly.v1+json": {
       "config": {
        "plotlyServerURL": "https://plot.ly"
       },
       "data": [
        {
         "alignmentgroup": "True",
         "hovertemplate": "Industry=Textiles<br>Symbol=%{x}<br>Growth (%)=%{y}<extra></extra>",
         "legendgroup": "Textiles",
         "marker": {
          "color": "#636efa",
          "pattern": {
           "shape": ""
          }
         },
         "name": "Textiles",
         "offsetgroup": "Textiles",
         "orientation": "v",
         "showlegend": true,
         "textposition": "auto",
         "type": "bar",
         "x": [
          "RAYMOND.NS",
          "WELSPUNLIV.NS"
         ],
         "xaxis": "x17",
         "y": [
          17.568392182250836,
          -0.2232181739180827
         ],
         "yaxis": "y17"
        },
        {
         "alignmentgroup": "True",
         "hovertemplate": "Industry=Telecommunication<br>Symbol=%{x}<br>Growth (%)=%{y}<extra></extra>",
         "legendgroup": "Telecommunication",
         "marker": {
          "color": "#EF553B",
          "pattern": {
           "shape": ""
          }
         },
         "name": "Telecommunication",
         "offsetgroup": "Telecommunication",
         "orientation": "v",
         "showlegend": true,
         "textposition": "auto",
         "type": "bar",
         "x": [
          "HFCL.NS",
          "ROUTE.NS",
          "TTML.NS",
          "TEJASNET.NS"
         ],
         "xaxis": "x18",
         "y": [
          62.546816479400746,
          3.373592463682318,
          -6.641870458392029,
          -7.236112604184131
         ],
         "yaxis": "y18"
        },
        {
         "alignmentgroup": "True",
         "hovertemplate": "Industry=Services<br>Symbol=%{x}<br>Growth (%)=%{y}<extra></extra>",
         "legendgroup": "Services",
         "marker": {
          "color": "#00cc96",
          "pattern": {
           "shape": ""
          }
         },
         "name": "Services",
         "offsetgroup": "Services",
         "orientation": "v",
         "showlegend": true,
         "textposition": "auto",
         "type": "bar",
         "x": [
          "REDINGTON.NS",
          "FSL.NS"
         ],
         "xaxis": "x19",
         "y": [
          31.193238306070768,
          15.35411110680771
         ],
         "yaxis": "y19"
        },
        {
         "alignmentgroup": "True",
         "hovertemplate": "Industry=Power<br>Symbol=%{x}<br>Growth (%)=%{y}<extra></extra>",
         "legendgroup": "Power",
         "marker": {
          "color": "#ab63fa",
          "pattern": {
           "shape": ""
          }
         },
         "name": "Power",
         "offsetgroup": "Power",
         "orientation": "v",
         "showlegend": true,
         "textposition": "auto",
         "type": "bar",
         "x": [
          "SJVN.NS",
          "NLCINDIA.NS",
          "CESC.NS"
         ],
         "xaxis": "x20",
         "y": [
          42.46171351525201,
          35.87562936351467,
          27.213928829971245
         ],
         "yaxis": "y20"
        },
        {
         "alignmentgroup": "True",
         "hovertemplate": "Industry=Oil Gas & Consumable Fuels<br>Symbol=%{x}<br>Growth (%)=%{y}<extra></extra>",
         "legendgroup": "Oil Gas & Consumable Fuels",
         "marker": {
          "color": "#FFA15A",
          "pattern": {
           "shape": ""
          }
         },
         "name": "Oil Gas & Consumable Fuels",
         "offsetgroup": "Oil Gas & Consumable Fuels",
         "orientation": "v",
         "showlegend": true,
         "textposition": "auto",
         "type": "bar",
         "x": [
          "MRPL.NS",
          "MGL.NS",
          "AEGISCHEM.NS"
         ],
         "xaxis": "x13",
         "y": [
          91.37931056082311,
          41.1532320616288,
          19.252642419087927
         ],
         "yaxis": "y13"
        },
        {
         "alignmentgroup": "True",
         "hovertemplate": "Industry=Metals & Mining<br>Symbol=%{x}<br>Growth (%)=%{y}<extra></extra>",
         "legendgroup": "Metals & Mining",
         "marker": {
          "color": "#19d3f3",
          "pattern": {
           "shape": ""
          }
         },
         "name": "Metals & Mining",
         "offsetgroup": "Metals & Mining",
         "orientation": "v",
         "showlegend": true,
         "textposition": "auto",
         "type": "bar",
         "x": [
          "NATIONALUM.NS",
          "HINDCOPPER.NS",
          "NSLNISP.NS"
         ],
         "xaxis": "x14",
         "y": [
          76.85333658854168,
          60.41014024960789,
          45.02857317243303
         ],
         "yaxis": "y14"
        },
        {
         "alignmentgroup": "True",
         "hovertemplate": "Industry=Media Entertainment & Publication<br>Symbol=%{x}<br>Growth (%)=%{y}<extra></extra>",
         "legendgroup": "Media Entertainment & Publication",
         "marker": {
          "color": "#FF6692",
          "pattern": {
           "shape": ""
          }
         },
         "name": "Media Entertainment & Publication",
         "offsetgroup": "Media Entertainment & Publication",
         "orientation": "v",
         "showlegend": true,
         "textposition": "auto",
         "type": "bar",
         "x": [
          "PVRINOX.NS"
         ],
         "xaxis": "x15",
         "y": [
          -19.66963375960572
         ],
         "yaxis": "y15"
        },
        {
         "alignmentgroup": "True",
         "hovertemplate": "Industry=Information Technology<br>Symbol=%{x}<br>Growth (%)=%{y}<extra></extra>",
         "legendgroup": "Information Technology",
         "marker": {
          "color": "#B6E880",
          "pattern": {
           "shape": ""
          }
         },
         "name": "Information Technology",
         "offsetgroup": "Information Technology",
         "orientation": "v",
         "showlegend": true,
         "textposition": "auto",
         "type": "bar",
         "x": [
          "INTELLECT.NS",
          "BSOFT.NS",
          "SONATSOFTW.NS",
          "TANLA.NS"
         ],
         "xaxis": "x16",
         "y": [
          47.312269889347,
          24.034974769026608,
          20.12273646893121,
          7.110460792925322
         ],
         "yaxis": "y16"
        },
        {
         "alignmentgroup": "True",
         "hovertemplate": "Industry=Healthcare<br>Symbol=%{x}<br>Growth (%)=%{y}<extra></extra>",
         "legendgroup": "Healthcare",
         "marker": {
          "color": "#FF97FF",
          "pattern": {
           "shape": ""
          }
         },
         "name": "Healthcare",
         "offsetgroup": "Healthcare",
         "orientation": "v",
         "showlegend": true,
         "textposition": "auto",
         "type": "bar",
         "x": [
          "MEDANTA.NS",
          "NATCOPHARM.NS",
          "GRANULES.NS",
          "GLENMARK.NS"
         ],
         "xaxis": "x9",
         "y": [
          36.170100575869846,
          26.51515069093131,
          18.39124319141852,
          17.114563284433835
         ],
         "yaxis": "y9"
        },
        {
         "alignmentgroup": "True",
         "hovertemplate": "Industry=Forest Materials<br>Symbol=%{x}<br>Growth (%)=%{y}<extra></extra>",
         "legendgroup": "Forest Materials",
         "marker": {
          "color": "#FECB52",
          "pattern": {
           "shape": ""
          }
         },
         "name": "Forest Materials",
         "offsetgroup": "Forest Materials",
         "orientation": "v",
         "showlegend": true,
         "textposition": "auto",
         "type": "bar",
         "x": [
          "CENTURYTEX.NS"
         ],
         "xaxis": "x10",
         "y": [
          14.230356526898856
         ],
         "yaxis": "y10"
        },
        {
         "alignmentgroup": "True",
         "hovertemplate": "Industry=Financial Services<br>Symbol=%{x}<br>Growth (%)=%{y}<extra></extra>",
         "legendgroup": "Financial Services",
         "marker": {
          "color": "#636efa",
          "pattern": {
           "shape": ""
          }
         },
         "name": "Financial Services",
         "offsetgroup": "Financial Services",
         "orientation": "v",
         "showlegend": true,
         "textposition": "auto",
         "type": "bar",
         "x": [
          "HUDCO.NS",
          "IOB.NS",
          "UCOBANK.NS",
          "CENTRALBK.NS"
         ],
         "xaxis": "x11",
         "y": [
          128.7215299550155,
          62.62627274585579,
          51.97368421052631,
          43.67946415816304
         ],
         "yaxis": "y11"
        },
        {
         "alignmentgroup": "True",
         "hovertemplate": "Industry=Fast Moving Consumer Goods<br>Symbol=%{x}<br>Growth (%)=%{y}<extra></extra>",
         "legendgroup": "Fast Moving Consumer Goods",
         "marker": {
          "color": "#EF553B",
          "pattern": {
           "shape": ""
          }
         },
         "name": "Fast Moving Consumer Goods",
         "offsetgroup": "Fast Moving Consumer Goods",
         "orientation": "v",
         "showlegend": true,
         "textposition": "auto",
         "type": "bar",
         "x": [
          "RADICO.NS",
          "JYOTHYLAB.NS",
          "BIKAJI.NS",
          "RENUKA.NS"
         ],
         "xaxis": "x12",
         "y": [
          2.445388993494224,
          1.1372634724407191,
          -5.678424222841749,
          -6.024096477831742
         ],
         "yaxis": "y12"
        },
        {
         "alignmentgroup": "True",
         "hovertemplate": "Industry=Consumer Services<br>Symbol=%{x}<br>Growth (%)=%{y}<extra></extra>",
         "legendgroup": "Consumer Services",
         "marker": {
          "color": "#00cc96",
          "pattern": {
           "shape": ""
          }
         },
         "name": "Consumer Services",
         "offsetgroup": "Consumer Services",
         "orientation": "v",
         "showlegend": true,
         "textposition": "auto",
         "type": "bar",
         "x": [
          "BLS.NS",
          "EASEMYTRIP.NS",
          "INDIAMART.NS",
          "MEDPLUS.NS"
         ],
         "xaxis": "x5",
         "y": [
          41.09589231985859,
          26.58064319241431,
          2.2939437636945392,
          -12.676589498919675
         ],
         "yaxis": "y5"
        },
        {
         "alignmentgroup": "True",
         "hovertemplate": "Industry=Consumer Durables<br>Symbol=%{x}<br>Growth (%)=%{y}<extra></extra>",
         "legendgroup": "Consumer Durables",
         "marker": {
          "color": "#ab63fa",
          "pattern": {
           "shape": ""
          }
         },
         "name": "Consumer Durables",
         "offsetgroup": "Consumer Durables",
         "orientation": "v",
         "showlegend": true,
         "textposition": "auto",
         "type": "bar",
         "x": [
          "KALYANKJIL.NS",
          "AMBER.NS",
          "VIPIND.NS",
          "CAMPUS.NS"
         ],
         "xaxis": "x6",
         "y": [
          23.159619644443108,
          16.7701503210812,
          -7.08423874100138,
          -10.434783714405004
         ],
         "yaxis": "y6"
        },
        {
         "alignmentgroup": "True",
         "hovertemplate": "Industry=Construction Materials<br>Symbol=%{x}<br>Growth (%)=%{y}<extra></extra>",
         "legendgroup": "Construction Materials",
         "marker": {
          "color": "#FFA15A",
          "pattern": {
           "shape": ""
          }
         },
         "name": "Construction Materials",
         "offsetgroup": "Construction Materials",
         "orientation": "v",
         "showlegend": true,
         "textposition": "auto",
         "type": "bar",
         "x": [
          "BIRLACORPN.NS",
          "JKLAKSHMI.NS"
         ],
         "xaxis": "x7",
         "y": [
          17.742222210037696,
          15.655916978686646
         ],
         "yaxis": "y7"
        },
        {
         "alignmentgroup": "True",
         "hovertemplate": "Industry=Construction<br>Symbol=%{x}<br>Growth (%)=%{y}<extra></extra>",
         "legendgroup": "Construction",
         "marker": {
          "color": "#19d3f3",
          "pattern": {
           "shape": ""
          }
         },
         "name": "Construction",
         "offsetgroup": "Construction",
         "orientation": "v",
         "showlegend": true,
         "textposition": "auto",
         "type": "bar",
         "x": [
          "NBCC.NS",
          "IRB.NS",
          "RITES.NS"
         ],
         "xaxis": "x8",
         "y": [
          80.17414233189655,
          72.05881242971115,
          69.25295826772614
         ],
         "yaxis": "y8"
        },
        {
         "alignmentgroup": "True",
         "hovertemplate": "Industry=Chemicals<br>Symbol=%{x}<br>Growth (%)=%{y}<extra></extra>",
         "legendgroup": "Chemicals",
         "marker": {
          "color": "#FF6692",
          "pattern": {
           "shape": ""
          }
         },
         "name": "Chemicals",
         "offsetgroup": "Chemicals",
         "orientation": "v",
         "showlegend": true,
         "textposition": "auto",
         "type": "bar",
         "x": [
          "JUBLINGREA.NS",
          "CHAMBLFERT.NS",
          "BALAMINES.NS",
          "ANURAS.NS"
         ],
         "xaxis": "x",
         "y": [
          12.525975348758989,
          10.415357374931776,
          10.393019588967212,
          -5.494181581939994
         ],
         "yaxis": "y"
        },
        {
         "alignmentgroup": "True",
         "hovertemplate": "Industry=Capital Goods<br>Symbol=%{x}<br>Growth (%)=%{y}<extra></extra>",
         "legendgroup": "Capital Goods",
         "marker": {
          "color": "#B6E880",
          "pattern": {
           "shape": ""
          }
         },
         "name": "Capital Goods",
         "offsetgroup": "Capital Goods",
         "orientation": "v",
         "showlegend": true,
         "textposition": "auto",
         "type": "bar",
         "x": [
          "COCHINSHIP.NS",
          "DATAPATTNS.NS",
          "ELGIEQUIP.NS",
          "KEC.NS"
         ],
         "xaxis": "x2",
         "y": [
          49.50299495902957,
          36.22655536312425,
          30.538408797037665,
          22.27782260176649
         ],
         "yaxis": "y2"
        },
        {
         "alignmentgroup": "True",
         "hovertemplate": "Industry=Automobile and Auto Components<br>Symbol=%{x}<br>Growth (%)=%{y}<extra></extra>",
         "legendgroup": "Automobile and Auto Components",
         "marker": {
          "color": "#FF97FF",
          "pattern": {
           "shape": ""
          }
         },
         "name": "Automobile and Auto Components",
         "offsetgroup": "Automobile and Auto Components",
         "orientation": "v",
         "showlegend": true,
         "textposition": "auto",
         "type": "bar",
         "x": [
          "JBMA.NS",
          "CEATLTD.NS",
          "EXIDEIND.NS",
          "ARE&M.NS"
         ],
         "xaxis": "x3",
         "y": [
          72.13293299241528,
          31.092595386159022,
          12.126931767929891,
          10.34191192544569
         ],
         "yaxis": "y3"
        }
       ],
       "layout": {
        "annotations": [
         {
          "font": {},
          "showarrow": false,
          "text": "Industry=Chemicals",
          "x": 0.1175,
          "xanchor": "center",
          "xref": "paper",
          "y": 0.144,
          "yanchor": "bottom",
          "yref": "paper"
         },
         {
          "font": {},
          "showarrow": false,
          "text": "Industry=Capital Goods",
          "x": 0.3725,
          "xanchor": "center",
          "xref": "paper",
          "y": 0.144,
          "yanchor": "bottom",
          "yref": "paper"
         },
         {
          "font": {},
          "showarrow": false,
          "text": "Industry=Automobile and Auto Components",
          "x": 0.6275,
          "xanchor": "center",
          "xref": "paper",
          "y": 0.144,
          "yanchor": "bottom",
          "yref": "paper"
         },
         {
          "font": {},
          "showarrow": false,
          "text": "Industry=Consumer Services",
          "x": 0.1175,
          "xanchor": "center",
          "xref": "paper",
          "y": 0.358,
          "yanchor": "bottom",
          "yref": "paper"
         },
         {
          "font": {},
          "showarrow": false,
          "text": "Industry=Consumer Durables",
          "x": 0.3725,
          "xanchor": "center",
          "xref": "paper",
          "y": 0.358,
          "yanchor": "bottom",
          "yref": "paper"
         },
         {
          "font": {},
          "showarrow": false,
          "text": "Industry=Construction Materials",
          "x": 0.6275,
          "xanchor": "center",
          "xref": "paper",
          "y": 0.358,
          "yanchor": "bottom",
          "yref": "paper"
         },
         {
          "font": {},
          "showarrow": false,
          "text": "Industry=Construction",
          "x": 0.8824999999999998,
          "xanchor": "center",
          "xref": "paper",
          "y": 0.358,
          "yanchor": "bottom",
          "yref": "paper"
         },
         {
          "font": {},
          "showarrow": false,
          "text": "Industry=Healthcare",
          "x": 0.1175,
          "xanchor": "center",
          "xref": "paper",
          "y": 0.572,
          "yanchor": "bottom",
          "yref": "paper"
         },
         {
          "font": {},
          "showarrow": false,
          "text": "Industry=Forest Materials",
          "x": 0.3725,
          "xanchor": "center",
          "xref": "paper",
          "y": 0.572,
          "yanchor": "bottom",
          "yref": "paper"
         },
         {
          "font": {},
          "showarrow": false,
          "text": "Industry=Financial Services",
          "x": 0.6275,
          "xanchor": "center",
          "xref": "paper",
          "y": 0.572,
          "yanchor": "bottom",
          "yref": "paper"
         },
         {
          "font": {},
          "showarrow": false,
          "text": "Industry=Fast Moving Consumer Goods",
          "x": 0.8824999999999998,
          "xanchor": "center",
          "xref": "paper",
          "y": 0.572,
          "yanchor": "bottom",
          "yref": "paper"
         },
         {
          "font": {},
          "showarrow": false,
          "text": "Industry=Oil Gas & Consumable Fuels",
          "x": 0.1175,
          "xanchor": "center",
          "xref": "paper",
          "y": 0.7859999999999999,
          "yanchor": "bottom",
          "yref": "paper"
         },
         {
          "font": {},
          "showarrow": false,
          "text": "Industry=Metals & Mining",
          "x": 0.3725,
          "xanchor": "center",
          "xref": "paper",
          "y": 0.7859999999999999,
          "yanchor": "bottom",
          "yref": "paper"
         },
         {
          "font": {},
          "showarrow": false,
          "text": "Industry=Media Entertainment & Publication",
          "x": 0.6275,
          "xanchor": "center",
          "xref": "paper",
          "y": 0.7859999999999999,
          "yanchor": "bottom",
          "yref": "paper"
         },
         {
          "font": {},
          "showarrow": false,
          "text": "Industry=Information Technology",
          "x": 0.8824999999999998,
          "xanchor": "center",
          "xref": "paper",
          "y": 0.7859999999999999,
          "yanchor": "bottom",
          "yref": "paper"
         },
         {
          "font": {},
          "showarrow": false,
          "text": "Industry=Textiles",
          "x": 0.1175,
          "xanchor": "center",
          "xref": "paper",
          "y": 1,
          "yanchor": "bottom",
          "yref": "paper"
         },
         {
          "font": {},
          "showarrow": false,
          "text": "Industry=Telecommunication",
          "x": 0.3725,
          "xanchor": "center",
          "xref": "paper",
          "y": 1,
          "yanchor": "bottom",
          "yref": "paper"
         },
         {
          "font": {},
          "showarrow": false,
          "text": "Industry=Services",
          "x": 0.6275,
          "xanchor": "center",
          "xref": "paper",
          "y": 1,
          "yanchor": "bottom",
          "yref": "paper"
         },
         {
          "font": {},
          "showarrow": false,
          "text": "Industry=Power",
          "x": 0.8824999999999998,
          "xanchor": "center",
          "xref": "paper",
          "y": 1,
          "yanchor": "bottom",
          "yref": "paper"
         }
        ],
        "barmode": "relative",
        "height": 1500,
        "legend": {
         "title": {
          "text": "Industry"
         },
         "tracegroupgap": 0
        },
        "template": {
         "data": {
          "bar": [
           {
            "error_x": {
             "color": "#2a3f5f"
            },
            "error_y": {
             "color": "#2a3f5f"
            },
            "marker": {
             "line": {
              "color": "#E5ECF6",
              "width": 0.5
             },
             "pattern": {
              "fillmode": "overlay",
              "size": 10,
              "solidity": 0.2
             }
            },
            "type": "bar"
           }
          ],
          "barpolar": [
           {
            "marker": {
             "line": {
              "color": "#E5ECF6",
              "width": 0.5
             },
             "pattern": {
              "fillmode": "overlay",
              "size": 10,
              "solidity": 0.2
             }
            },
            "type": "barpolar"
           }
          ],
          "carpet": [
           {
            "aaxis": {
             "endlinecolor": "#2a3f5f",
             "gridcolor": "white",
             "linecolor": "white",
             "minorgridcolor": "white",
             "startlinecolor": "#2a3f5f"
            },
            "baxis": {
             "endlinecolor": "#2a3f5f",
             "gridcolor": "white",
             "linecolor": "white",
             "minorgridcolor": "white",
             "startlinecolor": "#2a3f5f"
            },
            "type": "carpet"
           }
          ],
          "choropleth": [
           {
            "colorbar": {
             "outlinewidth": 0,
             "ticks": ""
            },
            "type": "choropleth"
           }
          ],
          "contour": [
           {
            "colorbar": {
             "outlinewidth": 0,
             "ticks": ""
            },
            "colorscale": [
             [
              0,
              "#0d0887"
             ],
             [
              0.1111111111111111,
              "#46039f"
             ],
             [
              0.2222222222222222,
              "#7201a8"
             ],
             [
              0.3333333333333333,
              "#9c179e"
             ],
             [
              0.4444444444444444,
              "#bd3786"
             ],
             [
              0.5555555555555556,
              "#d8576b"
             ],
             [
              0.6666666666666666,
              "#ed7953"
             ],
             [
              0.7777777777777778,
              "#fb9f3a"
             ],
             [
              0.8888888888888888,
              "#fdca26"
             ],
             [
              1,
              "#f0f921"
             ]
            ],
            "type": "contour"
           }
          ],
          "contourcarpet": [
           {
            "colorbar": {
             "outlinewidth": 0,
             "ticks": ""
            },
            "type": "contourcarpet"
           }
          ],
          "heatmap": [
           {
            "colorbar": {
             "outlinewidth": 0,
             "ticks": ""
            },
            "colorscale": [
             [
              0,
              "#0d0887"
             ],
             [
              0.1111111111111111,
              "#46039f"
             ],
             [
              0.2222222222222222,
              "#7201a8"
             ],
             [
              0.3333333333333333,
              "#9c179e"
             ],
             [
              0.4444444444444444,
              "#bd3786"
             ],
             [
              0.5555555555555556,
              "#d8576b"
             ],
             [
              0.6666666666666666,
              "#ed7953"
             ],
             [
              0.7777777777777778,
              "#fb9f3a"
             ],
             [
              0.8888888888888888,
              "#fdca26"
             ],
             [
              1,
              "#f0f921"
             ]
            ],
            "type": "heatmap"
           }
          ],
          "heatmapgl": [
           {
            "colorbar": {
             "outlinewidth": 0,
             "ticks": ""
            },
            "colorscale": [
             [
              0,
              "#0d0887"
             ],
             [
              0.1111111111111111,
              "#46039f"
             ],
             [
              0.2222222222222222,
              "#7201a8"
             ],
             [
              0.3333333333333333,
              "#9c179e"
             ],
             [
              0.4444444444444444,
              "#bd3786"
             ],
             [
              0.5555555555555556,
              "#d8576b"
             ],
             [
              0.6666666666666666,
              "#ed7953"
             ],
             [
              0.7777777777777778,
              "#fb9f3a"
             ],
             [
              0.8888888888888888,
              "#fdca26"
             ],
             [
              1,
              "#f0f921"
             ]
            ],
            "type": "heatmapgl"
           }
          ],
          "histogram": [
           {
            "marker": {
             "pattern": {
              "fillmode": "overlay",
              "size": 10,
              "solidity": 0.2
             }
            },
            "type": "histogram"
           }
          ],
          "histogram2d": [
           {
            "colorbar": {
             "outlinewidth": 0,
             "ticks": ""
            },
            "colorscale": [
             [
              0,
              "#0d0887"
             ],
             [
              0.1111111111111111,
              "#46039f"
             ],
             [
              0.2222222222222222,
              "#7201a8"
             ],
             [
              0.3333333333333333,
              "#9c179e"
             ],
             [
              0.4444444444444444,
              "#bd3786"
             ],
             [
              0.5555555555555556,
              "#d8576b"
             ],
             [
              0.6666666666666666,
              "#ed7953"
             ],
             [
              0.7777777777777778,
              "#fb9f3a"
             ],
             [
              0.8888888888888888,
              "#fdca26"
             ],
             [
              1,
              "#f0f921"
             ]
            ],
            "type": "histogram2d"
           }
          ],
          "histogram2dcontour": [
           {
            "colorbar": {
             "outlinewidth": 0,
             "ticks": ""
            },
            "colorscale": [
             [
              0,
              "#0d0887"
             ],
             [
              0.1111111111111111,
              "#46039f"
             ],
             [
              0.2222222222222222,
              "#7201a8"
             ],
             [
              0.3333333333333333,
              "#9c179e"
             ],
             [
              0.4444444444444444,
              "#bd3786"
             ],
             [
              0.5555555555555556,
              "#d8576b"
             ],
             [
              0.6666666666666666,
              "#ed7953"
             ],
             [
              0.7777777777777778,
              "#fb9f3a"
             ],
             [
              0.8888888888888888,
              "#fdca26"
             ],
             [
              1,
              "#f0f921"
             ]
            ],
            "type": "histogram2dcontour"
           }
          ],
          "mesh3d": [
           {
            "colorbar": {
             "outlinewidth": 0,
             "ticks": ""
            },
            "type": "mesh3d"
           }
          ],
          "parcoords": [
           {
            "line": {
             "colorbar": {
              "outlinewidth": 0,
              "ticks": ""
             }
            },
            "type": "parcoords"
           }
          ],
          "pie": [
           {
            "automargin": true,
            "type": "pie"
           }
          ],
          "scatter": [
           {
            "marker": {
             "colorbar": {
              "outlinewidth": 0,
              "ticks": ""
             }
            },
            "type": "scatter"
           }
          ],
          "scatter3d": [
           {
            "line": {
             "colorbar": {
              "outlinewidth": 0,
              "ticks": ""
             }
            },
            "marker": {
             "colorbar": {
              "outlinewidth": 0,
              "ticks": ""
             }
            },
            "type": "scatter3d"
           }
          ],
          "scattercarpet": [
           {
            "marker": {
             "colorbar": {
              "outlinewidth": 0,
              "ticks": ""
             }
            },
            "type": "scattercarpet"
           }
          ],
          "scattergeo": [
           {
            "marker": {
             "colorbar": {
              "outlinewidth": 0,
              "ticks": ""
             }
            },
            "type": "scattergeo"
           }
          ],
          "scattergl": [
           {
            "marker": {
             "colorbar": {
              "outlinewidth": 0,
              "ticks": ""
             }
            },
            "type": "scattergl"
           }
          ],
          "scattermapbox": [
           {
            "marker": {
             "colorbar": {
              "outlinewidth": 0,
              "ticks": ""
             }
            },
            "type": "scattermapbox"
           }
          ],
          "scatterpolar": [
           {
            "marker": {
             "colorbar": {
              "outlinewidth": 0,
              "ticks": ""
             }
            },
            "type": "scatterpolar"
           }
          ],
          "scatterpolargl": [
           {
            "marker": {
             "colorbar": {
              "outlinewidth": 0,
              "ticks": ""
             }
            },
            "type": "scatterpolargl"
           }
          ],
          "scatterternary": [
           {
            "marker": {
             "colorbar": {
              "outlinewidth": 0,
              "ticks": ""
             }
            },
            "type": "scatterternary"
           }
          ],
          "surface": [
           {
            "colorbar": {
             "outlinewidth": 0,
             "ticks": ""
            },
            "colorscale": [
             [
              0,
              "#0d0887"
             ],
             [
              0.1111111111111111,
              "#46039f"
             ],
             [
              0.2222222222222222,
              "#7201a8"
             ],
             [
              0.3333333333333333,
              "#9c179e"
             ],
             [
              0.4444444444444444,
              "#bd3786"
             ],
             [
              0.5555555555555556,
              "#d8576b"
             ],
             [
              0.6666666666666666,
              "#ed7953"
             ],
             [
              0.7777777777777778,
              "#fb9f3a"
             ],
             [
              0.8888888888888888,
              "#fdca26"
             ],
             [
              1,
              "#f0f921"
             ]
            ],
            "type": "surface"
           }
          ],
          "table": [
           {
            "cells": {
             "fill": {
              "color": "#EBF0F8"
             },
             "line": {
              "color": "white"
             }
            },
            "header": {
             "fill": {
              "color": "#C8D4E3"
             },
             "line": {
              "color": "white"
             }
            },
            "type": "table"
           }
          ]
         },
         "layout": {
          "annotationdefaults": {
           "arrowcolor": "#2a3f5f",
           "arrowhead": 0,
           "arrowwidth": 1
          },
          "autotypenumbers": "strict",
          "coloraxis": {
           "colorbar": {
            "outlinewidth": 0,
            "ticks": ""
           }
          },
          "colorscale": {
           "diverging": [
            [
             0,
             "#8e0152"
            ],
            [
             0.1,
             "#c51b7d"
            ],
            [
             0.2,
             "#de77ae"
            ],
            [
             0.3,
             "#f1b6da"
            ],
            [
             0.4,
             "#fde0ef"
            ],
            [
             0.5,
             "#f7f7f7"
            ],
            [
             0.6,
             "#e6f5d0"
            ],
            [
             0.7,
             "#b8e186"
            ],
            [
             0.8,
             "#7fbc41"
            ],
            [
             0.9,
             "#4d9221"
            ],
            [
             1,
             "#276419"
            ]
           ],
           "sequential": [
            [
             0,
             "#0d0887"
            ],
            [
             0.1111111111111111,
             "#46039f"
            ],
            [
             0.2222222222222222,
             "#7201a8"
            ],
            [
             0.3333333333333333,
             "#9c179e"
            ],
            [
             0.4444444444444444,
             "#bd3786"
            ],
            [
             0.5555555555555556,
             "#d8576b"
            ],
            [
             0.6666666666666666,
             "#ed7953"
            ],
            [
             0.7777777777777778,
             "#fb9f3a"
            ],
            [
             0.8888888888888888,
             "#fdca26"
            ],
            [
             1,
             "#f0f921"
            ]
           ],
           "sequentialminus": [
            [
             0,
             "#0d0887"
            ],
            [
             0.1111111111111111,
             "#46039f"
            ],
            [
             0.2222222222222222,
             "#7201a8"
            ],
            [
             0.3333333333333333,
             "#9c179e"
            ],
            [
             0.4444444444444444,
             "#bd3786"
            ],
            [
             0.5555555555555556,
             "#d8576b"
            ],
            [
             0.6666666666666666,
             "#ed7953"
            ],
            [
             0.7777777777777778,
             "#fb9f3a"
            ],
            [
             0.8888888888888888,
             "#fdca26"
            ],
            [
             1,
             "#f0f921"
            ]
           ]
          },
          "colorway": [
           "#636efa",
           "#EF553B",
           "#00cc96",
           "#ab63fa",
           "#FFA15A",
           "#19d3f3",
           "#FF6692",
           "#B6E880",
           "#FF97FF",
           "#FECB52"
          ],
          "font": {
           "color": "#2a3f5f"
          },
          "geo": {
           "bgcolor": "white",
           "lakecolor": "white",
           "landcolor": "#E5ECF6",
           "showlakes": true,
           "showland": true,
           "subunitcolor": "white"
          },
          "hoverlabel": {
           "align": "left"
          },
          "hovermode": "closest",
          "mapbox": {
           "style": "light"
          },
          "paper_bgcolor": "white",
          "plot_bgcolor": "#E5ECF6",
          "polar": {
           "angularaxis": {
            "gridcolor": "white",
            "linecolor": "white",
            "ticks": ""
           },
           "bgcolor": "#E5ECF6",
           "radialaxis": {
            "gridcolor": "white",
            "linecolor": "white",
            "ticks": ""
           }
          },
          "scene": {
           "xaxis": {
            "backgroundcolor": "#E5ECF6",
            "gridcolor": "white",
            "gridwidth": 2,
            "linecolor": "white",
            "showbackground": true,
            "ticks": "",
            "zerolinecolor": "white"
           },
           "yaxis": {
            "backgroundcolor": "#E5ECF6",
            "gridcolor": "white",
            "gridwidth": 2,
            "linecolor": "white",
            "showbackground": true,
            "ticks": "",
            "zerolinecolor": "white"
           },
           "zaxis": {
            "backgroundcolor": "#E5ECF6",
            "gridcolor": "white",
            "gridwidth": 2,
            "linecolor": "white",
            "showbackground": true,
            "ticks": "",
            "zerolinecolor": "white"
           }
          },
          "shapedefaults": {
           "line": {
            "color": "#2a3f5f"
           }
          },
          "ternary": {
           "aaxis": {
            "gridcolor": "white",
            "linecolor": "white",
            "ticks": ""
           },
           "baxis": {
            "gridcolor": "white",
            "linecolor": "white",
            "ticks": ""
           },
           "bgcolor": "#E5ECF6",
           "caxis": {
            "gridcolor": "white",
            "linecolor": "white",
            "ticks": ""
           }
          },
          "title": {
           "x": 0.05
          },
          "xaxis": {
           "automargin": true,
           "gridcolor": "white",
           "linecolor": "white",
           "ticks": "",
           "title": {
            "standoff": 15
           },
           "zerolinecolor": "white",
           "zerolinewidth": 2
          },
          "yaxis": {
           "automargin": true,
           "gridcolor": "white",
           "linecolor": "white",
           "ticks": "",
           "title": {
            "standoff": 15
           },
           "zerolinecolor": "white",
           "zerolinewidth": 2
          }
         }
        },
        "title": {
         "text": "Symbol Vs Industry and Growth (Grouped by Industry)"
        },
        "width": 1800,
        "xaxis": {
         "anchor": "y",
         "autorange": true,
         "domain": [
          0,
          0.235
         ],
         "range": [
          -0.5,
          59.5
         ],
         "title": {
          "text": "Symbol"
         },
         "type": "category"
        },
        "xaxis10": {
         "anchor": "y10",
         "autorange": true,
         "domain": [
          0.255,
          0.49
         ],
         "matches": "x",
         "range": [
          -0.5,
          59.5
         ],
         "showticklabels": false,
         "type": "category"
        },
        "xaxis11": {
         "anchor": "y11",
         "autorange": true,
         "domain": [
          0.51,
          0.745
         ],
         "matches": "x",
         "range": [
          -0.5,
          59.5
         ],
         "showticklabels": false,
         "type": "category"
        },
        "xaxis12": {
         "anchor": "y12",
         "autorange": true,
         "domain": [
          0.7649999999999999,
          0.9999999999999999
         ],
         "matches": "x",
         "range": [
          -0.5,
          59.5
         ],
         "showticklabels": false,
         "type": "category"
        },
        "xaxis13": {
         "anchor": "y13",
         "autorange": true,
         "domain": [
          0,
          0.235
         ],
         "matches": "x",
         "range": [
          -0.5,
          59.5
         ],
         "showticklabels": false,
         "type": "category"
        },
        "xaxis14": {
         "anchor": "y14",
         "autorange": true,
         "domain": [
          0.255,
          0.49
         ],
         "matches": "x",
         "range": [
          -0.5,
          59.5
         ],
         "showticklabels": false,
         "type": "category"
        },
        "xaxis15": {
         "anchor": "y15",
         "autorange": true,
         "domain": [
          0.51,
          0.745
         ],
         "matches": "x",
         "range": [
          -0.5,
          59.5
         ],
         "showticklabels": false,
         "type": "category"
        },
        "xaxis16": {
         "anchor": "y16",
         "autorange": true,
         "domain": [
          0.7649999999999999,
          0.9999999999999999
         ],
         "matches": "x",
         "range": [
          -0.5,
          59.5
         ],
         "showticklabels": false,
         "type": "category"
        },
        "xaxis17": {
         "anchor": "y17",
         "autorange": true,
         "domain": [
          0,
          0.235
         ],
         "matches": "x",
         "range": [
          -0.5,
          59.5
         ],
         "showticklabels": false,
         "type": "category"
        },
        "xaxis18": {
         "anchor": "y18",
         "autorange": true,
         "domain": [
          0.255,
          0.49
         ],
         "matches": "x",
         "range": [
          -0.5,
          59.5
         ],
         "showticklabels": false,
         "type": "category"
        },
        "xaxis19": {
         "anchor": "y19",
         "autorange": true,
         "domain": [
          0.51,
          0.745
         ],
         "matches": "x",
         "range": [
          -0.5,
          59.5
         ],
         "showticklabels": false,
         "type": "category"
        },
        "xaxis2": {
         "anchor": "y2",
         "autorange": true,
         "domain": [
          0.255,
          0.49
         ],
         "matches": "x",
         "range": [
          -0.5,
          59.5
         ],
         "title": {
          "text": "Symbol"
         },
         "type": "category"
        },
        "xaxis20": {
         "anchor": "y20",
         "autorange": true,
         "domain": [
          0.7649999999999999,
          0.9999999999999999
         ],
         "matches": "x",
         "range": [
          -0.5,
          59.5
         ],
         "showticklabels": false,
         "type": "category"
        },
        "xaxis3": {
         "anchor": "y3",
         "autorange": true,
         "domain": [
          0.51,
          0.745
         ],
         "matches": "x",
         "range": [
          -0.5,
          59.5
         ],
         "title": {
          "text": "Symbol"
         },
         "type": "category"
        },
        "xaxis4": {
         "anchor": "y4",
         "domain": [
          0.7649999999999999,
          0.9999999999999999
         ],
         "matches": "x",
         "title": {
          "text": "Symbol"
         }
        },
        "xaxis5": {
         "anchor": "y5",
         "autorange": true,
         "domain": [
          0,
          0.235
         ],
         "matches": "x",
         "range": [
          -0.5,
          59.5
         ],
         "showticklabels": false,
         "type": "category"
        },
        "xaxis6": {
         "anchor": "y6",
         "autorange": true,
         "domain": [
          0.255,
          0.49
         ],
         "matches": "x",
         "range": [
          -0.5,
          59.5
         ],
         "showticklabels": false,
         "type": "category"
        },
        "xaxis7": {
         "anchor": "y7",
         "autorange": true,
         "domain": [
          0.51,
          0.745
         ],
         "matches": "x",
         "range": [
          -0.5,
          59.5
         ],
         "showticklabels": false,
         "type": "category"
        },
        "xaxis8": {
         "anchor": "y8",
         "autorange": true,
         "domain": [
          0.7649999999999999,
          0.9999999999999999
         ],
         "matches": "x",
         "range": [
          -0.5,
          59.5
         ],
         "showticklabels": false,
         "type": "category"
        },
        "xaxis9": {
         "anchor": "y9",
         "autorange": true,
         "domain": [
          0,
          0.235
         ],
         "matches": "x",
         "range": [
          -0.5,
          59.5
         ],
         "showticklabels": false,
         "type": "category"
        },
        "yaxis": {
         "anchor": "x",
         "autorange": true,
         "domain": [
          0,
          0.144
         ],
         "range": [
          -27.9135872993069,
          136.9654834947167
         ],
         "title": {
          "text": "Growth (%)"
         },
         "type": "linear"
        },
        "yaxis10": {
         "anchor": "x10",
         "autorange": true,
         "domain": [
          0.428,
          0.572
         ],
         "matches": "y",
         "range": [
          -27.9135872993069,
          136.9654834947167
         ],
         "showticklabels": false,
         "type": "linear"
        },
        "yaxis11": {
         "anchor": "x11",
         "autorange": true,
         "domain": [
          0.428,
          0.572
         ],
         "matches": "y",
         "range": [
          -27.9135872993069,
          136.9654834947167
         ],
         "showticklabels": false,
         "type": "linear"
        },
        "yaxis12": {
         "anchor": "x12",
         "autorange": true,
         "domain": [
          0.428,
          0.572
         ],
         "matches": "y",
         "range": [
          -27.9135872993069,
          136.9654834947167
         ],
         "showticklabels": false,
         "type": "linear"
        },
        "yaxis13": {
         "anchor": "x13",
         "autorange": true,
         "domain": [
          0.6419999999999999,
          0.7859999999999999
         ],
         "matches": "y",
         "range": [
          -27.9135872993069,
          136.9654834947167
         ],
         "title": {
          "text": "Growth (%)"
         },
         "type": "linear"
        },
        "yaxis14": {
         "anchor": "x14",
         "autorange": true,
         "domain": [
          0.6419999999999999,
          0.7859999999999999
         ],
         "matches": "y",
         "range": [
          -27.9135872993069,
          136.9654834947167
         ],
         "showticklabels": false,
         "type": "linear"
        },
        "yaxis15": {
         "anchor": "x15",
         "autorange": true,
         "domain": [
          0.6419999999999999,
          0.7859999999999999
         ],
         "matches": "y",
         "range": [
          -27.9135872993069,
          136.9654834947167
         ],
         "showticklabels": false,
         "type": "linear"
        },
        "yaxis16": {
         "anchor": "x16",
         "autorange": true,
         "domain": [
          0.6419999999999999,
          0.7859999999999999
         ],
         "matches": "y",
         "range": [
          -27.9135872993069,
          136.9654834947167
         ],
         "showticklabels": false,
         "type": "linear"
        },
        "yaxis17": {
         "anchor": "x17",
         "autorange": true,
         "domain": [
          0.856,
          1
         ],
         "matches": "y",
         "range": [
          -27.9135872993069,
          136.9654834947167
         ],
         "title": {
          "text": "Growth (%)"
         },
         "type": "linear"
        },
        "yaxis18": {
         "anchor": "x18",
         "autorange": true,
         "domain": [
          0.856,
          1
         ],
         "matches": "y",
         "range": [
          -27.9135872993069,
          136.9654834947167
         ],
         "showticklabels": false,
         "type": "linear"
        },
        "yaxis19": {
         "anchor": "x19",
         "autorange": true,
         "domain": [
          0.856,
          1
         ],
         "matches": "y",
         "range": [
          -27.9135872993069,
          136.9654834947167
         ],
         "showticklabels": false,
         "type": "linear"
        },
        "yaxis2": {
         "anchor": "x2",
         "autorange": true,
         "domain": [
          0,
          0.144
         ],
         "matches": "y",
         "range": [
          -27.9135872993069,
          136.9654834947167
         ],
         "showticklabels": false,
         "type": "linear"
        },
        "yaxis20": {
         "anchor": "x20",
         "autorange": true,
         "domain": [
          0.856,
          1
         ],
         "matches": "y",
         "range": [
          -27.9135872993069,
          136.9654834947167
         ],
         "showticklabels": false,
         "type": "linear"
        },
        "yaxis3": {
         "anchor": "x3",
         "autorange": true,
         "domain": [
          0,
          0.144
         ],
         "matches": "y",
         "range": [
          -27.9135872993069,
          136.9654834947167
         ],
         "showticklabels": false,
         "type": "linear"
        },
        "yaxis4": {
         "anchor": "x4",
         "domain": [
          0,
          0.144
         ],
         "matches": "y",
         "showticklabels": false
        },
        "yaxis5": {
         "anchor": "x5",
         "autorange": true,
         "domain": [
          0.214,
          0.358
         ],
         "matches": "y",
         "range": [
          -27.9135872993069,
          136.9654834947167
         ],
         "title": {
          "text": "Growth (%)"
         },
         "type": "linear"
        },
        "yaxis6": {
         "anchor": "x6",
         "autorange": true,
         "domain": [
          0.214,
          0.358
         ],
         "matches": "y",
         "range": [
          -27.9135872993069,
          136.9654834947167
         ],
         "showticklabels": false,
         "type": "linear"
        },
        "yaxis7": {
         "anchor": "x7",
         "autorange": true,
         "domain": [
          0.214,
          0.358
         ],
         "matches": "y",
         "range": [
          -27.9135872993069,
          136.9654834947167
         ],
         "showticklabels": false,
         "type": "linear"
        },
        "yaxis8": {
         "anchor": "x8",
         "autorange": true,
         "domain": [
          0.214,
          0.358
         ],
         "matches": "y",
         "range": [
          -27.9135872993069,
          136.9654834947167
         ],
         "showticklabels": false,
         "type": "linear"
        },
        "yaxis9": {
         "anchor": "x9",
         "autorange": true,
         "domain": [
          0.428,
          0.572
         ],
         "matches": "y",
         "range": [
          -27.9135872993069,
          136.9654834947167
         ],
         "title": {
          "text": "Growth (%)"
         },
         "type": "linear"
        }
       }
      },
      "image/png": "[encoded data removed]",
      "text/html": [
       "<div>                            <div id=\"7ea31b7a-ba07-4f10-b4cf-1be50fe62587\" class=\"plotly-graph-div\" style=\"height:1500px; width:1800px;\"></div>            <script type=\"text/javascript\">                require([\"plotly\"], function(Plotly) {                    window.PLOTLYENV=window.PLOTLYENV || {};                                    if (document.getElementById(\"7ea31b7a-ba07-4f10-b4cf-1be50fe62587\")) {                    Plotly.newPlot(                        \"7ea31b7a-ba07-4f10-b4cf-1be50fe62587\",                        [{\"alignmentgroup\":\"True\",\"hovertemplate\":\"Industry=Textiles<br>Symbol=%{x}<br>Growth (%)=%{y}<extra></extra>\",\"legendgroup\":\"Textiles\",\"marker\":{\"color\":\"#636efa\",\"pattern\":{\"shape\":\"\"}},\"name\":\"Textiles\",\"offsetgroup\":\"Textiles\",\"orientation\":\"v\",\"showlegend\":true,\"textposition\":\"auto\",\"type\":\"bar\",\"x\":[\"RAYMOND.NS\",\"WELSPUNLIV.NS\"],\"xaxis\":\"x17\",\"y\":[17.568392182250836,-0.2232181739180827],\"yaxis\":\"y17\"},{\"alignmentgroup\":\"True\",\"hovertemplate\":\"Industry=Telecommunication<br>Symbol=%{x}<br>Growth (%)=%{y}<extra></extra>\",\"legendgroup\":\"Telecommunication\",\"marker\":{\"color\":\"#EF553B\",\"pattern\":{\"shape\":\"\"}},\"name\":\"Telecommunication\",\"offsetgroup\":\"Telecommunication\",\"orientation\":\"v\",\"showlegend\":true,\"textposition\":\"auto\",\"type\":\"bar\",\"x\":[\"HFCL.NS\",\"ROUTE.NS\",\"TTML.NS\",\"TEJASNET.NS\"],\"xaxis\":\"x18\",\"y\":[62.546816479400746,3.373592463682318,-6.641870458392029,-7.236112604184131],\"yaxis\":\"y18\"},{\"alignmentgroup\":\"True\",\"hovertemplate\":\"Industry=Services<br>Symbol=%{x}<br>Growth (%)=%{y}<extra></extra>\",\"legendgroup\":\"Services\",\"marker\":{\"color\":\"#00cc96\",\"pattern\":{\"shape\":\"\"}},\"name\":\"Services\",\"offsetgroup\":\"Services\",\"orientation\":\"v\",\"showlegend\":true,\"textposition\":\"auto\",\"type\":\"bar\",\"x\":[\"REDINGTON.NS\",\"FSL.NS\"],\"xaxis\":\"x19\",\"y\":[31.193238306070768,15.35411110680771],\"yaxis\":\"y19\"},{\"alignmentgroup\":\"True\",\"hovertemplate\":\"Industry=Power<br>Symbol=%{x}<br>Growth (%)=%{y}<extra></extra>\",\"legendgroup\":\"Power\",\"marker\":{\"color\":\"#ab63fa\",\"pattern\":{\"shape\":\"\"}},\"name\":\"Power\",\"offsetgroup\":\"Power\",\"orientation\":\"v\",\"showlegend\":true,\"textposition\":\"auto\",\"type\":\"bar\",\"x\":[\"SJVN.NS\",\"NLCINDIA.NS\",\"CESC.NS\"],\"xaxis\":\"x20\",\"y\":[42.46171351525201,35.87562936351467,27.213928829971245],\"yaxis\":\"y20\"},{\"alignmentgroup\":\"True\",\"hovertemplate\":\"Industry=Oil Gas & Consumable Fuels<br>Symbol=%{x}<br>Growth (%)=%{y}<extra></extra>\",\"legendgroup\":\"Oil Gas & Consumable Fuels\",\"marker\":{\"color\":\"#FFA15A\",\"pattern\":{\"shape\":\"\"}},\"name\":\"Oil Gas & Consumable Fuels\",\"offsetgroup\":\"Oil Gas & Consumable Fuels\",\"orientation\":\"v\",\"showlegend\":true,\"textposition\":\"auto\",\"type\":\"bar\",\"x\":[\"MRPL.NS\",\"MGL.NS\",\"AEGISCHEM.NS\"],\"xaxis\":\"x13\",\"y\":[91.37931056082311,41.1532320616288,19.252642419087927],\"yaxis\":\"y13\"},{\"alignmentgroup\":\"True\",\"hovertemplate\":\"Industry=Metals & Mining<br>Symbol=%{x}<br>Growth (%)=%{y}<extra></extra>\",\"legendgroup\":\"Metals & Mining\",\"marker\":{\"color\":\"#19d3f3\",\"pattern\":{\"shape\":\"\"}},\"name\":\"Metals & Mining\",\"offsetgroup\":\"Metals & Mining\",\"orientation\":\"v\",\"showlegend\":true,\"textposition\":\"auto\",\"type\":\"bar\",\"x\":[\"NATIONALUM.NS\",\"HINDCOPPER.NS\",\"NSLNISP.NS\"],\"xaxis\":\"x14\",\"y\":[76.85333658854168,60.41014024960789,45.02857317243303],\"yaxis\":\"y14\"},{\"alignmentgroup\":\"True\",\"hovertemplate\":\"Industry=Media Entertainment & Publication<br>Symbol=%{x}<br>Growth (%)=%{y}<extra></extra>\",\"legendgroup\":\"Media Entertainment & Publication\",\"marker\":{\"color\":\"#FF6692\",\"pattern\":{\"shape\":\"\"}},\"name\":\"Media Entertainment & Publication\",\"offsetgroup\":\"Media Entertainment & Publication\",\"orientation\":\"v\",\"showlegend\":true,\"textposition\":\"auto\",\"type\":\"bar\",\"x\":[\"PVRINOX.NS\"],\"xaxis\":\"x15\",\"y\":[-19.66963375960572],\"yaxis\":\"y15\"},{\"alignmentgroup\":\"True\",\"hovertemplate\":\"Industry=Information Technology<br>Symbol=%{x}<br>Growth (%)=%{y}<extra></extra>\",\"legendgroup\":\"Information Technology\",\"marker\":{\"color\":\"#B6E880\",\"pattern\":{\"shape\":\"\"}},\"name\":\"Information Technology\",\"offsetgroup\":\"Information Technology\",\"orientation\":\"v\",\"showlegend\":true,\"textposition\":\"auto\",\"type\":\"bar\",\"x\":[\"INTELLECT.NS\",\"BSOFT.NS\",\"SONATSOFTW.NS\",\"TANLA.NS\"],\"xaxis\":\"x16\",\"y\":[47.312269889347,24.034974769026608,20.12273646893121,7.110460792925322],\"yaxis\":\"y16\"},{\"alignmentgroup\":\"True\",\"hovertemplate\":\"Industry=Healthcare<br>Symbol=%{x}<br>Growth (%)=%{y}<extra></extra>\",\"legendgroup\":\"Healthcare\",\"marker\":{\"color\":\"#FF97FF\",\"pattern\":{\"shape\":\"\"}},\"name\":\"Healthcare\",\"offsetgroup\":\"Healthcare\",\"orientation\":\"v\",\"showlegend\":true,\"textposition\":\"auto\",\"type\":\"bar\",\"x\":[\"MEDANTA.NS\",\"NATCOPHARM.NS\",\"GRANULES.NS\",\"GLENMARK.NS\"],\"xaxis\":\"x9\",\"y\":[36.170100575869846,26.51515069093131,18.39124319141852,17.114563284433835],\"yaxis\":\"y9\"},{\"alignmentgroup\":\"True\",\"hovertemplate\":\"Industry=Forest Materials<br>Symbol=%{x}<br>Growth (%)=%{y}<extra></extra>\",\"legendgroup\":\"Forest Materials\",\"marker\":{\"color\":\"#FECB52\",\"pattern\":{\"shape\":\"\"}},\"name\":\"Forest Materials\",\"offsetgroup\":\"Forest Materials\",\"orientation\":\"v\",\"showlegend\":true,\"textposition\":\"auto\",\"type\":\"bar\",\"x\":[\"CENTURYTEX.NS\"],\"xaxis\":\"x10\",\"y\":[14.230356526898856],\"yaxis\":\"y10\"},{\"alignmentgroup\":\"True\",\"hovertemplate\":\"Industry=Financial Services<br>Symbol=%{x}<br>Growth (%)=%{y}<extra></extra>\",\"legendgroup\":\"Financial Services\",\"marker\":{\"color\":\"#636efa\",\"pattern\":{\"shape\":\"\"}},\"name\":\"Financial Services\",\"offsetgroup\":\"Financial Services\",\"orientation\":\"v\",\"showlegend\":true,\"textposition\":\"auto\",\"type\":\"bar\",\"x\":[\"HUDCO.NS\",\"IOB.NS\",\"UCOBANK.NS\",\"CENTRALBK.NS\"],\"xaxis\":\"x11\",\"y\":[128.7215299550155,62.62627274585579,51.97368421052631,43.67946415816304],\"yaxis\":\"y11\"},{\"alignmentgroup\":\"True\",\"hovertemplate\":\"Industry=Fast Moving Consumer Goods<br>Symbol=%{x}<br>Growth (%)=%{y}<extra></extra>\",\"legendgroup\":\"Fast Moving Consumer Goods\",\"marker\":{\"color\":\"#EF553B\",\"pattern\":{\"shape\":\"\"}},\"name\":\"Fast Moving Consumer Goods\",\"offsetgroup\":\"Fast Moving Consumer Goods\",\"orientation\":\"v\",\"showlegend\":true,\"textposition\":\"auto\",\"type\":\"bar\",\"x\":[\"RADICO.NS\",\"JYOTHYLAB.NS\",\"BIKAJI.NS\",\"RENUKA.NS\"],\"xaxis\":\"x12\",\"y\":[2.445388993494224,1.1372634724407191,-5.678424222841749,-6.024096477831742],\"yaxis\":\"y12\"},{\"alignmentgroup\":\"True\",\"hovertemplate\":\"Industry=Consumer Services<br>Symbol=%{x}<br>Growth (%)=%{y}<extra></extra>\",\"legendgroup\":\"Consumer Services\",\"marker\":{\"color\":\"#00cc96\",\"pattern\":{\"shape\":\"\"}},\"name\":\"Consumer Services\",\"offsetgroup\":\"Consumer Services\",\"orientation\":\"v\",\"showlegend\":true,\"textposition\":\"auto\",\"type\":\"bar\",\"x\":[\"BLS.NS\",\"EASEMYTRIP.NS\",\"INDIAMART.NS\",\"MEDPLUS.NS\"],\"xaxis\":\"x5\",\"y\":[41.09589231985859,26.58064319241431,2.2939437636945392,-12.676589498919675],\"yaxis\":\"y5\"},{\"alignmentgroup\":\"True\",\"hovertemplate\":\"Industry=Consumer Durables<br>Symbol=%{x}<br>Growth (%)=%{y}<extra></extra>\",\"legendgroup\":\"Consumer Durables\",\"marker\":{\"color\":\"#ab63fa\",\"pattern\":{\"shape\":\"\"}},\"name\":\"Consumer Durables\",\"offsetgroup\":\"Consumer Durables\",\"orientation\":\"v\",\"showlegend\":true,\"textposition\":\"auto\",\"type\":\"bar\",\"x\":[\"KALYANKJIL.NS\",\"AMBER.NS\",\"VIPIND.NS\",\"CAMPUS.NS\"],\"xaxis\":\"x6\",\"y\":[23.159619644443108,16.7701503210812,-7.08423874100138,-10.434783714405004],\"yaxis\":\"y6\"},{\"alignmentgroup\":\"True\",\"hovertemplate\":\"Industry=Construction Materials<br>Symbol=%{x}<br>Growth (%)=%{y}<extra></extra>\",\"legendgroup\":\"Construction Materials\",\"marker\":{\"color\":\"#FFA15A\",\"pattern\":{\"shape\":\"\"}},\"name\":\"Construction Materials\",\"offsetgroup\":\"Construction Materials\",\"orientation\":\"v\",\"showlegend\":true,\"textposition\":\"auto\",\"type\":\"bar\",\"x\":[\"BIRLACORPN.NS\",\"JKLAKSHMI.NS\"],\"xaxis\":\"x7\",\"y\":[17.742222210037696,15.655916978686646],\"yaxis\":\"y7\"},{\"alignmentgroup\":\"True\",\"hovertemplate\":\"Industry=Construction<br>Symbol=%{x}<br>Growth (%)=%{y}<extra></extra>\",\"legendgroup\":\"Construction\",\"marker\":{\"color\":\"#19d3f3\",\"pattern\":{\"shape\":\"\"}},\"name\":\"Construction\",\"offsetgroup\":\"Construction\",\"orientation\":\"v\",\"showlegend\":true,\"textposition\":\"auto\",\"type\":\"bar\",\"x\":[\"NBCC.NS\",\"IRB.NS\",\"RITES.NS\"],\"xaxis\":\"x8\",\"y\":[80.17414233189655,72.05881242971115,69.25295826772614],\"yaxis\":\"y8\"},{\"alignmentgroup\":\"True\",\"hovertemplate\":\"Industry=Chemicals<br>Symbol=%{x}<br>Growth (%)=%{y}<extra></extra>\",\"legendgroup\":\"Chemicals\",\"marker\":{\"color\":\"#FF6692\",\"pattern\":{\"shape\":\"\"}},\"name\":\"Chemicals\",\"offsetgroup\":\"Chemicals\",\"orientation\":\"v\",\"showlegend\":true,\"textposition\":\"auto\",\"type\":\"bar\",\"x\":[\"JUBLINGREA.NS\",\"CHAMBLFERT.NS\",\"BALAMINES.NS\",\"ANURAS.NS\"],\"xaxis\":\"x\",\"y\":[12.525975348758989,10.415357374931776,10.393019588967212,-5.494181581939994],\"yaxis\":\"y\"},{\"alignmentgroup\":\"True\",\"hovertemplate\":\"Industry=Capital Goods<br>Symbol=%{x}<br>Growth (%)=%{y}<extra></extra>\",\"legendgroup\":\"Capital Goods\",\"marker\":{\"color\":\"#B6E880\",\"pattern\":{\"shape\":\"\"}},\"name\":\"Capital Goods\",\"offsetgroup\":\"Capital Goods\",\"orientation\":\"v\",\"showlegend\":true,\"textposition\":\"auto\",\"type\":\"bar\",\"x\":[\"COCHINSHIP.NS\",\"DATAPATTNS.NS\",\"ELGIEQUIP.NS\",\"KEC.NS\"],\"xaxis\":\"x2\",\"y\":[49.50299495902957,36.22655536312425,30.538408797037665,22.27782260176649],\"yaxis\":\"y2\"},{\"alignmentgroup\":\"True\",\"hovertemplate\":\"Industry=Automobile and Auto Components<br>Symbol=%{x}<br>Growth (%)=%{y}<extra></extra>\",\"legendgroup\":\"Automobile and Auto Components\",\"marker\":{\"color\":\"#FF97FF\",\"pattern\":{\"shape\":\"\"}},\"name\":\"Automobile and Auto Components\",\"offsetgroup\":\"Automobile and Auto Components\",\"orientation\":\"v\",\"showlegend\":true,\"textposition\":\"auto\",\"type\":\"bar\",\"x\":[\"JBMA.NS\",\"CEATLTD.NS\",\"EXIDEIND.NS\",\"ARE&M.NS\"],\"xaxis\":\"x3\",\"y\":[72.13293299241528,31.092595386159022,12.126931767929891,10.34191192544569],\"yaxis\":\"y3\"}],                        {\"annotations\":[{\"font\":{},\"showarrow\":false,\"text\":\"Industry=Chemicals\",\"x\":0.1175,\"xanchor\":\"center\",\"xref\":\"paper\",\"y\":0.144,\"yanchor\":\"bottom\",\"yref\":\"paper\"},{\"font\":{},\"showarrow\":false,\"text\":\"Industry=Capital Goods\",\"x\":0.3725,\"xanchor\":\"center\",\"xref\":\"paper\",\"y\":0.144,\"yanchor\":\"bottom\",\"yref\":\"paper\"},{\"font\":{},\"showarrow\":false,\"text\":\"Industry=Automobile and Auto Components\",\"x\":0.6275,\"xanchor\":\"center\",\"xref\":\"paper\",\"y\":0.144,\"yanchor\":\"bottom\",\"yref\":\"paper\"},{\"font\":{},\"showarrow\":false,\"text\":\"Industry=Consumer Services\",\"x\":0.1175,\"xanchor\":\"center\",\"xref\":\"paper\",\"y\":0.358,\"yanchor\":\"bottom\",\"yref\":\"paper\"},{\"font\":{},\"showarrow\":false,\"text\":\"Industry=Consumer Durables\",\"x\":0.3725,\"xanchor\":\"center\",\"xref\":\"paper\",\"y\":0.358,\"yanchor\":\"bottom\",\"yref\":\"paper\"},{\"font\":{},\"showarrow\":false,\"text\":\"Industry=Construction Materials\",\"x\":0.6275,\"xanchor\":\"center\",\"xref\":\"paper\",\"y\":0.358,\"yanchor\":\"bottom\",\"yref\":\"paper\"},{\"font\":{},\"showarrow\":false,\"text\":\"Industry=Construction\",\"x\":0.8824999999999998,\"xanchor\":\"center\",\"xref\":\"paper\",\"y\":0.358,\"yanchor\":\"bottom\",\"yref\":\"paper\"},{\"font\":{},\"showarrow\":false,\"text\":\"Industry=Healthcare\",\"x\":0.1175,\"xanchor\":\"center\",\"xref\":\"paper\",\"y\":0.572,\"yanchor\":\"bottom\",\"yref\":\"paper\"},{\"font\":{},\"showarrow\":false,\"text\":\"Industry=Forest Materials\",\"x\":0.3725,\"xanchor\":\"center\",\"xref\":\"paper\",\"y\":0.572,\"yanchor\":\"bottom\",\"yref\":\"paper\"},{\"font\":{},\"showarrow\":false,\"text\":\"Industry=Financial Services\",\"x\":0.6275,\"xanchor\":\"center\",\"xref\":\"paper\",\"y\":0.572,\"yanchor\":\"bottom\",\"yref\":\"paper\"},{\"font\":{},\"showarrow\":false,\"text\":\"Industry=Fast Moving Consumer Goods\",\"x\":0.8824999999999998,\"xanchor\":\"center\",\"xref\":\"paper\",\"y\":0.572,\"yanchor\":\"bottom\",\"yref\":\"paper\"},{\"font\":{},\"showarrow\":false,\"text\":\"Industry=Oil Gas & Consumable Fuels\",\"x\":0.1175,\"xanchor\":\"center\",\"xref\":\"paper\",\"y\":0.7859999999999999,\"yanchor\":\"bottom\",\"yref\":\"paper\"},{\"font\":{},\"showarrow\":false,\"text\":\"Industry=Metals & Mining\",\"x\":0.3725,\"xanchor\":\"center\",\"xref\":\"paper\",\"y\":0.7859999999999999,\"yanchor\":\"bottom\",\"yref\":\"paper\"},{\"font\":{},\"showarrow\":false,\"text\":\"Industry=Media Entertainment & Publication\",\"x\":0.6275,\"xanchor\":\"center\",\"xref\":\"paper\",\"y\":0.7859999999999999,\"yanchor\":\"bottom\",\"yref\":\"paper\"},{\"font\":{},\"showarrow\":false,\"text\":\"Industry=Information Technology\",\"x\":0.8824999999999998,\"xanchor\":\"center\",\"xref\":\"paper\",\"y\":0.7859999999999999,\"yanchor\":\"bottom\",\"yref\":\"paper\"},{\"font\":{},\"showarrow\":false,\"text\":\"Industry=Textiles\",\"x\":0.1175,\"xanchor\":\"center\",\"xref\":\"paper\",\"y\":1.0,\"yanchor\":\"bottom\",\"yref\":\"paper\"},{\"font\":{},\"showarrow\":false,\"text\":\"Industry=Telecommunication\",\"x\":0.3725,\"xanchor\":\"center\",\"xref\":\"paper\",\"y\":1.0,\"yanchor\":\"bottom\",\"yref\":\"paper\"},{\"font\":{},\"showarrow\":false,\"text\":\"Industry=Services\",\"x\":0.6275,\"xanchor\":\"center\",\"xref\":\"paper\",\"y\":1.0,\"yanchor\":\"bottom\",\"yref\":\"paper\"},{\"font\":{},\"showarrow\":false,\"text\":\"Industry=Power\",\"x\":0.8824999999999998,\"xanchor\":\"center\",\"xref\":\"paper\",\"y\":1.0,\"yanchor\":\"bottom\",\"yref\":\"paper\"}],\"barmode\":\"relative\",\"height\":1500,\"legend\":{\"title\":{\"text\":\"Industry\"},\"tracegroupgap\":0},\"template\":{\"data\":{\"bar\":[{\"error_x\":{\"color\":\"#2a3f5f\"},\"error_y\":{\"color\":\"#2a3f5f\"},\"marker\":{\"line\":{\"color\":\"#E5ECF6\",\"width\":0.5},\"pattern\":{\"fillmode\":\"overlay\",\"size\":10,\"solidity\":0.2}},\"type\":\"bar\"}],\"barpolar\":[{\"marker\":{\"line\":{\"color\":\"#E5ECF6\",\"width\":0.5},\"pattern\":{\"fillmode\":\"overlay\",\"size\":10,\"solidity\":0.2}},\"type\":\"barpolar\"}],\"carpet\":[{\"aaxis\":{\"endlinecolor\":\"#2a3f5f\",\"gridcolor\":\"white\",\"linecolor\":\"white\",\"minorgridcolor\":\"white\",\"startlinecolor\":\"#2a3f5f\"},\"baxis\":{\"endlinecolor\":\"#2a3f5f\",\"gridcolor\":\"white\",\"linecolor\":\"white\",\"minorgridcolor\":\"white\",\"startlinecolor\":\"#2a3f5f\"},\"type\":\"carpet\"}],\"choropleth\":[{\"colorbar\":{\"outlinewidth\":0,\"ticks\":\"\"},\"type\":\"choropleth\"}],\"contour\":[{\"colorbar\":{\"outlinewidth\":0,\"ticks\":\"\"},\"colorscale\":[[0.0,\"#0d0887\"],[0.1111111111111111,\"#46039f\"],[0.2222222222222222,\"#7201a8\"],[0.3333333333333333,\"#9c179e\"],[0.4444444444444444,\"#bd3786\"],[0.5555555555555556,\"#d8576b\"],[0.6666666666666666,\"#ed7953\"],[0.7777777777777778,\"#fb9f3a\"],[0.8888888888888888,\"#fdca26\"],[1.0,\"#f0f921\"]],\"type\":\"contour\"}],\"contourcarpet\":[{\"colorbar\":{\"outlinewidth\":0,\"ticks\":\"\"},\"type\":\"contourcarpet\"}],\"heatmap\":[{\"colorbar\":{\"outlinewidth\":0,\"ticks\":\"\"},\"colorscale\":[[0.0,\"#0d0887\"],[0.1111111111111111,\"#46039f\"],[0.2222222222222222,\"#7201a8\"],[0.3333333333333333,\"#9c179e\"],[0.4444444444444444,\"#bd3786\"],[0.5555555555555556,\"#d8576b\"],[0.6666666666666666,\"#ed7953\"],[0.7777777777777778,\"#fb9f3a\"],[0.8888888888888888,\"#fdca26\"],[1.0,\"#f0f921\"]],\"type\":\"heatmap\"}],\"heatmapgl\":[{\"colorbar\":{\"outlinewidth\":0,\"ticks\":\"\"},\"colorscale\":[[0.0,\"#0d0887\"],[0.1111111111111111,\"#46039f\"],[0.2222222222222222,\"#7201a8\"],[0.3333333333333333,\"#9c179e\"],[0.4444444444444444,\"#bd3786\"],[0.5555555555555556,\"#d8576b\"],[0.6666666666666666,\"#ed7953\"],[0.7777777777777778,\"#fb9f3a\"],[0.8888888888888888,\"#fdca26\"],[1.0,\"#f0f921\"]],\"type\":\"heatmapgl\"}],\"histogram\":[{\"marker\":{\"pattern\":{\"fillmode\":\"overlay\",\"size\":10,\"solidity\":0.2}},\"type\":\"histogram\"}],\"histogram2d\":[{\"colorbar\":{\"outlinewidth\":0,\"ticks\":\"\"},\"colorscale\":[[0.0,\"#0d0887\"],[0.1111111111111111,\"#46039f\"],[0.2222222222222222,\"#7201a8\"],[0.3333333333333333,\"#9c179e\"],[0.4444444444444444,\"#bd3786\"],[0.5555555555555556,\"#d8576b\"],[0.6666666666666666,\"#ed7953\"],[0.7777777777777778,\"#fb9f3a\"],[0.8888888888888888,\"#fdca26\"],[1.0,\"#f0f921\"]],\"type\":\"histogram2d\"}],\"histogram2dcontour\":[{\"colorbar\":{\"outlinewidth\":0,\"ticks\":\"\"},\"colorscale\":[[0.0,\"#0d0887\"],[0.1111111111111111,\"#46039f\"],[0.2222222222222222,\"#7201a8\"],[0.3333333333333333,\"#9c179e\"],[0.4444444444444444,\"#bd3786\"],[0.5555555555555556,\"#d8576b\"],[0.6666666666666666,\"#ed7953\"],[0.7777777777777778,\"#fb9f3a\"],[0.8888888888888888,\"#fdca26\"],[1.0,\"#f0f921\"]],\"type\":\"histogram2dcontour\"}],\"mesh3d\":[{\"colorbar\":{\"outlinewidth\":0,\"ticks\":\"\"},\"type\":\"mesh3d\"}],\"parcoords\":[{\"line\":{\"colorbar\":{\"outlinewidth\":0,\"ticks\":\"\"}},\"type\":\"parcoords\"}],\"pie\":[{\"automargin\":true,\"type\":\"pie\"}],\"scatter\":[{\"marker\":{\"colorbar\":{\"outlinewidth\":0,\"ticks\":\"\"}},\"type\":\"scatter\"}],\"scatter3d\":[{\"line\":{\"colorbar\":{\"outlinewidth\":0,\"ticks\":\"\"}},\"marker\":{\"colorbar\":{\"outlinewidth\":0,\"ticks\":\"\"}},\"type\":\"scatter3d\"}],\"scattercarpet\":[{\"marker\":{\"colorbar\":{\"outlinewidth\":0,\"ticks\":\"\"}},\"type\":\"scattercarpet\"}],\"scattergeo\":[{\"marker\":{\"colorbar\":{\"outlinewidth\":0,\"ticks\":\"\"}},\"type\":\"scattergeo\"}],\"scattergl\":[{\"marker\":{\"colorbar\":{\"outlinewidth\":0,\"ticks\":\"\"}},\"type\":\"scattergl\"}],\"scattermapbox\":[{\"marker\":{\"colorbar\":{\"outlinewidth\":0,\"ticks\":\"\"}},\"type\":\"scattermapbox\"}],\"scatterpolar\":[{\"marker\":{\"colorbar\":{\"outlinewidth\":0,\"ticks\":\"\"}},\"type\":\"scatterpolar\"}],\"scatterpolargl\":[{\"marker\":{\"colorbar\":{\"outlinewidth\":0,\"ticks\":\"\"}},\"type\":\"scatterpolargl\"}],\"scatterternary\":[{\"marker\":{\"colorbar\":{\"outlinewidth\":0,\"ticks\":\"\"}},\"type\":\"scatterternary\"}],\"surface\":[{\"colorbar\":{\"outlinewidth\":0,\"ticks\":\"\"},\"colorscale\":[[0.0,\"#0d0887\"],[0.1111111111111111,\"#46039f\"],[0.2222222222222222,\"#7201a8\"],[0.3333333333333333,\"#9c179e\"],[0.4444444444444444,\"#bd3786\"],[0.5555555555555556,\"#d8576b\"],[0.6666666666666666,\"#ed7953\"],[0.7777777777777778,\"#fb9f3a\"],[0.8888888888888888,\"#fdca26\"],[1.0,\"#f0f921\"]],\"type\":\"surface\"}],\"table\":[{\"cells\":{\"fill\":{\"color\":\"#EBF0F8\"},\"line\":{\"color\":\"white\"}},\"header\":{\"fill\":{\"color\":\"#C8D4E3\"},\"line\":{\"color\":\"white\"}},\"type\":\"table\"}]},\"layout\":{\"annotationdefaults\":{\"arrowcolor\":\"#2a3f5f\",\"arrowhead\":0,\"arrowwidth\":1},\"autotypenumbers\":\"strict\",\"coloraxis\":{\"colorbar\":{\"outlinewidth\":0,\"ticks\":\"\"}},\"colorscale\":{\"diverging\":[[0,\"#8e0152\"],[0.1,\"#c51b7d\"],[0.2,\"#de77ae\"],[0.3,\"#f1b6da\"],[0.4,\"#fde0ef\"],[0.5,\"#f7f7f7\"],[0.6,\"#e6f5d0\"],[0.7,\"#b8e186\"],[0.8,\"#7fbc41\"],[0.9,\"#4d9221\"],[1,\"#276419\"]],\"sequential\":[[0.0,\"#0d0887\"],[0.1111111111111111,\"#46039f\"],[0.2222222222222222,\"#7201a8\"],[0.3333333333333333,\"#9c179e\"],[0.4444444444444444,\"#bd3786\"],[0.5555555555555556,\"#d8576b\"],[0.6666666666666666,\"#ed7953\"],[0.7777777777777778,\"#fb9f3a\"],[0.8888888888888888,\"#fdca26\"],[1.0,\"#f0f921\"]],\"sequentialminus\":[[0.0,\"#0d0887\"],[0.1111111111111111,\"#46039f\"],[0.2222222222222222,\"#7201a8\"],[0.3333333333333333,\"#9c179e\"],[0.4444444444444444,\"#bd3786\"],[0.5555555555555556,\"#d8576b\"],[0.6666666666666666,\"#ed7953\"],[0.7777777777777778,\"#fb9f3a\"],[0.8888888888888888,\"#fdca26\"],[1.0,\"#f0f921\"]]},\"colorway\":[\"#636efa\",\"#EF553B\",\"#00cc96\",\"#ab63fa\",\"#FFA15A\",\"#19d3f3\",\"#FF6692\",\"#B6E880\",\"#FF97FF\",\"#FECB52\"],\"font\":{\"color\":\"#2a3f5f\"},\"geo\":{\"bgcolor\":\"white\",\"lakecolor\":\"white\",\"landcolor\":\"#E5ECF6\",\"showlakes\":true,\"showland\":true,\"subunitcolor\":\"white\"},\"hoverlabel\":{\"align\":\"left\"},\"hovermode\":\"closest\",\"mapbox\":{\"style\":\"light\"},\"paper_bgcolor\":\"white\",\"plot_bgcolor\":\"#E5ECF6\",\"polar\":{\"angularaxis\":{\"gridcolor\":\"white\",\"linecolor\":\"white\",\"ticks\":\"\"},\"bgcolor\":\"#E5ECF6\",\"radialaxis\":{\"gridcolor\":\"white\",\"linecolor\":\"white\",\"ticks\":\"\"}},\"scene\":{\"xaxis\":{\"backgroundcolor\":\"#E5ECF6\",\"gridcolor\":\"white\",\"gridwidth\":2,\"linecolor\":\"white\",\"showbackground\":true,\"ticks\":\"\",\"zerolinecolor\":\"white\"},\"yaxis\":{\"backgroundcolor\":\"#E5ECF6\",\"gridcolor\":\"white\",\"gridwidth\":2,\"linecolor\":\"white\",\"showbackground\":true,\"ticks\":\"\",\"zerolinecolor\":\"white\"},\"zaxis\":{\"backgroundcolor\":\"#E5ECF6\",\"gridcolor\":\"white\",\"gridwidth\":2,\"linecolor\":\"white\",\"showbackground\":true,\"ticks\":\"\",\"zerolinecolor\":\"white\"}},\"shapedefaults\":{\"line\":{\"color\":\"#2a3f5f\"}},\"ternary\":{\"aaxis\":{\"gridcolor\":\"white\",\"linecolor\":\"white\",\"ticks\":\"\"},\"baxis\":{\"gridcolor\":\"white\",\"linecolor\":\"white\",\"ticks\":\"\"},\"bgcolor\":\"#E5ECF6\",\"caxis\":{\"gridcolor\":\"white\",\"linecolor\":\"white\",\"ticks\":\"\"}},\"title\":{\"x\":0.05},\"xaxis\":{\"automargin\":true,\"gridcolor\":\"white\",\"linecolor\":\"white\",\"ticks\":\"\",\"title\":{\"standoff\":15},\"zerolinecolor\":\"white\",\"zerolinewidth\":2},\"yaxis\":{\"automargin\":true,\"gridcolor\":\"white\",\"linecolor\":\"white\",\"ticks\":\"\",\"title\":{\"standoff\":15},\"zerolinecolor\":\"white\",\"zerolinewidth\":2}}},\"title\":{\"text\":\"Symbol Vs Industry and Growth (Grouped by Industry)\"},\"width\":1800,\"xaxis\":{\"anchor\":\"y\",\"domain\":[0.0,0.235],\"title\":{\"text\":\"Symbol\"}},\"xaxis10\":{\"anchor\":\"y10\",\"domain\":[0.255,0.49],\"matches\":\"x\",\"showticklabels\":false},\"xaxis11\":{\"anchor\":\"y11\",\"domain\":[0.51,0.745],\"matches\":\"x\",\"showticklabels\":false},\"xaxis12\":{\"anchor\":\"y12\",\"domain\":[0.7649999999999999,0.9999999999999999],\"matches\":\"x\",\"showticklabels\":false},\"xaxis13\":{\"anchor\":\"y13\",\"domain\":[0.0,0.235],\"matches\":\"x\",\"showticklabels\":false},\"xaxis14\":{\"anchor\":\"y14\",\"domain\":[0.255,0.49],\"matches\":\"x\",\"showticklabels\":false},\"xaxis15\":{\"anchor\":\"y15\",\"domain\":[0.51,0.745],\"matches\":\"x\",\"showticklabels\":false},\"xaxis16\":{\"anchor\":\"y16\",\"domain\":[0.7649999999999999,0.9999999999999999],\"matches\":\"x\",\"showticklabels\":false},\"xaxis17\":{\"anchor\":\"y17\",\"domain\":[0.0,0.235],\"matches\":\"x\",\"showticklabels\":false},\"xaxis18\":{\"anchor\":\"y18\",\"domain\":[0.255,0.49],\"matches\":\"x\",\"showticklabels\":false},\"xaxis19\":{\"anchor\":\"y19\",\"domain\":[0.51,0.745],\"matches\":\"x\",\"showticklabels\":false},\"xaxis2\":{\"anchor\":\"y2\",\"domain\":[0.255,0.49],\"matches\":\"x\",\"title\":{\"text\":\"Symbol\"}},\"xaxis20\":{\"anchor\":\"y20\",\"domain\":[0.7649999999999999,0.9999999999999999],\"matches\":\"x\",\"showticklabels\":false},\"xaxis3\":{\"anchor\":\"y3\",\"domain\":[0.51,0.745],\"matches\":\"x\",\"title\":{\"text\":\"Symbol\"}},\"xaxis4\":{\"anchor\":\"y4\",\"domain\":[0.7649999999999999,0.9999999999999999],\"matches\":\"x\",\"title\":{\"text\":\"Symbol\"}},\"xaxis5\":{\"anchor\":\"y5\",\"domain\":[0.0,0.235],\"matches\":\"x\",\"showticklabels\":false},\"xaxis6\":{\"anchor\":\"y6\",\"domain\":[0.255,0.49],\"matches\":\"x\",\"showticklabels\":false},\"xaxis7\":{\"anchor\":\"y7\",\"domain\":[0.51,0.745],\"matches\":\"x\",\"showticklabels\":false},\"xaxis8\":{\"anchor\":\"y8\",\"domain\":[0.7649999999999999,0.9999999999999999],\"matches\":\"x\",\"showticklabels\":false},\"xaxis9\":{\"anchor\":\"y9\",\"domain\":[0.0,0.235],\"matches\":\"x\",\"showticklabels\":false},\"yaxis\":{\"anchor\":\"x\",\"domain\":[0.0,0.144],\"title\":{\"text\":\"Growth (%)\"}},\"yaxis10\":{\"anchor\":\"x10\",\"domain\":[0.428,0.572],\"matches\":\"y\",\"showticklabels\":false},\"yaxis11\":{\"anchor\":\"x11\",\"domain\":[0.428,0.572],\"matches\":\"y\",\"showticklabels\":false},\"yaxis12\":{\"anchor\":\"x12\",\"domain\":[0.428,0.572],\"matches\":\"y\",\"showticklabels\":false},\"yaxis13\":{\"anchor\":\"x13\",\"domain\":[0.6419999999999999,0.7859999999999999],\"matches\":\"y\",\"title\":{\"text\":\"Growth (%)\"}},\"yaxis14\":{\"anchor\":\"x14\",\"domain\":[0.6419999999999999,0.7859999999999999],\"matches\":\"y\",\"showticklabels\":false},\"yaxis15\":{\"anchor\":\"x15\",\"domain\":[0.6419999999999999,0.7859999999999999],\"matches\":\"y\",\"showticklabels\":false},\"yaxis16\":{\"anchor\":\"x16\",\"domain\":[0.6419999999999999,0.7859999999999999],\"matches\":\"y\",\"showticklabels\":false},\"yaxis17\":{\"anchor\":\"x17\",\"domain\":[0.856,1.0],\"matches\":\"y\",\"title\":{\"text\":\"Growth (%)\"}},\"yaxis18\":{\"anchor\":\"x18\",\"domain\":[0.856,1.0],\"matches\":\"y\",\"showticklabels\":false},\"yaxis19\":{\"anchor\":\"x19\",\"domain\":[0.856,1.0],\"matches\":\"y\",\"showticklabels\":false},\"yaxis2\":{\"anchor\":\"x2\",\"domain\":[0.0,0.144],\"matches\":\"y\",\"showticklabels\":false},\"yaxis20\":{\"anchor\":\"x20\",\"domain\":[0.856,1.0],\"matches\":\"y\",\"showticklabels\":false},\"yaxis3\":{\"anchor\":\"x3\",\"domain\":[0.0,0.144],\"matches\":\"y\",\"showticklabels\":false},\"yaxis4\":{\"anchor\":\"x4\",\"domain\":[0.0,0.144],\"matches\":\"y\",\"showticklabels\":false},\"yaxis5\":{\"anchor\":\"x5\",\"domain\":[0.214,0.358],\"matches\":\"y\",\"title\":{\"text\":\"Growth (%)\"}},\"yaxis6\":{\"anchor\":\"x6\",\"domain\":[0.214,0.358],\"matches\":\"y\",\"showticklabels\":false},\"yaxis7\":{\"anchor\":\"x7\",\"domain\":[0.214,0.358],\"matches\":\"y\",\"showticklabels\":false},\"yaxis8\":{\"anchor\":\"x8\",\"domain\":[0.214,0.358],\"matches\":\"y\",\"showticklabels\":false},\"yaxis9\":{\"anchor\":\"x9\",\"domain\":[0.428,0.572],\"matches\":\"y\",\"title\":{\"text\":\"Growth (%)\"}}},                        {\"responsive\": true}                    ).then(function(){\n",
       "                            \n",
       "var gd = document.getElementById('7ea31b7a-ba07-4f10-b4cf-1be50fe62587');\n",
       "var x = new MutationObserver(function (mutations, observer) {{\n",
       "        var display = window.getComputedStyle(gd).display;\n",
       "        if (!display || display === 'none') {{\n",
       "            console.log([gd, 'removed!']);\n",
       "            Plotly.purge(gd);\n",
       "            observer.disconnect();\n",
       "        }}\n",
       "}});\n",
       "\n",
       "// Listen for the removal of the full notebook cells\n",
       "var notebookContainer = gd.closest('#notebook-container');\n",
       "if (notebookContainer) {{\n",
       "    x.observe(notebookContainer, {childList: true});\n",
       "}}\n",
       "\n",
       "// Listen for the clearing of the current output cell\n",
       "var outputEl = gd.closest('.output');\n",
       "if (outputEl) {{\n",
       "    x.observe(outputEl, {childList: true});\n",
       "}}\n",
       "\n",
       "                        })                };                });            </script>        </div>"
      ]
     },
     "metadata": {},
     "output_type": "display_data"
    }
   ],
   "source": [
    "import pandas as pd\n",
    "import plotly.express as px\n",
    "\n",
    "# Replace with the actual path to your output CSV file\n",
    "output_csv_path = '../data/nifty_smallcap_100_high_performers.csv'\n",
    "\n",
    "# Read the output CSV file\n",
    "output_data = pd.read_csv(output_csv_path)\n",
    "\n",
    "# Bar chart using Plotly Express, grouped by 'Industry'\n",
    "fig = px.bar(\n",
    "    output_data,\n",
    "    x='Symbol',\n",
    "    y='Growth',\n",
    "    color='Industry',\n",
    "    title='Symbol Vs Industry and Growth (Grouped by Industry)',\n",
    "    labels={'Growth': 'Growth (%)', 'Symbol': 'Symbol'},\n",
    "    category_orders={'Industry': output_data['Industry'].unique()},  # Preserve original order of industries\n",
    "    facet_col='Industry',  # Create separate subplots for each industry\n",
    "    facet_col_wrap=4,  # Adjust the number of subplots per row as needed\n",
    "    height=1500,  # Adjust the height of the entire figure\n",
    "    width=1800,  # Adjust the width of the entire figure\n",
    ")\n",
    "\n",
    "# Show the plot\n",
    "fig.show()\n"
   ]
  },
  {
   "cell_type": "code",
   "execution_count": null,
   "id": "ad30f6ba-bed4-4b9c-bdba-b1f7c98be6e0",
   "metadata": {},
   "outputs": [],
   "source": []
  }
 ],
 "metadata": {
  "kernelspec": {
   "display_name": "Python 3 (ipykernel)",
   "language": "python",
   "name": "python3"
  },
  "language_info": {
   "codemirror_mode": {
    "name": "ipython",
    "version": 3
   },
   "file_extension": ".py",
   "mimetype": "text/x-python",
   "name": "python",
   "nbconvert_exporter": "python",
   "pygments_lexer": "ipython3",
   "version": "3.10.12"
  }
 },
 "nbformat": 4,
 "nbformat_minor": 5
}
