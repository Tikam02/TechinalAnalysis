{
 "cells": [
  {
   "cell_type": "code",
   "execution_count": 1,
   "id": "ec8057ea-dc9a-47e1-8752-f90ad7638dba",
   "metadata": {},
   "outputs": [],
   "source": [
    "# Mark -03\n",
    "\n",
    "/https:/towardsdatascience.com/making-a-stock-screener-with-python-4f591b198261"
   ]
  },
  {
   "cell_type": "code",
   "execution_count": 22,
   "id": "def307b2-6911-4271-9560-b700d3bf715a",
   "metadata": {},
   "outputs": [],
   "source": [
    "# Imports\n",
    "from pandas_datareader import data as pdr\n",
    "from pandas import ExcelWriter\n",
    "import yfinance as yf\n",
    "import pandas as pd\n",
    "import datetime\n",
    "import time\n",
    "import requests\n",
    "yf.pdr_override()\n",
    "\n",
    "\n",
    "def tickers_from_csv(file_path):\n",
    "    # Read the CSV file\n",
    "    df = pd.read_csv(file_path)\n",
    "    \n",
    "    # Extract tickers from the \"Symbol\" column\n",
    "    tickers = df['Symbol'].tolist()\n",
    "    \n",
    " \n",
    "    \n",
    "    return tickers\n",
    "\n",
    "# Variables\n",
    "file_path = '../data/updated_niftysmallcap100_stocks.csv'  # Replace with the actual path to your CSV file\n",
    "tickers = tickers_from_csv(file_path)\n",
    "index_name = '^CNXSC'  # NIFTY-50-smallcap\n",
    "start_date = datetime.datetime.now() - datetime.timedelta(days=365)\n",
    "end_date = datetime.date.today()\n",
    "exportList = pd.DataFrame(columns=['Stock', \"RS_Rating\", \"50 Day MA\", \"150 Day Ma\", \"200 Day MA\", \"52 Week Low\", \"52 week High\"])\n",
    "returns_multiples = []\n"
   ]
  },
  {
   "cell_type": "code",
   "execution_count": 23,
   "id": "ae6d8321-46af-4f03-86c8-cb4bfdc634fe",
   "metadata": {},
   "outputs": [
    {
     "name": "stderr",
     "output_type": "stream",
     "text": [
      "[*********************100%%**********************]  1 of 1 completed\n",
      "\n",
      "1 Failed download:\n",
      "['^CNXSC']: Exception(\"%ticker%: Period 'max' is invalid, must be one of ['1d', '5d']\")\n"
     ]
    },
    {
     "ename": "IndexError",
     "evalue": "index -1 is out of bounds for axis 0 with size 0",
     "output_type": "error",
     "traceback": [
      "\u001b[0;31m---------------------------------------------------------------------------\u001b[0m",
      "\u001b[0;31mIndexError\u001b[0m                                Traceback (most recent call last)",
      "Cell \u001b[0;32mIn[23], line 4\u001b[0m\n\u001b[1;32m      2\u001b[0m index_df \u001b[38;5;241m=\u001b[39m pdr\u001b[38;5;241m.\u001b[39mget_data_yahoo(index_name, start_date, end_date)\n\u001b[1;32m      3\u001b[0m index_df[\u001b[38;5;124m'\u001b[39m\u001b[38;5;124mPercent Change\u001b[39m\u001b[38;5;124m'\u001b[39m] \u001b[38;5;241m=\u001b[39m index_df[\u001b[38;5;124m'\u001b[39m\u001b[38;5;124mAdj Close\u001b[39m\u001b[38;5;124m'\u001b[39m]\u001b[38;5;241m.\u001b[39mpct_change()\n\u001b[0;32m----> 4\u001b[0m index_return \u001b[38;5;241m=\u001b[39m \u001b[43m(\u001b[49m\u001b[43mindex_df\u001b[49m\u001b[43m[\u001b[49m\u001b[38;5;124;43m'\u001b[39;49m\u001b[38;5;124;43mPercent Change\u001b[39;49m\u001b[38;5;124;43m'\u001b[39;49m\u001b[43m]\u001b[49m\u001b[43m \u001b[49m\u001b[38;5;241;43m+\u001b[39;49m\u001b[43m \u001b[49m\u001b[38;5;241;43m1\u001b[39;49m\u001b[43m)\u001b[49m\u001b[38;5;241;43m.\u001b[39;49m\u001b[43mcumprod\u001b[49m\u001b[43m(\u001b[49m\u001b[43m)\u001b[49m\u001b[43m[\u001b[49m\u001b[38;5;241;43m-\u001b[39;49m\u001b[38;5;241;43m1\u001b[39;49m\u001b[43m]\u001b[49m\n\u001b[1;32m      6\u001b[0m \u001b[38;5;66;03m# Find top 30% performing stocks (relative to the S&P 500)\u001b[39;00m\n\u001b[1;32m      7\u001b[0m \u001b[38;5;28;01mfor\u001b[39;00m ticker \u001b[38;5;129;01min\u001b[39;00m tickers:\n\u001b[1;32m      8\u001b[0m     \u001b[38;5;66;03m# Download historical data as CSV for each stock (makes the process faster)\u001b[39;00m\n",
      "File \u001b[0;32m~/stock-market/env3/lib/python3.10/site-packages/pandas/core/series.py:978\u001b[0m, in \u001b[0;36mSeries.__getitem__\u001b[0;34m(self, key)\u001b[0m\n\u001b[1;32m    975\u001b[0m     key \u001b[38;5;241m=\u001b[39m unpack_1tuple(key)\n\u001b[1;32m    977\u001b[0m \u001b[38;5;28;01mif\u001b[39;00m is_integer(key) \u001b[38;5;129;01mand\u001b[39;00m \u001b[38;5;28mself\u001b[39m\u001b[38;5;241m.\u001b[39mindex\u001b[38;5;241m.\u001b[39m_should_fallback_to_positional:\n\u001b[0;32m--> 978\u001b[0m     \u001b[38;5;28;01mreturn\u001b[39;00m \u001b[38;5;28;43mself\u001b[39;49m\u001b[38;5;241;43m.\u001b[39;49m\u001b[43m_values\u001b[49m\u001b[43m[\u001b[49m\u001b[43mkey\u001b[49m\u001b[43m]\u001b[49m\n\u001b[1;32m    980\u001b[0m \u001b[38;5;28;01melif\u001b[39;00m key_is_scalar:\n\u001b[1;32m    981\u001b[0m     \u001b[38;5;28;01mreturn\u001b[39;00m \u001b[38;5;28mself\u001b[39m\u001b[38;5;241m.\u001b[39m_get_value(key)\n",
      "\u001b[0;31mIndexError\u001b[0m: index -1 is out of bounds for axis 0 with size 0"
     ]
    }
   ],
   "source": [
    "# Index Returns\n",
    "index_df = pdr.get_data_yahoo(index_name, start_date, end_date)\n",
    "index_df['Percent Change'] = index_df['Adj Close'].pct_change()\n",
    "index_return = (index_df['Percent Change'] + 1).cumprod()[-1]\n",
    "\n",
    "# Find top 30% performing stocks (relative to the S&P 500)\n",
    "for ticker in tickers:\n",
    "    # Download historical data as CSV for each stock (makes the process faster)\n",
    "    df = pdr.get_data_yahoo(ticker, start_date, end_date)\n",
    "    df.to_csv(f'{ticker}.csv')\n",
    "\n",
    "    # Calculating returns relative to the market (returns multiple)\n",
    "    df['Percent Change'] = df['Adj Close'].pct_change()\n",
    "    stock_return = (df['Percent Change'] + 1).cumprod()[-1]\n",
    "    \n",
    "    returns_multiple = round((stock_return / index_return), 2)\n",
    "    returns_multiples.extend([returns_multiple])\n",
    "    \n",
    "    print (f'Ticker: {ticker}; Returns Multiple against S&P 500: {returns_multiple}\\n')\n",
    "    time.sleep(1)\n",
    "\n",
    "# Creating dataframe of only top 30%\n",
    "rs_df = pd.DataFrame(list(zip(tickers, returns_multiples)), columns=['Ticker', 'Returns_multiple'])\n",
    "rs_df['RS_Rating'] = rs_df.Returns_multiple.rank(pct=True) * 100\n",
    "rs_df = rs_df[rs_df.RS_Rating >= rs_df.RS_Rating.quantile(.70)]"
   ]
  },
  {
   "cell_type": "code",
   "execution_count": 24,
   "id": "29f2b519-d7fc-4633-a656-4038ab98d422",
   "metadata": {},
   "outputs": [
    {
     "name": "stderr",
     "output_type": "stream",
     "text": [
      "[*********************100%%**********************]  1 of 1 completed\n",
      "\n",
      "1 Failed download:\n",
      "['^CNXSC']: Exception(\"%ticker%: Period 'max' is invalid, must be one of ['1d', '5d']\")\n"
     ]
    },
    {
     "name": "stdout",
     "output_type": "stream",
     "text": [
      "Failed to get CNX SmallCap data: single positional indexer is out-of-bounds\n"
     ]
    },
    {
     "name": "stderr",
     "output_type": "stream",
     "text": [
      "[*********************100%%**********************]  1 of 1 completed\n"
     ]
    },
    {
     "name": "stdout",
     "output_type": "stream",
     "text": [
      "Ticker: AAVAS.NS; Returns Multiple against CNX SmallCap: None\n",
      "\n"
     ]
    },
    {
     "name": "stderr",
     "output_type": "stream",
     "text": [
      "[*********************100%%**********************]  1 of 1 completed\n"
     ]
    },
    {
     "name": "stdout",
     "output_type": "stream",
     "text": [
      "Ticker: AEGISCHEM.NS; Returns Multiple against CNX SmallCap: None\n",
      "\n"
     ]
    },
    {
     "name": "stderr",
     "output_type": "stream",
     "text": [
      "[*********************100%%**********************]  1 of 1 completed\n"
     ]
    },
    {
     "name": "stdout",
     "output_type": "stream",
     "text": [
      "Ticker: AFFLE.NS; Returns Multiple against CNX SmallCap: None\n",
      "\n"
     ]
    },
    {
     "name": "stderr",
     "output_type": "stream",
     "text": [
      "[*********************100%%**********************]  1 of 1 completed\n"
     ]
    },
    {
     "name": "stdout",
     "output_type": "stream",
     "text": [
      "Ticker: ARE&M.NS; Returns Multiple against CNX SmallCap: None\n",
      "\n"
     ]
    },
    {
     "name": "stderr",
     "output_type": "stream",
     "text": [
      "[*********************100%%**********************]  1 of 1 completed\n"
     ]
    },
    {
     "name": "stdout",
     "output_type": "stream",
     "text": [
      "Ticker: AMBER.NS; Returns Multiple against CNX SmallCap: None\n",
      "\n"
     ]
    },
    {
     "name": "stderr",
     "output_type": "stream",
     "text": [
      "[*********************100%%**********************]  1 of 1 completed\n"
     ]
    },
    {
     "name": "stdout",
     "output_type": "stream",
     "text": [
      "Ticker: ANGELONE.NS; Returns Multiple against CNX SmallCap: None\n",
      "\n"
     ]
    },
    {
     "name": "stderr",
     "output_type": "stream",
     "text": [
      "[*********************100%%**********************]  1 of 1 completed\n"
     ]
    },
    {
     "name": "stdout",
     "output_type": "stream",
     "text": [
      "Ticker: ANURAS.NS; Returns Multiple against CNX SmallCap: None\n",
      "\n"
     ]
    },
    {
     "name": "stderr",
     "output_type": "stream",
     "text": [
      "[*********************100%%**********************]  1 of 1 completed\n"
     ]
    },
    {
     "name": "stdout",
     "output_type": "stream",
     "text": [
      "Ticker: APARINDS.NS; Returns Multiple against CNX SmallCap: None\n",
      "\n"
     ]
    },
    {
     "name": "stderr",
     "output_type": "stream",
     "text": [
      "[*********************100%%**********************]  1 of 1 completed\n"
     ]
    },
    {
     "name": "stdout",
     "output_type": "stream",
     "text": [
      "Ticker: BLS.NS; Returns Multiple against CNX SmallCap: None\n",
      "\n"
     ]
    },
    {
     "name": "stderr",
     "output_type": "stream",
     "text": [
      "[*********************100%%**********************]  1 of 1 completed\n"
     ]
    },
    {
     "name": "stdout",
     "output_type": "stream",
     "text": [
      "Ticker: BSE.NS; Returns Multiple against CNX SmallCap: None\n",
      "\n"
     ]
    },
    {
     "name": "stderr",
     "output_type": "stream",
     "text": [
      "[*********************100%%**********************]  1 of 1 completed\n"
     ]
    },
    {
     "name": "stdout",
     "output_type": "stream",
     "text": [
      "Ticker: BALAMINES.NS; Returns Multiple against CNX SmallCap: None\n",
      "\n"
     ]
    },
    {
     "name": "stderr",
     "output_type": "stream",
     "text": [
      "[*********************100%%**********************]  1 of 1 completed\n"
     ]
    },
    {
     "name": "stdout",
     "output_type": "stream",
     "text": [
      "Ticker: BALRAMCHIN.NS; Returns Multiple against CNX SmallCap: None\n",
      "\n"
     ]
    },
    {
     "name": "stderr",
     "output_type": "stream",
     "text": [
      "[*********************100%%**********************]  1 of 1 completed\n"
     ]
    },
    {
     "name": "stdout",
     "output_type": "stream",
     "text": [
      "Ticker: BIKAJI.NS; Returns Multiple against CNX SmallCap: None\n",
      "\n"
     ]
    },
    {
     "name": "stderr",
     "output_type": "stream",
     "text": [
      "[*********************100%%**********************]  1 of 1 completed\n"
     ]
    },
    {
     "name": "stdout",
     "output_type": "stream",
     "text": [
      "Ticker: BIRLACORPN.NS; Returns Multiple against CNX SmallCap: None\n",
      "\n"
     ]
    },
    {
     "name": "stderr",
     "output_type": "stream",
     "text": [
      "[*********************100%%**********************]  1 of 1 completed\n"
     ]
    },
    {
     "name": "stdout",
     "output_type": "stream",
     "text": [
      "Ticker: BSOFT.NS; Returns Multiple against CNX SmallCap: None\n",
      "\n"
     ]
    },
    {
     "name": "stderr",
     "output_type": "stream",
     "text": [
      "[*********************100%%**********************]  1 of 1 completed\n"
     ]
    },
    {
     "name": "stdout",
     "output_type": "stream",
     "text": [
      "Ticker: CESC.NS; Returns Multiple against CNX SmallCap: None\n",
      "\n"
     ]
    },
    {
     "name": "stderr",
     "output_type": "stream",
     "text": [
      "[*********************100%%**********************]  1 of 1 completed\n"
     ]
    },
    {
     "name": "stdout",
     "output_type": "stream",
     "text": [
      "Ticker: CIEINDIA.NS; Returns Multiple against CNX SmallCap: None\n",
      "\n"
     ]
    },
    {
     "name": "stderr",
     "output_type": "stream",
     "text": [
      "[*********************100%%**********************]  1 of 1 completed\n"
     ]
    },
    {
     "name": "stdout",
     "output_type": "stream",
     "text": [
      "Ticker: CAMPUS.NS; Returns Multiple against CNX SmallCap: None\n",
      "\n"
     ]
    },
    {
     "name": "stderr",
     "output_type": "stream",
     "text": [
      "[*********************100%%**********************]  1 of 1 completed\n"
     ]
    },
    {
     "name": "stdout",
     "output_type": "stream",
     "text": [
      "Ticker: CANFINHOME.NS; Returns Multiple against CNX SmallCap: None\n",
      "\n"
     ]
    },
    {
     "name": "stderr",
     "output_type": "stream",
     "text": [
      "[*********************100%%**********************]  1 of 1 completed\n"
     ]
    },
    {
     "name": "stdout",
     "output_type": "stream",
     "text": [
      "Ticker: CEATLTD.NS; Returns Multiple against CNX SmallCap: None\n",
      "\n"
     ]
    },
    {
     "name": "stderr",
     "output_type": "stream",
     "text": [
      "[*********************100%%**********************]  1 of 1 completed\n"
     ]
    },
    {
     "name": "stdout",
     "output_type": "stream",
     "text": [
      "Ticker: CENTRALBK.NS; Returns Multiple against CNX SmallCap: None\n",
      "\n"
     ]
    },
    {
     "name": "stderr",
     "output_type": "stream",
     "text": [
      "[*********************100%%**********************]  1 of 1 completed\n"
     ]
    },
    {
     "name": "stdout",
     "output_type": "stream",
     "text": [
      "Ticker: CDSL.NS; Returns Multiple against CNX SmallCap: None\n",
      "\n"
     ]
    },
    {
     "name": "stderr",
     "output_type": "stream",
     "text": [
      "[*********************100%%**********************]  1 of 1 completed\n"
     ]
    },
    {
     "name": "stdout",
     "output_type": "stream",
     "text": [
      "Ticker: CENTURYTEX.NS; Returns Multiple against CNX SmallCap: None\n",
      "\n"
     ]
    },
    {
     "name": "stderr",
     "output_type": "stream",
     "text": [
      "[*********************100%%**********************]  1 of 1 completed\n"
     ]
    },
    {
     "name": "stdout",
     "output_type": "stream",
     "text": [
      "Ticker: CHAMBLFERT.NS; Returns Multiple against CNX SmallCap: None\n",
      "\n"
     ]
    },
    {
     "name": "stderr",
     "output_type": "stream",
     "text": [
      "[*********************100%%**********************]  1 of 1 completed\n"
     ]
    },
    {
     "name": "stdout",
     "output_type": "stream",
     "text": [
      "Ticker: CUB.NS; Returns Multiple against CNX SmallCap: None\n",
      "\n"
     ]
    },
    {
     "name": "stderr",
     "output_type": "stream",
     "text": [
      "[*********************100%%**********************]  1 of 1 completed\n"
     ]
    },
    {
     "name": "stdout",
     "output_type": "stream",
     "text": [
      "Ticker: COCHINSHIP.NS; Returns Multiple against CNX SmallCap: None\n",
      "\n"
     ]
    },
    {
     "name": "stderr",
     "output_type": "stream",
     "text": [
      "[*********************100%%**********************]  1 of 1 completed\n"
     ]
    },
    {
     "name": "stdout",
     "output_type": "stream",
     "text": [
      "Ticker: CAMS.NS; Returns Multiple against CNX SmallCap: None\n",
      "\n"
     ]
    },
    {
     "name": "stderr",
     "output_type": "stream",
     "text": [
      "[*********************100%%**********************]  1 of 1 completed\n"
     ]
    },
    {
     "name": "stdout",
     "output_type": "stream",
     "text": [
      "Ticker: CREDITACC.NS; Returns Multiple against CNX SmallCap: None\n",
      "\n"
     ]
    },
    {
     "name": "stderr",
     "output_type": "stream",
     "text": [
      "[*********************100%%**********************]  1 of 1 completed\n"
     ]
    },
    {
     "name": "stdout",
     "output_type": "stream",
     "text": [
      "Ticker: CYIENT.NS; Returns Multiple against CNX SmallCap: None\n",
      "\n"
     ]
    },
    {
     "name": "stderr",
     "output_type": "stream",
     "text": [
      "[*********************100%%**********************]  1 of 1 completed\n"
     ]
    },
    {
     "name": "stdout",
     "output_type": "stream",
     "text": [
      "Ticker: DATAPATTNS.NS; Returns Multiple against CNX SmallCap: None\n",
      "\n"
     ]
    },
    {
     "name": "stderr",
     "output_type": "stream",
     "text": [
      "[*********************100%%**********************]  1 of 1 completed\n"
     ]
    },
    {
     "name": "stdout",
     "output_type": "stream",
     "text": [
      "Ticker: DEEPAKFERT.NS; Returns Multiple against CNX SmallCap: None\n",
      "\n"
     ]
    },
    {
     "name": "stderr",
     "output_type": "stream",
     "text": [
      "[*********************100%%**********************]  1 of 1 completed\n"
     ]
    },
    {
     "name": "stdout",
     "output_type": "stream",
     "text": [
      "Ticker: EASEMYTRIP.NS; Returns Multiple against CNX SmallCap: None\n",
      "\n"
     ]
    },
    {
     "name": "stderr",
     "output_type": "stream",
     "text": [
      "[*********************100%%**********************]  1 of 1 completed\n"
     ]
    },
    {
     "name": "stdout",
     "output_type": "stream",
     "text": [
      "Ticker: ELGIEQUIP.NS; Returns Multiple against CNX SmallCap: None\n",
      "\n"
     ]
    },
    {
     "name": "stderr",
     "output_type": "stream",
     "text": [
      "[*********************100%%**********************]  1 of 1 completed\n"
     ]
    },
    {
     "name": "stdout",
     "output_type": "stream",
     "text": [
      "Ticker: EQUITASBNK.NS; Returns Multiple against CNX SmallCap: None\n",
      "\n"
     ]
    },
    {
     "name": "stderr",
     "output_type": "stream",
     "text": [
      "[*********************100%%**********************]  1 of 1 completed\n"
     ]
    },
    {
     "name": "stdout",
     "output_type": "stream",
     "text": [
      "Ticker: EXIDEIND.NS; Returns Multiple against CNX SmallCap: None\n",
      "\n"
     ]
    },
    {
     "name": "stderr",
     "output_type": "stream",
     "text": [
      "[*********************100%%**********************]  1 of 1 completed\n"
     ]
    },
    {
     "name": "stdout",
     "output_type": "stream",
     "text": [
      "Ticker: FINCABLES.NS; Returns Multiple against CNX SmallCap: None\n",
      "\n"
     ]
    },
    {
     "name": "stderr",
     "output_type": "stream",
     "text": [
      "[*********************100%%**********************]  1 of 1 completed\n"
     ]
    },
    {
     "name": "stdout",
     "output_type": "stream",
     "text": [
      "Ticker: FSL.NS; Returns Multiple against CNX SmallCap: None\n",
      "\n"
     ]
    },
    {
     "name": "stderr",
     "output_type": "stream",
     "text": [
      "[*********************100%%**********************]  1 of 1 completed\n"
     ]
    },
    {
     "name": "stdout",
     "output_type": "stream",
     "text": [
      "Ticker: GLENMARK.NS; Returns Multiple against CNX SmallCap: None\n",
      "\n"
     ]
    },
    {
     "name": "stderr",
     "output_type": "stream",
     "text": [
      "[*********************100%%**********************]  1 of 1 completed\n"
     ]
    },
    {
     "name": "stdout",
     "output_type": "stream",
     "text": [
      "Ticker: MEDANTA.NS; Returns Multiple against CNX SmallCap: None\n",
      "\n"
     ]
    },
    {
     "name": "stderr",
     "output_type": "stream",
     "text": [
      "[*********************100%%**********************]  1 of 1 completed\n"
     ]
    },
    {
     "name": "stdout",
     "output_type": "stream",
     "text": [
      "Ticker: GRANULES.NS; Returns Multiple against CNX SmallCap: None\n",
      "\n"
     ]
    },
    {
     "name": "stderr",
     "output_type": "stream",
     "text": [
      "[*********************100%%**********************]  1 of 1 completed\n"
     ]
    },
    {
     "name": "stdout",
     "output_type": "stream",
     "text": [
      "Ticker: GRAPHITE.NS; Returns Multiple against CNX SmallCap: None\n",
      "\n"
     ]
    },
    {
     "name": "stderr",
     "output_type": "stream",
     "text": [
      "[*********************100%%**********************]  1 of 1 completed\n"
     ]
    },
    {
     "name": "stdout",
     "output_type": "stream",
     "text": [
      "Ticker: GNFC.NS; Returns Multiple against CNX SmallCap: None\n",
      "\n"
     ]
    },
    {
     "name": "stderr",
     "output_type": "stream",
     "text": [
      "[*********************100%%**********************]  1 of 1 completed\n"
     ]
    },
    {
     "name": "stdout",
     "output_type": "stream",
     "text": [
      "Ticker: HFCL.NS; Returns Multiple against CNX SmallCap: None\n",
      "\n"
     ]
    },
    {
     "name": "stderr",
     "output_type": "stream",
     "text": [
      "[*********************100%%**********************]  1 of 1 completed\n"
     ]
    },
    {
     "name": "stdout",
     "output_type": "stream",
     "text": [
      "Ticker: HAPPSTMNDS.NS; Returns Multiple against CNX SmallCap: None\n",
      "\n"
     ]
    },
    {
     "name": "stderr",
     "output_type": "stream",
     "text": [
      "[*********************100%%**********************]  1 of 1 completed\n"
     ]
    },
    {
     "name": "stdout",
     "output_type": "stream",
     "text": [
      "Ticker: HINDCOPPER.NS; Returns Multiple against CNX SmallCap: None\n",
      "\n"
     ]
    },
    {
     "name": "stderr",
     "output_type": "stream",
     "text": [
      "[*********************100%%**********************]  1 of 1 completed\n"
     ]
    },
    {
     "name": "stdout",
     "output_type": "stream",
     "text": [
      "Ticker: HUDCO.NS; Returns Multiple against CNX SmallCap: None\n",
      "\n"
     ]
    },
    {
     "name": "stderr",
     "output_type": "stream",
     "text": [
      "[*********************100%%**********************]  1 of 1 completed\n"
     ]
    },
    {
     "name": "stdout",
     "output_type": "stream",
     "text": [
      "Ticker: IDBI.NS; Returns Multiple against CNX SmallCap: None\n",
      "\n"
     ]
    },
    {
     "name": "stderr",
     "output_type": "stream",
     "text": [
      "[*********************100%%**********************]  1 of 1 completed\n"
     ]
    },
    {
     "name": "stdout",
     "output_type": "stream",
     "text": [
      "Ticker: IDFC.NS; Returns Multiple against CNX SmallCap: None\n",
      "\n"
     ]
    },
    {
     "name": "stderr",
     "output_type": "stream",
     "text": [
      "[*********************100%%**********************]  1 of 1 completed\n"
     ]
    },
    {
     "name": "stdout",
     "output_type": "stream",
     "text": [
      "Ticker: IIFL.NS; Returns Multiple against CNX SmallCap: None\n",
      "\n"
     ]
    },
    {
     "name": "stderr",
     "output_type": "stream",
     "text": [
      "[*********************100%%**********************]  1 of 1 completed\n"
     ]
    },
    {
     "name": "stdout",
     "output_type": "stream",
     "text": [
      "Ticker: IRB.NS; Returns Multiple against CNX SmallCap: None\n",
      "\n"
     ]
    },
    {
     "name": "stderr",
     "output_type": "stream",
     "text": [
      "[*********************100%%**********************]  1 of 1 completed\n"
     ]
    },
    {
     "name": "stdout",
     "output_type": "stream",
     "text": [
      "Ticker: INDIAMART.NS; Returns Multiple against CNX SmallCap: None\n",
      "\n"
     ]
    },
    {
     "name": "stderr",
     "output_type": "stream",
     "text": [
      "[*********************100%%**********************]  1 of 1 completed\n"
     ]
    },
    {
     "name": "stdout",
     "output_type": "stream",
     "text": [
      "Ticker: IEX.NS; Returns Multiple against CNX SmallCap: None\n",
      "\n"
     ]
    },
    {
     "name": "stderr",
     "output_type": "stream",
     "text": [
      "[*********************100%%**********************]  1 of 1 completed\n"
     ]
    },
    {
     "name": "stdout",
     "output_type": "stream",
     "text": [
      "Ticker: IOB.NS; Returns Multiple against CNX SmallCap: None\n",
      "\n"
     ]
    },
    {
     "name": "stderr",
     "output_type": "stream",
     "text": [
      "[*********************100%%**********************]  1 of 1 completed\n"
     ]
    },
    {
     "name": "stdout",
     "output_type": "stream",
     "text": [
      "Ticker: INTELLECT.NS; Returns Multiple against CNX SmallCap: None\n",
      "\n"
     ]
    },
    {
     "name": "stderr",
     "output_type": "stream",
     "text": [
      "[*********************100%%**********************]  1 of 1 completed\n"
     ]
    },
    {
     "name": "stdout",
     "output_type": "stream",
     "text": [
      "Ticker: JBCHEPHARM.NS; Returns Multiple against CNX SmallCap: None\n",
      "\n"
     ]
    },
    {
     "name": "stderr",
     "output_type": "stream",
     "text": [
      "[*********************100%%**********************]  1 of 1 completed\n"
     ]
    },
    {
     "name": "stdout",
     "output_type": "stream",
     "text": [
      "Ticker: JBMA.NS; Returns Multiple against CNX SmallCap: None\n",
      "\n"
     ]
    },
    {
     "name": "stderr",
     "output_type": "stream",
     "text": [
      "[*********************100%%**********************]  1 of 1 completed\n"
     ]
    },
    {
     "name": "stdout",
     "output_type": "stream",
     "text": [
      "Ticker: JKLAKSHMI.NS; Returns Multiple against CNX SmallCap: None\n",
      "\n"
     ]
    },
    {
     "name": "stderr",
     "output_type": "stream",
     "text": [
      "[*********************100%%**********************]  1 of 1 completed\n"
     ]
    },
    {
     "name": "stdout",
     "output_type": "stream",
     "text": [
      "Ticker: JUBLINGREA.NS; Returns Multiple against CNX SmallCap: None\n",
      "\n"
     ]
    },
    {
     "name": "stderr",
     "output_type": "stream",
     "text": [
      "[*********************100%%**********************]  1 of 1 completed\n"
     ]
    },
    {
     "name": "stdout",
     "output_type": "stream",
     "text": [
      "Ticker: JYOTHYLAB.NS; Returns Multiple against CNX SmallCap: None\n",
      "\n"
     ]
    },
    {
     "name": "stderr",
     "output_type": "stream",
     "text": [
      "[*********************100%%**********************]  1 of 1 completed\n"
     ]
    },
    {
     "name": "stdout",
     "output_type": "stream",
     "text": [
      "Ticker: KEI.NS; Returns Multiple against CNX SmallCap: None\n",
      "\n"
     ]
    },
    {
     "name": "stderr",
     "output_type": "stream",
     "text": [
      "[*********************100%%**********************]  1 of 1 completed\n"
     ]
    },
    {
     "name": "stdout",
     "output_type": "stream",
     "text": [
      "Ticker: KRBL.NS; Returns Multiple against CNX SmallCap: None\n",
      "\n"
     ]
    },
    {
     "name": "stderr",
     "output_type": "stream",
     "text": [
      "[*********************100%%**********************]  1 of 1 completed\n"
     ]
    },
    {
     "name": "stdout",
     "output_type": "stream",
     "text": [
      "Ticker: KALYANKJIL.NS; Returns Multiple against CNX SmallCap: None\n",
      "\n"
     ]
    },
    {
     "name": "stderr",
     "output_type": "stream",
     "text": [
      "[*********************100%%**********************]  1 of 1 completed\n"
     ]
    },
    {
     "name": "stdout",
     "output_type": "stream",
     "text": [
      "Ticker: KARURVYSYA.NS; Returns Multiple against CNX SmallCap: None\n",
      "\n"
     ]
    },
    {
     "name": "stderr",
     "output_type": "stream",
     "text": [
      "[*********************100%%**********************]  1 of 1 completed\n"
     ]
    },
    {
     "name": "stdout",
     "output_type": "stream",
     "text": [
      "Ticker: KEC.NS; Returns Multiple against CNX SmallCap: None\n",
      "\n"
     ]
    },
    {
     "name": "stderr",
     "output_type": "stream",
     "text": [
      "[*********************100%%**********************]  1 of 1 completed\n"
     ]
    },
    {
     "name": "stdout",
     "output_type": "stream",
     "text": [
      "Ticker: LATENTVIEW.NS; Returns Multiple against CNX SmallCap: None\n",
      "\n"
     ]
    },
    {
     "name": "stderr",
     "output_type": "stream",
     "text": [
      "[*********************100%%**********************]  1 of 1 completed\n"
     ]
    },
    {
     "name": "stdout",
     "output_type": "stream",
     "text": [
      "Ticker: LXCHEM.NS; Returns Multiple against CNX SmallCap: None\n",
      "\n"
     ]
    },
    {
     "name": "stderr",
     "output_type": "stream",
     "text": [
      "[*********************100%%**********************]  1 of 1 completed\n"
     ]
    },
    {
     "name": "stdout",
     "output_type": "stream",
     "text": [
      "Ticker: MGL.NS; Returns Multiple against CNX SmallCap: None\n",
      "\n"
     ]
    },
    {
     "name": "stderr",
     "output_type": "stream",
     "text": [
      "[*********************100%%**********************]  1 of 1 completed\n"
     ]
    },
    {
     "name": "stdout",
     "output_type": "stream",
     "text": [
      "Ticker: MANAPPURAM.NS; Returns Multiple against CNX SmallCap: None\n",
      "\n"
     ]
    },
    {
     "name": "stderr",
     "output_type": "stream",
     "text": [
      "[*********************100%%**********************]  1 of 1 completed"
     ]
    },
    {
     "name": "stdout",
     "output_type": "stream",
     "text": [
      "Ticker: MRPL.NS; Returns Multiple against CNX SmallCap: None\n",
      "\n"
     ]
    },
    {
     "name": "stderr",
     "output_type": "stream",
     "text": [
      "\n",
      "[*********************100%%**********************]  1 of 1 completed\n"
     ]
    },
    {
     "name": "stdout",
     "output_type": "stream",
     "text": [
      "Ticker: MEDPLUS.NS; Returns Multiple against CNX SmallCap: None\n",
      "\n"
     ]
    },
    {
     "name": "stderr",
     "output_type": "stream",
     "text": [
      "[*********************100%%**********************]  1 of 1 completed\n"
     ]
    },
    {
     "name": "stdout",
     "output_type": "stream",
     "text": [
      "Ticker: METROPOLIS.NS; Returns Multiple against CNX SmallCap: None\n",
      "\n"
     ]
    },
    {
     "name": "stderr",
     "output_type": "stream",
     "text": [
      "[*********************100%%**********************]  1 of 1 completed\n"
     ]
    },
    {
     "name": "stdout",
     "output_type": "stream",
     "text": [
      "Ticker: MCX.NS; Returns Multiple against CNX SmallCap: None\n",
      "\n"
     ]
    },
    {
     "name": "stderr",
     "output_type": "stream",
     "text": [
      "[*********************100%%**********************]  1 of 1 completed\n"
     ]
    },
    {
     "name": "stdout",
     "output_type": "stream",
     "text": [
      "Ticker: NATCOPHARM.NS; Returns Multiple against CNX SmallCap: None\n",
      "\n"
     ]
    },
    {
     "name": "stderr",
     "output_type": "stream",
     "text": [
      "[*********************100%%**********************]  1 of 1 completed\n"
     ]
    },
    {
     "name": "stdout",
     "output_type": "stream",
     "text": [
      "Ticker: NBCC.NS; Returns Multiple against CNX SmallCap: None\n",
      "\n"
     ]
    },
    {
     "name": "stderr",
     "output_type": "stream",
     "text": [
      "[*********************100%%**********************]  1 of 1 completed\n"
     ]
    },
    {
     "name": "stdout",
     "output_type": "stream",
     "text": [
      "Ticker: NLCINDIA.NS; Returns Multiple against CNX SmallCap: None\n",
      "\n"
     ]
    },
    {
     "name": "stderr",
     "output_type": "stream",
     "text": [
      "[*********************100%%**********************]  1 of 1 completed\n"
     ]
    },
    {
     "name": "stdout",
     "output_type": "stream",
     "text": [
      "Ticker: NSLNISP.NS; Returns Multiple against CNX SmallCap: None\n",
      "\n"
     ]
    },
    {
     "name": "stderr",
     "output_type": "stream",
     "text": [
      "[*********************100%%**********************]  1 of 1 completed\n"
     ]
    },
    {
     "name": "stdout",
     "output_type": "stream",
     "text": [
      "Ticker: NATIONALUM.NS; Returns Multiple against CNX SmallCap: None\n",
      "\n"
     ]
    },
    {
     "name": "stderr",
     "output_type": "stream",
     "text": [
      "[*********************100%%**********************]  1 of 1 completed\n"
     ]
    },
    {
     "name": "stdout",
     "output_type": "stream",
     "text": [
      "Ticker: PNBHOUSING.NS; Returns Multiple against CNX SmallCap: None\n",
      "\n"
     ]
    },
    {
     "name": "stderr",
     "output_type": "stream",
     "text": [
      "[*********************100%%**********************]  1 of 1 completed\n"
     ]
    },
    {
     "name": "stdout",
     "output_type": "stream",
     "text": [
      "Ticker: PVRINOX.NS; Returns Multiple against CNX SmallCap: None\n",
      "\n"
     ]
    },
    {
     "name": "stderr",
     "output_type": "stream",
     "text": [
      "[*********************100%%**********************]  1 of 1 completed\n"
     ]
    },
    {
     "name": "stdout",
     "output_type": "stream",
     "text": [
      "Ticker: PPLPHARMA.NS; Returns Multiple against CNX SmallCap: None\n",
      "\n"
     ]
    },
    {
     "ename": "KeyboardInterrupt",
     "evalue": "",
     "output_type": "error",
     "traceback": [
      "\u001b[0;31m---------------------------------------------------------------------------\u001b[0m",
      "\u001b[0;31mKeyboardInterrupt\u001b[0m                         Traceback (most recent call last)",
      "Cell \u001b[0;32mIn[24], line 22\u001b[0m\n\u001b[1;32m     19\u001b[0m     returns_multiples\u001b[38;5;241m.\u001b[39mextend([returns_multiple])\n\u001b[1;32m     21\u001b[0m     \u001b[38;5;28mprint\u001b[39m(\u001b[38;5;124mf\u001b[39m\u001b[38;5;124m'\u001b[39m\u001b[38;5;124mTicker: \u001b[39m\u001b[38;5;132;01m{\u001b[39;00mticker\u001b[38;5;132;01m}\u001b[39;00m\u001b[38;5;124m; Returns Multiple against CNX SmallCap: \u001b[39m\u001b[38;5;132;01m{\u001b[39;00mreturns_multiple\u001b[38;5;132;01m}\u001b[39;00m\u001b[38;5;130;01m\\n\u001b[39;00m\u001b[38;5;124m'\u001b[39m)\n\u001b[0;32m---> 22\u001b[0m     \u001b[43mtime\u001b[49m\u001b[38;5;241;43m.\u001b[39;49m\u001b[43msleep\u001b[49m\u001b[43m(\u001b[49m\u001b[38;5;241;43m1\u001b[39;49m\u001b[43m)\u001b[49m\n\u001b[1;32m     23\u001b[0m \u001b[38;5;28;01mexcept\u001b[39;00m \u001b[38;5;167;01mException\u001b[39;00m \u001b[38;5;28;01mas\u001b[39;00m e:\n\u001b[1;32m     24\u001b[0m     \u001b[38;5;28mprint\u001b[39m(\u001b[38;5;124mf\u001b[39m\u001b[38;5;124m\"\u001b[39m\u001b[38;5;124mFailed to get data for \u001b[39m\u001b[38;5;132;01m{\u001b[39;00mticker\u001b[38;5;132;01m}\u001b[39;00m\u001b[38;5;124m: \u001b[39m\u001b[38;5;132;01m{\u001b[39;00me\u001b[38;5;132;01m}\u001b[39;00m\u001b[38;5;124m\"\u001b[39m)\n",
      "\u001b[0;31mKeyboardInterrupt\u001b[0m: "
     ]
    }
   ],
   "source": [
    "\n",
    "# Try to get CNX SmallCap data\n",
    "try:\n",
    "    index_df = pdr.get_data_yahoo(index_name, start_date, end_date)\n",
    "    index_df['Percent Change'] = index_df['Adj Close'].pct_change()\n",
    "    index_return = (index_df['Percent Change'] + 1).cumprod().iloc[-1]\n",
    "except Exception as e:\n",
    "    print(f\"Failed to get CNX SmallCap data: {e}\")\n",
    "    index_return = None\n",
    "\n",
    "# Find top 30% performing stocks (relative to the CNX SmallCap)\n",
    "for ticker in tickers:\n",
    "    try:\n",
    "        df = pdr.get_data_yahoo(ticker, start_date, end_date)\n",
    "        df.to_csv(f'{ticker}.csv')\n",
    "        df['Percent Change'] = df['Adj Close'].pct_change()\n",
    "        stock_return = (df['Percent Change'] + 1).cumprod().iloc[-1]\n",
    "\n",
    "        returns_multiple = round((stock_return / index_return), 2) if index_return is not None else None\n",
    "        returns_multiples.extend([returns_multiple])\n",
    "\n",
    "        print(f'Ticker: {ticker}; Returns Multiple against CNX SmallCap: {returns_multiple}\\n')\n",
    "        time.sleep(1)\n",
    "    except Exception as e:\n",
    "        print(f\"Failed to get data for {ticker}: {e}\")\n",
    "\n",
    "# Creating dataframe of only top 30%\n",
    "rs_df = pd.DataFrame(list(zip(tickers, returns_multiples)), columns=['Ticker', 'Returns_multiple'])\n",
    "rs_df = rs_df.dropna()  # Drop rows with missing data\n",
    "rs_df['RS_Rating'] = rs_df.Returns_multiple.rank(pct=True) * 100\n",
    "rs_df = rs_df[rs_df.RS_Rating >= rs_df.RS_Rating.quantile(0.70)]\n"
   ]
  },
  {
   "cell_type": "code",
   "execution_count": 15,
   "id": "50e1a86d-f73a-4414-a864-396265bc5a05",
   "metadata": {},
   "outputs": [
    {
     "name": "stderr",
     "output_type": "stream",
     "text": [
      "/tmp/ipykernel_15618/1097824202.py:47: FutureWarning: The frame.append method is deprecated and will be removed from pandas in a future version. Use pandas.concat instead.\n",
      "  exportList = exportList.append({'Stock': stock, \"RS_Rating\": RS_Rating ,\"50 Day MA\": moving_average_50, \"150 Day Ma\": moving_average_150, \"200 Day MA\": moving_average_200, \"52 Week Low\": low_of_52week, \"52 week High\": high_of_52week}, ignore_index=True)\n",
      "/tmp/ipykernel_15618/1097824202.py:47: FutureWarning: The frame.append method is deprecated and will be removed from pandas in a future version. Use pandas.concat instead.\n",
      "  exportList = exportList.append({'Stock': stock, \"RS_Rating\": RS_Rating ,\"50 Day MA\": moving_average_50, \"150 Day Ma\": moving_average_150, \"200 Day MA\": moving_average_200, \"52 Week Low\": low_of_52week, \"52 week High\": high_of_52week}, ignore_index=True)\n",
      "/tmp/ipykernel_15618/1097824202.py:47: FutureWarning: The frame.append method is deprecated and will be removed from pandas in a future version. Use pandas.concat instead.\n",
      "  exportList = exportList.append({'Stock': stock, \"RS_Rating\": RS_Rating ,\"50 Day MA\": moving_average_50, \"150 Day Ma\": moving_average_150, \"200 Day MA\": moving_average_200, \"52 Week Low\": low_of_52week, \"52 week High\": high_of_52week}, ignore_index=True)\n",
      "/tmp/ipykernel_15618/1097824202.py:47: FutureWarning: The frame.append method is deprecated and will be removed from pandas in a future version. Use pandas.concat instead.\n",
      "  exportList = exportList.append({'Stock': stock, \"RS_Rating\": RS_Rating ,\"50 Day MA\": moving_average_50, \"150 Day Ma\": moving_average_150, \"200 Day MA\": moving_average_200, \"52 Week Low\": low_of_52week, \"52 week High\": high_of_52week}, ignore_index=True)\n",
      "/tmp/ipykernel_15618/1097824202.py:47: FutureWarning: The frame.append method is deprecated and will be removed from pandas in a future version. Use pandas.concat instead.\n",
      "  exportList = exportList.append({'Stock': stock, \"RS_Rating\": RS_Rating ,\"50 Day MA\": moving_average_50, \"150 Day Ma\": moving_average_150, \"200 Day MA\": moving_average_200, \"52 Week Low\": low_of_52week, \"52 week High\": high_of_52week}, ignore_index=True)\n",
      "/tmp/ipykernel_15618/1097824202.py:47: FutureWarning: The frame.append method is deprecated and will be removed from pandas in a future version. Use pandas.concat instead.\n",
      "  exportList = exportList.append({'Stock': stock, \"RS_Rating\": RS_Rating ,\"50 Day MA\": moving_average_50, \"150 Day Ma\": moving_average_150, \"200 Day MA\": moving_average_200, \"52 Week Low\": low_of_52week, \"52 week High\": high_of_52week}, ignore_index=True)\n",
      "/tmp/ipykernel_15618/1097824202.py:47: FutureWarning: The frame.append method is deprecated and will be removed from pandas in a future version. Use pandas.concat instead.\n",
      "  exportList = exportList.append({'Stock': stock, \"RS_Rating\": RS_Rating ,\"50 Day MA\": moving_average_50, \"150 Day Ma\": moving_average_150, \"200 Day MA\": moving_average_200, \"52 Week Low\": low_of_52week, \"52 week High\": high_of_52week}, ignore_index=True)\n",
      "/tmp/ipykernel_15618/1097824202.py:47: FutureWarning: The frame.append method is deprecated and will be removed from pandas in a future version. Use pandas.concat instead.\n",
      "  exportList = exportList.append({'Stock': stock, \"RS_Rating\": RS_Rating ,\"50 Day MA\": moving_average_50, \"150 Day Ma\": moving_average_150, \"200 Day MA\": moving_average_200, \"52 Week Low\": low_of_52week, \"52 week High\": high_of_52week}, ignore_index=True)\n",
      "/tmp/ipykernel_15618/1097824202.py:47: FutureWarning: The frame.append method is deprecated and will be removed from pandas in a future version. Use pandas.concat instead.\n",
      "  exportList = exportList.append({'Stock': stock, \"RS_Rating\": RS_Rating ,\"50 Day MA\": moving_average_50, \"150 Day Ma\": moving_average_150, \"200 Day MA\": moving_average_200, \"52 Week Low\": low_of_52week, \"52 week High\": high_of_52week}, ignore_index=True)\n",
      "/tmp/ipykernel_15618/1097824202.py:47: FutureWarning: The frame.append method is deprecated and will be removed from pandas in a future version. Use pandas.concat instead.\n",
      "  exportList = exportList.append({'Stock': stock, \"RS_Rating\": RS_Rating ,\"50 Day MA\": moving_average_50, \"150 Day Ma\": moving_average_150, \"200 Day MA\": moving_average_200, \"52 Week Low\": low_of_52week, \"52 week High\": high_of_52week}, ignore_index=True)\n",
      "/tmp/ipykernel_15618/1097824202.py:47: FutureWarning: The frame.append method is deprecated and will be removed from pandas in a future version. Use pandas.concat instead.\n",
      "  exportList = exportList.append({'Stock': stock, \"RS_Rating\": RS_Rating ,\"50 Day MA\": moving_average_50, \"150 Day Ma\": moving_average_150, \"200 Day MA\": moving_average_200, \"52 Week Low\": low_of_52week, \"52 week High\": high_of_52week}, ignore_index=True)\n",
      "/tmp/ipykernel_15618/1097824202.py:47: FutureWarning: The frame.append method is deprecated and will be removed from pandas in a future version. Use pandas.concat instead.\n",
      "  exportList = exportList.append({'Stock': stock, \"RS_Rating\": RS_Rating ,\"50 Day MA\": moving_average_50, \"150 Day Ma\": moving_average_150, \"200 Day MA\": moving_average_200, \"52 Week Low\": low_of_52week, \"52 week High\": high_of_52week}, ignore_index=True)\n",
      "/tmp/ipykernel_15618/1097824202.py:47: FutureWarning: The frame.append method is deprecated and will be removed from pandas in a future version. Use pandas.concat instead.\n",
      "  exportList = exportList.append({'Stock': stock, \"RS_Rating\": RS_Rating ,\"50 Day MA\": moving_average_50, \"150 Day Ma\": moving_average_150, \"200 Day MA\": moving_average_200, \"52 Week Low\": low_of_52week, \"52 week High\": high_of_52week}, ignore_index=True)\n",
      "/tmp/ipykernel_15618/1097824202.py:47: FutureWarning: The frame.append method is deprecated and will be removed from pandas in a future version. Use pandas.concat instead.\n",
      "  exportList = exportList.append({'Stock': stock, \"RS_Rating\": RS_Rating ,\"50 Day MA\": moving_average_50, \"150 Day Ma\": moving_average_150, \"200 Day MA\": moving_average_200, \"52 Week Low\": low_of_52week, \"52 week High\": high_of_52week}, ignore_index=True)\n",
      "/tmp/ipykernel_15618/1097824202.py:47: FutureWarning: The frame.append method is deprecated and will be removed from pandas in a future version. Use pandas.concat instead.\n",
      "  exportList = exportList.append({'Stock': stock, \"RS_Rating\": RS_Rating ,\"50 Day MA\": moving_average_50, \"150 Day Ma\": moving_average_150, \"200 Day MA\": moving_average_200, \"52 Week Low\": low_of_52week, \"52 week High\": high_of_52week}, ignore_index=True)\n"
     ]
    },
    {
     "name": "stdout",
     "output_type": "stream",
     "text": [
      "ADANIENT.NS made the Minervini requirements\n",
      "ADANIPORTS.NS made the Minervini requirements\n",
      "BAJAJ-AUTO.NS made the Minervini requirements\n",
      "BPCL.NS made the Minervini requirements\n",
      "CIPLA.NS made the Minervini requirements\n",
      "COALINDIA.NS made the Minervini requirements\n",
      "HEROMOTOCO.NS made the Minervini requirements\n",
      "LT.NS made the Minervini requirements\n",
      "NTPC.NS made the Minervini requirements\n",
      "ONGC.NS made the Minervini requirements\n",
      "POWERGRID.NS made the Minervini requirements\n",
      "SUNPHARMA.NS made the Minervini requirements\n",
      "TATAMOTORS.NS made the Minervini requirements\n",
      "TATACONSUM.NS made the Minervini requirements\n",
      "TITAN.NS made the Minervini requirements\n",
      "\n",
      "             Stock RS_Rating  50 Day MA  150 Day Ma  200 Day MA  52 Week Low  \\\n",
      "2   BAJAJ-AUTO.NS       100    7472.63     5970.74     5608.86      3711.05   \n",
      "12  TATAMOTORS.NS        98     852.40      715.10      678.30       400.45   \n",
      "5    COALINDIA.NS        96     406.17      320.09      294.08       207.60   \n",
      "3         BPCL.NS        94     529.17      415.39      399.24       320.55   \n",
      "8         NTPC.NS        92     319.50      264.48      242.99       166.80   \n",
      "1   ADANIPORTS.NS        90    1195.74      954.47      896.86       571.55   \n",
      "6   HEROMOTOCO.NS        88    4396.40     3580.55     3399.77      2246.00   \n",
      "9         ONGC.NS        86     239.38      198.97      187.77       146.50   \n",
      "10   POWERGRID.NS        84     253.86      214.26      203.96       164.02   \n",
      "7           LT.NS        81    3469.16     3119.15     2927.37      2107.00   \n",
      "13  TATACONSUM.NS        81    1124.39      967.55      931.78       686.60   \n",
      "0     ADANIENT.NS        77    3075.92     2672.87     2598.21      1573.00   \n",
      "4        CIPLA.NS        77    1363.62     1260.06     1189.99       852.00   \n",
      "11   SUNPHARMA.NS        74    1399.27     1232.04     1173.56       922.45   \n",
      "14       TITAN.NS        72    3675.80     3382.35     3264.88      2321.00   \n",
      "\n",
      "    52 week High  \n",
      "2        8650.00  \n",
      "12        980.40  \n",
      "5         487.60  \n",
      "3         687.95  \n",
      "8         348.05  \n",
      "1        1349.00  \n",
      "6        4949.05  \n",
      "9         281.15  \n",
      "10        293.65  \n",
      "7        3737.90  \n",
      "13       1213.65  \n",
      "0        3346.00  \n",
      "4        1494.00  \n",
      "11       1587.80  \n",
      "14       3886.95  \n"
     ]
    },
    {
     "name": "stderr",
     "output_type": "stream",
     "text": [
      "/tmp/ipykernel_15618/1097824202.py:57: FutureWarning: save is not part of the public API, usage can give unexpected results and will be removed in a future version\n",
      "  writer.save()\n"
     ]
    }
   ],
   "source": [
    "# Checking Minervini conditions of top 30% of stocks in given list\n",
    "rs_stocks = rs_df['Ticker']\n",
    "for stock in rs_stocks:    \n",
    "    try:\n",
    "        df = pd.read_csv(f'{stock}.csv', index_col=0)\n",
    "        sma = [50, 150, 200]\n",
    "        for x in sma:\n",
    "            df[\"SMA_\"+str(x)] = round(df['Adj Close'].rolling(window=x).mean(), 2)\n",
    "        \n",
    "        # Storing required values \n",
    "        currentClose = df[\"Adj Close\"][-1]\n",
    "        moving_average_50 = df[\"SMA_50\"][-1]\n",
    "        moving_average_150 = df[\"SMA_150\"][-1]\n",
    "        moving_average_200 = df[\"SMA_200\"][-1]\n",
    "        low_of_52week = round(min(df[\"Low\"][-260:]), 2)\n",
    "        high_of_52week = round(max(df[\"High\"][-260:]), 2)\n",
    "        RS_Rating = round(rs_df[rs_df['Ticker']==stock].RS_Rating.tolist()[0])\n",
    "        \n",
    "        try:\n",
    "            moving_average_200_20 = df[\"SMA_200\"][-20]\n",
    "        except Exception:\n",
    "            moving_average_200_20 = 0\n",
    "\n",
    "        # Condition 1: Current Price > 150 SMA and > 200 SMA\n",
    "        condition_1 = currentClose > moving_average_150 > moving_average_200\n",
    "        \n",
    "        # Condition 2: 150 SMA and > 200 SMA\n",
    "        condition_2 = moving_average_150 > moving_average_200\n",
    "\n",
    "        # Condition 3: 200 SMA trending up for at least 1 month\n",
    "        condition_3 = moving_average_200 > moving_average_200_20\n",
    "        \n",
    "        # Condition 4: 50 SMA> 150 SMA and 50 SMA> 200 SMA\n",
    "        condition_4 = moving_average_50 > moving_average_150 > moving_average_200\n",
    "           \n",
    "        # Condition 5: Current Price > 50 SMA\n",
    "        condition_5 = currentClose > moving_average_50\n",
    "           \n",
    "        # Condition 6: Current Price is at least 30% above 52 week low\n",
    "        condition_6 = currentClose >= (1.3*low_of_52week)\n",
    "           \n",
    "        # Condition 7: Current Price is within 25% of 52 week high\n",
    "        condition_7 = currentClose >= (.75*high_of_52week)\n",
    "        \n",
    "        # If all conditions above are true, add stock to exportList\n",
    "        if(condition_1 and condition_2 and condition_3 and condition_4 and condition_5 and condition_6 and condition_7):\n",
    "            exportList = exportList.append({'Stock': stock, \"RS_Rating\": RS_Rating ,\"50 Day MA\": moving_average_50, \"150 Day Ma\": moving_average_150, \"200 Day MA\": moving_average_200, \"52 Week Low\": low_of_52week, \"52 week High\": high_of_52week}, ignore_index=True)\n",
    "            print (stock + \" made the Minervini requirements\")\n",
    "    except Exception as e:\n",
    "        print (e)\n",
    "        print(f\"Could not gather data on {stock}\")\n",
    "\n",
    "exportList = exportList.sort_values(by='RS_Rating', ascending=False)\n",
    "print('\\n', exportList)\n",
    "csv_file_path = \"ScreenOutput.csv\"\n",
    "exportList.to_csv(csv_file_path, index=False)"
   ]
  },
  {
   "cell_type": "code",
   "execution_count": null,
   "id": "37e6eac4-8d1a-44b3-9e9e-80acb9b43c38",
   "metadata": {},
   "outputs": [],
   "source": []
  }
 ],
 "metadata": {
  "kernelspec": {
   "display_name": "Python 3 (ipykernel)",
   "language": "python",
   "name": "python3"
  },
  "language_info": {
   "codemirror_mode": {
    "name": "ipython",
    "version": 3
   },
   "file_extension": ".py",
   "mimetype": "text/x-python",
   "name": "python",
   "nbconvert_exporter": "python",
   "pygments_lexer": "ipython3",
   "version": "3.10.12"
  }
 },
 "nbformat": 4,
 "nbformat_minor": 5
}
