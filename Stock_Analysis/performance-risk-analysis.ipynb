{
 "cells": [
  {
   "cell_type": "code",
   "execution_count": 1,
   "id": "ad829fef-f5a5-46b9-abcc-de12c208dfcc",
   "metadata": {},
   "outputs": [],
   "source": [
    "# Performance risk analysis"
   ]
  },
  {
   "cell_type": "code",
   "execution_count": 5,
   "id": "62ec50ec-ad9d-4344-a041-cbc9262ac3e1",
   "metadata": {},
   "outputs": [
    {
     "name": "stderr",
     "output_type": "stream",
     "text": [
      "[*********************100%%**********************]  1 of 1 completed\n",
      "[*********************100%%**********************]  1 of 1 completed"
     ]
    },
    {
     "name": "stdout",
     "output_type": "stream",
     "text": [
      "Beta: 1.6766\n",
      "Alpha: 0.0114 (annualized)\n",
      "R-squared: 0.2498\n",
      "Volatility: 0.6251\n",
      "1-Year Momentum: 3.3688\n",
      "Average Volume (last 60 days): 1753307.28\n"
     ]
    },
    {
     "name": "stderr",
     "output_type": "stream",
     "text": [
      "\n"
     ]
    }
   ],
   "source": [
    "import yfinance as yf\n",
    "import numpy as np\n",
    "import pandas as pd\n",
    "import datetime\n",
    "\n",
    "# Setting the stock and index symbols\n",
    "stock = 'HSCL.NS'\n",
    "index = '^NSEI'\n",
    "\n",
    "# Defining time range for data\n",
    "start_date = datetime.datetime.now() - datetime.timedelta(days=1826)\n",
    "end_date = datetime.date.today()\n",
    "\n",
    "# Fetching data for the stock and S&P 500 index using yfinance\n",
    "df_stock = yf.download(stock, start=start_date, end=end_date)\n",
    "df_index = yf.download(index, start=start_date, end=end_date)\n",
    "\n",
    "# Resampling the data to a monthly time series\n",
    "df_stock_monthly = df_stock['Adj Close'].resample('M').last()\n",
    "df_index_monthly = df_index['Adj Close'].resample('M').last()\n",
    "\n",
    "# Calculating monthly returns\n",
    "stock_returns = df_stock_monthly.pct_change().dropna()\n",
    "index_returns = df_index_monthly.pct_change().dropna()\n",
    "\n",
    "# Computing Beta, Alpha, and R-squared\n",
    "cov_matrix = np.cov(stock_returns, index_returns)\n",
    "beta = cov_matrix[0, 1] / cov_matrix[1, 1]\n",
    "alpha = np.mean(stock_returns) - beta * np.mean(index_returns)\n",
    "\n",
    "y_pred = alpha + beta * index_returns\n",
    "r_squared = 1 - np.sum((y_pred - stock_returns) ** 2) / np.sum((stock_returns - np.mean(stock_returns)) ** 2)\n",
    "\n",
    "# Calculating Volatility and Momentum\n",
    "volatility = np.std(stock_returns) * np.sqrt(12)  # Annualized volatility\n",
    "momentum = np.prod(1 + stock_returns.tail(12)) - 1  # 1-year momentum\n",
    "\n",
    "# Printing the results\n",
    "print(f'Beta: {beta:.4f}')\n",
    "print(f'Alpha: {alpha:.4f} (annualized)')\n",
    "print(f'R-squared: {r_squared:.4f}')\n",
    "print(f'Volatility: {volatility:.4f}')\n",
    "print(f'1-Year Momentum: {momentum:.4f}')\n",
    "\n",
    "# Calculating the average volume over the last 60 days\n",
    "average_volume = df_stock['Volume'].tail(60).mean()\n",
    "print(f'Average Volume (last 60 days): {average_volume:.2f}')\n"
   ]
  },
  {
   "cell_type": "code",
   "execution_count": null,
   "id": "d50c861d-d6ed-4cca-ab88-9afa3c599d5d",
   "metadata": {},
   "outputs": [],
   "source": []
  }
 ],
 "metadata": {
  "kernelspec": {
   "display_name": "Python 3 (ipykernel)",
   "language": "python",
   "name": "python3"
  },
  "language_info": {
   "codemirror_mode": {
    "name": "ipython",
    "version": 3
   },
   "file_extension": ".py",
   "mimetype": "text/x-python",
   "name": "python",
   "nbconvert_exporter": "python",
   "pygments_lexer": "ipython3",
   "version": "3.10.12"
  }
 },
 "nbformat": 4,
 "nbformat_minor": 5
}
