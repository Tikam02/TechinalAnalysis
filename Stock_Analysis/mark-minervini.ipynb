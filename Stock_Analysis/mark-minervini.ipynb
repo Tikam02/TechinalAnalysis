{
 "cells": [
  {
   "cell_type": "code",
   "execution_count": 10,
   "id": "e8af950f-45cc-415d-af41-45426b86d1b6",
   "metadata": {},
   "outputs": [],
   "source": [
    "import kaleido"
   ]
  },
  {
   "cell_type": "code",
   "execution_count": 1,
   "id": "baedbdd3-9982-4101-9f57-0796c6fdf43b",
   "metadata": {},
   "outputs": [
    {
     "name": "stderr",
     "output_type": "stream",
     "text": [
      "[*********************100%%**********************]  1 of 1 completed\n"
     ]
    }
   ],
   "source": [
    "import yfinance as yf\n",
    "\n",
    "df = yf.download('FCL.NS')\n",
    "df['200_ma'] = df['Close'].rolling(200).mean()"
   ]
  },
  {
   "cell_type": "code",
   "execution_count": 3,
   "id": "7de79586-b6ac-4095-9309-3150db0eb9d4",
   "metadata": {},
   "outputs": [],
   "source": [
    "# The code above is actually downloading Tesla daily price data, and then calculating the 200 day simple moving average"
   ]
  },
  {
   "cell_type": "code",
   "execution_count": 4,
   "id": "c247bcaa-3a19-40cb-a066-820a47430364",
   "metadata": {},
   "outputs": [
    {
     "data": {
      "text/html": [
       "<div>\n",
       "<style scoped>\n",
       "    .dataframe tbody tr th:only-of-type {\n",
       "        vertical-align: middle;\n",
       "    }\n",
       "\n",
       "    .dataframe tbody tr th {\n",
       "        vertical-align: top;\n",
       "    }\n",
       "\n",
       "    .dataframe thead th {\n",
       "        text-align: right;\n",
       "    }\n",
       "</style>\n",
       "<table border=\"1\" class=\"dataframe\">\n",
       "  <thead>\n",
       "    <tr style=\"text-align: right;\">\n",
       "      <th></th>\n",
       "      <th>Open</th>\n",
       "      <th>High</th>\n",
       "      <th>Low</th>\n",
       "      <th>Close</th>\n",
       "      <th>Adj Close</th>\n",
       "      <th>Volume</th>\n",
       "      <th>200_ma</th>\n",
       "    </tr>\n",
       "    <tr>\n",
       "      <th>Date</th>\n",
       "      <th></th>\n",
       "      <th></th>\n",
       "      <th></th>\n",
       "      <th></th>\n",
       "      <th></th>\n",
       "      <th></th>\n",
       "      <th></th>\n",
       "    </tr>\n",
       "  </thead>\n",
       "  <tbody>\n",
       "    <tr>\n",
       "      <th>2015-01-15</th>\n",
       "      <td>23.995001</td>\n",
       "      <td>24.985001</td>\n",
       "      <td>23.000000</td>\n",
       "      <td>24.605000</td>\n",
       "      <td>23.727531</td>\n",
       "      <td>631430</td>\n",
       "      <td>NaN</td>\n",
       "    </tr>\n",
       "    <tr>\n",
       "      <th>2015-01-16</th>\n",
       "      <td>24.400000</td>\n",
       "      <td>24.400000</td>\n",
       "      <td>22.610001</td>\n",
       "      <td>23.600000</td>\n",
       "      <td>22.758373</td>\n",
       "      <td>41940</td>\n",
       "      <td>NaN</td>\n",
       "    </tr>\n",
       "    <tr>\n",
       "      <th>2015-01-19</th>\n",
       "      <td>24.100000</td>\n",
       "      <td>25.100000</td>\n",
       "      <td>24.100000</td>\n",
       "      <td>24.934999</td>\n",
       "      <td>24.045769</td>\n",
       "      <td>331430</td>\n",
       "      <td>NaN</td>\n",
       "    </tr>\n",
       "    <tr>\n",
       "      <th>2015-01-20</th>\n",
       "      <td>25.000000</td>\n",
       "      <td>25.000000</td>\n",
       "      <td>24.295000</td>\n",
       "      <td>24.295000</td>\n",
       "      <td>23.428589</td>\n",
       "      <td>1200</td>\n",
       "      <td>NaN</td>\n",
       "    </tr>\n",
       "    <tr>\n",
       "      <th>2015-01-21</th>\n",
       "      <td>23.975000</td>\n",
       "      <td>24.695000</td>\n",
       "      <td>23.730000</td>\n",
       "      <td>24.424999</td>\n",
       "      <td>23.553955</td>\n",
       "      <td>950</td>\n",
       "      <td>NaN</td>\n",
       "    </tr>\n",
       "    <tr>\n",
       "      <th>...</th>\n",
       "      <td>...</td>\n",
       "      <td>...</td>\n",
       "      <td>...</td>\n",
       "      <td>...</td>\n",
       "      <td>...</td>\n",
       "      <td>...</td>\n",
       "      <td>...</td>\n",
       "    </tr>\n",
       "    <tr>\n",
       "      <th>2024-02-15</th>\n",
       "      <td>410.950012</td>\n",
       "      <td>429.000000</td>\n",
       "      <td>398.799988</td>\n",
       "      <td>407.399994</td>\n",
       "      <td>407.399994</td>\n",
       "      <td>3767917</td>\n",
       "      <td>314.38500</td>\n",
       "    </tr>\n",
       "    <tr>\n",
       "      <th>2024-02-16</th>\n",
       "      <td>412.500000</td>\n",
       "      <td>449.950012</td>\n",
       "      <td>410.250000</td>\n",
       "      <td>438.250000</td>\n",
       "      <td>438.250000</td>\n",
       "      <td>3790159</td>\n",
       "      <td>315.38225</td>\n",
       "    </tr>\n",
       "    <tr>\n",
       "      <th>2024-02-19</th>\n",
       "      <td>458.850006</td>\n",
       "      <td>458.850006</td>\n",
       "      <td>432.350006</td>\n",
       "      <td>436.149994</td>\n",
       "      <td>436.149994</td>\n",
       "      <td>1611909</td>\n",
       "      <td>316.36650</td>\n",
       "    </tr>\n",
       "    <tr>\n",
       "      <th>2024-02-20</th>\n",
       "      <td>437.000000</td>\n",
       "      <td>446.549988</td>\n",
       "      <td>429.700012</td>\n",
       "      <td>442.549988</td>\n",
       "      <td>442.549988</td>\n",
       "      <td>1239870</td>\n",
       "      <td>317.35375</td>\n",
       "    </tr>\n",
       "    <tr>\n",
       "      <th>2024-02-21</th>\n",
       "      <td>446.500000</td>\n",
       "      <td>449.500000</td>\n",
       "      <td>431.049988</td>\n",
       "      <td>432.700012</td>\n",
       "      <td>432.700012</td>\n",
       "      <td>835242</td>\n",
       "      <td>318.26000</td>\n",
       "    </tr>\n",
       "  </tbody>\n",
       "</table>\n",
       "<p>2247 rows × 7 columns</p>\n",
       "</div>"
      ],
      "text/plain": [
       "                  Open        High         Low       Close   Adj Close  \\\n",
       "Date                                                                     \n",
       "2015-01-15   23.995001   24.985001   23.000000   24.605000   23.727531   \n",
       "2015-01-16   24.400000   24.400000   22.610001   23.600000   22.758373   \n",
       "2015-01-19   24.100000   25.100000   24.100000   24.934999   24.045769   \n",
       "2015-01-20   25.000000   25.000000   24.295000   24.295000   23.428589   \n",
       "2015-01-21   23.975000   24.695000   23.730000   24.424999   23.553955   \n",
       "...                ...         ...         ...         ...         ...   \n",
       "2024-02-15  410.950012  429.000000  398.799988  407.399994  407.399994   \n",
       "2024-02-16  412.500000  449.950012  410.250000  438.250000  438.250000   \n",
       "2024-02-19  458.850006  458.850006  432.350006  436.149994  436.149994   \n",
       "2024-02-20  437.000000  446.549988  429.700012  442.549988  442.549988   \n",
       "2024-02-21  446.500000  449.500000  431.049988  432.700012  432.700012   \n",
       "\n",
       "             Volume     200_ma  \n",
       "Date                            \n",
       "2015-01-15   631430        NaN  \n",
       "2015-01-16    41940        NaN  \n",
       "2015-01-19   331430        NaN  \n",
       "2015-01-20     1200        NaN  \n",
       "2015-01-21      950        NaN  \n",
       "...             ...        ...  \n",
       "2024-02-15  3767917  314.38500  \n",
       "2024-02-16  3790159  315.38225  \n",
       "2024-02-19  1611909  316.36650  \n",
       "2024-02-20  1239870  317.35375  \n",
       "2024-02-21   835242  318.26000  \n",
       "\n",
       "[2247 rows x 7 columns]"
      ]
     },
     "execution_count": 4,
     "metadata": {},
     "output_type": "execute_result"
    }
   ],
   "source": [
    "df"
   ]
  },
  {
   "cell_type": "code",
   "execution_count": null,
   "id": "d96b8e19-ff02-43db-91df-81127786ca8c",
   "metadata": {},
   "outputs": [],
   "source": []
  },
  {
   "cell_type": "code",
   "execution_count": 23,
   "id": "34ea0a92-283b-4b4d-a3a7-cad907d9cac7",
   "metadata": {},
   "outputs": [
    {
     "name": "stderr",
     "output_type": "stream",
     "text": [
      "[*********************100%%**********************]  1 of 1 completed\n"
     ]
    },
    {
     "name": "stdout",
     "output_type": "stream",
     "text": [
      "HDFCBANK.NS is not trending :(\n"
     ]
    }
   ],
   "source": [
    "import numpy as np\n",
    "import pandas as pd\n",
    "import yfinance as yf\n",
    "\n",
    "TICKER = 'HDFCBANK.NS'\n",
    "\n",
    "\n",
    "def best_fit_slope(y: np.array) -> float:\n",
    "    '''\n",
    "    Determine the slope for the linear regression line\n",
    "\n",
    "    Parameters\n",
    "    ----------\n",
    "    y : TYPE\n",
    "        The time-series to find the linear regression line for\n",
    "\n",
    "    Returns\n",
    "    -------\n",
    "    m : float\n",
    "        The gradient (slope) of the linear regression line\n",
    "    '''\n",
    "    \n",
    "    x = np.arange(0, y.shape[0])\n",
    "    \n",
    "    x_bar = np.mean(x)\n",
    "    y_bar = np.mean(y)\n",
    "    \n",
    "    return np.sum((x-x_bar)*(y-y_bar))/np.sum((x-x_bar)**2)\n",
    "\n",
    "\n",
    "def apply_trend_template(df: pd.DataFrame) -> pd.DataFrame:\n",
    "    '''\n",
    "    Apply Mark Minervini's trend criteria and obtain a new boolean column\n",
    "    to indicate where the criteria is applied\n",
    "    \n",
    "    Parameters\n",
    "    ----------\n",
    "    df : pd.DataFrame\n",
    "        The stock price dataframe\n",
    "        \n",
    "    Returns\n",
    "    -------\n",
    "    df : pd.DataFrame\n",
    "        The stock price dataframe with the new trend boolean column\n",
    "    '''\n",
    "    \n",
    "    # Find the moving averages\n",
    "    df['200_ma'] = df['Close'].rolling(200).mean()\n",
    "    df['150_ma'] = df['Close'].rolling(150).mean()\n",
    "    df['50_ma'] = df['Close'].rolling(50).mean()\n",
    "    \n",
    "    # Determine the 52 week high and low\n",
    "    df['52_week_low'] = df['Close'].rolling(52*5).min()\n",
    "    df['52_week_high'] = df['Close'].rolling(52*5).max()\n",
    "    \n",
    "    # Get the linear regression slope of the 200 day SMA\n",
    "    df['slope'] = df['200_ma'].rolling(40).apply(best_fit_slope)\n",
    "    \n",
    "    # Constraints for the trend template\n",
    "    df['trend_template'] = (\n",
    "        (df['Close'] > df['200_ma'])\n",
    "        & (df['Close'] > df['150_ma'])\n",
    "        & (df['150_ma'] > df['200_ma'])\n",
    "        & (df['slope'] > 0)\n",
    "        & (df['50_ma'] > df['150_ma'])\n",
    "        & (df['50_ma'] > df['200_ma'])\n",
    "        & (df['Close'] > df['50_ma'])\n",
    "        & (df['Close']/df['52_week_low'] > 1.3)\n",
    "        & (df['Close']/df['52_week_high'] > 0.8) \n",
    "    )\n",
    "    \n",
    "    return df\n",
    "\n",
    "if __name__ == '__main__':\n",
    "\n",
    "    df = yf.download(f'{TICKER}').reset_index()\n",
    "    df = apply_trend_template(df)\n",
    "    \n",
    "    if df['trend_template'].values[-1]:\n",
    "        print(f'{TICKER} is trending!')\n",
    "    else:\n",
    "        print(f'{TICKER} is not trending :(')"
   ]
  },
  {
   "cell_type": "code",
   "execution_count": 16,
   "id": "58851703-5f2c-4165-b635-a86aeabf06d7",
   "metadata": {},
   "outputs": [
    {
     "name": "stderr",
     "output_type": "stream",
     "text": [
      "[*********************100%%**********************]  1 of 1 completed\n"
     ]
    },
    {
     "name": "stdout",
     "output_type": "stream",
     "text": [
      "FCL.NS is trending!\n"
     ]
    },
    {
     "name": "stderr",
     "output_type": "stream",
     "text": [
      "[*********************100%%**********************]  1 of 1 completed\n"
     ]
    },
    {
     "name": "stdout",
     "output_type": "stream",
     "text": [
      "FCL.NS is trending!\n"
     ]
    },
    {
     "name": "stderr",
     "output_type": "stream",
     "text": [
      "[*********************100%%**********************]  1 of 1 completed\n"
     ]
    },
    {
     "name": "stdout",
     "output_type": "stream",
     "text": [
      "FCL.NS is trending!\n"
     ]
    },
    {
     "name": "stderr",
     "output_type": "stream",
     "text": [
      "[*********************100%%**********************]  1 of 1 completed\n"
     ]
    },
    {
     "name": "stdout",
     "output_type": "stream",
     "text": [
      "FCL.NS is trending!\n"
     ]
    }
   ],
   "source": [
    "tickers = ['FCL.NS', 'IRB.NS', 'GPPL.NS', 'HDFCBANK.NS']\n",
    "\n",
    "for ticker in tickers:\n",
    "    df = yf.download(f'{TICKER}').reset_index()\n",
    "    df = apply_trend_template(df)\n",
    "    \n",
    "    if df['trend_template'].values[-1]:\n",
    "        print(f'{TICKER} is trending!')\n",
    "    else:\n",
    "        print(f'{TICKER} is not trending :(')"
   ]
  },
  {
   "cell_type": "code",
   "execution_count": 24,
   "id": "05927e79-07c6-4ef4-8bc2-24f097425286",
   "metadata": {},
   "outputs": [
    {
     "name": "stderr",
     "output_type": "stream",
     "text": [
      "[*********************100%%**********************]  5 of 5 completed"
     ]
    },
    {
     "name": "stdout",
     "output_type": "stream",
     "text": [
      "['FCL.NS', 'IRB.NS', 'GPPL.NS', 'WIPRO.NS']\n"
     ]
    },
    {
     "name": "stderr",
     "output_type": "stream",
     "text": [
      "\n"
     ]
    }
   ],
   "source": [
    "from datetime import datetime, timedelta\n",
    "\n",
    "TICKERS = ['FCL.NS', 'IRB.NS', 'GPPL.NS', 'HDFCBANK.NS','WIPRO.NS']\n",
    "\n",
    "data = yf.download(\n",
    "    tickers=TICKERS,\n",
    "    start=datetime.now() - timedelta(weeks=55),\n",
    "    threads=True,\n",
    "    group_by='ticker',\n",
    ")\n",
    "\n",
    "data = data.T\n",
    "\n",
    "trending_tickers = []\n",
    "\n",
    "for ticker in TICKERS:\n",
    "    df = apply_trend_template(data.loc[ticker, :].T)\n",
    "\n",
    "    if df['trend_template'].values[-1]:\n",
    "        trending_tickers.append(ticker)\n",
    "\n",
    "if len(trending_tickers) > 0:\n",
    "    print(trending_tickers)\n",
    "else:\n",
    "    print('No tickers are trending :(')\n"
   ]
  },
  {
   "cell_type": "code",
   "execution_count": null,
   "id": "f60c1acf-edb1-4740-aa80-26eff75bcde0",
   "metadata": {},
   "outputs": [],
   "source": []
  }
 ],
 "metadata": {
  "kernelspec": {
   "display_name": "Python 3 (ipykernel)",
   "language": "python",
   "name": "python3"
  },
  "language_info": {
   "codemirror_mode": {
    "name": "ipython",
    "version": 3
   },
   "file_extension": ".py",
   "mimetype": "text/x-python",
   "name": "python",
   "nbconvert_exporter": "python",
   "pygments_lexer": "ipython3",
   "version": "3.10.12"
  }
 },
 "nbformat": 4,
 "nbformat_minor": 5
}
