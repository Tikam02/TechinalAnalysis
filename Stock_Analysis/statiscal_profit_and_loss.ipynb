{
 "cells": [
  {
   "cell_type": "code",
   "execution_count": 1,
   "id": "3e7d6d19-06a6-4a40-9f57-9e184130c724",
   "metadata": {},
   "outputs": [],
   "source": [
    "# Stock statistical profit and loss analysis"
   ]
  },
  {
   "cell_type": "code",
   "execution_count": 2,
   "id": "bb65f678-632a-4d0c-bc1c-d1937762a3e6",
   "metadata": {},
   "outputs": [
    {
     "name": "stderr",
     "output_type": "stream",
     "text": [
      "[*********************100%%**********************]  1 of 1 completed\n"
     ]
    },
    {
     "name": "stdout",
     "output_type": "stream",
     "text": [
      "Mean of returns: 0.0037231361315872374\n",
      "Median of returns: -0.0006163881539246185\n"
     ]
    },
    {
     "ename": "IndexError",
     "evalue": "invalid index to scalar variable.",
     "output_type": "error",
     "traceback": [
      "\u001b[0;31m---------------------------------------------------------------------------\u001b[0m",
      "\u001b[0;31mIndexError\u001b[0m                                Traceback (most recent call last)",
      "Cell \u001b[0;32mIn[2], line 42\u001b[0m\n\u001b[1;32m     39\u001b[0m start_date \u001b[38;5;241m=\u001b[39m dt\u001b[38;5;241m.\u001b[39mdate\u001b[38;5;241m.\u001b[39mtoday() \u001b[38;5;241m-\u001b[39m dt\u001b[38;5;241m.\u001b[39mtimedelta(days\u001b[38;5;241m=\u001b[39m\u001b[38;5;241m365\u001b[39m\u001b[38;5;241m*\u001b[39m\u001b[38;5;241m5\u001b[39m)\n\u001b[1;32m     40\u001b[0m end_date \u001b[38;5;241m=\u001b[39m dt\u001b[38;5;241m.\u001b[39mdate\u001b[38;5;241m.\u001b[39mtoday()\n\u001b[0;32m---> 42\u001b[0m \u001b[43manalyze_stock_returns\u001b[49m\u001b[43m(\u001b[49m\u001b[43msymbol\u001b[49m\u001b[43m,\u001b[49m\u001b[43m \u001b[49m\u001b[43mstart_date\u001b[49m\u001b[43m,\u001b[49m\u001b[43m \u001b[49m\u001b[43mend_date\u001b[49m\u001b[43m)\u001b[49m\n",
      "Cell \u001b[0;32mIn[2], line 17\u001b[0m, in \u001b[0;36manalyze_stock_returns\u001b[0;34m(symbol, start, end)\u001b[0m\n\u001b[1;32m     15\u001b[0m \u001b[38;5;28mprint\u001b[39m(\u001b[38;5;124m'\u001b[39m\u001b[38;5;124mMean of returns:\u001b[39m\u001b[38;5;124m'\u001b[39m, np\u001b[38;5;241m.\u001b[39mmean(returns))\n\u001b[1;32m     16\u001b[0m \u001b[38;5;28mprint\u001b[39m(\u001b[38;5;124m'\u001b[39m\u001b[38;5;124mMedian of returns:\u001b[39m\u001b[38;5;124m'\u001b[39m, np\u001b[38;5;241m.\u001b[39mmedian(returns))\n\u001b[0;32m---> 17\u001b[0m \u001b[38;5;28mprint\u001b[39m(\u001b[38;5;124m'\u001b[39m\u001b[38;5;124mMode of returns:\u001b[39m\u001b[38;5;124m'\u001b[39m, \u001b[43mstats\u001b[49m\u001b[38;5;241;43m.\u001b[39;49m\u001b[43mmode\u001b[49m\u001b[43m(\u001b[49m\u001b[43mreturns\u001b[49m\u001b[43m)\u001b[49m\u001b[43m[\u001b[49m\u001b[38;5;241;43m0\u001b[39;49m\u001b[43m]\u001b[49m\u001b[43m[\u001b[49m\u001b[38;5;241;43m0\u001b[39;49m\u001b[43m]\u001b[49m)\n\u001b[1;32m     18\u001b[0m \u001b[38;5;28mprint\u001b[39m(\u001b[38;5;124m'\u001b[39m\u001b[38;5;124mArithmetic average of returns:\u001b[39m\u001b[38;5;124m'\u001b[39m, returns\u001b[38;5;241m.\u001b[39mmean())\n\u001b[1;32m     19\u001b[0m \u001b[38;5;28mprint\u001b[39m(\u001b[38;5;124m'\u001b[39m\u001b[38;5;124mGeometric mean of returns:\u001b[39m\u001b[38;5;124m'\u001b[39m, stats\u001b[38;5;241m.\u001b[39mgmean(returns))\n",
      "\u001b[0;31mIndexError\u001b[0m: invalid index to scalar variable."
     ]
    }
   ],
   "source": [
    "import yfinance as yf\n",
    "import datetime as dt\n",
    "import numpy as np\n",
    "import scipy.stats as stats\n",
    "import matplotlib.pyplot as plt\n",
    "\n",
    "def analyze_stock_returns(symbol, start, end):\n",
    "    # Download stock data\n",
    "    df = yf.download(symbol, start, end)\n",
    "\n",
    "    # Calculate daily returns\n",
    "    returns = df['Adj Close'].pct_change().dropna()\n",
    "\n",
    "    # Calculate and print various statistics\n",
    "    print('Mean of returns:', np.mean(returns))\n",
    "    print('Median of returns:', np.median(returns))\n",
    "    print('Mode of returns:', stats.mode(returns)[0][0])\n",
    "    print('Arithmetic average of returns:', returns.mean())\n",
    "    print('Geometric mean of returns:', stats.gmean(returns))\n",
    "    print('Standard deviation of returns:', returns.std())\n",
    "    print('Harmonic mean of returns:', len(returns) / np.sum(1.0/returns))\n",
    "    print('Skewness:', stats.skew(returns))\n",
    "    print('Kurtosis:', stats.kurtosis(returns))\n",
    "    \n",
    "    # Jarque-Bera test\n",
    "    jarque_bera_results = stats.jarque_bera(returns)\n",
    "    is_normal = jarque_bera_results[1] > 0.05\n",
    "    print(\"Jarque-Bera p-value:\", jarque_bera_results[1])\n",
    "    print('Are the returns normal?', is_normal)\n",
    "\n",
    "    # Histogram of returns\n",
    "    plt.hist(returns, bins=30)\n",
    "    plt.title(f'Histogram of Returns for {symbol.upper()}')\n",
    "    plt.show()\n",
    "\n",
    "# Main execution\n",
    "if __name__ == \"__main__\":\n",
    "    symbol = 'BCLIND.NS'\n",
    "    start_date = dt.date.today() - dt.timedelta(days=365*5)\n",
    "    end_date = dt.date.today()\n",
    "\n",
    "    analyze_stock_returns(symbol, start_date, end_date)"
   ]
  },
  {
   "cell_type": "code",
   "execution_count": null,
   "id": "b5fa3c76-33a1-42f1-ab17-70a65edbe49b",
   "metadata": {},
   "outputs": [],
   "source": []
  }
 ],
 "metadata": {
  "kernelspec": {
   "display_name": "Python 3 (ipykernel)",
   "language": "python",
   "name": "python3"
  },
  "language_info": {
   "codemirror_mode": {
    "name": "ipython",
    "version": 3
   },
   "file_extension": ".py",
   "mimetype": "text/x-python",
   "name": "python",
   "nbconvert_exporter": "python",
   "pygments_lexer": "ipython3",
   "version": "3.10.12"
  }
 },
 "nbformat": 4,
 "nbformat_minor": 5
}
