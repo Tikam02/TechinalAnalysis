{
 "cells": [
  {
   "cell_type": "code",
   "execution_count": null,
   "id": "8e0b9ff7-b8b2-4031-afc1-6bbc6ce8d088",
   "metadata": {},
   "outputs": [],
   "source": []
  },
  {
   "cell_type": "code",
   "execution_count": 1,
   "id": "78770e30-90f8-4209-9dc7-7dc726b92410",
   "metadata": {},
   "outputs": [
    {
     "name": "stderr",
     "output_type": "stream",
     "text": [
      "[*********************100%%**********************]  1 of 1 completed"
     ]
    },
    {
     "name": "stdout",
     "output_type": "stream",
     "text": [
      "Predicted Movement:  Drop\n"
     ]
    },
    {
     "name": "stderr",
     "output_type": "stream",
     "text": [
      "\n"
     ]
    }
   ],
   "source": [
    "import yfinance\n",
    "from scipy import stats\n",
    "import numpy as np\n",
    "\n",
    "# Download historical data for AMD stock\n",
    "data = yfinance.download('GPPL.NS', '2020-09-08', '2024-02-16')\n",
    "\n",
    "def calculate_prereq(values):\n",
    "    # Calculate standard deviation and mean\n",
    "    std = np.std(values)\n",
    "    mean = np.mean(values)\n",
    "    return std, mean\n",
    "\n",
    "def calculate_distribution(mean, std):\n",
    "    # Create normal distribution with given mean and std\n",
    "    return stats.norm(mean, std)\n",
    "\n",
    "def extrapolate(norm, x):\n",
    "    # Probability density function\n",
    "    return norm.pdf(x)\n",
    "\n",
    "def values_to_norm(dicts):\n",
    "    # Convert lists of values to normal distributions\n",
    "    for dictionary in dicts:\n",
    "        for term in dictionary:\n",
    "            std, mean = calculate_prereq(dictionary[term])\n",
    "            dictionary[term] = calculate_distribution(mean, std)\n",
    "    return dicts\n",
    "\n",
    "def compare_possibilities(dicts, x):\n",
    "    # Compare normal distributions and return index of higher probability\n",
    "    probabilities = []\n",
    "    for dictionary in dicts:\n",
    "        dict_probs = [extrapolate(dictionary[i], x[i]) for i in range(len(x))]\n",
    "        probabilities.append(np.prod(dict_probs))\n",
    "    return probabilities.index(max(probabilities))\n",
    "\n",
    "# Prepare data for increase and drop scenarios\n",
    "drop = {}\n",
    "increase = {}\n",
    "for day in range(10, len(data) - 1):\n",
    "    previous_close = data['Close'][day - 10:day]\n",
    "    ratios = [previous_close[i] / previous_close[i - 1] for i in range(1, len(previous_close))]\n",
    "    if data['Close'][day + 1] > data['Close'][day]:\n",
    "        for i, ratio in enumerate(ratios):\n",
    "            increase[i] = increase.get(i, ()) + (ratio,)\n",
    "    elif data['Close'][day + 1] < data['Close'][day]:\n",
    "        for i, ratio in enumerate(ratios):\n",
    "            drop[i] = drop.get(i, ()) + (ratio,)\n",
    "\n",
    "# Add new ratios for prediction\n",
    "new_close = data['Close'][-11:-1]\n",
    "new_ratios = [new_close[i] / new_close[i - 1] for i in range(1, len(new_close))]\n",
    "for i, ratio in enumerate(new_ratios):\n",
    "    increase[i] = increase.get(i, ()) + (ratio,)\n",
    "\n",
    "# Convert ratio lists to normal distributions and make prediction\n",
    "dicts = [increase, drop]\n",
    "dicts = values_to_norm(dicts)\n",
    "prediction = compare_possibilities(dicts, new_ratios)\n",
    "print(\"Predicted Movement: \", \"Increase\" if prediction == 0 else \"Drop\")"
   ]
  },
  {
   "cell_type": "raw",
   "id": "53eaefc4-e539-4a62-8840-3c790ad208ed",
   "metadata": {},
   "source": []
  }
 ],
 "metadata": {
  "kernelspec": {
   "display_name": "Python 3 (ipykernel)",
   "language": "python",
   "name": "python3"
  },
  "language_info": {
   "codemirror_mode": {
    "name": "ipython",
    "version": 3
   },
   "file_extension": ".py",
   "mimetype": "text/x-python",
   "name": "python",
   "nbconvert_exporter": "python",
   "pygments_lexer": "ipython3",
   "version": "3.10.12"
  }
 },
 "nbformat": 4,
 "nbformat_minor": 5
}
