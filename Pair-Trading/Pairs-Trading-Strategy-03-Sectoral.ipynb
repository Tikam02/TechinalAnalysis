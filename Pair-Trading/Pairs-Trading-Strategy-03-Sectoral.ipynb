{
 "cells": [
  {
   "cell_type": "code",
   "execution_count": null,
   "id": "a72bc018-e722-4675-adff-ec1f2a36ab9e",
   "metadata": {},
   "outputs": [],
   "source": [
    "# Sectoral Pair Trading"
   ]
  },
  {
   "cell_type": "code",
   "execution_count": 2,
   "id": "f45810dc-11eb-41f2-9126-e27bedb6f5c4",
   "metadata": {},
   "outputs": [
    {
     "name": "stdout",
     "output_type": "stream",
     "text": [
      "Collecting yfapi\n",
      "  Downloading yfapi-1.6.2.tar.gz (8.0 kB)\n",
      "  Preparing metadata (setup.py) ... \u001b[?25ldone\n",
      "\u001b[?25hRequirement already satisfied: pandas in /home/tikam/stock-market/env3/lib/python3.10/site-packages (from yfapi) (2.1.4)\n",
      "Requirement already satisfied: requests in /home/tikam/stock-market/env3/lib/python3.10/site-packages (from yfapi) (2.31.0)\n",
      "Requirement already satisfied: tqdm in /home/tikam/stock-market/env3/lib/python3.10/site-packages (from yfapi) (4.66.1)\n",
      "Requirement already satisfied: openpyxl in /home/tikam/stock-market/env3/lib/python3.10/site-packages (from yfapi) (3.1.2)\n",
      "Requirement already satisfied: et-xmlfile in /home/tikam/stock-market/env3/lib/python3.10/site-packages (from openpyxl->yfapi) (1.1.0)\n",
      "Requirement already satisfied: numpy<2,>=1.22.4 in /home/tikam/stock-market/env3/lib/python3.10/site-packages (from pandas->yfapi) (1.26.2)\n",
      "Requirement already satisfied: python-dateutil>=2.8.2 in /home/tikam/stock-market/env3/lib/python3.10/site-packages (from pandas->yfapi) (2.8.2)\n",
      "Requirement already satisfied: pytz>=2020.1 in /home/tikam/stock-market/env3/lib/python3.10/site-packages (from pandas->yfapi) (2023.3.post1)\n",
      "Requirement already satisfied: tzdata>=2022.1 in /home/tikam/stock-market/env3/lib/python3.10/site-packages (from pandas->yfapi) (2023.3)\n",
      "Requirement already satisfied: charset-normalizer<4,>=2 in /home/tikam/stock-market/env3/lib/python3.10/site-packages (from requests->yfapi) (3.3.2)\n",
      "Requirement already satisfied: idna<4,>=2.5 in /home/tikam/stock-market/env3/lib/python3.10/site-packages (from requests->yfapi) (3.6)\n",
      "Requirement already satisfied: urllib3<3,>=1.21.1 in /home/tikam/stock-market/env3/lib/python3.10/site-packages (from requests->yfapi) (2.1.0)\n",
      "Requirement already satisfied: certifi>=2017.4.17 in /home/tikam/stock-market/env3/lib/python3.10/site-packages (from requests->yfapi) (2023.11.17)\n",
      "Requirement already satisfied: six>=1.5 in /home/tikam/stock-market/env3/lib/python3.10/site-packages (from python-dateutil>=2.8.2->pandas->yfapi) (1.16.0)\n",
      "Building wheels for collected packages: yfapi\n",
      "  Building wheel for yfapi (setup.py) ... \u001b[?25ldone\n",
      "\u001b[?25h  Created wheel for yfapi: filename=yfapi-1.6.2-py3-none-any.whl size=6512 sha256=60d80bd4f9f9a1264899708a06e10d3b6bedc9a9bacc61629fa83fc55f0ad08c\n",
      "  Stored in directory: /home/tikam/.cache/pip/wheels/29/c3/36/23d528e90c3199c26a7177809d9a7ad87006847012a3ac3ed5\n",
      "Successfully built yfapi\n",
      "Installing collected packages: yfapi\n",
      "Successfully installed yfapi-1.6.2\n"
     ]
    }
   ],
   "source": [
    "!pip install yfapi"
   ]
  },
  {
   "cell_type": "code",
   "execution_count": 4,
   "id": "6a8ab267-2616-44c1-87b7-d50c516d1609",
   "metadata": {},
   "outputs": [],
   "source": [
    "from yfapi import YahooFinance\n",
    "import pandas as pd\n",
    "import datetime\n",
    "import matplotlib.pyplot as plt"
   ]
  },
  {
   "cell_type": "code",
   "execution_count": 7,
   "id": "ebcd31cf-baba-4208-9d84-f77bc23c9ff7",
   "metadata": {},
   "outputs": [
    {
     "ename": "TypeError",
     "evalue": "YahooFinance.__init__() missing 3 required positional arguments: 'ticker', 'interval', and 'range'",
     "output_type": "error",
     "traceback": [
      "\u001b[0;31m---------------------------------------------------------------------------\u001b[0m",
      "\u001b[0;31mTypeError\u001b[0m                                 Traceback (most recent call last)",
      "Cell \u001b[0;32mIn[7], line 10\u001b[0m\n\u001b[1;32m      7\u001b[0m price_column \u001b[38;5;241m=\u001b[39m \u001b[38;5;124m\"\u001b[39m\u001b[38;5;124mClose\u001b[39m\u001b[38;5;124m\"\u001b[39m\n\u001b[1;32m      8\u001b[0m date_column \u001b[38;5;241m=\u001b[39m \u001b[38;5;124m\"\u001b[39m\u001b[38;5;124mDate\u001b[39m\u001b[38;5;124m\"\u001b[39m\n\u001b[0;32m---> 10\u001b[0m api \u001b[38;5;241m=\u001b[39m \u001b[43mYahooFinance\u001b[49m\u001b[43m(\u001b[49m\u001b[43m)\u001b[49m\n\u001b[1;32m     11\u001b[0m sp_data \u001b[38;5;241m=\u001b[39m api\u001b[38;5;241m.\u001b[39mget_ticker_data(\u001b[38;5;124m\"\u001b[39m\u001b[38;5;124m^NSEI\u001b[39m\u001b[38;5;124m\"\u001b[39m, datetime\u001b[38;5;241m.\u001b[39mdatetime(\u001b[38;5;241m2010\u001b[39m, \u001b[38;5;241m1\u001b[39m, \u001b[38;5;241m1\u001b[39m), datetime\u001b[38;5;241m.\u001b[39mdatetime(\u001b[38;5;241m2024\u001b[39m, \u001b[38;5;241m1\u001b[39m, \u001b[38;5;241m29\u001b[39m))\n",
      "\u001b[0;31mTypeError\u001b[0m: YahooFinance.__init__() missing 3 required positional arguments: 'ticker', 'interval', and 'range'"
     ]
    }
   ],
   "source": [
    "sector_tickers = {\n",
    "    \"^NSEBANK\": \"Bank\",\n",
    "    \"^CNXAUTO\": \"Auto\",\n",
    "    \"^CNXSC\": \"NIFTY SMALLCAP\",\n",
    "    \"^CNXCONSUM\": \"Consumption\"\n",
    "}\n",
    "price_column = \"Close\"\n",
    "date_column = \"Date\"\n",
    "\n",
    "api = YahooFinance()\n",
    "sp_data = api.get_ticker_data(\"^NSEI\", datetime.datetime(2010, 1, 1), datetime.datetime(2024, 1, 29))"
   ]
  },
  {
   "cell_type": "code",
   "execution_count": null,
   "id": "5715d670-5845-4c88-a0dc-fe7a8b14b921",
   "metadata": {},
   "outputs": [],
   "source": []
  }
 ],
 "metadata": {
  "kernelspec": {
   "display_name": "Python 3 (ipykernel)",
   "language": "python",
   "name": "python3"
  },
  "language_info": {
   "codemirror_mode": {
    "name": "ipython",
    "version": 3
   },
   "file_extension": ".py",
   "mimetype": "text/x-python",
   "name": "python",
   "nbconvert_exporter": "python",
   "pygments_lexer": "ipython3",
   "version": "3.10.12"
  }
 },
 "nbformat": 4,
 "nbformat_minor": 5
}
