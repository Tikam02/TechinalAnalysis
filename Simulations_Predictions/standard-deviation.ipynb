{
 "cells": [
  {
   "cell_type": "markdown",
   "id": "3916a92d-005b-48f2-ad8f-c0e4dbd5a2a9",
   "metadata": {},
   "source": [
    "# Monte Carlo Simulation & Standard Deviation"
   ]
  },
  {
   "cell_type": "markdown",
   "id": "b7c3a7c5-43f2-4ff6-b60f-2723c3f3f367",
   "metadata": {},
   "source": [
    "refs:\n",
    "- https://github.com/anwarcsebd/stock-market-analysis/blob/master/stock-market-analysis.ipynb"
   ]
  },
  {
   "cell_type": "code",
   "execution_count": null,
   "id": "8550e311-8508-45e9-b6f7-801b0bde80ba",
   "metadata": {},
   "outputs": [],
   "source": []
  }
 ],
 "metadata": {
  "kernelspec": {
   "display_name": "Python 3 (ipykernel)",
   "language": "python",
   "name": "python3"
  },
  "language_info": {
   "codemirror_mode": {
    "name": "ipython",
    "version": 3
   },
   "file_extension": ".py",
   "mimetype": "text/x-python",
   "name": "python",
   "nbconvert_exporter": "python",
   "pygments_lexer": "ipython3",
   "version": "3.10.12"
  }
 },
 "nbformat": 4,
 "nbformat_minor": 5
}
