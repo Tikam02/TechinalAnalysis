{
 "cells": [
  {
   "cell_type": "markdown",
   "id": "c4448849-d57f-4e88-9d62-87930fa50adb",
   "metadata": {},
   "source": [
    "## Monte Carlo Simulation - Dice Game"
   ]
  },
  {
   "cell_type": "code",
   "execution_count": 1,
   "id": "031c54ba-e6aa-41db-8aeb-1b543409e4b7",
   "metadata": {},
   "outputs": [],
   "source": [
    "# Importing Packages\n",
    "import matplotlib.pyplot as plt\n",
    "import random"
   ]
  },
  {
   "cell_type": "markdown",
   "id": "c498e8a4-7787-4680-8694-f30f7e48cee8",
   "metadata": {},
   "source": [
    "#### Dice Roll Function\n",
    "Next, we can define a function that will randomize an integer from 1 to 6 for both dice (simulating a roll). The function will also compare the two dice to see if they are the same. The function will return a Boolean variable, same_num, to store if the rolls are the same or not. We will use this value later to determine actions in our code."
   ]
  },
  {
   "cell_type": "code",
   "execution_count": 12,
   "id": "b4fd1109-fb9c-47c9-9980-5dfd6b669241",
   "metadata": {},
   "outputs": [],
   "source": [
    "# Creating Roll Dice Functions\n",
    "def roll_dice():\n",
    "    die_1 = random.randint(1,6)\n",
    "    die_2 = random.randint(1,6)\n",
    "\n",
    "    # Determine if the dices are the same number\n",
    "    if die_1 == die_2:\n",
    "        same_num = True\n",
    "    else:\n",
    "        same_num = False\n",
    "    return same_num"
   ]
  },
  {
   "cell_type": "markdown",
   "id": "3cbfce42-2231-4546-a659-c04630a32307",
   "metadata": {},
   "source": [
    "#### Inputs and Tracking Variables\n",
    "Every Monte Carlo simulation will require you to know what your inputs are and what information you are looking to obtain. We already defined what our inputs are when we described the game. We said our number of rolls per game is 1,000, and the amount the player will be betting each roll is $1. In addition to our input variables, we need to define how many times we want to simulate the game. We can use the num_simulations variable as our Monte Carlo simulation count. The higher we make this number, the more accurate the predicted probability is to its true value."
   ]
  },
  {
   "cell_type": "code",
   "execution_count": 13,
   "id": "0aeeb792-9141-4d98-9687-1a21b7b4a914",
   "metadata": {},
   "outputs": [],
   "source": [
    "# Inputs\n",
    "num_simulations = 10000\n",
    "max_num_rolls = 1000\n",
    "bet = 1\n",
    "\n",
    "# Tracking\n",
    "win_probability = []\n",
    "end_balance = []"
   ]
  },
  {
   "cell_type": "code",
   "execution_count": 14,
   "id": "5c133ddf-2748-4707-91be-a4b8868679e2",
   "metadata": {},
   "outputs": [
    {
     "data": {
      "text/plain": [
       "(0.0, 1000.0)"
      ]
     },
     "execution_count": 14,
     "metadata": {},
     "output_type": "execute_result"
    },
    {
     "data": {
      "image/png": "[encoded data removed]",
      "text/plain": [
       "<Figure size 640x480 with 1 Axes>"
      ]
     },
     "metadata": {},
     "output_type": "display_data"
    }
   ],
   "source": [
    "# Creating Figure for Simulation Balances\n",
    "fig = plt.figure()\n",
    "plt.title(\"Monte Carlo Dice Game [\" + str(num_simulations) + \"simulations]\")\n",
    "plt.xlabel(\"Roll Number\")\n",
    "plt.ylabel(\"Balance [$]\")\n",
    "plt.xlim([0, max_num_rolls])"
   ]
  },
  {
   "cell_type": "markdown",
   "id": "b116b8c3-99e0-41fa-beac-490ca04aa984",
   "metadata": {},
   "source": [
    "## Monte Carlo Simulation\n",
    "In the code below, we have an outer for loop that iterates through our pre-defined number of simulations (10,000 simulations) and a nested while loop that runs each game (1,000 rolls). Before we start each while loop, we initialize the player’s balance as $1,000 (as a list for plotting purposes) and a count for rolls and wins.\n",
    "\n",
    "Our while loop will simulate the game for 1,000 rolls. Inside this loop, we roll the dice and use the Boolean variable returned from roll_dice() to determine the outcome. If the dice are the same number, we add 4 times the bet to the balance list and add a win to the win count. If the dice are different, we subtract the bet from the balance list. At the end of each roll, we add a count to our num_rolls list.\n",
    "\n",
    "Once the number of rolls hits 1,000, we can calculate the player’s win probability as the number of wins divided by the total number of rolls. We can also store the ending balance for the completed game in the tracking variable end_balance. Finally, we can plot the num_rolls and balance variables to add a line to the figure we defined earlier.\n",
    "\n"
   ]
  },
  {
   "cell_type": "code",
   "execution_count": null,
   "id": "5551598a-46f1-45ba-9b14-86aee7ba6d78",
   "metadata": {},
   "outputs": [],
   "source": [
    "# For loop to run for the number of simulations desired\n",
    "for i in range(num_simulations):\n",
    "    balance = [1000]\n",
    "    num_rolls = [0]\n",
    "    num_wins = 0\n",
    "# Run until the player has rolled 1,000 times\n",
    "while num_rolls[-1] < max_num_rolls:\n",
    "    same = roll_dice()\n",
    "# Result if the dice are the same number\n",
    "if same:\n",
    "    balance.append(balance[-1] + 4 * bet)\n",
    "    num_wins += 1\n",
    "# Result if the dice are different numbers\n",
    "else:\n",
    "    balance.append(balance[-1] - bet)\n",
    "\n",
    "num_rolls.append(num_rolls[-1] + 1)"
   ]
  },
  {
   "cell_type": "code",
   "execution_count": null,
   "id": "aee552cc-c4b3-4436-a4cd-ff81c29573f2",
   "metadata": {},
   "outputs": [],
   "source": [
    "# Store tracking variables and add line to figure\n",
    "    win_probability.append(num_wins/num_rolls[-1])\n",
    "    end_balance.append(balance[-1])\n",
    "    plt.plot(num_rolls, balance)"
   ]
  },
  {
   "cell_type": "markdown",
   "id": "a190a99e-6a37-4048-af67-42834494de30",
   "metadata": {},
   "source": [
    "### Obtaining Results\n",
    "The last step is displaying meaningful data from our tracking variables. We can display our figure (shown below) that we created in our for loop. Also, we can calculate and display (shown below) our overall win probability and ending balance by averaging our win_probability and end_balance lists."
   ]
  },
  {
   "cell_type": "code",
   "execution_count": 1,
   "id": "f3250ae0-2b10-4961-9fad-2b0998d4c5bc",
   "metadata": {},
   "outputs": [
    {
     "ename": "NameError",
     "evalue": "name 'plt' is not defined",
     "output_type": "error",
     "traceback": [
      "\u001b[0;31m---------------------------------------------------------------------------\u001b[0m",
      "\u001b[0;31mNameError\u001b[0m                                 Traceback (most recent call last)",
      "Cell \u001b[0;32mIn[1], line 2\u001b[0m\n\u001b[1;32m      1\u001b[0m \u001b[38;5;66;03m# Showing the plot after the simulations are finished\u001b[39;00m\n\u001b[0;32m----> 2\u001b[0m \u001b[43mplt\u001b[49m\u001b[38;5;241m.\u001b[39mshow()\n\u001b[1;32m      4\u001b[0m \u001b[38;5;66;03m# Averaging win probability and end balance\u001b[39;00m\n\u001b[1;32m      5\u001b[0m overall_win_probability \u001b[38;5;241m=\u001b[39m \u001b[38;5;28msum\u001b[39m(win_probability)\u001b[38;5;241m/\u001b[39m\u001b[38;5;28mlen\u001b[39m(win_probability)\n",
      "\u001b[0;31mNameError\u001b[0m: name 'plt' is not defined"
     ]
    }
   ],
   "source": [
    "# Showing the plot after the simulations are finished\n",
    "plt.show()\n",
    "\n",
    "# Averaging win probability and end balance\n",
    "overall_win_probability = sum(win_probability)/len(win_probability)\n",
    "overall_end_balance = sum(end_balance)/len(end_balance)"
   ]
  },
  {
   "cell_type": "code",
   "execution_count": null,
   "id": "759528be-bdae-4a4c-8b55-e88f82590bc1",
   "metadata": {},
   "outputs": [],
   "source": [
    "\n"
   ]
  }
 ],
 "metadata": {
  "kernelspec": {
   "display_name": "Python 3 (ipykernel)",
   "language": "python",
   "name": "python3"
  },
  "language_info": {
   "codemirror_mode": {
    "name": "ipython",
    "version": 3
   },
   "file_extension": ".py",
   "mimetype": "text/x-python",
   "name": "python",
   "nbconvert_exporter": "python",
   "pygments_lexer": "ipython3",
   "version": "3.10.12"
  }
 },
 "nbformat": 4,
 "nbformat_minor": 5
}
