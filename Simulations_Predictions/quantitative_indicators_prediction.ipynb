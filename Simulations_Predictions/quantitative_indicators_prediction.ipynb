{
 "cells": [
  {
   "cell_type": "code",
   "execution_count": null,
   "id": "b470712f-719c-49fa-b5c2-7721f652234a",
   "metadata": {},
   "outputs": [],
   "source": [
    "# quantitative_indicators_prediction"
   ]
  },
  {
   "cell_type": "code",
   "execution_count": 4,
   "id": "1a5b53e8-026b-48b9-831e-1e51f313c9a7",
   "metadata": {},
   "outputs": [
    {
     "name": "stderr",
     "output_type": "stream",
     "text": [
      "[*********************100%%**********************]  1 of 1 completed\n",
      "/home/tikam/stock-market/env3/lib/python3.10/site-packages/sklearn/model_selection/_search.py:318: UserWarning: The total space of parameters 1 is smaller than n_iter=10. Running 1 iterations. For exhaustive searches, use GridSearchCV.\n",
      "  warnings.warn(\n"
     ]
    },
    {
     "name": "stdout",
     "output_type": "stream",
     "text": [
      "Linear Regression MAE: 110.51354277763797\n",
      "Random Forest MAE: 15.444536031087239\n"
     ]
    },
    {
     "name": "stderr",
     "output_type": "stream",
     "text": [
      "/home/tikam/stock-market/env3/lib/python3.10/site-packages/sklearn/model_selection/_search.py:318: UserWarning: The total space of parameters 1 is smaller than n_iter=10. Running 1 iterations. For exhaustive searches, use GridSearchCV.\n",
      "  warnings.warn(\n"
     ]
    },
    {
     "name": "stdout",
     "output_type": "stream",
     "text": [
      "Gradient Boosting MAE: 11.69860657423006\n",
      "K Neighbors MAE: 96.09332275390626\n",
      "MLP Regressor MAE: 652728.6176505628\n",
      "Bagging Regressor MAE: 16.140833536783816\n"
     ]
    },
    {
     "name": "stderr",
     "output_type": "stream",
     "text": [
      "/home/tikam/stock-market/env3/lib/python3.10/site-packages/sklearn/model_selection/_search.py:318: UserWarning: The total space of parameters 1 is smaller than n_iter=10. Running 1 iterations. For exhaustive searches, use GridSearchCV.\n",
      "  warnings.warn(\n",
      "/home/tikam/stock-market/env3/lib/python3.10/site-packages/sklearn/model_selection/_search.py:318: UserWarning: The total space of parameters 1 is smaller than n_iter=10. Running 1 iterations. For exhaustive searches, use GridSearchCV.\n",
      "  warnings.warn(\n",
      "/home/tikam/stock-market/env3/lib/python3.10/site-packages/sklearn/model_selection/_search.py:318: UserWarning: The total space of parameters 1 is smaller than n_iter=10. Running 1 iterations. For exhaustive searches, use GridSearchCV.\n",
      "  warnings.warn(\n"
     ]
    },
    {
     "name": "stdout",
     "output_type": "stream",
     "text": [
      "AdaBoost Regressor MAE: 11.86274398319307\n"
     ]
    },
    {
     "data": {
      "image/png": "[encoded data removed]",
      "text/plain": [
       "<Figure size 640x480 with 1 Axes>"
      ]
     },
     "metadata": {},
     "output_type": "display_data"
    }
   ],
   "source": [
    "import pandas as pd\n",
    "import datetime\n",
    "import yfinance as yf\n",
    "from sklearn.model_selection import train_test_split, RandomizedSearchCV\n",
    "from sklearn.linear_model import LinearRegression\n",
    "from sklearn.ensemble import RandomForestRegressor, GradientBoostingRegressor, BaggingRegressor, AdaBoostRegressor\n",
    "from sklearn.neighbors import KNeighborsRegressor\n",
    "from sklearn.neural_network import MLPRegressor\n",
    "from sklearn.preprocessing import MinMaxScaler\n",
    "from sklearn.metrics import mean_absolute_error\n",
    "import matplotlib.pyplot as plt\n",
    "\n",
    "# Ticker and date range for stock data\n",
    "ticker = 'HDFCBANK.NS'\n",
    "start_date = datetime.datetime.now() - datetime.timedelta(days=365)\n",
    "end_date = datetime.date.today()\n",
    "\n",
    "# Retrieve stock data using yfinance\n",
    "df = yf.download(ticker, start=start_date, end=end_date)\n",
    "\n",
    "# Calculate additional features (SMA, Bollinger Bands, Donchian Channels)\n",
    "for sma_period in [5, 10, 20, 50, 100, 200]:\n",
    "    df[f'SMA_{sma_period}'] = df['Close'].rolling(sma_period).mean()\n",
    "\n",
    "# Add Bollinger Bands\n",
    "for band in [10, 20]:\n",
    "    df[f'BollingerBand_Up_{band}_2'] = df['Close'].rolling(band).mean() + 2 * df['Close'].rolling(band).std()\n",
    "    df[f'BollingerBand_Down_{band}_2'] = df['Close'].rolling(band).mean() - 2 * df['Close'].rolling(band).std()\n",
    "\n",
    "# Add Donchian Channels\n",
    "for channel_period in [5, 10, 20, 50, 100, 200]:\n",
    "    df[f'Donchian_Channel_Up_{channel_period}'] = df['High'].rolling(channel_period).max()\n",
    "    df[f'Donchian_Channel_Down_{channel_period}'] = df['Low'].rolling(channel_period).min()\n",
    "\n",
    "# Prepare data for models\n",
    "newdata = df[['Close']].join(df.shift(1), rsuffix='_shifted')\n",
    "newdata['target'] = newdata['Close'].shift(-5)\n",
    "newdata.dropna(inplace=True)\n",
    "\n",
    "# Split data into features and target variable\n",
    "X = newdata.drop('target', axis=1)\n",
    "Y = newdata['target']\n",
    "X_train, X_test, y_train, y_test = train_test_split(X, Y, test_size=0.3, random_state=42)\n",
    "\n",
    "# Train and compare multiple models\n",
    "models = {\n",
    "    'Linear Regression': LinearRegression(),\n",
    "    'Random Forest': RandomForestRegressor(),\n",
    "    'Gradient Boosting': GradientBoostingRegressor(),\n",
    "    'K Neighbors': KNeighborsRegressor(),\n",
    "    'MLP Regressor': MLPRegressor(max_iter=5000),\n",
    "    'Bagging Regressor': BaggingRegressor(),\n",
    "    'AdaBoost Regressor': AdaBoostRegressor()\n",
    "}\n",
    "\n",
    "# Train models and evaluate their performance\n",
    "for name, model in models.items():\n",
    "    if name in ['Random Forest', 'Gradient Boosting', 'MLP Regressor', 'Bagging Regressor', 'AdaBoost Regressor']:\n",
    "        grid_search = RandomizedSearchCV(model, {}, cv=5, scoring=\"neg_mean_absolute_error\")\n",
    "        grid_search.fit(X_train, y_train)\n",
    "        model = grid_search.best_estimator_\n",
    "    else:\n",
    "        model.fit(X_train, y_train)\n",
    "    \n",
    "    y_pred = model.predict(X_test)\n",
    "    mae = mean_absolute_error(y_test, y_pred)\n",
    "    print(f\"{name} MAE: {mae}\")\n",
    "\n",
    "# Plot predictions of the best model\n",
    "best_model = LinearRegression()\n",
    "best_model.fit(X_train, y_train)\n",
    "y_pred = best_model.predict(X_test)\n",
    "plt.scatter(y_test, y_pred)\n",
    "plt.xlabel(\"Actual Prices\")\n",
    "plt.ylabel(\"Predicted Prices\")\n",
    "plt.title(f\"Predictions by {best_model.__class__.__name__}\")\n",
    "plt.show()\n"
   ]
  },
  {
   "cell_type": "code",
   "execution_count": null,
   "id": "49020378-3879-4ca1-8c40-e76578714d18",
   "metadata": {},
   "outputs": [],
   "source": []
  }
 ],
 "metadata": {
  "kernelspec": {
   "display_name": "Python 3 (ipykernel)",
   "language": "python",
   "name": "python3"
  },
  "language_info": {
   "codemirror_mode": {
    "name": "ipython",
    "version": 3
   },
   "file_extension": ".py",
   "mimetype": "text/x-python",
   "name": "python",
   "nbconvert_exporter": "python",
   "pygments_lexer": "ipython3",
   "version": "3.10.12"
  }
 },
 "nbformat": 4,
 "nbformat_minor": 5
}
