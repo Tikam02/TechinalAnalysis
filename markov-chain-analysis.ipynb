{
 "cells": [
  {
   "cell_type": "markdown",
   "id": "e96105d9-9c36-45dc-b09a-337054eee8a6",
   "metadata": {},
   "source": [
    "# Markov Chain Analysis"
   ]
  },
  {
   "cell_type": "markdown",
   "id": "3b587796-2857-4295-a24a-a102938a3b88",
   "metadata": {},
   "source": [
    "refs:\n",
    "- https://letianzj.github.io/hidden-markov-chain.html\n",
    "- https://letianzj.github.io/mcmc-linear-regression.html\n",
    "- https://medium.datadriveninvestor.com/making-money-with-mean-reversion-algorithmic-trading-a-practical-approach-67a6d22839bf\n"
   ]
  },
  {
   "cell_type": "code",
   "execution_count": null,
   "id": "7bf37a9b-47f7-4875-981b-07b8ffe8bffa",
   "metadata": {},
   "outputs": [],
   "source": []
  }
 ],
 "metadata": {
  "kernelspec": {
   "display_name": "Python 3 (ipykernel)",
   "language": "python",
   "name": "python3"
  },
  "language_info": {
   "codemirror_mode": {
    "name": "ipython",
    "version": 3
   },
   "file_extension": ".py",
   "mimetype": "text/x-python",
   "name": "python",
   "nbconvert_exporter": "python",
   "pygments_lexer": "ipython3",
   "version": "3.10.12"
  }
 },
 "nbformat": 4,
 "nbformat_minor": 5
}
