{
 "cells": [
  {
   "cell_type": "markdown",
   "id": "6c6bcef0-d9ef-49e2-b93e-9dcfeb9c5f7d",
   "metadata": {},
   "source": [
    "# Mean Reversal Strategy"
   ]
  },
  {
   "cell_type": "markdown",
   "id": "3ae9d21b-f608-47e9-b1f1-5b4c8af243c8",
   "metadata": {},
   "source": [
    "refs:\n",
    "- https://medium.com/@polanitzer/mean-reversion-process-with-drift-in-python-simulate-the-future-distribution-of-consumer-price-25f5054ffc27\n",
    "- https://medium.com/@arjunprakash027/markov-chains-a-powerful-tool-for-modeling-sequential-data-202ee8e00b72\n",
    "- https://ghannami.com/exploring-markov-chains-in-stock-market-trends/\n",
    "- https://amit-ghosh.medium.com/find-the-equilibrium-matrix-in-markov-chain-using-python-in-indian-stock-market-f9f3135052ee\n",
    "- https://medium.com/@basics.machinelearning/mean-reversion-trading-strategy-using-python-9c46d02cfbdf\n",
    "- https://thepythonlab.medium.com/implementing-mean-reversion-strategies-in-algorithmic-trading-2ee2099589fe\n",
    "- https://medium.com/analytics-vidhya/mean-reversion-trading-simplified-in-python-5939a71134b0\n",
    "- https://wire.insiderfinance.io/pair-trading-mean-reversion-strategy-using-quant-and-data-science-d864445a2d56\n",
    "- https://www.machinelearningplus.com/time-series/augmented-dickey-fuller-test/?source=post_page-----d864445a2d56--------------------------------\n",
    "- https://www.moneycontrol.com/news/business/markets/algorithmic-trading-strategies-pair-trading-mean-reversion-strategies-4800281.html?source=post_page-----d864445a2d56--------------------------------\n",
    "- https://medium.com/@polanitzer/mean-reversion-process-with-drift-in-python-simulate-the-future-distribution-of-consumer-price-25f5054ffc27\n",
    "- https://algocraft.xyz/how-to-get-131-return-with-mean-reversion-trading-strategy-from-stock-selection-to-backtesting-c623870adf31\n",
    "- https://medium.com/quant-factory/building-a-mean-reverting-algorithmic-trading-strategy-using-cointegration-in-python-a17a17dc3c24"
   ]
  },
  {
   "cell_type": "code",
   "execution_count": null,
   "id": "e850c3e4-2657-45e4-b8a5-d778b9481185",
   "metadata": {},
   "outputs": [],
   "source": []
  },
  {
   "cell_type": "code",
   "execution_count": null,
   "id": "d59bf247-1d4a-4e3d-99ca-f378edf1e994",
   "metadata": {},
   "outputs": [],
   "source": []
  }
 ],
 "metadata": {
  "kernelspec": {
   "display_name": "Python 3 (ipykernel)",
   "language": "python",
   "name": "python3"
  },
  "language_info": {
   "codemirror_mode": {
    "name": "ipython",
    "version": 3
   },
   "file_extension": ".py",
   "mimetype": "text/x-python",
   "name": "python",
   "nbconvert_exporter": "python",
   "pygments_lexer": "ipython3",
   "version": "3.10.12"
  }
 },
 "nbformat": 4,
 "nbformat_minor": 5
}
