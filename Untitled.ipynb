{
 "cells": [
  {
   "cell_type": "markdown",
   "id": "6b2ae5d6-a799-41d5-b368-210a2da74b89",
   "metadata": {},
   "source": [
    "# Stock Market Data Visualization Using Mplfinance"
   ]
  },
  {
   "cell_type": "code",
   "execution_count": null,
   "id": "cc082196-3279-44ad-a8f7-bc594f1281df",
   "metadata": {},
   "outputs": [],
   "source": []
  }
 ],
 "metadata": {
  "kernelspec": {
   "display_name": "Python 3 (ipykernel)",
   "language": "python",
   "name": "python3"
  },
  "language_info": {
   "codemirror_mode": {
    "name": "ipython",
    "version": 3
   },
   "file_extension": ".py",
   "mimetype": "text/x-python",
   "name": "python",
   "nbconvert_exporter": "python",
   "pygments_lexer": "ipython3",
   "version": "3.10.12"
  }
 },
 "nbformat": 4,
 "nbformat_minor": 5
}
