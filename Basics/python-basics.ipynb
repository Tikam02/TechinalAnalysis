{
 "cells": [
  {
   "cell_type": "code",
   "execution_count": 1,
   "id": "77c060b8-2f6f-44f6-b10e-f79dffb5aa17",
   "metadata": {},
   "outputs": [],
   "source": [
    "# Python Class Basics\n"
   ]
  },
  {
   "cell_type": "markdown",
   "id": "b1099f70-fd28-4ca1-9856-fe4e59a6d491",
   "metadata": {},
   "source": [
    "Python uses a “class-based” approach, similar to C++ and Java, to define and create its objects. The “class” mentioned in the previous sentence is a blueprint that would define an object inside a program."
   ]
  },
  {
   "cell_type": "code",
   "execution_count": 2,
   "id": "0df49675-f574-4535-b621-02a86e4b750c",
   "metadata": {},
   "outputs": [],
   "source": [
    "# Creation of a class.\n",
    "class Stock:\n",
    "    pass"
   ]
  },
  {
   "cell_type": "markdown",
   "id": "ee87a525-c055-4f74-902d-f12f322e8392",
   "metadata": {},
   "source": [
    "Whenever an object is created through a class, we refer to it as an “instance” of that class. The data stored in variables inside an object is called an “attribute” of an object, and every functionality contained in an object is contained within a “method” of an object.\n",
    "\n",
    "- A blueprint can, of course, create as many instances as needed.\n",
    "\n"
   ]
  },
  {
   "cell_type": "code",
   "execution_count": 6,
   "id": "b561d0f9-d333-423d-a648-f0c2a568c543",
   "metadata": {},
   "outputs": [
    {
     "ename": "TypeError",
     "evalue": "Stock.__init__() missing 4 required positional arguments: 'symbol', 'company_name', 'price_per_share', and 'num_shares'",
     "output_type": "error",
     "traceback": [
      "\u001b[0;31m---------------------------------------------------------------------------\u001b[0m",
      "\u001b[0;31mTypeError\u001b[0m                                 Traceback (most recent call last)",
      "Cell \u001b[0;32mIn[6], line 10\u001b[0m\n\u001b[1;32m      7\u001b[0m         \u001b[38;5;28mself\u001b[39m\u001b[38;5;241m.\u001b[39mprice_per_share \u001b[38;5;241m=\u001b[39m price_per_share\n\u001b[1;32m      9\u001b[0m \u001b[38;5;66;03m# create a Stock() intance.\u001b[39;00m\n\u001b[0;32m---> 10\u001b[0m apple \u001b[38;5;241m=\u001b[39m \u001b[43mStock\u001b[49m\u001b[43m(\u001b[49m\u001b[43m)\u001b[49m\n\u001b[1;32m     13\u001b[0m \u001b[38;5;66;03m# This defalt attribute will retun the name of its class \"Stock\"\u001b[39;00m\n\u001b[1;32m     14\u001b[0m apple\u001b[38;5;241m.\u001b[39m\u001b[38;5;18m__name__\u001b[39m\n",
      "\u001b[0;31mTypeError\u001b[0m: Stock.__init__() missing 4 required positional arguments: 'symbol', 'company_name', 'price_per_share', and 'num_shares'"
     ]
    }
   ],
   "source": [
    "# creation of class\n",
    "class Stock:\n",
    "    #intialize attributes for the stock class\n",
    "    def __init__(self,symbol,company_name,price_per_share,num_shares):\n",
    "        self.symbol = symbol\n",
    "        self.company_name = company_name\n",
    "        self.price_per_share = price_per_share\n",
    "\n",
    "# create a Stock() intance.\n",
    "apple = Stock()\n",
    "\n",
    "\n",
    "# This defalt attribute will retun the name of its class \"Stock\"\n",
    "apple.__name__\n",
    "\n",
    "# This function will return the type of the apple object.\n",
    "type(apple)\n",
    "\n",
    "#This function will return false because apple is an instance of \"stock\".\n",
    "# and no of the str class\n",
    "isinstance(apple, str)"
   ]
  },
  {
   "cell_type": "markdown",
   "id": "74b2315c-bfdf-47ca-9f45-cba1cd504cc3",
   "metadata": {},
   "source": [
    "**Defaults**\n",
    "\n",
    "A known fact about the Python programming language is that everything in it is an object, specifically an object of type “type”, also called a “metaclass”. This means the class of all objects in Python is called “type”.\n",
    "\n",
    "When Python creates an object, by default, it gives it certain attributes and methods. Like the “__name__” attribute, which, when called, returns the name of its class."
   ]
  },
  {
   "cell_type": "markdown",
   "id": "321d3324-435f-4bd5-8433-838af6e8d8b6",
   "metadata": {},
   "source": [
    "**_ _init_ _**\n",
    "\n",
    "When a class is created, the __init__ attribute is called automatically and used as a class constructor. It is used to initialize the attributes of an object when the object is created."
   ]
  },
  {
   "cell_type": "code",
   "execution_count": 10,
   "id": "ca14b240-3119-47e7-be62-857c53f86443",
   "metadata": {},
   "outputs": [],
   "source": [
    "class Stock:\n",
    "\n",
    "    def __init__(self,symbol, company_name, price_per_share, num_shares):\n",
    "        self.symbol = symbol\n",
    "        self.company_name = company_name\n",
    "        self.price_per_share = price_per_share\n",
    "        self.num_shares = num_shares\n",
    "\n",
    "\n",
    "    def calculate_market_value(self):\n",
    "        return self.price_per_share*self.num_shares\n",
    "\n",
    "    def display_info(self):\n",
    "        print(f\"Symbol: {self.symbol}\")\n",
    "        print(f\"Company Name: {self.company_name}\")\n",
    "        print(f\"Price Per Share: ${self.price_per_share:.2f}\")\n",
    "        print(f\"Number Of Shares: {self.num_shares}\")\n",
    "        print(f\"Market Value: ${self.calculate_market_value():.2f}\")\n",
    "\n",
    "\n",
    "apple_stock = Stock(\"AAPL\",\"Apple Inc.\", 150.20,100)\n",
    "\n"
   ]
  },
  {
   "cell_type": "code",
   "execution_count": 11,
   "id": "32cf6971-3499-4003-88b3-1016572e4dd5",
   "metadata": {},
   "outputs": [
    {
     "name": "stdout",
     "output_type": "stream",
     "text": [
      "Symbol: AAPL\n",
      "Company Name: Apple Inc.\n",
      "Price Per Share: $150.20\n",
      "Number Of Shares: 100\n",
      "Market Value: $15020.00\n"
     ]
    }
   ],
   "source": [
    "apple_stock.display_info()"
   ]
  },
  {
   "cell_type": "markdown",
   "id": "cc98cd81-1e4b-4cda-a3bd-b81e67feac2f",
   "metadata": {},
   "source": [
    "### **kwargs\n",
    "\n",
    "“**kwargs” is a special syntax used in function definitions to allow a function to accept an unidentified variable number of keyword arguments. The term “kwargs” is short for “keyword arguments”.\n",
    "\n"
   ]
  },
  {
   "cell_type": "code",
   "execution_count": 14,
   "id": "f2925771-1ed3-4686-8d41-0a947a0aec98",
   "metadata": {},
   "outputs": [
    {
     "name": "stdout",
     "output_type": "stream",
     "text": [
      "Symbol: AAPL\n",
      "Company Name: Apple Inc.\n",
      "Price Per Share: $150.50\n",
      "Number of Shares: 100\n",
      "Market Value: $15050.00\n"
     ]
    }
   ],
   "source": [
    "class Stock:\n",
    "\n",
    "    def __init__(self, **kwargs):\n",
    "        self.symbol = kwargs.get(\"symbol\",\"\")\n",
    "        self.company_name = kwargs.get(\"company_name\", \"\")\n",
    "        self.price_per_share = kwargs.get(\"price_per_share\",0.0)\n",
    "        self.num_shares = kwargs.get(\"num_shares\",0)\n",
    "\n",
    "\n",
    "    \n",
    "        \n",
    "    def calculate_market_value(self):\n",
    "        return self.price_per_share * self.num_shares\n",
    "\n",
    "    # Display information about the stock\n",
    "    def display_info(self):\n",
    "        print(f\"Symbol: {self.symbol}\")\n",
    "        print(f\"Company Name: {self.company_name}\")\n",
    "        print(f\"Price Per Share: ${self.price_per_share:.2f}\")\n",
    "        print(f\"Number of Shares: {self.num_shares}\")\n",
    "        print(f\"Market Value: ${self.calculate_market_value():.2f}\")\n",
    "\n",
    "\n",
    "\n",
    "\n",
    "\n",
    "# Creating an instance of the Stock class with keyword arguments\n",
    "apple_stock = Stock(\n",
    "    symbol=\"AAPL\",\n",
    "    company_name=\"Apple Inc.\",\n",
    "    price_per_share=150.50,\n",
    "    num_shares=100\n",
    ")\n",
    "\n",
    "# Displaying information about the stock\n",
    "apple_stock.display_info()"
   ]
  },
  {
   "cell_type": "markdown",
   "id": "f50ae66e-3560-44a6-9a73-3f56d3c2c7a4",
   "metadata": {},
   "source": [
    "--------------\n",
    "\n",
    "The above example uses the “get()” method of a dictionary (in this case, the kwargs dictionary) to retrieve a value associated with a specified key. If the key is found in the dictionary, it returns the corresponding value, and if the key is not found, it returns a default value.\n",
    "\n",
    "Similarly, “*args” allows a function to accept any number of positional arguments beyond those explicitly defined. Contrary to “**kwargs”, which is received as a tuple, “*args” is received as a dictionary.\n",
    "\n",
    "----------------\n"
   ]
  },
  {
   "cell_type": "markdown",
   "id": "3c6938d2-7c98-4020-bb75-787a40c50ff2",
   "metadata": {},
   "source": [
    "**Class Attributes**\n",
    "  \n",
    "Class attributes refer to variables that are shared by all instances of a class. These attributes are defined within the class body and outside any class method. Because class attributes are shared, they can be accessed using the class name itself or instances of the class. Class attributes are been defined first during a class creation, followed by the constructor method and all the rest of the methods."
   ]
  },
  {
   "cell_type": "code",
   "execution_count": 18,
   "id": "8f971d02-e5c6-4cfe-84e3-69b03d3bd669",
   "metadata": {},
   "outputs": [
    {
     "ename": "NameError",
     "evalue": "name 'calculate_tax' is not defined",
     "output_type": "error",
     "traceback": [
      "\u001b[0;31m---------------------------------------------------------------------------\u001b[0m",
      "\u001b[0;31mNameError\u001b[0m                                 Traceback (most recent call last)",
      "Cell \u001b[0;32mIn[18], line 18\u001b[0m\n\u001b[1;32m     16\u001b[0m \u001b[38;5;28;01mif\u001b[39;00m \u001b[38;5;18m__name__\u001b[39m \u001b[38;5;241m==\u001b[39m \u001b[38;5;124m\"\u001b[39m\u001b[38;5;124m__main__\u001b[39m\u001b[38;5;124m\"\u001b[39m:\n\u001b[1;32m     17\u001b[0m     trade \u001b[38;5;241m=\u001b[39m Market(\u001b[38;5;241m1000\u001b[39m)\n\u001b[0;32m---> 18\u001b[0m     \u001b[38;5;28mprint\u001b[39m(\u001b[38;5;124mf\u001b[39m\u001b[38;5;124m\"\u001b[39m\u001b[38;5;124mTax on trade: $\u001b[39m\u001b[38;5;132;01m{\u001b[39;00m\u001b[43mcalculate_tax\u001b[49m()\u001b[38;5;132;01m:\u001b[39;00m\u001b[38;5;124m.2f\u001b[39m\u001b[38;5;132;01m}\u001b[39;00m\u001b[38;5;124m\"\u001b[39m)\n",
      "\u001b[0;31mNameError\u001b[0m: name 'calculate_tax' is not defined"
     ]
    }
   ],
   "source": [
    "class Market:\n",
    "    # class attribute for a standard market tax rate.\n",
    "    tax_rate = 0.02\n",
    "\n",
    "    def __init__(self,trade_value):\n",
    "        self.trade_value = trade_value\n",
    "\n",
    " \n",
    "    def calculate_tax(self):\n",
    "        \"\"\"Calculate tax for a given trade.\"\"\"\n",
    "        return self.trade_value * Market.tax_rate # Calling the class attribute.\n",
    "\n",
    "\n",
    "if __name__ == \"__main__\":\n",
    "    trade = Market(1000)\n",
    "    print(f\"Tax on trade: ${calculate_tax():.2f}\")"
   ]
  },
  {
   "cell_type": "markdown",
   "id": "71a53b5c-1cea-4587-aed4-b8db3f99c173",
   "metadata": {},
   "source": [
    "The issue in your code is that you are trying to call the calculate_tax method without referencing it correctly. Since it is a method of the Market class, you need to call it on an instance of the class, like trade.calculate_tax(). Here's the corrected code:"
   ]
  },
  {
   "cell_type": "code",
   "execution_count": 19,
   "id": "910c18f3-79e2-4fd7-ae3e-f223906d6819",
   "metadata": {},
   "outputs": [
    {
     "name": "stdout",
     "output_type": "stream",
     "text": [
      "Tax on trade: $20.00\n"
     ]
    }
   ],
   "source": [
    "class Market:\n",
    "    # class attribute for a standard market tax rate.\n",
    "    tax_rate = 0.02\n",
    "\n",
    "    def __init__(self, trade_value):\n",
    "        self.trade_value = trade_value\n",
    "\n",
    "    def calculate_tax(self):\n",
    "        \"\"\"Calculate tax for a given trade.\"\"\"\n",
    "        return self.trade_value * Market.tax_rate  # Calling the class attribute.\n",
    "\n",
    "\n",
    "if __name__ == \"__main__\":\n",
    "    trade = Market(1000)\n",
    "    print(f\"Tax on trade: ${trade.calculate_tax():.2f}\")"
   ]
  },
  {
   "cell_type": "markdown",
   "id": "8b7cfefe-ee31-43e2-a770-ca8d2daff736",
   "metadata": {},
   "source": [
    "-------------------------------\n",
    "**Encapsulation**\n",
    "  \n",
    "Encapsulation is the concept of bundling attributes and methods into a single class and restricting direct access to some of the object’s components.\n",
    "\n",
    "This is generally done to prevent accidental manipulation of the data, enforce the integrity of the object, and hide the complexity from the user.\n",
    "\n",
    "In Python, encapsulation is implemented by using private (in Python are been referred to as “non-public” since is more of an annotation) attributes and methods, typically denoted by a single underscore “_” or, in special cases, a double underscore “__”. The latter makes the private attributes and methods even more difficult to access.\n",
    "\n",
    "-------------------------------------------"
   ]
  },
  {
   "cell_type": "code",
   "execution_count": 22,
   "id": "7022491d-bfaf-438f-acb8-2745067a09e0",
   "metadata": {},
   "outputs": [
    {
     "name": "stdout",
     "output_type": "stream",
     "text": [
      "$500 deposited. new Balance: $1500.00\n",
      "Current Balance: $1500.00\n"
     ]
    }
   ],
   "source": [
    "class InvestmentAccount:\n",
    "\n",
    "    def __init__(self, initial_amount):\n",
    "        self.__balance = initial_amount\n",
    "\n",
    "    def deposit(self,amount):\n",
    "        \"\"\"deposit money into the account.\"\"\"\n",
    "        if amount > 0:\n",
    "            self.__balance +=amount\n",
    "            return f\"${amount} deposited. new Balance: ${self.__balance:.2f}\"\n",
    "\n",
    "    def get_balance(self):\n",
    "        \"\"\"Return the account balance.\"\"\"\n",
    "        return f\"Current Balance: ${self.__balance:.2f}\"\n",
    "\n",
    "if __name__== \"__main__\":\n",
    "    # create an investment account with an intial balance\n",
    "    account = InvestmentAccount(1000)\n",
    "\n",
    "    print(account.deposit(500))\n",
    "    print(account.get_balance())"
   ]
  },
  {
   "cell_type": "markdown",
   "id": "7d291faf-7d1f-4e2e-9c78-a0e50e8ef989",
   "metadata": {},
   "source": [
    "---------\n",
    "Note: The single underscore “_” attributes and method can be accessed by typing “._”\n",
    "\n",
    "Similarly, attributes and methods with double underscore “__” can be accessed by typing “___”\n",
    "\n",
    "In theory, these attributes and methods are encapsulated to remain private, and the above-mentioned naming convention should be used only in very special cases.\n",
    "\n",
    "-----------------------"
   ]
  },
  {
   "cell_type": "markdown",
   "id": "a334b22d-10d8-430a-9a2e-bb2ad71667b4",
   "metadata": {},
   "source": [
    "### Decorators\n",
    "\n",
    "In Python, a decorator is a design pattern that allows you to add new functionality to an existing object without modifying its structure. Decorators are usually called before the definition of the function you want to decorate.\n",
    "\n",
    "Decorators are typically implemented as functions, though they can also be implemented as classes. The “@” symbol is syntactic sugar (i.e., make things easier to read or to express) that is used to apply a decorator to a function or method.\n",
    "\n",
    "Without the “@” symbol, a decorator would be as follows..\n",
    "\n"
   ]
  },
  {
   "cell_type": "code",
   "execution_count": 24,
   "id": "380f7516-0c66-47f4-a47d-7ec0b10c9fe7",
   "metadata": {},
   "outputs": [],
   "source": [
    "def my_decorator(func):\n",
    "    def wrapper():\n",
    "        print(\"something is happening before the function is called.\")\n",
    "        func()\n",
    "        print(\"Something is happening after the function is called.\")\n",
    "    return wrapper\n",
    "\n",
    "    def say_hello():\n",
    "        print(\"Hello\")\n",
    "\n",
    "    say_hello = my_decorator(say_hello)"
   ]
  },
  {
   "cell_type": "code",
   "execution_count": 25,
   "id": "85200de1-7665-44c7-bfd4-37df84691203",
   "metadata": {},
   "outputs": [],
   "source": [
    "def my_decorator(func):\n",
    "    def wrapper():\n",
    "        print(\"something is happening before the function is called.\")\n",
    "        func()\n",
    "        print(\"Something is happening after the function is called.\")\n",
    "    return wrapper\n",
    "\n",
    "    @my_decorator\n",
    "    def say_hell0():\n",
    "        print(\"hello\")"
   ]
  },
  {
   "cell_type": "code",
   "execution_count": null,
   "id": "eefd4e73-26c4-4300-b8ce-ad8c278c2787",
   "metadata": {},
   "outputs": [],
   "source": []
  }
 ],
 "metadata": {
  "kernelspec": {
   "display_name": "Python 3 (ipykernel)",
   "language": "python",
   "name": "python3"
  },
  "language_info": {
   "codemirror_mode": {
    "name": "ipython",
    "version": 3
   },
   "file_extension": ".py",
   "mimetype": "text/x-python",
   "name": "python",
   "nbconvert_exporter": "python",
   "pygments_lexer": "ipython3",
   "version": "3.10.12"
  }
 },
 "nbformat": 4,
 "nbformat_minor": 5
}
