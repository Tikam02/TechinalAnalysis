{
 "cells": [
  {
   "cell_type": "markdown",
   "id": "450f6a87-7095-438b-961a-efe3a63d39e9",
   "metadata": {},
   "source": [
    "# System - 01 : Optimized MA withRSI"
   ]
  },
  {
   "cell_type": "markdown",
   "id": "33b11d8b-c804-4667-a1a0-1c6db7b2f54b",
   "metadata": {},
   "source": [
    "ref:\n",
    "- https://medium.com/@facujallia/maximizing-profitability-of-moving-average-crossover-trading-strategy-what-moving-averages-to-use-e5cd70085690"
   ]
  },
  {
   "cell_type": "code",
   "execution_count": null,
   "id": "fa2b88bc-1f76-4937-a0f1-c517d45e5215",
   "metadata": {},
   "outputs": [],
   "source": []
  }
 ],
 "metadata": {
  "kernelspec": {
   "display_name": "Python 3 (ipykernel)",
   "language": "python",
   "name": "python3"
  },
  "language_info": {
   "codemirror_mode": {
    "name": "ipython",
    "version": 3
   },
   "file_extension": ".py",
   "mimetype": "text/x-python",
   "name": "python",
   "nbconvert_exporter": "python",
   "pygments_lexer": "ipython3",
   "version": "3.10.12"
  }
 },
 "nbformat": 4,
 "nbformat_minor": 5
}
