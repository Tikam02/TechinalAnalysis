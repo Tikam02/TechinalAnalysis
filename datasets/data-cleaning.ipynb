{
 "cells": [
  {
   "cell_type": "markdown",
   "id": "d95b208a-6db6-4de8-a5be-ac5e5269e72e",
   "metadata": {},
   "source": [
    "## Download list of stocks in NIFTY50"
   ]
  },
  {
   "cell_type": "code",
   "execution_count": 1,
   "id": "f179466d-7ea3-4694-a041-e03508d061c9",
   "metadata": {},
   "outputs": [
    {
     "name": "stderr",
     "output_type": "stream",
     "text": [
      "[*********************100%%**********************]  50 of 50 completed\n",
      "\n",
      "48 Failed downloads:\n",
      "['ITC']: Exception('%ticker%: No price data found, symbol may be delisted (1d 2023-01-01 -> 2024-01-01)')\n",
      "['DRREDDY', 'EICHERMOT', 'POWERGRID', 'HINDALCO', 'HEROMOTOCO', 'SBIN', 'UPL', 'ADANIENT', 'WIPRO', 'KOTAKBANK', 'ASIANPAINT', 'TATACONSUM', 'INDUSINDBK', 'DIVISLAB', 'MARUTI', 'ONGC', 'NTPC', 'AXISBANK', 'TECHM', 'BHARTIARTL', 'TATAMOTORS', 'NESTLEIND', 'TATASTEEL', 'ICICIBANK', 'TITAN', 'BRITANNIA', 'BAJAJFINSV', 'BAJFINANCE', 'GRASIM', 'M&M', 'BAJAJ-AUTO', 'CIPLA', 'LTIM', 'JSWSTEEL', 'BPCL', 'HDFCBANK', 'ULTRACEMCO', 'HCLTECH', 'SUNPHARMA', 'ADANIPORTS', 'HDFCLIFE', 'RELIANCE', 'APOLLOHOSP', 'COALINDIA', 'HINDUNILVR', 'SBILIFE']: Exception('%ticker%: No timezone found, symbol may be delisted')\n",
      "['LT']: Exception(\"%ticker%: Period 'max' is invalid, must be one of ['1d', '5d']\")\n"
     ]
    },
    {
     "name": "stdout",
     "output_type": "stream",
     "text": [
      "           Adj Close                                                       \\\n",
      "            ADANIENT ADANIPORTS APOLLOHOSP ASIANPAINT AXISBANK BAJAJ-AUTO   \n",
      "Date                                                                        \n",
      "2023-01-03       NaN        NaN        NaN        NaN      NaN        NaN   \n",
      "2023-01-04       NaN        NaN        NaN        NaN      NaN        NaN   \n",
      "2023-01-05       NaN        NaN        NaN        NaN      NaN        NaN   \n",
      "2023-01-06       NaN        NaN        NaN        NaN      NaN        NaN   \n",
      "2023-01-09       NaN        NaN        NaN        NaN      NaN        NaN   \n",
      "...              ...        ...        ...        ...      ...        ...   \n",
      "2023-12-22       NaN        NaN        NaN        NaN      NaN        NaN   \n",
      "2023-12-26       NaN        NaN        NaN        NaN      NaN        NaN   \n",
      "2023-12-27       NaN        NaN        NaN        NaN      NaN        NaN   \n",
      "2023-12-28       NaN        NaN        NaN        NaN      NaN        NaN   \n",
      "2023-12-29       NaN        NaN        NaN        NaN      NaN        NaN   \n",
      "\n",
      "                                                  ...    Volume             \\\n",
      "           BAJAJFINSV BAJFINANCE BHARTIARTL BPCL  ... SUNPHARMA TATACONSUM   \n",
      "Date                                              ...                        \n",
      "2023-01-03        NaN        NaN        NaN  NaN  ...       NaN        NaN   \n",
      "2023-01-04        NaN        NaN        NaN  NaN  ...       NaN        NaN   \n",
      "2023-01-05        NaN        NaN        NaN  NaN  ...       NaN        NaN   \n",
      "2023-01-06        NaN        NaN        NaN  NaN  ...       NaN        NaN   \n",
      "2023-01-09        NaN        NaN        NaN  NaN  ...       NaN        NaN   \n",
      "...               ...        ...        ...  ...  ...       ...        ...   \n",
      "2023-12-22        NaN        NaN        NaN  NaN  ...       NaN        NaN   \n",
      "2023-12-26        NaN        NaN        NaN  NaN  ...       NaN        NaN   \n",
      "2023-12-27        NaN        NaN        NaN  NaN  ...       NaN        NaN   \n",
      "2023-12-28        NaN        NaN        NaN  NaN  ...       NaN        NaN   \n",
      "2023-12-29        NaN        NaN        NaN  NaN  ...       NaN        NaN   \n",
      "\n",
      "                                                                          \n",
      "           TATAMOTORS TATASTEEL     TCS TECHM TITAN ULTRACEMCO UPL WIPRO  \n",
      "Date                                                                      \n",
      "2023-01-03        NaN       NaN  308700   NaN   NaN        NaN NaN   NaN  \n",
      "2023-01-04        NaN       NaN  350700   NaN   NaN        NaN NaN   NaN  \n",
      "2023-01-05        NaN       NaN  173800   NaN   NaN        NaN NaN   NaN  \n",
      "2023-01-06        NaN       NaN  150100   NaN   NaN        NaN NaN   NaN  \n",
      "2023-01-09        NaN       NaN  278900   NaN   NaN        NaN NaN   NaN  \n",
      "...               ...       ...     ...   ...   ...        ...  ..   ...  \n",
      "2023-12-22        NaN       NaN  243400   NaN   NaN        NaN NaN   NaN  \n",
      "2023-12-26        NaN       NaN  286600   NaN   NaN        NaN NaN   NaN  \n",
      "2023-12-27        NaN       NaN  412000   NaN   NaN        NaN NaN   NaN  \n",
      "2023-12-28        NaN       NaN  464700   NaN   NaN        NaN NaN   NaN  \n",
      "2023-12-29        NaN       NaN  567900   NaN   NaN        NaN NaN   NaN  \n",
      "\n",
      "[250 rows x 300 columns]\n"
     ]
    }
   ],
   "source": [
    "import yfinance as yf\n",
    "import pandas as pd\n",
    "\n",
    "def get_nifty50_stocks():\n",
    "    # Download the Nifty 50 list from Wikipedia\n",
    "    nifty50_wiki_url = \"https://en.wikipedia.org/wiki/NIFTY_50\"\n",
    "    nifty50_tables = pd.read_html(nifty50_wiki_url)\n",
    "\n",
    "    # Find the correct table containing the Nifty 50 symbols\n",
    "    for table in nifty50_tables:\n",
    "        if 'Symbol' in table.columns:\n",
    "            nifty50_symbols = table['Symbol'].tolist()\n",
    "            break\n",
    "    else:\n",
    "        raise ValueError(\"Nifty 50 symbols not found in any table on the Wikipedia page.\")\n",
    "\n",
    "    # Save the list to a CSV file\n",
    "    nifty50_df = pd.DataFrame({'Symbol': nifty50_symbols})\n",
    "    nifty50_df.to_csv('nifty50_stocks.csv', index=False)\n",
    "\n",
    "    # Fetch stock data using yfinance\n",
    "    nifty50_data = yf.download(nifty50_symbols, start=\"2023-01-01\", end=\"2024-01-01\")\n",
    "\n",
    "    return nifty50_data\n",
    "\n",
    "# Example usage\n",
    "nifty50_stocks_data = get_nifty50_stocks()\n",
    "print(nifty50_stocks_data)\n"
   ]
  },
  {
   "cell_type": "code",
   "execution_count": 5,
   "id": "a52fc101-f48c-49bb-b3da-2b895269efe3",
   "metadata": {},
   "outputs": [
    {
     "name": "stdout",
     "output_type": "stream",
     "text": [
      "Requirement already satisfied: requests in /home/tikam/stock-market/env3/lib/python3.10/site-packages (2.31.0)\n",
      "Requirement already satisfied: beautifulsoup4 in /home/tikam/stock-market/env3/lib/python3.10/site-packages (4.12.3)\n",
      "Requirement already satisfied: charset-normalizer<4,>=2 in /home/tikam/stock-market/env3/lib/python3.10/site-packages (from requests) (3.3.2)\n",
      "Requirement already satisfied: idna<4,>=2.5 in /home/tikam/stock-market/env3/lib/python3.10/site-packages (from requests) (3.6)\n",
      "Requirement already satisfied: urllib3<3,>=1.21.1 in /home/tikam/stock-market/env3/lib/python3.10/site-packages (from requests) (2.1.0)\n",
      "Requirement already satisfied: certifi>=2017.4.17 in /home/tikam/stock-market/env3/lib/python3.10/site-packages (from requests) (2023.11.17)\n",
      "Requirement already satisfied: soupsieve>1.2 in /home/tikam/stock-market/env3/lib/python3.10/site-packages (from beautifulsoup4) (2.5)\n"
     ]
    }
   ],
   "source": [
    "!pip install requests beautifulsoup4\n"
   ]
  },
  {
   "cell_type": "markdown",
   "id": "8a2d7b1d-3b2f-45e9-b9c5-0fb4bf1238f8",
   "metadata": {},
   "source": [
    "## Cleaning Data"
   ]
  },
  {
   "cell_type": "code",
   "execution_count": 2,
   "id": "90ac866e-8d56-4a04-b562-1b82be634d6f",
   "metadata": {},
   "outputs": [
    {
     "name": "stdout",
     "output_type": "stream",
     "text": [
      "Symbol list saved to niftysmallcap500.txt\n"
     ]
    }
   ],
   "source": [
    "import pandas as pd\n",
    "\n",
    "# Read the CSV file\n",
    "df = pd.read_csv('./ind_nifty500list.csv')\n",
    "\n",
    "# Extract the 'Symbol' column and append \".NS\" to each symbol\n",
    "symbols = [symbol + '.NS' for symbol in df['Symbol']]\n",
    "\n",
    "# Save the list of symbols to a file in the specified format\n",
    "output_file = 'niftysmallcap500.txt'\n",
    "with open(output_file, 'w') as file:\n",
    "    file.write(str(symbols))\n",
    "\n",
    "print(f\"Symbol list saved to {output_file}\")\n"
   ]
  },
  {
   "cell_type": "markdown",
   "id": "622623c7-54de-453f-a597-57c504fa3a0f",
   "metadata": {},
   "source": [
    "## Download data yfinance\n"
   ]
  },
  {
   "cell_type": "code",
   "execution_count": null,
   "id": "7d5fc894-1558-4bc3-bbe9-aa22551b4c4e",
   "metadata": {},
   "outputs": [],
   "source": [
    "mport pandas as pd\n",
    "import numpy as np\n",
    "# import the core package\n",
    "import yfinance as yf\n",
    "\n",
    "# set the time period of which you want to retrieve the ticker data\n",
    "PeriodStart = \"2015-01-01\"\n",
    "PeriodEnd  = \"2022-12-24\"\n",
    "# put your tickers in a list\n",
    "tickerlist = [\"AAL\", \"UAL\", \"DAL\"]\n",
    "\n",
    "# I'm only taking the adjusted close price here which has been adjusted to any stock splits/dividends, etc. \n",
    "df = yf.download(tickerlist, start = PeriodStart, end = PeriodEnd)['Adj Close']\n",
    "df.head()"
   ]
  },
  {
   "cell_type": "code",
   "execution_count": null,
   "id": "cbde20c8-7cff-412c-8968-70045a021889",
   "metadata": {},
   "outputs": [],
   "source": []
  }
 ],
 "metadata": {
  "kernelspec": {
   "display_name": "Python 3 (ipykernel)",
   "language": "python",
   "name": "python3"
  },
  "language_info": {
   "codemirror_mode": {
    "name": "ipython",
    "version": 3
   },
   "file_extension": ".py",
   "mimetype": "text/x-python",
   "name": "python",
   "nbconvert_exporter": "python",
   "pygments_lexer": "ipython3",
   "version": "3.10.12"
  }
 },
 "nbformat": 4,
 "nbformat_minor": 5
}
