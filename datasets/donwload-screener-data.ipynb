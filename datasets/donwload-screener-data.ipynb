{
 "cells": [
  {
   "cell_type": "markdown",
   "id": "7d377454-6310-4f66-accd-44a368d2d824",
   "metadata": {},
   "source": [
    "## Download Company data in excel sheet"
   ]
  },
  {
   "cell_type": "code",
   "execution_count": 44,
   "id": "a41479ab-b8c7-4cd8-a0a3-530773dc7439",
   "metadata": {},
   "outputs": [
    {
     "name": "stdout",
     "output_type": "stream",
     "text": [
      "File downloaded successfully.\n"
     ]
    }
   ],
   "source": [
    "import requests\n",
    "\n",
    "# Replace this URL with the actual URL\n",
    "url = \"https://www.screener.in/user/company/export/6597649/\"\n",
    "\n",
    "# Replace this payload with the actual csrfmiddlewaretoken value\n",
    "payload = {\n",
    "    'csrfmiddlewaretoken': 'cmfHDrRznDB5CXAGVFcQ4bHnWXdSEg3jCZWQJ3TRweOLkn1EcHI6r3RvcOWUMcLp',\n",
    "    'next': '/company/NMDC/consolidated/'\n",
    "}\n",
    "\n",
    "# Replace this with the actual cookie value\n",
    "cookies = {\n",
    "    'csrftoken': 'ANRjgMcsjLnQSAB8rcGqx2kiq1Tci6Sg',\n",
    "    'sessionid': 'gsblyiotrq9442ka3t5vo75c9so0lm63'\n",
    "}\n",
    "\n",
    "# Replace this with the actual user-agent value\n",
    "headers = {\n",
    "    'User-Agent': 'Mozilla/5.0 (X11; Linux x86_64) AppleWebKit/537.36 (KHTML, like Gecko) Chrome/121.0.0.0 Safari/537.36',\n",
    "    'Content-Type': 'application/x-www-form-urlencoded',\n",
    "    'Referer': 'https://www.screener.in/company/NMDC/consolidated/',  # Add the referer URL here\n",
    "}\n",
    "\n",
    "# Send the POST request\n",
    "response = requests.post(url, data=payload, headers=headers, cookies=cookies)\n",
    "\n",
    "# Check if the request was successful (Status Code 200)\n",
    "if response.status_code == 200:\n",
    "    # Save the content of the response to a file\n",
    "    with open('NMDC.xlsx', 'wb') as file:\n",
    "        file.write(response.content)\n",
    "    print(\"File downloaded successfully.\")\n",
    "else:\n",
    "    print(f\"Error: {response.status_code} - {response.text}\")\n"
   ]
  },
  {
   "cell_type": "code",
   "execution_count": 34,
   "id": "9299164b-c464-447e-ae38-852fcc8fd305",
   "metadata": {},
   "outputs": [
    {
     "name": "stdout",
     "output_type": "stream",
     "text": [
      "File for IOC downloaded successfully.\n"
     ]
    }
   ],
   "source": [
    "import requests\n",
    "\n",
    "def download_excel(company_name):\n",
    "    # Construct the correct URL based on the website's structure\n",
    "    url = f\"https://www.screener.in/company/{company_name}/\"\n",
    "\n",
    "    # Replace this payload with the actual csrfmiddlewaretoken value\n",
    "    payload = {\n",
    "        'csrfmiddlewaretoken': 'cmfHDrRznDB5CXAGVFcQ4bHnWXdSEg3jCZWQJ3TRweOLkn1EcHI6r3RvcOWUMcLp',\n",
    "        'next': f'/company/{company_name}/consolidated/'\n",
    "    }\n",
    "\n",
    "    # Replace this with the actual cookie value\n",
    "    cookies = {\n",
    "        'csrftoken': 'ANRjgMcsjLnQSAB8rcGqx2kiq1Tci6Sg',\n",
    "        'sessionid': 'gsblyiotrq9442ka3t5vo75c9so0lm63'\n",
    "    }\n",
    "\n",
    "    # Replace this with the actual user-agent value\n",
    "    headers = {\n",
    "        'User-Agent': 'Mozilla/5.0 (X11; Linux x86_64) AppleWebKit/537.36 (KHTML, like Gecko) Chrome/121.0.0.0 Safari/537.36',\n",
    "        'Content-Type': 'application/x-www-form-urlencoded',\n",
    "        'Referer': f'https://www.screener.in/company/{company_name}/consolidated/',  # Add the referer URL here\n",
    "    }\n",
    "\n",
    "    # Send the POST request\n",
    "    response = requests.post(url, data=payload, headers=headers, cookies=cookies)\n",
    "\n",
    "    # Check if the request was successful (Status Code 200)\n",
    "    if response.status_code == 200:\n",
    "        # Save the content of the response to a file\n",
    "        with open(f'{company_name}.xlsx', 'wb') as file:\n",
    "            file.write(response.content)\n",
    "        print(f\"File for {company_name} downloaded successfully.\")\n",
    "    else:\n",
    "        print(f\"Error for {company_name}: {response.status_code} - {response.text}\")\n",
    "\n",
    "# Example usage:\n",
    "company_name = \"IOC\"  # Replace this with the desired company name\n",
    "download_excel(company_name)\n"
   ]
  },
  {
   "cell_type": "code",
   "execution_count": 37,
   "id": "bfebf8be-3cef-4565-a50d-9f6ec6f64286",
   "metadata": {},
   "outputs": [
    {
     "name": "stdout",
     "output_type": "stream",
     "text": [
      "File for IOC downloaded successfully at datasets/IOC.xlsx\n"
     ]
    }
   ],
   "source": [
    "import requests\n",
    "\n",
    "def download_excel(company_name, download_path=\"\"):\n",
    "    # Construct the correct URL based on the website's structure\n",
    "    url = f\"https://www.screener.in/company/{company_name}/\"\n",
    "\n",
    "    # Replace this payload with the actual csrfmiddlewaretoken value\n",
    "    payload = {\n",
    "        'csrfmiddlewaretoken': 'cmfHDrRznDB5CXAGVFcQ4bHnWXdSEg3jCZWQJ3TRweOLkn1EcHI6r3RvcOWUMcLp',\n",
    "        'next': f'/company/{company_name}/consolidated/'\n",
    "    }\n",
    "\n",
    "    # Replace this with the actual cookie value\n",
    "    cookies = {\n",
    "        'csrftoken': 'ANRjgMcsjLnQSAB8rcGqx2kiq1Tci6Sg',\n",
    "        'sessionid': 'gsblyiotrq9442ka3t5vo75c9so0lm63'\n",
    "    }\n",
    "\n",
    "    # Replace this with the actual user-agent value\n",
    "    headers = {\n",
    "        'User-Agent': 'Mozilla/5.0 (X11; Linux x86_64) AppleWebKit/537.36 (KHTML, like Gecko) Chrome/121.0.0.0 Safari/537.36',\n",
    "        'Content-Type': 'application/x-www-form-urlencoded',\n",
    "        'Referer': f'https://www.screener.in/company/{company_name}/consolidated/',  # Add the referer URL here\n",
    "    }\n",
    "\n",
    "    # Send the POST request\n",
    "    response = requests.post(url, data=payload, headers=headers, cookies=cookies)\n",
    "\n",
    "    # Check if the request was successful (Status Code 200)\n",
    "    if response.status_code == 200:\n",
    "        # Specify the download path\n",
    "        file_path = f'{download_path}/{company_name}.xlsx' if download_path else f'{company_name}.xlsx'\n",
    "        \n",
    "        # Save the content of the response to a file\n",
    "        with open(file_path, 'wb') as file:\n",
    "            file.write(response.content)\n",
    "        print(f\"File for {company_name} downloaded successfully at {file_path}\")\n",
    "    else:\n",
    "        print(f\"Error for {company_name}: {response.status_code} - {response.text}\")\n",
    "\n",
    "# Example usage:\n",
    "company_name = \"IOC\"  # Replace this with the desired company name\n",
    "download_path = \"datasets\"  # Replace this with the desired download path\n",
    "download_excel(company_name, download_path)\n"
   ]
  },
  {
   "cell_type": "markdown",
   "id": "d473356a-4e2c-445b-9f04-8cb0c3a759bc",
   "metadata": {},
   "source": [
    "## Download multiple company data"
   ]
  },
  {
   "cell_type": "code",
   "execution_count": 43,
   "id": "72686871-e2db-4bf4-a92a-79d2f262d5d1",
   "metadata": {},
   "outputs": [
    {
     "name": "stdout",
     "output_type": "stream",
     "text": [
      "File for IOC downloaded successfully at datasets/IOC.xlsx\n",
      "File for TCS downloaded successfully at datasets/TCS.xlsx\n",
      "File for HDFC downloaded successfully at datasets/HDFC.xlsx\n"
     ]
    }
   ],
   "source": [
    "import requests\n",
    "import time\n",
    "\n",
    "def download_excel(company_name, download_path=\"\"):\n",
    "    # Construct the correct URL based on the website's structure\n",
    "    url = f\"https://www.screener.in/company/{company_name}/\"\n",
    "\n",
    "    # Replace this payload with the actual csrfmiddlewaretoken value\n",
    "    payload = {\n",
    "        'csrfmiddlewaretoken': 'cmfHDrRznDB5CXAGVFcQ4bHnWXdSEg3jCZWQJ3TRweOLkn1EcHI6r3RvcOWUMcLp',\n",
    "        'next': f'/company/{company_name}/consolidated/'\n",
    "    }\n",
    "\n",
    "    # Replace this with the actual cookie value\n",
    "    cookies = {\n",
    "        'csrftoken': 'ANRjgMcsjLnQSAB8rcGqx2kiq1Tci6Sg',\n",
    "        'sessionid': 'gsblyiotrq9442ka3t5vo75c9so0lm63'\n",
    "    }\n",
    "\n",
    "    # Replace this with the actual user-agent value\n",
    "    headers = {\n",
    "        'User-Agent': 'Mozilla/5.0 (X11; Linux x86_64) AppleWebKit/537.36 (KHTML, like Gecko) Chrome/121.0.0.0 Safari/537.36',\n",
    "        'Content-Type': 'application/x-www-form-urlencoded',\n",
    "        'Referer': f'https://www.screener.in/company/{company_name}/consolidated/',  # Add the referer URL here\n",
    "    }\n",
    "\n",
    "    # Send the POST request\n",
    "    response = requests.post(url, data=payload, headers=headers, cookies=cookies)\n",
    "\n",
    "    # Check if the request was successful (Status Code 200)\n",
    "    if response.status_code == 200:\n",
    "        # Specify the download path\n",
    "        file_path = f'{download_path}/{company_name}.xlsx' if download_path else f'{company_name}.xlsx'\n",
    "        \n",
    "        # Save the content of the response to a file\n",
    "        with open(file_path, 'wb') as file:\n",
    "            file.write(response.content)\n",
    "        print(f\"File for {company_name} downloaded successfully at {file_path}\")\n",
    "    else:\n",
    "        print(f\"Error for {company_name}: {response.status_code} - {response.text}\")\n",
    "\n",
    "# Example usage for multiple companies:\n",
    "company_names = [\"IOC\", \"TCS\", \"HDFC\"]  # Replace this with a list of desired company names\n",
    "download_path = \"datasets\"  # Replace this with the desired download path\n",
    "\n",
    "for company_name in company_names:\n",
    "    download_excel(company_name, download_path)\n",
    "    # Wait for some time before starting the next download (adjust as needed)\n",
    "    time.sleep(5)  # Pause for 5 seconds before the next download\n"
   ]
  },
  {
   "cell_type": "code",
   "execution_count": 46,
   "id": "8f43acde-66c3-4426-acd6-6179b622e3dd",
   "metadata": {},
   "outputs": [
    {
     "name": "stdout",
     "output_type": "stream",
     "text": [
      "Tables extracted and saved as Excel files.\n"
     ]
    }
   ],
   "source": [
    "import pandas as pd\n",
    "from bs4 import BeautifulSoup\n",
    "\n",
    "# Read HTML content from the downloaded file\n",
    "with open('IOC.xlsx', 'rb') as file:\n",
    "    html_content = file.read()\n",
    "\n",
    "# Parse HTML content using BeautifulSoup\n",
    "soup = BeautifulSoup(html_content, 'html.parser')\n",
    "\n",
    "# Extract data from HTML tables using pandas\n",
    "tables = pd.read_html(str(soup))\n",
    "\n",
    "# Convert each table to an Excel file\n",
    "for i, table in enumerate(tables):\n",
    "    table.to_excel(f'table_{i + 1}.xlsx', index=False)\n",
    "\n",
    "print(\"Tables extracted and saved as Excel files.\")\n"
   ]
  },
  {
   "cell_type": "code",
   "execution_count": null,
   "id": "31762b5e-d9ee-495f-b389-619cdb10cd8e",
   "metadata": {},
   "outputs": [],
   "source": []
  }
 ],
 "metadata": {
  "kernelspec": {
   "display_name": "Python 3 (ipykernel)",
   "language": "python",
   "name": "python3"
  },
  "language_info": {
   "codemirror_mode": {
    "name": "ipython",
    "version": 3
   },
   "file_extension": ".py",
   "mimetype": "text/x-python",
   "name": "python",
   "nbconvert_exporter": "python",
   "pygments_lexer": "ipython3",
   "version": "3.10.12"
  }
 },
 "nbformat": 4,
 "nbformat_minor": 5
}
