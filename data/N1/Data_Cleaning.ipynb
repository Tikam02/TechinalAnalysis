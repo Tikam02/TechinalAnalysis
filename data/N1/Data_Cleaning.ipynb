{
 "cells": [
  {
   "cell_type": "code",
   "execution_count": 1,
   "id": "4834c05c-a3f5-48b2-8284-6b321680add1",
   "metadata": {},
   "outputs": [],
   "source": [
    "# Update \".NS\""
   ]
  },
  {
   "cell_type": "code",
   "execution_count": 2,
   "id": "75482dad-7dc8-4f46-9545-aee032a26fd8",
   "metadata": {},
   "outputs": [],
   "source": [
    "import pandas as pd\n",
    "\n",
    "# Read the CSV file into a DataFrame\n",
    "df = pd.read_csv('./ind_niftytotalmarket_list.csv')\n",
    "\n",
    "# Append '.NS' to the 'Symbol' column\n",
    "df['Symbol'] = df['Symbol'] + '.NS'\n",
    "\n",
    "# Save the updated DataFrame back to a CSV file\n",
    "df.to_csv('./niftytotal750.csv', index=False)\n"
   ]
  },
  {
   "cell_type": "code",
   "execution_count": null,
   "id": "725b23da-f9bc-4b3d-806f-7385fb829086",
   "metadata": {},
   "outputs": [],
   "source": []
  }
 ],
 "metadata": {
  "kernelspec": {
   "display_name": "Python 3 (ipykernel)",
   "language": "python",
   "name": "python3"
  },
  "language_info": {
   "codemirror_mode": {
    "name": "ipython",
    "version": 3
   },
   "file_extension": ".py",
   "mimetype": "text/x-python",
   "name": "python",
   "nbconvert_exporter": "python",
   "pygments_lexer": "ipython3",
   "version": "3.10.12"
  }
 },
 "nbformat": 4,
 "nbformat_minor": 5
}
